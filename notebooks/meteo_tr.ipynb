{
 "cells": [
  {
   "cell_type": "code",
   "execution_count": 1,
   "metadata": {},
   "outputs": [],
   "source": [
    "import polars as pl\n",
    "import requests"
   ]
  },
  {
   "cell_type": "code",
   "execution_count": 2,
   "metadata": {},
   "outputs": [
    {
     "data": {
      "text/plain": [
       "(94, 56)"
      ]
     },
     "execution_count": 2,
     "metadata": {},
     "output_type": "execute_result"
    }
   ],
   "source": [
    "url = 'https://datos.madrid.es/egob/catalogo/300392-11041819-meteorologia-tiempo-real.csv'\n",
    "\n",
    "dfp = pl.read_csv(url, separator=';', encoding='utf8')\n",
    "\n",
    "dfp.shape"
   ]
  },
  {
   "cell_type": "code",
   "execution_count": 3,
   "metadata": {},
   "outputs": [
    {
     "data": {
      "text/html": [
       "<div><style>\n",
       ".dataframe > thead > tr,\n",
       ".dataframe > tbody > tr {\n",
       "  text-align: right;\n",
       "  white-space: pre-wrap;\n",
       "}\n",
       "</style>\n",
       "<small>shape: (5, 56)</small><table border=\"1\" class=\"dataframe\"><thead><tr><th>PROVINCIA</th><th>MUNICIPIO</th><th>ESTACION</th><th>MAGNITUD</th><th>PUNTO_MUESTREO</th><th>ANO</th><th>MES</th><th>DIA</th><th>H01</th><th>V01</th><th>H02</th><th>V02</th><th>H03</th><th>V03</th><th>H04</th><th>V04</th><th>H05</th><th>V05</th><th>H06</th><th>V06</th><th>H07</th><th>V07</th><th>H08</th><th>V08</th><th>H09</th><th>V09</th><th>H10</th><th>V10</th><th>H11</th><th>V11</th><th>H12</th><th>V12</th><th>H13</th><th>V13</th><th>H14</th><th>V14</th><th>H15</th><th>V15</th><th>H16</th><th>V16</th><th>H17</th><th>V17</th><th>H18</th><th>V18</th><th>H19</th><th>V19</th><th>H20</th><th>V20</th><th>H21</th><th>V21</th><th>H22</th><th>V22</th><th>H23</th><th>V23</th><th>H24</th><th>V24</th></tr><tr><td>i64</td><td>i64</td><td>i64</td><td>i64</td><td>str</td><td>i64</td><td>i64</td><td>i64</td><td>f64</td><td>str</td><td>f64</td><td>str</td><td>f64</td><td>str</td><td>f64</td><td>str</td><td>f64</td><td>str</td><td>f64</td><td>str</td><td>f64</td><td>str</td><td>f64</td><td>str</td><td>f64</td><td>str</td><td>f64</td><td>str</td><td>f64</td><td>str</td><td>f64</td><td>str</td><td>f64</td><td>str</td><td>f64</td><td>str</td><td>f64</td><td>str</td><td>f64</td><td>str</td><td>f64</td><td>str</td><td>i64</td><td>str</td><td>i64</td><td>str</td><td>i64</td><td>str</td><td>i64</td><td>str</td><td>i64</td><td>str</td><td>i64</td><td>str</td><td>i64</td><td>str</td></tr></thead><tbody><tr><td>28</td><td>79</td><td>102</td><td>81</td><td>&quot;28079102_81_98&quot;</td><td>2024</td><td>12</td><td>20</td><td>2.85</td><td>&quot;V&quot;</td><td>2.77</td><td>&quot;V&quot;</td><td>2.18</td><td>&quot;V&quot;</td><td>1.7</td><td>&quot;V&quot;</td><td>1.0</td><td>&quot;V&quot;</td><td>0.53</td><td>&quot;V&quot;</td><td>0.5</td><td>&quot;V&quot;</td><td>0.68</td><td>&quot;V&quot;</td><td>0.53</td><td>&quot;V&quot;</td><td>0.38</td><td>&quot;V&quot;</td><td>0.77</td><td>&quot;V&quot;</td><td>0.7</td><td>&quot;V&quot;</td><td>1.2</td><td>&quot;V&quot;</td><td>1.35</td><td>&quot;V&quot;</td><td>1.75</td><td>&quot;V&quot;</td><td>2.32</td><td>&quot;V&quot;</td><td>2.2</td><td>&quot;N&quot;</td><td>0</td><td>&quot;N&quot;</td><td>0</td><td>&quot;N&quot;</td><td>0</td><td>&quot;N&quot;</td><td>0</td><td>&quot;N&quot;</td><td>0</td><td>&quot;N&quot;</td><td>0</td><td>&quot;N&quot;</td><td>0</td><td>&quot;N&quot;</td></tr><tr><td>28</td><td>79</td><td>102</td><td>82</td><td>&quot;28079102_82_98&quot;</td><td>2024</td><td>12</td><td>20</td><td>36.0</td><td>&quot;V&quot;</td><td>47.0</td><td>&quot;V&quot;</td><td>62.0</td><td>&quot;V&quot;</td><td>49.0</td><td>&quot;V&quot;</td><td>32.0</td><td>&quot;V&quot;</td><td>117.0</td><td>&quot;V&quot;</td><td>248.0</td><td>&quot;V&quot;</td><td>270.0</td><td>&quot;V&quot;</td><td>165.0</td><td>&quot;V&quot;</td><td>132.0</td><td>&quot;V&quot;</td><td>142.0</td><td>&quot;V&quot;</td><td>8.0</td><td>&quot;V&quot;</td><td>286.0</td><td>&quot;V&quot;</td><td>50.0</td><td>&quot;V&quot;</td><td>0.0</td><td>&quot;V&quot;</td><td>11.0</td><td>&quot;V&quot;</td><td>15.0</td><td>&quot;N&quot;</td><td>0</td><td>&quot;N&quot;</td><td>0</td><td>&quot;N&quot;</td><td>0</td><td>&quot;N&quot;</td><td>0</td><td>&quot;N&quot;</td><td>0</td><td>&quot;N&quot;</td><td>0</td><td>&quot;N&quot;</td><td>0</td><td>&quot;N&quot;</td></tr><tr><td>28</td><td>79</td><td>102</td><td>83</td><td>&quot;28079102_83_98&quot;</td><td>2024</td><td>12</td><td>20</td><td>3.7</td><td>&quot;V&quot;</td><td>3.4</td><td>&quot;V&quot;</td><td>2.6</td><td>&quot;V&quot;</td><td>2.4</td><td>&quot;V&quot;</td><td>1.8</td><td>&quot;V&quot;</td><td>1.0</td><td>&quot;V&quot;</td><td>0.4</td><td>&quot;V&quot;</td><td>0.1</td><td>&quot;V&quot;</td><td>0.5</td><td>&quot;V&quot;</td><td>3.2</td><td>&quot;V&quot;</td><td>4.3</td><td>&quot;V&quot;</td><td>6.0</td><td>&quot;V&quot;</td><td>6.6</td><td>&quot;V&quot;</td><td>7.6</td><td>&quot;V&quot;</td><td>7.8</td><td>&quot;V&quot;</td><td>7.7</td><td>&quot;V&quot;</td><td>7.6</td><td>&quot;N&quot;</td><td>0</td><td>&quot;N&quot;</td><td>0</td><td>&quot;N&quot;</td><td>0</td><td>&quot;N&quot;</td><td>0</td><td>&quot;N&quot;</td><td>0</td><td>&quot;N&quot;</td><td>0</td><td>&quot;N&quot;</td><td>0</td><td>&quot;N&quot;</td></tr><tr><td>28</td><td>79</td><td>102</td><td>86</td><td>&quot;28079102_86_98&quot;</td><td>2024</td><td>12</td><td>20</td><td>58.0</td><td>&quot;V&quot;</td><td>57.0</td><td>&quot;V&quot;</td><td>60.0</td><td>&quot;V&quot;</td><td>60.0</td><td>&quot;V&quot;</td><td>62.0</td><td>&quot;V&quot;</td><td>66.0</td><td>&quot;V&quot;</td><td>70.0</td><td>&quot;V&quot;</td><td>73.0</td><td>&quot;V&quot;</td><td>72.0</td><td>&quot;V&quot;</td><td>61.0</td><td>&quot;V&quot;</td><td>56.0</td><td>&quot;V&quot;</td><td>51.0</td><td>&quot;V&quot;</td><td>47.0</td><td>&quot;V&quot;</td><td>42.0</td><td>&quot;V&quot;</td><td>44.0</td><td>&quot;V&quot;</td><td>44.0</td><td>&quot;V&quot;</td><td>46.0</td><td>&quot;N&quot;</td><td>0</td><td>&quot;N&quot;</td><td>0</td><td>&quot;N&quot;</td><td>0</td><td>&quot;N&quot;</td><td>0</td><td>&quot;N&quot;</td><td>0</td><td>&quot;N&quot;</td><td>0</td><td>&quot;N&quot;</td><td>0</td><td>&quot;N&quot;</td></tr><tr><td>28</td><td>79</td><td>102</td><td>87</td><td>&quot;28079102_87_98&quot;</td><td>2024</td><td>12</td><td>20</td><td>947.0</td><td>&quot;V&quot;</td><td>947.0</td><td>&quot;V&quot;</td><td>947.0</td><td>&quot;V&quot;</td><td>947.0</td><td>&quot;V&quot;</td><td>947.0</td><td>&quot;V&quot;</td><td>947.0</td><td>&quot;V&quot;</td><td>947.0</td><td>&quot;V&quot;</td><td>948.0</td><td>&quot;V&quot;</td><td>948.0</td><td>&quot;V&quot;</td><td>949.0</td><td>&quot;V&quot;</td><td>949.0</td><td>&quot;V&quot;</td><td>949.0</td><td>&quot;V&quot;</td><td>948.0</td><td>&quot;V&quot;</td><td>948.0</td><td>&quot;V&quot;</td><td>947.0</td><td>&quot;V&quot;</td><td>947.0</td><td>&quot;V&quot;</td><td>947.0</td><td>&quot;N&quot;</td><td>0</td><td>&quot;N&quot;</td><td>0</td><td>&quot;N&quot;</td><td>0</td><td>&quot;N&quot;</td><td>0</td><td>&quot;N&quot;</td><td>0</td><td>&quot;N&quot;</td><td>0</td><td>&quot;N&quot;</td><td>0</td><td>&quot;N&quot;</td></tr></tbody></table></div>"
      ],
      "text/plain": [
       "shape: (5, 56)\n",
       "┌───────────┬───────────┬──────────┬──────────┬───┬─────┬─────┬─────┬─────┐\n",
       "│ PROVINCIA ┆ MUNICIPIO ┆ ESTACION ┆ MAGNITUD ┆ … ┆ H23 ┆ V23 ┆ H24 ┆ V24 │\n",
       "│ ---       ┆ ---       ┆ ---      ┆ ---      ┆   ┆ --- ┆ --- ┆ --- ┆ --- │\n",
       "│ i64       ┆ i64       ┆ i64      ┆ i64      ┆   ┆ i64 ┆ str ┆ i64 ┆ str │\n",
       "╞═══════════╪═══════════╪══════════╪══════════╪═══╪═════╪═════╪═════╪═════╡\n",
       "│ 28        ┆ 79        ┆ 102      ┆ 81       ┆ … ┆ 0   ┆ N   ┆ 0   ┆ N   │\n",
       "│ 28        ┆ 79        ┆ 102      ┆ 82       ┆ … ┆ 0   ┆ N   ┆ 0   ┆ N   │\n",
       "│ 28        ┆ 79        ┆ 102      ┆ 83       ┆ … ┆ 0   ┆ N   ┆ 0   ┆ N   │\n",
       "│ 28        ┆ 79        ┆ 102      ┆ 86       ┆ … ┆ 0   ┆ N   ┆ 0   ┆ N   │\n",
       "│ 28        ┆ 79        ┆ 102      ┆ 87       ┆ … ┆ 0   ┆ N   ┆ 0   ┆ N   │\n",
       "└───────────┴───────────┴──────────┴──────────┴───┴─────┴─────┴─────┴─────┘"
      ]
     },
     "execution_count": 3,
     "metadata": {},
     "output_type": "execute_result"
    }
   ],
   "source": [
    "dfp.head()"
   ]
  },
  {
   "cell_type": "code",
   "execution_count": 4,
   "metadata": {},
   "outputs": [
    {
     "data": {
      "text/html": [
       "<div><style>\n",
       ".dataframe > thead > tr,\n",
       ".dataframe > tbody > tr {\n",
       "  text-align: right;\n",
       "  white-space: pre-wrap;\n",
       "}\n",
       "</style>\n",
       "<small>shape: (24, 13)</small><table border=\"1\" class=\"dataframe\"><thead><tr><th>PROVINCIA</th><th>MUNICIPIO</th><th>ESTACION</th><th>MAGNITUD</th><th>PUNTO_MUESTREO</th><th>ANO</th><th>MES</th><th>DIA</th><th>HORA</th><th>H</th><th>V</th><th>DATE</th><th>DATETIME</th></tr><tr><td>i64</td><td>i64</td><td>i64</td><td>i64</td><td>str</td><td>i64</td><td>i64</td><td>i64</td><td>i64</td><td>f64</td><td>str</td><td>date</td><td>datetime[μs]</td></tr></thead><tbody><tr><td>28</td><td>79</td><td>8</td><td>83</td><td>&quot;28079008_83_98&quot;</td><td>2024</td><td>12</td><td>20</td><td>1</td><td>7.5</td><td>&quot;V&quot;</td><td>2024-12-20</td><td>2024-12-20 00:00:00</td></tr><tr><td>28</td><td>79</td><td>8</td><td>83</td><td>&quot;28079008_83_98&quot;</td><td>2024</td><td>12</td><td>20</td><td>2</td><td>7.1</td><td>&quot;V&quot;</td><td>2024-12-20</td><td>2024-12-20 01:00:00</td></tr><tr><td>28</td><td>79</td><td>8</td><td>83</td><td>&quot;28079008_83_98&quot;</td><td>2024</td><td>12</td><td>20</td><td>3</td><td>6.7</td><td>&quot;V&quot;</td><td>2024-12-20</td><td>2024-12-20 02:00:00</td></tr><tr><td>28</td><td>79</td><td>8</td><td>83</td><td>&quot;28079008_83_98&quot;</td><td>2024</td><td>12</td><td>20</td><td>4</td><td>6.2</td><td>&quot;V&quot;</td><td>2024-12-20</td><td>2024-12-20 03:00:00</td></tr><tr><td>28</td><td>79</td><td>8</td><td>83</td><td>&quot;28079008_83_98&quot;</td><td>2024</td><td>12</td><td>20</td><td>5</td><td>4.9</td><td>&quot;V&quot;</td><td>2024-12-20</td><td>2024-12-20 04:00:00</td></tr><tr><td>&hellip;</td><td>&hellip;</td><td>&hellip;</td><td>&hellip;</td><td>&hellip;</td><td>&hellip;</td><td>&hellip;</td><td>&hellip;</td><td>&hellip;</td><td>&hellip;</td><td>&hellip;</td><td>&hellip;</td><td>&hellip;</td></tr><tr><td>28</td><td>79</td><td>8</td><td>83</td><td>&quot;28079008_83_98&quot;</td><td>2024</td><td>12</td><td>20</td><td>20</td><td>0.0</td><td>&quot;N&quot;</td><td>2024-12-20</td><td>2024-12-20 19:00:00</td></tr><tr><td>28</td><td>79</td><td>8</td><td>83</td><td>&quot;28079008_83_98&quot;</td><td>2024</td><td>12</td><td>20</td><td>21</td><td>0.0</td><td>&quot;N&quot;</td><td>2024-12-20</td><td>2024-12-20 20:00:00</td></tr><tr><td>28</td><td>79</td><td>8</td><td>83</td><td>&quot;28079008_83_98&quot;</td><td>2024</td><td>12</td><td>20</td><td>22</td><td>0.0</td><td>&quot;N&quot;</td><td>2024-12-20</td><td>2024-12-20 21:00:00</td></tr><tr><td>28</td><td>79</td><td>8</td><td>83</td><td>&quot;28079008_83_98&quot;</td><td>2024</td><td>12</td><td>20</td><td>23</td><td>0.0</td><td>&quot;N&quot;</td><td>2024-12-20</td><td>2024-12-20 22:00:00</td></tr><tr><td>28</td><td>79</td><td>8</td><td>83</td><td>&quot;28079008_83_98&quot;</td><td>2024</td><td>12</td><td>20</td><td>24</td><td>0.0</td><td>&quot;N&quot;</td><td>2024-12-20</td><td>2024-12-20 23:00:00</td></tr></tbody></table></div>"
      ],
      "text/plain": [
       "shape: (24, 13)\n",
       "┌───────────┬───────────┬──────────┬──────────┬───┬─────┬─────┬────────────┬─────────────────────┐\n",
       "│ PROVINCIA ┆ MUNICIPIO ┆ ESTACION ┆ MAGNITUD ┆ … ┆ H   ┆ V   ┆ DATE       ┆ DATETIME            │\n",
       "│ ---       ┆ ---       ┆ ---      ┆ ---      ┆   ┆ --- ┆ --- ┆ ---        ┆ ---                 │\n",
       "│ i64       ┆ i64       ┆ i64      ┆ i64      ┆   ┆ f64 ┆ str ┆ date       ┆ datetime[μs]        │\n",
       "╞═══════════╪═══════════╪══════════╪══════════╪═══╪═════╪═════╪════════════╪═════════════════════╡\n",
       "│ 28        ┆ 79        ┆ 8        ┆ 83       ┆ … ┆ 7.5 ┆ V   ┆ 2024-12-20 ┆ 2024-12-20 00:00:00 │\n",
       "│ 28        ┆ 79        ┆ 8        ┆ 83       ┆ … ┆ 7.1 ┆ V   ┆ 2024-12-20 ┆ 2024-12-20 01:00:00 │\n",
       "│ 28        ┆ 79        ┆ 8        ┆ 83       ┆ … ┆ 6.7 ┆ V   ┆ 2024-12-20 ┆ 2024-12-20 02:00:00 │\n",
       "│ 28        ┆ 79        ┆ 8        ┆ 83       ┆ … ┆ 6.2 ┆ V   ┆ 2024-12-20 ┆ 2024-12-20 03:00:00 │\n",
       "│ 28        ┆ 79        ┆ 8        ┆ 83       ┆ … ┆ 4.9 ┆ V   ┆ 2024-12-20 ┆ 2024-12-20 04:00:00 │\n",
       "│ …         ┆ …         ┆ …        ┆ …        ┆ … ┆ …   ┆ …   ┆ …          ┆ …                   │\n",
       "│ 28        ┆ 79        ┆ 8        ┆ 83       ┆ … ┆ 0.0 ┆ N   ┆ 2024-12-20 ┆ 2024-12-20 19:00:00 │\n",
       "│ 28        ┆ 79        ┆ 8        ┆ 83       ┆ … ┆ 0.0 ┆ N   ┆ 2024-12-20 ┆ 2024-12-20 20:00:00 │\n",
       "│ 28        ┆ 79        ┆ 8        ┆ 83       ┆ … ┆ 0.0 ┆ N   ┆ 2024-12-20 ┆ 2024-12-20 21:00:00 │\n",
       "│ 28        ┆ 79        ┆ 8        ┆ 83       ┆ … ┆ 0.0 ┆ N   ┆ 2024-12-20 ┆ 2024-12-20 22:00:00 │\n",
       "│ 28        ┆ 79        ┆ 8        ┆ 83       ┆ … ┆ 0.0 ┆ N   ┆ 2024-12-20 ┆ 2024-12-20 23:00:00 │\n",
       "└───────────┴───────────┴──────────┴──────────┴───┴─────┴─────┴────────────┴─────────────────────┘"
      ]
     },
     "execution_count": 4,
     "metadata": {},
     "output_type": "execute_result"
    }
   ],
   "source": [
    "dfp1 = dfp.filter(ESTACION=8, MAGNITUD = 83 ) #estacion escuales aguirre, temperatura\n",
    "\n",
    "dfp2 =dfp1.unpivot(index = ['PROVINCIA',\t'MUNICIPIO',\t'ESTACION',\t'MAGNITUD'\t,'PUNTO_MUESTREO',\t'ANO',\t'MES','DIA'])\n",
    "\n",
    "dfp3 = dfp2.with_columns((pl.col('variable').str.slice(0,1)).alias('NV')).with_columns((pl.col('variable').str.slice(1)).alias('HORA'))\n",
    "\n",
    "dfp4 =(dfp3\n",
    "    .pivot(on='NV', values='value', index = ['PROVINCIA',\t'MUNICIPIO',\t'ESTACION',\t'MAGNITUD'\t,'PUNTO_MUESTREO',\t'ANO',\t'MES',\t'DIA', 'HORA'])\n",
    ")\n",
    "\n",
    "dfp5 = dfp4.with_columns(H = dfp4['H'].cast(float) ).with_columns(HORA = dfp4['HORA'].cast(int))\n",
    "\n",
    "dfp6 = dfp5.with_columns( (pl.date(pl.col('ANO'),pl.col('MES'),pl.col('DIA') )).alias('DATE'))\n",
    "\n",
    "\n",
    "dfp7 = dfp6.with_columns( (pl.datetime(year =pl.col('ANO'), month=pl.col('MES'),day=pl.col('DIA') ,hour=pl.col('HORA')-1)).alias('DATETIME'))\n",
    "dfp7"
   ]
  },
  {
   "cell_type": "code",
   "execution_count": 5,
   "metadata": {},
   "outputs": [
    {
     "data": {
      "text/html": [
       "<script type=\"esms-options\">{\"shimMode\": true}</script><style>*[data-root-id],\n",
       "*[data-root-id] > * {\n",
       "  box-sizing: border-box;\n",
       "  font-family: var(--jp-ui-font-family);\n",
       "  font-size: var(--jp-ui-font-size1);\n",
       "  color: var(--vscode-editor-foreground, var(--jp-ui-font-color1));\n",
       "}\n",
       "\n",
       "/* Override VSCode background color */\n",
       ".cell-output-ipywidget-background:has(\n",
       "    > .cell-output-ipywidget-background > .lm-Widget > *[data-root-id]\n",
       "  ),\n",
       ".cell-output-ipywidget-background:has(> .lm-Widget > *[data-root-id]) {\n",
       "  background-color: transparent !important;\n",
       "}\n",
       "</style>"
      ]
     },
     "metadata": {},
     "output_type": "display_data"
    },
    {
     "data": {
      "application/javascript": "(function(root) {\n  function now() {\n    return new Date();\n  }\n\n  const force = true;\n  const py_version = '3.6.2'.replace('rc', '-rc.').replace('.dev', '-dev.');\n  const reloading = false;\n  const Bokeh = root.Bokeh;\n\n  // Set a timeout for this load but only if we are not already initializing\n  if (typeof (root._bokeh_timeout) === \"undefined\" || (force || !root._bokeh_is_initializing)) {\n    root._bokeh_timeout = Date.now() + 5000;\n    root._bokeh_failed_load = false;\n  }\n\n  function run_callbacks() {\n    try {\n      root._bokeh_onload_callbacks.forEach(function(callback) {\n        if (callback != null)\n          callback();\n      });\n    } finally {\n      delete root._bokeh_onload_callbacks;\n    }\n    console.debug(\"Bokeh: all callbacks have finished\");\n  }\n\n  function load_libs(css_urls, js_urls, js_modules, js_exports, callback) {\n    if (css_urls == null) css_urls = [];\n    if (js_urls == null) js_urls = [];\n    if (js_modules == null) js_modules = [];\n    if (js_exports == null) js_exports = {};\n\n    root._bokeh_onload_callbacks.push(callback);\n\n    if (root._bokeh_is_loading > 0) {\n      // Don't load bokeh if it is still initializing\n      console.debug(\"Bokeh: BokehJS is being loaded, scheduling callback at\", now());\n      return null;\n    } else if (js_urls.length === 0 && js_modules.length === 0 && Object.keys(js_exports).length === 0) {\n      // There is nothing to load\n      run_callbacks();\n      return null;\n    }\n\n    function on_load() {\n      root._bokeh_is_loading--;\n      if (root._bokeh_is_loading === 0) {\n        console.debug(\"Bokeh: all BokehJS libraries/stylesheets loaded\");\n        run_callbacks()\n      }\n    }\n    window._bokeh_on_load = on_load\n\n    function on_error(e) {\n      const src_el = e.srcElement\n      console.error(\"failed to load \" + (src_el.href || src_el.src));\n    }\n\n    const skip = [];\n    if (window.requirejs) {\n      window.requirejs.config({'packages': {}, 'paths': {}, 'shim': {}});\n      root._bokeh_is_loading = css_urls.length + 0;\n    } else {\n      root._bokeh_is_loading = css_urls.length + js_urls.length + js_modules.length + Object.keys(js_exports).length;\n    }\n\n    const existing_stylesheets = []\n    const links = document.getElementsByTagName('link')\n    for (let i = 0; i < links.length; i++) {\n      const link = links[i]\n      if (link.href != null) {\n        existing_stylesheets.push(link.href)\n      }\n    }\n    for (let i = 0; i < css_urls.length; i++) {\n      const url = css_urls[i];\n      const escaped = encodeURI(url)\n      if (existing_stylesheets.indexOf(escaped) !== -1) {\n        on_load()\n        continue;\n      }\n      const element = document.createElement(\"link\");\n      element.onload = on_load;\n      element.onerror = on_error;\n      element.rel = \"stylesheet\";\n      element.type = \"text/css\";\n      element.href = url;\n      console.debug(\"Bokeh: injecting link tag for BokehJS stylesheet: \", url);\n      document.body.appendChild(element);\n    }    var existing_scripts = []\n    const scripts = document.getElementsByTagName('script')\n    for (let i = 0; i < scripts.length; i++) {\n      var script = scripts[i]\n      if (script.src != null) {\n        existing_scripts.push(script.src)\n      }\n    }\n    for (let i = 0; i < js_urls.length; i++) {\n      const url = js_urls[i];\n      const escaped = encodeURI(url)\n      if (skip.indexOf(escaped) !== -1 || existing_scripts.indexOf(escaped) !== -1) {\n        if (!window.requirejs) {\n          on_load();\n        }\n        continue;\n      }\n      const element = document.createElement('script');\n      element.onload = on_load;\n      element.onerror = on_error;\n      element.async = false;\n      element.src = url;\n      console.debug(\"Bokeh: injecting script tag for BokehJS library: \", url);\n      document.head.appendChild(element);\n    }\n    for (let i = 0; i < js_modules.length; i++) {\n      const url = js_modules[i];\n      const escaped = encodeURI(url)\n      if (skip.indexOf(escaped) !== -1 || existing_scripts.indexOf(escaped) !== -1) {\n        if (!window.requirejs) {\n          on_load();\n        }\n        continue;\n      }\n      var element = document.createElement('script');\n      element.onload = on_load;\n      element.onerror = on_error;\n      element.async = false;\n      element.src = url;\n      element.type = \"module\";\n      console.debug(\"Bokeh: injecting script tag for BokehJS library: \", url);\n      document.head.appendChild(element);\n    }\n    for (const name in js_exports) {\n      const url = js_exports[name];\n      const escaped = encodeURI(url)\n      if (skip.indexOf(escaped) >= 0 || root[name] != null) {\n        if (!window.requirejs) {\n          on_load();\n        }\n        continue;\n      }\n      var element = document.createElement('script');\n      element.onerror = on_error;\n      element.async = false;\n      element.type = \"module\";\n      console.debug(\"Bokeh: injecting script tag for BokehJS library: \", url);\n      element.textContent = `\n      import ${name} from \"${url}\"\n      window.${name} = ${name}\n      window._bokeh_on_load()\n      `\n      document.head.appendChild(element);\n    }\n    if (!js_urls.length && !js_modules.length) {\n      on_load()\n    }\n  };\n\n  function inject_raw_css(css) {\n    const element = document.createElement(\"style\");\n    element.appendChild(document.createTextNode(css));\n    document.body.appendChild(element);\n  }\n\n  const js_urls = [\"https://cdn.holoviz.org/panel/1.5.4/dist/bundled/reactiveesm/es-module-shims@^1.10.0/dist/es-module-shims.min.js\", \"https://cdn.bokeh.org/bokeh/release/bokeh-3.6.2.min.js\", \"https://cdn.bokeh.org/bokeh/release/bokeh-gl-3.6.2.min.js\", \"https://cdn.bokeh.org/bokeh/release/bokeh-widgets-3.6.2.min.js\", \"https://cdn.bokeh.org/bokeh/release/bokeh-tables-3.6.2.min.js\", \"https://cdn.holoviz.org/panel/1.5.4/dist/panel.min.js\"];\n  const js_modules = [];\n  const js_exports = {};\n  const css_urls = [];\n  const inline_js = [    function(Bokeh) {\n      Bokeh.set_log_level(\"info\");\n    },\nfunction(Bokeh) {} // ensure no trailing comma for IE\n  ];\n\n  function run_inline_js() {\n    if ((root.Bokeh !== undefined) || (force === true)) {\n      for (let i = 0; i < inline_js.length; i++) {\n        try {\n          inline_js[i].call(root, root.Bokeh);\n        } catch(e) {\n          if (!reloading) {\n            throw e;\n          }\n        }\n      }\n      // Cache old bokeh versions\n      if (Bokeh != undefined && !reloading) {\n        var NewBokeh = root.Bokeh;\n        if (Bokeh.versions === undefined) {\n          Bokeh.versions = new Map();\n        }\n        if (NewBokeh.version !== Bokeh.version) {\n          Bokeh.versions.set(NewBokeh.version, NewBokeh)\n        }\n        root.Bokeh = Bokeh;\n      }\n    } else if (Date.now() < root._bokeh_timeout) {\n      setTimeout(run_inline_js, 100);\n    } else if (!root._bokeh_failed_load) {\n      console.log(\"Bokeh: BokehJS failed to load within specified timeout.\");\n      root._bokeh_failed_load = true;\n    }\n    root._bokeh_is_initializing = false\n  }\n\n  function load_or_wait() {\n    // Implement a backoff loop that tries to ensure we do not load multiple\n    // versions of Bokeh and its dependencies at the same time.\n    // In recent versions we use the root._bokeh_is_initializing flag\n    // to determine whether there is an ongoing attempt to initialize\n    // bokeh, however for backward compatibility we also try to ensure\n    // that we do not start loading a newer (Panel>=1.0 and Bokeh>3) version\n    // before older versions are fully initialized.\n    if (root._bokeh_is_initializing && Date.now() > root._bokeh_timeout) {\n      // If the timeout and bokeh was not successfully loaded we reset\n      // everything and try loading again\n      root._bokeh_timeout = Date.now() + 5000;\n      root._bokeh_is_initializing = false;\n      root._bokeh_onload_callbacks = undefined;\n      root._bokeh_is_loading = 0\n      console.log(\"Bokeh: BokehJS was loaded multiple times but one version failed to initialize.\");\n      load_or_wait();\n    } else if (root._bokeh_is_initializing || (typeof root._bokeh_is_initializing === \"undefined\" && root._bokeh_onload_callbacks !== undefined)) {\n      setTimeout(load_or_wait, 100);\n    } else {\n      root._bokeh_is_initializing = true\n      root._bokeh_onload_callbacks = []\n      const bokeh_loaded = root.Bokeh != null && (root.Bokeh.version === py_version || (root.Bokeh.versions !== undefined && root.Bokeh.versions.has(py_version)));\n      if (!reloading && !bokeh_loaded) {\n        if (root.Bokeh) {\n          root.Bokeh = undefined;\n        }\n        console.debug(\"Bokeh: BokehJS not loaded, scheduling load and callback at\", now());\n      }\n      load_libs(css_urls, js_urls, js_modules, js_exports, function() {\n        console.debug(\"Bokeh: BokehJS plotting callback run at\", now());\n        run_inline_js();\n      });\n    }\n  }\n  // Give older versions of the autoload script a head-start to ensure\n  // they initialize before we start loading newer version.\n  setTimeout(load_or_wait, 100)\n}(window));",
      "application/vnd.holoviews_load.v0+json": ""
     },
     "metadata": {},
     "output_type": "display_data"
    },
    {
     "data": {
      "application/javascript": "\nif ((window.PyViz === undefined) || (window.PyViz instanceof HTMLElement)) {\n  window.PyViz = {comms: {}, comm_status:{}, kernels:{}, receivers: {}, plot_index: []}\n}\n\n\n    function JupyterCommManager() {\n    }\n\n    JupyterCommManager.prototype.register_target = function(plot_id, comm_id, msg_handler) {\n      if (window.comm_manager || ((window.Jupyter !== undefined) && (Jupyter.notebook.kernel != null))) {\n        var comm_manager = window.comm_manager || Jupyter.notebook.kernel.comm_manager;\n        comm_manager.register_target(comm_id, function(comm) {\n          comm.on_msg(msg_handler);\n        });\n      } else if ((plot_id in window.PyViz.kernels) && (window.PyViz.kernels[plot_id])) {\n        window.PyViz.kernels[plot_id].registerCommTarget(comm_id, function(comm) {\n          comm.onMsg = msg_handler;\n        });\n      } else if (typeof google != 'undefined' && google.colab.kernel != null) {\n        google.colab.kernel.comms.registerTarget(comm_id, (comm) => {\n          var messages = comm.messages[Symbol.asyncIterator]();\n          function processIteratorResult(result) {\n            var message = result.value;\n            console.log(message)\n            var content = {data: message.data, comm_id};\n            var buffers = []\n            for (var buffer of message.buffers || []) {\n              buffers.push(new DataView(buffer))\n            }\n            var metadata = message.metadata || {};\n            var msg = {content, buffers, metadata}\n            msg_handler(msg);\n            return messages.next().then(processIteratorResult);\n          }\n          return messages.next().then(processIteratorResult);\n        })\n      }\n    }\n\n    JupyterCommManager.prototype.get_client_comm = function(plot_id, comm_id, msg_handler) {\n      if (comm_id in window.PyViz.comms) {\n        return window.PyViz.comms[comm_id];\n      } else if (window.comm_manager || ((window.Jupyter !== undefined) && (Jupyter.notebook.kernel != null))) {\n        var comm_manager = window.comm_manager || Jupyter.notebook.kernel.comm_manager;\n        var comm = comm_manager.new_comm(comm_id, {}, {}, {}, comm_id);\n        if (msg_handler) {\n          comm.on_msg(msg_handler);\n        }\n      } else if ((plot_id in window.PyViz.kernels) && (window.PyViz.kernels[plot_id])) {\n        var comm = window.PyViz.kernels[plot_id].connectToComm(comm_id);\n        comm.open();\n        if (msg_handler) {\n          comm.onMsg = msg_handler;\n        }\n      } else if (typeof google != 'undefined' && google.colab.kernel != null) {\n        var comm_promise = google.colab.kernel.comms.open(comm_id)\n        comm_promise.then((comm) => {\n          window.PyViz.comms[comm_id] = comm;\n          if (msg_handler) {\n            var messages = comm.messages[Symbol.asyncIterator]();\n            function processIteratorResult(result) {\n              var message = result.value;\n              var content = {data: message.data};\n              var metadata = message.metadata || {comm_id};\n              var msg = {content, metadata}\n              msg_handler(msg);\n              return messages.next().then(processIteratorResult);\n            }\n            return messages.next().then(processIteratorResult);\n          }\n        }) \n        var sendClosure = (data, metadata, buffers, disposeOnDone) => {\n          return comm_promise.then((comm) => {\n            comm.send(data, metadata, buffers, disposeOnDone);\n          });\n        };\n        var comm = {\n          send: sendClosure\n        };\n      }\n      window.PyViz.comms[comm_id] = comm;\n      return comm;\n    }\n    window.PyViz.comm_manager = new JupyterCommManager();\n    \n\n\nvar JS_MIME_TYPE = 'application/javascript';\nvar HTML_MIME_TYPE = 'text/html';\nvar EXEC_MIME_TYPE = 'application/vnd.holoviews_exec.v0+json';\nvar CLASS_NAME = 'output';\n\n/**\n * Render data to the DOM node\n */\nfunction render(props, node) {\n  var div = document.createElement(\"div\");\n  var script = document.createElement(\"script\");\n  node.appendChild(div);\n  node.appendChild(script);\n}\n\n/**\n * Handle when a new output is added\n */\nfunction handle_add_output(event, handle) {\n  var output_area = handle.output_area;\n  var output = handle.output;\n  if ((output.data == undefined) || (!output.data.hasOwnProperty(EXEC_MIME_TYPE))) {\n    return\n  }\n  var id = output.metadata[EXEC_MIME_TYPE][\"id\"];\n  var toinsert = output_area.element.find(\".\" + CLASS_NAME.split(' ')[0]);\n  if (id !== undefined) {\n    var nchildren = toinsert.length;\n    var html_node = toinsert[nchildren-1].children[0];\n    html_node.innerHTML = output.data[HTML_MIME_TYPE];\n    var scripts = [];\n    var nodelist = html_node.querySelectorAll(\"script\");\n    for (var i in nodelist) {\n      if (nodelist.hasOwnProperty(i)) {\n        scripts.push(nodelist[i])\n      }\n    }\n\n    scripts.forEach( function (oldScript) {\n      var newScript = document.createElement(\"script\");\n      var attrs = [];\n      var nodemap = oldScript.attributes;\n      for (var j in nodemap) {\n        if (nodemap.hasOwnProperty(j)) {\n          attrs.push(nodemap[j])\n        }\n      }\n      attrs.forEach(function(attr) { newScript.setAttribute(attr.name, attr.value) });\n      newScript.appendChild(document.createTextNode(oldScript.innerHTML));\n      oldScript.parentNode.replaceChild(newScript, oldScript);\n    });\n    if (JS_MIME_TYPE in output.data) {\n      toinsert[nchildren-1].children[1].textContent = output.data[JS_MIME_TYPE];\n    }\n    output_area._hv_plot_id = id;\n    if ((window.Bokeh !== undefined) && (id in Bokeh.index)) {\n      window.PyViz.plot_index[id] = Bokeh.index[id];\n    } else {\n      window.PyViz.plot_index[id] = null;\n    }\n  } else if (output.metadata[EXEC_MIME_TYPE][\"server_id\"] !== undefined) {\n    var bk_div = document.createElement(\"div\");\n    bk_div.innerHTML = output.data[HTML_MIME_TYPE];\n    var script_attrs = bk_div.children[0].attributes;\n    for (var i = 0; i < script_attrs.length; i++) {\n      toinsert[toinsert.length - 1].childNodes[1].setAttribute(script_attrs[i].name, script_attrs[i].value);\n    }\n    // store reference to server id on output_area\n    output_area._bokeh_server_id = output.metadata[EXEC_MIME_TYPE][\"server_id\"];\n  }\n}\n\n/**\n * Handle when an output is cleared or removed\n */\nfunction handle_clear_output(event, handle) {\n  var id = handle.cell.output_area._hv_plot_id;\n  var server_id = handle.cell.output_area._bokeh_server_id;\n  if (((id === undefined) || !(id in PyViz.plot_index)) && (server_id !== undefined)) { return; }\n  var comm = window.PyViz.comm_manager.get_client_comm(\"hv-extension-comm\", \"hv-extension-comm\", function () {});\n  if (server_id !== null) {\n    comm.send({event_type: 'server_delete', 'id': server_id});\n    return;\n  } else if (comm !== null) {\n    comm.send({event_type: 'delete', 'id': id});\n  }\n  delete PyViz.plot_index[id];\n  if ((window.Bokeh !== undefined) & (id in window.Bokeh.index)) {\n    var doc = window.Bokeh.index[id].model.document\n    doc.clear();\n    const i = window.Bokeh.documents.indexOf(doc);\n    if (i > -1) {\n      window.Bokeh.documents.splice(i, 1);\n    }\n  }\n}\n\n/**\n * Handle kernel restart event\n */\nfunction handle_kernel_cleanup(event, handle) {\n  delete PyViz.comms[\"hv-extension-comm\"];\n  window.PyViz.plot_index = {}\n}\n\n/**\n * Handle update_display_data messages\n */\nfunction handle_update_output(event, handle) {\n  handle_clear_output(event, {cell: {output_area: handle.output_area}})\n  handle_add_output(event, handle)\n}\n\nfunction register_renderer(events, OutputArea) {\n  function append_mime(data, metadata, element) {\n    // create a DOM node to render to\n    var toinsert = this.create_output_subarea(\n    metadata,\n    CLASS_NAME,\n    EXEC_MIME_TYPE\n    );\n    this.keyboard_manager.register_events(toinsert);\n    // Render to node\n    var props = {data: data, metadata: metadata[EXEC_MIME_TYPE]};\n    render(props, toinsert[0]);\n    element.append(toinsert);\n    return toinsert\n  }\n\n  events.on('output_added.OutputArea', handle_add_output);\n  events.on('output_updated.OutputArea', handle_update_output);\n  events.on('clear_output.CodeCell', handle_clear_output);\n  events.on('delete.Cell', handle_clear_output);\n  events.on('kernel_ready.Kernel', handle_kernel_cleanup);\n\n  OutputArea.prototype.register_mime_type(EXEC_MIME_TYPE, append_mime, {\n    safe: true,\n    index: 0\n  });\n}\n\nif (window.Jupyter !== undefined) {\n  try {\n    var events = require('base/js/events');\n    var OutputArea = require('notebook/js/outputarea').OutputArea;\n    if (OutputArea.prototype.mime_types().indexOf(EXEC_MIME_TYPE) == -1) {\n      register_renderer(events, OutputArea);\n    }\n  } catch(err) {\n  }\n}\n",
      "application/vnd.holoviews_load.v0+json": ""
     },
     "metadata": {},
     "output_type": "display_data"
    },
    {
     "data": {
      "application/vnd.holoviews_exec.v0+json": "",
      "text/html": [
       "<div id='8b607c8f-2689-422e-8065-b9da5cbfc785'>\n",
       "  <div id=\"e82f8aaf-8768-447f-a1b2-4b4213cb1cfb\" data-root-id=\"8b607c8f-2689-422e-8065-b9da5cbfc785\" style=\"display: contents;\"></div>\n",
       "</div>\n",
       "<script type=\"application/javascript\">(function(root) {\n",
       "  var docs_json = {\"ca8db268-c3cc-4230-a4b3-8572b719fc18\":{\"version\":\"3.6.2\",\"title\":\"Bokeh Application\",\"roots\":[{\"type\":\"object\",\"name\":\"panel.models.browser.BrowserInfo\",\"id\":\"8b607c8f-2689-422e-8065-b9da5cbfc785\"},{\"type\":\"object\",\"name\":\"panel.models.comm_manager.CommManager\",\"id\":\"2e283859-6906-4f07-89c0-e34b8709bf40\",\"attributes\":{\"plot_id\":\"8b607c8f-2689-422e-8065-b9da5cbfc785\",\"comm_id\":\"5453376a6311464493ca4c3461841953\",\"client_comm_id\":\"2dee1e7d01aa45f4bfe93df2d201b275\"}}],\"defs\":[{\"type\":\"model\",\"name\":\"ReactiveHTML1\"},{\"type\":\"model\",\"name\":\"FlexBox1\",\"properties\":[{\"name\":\"align_content\",\"kind\":\"Any\",\"default\":\"flex-start\"},{\"name\":\"align_items\",\"kind\":\"Any\",\"default\":\"flex-start\"},{\"name\":\"flex_direction\",\"kind\":\"Any\",\"default\":\"row\"},{\"name\":\"flex_wrap\",\"kind\":\"Any\",\"default\":\"wrap\"},{\"name\":\"gap\",\"kind\":\"Any\",\"default\":\"\"},{\"name\":\"justify_content\",\"kind\":\"Any\",\"default\":\"flex-start\"}]},{\"type\":\"model\",\"name\":\"FloatPanel1\",\"properties\":[{\"name\":\"config\",\"kind\":\"Any\",\"default\":{\"type\":\"map\"}},{\"name\":\"contained\",\"kind\":\"Any\",\"default\":true},{\"name\":\"position\",\"kind\":\"Any\",\"default\":\"right-top\"},{\"name\":\"offsetx\",\"kind\":\"Any\",\"default\":null},{\"name\":\"offsety\",\"kind\":\"Any\",\"default\":null},{\"name\":\"theme\",\"kind\":\"Any\",\"default\":\"primary\"},{\"name\":\"status\",\"kind\":\"Any\",\"default\":\"normalized\"}]},{\"type\":\"model\",\"name\":\"GridStack1\",\"properties\":[{\"name\":\"mode\",\"kind\":\"Any\",\"default\":\"warn\"},{\"name\":\"ncols\",\"kind\":\"Any\",\"default\":null},{\"name\":\"nrows\",\"kind\":\"Any\",\"default\":null},{\"name\":\"allow_resize\",\"kind\":\"Any\",\"default\":true},{\"name\":\"allow_drag\",\"kind\":\"Any\",\"default\":true},{\"name\":\"state\",\"kind\":\"Any\",\"default\":[]}]},{\"type\":\"model\",\"name\":\"drag1\",\"properties\":[{\"name\":\"slider_width\",\"kind\":\"Any\",\"default\":5},{\"name\":\"slider_color\",\"kind\":\"Any\",\"default\":\"black\"},{\"name\":\"value\",\"kind\":\"Any\",\"default\":50}]},{\"type\":\"model\",\"name\":\"click1\",\"properties\":[{\"name\":\"terminal_output\",\"kind\":\"Any\",\"default\":\"\"},{\"name\":\"debug_name\",\"kind\":\"Any\",\"default\":\"\"},{\"name\":\"clears\",\"kind\":\"Any\",\"default\":0}]},{\"type\":\"model\",\"name\":\"FastWrapper1\",\"properties\":[{\"name\":\"object\",\"kind\":\"Any\",\"default\":null},{\"name\":\"style\",\"kind\":\"Any\",\"default\":null}]},{\"type\":\"model\",\"name\":\"NotificationAreaBase1\",\"properties\":[{\"name\":\"js_events\",\"kind\":\"Any\",\"default\":{\"type\":\"map\"}},{\"name\":\"position\",\"kind\":\"Any\",\"default\":\"bottom-right\"},{\"name\":\"_clear\",\"kind\":\"Any\",\"default\":0}]},{\"type\":\"model\",\"name\":\"NotificationArea1\",\"properties\":[{\"name\":\"js_events\",\"kind\":\"Any\",\"default\":{\"type\":\"map\"}},{\"name\":\"notifications\",\"kind\":\"Any\",\"default\":[]},{\"name\":\"position\",\"kind\":\"Any\",\"default\":\"bottom-right\"},{\"name\":\"_clear\",\"kind\":\"Any\",\"default\":0},{\"name\":\"types\",\"kind\":\"Any\",\"default\":[{\"type\":\"map\",\"entries\":[[\"type\",\"warning\"],[\"background\",\"#ffc107\"],[\"icon\",{\"type\":\"map\",\"entries\":[[\"className\",\"fas fa-exclamation-triangle\"],[\"tagName\",\"i\"],[\"color\",\"white\"]]}]]},{\"type\":\"map\",\"entries\":[[\"type\",\"info\"],[\"background\",\"#007bff\"],[\"icon\",{\"type\":\"map\",\"entries\":[[\"className\",\"fas fa-info-circle\"],[\"tagName\",\"i\"],[\"color\",\"white\"]]}]]}]}]},{\"type\":\"model\",\"name\":\"Notification\",\"properties\":[{\"name\":\"background\",\"kind\":\"Any\",\"default\":null},{\"name\":\"duration\",\"kind\":\"Any\",\"default\":3000},{\"name\":\"icon\",\"kind\":\"Any\",\"default\":null},{\"name\":\"message\",\"kind\":\"Any\",\"default\":\"\"},{\"name\":\"notification_type\",\"kind\":\"Any\",\"default\":null},{\"name\":\"_destroyed\",\"kind\":\"Any\",\"default\":false}]},{\"type\":\"model\",\"name\":\"TemplateActions1\",\"properties\":[{\"name\":\"open_modal\",\"kind\":\"Any\",\"default\":0},{\"name\":\"close_modal\",\"kind\":\"Any\",\"default\":0}]},{\"type\":\"model\",\"name\":\"BootstrapTemplateActions1\",\"properties\":[{\"name\":\"open_modal\",\"kind\":\"Any\",\"default\":0},{\"name\":\"close_modal\",\"kind\":\"Any\",\"default\":0}]},{\"type\":\"model\",\"name\":\"TemplateEditor1\",\"properties\":[{\"name\":\"layout\",\"kind\":\"Any\",\"default\":[]}]},{\"type\":\"model\",\"name\":\"MaterialTemplateActions1\",\"properties\":[{\"name\":\"open_modal\",\"kind\":\"Any\",\"default\":0},{\"name\":\"close_modal\",\"kind\":\"Any\",\"default\":0}]},{\"type\":\"model\",\"name\":\"ReactiveESM1\",\"properties\":[{\"name\":\"esm_constants\",\"kind\":\"Any\",\"default\":{\"type\":\"map\"}}]},{\"type\":\"model\",\"name\":\"JSComponent1\",\"properties\":[{\"name\":\"esm_constants\",\"kind\":\"Any\",\"default\":{\"type\":\"map\"}}]},{\"type\":\"model\",\"name\":\"ReactComponent1\",\"properties\":[{\"name\":\"esm_constants\",\"kind\":\"Any\",\"default\":{\"type\":\"map\"}}]},{\"type\":\"model\",\"name\":\"AnyWidgetComponent1\",\"properties\":[{\"name\":\"esm_constants\",\"kind\":\"Any\",\"default\":{\"type\":\"map\"}}]},{\"type\":\"model\",\"name\":\"request_value1\",\"properties\":[{\"name\":\"fill\",\"kind\":\"Any\",\"default\":\"none\"},{\"name\":\"_synced\",\"kind\":\"Any\",\"default\":null},{\"name\":\"_request_sync\",\"kind\":\"Any\",\"default\":0}]}]}};\n",
       "  var render_items = [{\"docid\":\"ca8db268-c3cc-4230-a4b3-8572b719fc18\",\"roots\":{\"8b607c8f-2689-422e-8065-b9da5cbfc785\":\"e82f8aaf-8768-447f-a1b2-4b4213cb1cfb\"},\"root_ids\":[\"8b607c8f-2689-422e-8065-b9da5cbfc785\"]}];\n",
       "  var docs = Object.values(docs_json)\n",
       "  if (!docs) {\n",
       "    return\n",
       "  }\n",
       "  const py_version = docs[0].version.replace('rc', '-rc.').replace('.dev', '-dev.')\n",
       "  async function embed_document(root) {\n",
       "    var Bokeh = get_bokeh(root)\n",
       "    await Bokeh.embed.embed_items_notebook(docs_json, render_items);\n",
       "    for (const render_item of render_items) {\n",
       "      for (const root_id of render_item.root_ids) {\n",
       "\tconst id_el = document.getElementById(root_id)\n",
       "\tif (id_el.children.length && id_el.children[0].hasAttribute('data-root-id')) {\n",
       "\t  const root_el = id_el.children[0]\n",
       "\t  root_el.id = root_el.id + '-rendered'\n",
       "\t  for (const child of root_el.children) {\n",
       "            // Ensure JupyterLab does not capture keyboard shortcuts\n",
       "            // see: https://jupyterlab.readthedocs.io/en/4.1.x/extension/notebook.html#keyboard-interaction-model\n",
       "\t    child.setAttribute('data-lm-suppress-shortcuts', 'true')\n",
       "\t  }\n",
       "\t}\n",
       "      }\n",
       "    }\n",
       "  }\n",
       "  function get_bokeh(root) {\n",
       "    if (root.Bokeh === undefined) {\n",
       "      return null\n",
       "    } else if (root.Bokeh.version !== py_version) {\n",
       "      if (root.Bokeh.versions === undefined || !root.Bokeh.versions.has(py_version)) {\n",
       "\treturn null\n",
       "      }\n",
       "      return root.Bokeh.versions.get(py_version);\n",
       "    } else if (root.Bokeh.version === py_version) {\n",
       "      return root.Bokeh\n",
       "    }\n",
       "    return null\n",
       "  }\n",
       "  function is_loaded(root) {\n",
       "    var Bokeh = get_bokeh(root)\n",
       "    return (Bokeh != null && Bokeh.Panel !== undefined)\n",
       "  }\n",
       "  if (is_loaded(root)) {\n",
       "    embed_document(root);\n",
       "  } else {\n",
       "    var attempts = 0;\n",
       "    var timer = setInterval(function(root) {\n",
       "      if (is_loaded(root)) {\n",
       "        clearInterval(timer);\n",
       "        embed_document(root);\n",
       "      } else if (document.readyState == \"complete\") {\n",
       "        attempts++;\n",
       "        if (attempts > 200) {\n",
       "          clearInterval(timer);\n",
       "\t  var Bokeh = get_bokeh(root)\n",
       "\t  if (Bokeh == null || Bokeh.Panel == null) {\n",
       "            console.warn(\"Panel: ERROR: Unable to run Panel code because Bokeh or Panel library is missing\");\n",
       "\t  } else {\n",
       "\t    console.warn(\"Panel: WARNING: Attempting to render but not all required libraries could be resolved.\")\n",
       "\t    embed_document(root)\n",
       "\t  }\n",
       "        }\n",
       "      }\n",
       "    }, 25, root)\n",
       "  }\n",
       "})(window);</script>"
      ]
     },
     "metadata": {
      "application/vnd.holoviews_exec.v0+json": {
       "id": "8b607c8f-2689-422e-8065-b9da5cbfc785"
      }
     },
     "output_type": "display_data"
    },
    {
     "data": {},
     "metadata": {},
     "output_type": "display_data"
    },
    {
     "data": {
      "application/vnd.holoviews_exec.v0+json": "",
      "text/html": [
       "<div id='5e8ba5be-45bb-41a9-afb7-a5231b9b8a68'>\n",
       "  <div id=\"f32f62fa-32e0-4b83-a162-c159a7e71cda\" data-root-id=\"5e8ba5be-45bb-41a9-afb7-a5231b9b8a68\" style=\"display: contents;\"></div>\n",
       "</div>\n",
       "<script type=\"application/javascript\">(function(root) {\n",
       "  var docs_json = {\"1347c188-ec99-42e6-b527-744cfdcbd6e8\":{\"version\":\"3.6.2\",\"title\":\"Bokeh Application\",\"roots\":[{\"type\":\"object\",\"name\":\"Row\",\"id\":\"5e8ba5be-45bb-41a9-afb7-a5231b9b8a68\",\"attributes\":{\"name\":\"Row00279\",\"tags\":[\"embedded\"],\"stylesheets\":[\"\\n:host(.pn-loading):before, .pn-loading:before {\\n  background-color: #c3c3c3;\\n  mask-size: auto calc(min(50%, 400px));\\n  -webkit-mask-size: auto calc(min(50%, 400px));\\n}\",{\"type\":\"object\",\"name\":\"ImportedStyleSheet\",\"id\":\"82abf346-6c39-42b6-89f0-22530376f2c3\",\"attributes\":{\"url\":\"https://cdn.holoviz.org/panel/1.5.4/dist/css/loading.css\"}},{\"type\":\"object\",\"name\":\"ImportedStyleSheet\",\"id\":\"47e99f43-076f-4562-8ec5-8078c1e1850c\",\"attributes\":{\"url\":\"https://cdn.holoviz.org/panel/1.5.4/dist/css/listpanel.css\"}},{\"type\":\"object\",\"name\":\"ImportedStyleSheet\",\"id\":\"a802f5c2-e3d5-41fb-8f49-93873aed888d\",\"attributes\":{\"url\":\"https://cdn.holoviz.org/panel/1.5.4/dist/bundled/theme/default.css\"}},{\"type\":\"object\",\"name\":\"ImportedStyleSheet\",\"id\":\"8487f565-b00b-4321-b790-100d504abfde\",\"attributes\":{\"url\":\"https://cdn.holoviz.org/panel/1.5.4/dist/bundled/theme/native.css\"}}],\"min_width\":700,\"margin\":0,\"sizing_mode\":\"stretch_width\",\"align\":\"start\",\"children\":[{\"type\":\"object\",\"name\":\"Spacer\",\"id\":\"458e0b12-b9e2-4698-b758-c860b62f0dfe\",\"attributes\":{\"name\":\"HSpacer00283\",\"stylesheets\":[\"\\n:host(.pn-loading):before, .pn-loading:before {\\n  background-color: #c3c3c3;\\n  mask-size: auto calc(min(50%, 400px));\\n  -webkit-mask-size: auto calc(min(50%, 400px));\\n}\",{\"id\":\"82abf346-6c39-42b6-89f0-22530376f2c3\"},{\"id\":\"a802f5c2-e3d5-41fb-8f49-93873aed888d\"},{\"id\":\"8487f565-b00b-4321-b790-100d504abfde\"}],\"margin\":0,\"sizing_mode\":\"stretch_width\",\"align\":\"start\"}},{\"type\":\"object\",\"name\":\"Figure\",\"id\":\"21c4ea22-e895-4119-addd-76283e95679c\",\"attributes\":{\"width\":700,\"height\":300,\"margin\":[5,10],\"sizing_mode\":\"fixed\",\"align\":\"start\",\"x_range\":{\"type\":\"object\",\"name\":\"Range1d\",\"id\":\"f37dfc72-d51d-4b2a-af9e-d76b0957f5fa\",\"attributes\":{\"name\":\"DATETIME\",\"tags\":[[[\"DATETIME\",null]],[]],\"start\":1734652800000.0,\"end\":1734710400000.0,\"reset_start\":1734652800000.0,\"reset_end\":1734710400000.0}},\"y_range\":{\"type\":\"object\",\"name\":\"Range1d\",\"id\":\"fb170b67-1a2f-4372-a023-7cbb6e970220\",\"attributes\":{\"name\":\"H\",\"tags\":[[[\"H\",null]],{\"type\":\"map\",\"entries\":[[\"invert_yaxis\",false],[\"autorange\",false]]}],\"start\":1.8499999999999996,\"end\":13.25,\"reset_start\":1.8499999999999996,\"reset_end\":13.25}},\"x_scale\":{\"type\":\"object\",\"name\":\"LinearScale\",\"id\":\"2803f1cd-72e2-4dd7-bc33-f61c9e60eb30\"},\"y_scale\":{\"type\":\"object\",\"name\":\"LinearScale\",\"id\":\"df47c05a-70a4-42fe-9670-c2111f261b6d\"},\"title\":{\"type\":\"object\",\"name\":\"Title\",\"id\":\"295182df-86e9-416f-a62f-4af41fbccaf4\",\"attributes\":{\"text_color\":\"black\",\"text_font_size\":\"12pt\"}},\"renderers\":[{\"type\":\"object\",\"name\":\"GlyphRenderer\",\"id\":\"79947c14-955d-4252-b522-297d10cb86ac\",\"attributes\":{\"data_source\":{\"type\":\"object\",\"name\":\"ColumnDataSource\",\"id\":\"a2a7ba9d-e95e-4211-9086-659493683a85\",\"attributes\":{\"selected\":{\"type\":\"object\",\"name\":\"Selection\",\"id\":\"f4c254eb-43af-4870-8297-e4bb6b4d91c9\",\"attributes\":{\"indices\":[],\"line_indices\":[]}},\"selection_policy\":{\"type\":\"object\",\"name\":\"UnionRenderers\",\"id\":\"9f5e1a11-5d6f-43f5-8f61-e8b4daea3635\"},\"data\":{\"type\":\"map\",\"entries\":[[\"DATETIME\",{\"type\":\"ndarray\",\"array\":{\"type\":\"bytes\",\"data\":\"AADA0hU+eUIAAKhBGT55QgAAkLAcPnlCAAB4HyA+eUIAAGCOIz55QgAASP0mPnlCAAAwbCo+eUIAABjbLT55QgAAAEoxPnlCAADouDQ+eUIAANAnOD55QgAAuJY7PnlCAACgBT8+eUIAAIh0Qj55QgAAcONFPnlCAABYUkk+eUIAAEDBTD55Qg==\"},\"shape\":[17],\"dtype\":\"float64\",\"order\":\"little\"}],[\"H\",{\"type\":\"ndarray\",\"array\":{\"type\":\"bytes\",\"data\":\"AAAAAAAAHkBmZmZmZmYcQM3MzMzMzBpAzczMzMzMGECamZmZmZkTQJqZmZmZmQ1AZmZmZmZmCkAAAAAAAAAIQGZmZmZmZgZAMzMzMzMzD0AzMzMzMzMbQAAAAAAAACJAzczMzMzMJEBmZmZmZmYnQJqZmZmZmShAmpmZmZmZJkAzMzMzMzMmQA==\"},\"shape\":[17],\"dtype\":\"float64\",\"order\":\"little\"}]]}}},\"view\":{\"type\":\"object\",\"name\":\"CDSView\",\"id\":\"44689b71-767d-4c5d-92be-798539887f10\",\"attributes\":{\"filter\":{\"type\":\"object\",\"name\":\"AllIndices\",\"id\":\"f8c7b71a-4510-491c-ad6b-53f20d12f360\"}}},\"glyph\":{\"type\":\"object\",\"name\":\"Line\",\"id\":\"cc169e69-745b-4585-96e9-ada6842535b2\",\"attributes\":{\"tags\":[\"apply_ranges\"],\"x\":{\"type\":\"field\",\"field\":\"DATETIME\"},\"y\":{\"type\":\"field\",\"field\":\"H\"},\"line_color\":\"#30a2da\",\"line_width\":2}},\"selection_glyph\":{\"type\":\"object\",\"name\":\"Line\",\"id\":\"8c907006-8709-46a7-a333-7f4d2c24ee98\",\"attributes\":{\"tags\":[\"apply_ranges\"],\"x\":{\"type\":\"field\",\"field\":\"DATETIME\"},\"y\":{\"type\":\"field\",\"field\":\"H\"},\"line_color\":\"#30a2da\",\"line_width\":2}},\"nonselection_glyph\":{\"type\":\"object\",\"name\":\"Line\",\"id\":\"58de70ae-ee64-494e-9ead-c5f4f7f14cb6\",\"attributes\":{\"tags\":[\"apply_ranges\"],\"x\":{\"type\":\"field\",\"field\":\"DATETIME\"},\"y\":{\"type\":\"field\",\"field\":\"H\"},\"line_color\":\"#30a2da\",\"line_alpha\":0.1,\"line_width\":2}},\"muted_glyph\":{\"type\":\"object\",\"name\":\"Line\",\"id\":\"fca363ce-66ec-4079-8247-996d8dad5b66\",\"attributes\":{\"tags\":[\"apply_ranges\"],\"x\":{\"type\":\"field\",\"field\":\"DATETIME\"},\"y\":{\"type\":\"field\",\"field\":\"H\"},\"line_color\":\"#30a2da\",\"line_alpha\":0.2,\"line_width\":2}}}}],\"toolbar\":{\"type\":\"object\",\"name\":\"Toolbar\",\"id\":\"51f9e2c6-a6d3-4ea8-a12f-9b4d2310c08d\",\"attributes\":{\"tools\":[{\"type\":\"object\",\"name\":\"WheelZoomTool\",\"id\":\"1cd8f416-7253-4204-a125-2d6d88788044\",\"attributes\":{\"tags\":[\"hv_created\"],\"renderers\":\"auto\",\"zoom_together\":\"none\"}},{\"type\":\"object\",\"name\":\"HoverTool\",\"id\":\"ad8beb34-51a0-4ade-8805-8e04c297a142\",\"attributes\":{\"tags\":[\"hv_created\"],\"renderers\":[{\"id\":\"79947c14-955d-4252-b522-297d10cb86ac\"}],\"tooltips\":[[\"DATETIME\",\"@{DATETIME}{%F %T}\"],[\"H\",\"@{H}\"]],\"formatters\":{\"type\":\"map\",\"entries\":[[\"@{DATETIME}\",\"datetime\"]]}}},{\"type\":\"object\",\"name\":\"SaveTool\",\"id\":\"ec41ac8f-ef22-49d2-9164-205affa707b0\"},{\"type\":\"object\",\"name\":\"PanTool\",\"id\":\"bb8b217d-bb22-4e83-a869-f195be4f74b2\"},{\"type\":\"object\",\"name\":\"BoxZoomTool\",\"id\":\"988fe365-6fa5-45fe-ac67-0f7e42c20595\",\"attributes\":{\"overlay\":{\"type\":\"object\",\"name\":\"BoxAnnotation\",\"id\":\"2f32b869-ae16-4b54-b7ec-b89c00420797\",\"attributes\":{\"syncable\":false,\"line_color\":\"black\",\"line_alpha\":1.0,\"line_width\":2,\"line_dash\":[4,4],\"fill_color\":\"lightgrey\",\"fill_alpha\":0.5,\"level\":\"overlay\",\"visible\":false,\"left\":{\"type\":\"number\",\"value\":\"nan\"},\"right\":{\"type\":\"number\",\"value\":\"nan\"},\"top\":{\"type\":\"number\",\"value\":\"nan\"},\"bottom\":{\"type\":\"number\",\"value\":\"nan\"},\"left_units\":\"canvas\",\"right_units\":\"canvas\",\"top_units\":\"canvas\",\"bottom_units\":\"canvas\",\"handles\":{\"type\":\"object\",\"name\":\"BoxInteractionHandles\",\"id\":\"d8a16c08-7acd-49be-a6f8-dc47f486bed1\",\"attributes\":{\"all\":{\"type\":\"object\",\"name\":\"AreaVisuals\",\"id\":\"ee65903d-b140-49be-a93f-47db223ebf11\",\"attributes\":{\"fill_color\":\"white\",\"hover_fill_color\":\"lightgray\"}}}}}}}},{\"type\":\"object\",\"name\":\"ResetTool\",\"id\":\"65c6e06e-4298-4f91-b91c-04a7c92403c0\"}],\"active_drag\":{\"id\":\"bb8b217d-bb22-4e83-a869-f195be4f74b2\"},\"active_scroll\":{\"id\":\"1cd8f416-7253-4204-a125-2d6d88788044\"}}},\"left\":[{\"type\":\"object\",\"name\":\"LinearAxis\",\"id\":\"3e799144-0daf-4eb0-8f74-fae9f1ab5988\",\"attributes\":{\"ticker\":{\"type\":\"object\",\"name\":\"BasicTicker\",\"id\":\"d01fbe2f-5d8d-4563-aa7e-872b1204ad82\",\"attributes\":{\"mantissas\":[1,2,5]}},\"formatter\":{\"type\":\"object\",\"name\":\"BasicTickFormatter\",\"id\":\"19f45277-9e0f-4887-9fae-9d6095fb3022\"},\"axis_label\":\"H\",\"major_label_policy\":{\"type\":\"object\",\"name\":\"AllLabels\",\"id\":\"09ca5506-4f3f-4d6b-9259-d5b390e64db8\"}}}],\"below\":[{\"type\":\"object\",\"name\":\"DatetimeAxis\",\"id\":\"11321d66-f47f-4f4b-9dac-7142d9636adb\",\"attributes\":{\"ticker\":{\"type\":\"object\",\"name\":\"DatetimeTicker\",\"id\":\"c04e22d0-bf72-4a32-815b-3d9a5c4163b7\",\"attributes\":{\"num_minor_ticks\":5,\"tickers\":[{\"type\":\"object\",\"name\":\"AdaptiveTicker\",\"id\":\"9700d347-7c3f-469a-8be6-f18a1a70e305\",\"attributes\":{\"num_minor_ticks\":0,\"mantissas\":[1,2,5],\"max_interval\":500.0}},{\"type\":\"object\",\"name\":\"AdaptiveTicker\",\"id\":\"bf538bbb-36da-467e-99be-3dabef66e53b\",\"attributes\":{\"num_minor_ticks\":0,\"base\":60,\"mantissas\":[1,2,5,10,15,20,30],\"min_interval\":1000.0,\"max_interval\":1800000.0}},{\"type\":\"object\",\"name\":\"AdaptiveTicker\",\"id\":\"38b266dd-711c-4578-b8db-5321c5c934b1\",\"attributes\":{\"num_minor_ticks\":0,\"base\":24,\"mantissas\":[1,2,4,6,8,12],\"min_interval\":3600000.0,\"max_interval\":43200000.0}},{\"type\":\"object\",\"name\":\"DaysTicker\",\"id\":\"6b12e6f5-b17f-4987-b0a2-d2488eefdf15\",\"attributes\":{\"days\":[1,2,3,4,5,6,7,8,9,10,11,12,13,14,15,16,17,18,19,20,21,22,23,24,25,26,27,28,29,30,31]}},{\"type\":\"object\",\"name\":\"DaysTicker\",\"id\":\"764bbf87-9245-4bf8-adcf-00dfaf513c2f\",\"attributes\":{\"days\":[1,4,7,10,13,16,19,22,25,28]}},{\"type\":\"object\",\"name\":\"DaysTicker\",\"id\":\"d3c42bf3-19b7-48ff-8935-055cc5859372\",\"attributes\":{\"days\":[1,8,15,22]}},{\"type\":\"object\",\"name\":\"DaysTicker\",\"id\":\"6ff087d1-38c9-486d-b923-03bb166ef7be\",\"attributes\":{\"days\":[1,15]}},{\"type\":\"object\",\"name\":\"MonthsTicker\",\"id\":\"814e6055-84ca-4f04-8446-1231775ea4c8\",\"attributes\":{\"months\":[0,1,2,3,4,5,6,7,8,9,10,11]}},{\"type\":\"object\",\"name\":\"MonthsTicker\",\"id\":\"047b2408-da94-4922-b4a8-dc878d7d6ce6\",\"attributes\":{\"months\":[0,2,4,6,8,10]}},{\"type\":\"object\",\"name\":\"MonthsTicker\",\"id\":\"bc5442cb-045f-4e9d-9407-fb0eb1cfc41c\",\"attributes\":{\"months\":[0,4,8]}},{\"type\":\"object\",\"name\":\"MonthsTicker\",\"id\":\"67b8e69e-06d5-4c25-93e1-a8e93e39aae0\",\"attributes\":{\"months\":[0,6]}},{\"type\":\"object\",\"name\":\"YearsTicker\",\"id\":\"d1b1157d-6598-4f9c-a78f-253d103c6039\"}]}},\"formatter\":{\"type\":\"object\",\"name\":\"DatetimeTickFormatter\",\"id\":\"a475ab4e-c9b5-4e68-98fb-851e6afcf532\"},\"axis_label\":\"DATETIME\",\"major_label_policy\":{\"type\":\"object\",\"name\":\"AllLabels\",\"id\":\"7ce64d76-e816-4d35-8385-8599aad189e3\"}}}],\"center\":[{\"type\":\"object\",\"name\":\"Grid\",\"id\":\"58572a56-b819-4abf-aa5b-ffa3fc665a21\",\"attributes\":{\"axis\":{\"id\":\"11321d66-f47f-4f4b-9dac-7142d9636adb\"},\"grid_line_color\":null}},{\"type\":\"object\",\"name\":\"Grid\",\"id\":\"b03f7ba5-ad37-41b6-89a7-74db1f50d132\",\"attributes\":{\"dimension\":1,\"axis\":{\"id\":\"3e799144-0daf-4eb0-8f74-fae9f1ab5988\"},\"grid_line_color\":null}}],\"min_border_top\":10,\"min_border_bottom\":10,\"min_border_left\":10,\"min_border_right\":10,\"output_backend\":\"webgl\"}},{\"type\":\"object\",\"name\":\"Spacer\",\"id\":\"2138a059-aa71-4cd9-a5bd-7a23ac7fb1b0\",\"attributes\":{\"name\":\"HSpacer00284\",\"stylesheets\":[\"\\n:host(.pn-loading):before, .pn-loading:before {\\n  background-color: #c3c3c3;\\n  mask-size: auto calc(min(50%, 400px));\\n  -webkit-mask-size: auto calc(min(50%, 400px));\\n}\",{\"id\":\"82abf346-6c39-42b6-89f0-22530376f2c3\"},{\"id\":\"a802f5c2-e3d5-41fb-8f49-93873aed888d\"},{\"id\":\"8487f565-b00b-4321-b790-100d504abfde\"}],\"margin\":0,\"sizing_mode\":\"stretch_width\",\"align\":\"start\"}}]}}],\"defs\":[{\"type\":\"model\",\"name\":\"ReactiveHTML1\"},{\"type\":\"model\",\"name\":\"FlexBox1\",\"properties\":[{\"name\":\"align_content\",\"kind\":\"Any\",\"default\":\"flex-start\"},{\"name\":\"align_items\",\"kind\":\"Any\",\"default\":\"flex-start\"},{\"name\":\"flex_direction\",\"kind\":\"Any\",\"default\":\"row\"},{\"name\":\"flex_wrap\",\"kind\":\"Any\",\"default\":\"wrap\"},{\"name\":\"gap\",\"kind\":\"Any\",\"default\":\"\"},{\"name\":\"justify_content\",\"kind\":\"Any\",\"default\":\"flex-start\"}]},{\"type\":\"model\",\"name\":\"FloatPanel1\",\"properties\":[{\"name\":\"config\",\"kind\":\"Any\",\"default\":{\"type\":\"map\"}},{\"name\":\"contained\",\"kind\":\"Any\",\"default\":true},{\"name\":\"position\",\"kind\":\"Any\",\"default\":\"right-top\"},{\"name\":\"offsetx\",\"kind\":\"Any\",\"default\":null},{\"name\":\"offsety\",\"kind\":\"Any\",\"default\":null},{\"name\":\"theme\",\"kind\":\"Any\",\"default\":\"primary\"},{\"name\":\"status\",\"kind\":\"Any\",\"default\":\"normalized\"}]},{\"type\":\"model\",\"name\":\"GridStack1\",\"properties\":[{\"name\":\"mode\",\"kind\":\"Any\",\"default\":\"warn\"},{\"name\":\"ncols\",\"kind\":\"Any\",\"default\":null},{\"name\":\"nrows\",\"kind\":\"Any\",\"default\":null},{\"name\":\"allow_resize\",\"kind\":\"Any\",\"default\":true},{\"name\":\"allow_drag\",\"kind\":\"Any\",\"default\":true},{\"name\":\"state\",\"kind\":\"Any\",\"default\":[]}]},{\"type\":\"model\",\"name\":\"drag1\",\"properties\":[{\"name\":\"slider_width\",\"kind\":\"Any\",\"default\":5},{\"name\":\"slider_color\",\"kind\":\"Any\",\"default\":\"black\"},{\"name\":\"value\",\"kind\":\"Any\",\"default\":50}]},{\"type\":\"model\",\"name\":\"click1\",\"properties\":[{\"name\":\"terminal_output\",\"kind\":\"Any\",\"default\":\"\"},{\"name\":\"debug_name\",\"kind\":\"Any\",\"default\":\"\"},{\"name\":\"clears\",\"kind\":\"Any\",\"default\":0}]},{\"type\":\"model\",\"name\":\"FastWrapper1\",\"properties\":[{\"name\":\"object\",\"kind\":\"Any\",\"default\":null},{\"name\":\"style\",\"kind\":\"Any\",\"default\":null}]},{\"type\":\"model\",\"name\":\"NotificationAreaBase1\",\"properties\":[{\"name\":\"js_events\",\"kind\":\"Any\",\"default\":{\"type\":\"map\"}},{\"name\":\"position\",\"kind\":\"Any\",\"default\":\"bottom-right\"},{\"name\":\"_clear\",\"kind\":\"Any\",\"default\":0}]},{\"type\":\"model\",\"name\":\"NotificationArea1\",\"properties\":[{\"name\":\"js_events\",\"kind\":\"Any\",\"default\":{\"type\":\"map\"}},{\"name\":\"notifications\",\"kind\":\"Any\",\"default\":[]},{\"name\":\"position\",\"kind\":\"Any\",\"default\":\"bottom-right\"},{\"name\":\"_clear\",\"kind\":\"Any\",\"default\":0},{\"name\":\"types\",\"kind\":\"Any\",\"default\":[{\"type\":\"map\",\"entries\":[[\"type\",\"warning\"],[\"background\",\"#ffc107\"],[\"icon\",{\"type\":\"map\",\"entries\":[[\"className\",\"fas fa-exclamation-triangle\"],[\"tagName\",\"i\"],[\"color\",\"white\"]]}]]},{\"type\":\"map\",\"entries\":[[\"type\",\"info\"],[\"background\",\"#007bff\"],[\"icon\",{\"type\":\"map\",\"entries\":[[\"className\",\"fas fa-info-circle\"],[\"tagName\",\"i\"],[\"color\",\"white\"]]}]]}]}]},{\"type\":\"model\",\"name\":\"Notification\",\"properties\":[{\"name\":\"background\",\"kind\":\"Any\",\"default\":null},{\"name\":\"duration\",\"kind\":\"Any\",\"default\":3000},{\"name\":\"icon\",\"kind\":\"Any\",\"default\":null},{\"name\":\"message\",\"kind\":\"Any\",\"default\":\"\"},{\"name\":\"notification_type\",\"kind\":\"Any\",\"default\":null},{\"name\":\"_destroyed\",\"kind\":\"Any\",\"default\":false}]},{\"type\":\"model\",\"name\":\"TemplateActions1\",\"properties\":[{\"name\":\"open_modal\",\"kind\":\"Any\",\"default\":0},{\"name\":\"close_modal\",\"kind\":\"Any\",\"default\":0}]},{\"type\":\"model\",\"name\":\"BootstrapTemplateActions1\",\"properties\":[{\"name\":\"open_modal\",\"kind\":\"Any\",\"default\":0},{\"name\":\"close_modal\",\"kind\":\"Any\",\"default\":0}]},{\"type\":\"model\",\"name\":\"TemplateEditor1\",\"properties\":[{\"name\":\"layout\",\"kind\":\"Any\",\"default\":[]}]},{\"type\":\"model\",\"name\":\"MaterialTemplateActions1\",\"properties\":[{\"name\":\"open_modal\",\"kind\":\"Any\",\"default\":0},{\"name\":\"close_modal\",\"kind\":\"Any\",\"default\":0}]},{\"type\":\"model\",\"name\":\"ReactiveESM1\",\"properties\":[{\"name\":\"esm_constants\",\"kind\":\"Any\",\"default\":{\"type\":\"map\"}}]},{\"type\":\"model\",\"name\":\"JSComponent1\",\"properties\":[{\"name\":\"esm_constants\",\"kind\":\"Any\",\"default\":{\"type\":\"map\"}}]},{\"type\":\"model\",\"name\":\"ReactComponent1\",\"properties\":[{\"name\":\"esm_constants\",\"kind\":\"Any\",\"default\":{\"type\":\"map\"}}]},{\"type\":\"model\",\"name\":\"AnyWidgetComponent1\",\"properties\":[{\"name\":\"esm_constants\",\"kind\":\"Any\",\"default\":{\"type\":\"map\"}}]},{\"type\":\"model\",\"name\":\"request_value1\",\"properties\":[{\"name\":\"fill\",\"kind\":\"Any\",\"default\":\"none\"},{\"name\":\"_synced\",\"kind\":\"Any\",\"default\":null},{\"name\":\"_request_sync\",\"kind\":\"Any\",\"default\":0}]}]}};\n",
       "  var render_items = [{\"docid\":\"1347c188-ec99-42e6-b527-744cfdcbd6e8\",\"roots\":{\"5e8ba5be-45bb-41a9-afb7-a5231b9b8a68\":\"f32f62fa-32e0-4b83-a162-c159a7e71cda\"},\"root_ids\":[\"5e8ba5be-45bb-41a9-afb7-a5231b9b8a68\"]}];\n",
       "  var docs = Object.values(docs_json)\n",
       "  if (!docs) {\n",
       "    return\n",
       "  }\n",
       "  const py_version = docs[0].version.replace('rc', '-rc.').replace('.dev', '-dev.')\n",
       "  async function embed_document(root) {\n",
       "    var Bokeh = get_bokeh(root)\n",
       "    await Bokeh.embed.embed_items_notebook(docs_json, render_items);\n",
       "    for (const render_item of render_items) {\n",
       "      for (const root_id of render_item.root_ids) {\n",
       "\tconst id_el = document.getElementById(root_id)\n",
       "\tif (id_el.children.length && id_el.children[0].hasAttribute('data-root-id')) {\n",
       "\t  const root_el = id_el.children[0]\n",
       "\t  root_el.id = root_el.id + '-rendered'\n",
       "\t  for (const child of root_el.children) {\n",
       "            // Ensure JupyterLab does not capture keyboard shortcuts\n",
       "            // see: https://jupyterlab.readthedocs.io/en/4.1.x/extension/notebook.html#keyboard-interaction-model\n",
       "\t    child.setAttribute('data-lm-suppress-shortcuts', 'true')\n",
       "\t  }\n",
       "\t}\n",
       "      }\n",
       "    }\n",
       "  }\n",
       "  function get_bokeh(root) {\n",
       "    if (root.Bokeh === undefined) {\n",
       "      return null\n",
       "    } else if (root.Bokeh.version !== py_version) {\n",
       "      if (root.Bokeh.versions === undefined || !root.Bokeh.versions.has(py_version)) {\n",
       "\treturn null\n",
       "      }\n",
       "      return root.Bokeh.versions.get(py_version);\n",
       "    } else if (root.Bokeh.version === py_version) {\n",
       "      return root.Bokeh\n",
       "    }\n",
       "    return null\n",
       "  }\n",
       "  function is_loaded(root) {\n",
       "    var Bokeh = get_bokeh(root)\n",
       "    return (Bokeh != null && Bokeh.Panel !== undefined)\n",
       "  }\n",
       "  if (is_loaded(root)) {\n",
       "    embed_document(root);\n",
       "  } else {\n",
       "    var attempts = 0;\n",
       "    var timer = setInterval(function(root) {\n",
       "      if (is_loaded(root)) {\n",
       "        clearInterval(timer);\n",
       "        embed_document(root);\n",
       "      } else if (document.readyState == \"complete\") {\n",
       "        attempts++;\n",
       "        if (attempts > 200) {\n",
       "          clearInterval(timer);\n",
       "\t  var Bokeh = get_bokeh(root)\n",
       "\t  if (Bokeh == null || Bokeh.Panel == null) {\n",
       "            console.warn(\"Panel: ERROR: Unable to run Panel code because Bokeh or Panel library is missing\");\n",
       "\t  } else {\n",
       "\t    console.warn(\"Panel: WARNING: Attempting to render but not all required libraries could be resolved.\")\n",
       "\t    embed_document(root)\n",
       "\t  }\n",
       "        }\n",
       "      }\n",
       "    }, 25, root)\n",
       "  }\n",
       "})(window);</script>"
      ],
      "text/plain": [
       ":Curve   [DATETIME]   (H)"
      ]
     },
     "execution_count": 5,
     "metadata": {
      "application/vnd.holoviews_exec.v0+json": {
       "id": "5e8ba5be-45bb-41a9-afb7-a5231b9b8a68"
      }
     },
     "output_type": "execute_result"
    }
   ],
   "source": [
    "import hvplot.polars\n",
    "\n",
    "dfp7.filter(pl.col('V')=='V').hvplot.line(x=\"DATETIME\", y =\"H\")"
   ]
  }
 ],
 "metadata": {
  "kernelspec": {
   "display_name": ".venv",
   "language": "python",
   "name": "python3"
  },
  "language_info": {
   "codemirror_mode": {
    "name": "ipython",
    "version": 3
   },
   "file_extension": ".py",
   "mimetype": "text/x-python",
   "name": "python",
   "nbconvert_exporter": "python",
   "pygments_lexer": "ipython3",
   "version": "3.12.1"
  }
 },
 "nbformat": 4,
 "nbformat_minor": 2
}
