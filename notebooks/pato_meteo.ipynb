{
 "cells": [
  {
   "cell_type": "markdown",
   "metadata": {},
   "source": [
    "### meteo con el pato"
   ]
  },
  {
   "cell_type": "code",
   "execution_count": null,
   "metadata": {},
   "outputs": [],
   "source": [
    "import duckdb\n",
    "\n",
    "%load_ext sql\n",
    "conn = duckdb.connect() #duckdb.connect('/home/jcaubin/duck_test.db') #conexion a bbdd en memoria o en fichero\n",
    "%sql conn --alias duckdb\n",
    "%sql -l"
   ]
  },
  {
   "cell_type": "code",
   "execution_count": 2,
   "metadata": {},
   "outputs": [],
   "source": [
    "#limite de filas a mostrar\n",
    "%config SqlMagic.displaylimit = 100 "
   ]
  },
  {
   "cell_type": "code",
   "execution_count": null,
   "metadata": {
    "vscode": {
     "languageId": "sql"
    }
   },
   "outputs": [],
   "source": [
    "%%sql \n",
    "\n",
    "create table meteo_today as\n",
    "select * from read_csv('https://datos.madrid.es/egob/catalogo/300392-11041819-meteorologia-tiempo-real.csv');"
   ]
  },
  {
   "cell_type": "code",
   "execution_count": null,
   "metadata": {
    "vscode": {
     "languageId": "sql"
    }
   },
   "outputs": [],
   "source": [
    "%%sql\n",
    "\n",
    "create table estaciones as\n",
    "select * from read_csv('https://datos.madrid.es/egob/catalogo/300360-1-meteorologicos-estaciones.csv')"
   ]
  },
  {
   "cell_type": "code",
   "execution_count": null,
   "metadata": {
    "vscode": {
     "languageId": "sql"
    }
   },
   "outputs": [],
   "source": [
    "%%sql\n",
    "\n",
    "create table magnitudes as\n",
    "select * from read_csv('../maestras/parametros_meteo.csv')"
   ]
  },
  {
   "cell_type": "code",
   "execution_count": null,
   "metadata": {
    "vscode": {
     "languageId": "sql"
    }
   },
   "outputs": [],
   "source": [
    "%sql select * from estaciones"
   ]
  },
  {
   "cell_type": "code",
   "execution_count": null,
   "metadata": {
    "vscode": {
     "languageId": "sql"
    }
   },
   "outputs": [],
   "source": [
    "%%sql\n",
    "describe meteo_today"
   ]
  },
  {
   "cell_type": "code",
   "execution_count": null,
   "metadata": {
    "vscode": {
     "languageId": "sql"
    }
   },
   "outputs": [],
   "source": [
    "%%sql\n",
    "\n",
    "unpivot meteo_today\n",
    "on\n",
    "H01, \n",
    "H02, \n",
    "H03, \n",
    "H04, \n",
    "H05, \n",
    "H06, \n",
    "H07, \n",
    "H08, \n",
    "H09, \n",
    "H10, \n",
    "H11, \n",
    "H12, \n",
    "H13, \n",
    "H14, \n",
    "H15, \n",
    "H16, \n",
    "H17, \n",
    "H18, \n",
    "H19, \n",
    "H20, \n",
    "H21, \n",
    "H22, \n",
    "H23, \n",
    "H24, \n",
    "into name h value v\n",
    ";"
   ]
  },
  {
   "cell_type": "code",
   "execution_count": null,
   "metadata": {
    "vscode": {
     "languageId": "sql"
    }
   },
   "outputs": [],
   "source": [
    "%%sql\n",
    "\n",
    "create or replace table td as\n",
    "select PROVINCIA, MUNICIPIO, ESTACION, MAGNITUD, PUNTO_MUESTREO,ANO, MES, DIA, cast(right(HORA,2) as int) H, VALOR\t from (\n",
    "from meteo_today\n",
    "unpivot (\n",
    "    (VALOR)\n",
    "for HORA in (\n",
    "    H01, \n",
    "    H02, \n",
    "    H03, \n",
    "    H04, \n",
    "    H05, \n",
    "    H06, \n",
    "    H07, \n",
    "    H08, \n",
    "    H09, \n",
    "    H10, \n",
    "    H11, \n",
    "    H12, \n",
    "    H13, \n",
    "    H14, \n",
    "    H15, \n",
    "    H16, \n",
    "    H17, \n",
    "    H18, \n",
    "    H19, \n",
    "    H20, \n",
    "    H21, \n",
    "    H22, \n",
    "    H23, \n",
    "    H24 \n",
    "    ) \n",
    ")\n",
    ");"
   ]
  },
  {
   "cell_type": "code",
   "execution_count": null,
   "metadata": {
    "vscode": {
     "languageId": "sql"
    }
   },
   "outputs": [],
   "source": [
    "%%sql \n",
    "\n",
    "create or replace  table tv as\n",
    "select PROVINCIA, MUNICIPIO, ESTACION, MAGNITUD, PUNTO_MUESTREO,ANO, MES, DIA, cast(right(HORA,2) as int) H, VALIDEZ\t \n",
    "from (\n",
    "from meteo_today\n",
    "unpivot (\n",
    "    (VALIDEZ)\n",
    "for HORA in (\n",
    "    V01, \n",
    "    V02, \n",
    "    V03, \n",
    "    V04, \n",
    "    V05, \n",
    "    V06, \n",
    "    V07, \n",
    "    V08, \n",
    "    V09, \n",
    "    V10, \n",
    "    V11, \n",
    "    V12, \n",
    "    V13, \n",
    "    V14, \n",
    "    V15, \n",
    "    V16, \n",
    "    V17, \n",
    "    V18, \n",
    "    V19, \n",
    "    V20, \n",
    "    V21, \n",
    "    V22, \n",
    "    V23, \n",
    "    V24, \n",
    "    ) \n",
    " ))\n",
    " ;\n"
   ]
  },
  {
   "cell_type": "code",
   "execution_count": null,
   "metadata": {
    "vscode": {
     "languageId": "sql"
    }
   },
   "outputs": [],
   "source": [
    "%%sql\n",
    "\n",
    "create or replace table meteo_madrid24 as\n",
    "select td.*, tv.VALIDEZ, e.ESTACION ESTACION_DESC, e.ALTITUD\n",
    "from td \n",
    "inner join tv on td.PROVINCIA=tv.PROVINCIA and \ttd.MUNICIPIO=tv.MUNICIPIO and td.ESTACION=tv.ESTACION and \ttd.MAGNITUD = tv.MAGNITUD\n",
    "    and \ttd.PUNTO_MUESTREO = tv.PUNTO_MUESTREO and td.ANO= tv.ANO and td.MES = tv.MES and TD.DIA = tv.DIA and td.H=tv.H\n",
    "inner join estaciones e on td.estacion = e.CÓDIGO_CORTO    "
   ]
  },
  {
   "cell_type": "code",
   "execution_count": null,
   "metadata": {
    "vscode": {
     "languageId": "sql"
    }
   },
   "outputs": [],
   "source": [
    "%%sql\n",
    "\n",
    "select *\n",
    "from meteo_madrid24\n",
    "where\n",
    "magnitud = 83 --temperatura\n",
    "and ESTACION = 58 --el pardo\n",
    "order by ano, mes, dia, h"
   ]
  },
  {
   "cell_type": "code",
   "execution_count": null,
   "metadata": {},
   "outputs": [],
   "source": [
    "relation = conn.sql(\"\"\"select *\n",
    "from meteo_madrid24\n",
    "where\n",
    "magnitud = 83 --temperatura\n",
    "and ESTACION = 58 --el pardo\n",
    " and VALIDEZ = 'V' --validos                   \n",
    "order by ano, mes, dia, h\"\"\")\n",
    "relation"
   ]
  },
  {
   "cell_type": "code",
   "execution_count": null,
   "metadata": {},
   "outputs": [],
   "source": [
    "import hvplot.duckdb\n",
    "\n",
    "relation.hvplot.line(y='VALOR', x='H')"
   ]
  },
  {
   "cell_type": "code",
   "execution_count": null,
   "metadata": {},
   "outputs": [],
   "source": [
    "%%sql temp_data<<\n",
    "PIVOT(\n",
    "select estacion, h, valor\n",
    "from meteo_madrid24\n",
    "where\n",
    "magnitud = 83 --temperatura\n",
    "and validez = 'V'\n",
    ")\n",
    "on ESTACION\n",
    "USING sum(VALOR)\n",
    "group by h"
   ]
  },
  {
   "cell_type": "code",
   "execution_count": null,
   "metadata": {},
   "outputs": [],
   "source": [
    "relation = conn.sql(\"\"\"PIVOT(\n",
    "select estacion_desc, h, valor\n",
    "from meteo_madrid24\n",
    "where\n",
    "magnitud = 83 --temperatura\n",
    "and validez = 'V'\n",
    ")\n",
    "on ESTACION_DESC\n",
    "USING sum(VALOR)\n",
    "group by h\"\"\")\n",
    "relation"
   ]
  },
  {
   "cell_type": "code",
   "execution_count": null,
   "metadata": {},
   "outputs": [],
   "source": [
    "relation.hvplot.line(y=['El Pardo', 'Escuelas Aguirre', 'Casa de Campo', 'Plaza España'], x='h')"
   ]
  }
 ],
 "metadata": {
  "kernelspec": {
   "display_name": ".venv",
   "language": "python",
   "name": "python3"
  },
  "language_info": {
   "codemirror_mode": {
    "name": "ipython",
    "version": 3
   },
   "file_extension": ".py",
   "mimetype": "text/x-python",
   "name": "python",
   "nbconvert_exporter": "python",
   "pygments_lexer": "ipython3",
   "version": "3.10.12"
  }
 },
 "nbformat": 4,
 "nbformat_minor": 2
}
