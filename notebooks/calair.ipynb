{
 "cells": [
  {
   "cell_type": "code",
   "execution_count": null,
   "metadata": {},
   "outputs": [],
   "source": [
    "import polars as pl\n",
    "import requests"
   ]
  },
  {
   "cell_type": "code",
   "execution_count": null,
   "metadata": {},
   "outputs": [],
   "source": [
    "calidad_aire_rt = \"https://datos.madrid.es/egob/catalogo/212531-10515086-calidad-aire-tiempo-real.csv\"\n",
    "\n",
    "\n",
    "resp = requests.get(calidad_aire_rt, allow_redirects=True)\n",
    "dfp = pl.read_csv(resp.content, separator=';', encoding='utf8')\n",
    "\n",
    "dfp.shape"
   ]
  },
  {
   "cell_type": "code",
   "execution_count": null,
   "metadata": {},
   "outputs": [],
   "source": [
    "dfp.head()"
   ]
  },
  {
   "cell_type": "code",
   "execution_count": null,
   "metadata": {},
   "outputs": [],
   "source": [
    "dfp.filter(ESTACION=8, MAGNITUD = 8 ).head()"
   ]
  },
  {
   "cell_type": "code",
   "execution_count": null,
   "metadata": {},
   "outputs": [],
   "source": [
    "dfp.filter( (pl.col('ESTACION')==8) & (pl.col('MAGNITUD')==8)).head()"
   ]
  },
  {
   "cell_type": "code",
   "execution_count": null,
   "metadata": {},
   "outputs": [],
   "source": [
    "dfp2 =dfp.filter( (pl.col('ESTACION')==8) & (pl.col('MAGNITUD')==8)).unpivot(index = ['PROVINCIA',\t'MUNICIPIO',\t'ESTACION',\t'MAGNITUD'\t,'PUNTO_MUESTREO',\t'ANO',\t'MES',\t'DIA'])\n",
    "\n",
    "dfp2"
   ]
  },
  {
   "cell_type": "code",
   "execution_count": null,
   "metadata": {},
   "outputs": [],
   "source": [
    "dfp3 = dfp2.with_columns((pl.col('variable').str.slice(0,1)).alias('NV')).with_columns((pl.col('variable').str.slice(1)).alias('HORA'))\n",
    "dfp3"
   ]
  },
  {
   "cell_type": "code",
   "execution_count": null,
   "metadata": {},
   "outputs": [],
   "source": [
    "dfp4 =(dfp3\n",
    "    .pivot(on='NV', values='value', index = ['PROVINCIA',\t'MUNICIPIO',\t'ESTACION',\t'MAGNITUD'\t,'PUNTO_MUESTREO',\t'ANO',\t'MES',\t'DIA', 'HORA'])\n",
    ")\n",
    "dfp4"
   ]
  },
  {
   "cell_type": "code",
   "execution_count": null,
   "metadata": {},
   "outputs": [],
   "source": [
    "dfp5 = dfp4.with_columns(H = dfp4['H'].cast(float) ).with_columns(HORA = dfp4['HORA'].cast(int))\n",
    "dfp5"
   ]
  }
 ],
 "metadata": {
  "kernelspec": {
   "display_name": ".venv",
   "language": "python",
   "name": "python3"
  },
  "language_info": {
   "codemirror_mode": {
    "name": "ipython",
    "version": 3
   },
   "file_extension": ".py",
   "mimetype": "text/x-python",
   "name": "python",
   "nbconvert_exporter": "python",
   "pygments_lexer": "ipython3",
   "version": "3.12.1"
  }
 },
 "nbformat": 4,
 "nbformat_minor": 2
}
