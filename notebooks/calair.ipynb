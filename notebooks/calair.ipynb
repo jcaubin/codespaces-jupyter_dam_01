{
 "cells": [
  {
   "cell_type": "code",
   "execution_count": 1,
   "metadata": {},
   "outputs": [],
   "source": [
    "import polars as pl\n",
    "import requests"
   ]
  },
  {
   "cell_type": "code",
   "execution_count": 2,
   "metadata": {},
   "outputs": [
    {
     "data": {
      "text/plain": [
       "(129, 56)"
      ]
     },
     "execution_count": 2,
     "metadata": {},
     "output_type": "execute_result"
    }
   ],
   "source": [
    "calidad_aire_rt = \"https://datos.madrid.es/egob/catalogo/212531-10515086-calidad-aire-tiempo-real.csv\"\n",
    "\n",
    "\n",
    "resp = requests.get(calidad_aire_rt, allow_redirects=True)\n",
    "dfp = pl.read_csv(resp.content, separator=';', encoding='utf8')\n",
    "\n",
    "dfp.shape"
   ]
  },
  {
   "cell_type": "code",
   "execution_count": 3,
   "metadata": {},
   "outputs": [
    {
     "data": {
      "text/html": [
       "<div><style>\n",
       ".dataframe > thead > tr,\n",
       ".dataframe > tbody > tr {\n",
       "  text-align: right;\n",
       "  white-space: pre-wrap;\n",
       "}\n",
       "</style>\n",
       "<small>shape: (5, 56)</small><table border=\"1\" class=\"dataframe\"><thead><tr><th>PROVINCIA</th><th>MUNICIPIO</th><th>ESTACION</th><th>MAGNITUD</th><th>PUNTO_MUESTREO</th><th>ANO</th><th>MES</th><th>DIA</th><th>H01</th><th>V01</th><th>H02</th><th>V02</th><th>H03</th><th>V03</th><th>H04</th><th>V04</th><th>H05</th><th>V05</th><th>H06</th><th>V06</th><th>H07</th><th>V07</th><th>H08</th><th>V08</th><th>H09</th><th>V09</th><th>H10</th><th>V10</th><th>H11</th><th>V11</th><th>H12</th><th>V12</th><th>H13</th><th>V13</th><th>H14</th><th>V14</th><th>H15</th><th>V15</th><th>H16</th><th>V16</th><th>H17</th><th>V17</th><th>H18</th><th>V18</th><th>H19</th><th>V19</th><th>H20</th><th>V20</th><th>H21</th><th>V21</th><th>H22</th><th>V22</th><th>H23</th><th>V23</th><th>H24</th><th>V24</th></tr><tr><td>i64</td><td>i64</td><td>i64</td><td>i64</td><td>str</td><td>i64</td><td>i64</td><td>i64</td><td>f64</td><td>str</td><td>f64</td><td>str</td><td>f64</td><td>str</td><td>f64</td><td>str</td><td>f64</td><td>str</td><td>f64</td><td>str</td><td>f64</td><td>str</td><td>f64</td><td>str</td><td>f64</td><td>str</td><td>f64</td><td>str</td><td>i64</td><td>str</td><td>i64</td><td>str</td><td>i64</td><td>str</td><td>i64</td><td>str</td><td>i64</td><td>str</td><td>i64</td><td>str</td><td>i64</td><td>str</td><td>i64</td><td>str</td><td>i64</td><td>str</td><td>i64</td><td>str</td><td>i64</td><td>str</td><td>i64</td><td>str</td><td>i64</td><td>str</td><td>i64</td><td>str</td></tr></thead><tbody><tr><td>28</td><td>79</td><td>4</td><td>1</td><td>&quot;28079004_1_38&quot;</td><td>2024</td><td>12</td><td>12</td><td>1.0</td><td>&quot;V&quot;</td><td>1.0</td><td>&quot;V&quot;</td><td>1.0</td><td>&quot;V&quot;</td><td>1.0</td><td>&quot;V&quot;</td><td>1.0</td><td>&quot;V&quot;</td><td>1.0</td><td>&quot;V&quot;</td><td>1.0</td><td>&quot;V&quot;</td><td>1.0</td><td>&quot;V&quot;</td><td>2.0</td><td>&quot;V&quot;</td><td>3.0</td><td>&quot;V&quot;</td><td>0</td><td>&quot;N&quot;</td><td>0</td><td>&quot;N&quot;</td><td>0</td><td>&quot;N&quot;</td><td>0</td><td>&quot;N&quot;</td><td>0</td><td>&quot;N&quot;</td><td>0</td><td>&quot;N&quot;</td><td>0</td><td>&quot;N&quot;</td><td>0</td><td>&quot;N&quot;</td><td>0</td><td>&quot;N&quot;</td><td>0</td><td>&quot;N&quot;</td><td>0</td><td>&quot;N&quot;</td><td>0</td><td>&quot;N&quot;</td><td>0</td><td>&quot;N&quot;</td><td>0</td><td>&quot;N&quot;</td></tr><tr><td>28</td><td>79</td><td>4</td><td>6</td><td>&quot;28079004_6_48&quot;</td><td>2024</td><td>12</td><td>12</td><td>0.3</td><td>&quot;V&quot;</td><td>0.3</td><td>&quot;V&quot;</td><td>0.3</td><td>&quot;V&quot;</td><td>0.3</td><td>&quot;V&quot;</td><td>0.3</td><td>&quot;V&quot;</td><td>0.3</td><td>&quot;V&quot;</td><td>0.3</td><td>&quot;V&quot;</td><td>0.3</td><td>&quot;V&quot;</td><td>0.4</td><td>&quot;V&quot;</td><td>0.5</td><td>&quot;V&quot;</td><td>0</td><td>&quot;N&quot;</td><td>0</td><td>&quot;N&quot;</td><td>0</td><td>&quot;N&quot;</td><td>0</td><td>&quot;N&quot;</td><td>0</td><td>&quot;N&quot;</td><td>0</td><td>&quot;N&quot;</td><td>0</td><td>&quot;N&quot;</td><td>0</td><td>&quot;N&quot;</td><td>0</td><td>&quot;N&quot;</td><td>0</td><td>&quot;N&quot;</td><td>0</td><td>&quot;N&quot;</td><td>0</td><td>&quot;N&quot;</td><td>0</td><td>&quot;N&quot;</td><td>0</td><td>&quot;N&quot;</td></tr><tr><td>28</td><td>79</td><td>4</td><td>7</td><td>&quot;28079004_7_8&quot;</td><td>2024</td><td>12</td><td>12</td><td>2.0</td><td>&quot;V&quot;</td><td>3.0</td><td>&quot;V&quot;</td><td>3.0</td><td>&quot;V&quot;</td><td>2.0</td><td>&quot;V&quot;</td><td>3.0</td><td>&quot;V&quot;</td><td>6.0</td><td>&quot;V&quot;</td><td>4.0</td><td>&quot;V&quot;</td><td>10.0</td><td>&quot;V&quot;</td><td>31.0</td><td>&quot;V&quot;</td><td>67.0</td><td>&quot;V&quot;</td><td>0</td><td>&quot;N&quot;</td><td>0</td><td>&quot;N&quot;</td><td>0</td><td>&quot;N&quot;</td><td>0</td><td>&quot;N&quot;</td><td>0</td><td>&quot;N&quot;</td><td>0</td><td>&quot;N&quot;</td><td>0</td><td>&quot;N&quot;</td><td>0</td><td>&quot;N&quot;</td><td>0</td><td>&quot;N&quot;</td><td>0</td><td>&quot;N&quot;</td><td>0</td><td>&quot;N&quot;</td><td>0</td><td>&quot;N&quot;</td><td>0</td><td>&quot;N&quot;</td><td>0</td><td>&quot;N&quot;</td></tr><tr><td>28</td><td>79</td><td>4</td><td>8</td><td>&quot;28079004_8_8&quot;</td><td>2024</td><td>12</td><td>12</td><td>21.0</td><td>&quot;V&quot;</td><td>20.0</td><td>&quot;V&quot;</td><td>18.0</td><td>&quot;V&quot;</td><td>22.0</td><td>&quot;V&quot;</td><td>17.0</td><td>&quot;V&quot;</td><td>22.0</td><td>&quot;V&quot;</td><td>21.0</td><td>&quot;V&quot;</td><td>36.0</td><td>&quot;V&quot;</td><td>52.0</td><td>&quot;V&quot;</td><td>55.0</td><td>&quot;V&quot;</td><td>0</td><td>&quot;N&quot;</td><td>0</td><td>&quot;N&quot;</td><td>0</td><td>&quot;N&quot;</td><td>0</td><td>&quot;N&quot;</td><td>0</td><td>&quot;N&quot;</td><td>0</td><td>&quot;N&quot;</td><td>0</td><td>&quot;N&quot;</td><td>0</td><td>&quot;N&quot;</td><td>0</td><td>&quot;N&quot;</td><td>0</td><td>&quot;N&quot;</td><td>0</td><td>&quot;N&quot;</td><td>0</td><td>&quot;N&quot;</td><td>0</td><td>&quot;N&quot;</td><td>0</td><td>&quot;N&quot;</td></tr><tr><td>28</td><td>79</td><td>4</td><td>12</td><td>&quot;28079004_12_8&quot;</td><td>2024</td><td>12</td><td>12</td><td>25.0</td><td>&quot;V&quot;</td><td>24.0</td><td>&quot;V&quot;</td><td>22.0</td><td>&quot;V&quot;</td><td>25.0</td><td>&quot;V&quot;</td><td>21.0</td><td>&quot;V&quot;</td><td>31.0</td><td>&quot;V&quot;</td><td>27.0</td><td>&quot;V&quot;</td><td>51.0</td><td>&quot;V&quot;</td><td>100.0</td><td>&quot;V&quot;</td><td>158.0</td><td>&quot;V&quot;</td><td>0</td><td>&quot;N&quot;</td><td>0</td><td>&quot;N&quot;</td><td>0</td><td>&quot;N&quot;</td><td>0</td><td>&quot;N&quot;</td><td>0</td><td>&quot;N&quot;</td><td>0</td><td>&quot;N&quot;</td><td>0</td><td>&quot;N&quot;</td><td>0</td><td>&quot;N&quot;</td><td>0</td><td>&quot;N&quot;</td><td>0</td><td>&quot;N&quot;</td><td>0</td><td>&quot;N&quot;</td><td>0</td><td>&quot;N&quot;</td><td>0</td><td>&quot;N&quot;</td><td>0</td><td>&quot;N&quot;</td></tr></tbody></table></div>"
      ],
      "text/plain": [
       "shape: (5, 56)\n",
       "┌───────────┬───────────┬──────────┬──────────┬───┬─────┬─────┬─────┬─────┐\n",
       "│ PROVINCIA ┆ MUNICIPIO ┆ ESTACION ┆ MAGNITUD ┆ … ┆ H23 ┆ V23 ┆ H24 ┆ V24 │\n",
       "│ ---       ┆ ---       ┆ ---      ┆ ---      ┆   ┆ --- ┆ --- ┆ --- ┆ --- │\n",
       "│ i64       ┆ i64       ┆ i64      ┆ i64      ┆   ┆ i64 ┆ str ┆ i64 ┆ str │\n",
       "╞═══════════╪═══════════╪══════════╪══════════╪═══╪═════╪═════╪═════╪═════╡\n",
       "│ 28        ┆ 79        ┆ 4        ┆ 1        ┆ … ┆ 0   ┆ N   ┆ 0   ┆ N   │\n",
       "│ 28        ┆ 79        ┆ 4        ┆ 6        ┆ … ┆ 0   ┆ N   ┆ 0   ┆ N   │\n",
       "│ 28        ┆ 79        ┆ 4        ┆ 7        ┆ … ┆ 0   ┆ N   ┆ 0   ┆ N   │\n",
       "│ 28        ┆ 79        ┆ 4        ┆ 8        ┆ … ┆ 0   ┆ N   ┆ 0   ┆ N   │\n",
       "│ 28        ┆ 79        ┆ 4        ┆ 12       ┆ … ┆ 0   ┆ N   ┆ 0   ┆ N   │\n",
       "└───────────┴───────────┴──────────┴──────────┴───┴─────┴─────┴─────┴─────┘"
      ]
     },
     "execution_count": 3,
     "metadata": {},
     "output_type": "execute_result"
    }
   ],
   "source": [
    "dfp.head()"
   ]
  },
  {
   "cell_type": "code",
   "execution_count": 4,
   "metadata": {},
   "outputs": [
    {
     "data": {
      "text/html": [
       "<div><style>\n",
       ".dataframe > thead > tr,\n",
       ".dataframe > tbody > tr {\n",
       "  text-align: right;\n",
       "  white-space: pre-wrap;\n",
       "}\n",
       "</style>\n",
       "<small>shape: (1, 56)</small><table border=\"1\" class=\"dataframe\"><thead><tr><th>PROVINCIA</th><th>MUNICIPIO</th><th>ESTACION</th><th>MAGNITUD</th><th>PUNTO_MUESTREO</th><th>ANO</th><th>MES</th><th>DIA</th><th>H01</th><th>V01</th><th>H02</th><th>V02</th><th>H03</th><th>V03</th><th>H04</th><th>V04</th><th>H05</th><th>V05</th><th>H06</th><th>V06</th><th>H07</th><th>V07</th><th>H08</th><th>V08</th><th>H09</th><th>V09</th><th>H10</th><th>V10</th><th>H11</th><th>V11</th><th>H12</th><th>V12</th><th>H13</th><th>V13</th><th>H14</th><th>V14</th><th>H15</th><th>V15</th><th>H16</th><th>V16</th><th>H17</th><th>V17</th><th>H18</th><th>V18</th><th>H19</th><th>V19</th><th>H20</th><th>V20</th><th>H21</th><th>V21</th><th>H22</th><th>V22</th><th>H23</th><th>V23</th><th>H24</th><th>V24</th></tr><tr><td>i64</td><td>i64</td><td>i64</td><td>i64</td><td>str</td><td>i64</td><td>i64</td><td>i64</td><td>f64</td><td>str</td><td>f64</td><td>str</td><td>f64</td><td>str</td><td>f64</td><td>str</td><td>f64</td><td>str</td><td>f64</td><td>str</td><td>f64</td><td>str</td><td>f64</td><td>str</td><td>f64</td><td>str</td><td>f64</td><td>str</td><td>i64</td><td>str</td><td>i64</td><td>str</td><td>i64</td><td>str</td><td>i64</td><td>str</td><td>i64</td><td>str</td><td>i64</td><td>str</td><td>i64</td><td>str</td><td>i64</td><td>str</td><td>i64</td><td>str</td><td>i64</td><td>str</td><td>i64</td><td>str</td><td>i64</td><td>str</td><td>i64</td><td>str</td><td>i64</td><td>str</td></tr></thead><tbody><tr><td>28</td><td>79</td><td>8</td><td>8</td><td>&quot;28079008_8_8&quot;</td><td>2024</td><td>12</td><td>12</td><td>23.0</td><td>&quot;V&quot;</td><td>19.0</td><td>&quot;V&quot;</td><td>24.0</td><td>&quot;V&quot;</td><td>22.0</td><td>&quot;V&quot;</td><td>14.0</td><td>&quot;V&quot;</td><td>17.0</td><td>&quot;V&quot;</td><td>28.0</td><td>&quot;V&quot;</td><td>48.0</td><td>&quot;V&quot;</td><td>48.0</td><td>&quot;V&quot;</td><td>47.0</td><td>&quot;V&quot;</td><td>0</td><td>&quot;N&quot;</td><td>0</td><td>&quot;N&quot;</td><td>0</td><td>&quot;N&quot;</td><td>0</td><td>&quot;N&quot;</td><td>0</td><td>&quot;N&quot;</td><td>0</td><td>&quot;N&quot;</td><td>0</td><td>&quot;N&quot;</td><td>0</td><td>&quot;N&quot;</td><td>0</td><td>&quot;N&quot;</td><td>0</td><td>&quot;N&quot;</td><td>0</td><td>&quot;N&quot;</td><td>0</td><td>&quot;N&quot;</td><td>0</td><td>&quot;N&quot;</td><td>0</td><td>&quot;N&quot;</td></tr></tbody></table></div>"
      ],
      "text/plain": [
       "shape: (1, 56)\n",
       "┌───────────┬───────────┬──────────┬──────────┬───┬─────┬─────┬─────┬─────┐\n",
       "│ PROVINCIA ┆ MUNICIPIO ┆ ESTACION ┆ MAGNITUD ┆ … ┆ H23 ┆ V23 ┆ H24 ┆ V24 │\n",
       "│ ---       ┆ ---       ┆ ---      ┆ ---      ┆   ┆ --- ┆ --- ┆ --- ┆ --- │\n",
       "│ i64       ┆ i64       ┆ i64      ┆ i64      ┆   ┆ i64 ┆ str ┆ i64 ┆ str │\n",
       "╞═══════════╪═══════════╪══════════╪══════════╪═══╪═════╪═════╪═════╪═════╡\n",
       "│ 28        ┆ 79        ┆ 8        ┆ 8        ┆ … ┆ 0   ┆ N   ┆ 0   ┆ N   │\n",
       "└───────────┴───────────┴──────────┴──────────┴───┴─────┴─────┴─────┴─────┘"
      ]
     },
     "execution_count": 4,
     "metadata": {},
     "output_type": "execute_result"
    }
   ],
   "source": [
    "dfp.filter(ESTACION=8, MAGNITUD = 8 ).head()"
   ]
  },
  {
   "cell_type": "code",
   "execution_count": 5,
   "metadata": {},
   "outputs": [
    {
     "data": {
      "text/html": [
       "<div><style>\n",
       ".dataframe > thead > tr,\n",
       ".dataframe > tbody > tr {\n",
       "  text-align: right;\n",
       "  white-space: pre-wrap;\n",
       "}\n",
       "</style>\n",
       "<small>shape: (1, 56)</small><table border=\"1\" class=\"dataframe\"><thead><tr><th>PROVINCIA</th><th>MUNICIPIO</th><th>ESTACION</th><th>MAGNITUD</th><th>PUNTO_MUESTREO</th><th>ANO</th><th>MES</th><th>DIA</th><th>H01</th><th>V01</th><th>H02</th><th>V02</th><th>H03</th><th>V03</th><th>H04</th><th>V04</th><th>H05</th><th>V05</th><th>H06</th><th>V06</th><th>H07</th><th>V07</th><th>H08</th><th>V08</th><th>H09</th><th>V09</th><th>H10</th><th>V10</th><th>H11</th><th>V11</th><th>H12</th><th>V12</th><th>H13</th><th>V13</th><th>H14</th><th>V14</th><th>H15</th><th>V15</th><th>H16</th><th>V16</th><th>H17</th><th>V17</th><th>H18</th><th>V18</th><th>H19</th><th>V19</th><th>H20</th><th>V20</th><th>H21</th><th>V21</th><th>H22</th><th>V22</th><th>H23</th><th>V23</th><th>H24</th><th>V24</th></tr><tr><td>i64</td><td>i64</td><td>i64</td><td>i64</td><td>str</td><td>i64</td><td>i64</td><td>i64</td><td>f64</td><td>str</td><td>f64</td><td>str</td><td>f64</td><td>str</td><td>f64</td><td>str</td><td>f64</td><td>str</td><td>f64</td><td>str</td><td>f64</td><td>str</td><td>f64</td><td>str</td><td>f64</td><td>str</td><td>f64</td><td>str</td><td>i64</td><td>str</td><td>i64</td><td>str</td><td>i64</td><td>str</td><td>i64</td><td>str</td><td>i64</td><td>str</td><td>i64</td><td>str</td><td>i64</td><td>str</td><td>i64</td><td>str</td><td>i64</td><td>str</td><td>i64</td><td>str</td><td>i64</td><td>str</td><td>i64</td><td>str</td><td>i64</td><td>str</td><td>i64</td><td>str</td></tr></thead><tbody><tr><td>28</td><td>79</td><td>8</td><td>8</td><td>&quot;28079008_8_8&quot;</td><td>2024</td><td>12</td><td>12</td><td>23.0</td><td>&quot;V&quot;</td><td>19.0</td><td>&quot;V&quot;</td><td>24.0</td><td>&quot;V&quot;</td><td>22.0</td><td>&quot;V&quot;</td><td>14.0</td><td>&quot;V&quot;</td><td>17.0</td><td>&quot;V&quot;</td><td>28.0</td><td>&quot;V&quot;</td><td>48.0</td><td>&quot;V&quot;</td><td>48.0</td><td>&quot;V&quot;</td><td>47.0</td><td>&quot;V&quot;</td><td>0</td><td>&quot;N&quot;</td><td>0</td><td>&quot;N&quot;</td><td>0</td><td>&quot;N&quot;</td><td>0</td><td>&quot;N&quot;</td><td>0</td><td>&quot;N&quot;</td><td>0</td><td>&quot;N&quot;</td><td>0</td><td>&quot;N&quot;</td><td>0</td><td>&quot;N&quot;</td><td>0</td><td>&quot;N&quot;</td><td>0</td><td>&quot;N&quot;</td><td>0</td><td>&quot;N&quot;</td><td>0</td><td>&quot;N&quot;</td><td>0</td><td>&quot;N&quot;</td><td>0</td><td>&quot;N&quot;</td></tr></tbody></table></div>"
      ],
      "text/plain": [
       "shape: (1, 56)\n",
       "┌───────────┬───────────┬──────────┬──────────┬───┬─────┬─────┬─────┬─────┐\n",
       "│ PROVINCIA ┆ MUNICIPIO ┆ ESTACION ┆ MAGNITUD ┆ … ┆ H23 ┆ V23 ┆ H24 ┆ V24 │\n",
       "│ ---       ┆ ---       ┆ ---      ┆ ---      ┆   ┆ --- ┆ --- ┆ --- ┆ --- │\n",
       "│ i64       ┆ i64       ┆ i64      ┆ i64      ┆   ┆ i64 ┆ str ┆ i64 ┆ str │\n",
       "╞═══════════╪═══════════╪══════════╪══════════╪═══╪═════╪═════╪═════╪═════╡\n",
       "│ 28        ┆ 79        ┆ 8        ┆ 8        ┆ … ┆ 0   ┆ N   ┆ 0   ┆ N   │\n",
       "└───────────┴───────────┴──────────┴──────────┴───┴─────┴─────┴─────┴─────┘"
      ]
     },
     "execution_count": 5,
     "metadata": {},
     "output_type": "execute_result"
    }
   ],
   "source": [
    "dfp.filter( (pl.col('ESTACION')==8) & (pl.col('MAGNITUD')==8)).head()"
   ]
  },
  {
   "cell_type": "code",
   "execution_count": 6,
   "metadata": {},
   "outputs": [
    {
     "data": {
      "text/html": [
       "<div><style>\n",
       ".dataframe > thead > tr,\n",
       ".dataframe > tbody > tr {\n",
       "  text-align: right;\n",
       "  white-space: pre-wrap;\n",
       "}\n",
       "</style>\n",
       "<small>shape: (48, 10)</small><table border=\"1\" class=\"dataframe\"><thead><tr><th>PROVINCIA</th><th>MUNICIPIO</th><th>ESTACION</th><th>MAGNITUD</th><th>PUNTO_MUESTREO</th><th>ANO</th><th>MES</th><th>DIA</th><th>variable</th><th>value</th></tr><tr><td>i64</td><td>i64</td><td>i64</td><td>i64</td><td>str</td><td>i64</td><td>i64</td><td>i64</td><td>str</td><td>str</td></tr></thead><tbody><tr><td>28</td><td>79</td><td>8</td><td>8</td><td>&quot;28079008_8_8&quot;</td><td>2024</td><td>12</td><td>12</td><td>&quot;H01&quot;</td><td>&quot;23.0&quot;</td></tr><tr><td>28</td><td>79</td><td>8</td><td>8</td><td>&quot;28079008_8_8&quot;</td><td>2024</td><td>12</td><td>12</td><td>&quot;V01&quot;</td><td>&quot;V&quot;</td></tr><tr><td>28</td><td>79</td><td>8</td><td>8</td><td>&quot;28079008_8_8&quot;</td><td>2024</td><td>12</td><td>12</td><td>&quot;H02&quot;</td><td>&quot;19.0&quot;</td></tr><tr><td>28</td><td>79</td><td>8</td><td>8</td><td>&quot;28079008_8_8&quot;</td><td>2024</td><td>12</td><td>12</td><td>&quot;V02&quot;</td><td>&quot;V&quot;</td></tr><tr><td>28</td><td>79</td><td>8</td><td>8</td><td>&quot;28079008_8_8&quot;</td><td>2024</td><td>12</td><td>12</td><td>&quot;H03&quot;</td><td>&quot;24.0&quot;</td></tr><tr><td>&hellip;</td><td>&hellip;</td><td>&hellip;</td><td>&hellip;</td><td>&hellip;</td><td>&hellip;</td><td>&hellip;</td><td>&hellip;</td><td>&hellip;</td><td>&hellip;</td></tr><tr><td>28</td><td>79</td><td>8</td><td>8</td><td>&quot;28079008_8_8&quot;</td><td>2024</td><td>12</td><td>12</td><td>&quot;V22&quot;</td><td>&quot;N&quot;</td></tr><tr><td>28</td><td>79</td><td>8</td><td>8</td><td>&quot;28079008_8_8&quot;</td><td>2024</td><td>12</td><td>12</td><td>&quot;H23&quot;</td><td>&quot;0&quot;</td></tr><tr><td>28</td><td>79</td><td>8</td><td>8</td><td>&quot;28079008_8_8&quot;</td><td>2024</td><td>12</td><td>12</td><td>&quot;V23&quot;</td><td>&quot;N&quot;</td></tr><tr><td>28</td><td>79</td><td>8</td><td>8</td><td>&quot;28079008_8_8&quot;</td><td>2024</td><td>12</td><td>12</td><td>&quot;H24&quot;</td><td>&quot;0&quot;</td></tr><tr><td>28</td><td>79</td><td>8</td><td>8</td><td>&quot;28079008_8_8&quot;</td><td>2024</td><td>12</td><td>12</td><td>&quot;V24&quot;</td><td>&quot;N&quot;</td></tr></tbody></table></div>"
      ],
      "text/plain": [
       "shape: (48, 10)\n",
       "┌───────────┬───────────┬──────────┬──────────┬───┬─────┬─────┬──────────┬───────┐\n",
       "│ PROVINCIA ┆ MUNICIPIO ┆ ESTACION ┆ MAGNITUD ┆ … ┆ MES ┆ DIA ┆ variable ┆ value │\n",
       "│ ---       ┆ ---       ┆ ---      ┆ ---      ┆   ┆ --- ┆ --- ┆ ---      ┆ ---   │\n",
       "│ i64       ┆ i64       ┆ i64      ┆ i64      ┆   ┆ i64 ┆ i64 ┆ str      ┆ str   │\n",
       "╞═══════════╪═══════════╪══════════╪══════════╪═══╪═════╪═════╪══════════╪═══════╡\n",
       "│ 28        ┆ 79        ┆ 8        ┆ 8        ┆ … ┆ 12  ┆ 12  ┆ H01      ┆ 23.0  │\n",
       "│ 28        ┆ 79        ┆ 8        ┆ 8        ┆ … ┆ 12  ┆ 12  ┆ V01      ┆ V     │\n",
       "│ 28        ┆ 79        ┆ 8        ┆ 8        ┆ … ┆ 12  ┆ 12  ┆ H02      ┆ 19.0  │\n",
       "│ 28        ┆ 79        ┆ 8        ┆ 8        ┆ … ┆ 12  ┆ 12  ┆ V02      ┆ V     │\n",
       "│ 28        ┆ 79        ┆ 8        ┆ 8        ┆ … ┆ 12  ┆ 12  ┆ H03      ┆ 24.0  │\n",
       "│ …         ┆ …         ┆ …        ┆ …        ┆ … ┆ …   ┆ …   ┆ …        ┆ …     │\n",
       "│ 28        ┆ 79        ┆ 8        ┆ 8        ┆ … ┆ 12  ┆ 12  ┆ V22      ┆ N     │\n",
       "│ 28        ┆ 79        ┆ 8        ┆ 8        ┆ … ┆ 12  ┆ 12  ┆ H23      ┆ 0     │\n",
       "│ 28        ┆ 79        ┆ 8        ┆ 8        ┆ … ┆ 12  ┆ 12  ┆ V23      ┆ N     │\n",
       "│ 28        ┆ 79        ┆ 8        ┆ 8        ┆ … ┆ 12  ┆ 12  ┆ H24      ┆ 0     │\n",
       "│ 28        ┆ 79        ┆ 8        ┆ 8        ┆ … ┆ 12  ┆ 12  ┆ V24      ┆ N     │\n",
       "└───────────┴───────────┴──────────┴──────────┴───┴─────┴─────┴──────────┴───────┘"
      ]
     },
     "execution_count": 6,
     "metadata": {},
     "output_type": "execute_result"
    }
   ],
   "source": [
    "dfp2 =dfp.filter( (pl.col('ESTACION')==8) & (pl.col('MAGNITUD')==8)).unpivot(index = ['PROVINCIA',\t'MUNICIPIO',\t'ESTACION',\t'MAGNITUD'\t,'PUNTO_MUESTREO',\t'ANO',\t'MES',\t'DIA'])\n",
    "\n",
    "dfp2"
   ]
  },
  {
   "cell_type": "code",
   "execution_count": 7,
   "metadata": {},
   "outputs": [
    {
     "data": {
      "text/html": [
       "<div><style>\n",
       ".dataframe > thead > tr,\n",
       ".dataframe > tbody > tr {\n",
       "  text-align: right;\n",
       "  white-space: pre-wrap;\n",
       "}\n",
       "</style>\n",
       "<small>shape: (48, 12)</small><table border=\"1\" class=\"dataframe\"><thead><tr><th>PROVINCIA</th><th>MUNICIPIO</th><th>ESTACION</th><th>MAGNITUD</th><th>PUNTO_MUESTREO</th><th>ANO</th><th>MES</th><th>DIA</th><th>variable</th><th>value</th><th>NV</th><th>HORA</th></tr><tr><td>i64</td><td>i64</td><td>i64</td><td>i64</td><td>str</td><td>i64</td><td>i64</td><td>i64</td><td>str</td><td>str</td><td>str</td><td>str</td></tr></thead><tbody><tr><td>28</td><td>79</td><td>8</td><td>8</td><td>&quot;28079008_8_8&quot;</td><td>2024</td><td>12</td><td>12</td><td>&quot;H01&quot;</td><td>&quot;23.0&quot;</td><td>&quot;H&quot;</td><td>&quot;01&quot;</td></tr><tr><td>28</td><td>79</td><td>8</td><td>8</td><td>&quot;28079008_8_8&quot;</td><td>2024</td><td>12</td><td>12</td><td>&quot;V01&quot;</td><td>&quot;V&quot;</td><td>&quot;V&quot;</td><td>&quot;01&quot;</td></tr><tr><td>28</td><td>79</td><td>8</td><td>8</td><td>&quot;28079008_8_8&quot;</td><td>2024</td><td>12</td><td>12</td><td>&quot;H02&quot;</td><td>&quot;19.0&quot;</td><td>&quot;H&quot;</td><td>&quot;02&quot;</td></tr><tr><td>28</td><td>79</td><td>8</td><td>8</td><td>&quot;28079008_8_8&quot;</td><td>2024</td><td>12</td><td>12</td><td>&quot;V02&quot;</td><td>&quot;V&quot;</td><td>&quot;V&quot;</td><td>&quot;02&quot;</td></tr><tr><td>28</td><td>79</td><td>8</td><td>8</td><td>&quot;28079008_8_8&quot;</td><td>2024</td><td>12</td><td>12</td><td>&quot;H03&quot;</td><td>&quot;24.0&quot;</td><td>&quot;H&quot;</td><td>&quot;03&quot;</td></tr><tr><td>&hellip;</td><td>&hellip;</td><td>&hellip;</td><td>&hellip;</td><td>&hellip;</td><td>&hellip;</td><td>&hellip;</td><td>&hellip;</td><td>&hellip;</td><td>&hellip;</td><td>&hellip;</td><td>&hellip;</td></tr><tr><td>28</td><td>79</td><td>8</td><td>8</td><td>&quot;28079008_8_8&quot;</td><td>2024</td><td>12</td><td>12</td><td>&quot;V22&quot;</td><td>&quot;N&quot;</td><td>&quot;V&quot;</td><td>&quot;22&quot;</td></tr><tr><td>28</td><td>79</td><td>8</td><td>8</td><td>&quot;28079008_8_8&quot;</td><td>2024</td><td>12</td><td>12</td><td>&quot;H23&quot;</td><td>&quot;0&quot;</td><td>&quot;H&quot;</td><td>&quot;23&quot;</td></tr><tr><td>28</td><td>79</td><td>8</td><td>8</td><td>&quot;28079008_8_8&quot;</td><td>2024</td><td>12</td><td>12</td><td>&quot;V23&quot;</td><td>&quot;N&quot;</td><td>&quot;V&quot;</td><td>&quot;23&quot;</td></tr><tr><td>28</td><td>79</td><td>8</td><td>8</td><td>&quot;28079008_8_8&quot;</td><td>2024</td><td>12</td><td>12</td><td>&quot;H24&quot;</td><td>&quot;0&quot;</td><td>&quot;H&quot;</td><td>&quot;24&quot;</td></tr><tr><td>28</td><td>79</td><td>8</td><td>8</td><td>&quot;28079008_8_8&quot;</td><td>2024</td><td>12</td><td>12</td><td>&quot;V24&quot;</td><td>&quot;N&quot;</td><td>&quot;V&quot;</td><td>&quot;24&quot;</td></tr></tbody></table></div>"
      ],
      "text/plain": [
       "shape: (48, 12)\n",
       "┌───────────┬───────────┬──────────┬──────────┬───┬──────────┬───────┬─────┬──────┐\n",
       "│ PROVINCIA ┆ MUNICIPIO ┆ ESTACION ┆ MAGNITUD ┆ … ┆ variable ┆ value ┆ NV  ┆ HORA │\n",
       "│ ---       ┆ ---       ┆ ---      ┆ ---      ┆   ┆ ---      ┆ ---   ┆ --- ┆ ---  │\n",
       "│ i64       ┆ i64       ┆ i64      ┆ i64      ┆   ┆ str      ┆ str   ┆ str ┆ str  │\n",
       "╞═══════════╪═══════════╪══════════╪══════════╪═══╪══════════╪═══════╪═════╪══════╡\n",
       "│ 28        ┆ 79        ┆ 8        ┆ 8        ┆ … ┆ H01      ┆ 23.0  ┆ H   ┆ 01   │\n",
       "│ 28        ┆ 79        ┆ 8        ┆ 8        ┆ … ┆ V01      ┆ V     ┆ V   ┆ 01   │\n",
       "│ 28        ┆ 79        ┆ 8        ┆ 8        ┆ … ┆ H02      ┆ 19.0  ┆ H   ┆ 02   │\n",
       "│ 28        ┆ 79        ┆ 8        ┆ 8        ┆ … ┆ V02      ┆ V     ┆ V   ┆ 02   │\n",
       "│ 28        ┆ 79        ┆ 8        ┆ 8        ┆ … ┆ H03      ┆ 24.0  ┆ H   ┆ 03   │\n",
       "│ …         ┆ …         ┆ …        ┆ …        ┆ … ┆ …        ┆ …     ┆ …   ┆ …    │\n",
       "│ 28        ┆ 79        ┆ 8        ┆ 8        ┆ … ┆ V22      ┆ N     ┆ V   ┆ 22   │\n",
       "│ 28        ┆ 79        ┆ 8        ┆ 8        ┆ … ┆ H23      ┆ 0     ┆ H   ┆ 23   │\n",
       "│ 28        ┆ 79        ┆ 8        ┆ 8        ┆ … ┆ V23      ┆ N     ┆ V   ┆ 23   │\n",
       "│ 28        ┆ 79        ┆ 8        ┆ 8        ┆ … ┆ H24      ┆ 0     ┆ H   ┆ 24   │\n",
       "│ 28        ┆ 79        ┆ 8        ┆ 8        ┆ … ┆ V24      ┆ N     ┆ V   ┆ 24   │\n",
       "└───────────┴───────────┴──────────┴──────────┴───┴──────────┴───────┴─────┴──────┘"
      ]
     },
     "execution_count": 7,
     "metadata": {},
     "output_type": "execute_result"
    }
   ],
   "source": [
    "dfp3 = dfp2.with_columns((pl.col('variable').str.slice(0,1)).alias('NV')).with_columns((pl.col('variable').str.slice(1)).alias('HORA'))\n",
    "dfp3"
   ]
  },
  {
   "cell_type": "code",
   "execution_count": 8,
   "metadata": {},
   "outputs": [
    {
     "data": {
      "text/html": [
       "<div><style>\n",
       ".dataframe > thead > tr,\n",
       ".dataframe > tbody > tr {\n",
       "  text-align: right;\n",
       "  white-space: pre-wrap;\n",
       "}\n",
       "</style>\n",
       "<small>shape: (24, 11)</small><table border=\"1\" class=\"dataframe\"><thead><tr><th>PROVINCIA</th><th>MUNICIPIO</th><th>ESTACION</th><th>MAGNITUD</th><th>PUNTO_MUESTREO</th><th>ANO</th><th>MES</th><th>DIA</th><th>HORA</th><th>H</th><th>V</th></tr><tr><td>i64</td><td>i64</td><td>i64</td><td>i64</td><td>str</td><td>i64</td><td>i64</td><td>i64</td><td>str</td><td>str</td><td>str</td></tr></thead><tbody><tr><td>28</td><td>79</td><td>8</td><td>8</td><td>&quot;28079008_8_8&quot;</td><td>2024</td><td>12</td><td>12</td><td>&quot;01&quot;</td><td>&quot;23.0&quot;</td><td>&quot;V&quot;</td></tr><tr><td>28</td><td>79</td><td>8</td><td>8</td><td>&quot;28079008_8_8&quot;</td><td>2024</td><td>12</td><td>12</td><td>&quot;02&quot;</td><td>&quot;19.0&quot;</td><td>&quot;V&quot;</td></tr><tr><td>28</td><td>79</td><td>8</td><td>8</td><td>&quot;28079008_8_8&quot;</td><td>2024</td><td>12</td><td>12</td><td>&quot;03&quot;</td><td>&quot;24.0&quot;</td><td>&quot;V&quot;</td></tr><tr><td>28</td><td>79</td><td>8</td><td>8</td><td>&quot;28079008_8_8&quot;</td><td>2024</td><td>12</td><td>12</td><td>&quot;04&quot;</td><td>&quot;22.0&quot;</td><td>&quot;V&quot;</td></tr><tr><td>28</td><td>79</td><td>8</td><td>8</td><td>&quot;28079008_8_8&quot;</td><td>2024</td><td>12</td><td>12</td><td>&quot;05&quot;</td><td>&quot;14.0&quot;</td><td>&quot;V&quot;</td></tr><tr><td>&hellip;</td><td>&hellip;</td><td>&hellip;</td><td>&hellip;</td><td>&hellip;</td><td>&hellip;</td><td>&hellip;</td><td>&hellip;</td><td>&hellip;</td><td>&hellip;</td><td>&hellip;</td></tr><tr><td>28</td><td>79</td><td>8</td><td>8</td><td>&quot;28079008_8_8&quot;</td><td>2024</td><td>12</td><td>12</td><td>&quot;20&quot;</td><td>&quot;0&quot;</td><td>&quot;N&quot;</td></tr><tr><td>28</td><td>79</td><td>8</td><td>8</td><td>&quot;28079008_8_8&quot;</td><td>2024</td><td>12</td><td>12</td><td>&quot;21&quot;</td><td>&quot;0&quot;</td><td>&quot;N&quot;</td></tr><tr><td>28</td><td>79</td><td>8</td><td>8</td><td>&quot;28079008_8_8&quot;</td><td>2024</td><td>12</td><td>12</td><td>&quot;22&quot;</td><td>&quot;0&quot;</td><td>&quot;N&quot;</td></tr><tr><td>28</td><td>79</td><td>8</td><td>8</td><td>&quot;28079008_8_8&quot;</td><td>2024</td><td>12</td><td>12</td><td>&quot;23&quot;</td><td>&quot;0&quot;</td><td>&quot;N&quot;</td></tr><tr><td>28</td><td>79</td><td>8</td><td>8</td><td>&quot;28079008_8_8&quot;</td><td>2024</td><td>12</td><td>12</td><td>&quot;24&quot;</td><td>&quot;0&quot;</td><td>&quot;N&quot;</td></tr></tbody></table></div>"
      ],
      "text/plain": [
       "shape: (24, 11)\n",
       "┌───────────┬───────────┬──────────┬──────────┬───┬─────┬──────┬──────┬─────┐\n",
       "│ PROVINCIA ┆ MUNICIPIO ┆ ESTACION ┆ MAGNITUD ┆ … ┆ DIA ┆ HORA ┆ H    ┆ V   │\n",
       "│ ---       ┆ ---       ┆ ---      ┆ ---      ┆   ┆ --- ┆ ---  ┆ ---  ┆ --- │\n",
       "│ i64       ┆ i64       ┆ i64      ┆ i64      ┆   ┆ i64 ┆ str  ┆ str  ┆ str │\n",
       "╞═══════════╪═══════════╪══════════╪══════════╪═══╪═════╪══════╪══════╪═════╡\n",
       "│ 28        ┆ 79        ┆ 8        ┆ 8        ┆ … ┆ 12  ┆ 01   ┆ 23.0 ┆ V   │\n",
       "│ 28        ┆ 79        ┆ 8        ┆ 8        ┆ … ┆ 12  ┆ 02   ┆ 19.0 ┆ V   │\n",
       "│ 28        ┆ 79        ┆ 8        ┆ 8        ┆ … ┆ 12  ┆ 03   ┆ 24.0 ┆ V   │\n",
       "│ 28        ┆ 79        ┆ 8        ┆ 8        ┆ … ┆ 12  ┆ 04   ┆ 22.0 ┆ V   │\n",
       "│ 28        ┆ 79        ┆ 8        ┆ 8        ┆ … ┆ 12  ┆ 05   ┆ 14.0 ┆ V   │\n",
       "│ …         ┆ …         ┆ …        ┆ …        ┆ … ┆ …   ┆ …    ┆ …    ┆ …   │\n",
       "│ 28        ┆ 79        ┆ 8        ┆ 8        ┆ … ┆ 12  ┆ 20   ┆ 0    ┆ N   │\n",
       "│ 28        ┆ 79        ┆ 8        ┆ 8        ┆ … ┆ 12  ┆ 21   ┆ 0    ┆ N   │\n",
       "│ 28        ┆ 79        ┆ 8        ┆ 8        ┆ … ┆ 12  ┆ 22   ┆ 0    ┆ N   │\n",
       "│ 28        ┆ 79        ┆ 8        ┆ 8        ┆ … ┆ 12  ┆ 23   ┆ 0    ┆ N   │\n",
       "│ 28        ┆ 79        ┆ 8        ┆ 8        ┆ … ┆ 12  ┆ 24   ┆ 0    ┆ N   │\n",
       "└───────────┴───────────┴──────────┴──────────┴───┴─────┴──────┴──────┴─────┘"
      ]
     },
     "execution_count": 8,
     "metadata": {},
     "output_type": "execute_result"
    }
   ],
   "source": [
    "dfp4 =(dfp3\n",
    "    .pivot(on='NV', values='value', index = ['PROVINCIA',\t'MUNICIPIO',\t'ESTACION',\t'MAGNITUD'\t,'PUNTO_MUESTREO',\t'ANO',\t'MES',\t'DIA', 'HORA'])\n",
    ")\n",
    "dfp4"
   ]
  },
  {
   "cell_type": "code",
   "execution_count": 9,
   "metadata": {},
   "outputs": [
    {
     "data": {
      "text/html": [
       "<div><style>\n",
       ".dataframe > thead > tr,\n",
       ".dataframe > tbody > tr {\n",
       "  text-align: right;\n",
       "  white-space: pre-wrap;\n",
       "}\n",
       "</style>\n",
       "<small>shape: (24, 11)</small><table border=\"1\" class=\"dataframe\"><thead><tr><th>PROVINCIA</th><th>MUNICIPIO</th><th>ESTACION</th><th>MAGNITUD</th><th>PUNTO_MUESTREO</th><th>ANO</th><th>MES</th><th>DIA</th><th>HORA</th><th>H</th><th>V</th></tr><tr><td>i64</td><td>i64</td><td>i64</td><td>i64</td><td>str</td><td>i64</td><td>i64</td><td>i64</td><td>i64</td><td>f64</td><td>str</td></tr></thead><tbody><tr><td>28</td><td>79</td><td>8</td><td>8</td><td>&quot;28079008_8_8&quot;</td><td>2024</td><td>12</td><td>12</td><td>1</td><td>23.0</td><td>&quot;V&quot;</td></tr><tr><td>28</td><td>79</td><td>8</td><td>8</td><td>&quot;28079008_8_8&quot;</td><td>2024</td><td>12</td><td>12</td><td>2</td><td>19.0</td><td>&quot;V&quot;</td></tr><tr><td>28</td><td>79</td><td>8</td><td>8</td><td>&quot;28079008_8_8&quot;</td><td>2024</td><td>12</td><td>12</td><td>3</td><td>24.0</td><td>&quot;V&quot;</td></tr><tr><td>28</td><td>79</td><td>8</td><td>8</td><td>&quot;28079008_8_8&quot;</td><td>2024</td><td>12</td><td>12</td><td>4</td><td>22.0</td><td>&quot;V&quot;</td></tr><tr><td>28</td><td>79</td><td>8</td><td>8</td><td>&quot;28079008_8_8&quot;</td><td>2024</td><td>12</td><td>12</td><td>5</td><td>14.0</td><td>&quot;V&quot;</td></tr><tr><td>&hellip;</td><td>&hellip;</td><td>&hellip;</td><td>&hellip;</td><td>&hellip;</td><td>&hellip;</td><td>&hellip;</td><td>&hellip;</td><td>&hellip;</td><td>&hellip;</td><td>&hellip;</td></tr><tr><td>28</td><td>79</td><td>8</td><td>8</td><td>&quot;28079008_8_8&quot;</td><td>2024</td><td>12</td><td>12</td><td>20</td><td>0.0</td><td>&quot;N&quot;</td></tr><tr><td>28</td><td>79</td><td>8</td><td>8</td><td>&quot;28079008_8_8&quot;</td><td>2024</td><td>12</td><td>12</td><td>21</td><td>0.0</td><td>&quot;N&quot;</td></tr><tr><td>28</td><td>79</td><td>8</td><td>8</td><td>&quot;28079008_8_8&quot;</td><td>2024</td><td>12</td><td>12</td><td>22</td><td>0.0</td><td>&quot;N&quot;</td></tr><tr><td>28</td><td>79</td><td>8</td><td>8</td><td>&quot;28079008_8_8&quot;</td><td>2024</td><td>12</td><td>12</td><td>23</td><td>0.0</td><td>&quot;N&quot;</td></tr><tr><td>28</td><td>79</td><td>8</td><td>8</td><td>&quot;28079008_8_8&quot;</td><td>2024</td><td>12</td><td>12</td><td>24</td><td>0.0</td><td>&quot;N&quot;</td></tr></tbody></table></div>"
      ],
      "text/plain": [
       "shape: (24, 11)\n",
       "┌───────────┬───────────┬──────────┬──────────┬───┬─────┬──────┬──────┬─────┐\n",
       "│ PROVINCIA ┆ MUNICIPIO ┆ ESTACION ┆ MAGNITUD ┆ … ┆ DIA ┆ HORA ┆ H    ┆ V   │\n",
       "│ ---       ┆ ---       ┆ ---      ┆ ---      ┆   ┆ --- ┆ ---  ┆ ---  ┆ --- │\n",
       "│ i64       ┆ i64       ┆ i64      ┆ i64      ┆   ┆ i64 ┆ i64  ┆ f64  ┆ str │\n",
       "╞═══════════╪═══════════╪══════════╪══════════╪═══╪═════╪══════╪══════╪═════╡\n",
       "│ 28        ┆ 79        ┆ 8        ┆ 8        ┆ … ┆ 12  ┆ 1    ┆ 23.0 ┆ V   │\n",
       "│ 28        ┆ 79        ┆ 8        ┆ 8        ┆ … ┆ 12  ┆ 2    ┆ 19.0 ┆ V   │\n",
       "│ 28        ┆ 79        ┆ 8        ┆ 8        ┆ … ┆ 12  ┆ 3    ┆ 24.0 ┆ V   │\n",
       "│ 28        ┆ 79        ┆ 8        ┆ 8        ┆ … ┆ 12  ┆ 4    ┆ 22.0 ┆ V   │\n",
       "│ 28        ┆ 79        ┆ 8        ┆ 8        ┆ … ┆ 12  ┆ 5    ┆ 14.0 ┆ V   │\n",
       "│ …         ┆ …         ┆ …        ┆ …        ┆ … ┆ …   ┆ …    ┆ …    ┆ …   │\n",
       "│ 28        ┆ 79        ┆ 8        ┆ 8        ┆ … ┆ 12  ┆ 20   ┆ 0.0  ┆ N   │\n",
       "│ 28        ┆ 79        ┆ 8        ┆ 8        ┆ … ┆ 12  ┆ 21   ┆ 0.0  ┆ N   │\n",
       "│ 28        ┆ 79        ┆ 8        ┆ 8        ┆ … ┆ 12  ┆ 22   ┆ 0.0  ┆ N   │\n",
       "│ 28        ┆ 79        ┆ 8        ┆ 8        ┆ … ┆ 12  ┆ 23   ┆ 0.0  ┆ N   │\n",
       "│ 28        ┆ 79        ┆ 8        ┆ 8        ┆ … ┆ 12  ┆ 24   ┆ 0.0  ┆ N   │\n",
       "└───────────┴───────────┴──────────┴──────────┴───┴─────┴──────┴──────┴─────┘"
      ]
     },
     "execution_count": 9,
     "metadata": {},
     "output_type": "execute_result"
    }
   ],
   "source": [
    "dfp5 = dfp4.with_columns(H = dfp4['H'].cast(float) ).with_columns(HORA = dfp4['HORA'].cast(int))\n",
    "dfp5"
   ]
  },
  {
   "cell_type": "code",
   "execution_count": 10,
   "metadata": {},
   "outputs": [
    {
     "data": {
      "text/html": [
       "<script type=\"esms-options\">{\"shimMode\": true}</script><style>*[data-root-id],\n",
       "*[data-root-id] > * {\n",
       "  box-sizing: border-box;\n",
       "  font-family: var(--jp-ui-font-family);\n",
       "  font-size: var(--jp-ui-font-size1);\n",
       "  color: var(--vscode-editor-foreground, var(--jp-ui-font-color1));\n",
       "}\n",
       "\n",
       "/* Override VSCode background color */\n",
       ".cell-output-ipywidget-background:has(\n",
       "    > .cell-output-ipywidget-background > .lm-Widget > *[data-root-id]\n",
       "  ),\n",
       ".cell-output-ipywidget-background:has(> .lm-Widget > *[data-root-id]) {\n",
       "  background-color: transparent !important;\n",
       "}\n",
       "</style>"
      ]
     },
     "metadata": {},
     "output_type": "display_data"
    },
    {
     "data": {
      "application/javascript": "(function(root) {\n  function now() {\n    return new Date();\n  }\n\n  const force = true;\n  const py_version = '3.6.2'.replace('rc', '-rc.').replace('.dev', '-dev.');\n  const reloading = false;\n  const Bokeh = root.Bokeh;\n\n  // Set a timeout for this load but only if we are not already initializing\n  if (typeof (root._bokeh_timeout) === \"undefined\" || (force || !root._bokeh_is_initializing)) {\n    root._bokeh_timeout = Date.now() + 5000;\n    root._bokeh_failed_load = false;\n  }\n\n  function run_callbacks() {\n    try {\n      root._bokeh_onload_callbacks.forEach(function(callback) {\n        if (callback != null)\n          callback();\n      });\n    } finally {\n      delete root._bokeh_onload_callbacks;\n    }\n    console.debug(\"Bokeh: all callbacks have finished\");\n  }\n\n  function load_libs(css_urls, js_urls, js_modules, js_exports, callback) {\n    if (css_urls == null) css_urls = [];\n    if (js_urls == null) js_urls = [];\n    if (js_modules == null) js_modules = [];\n    if (js_exports == null) js_exports = {};\n\n    root._bokeh_onload_callbacks.push(callback);\n\n    if (root._bokeh_is_loading > 0) {\n      // Don't load bokeh if it is still initializing\n      console.debug(\"Bokeh: BokehJS is being loaded, scheduling callback at\", now());\n      return null;\n    } else if (js_urls.length === 0 && js_modules.length === 0 && Object.keys(js_exports).length === 0) {\n      // There is nothing to load\n      run_callbacks();\n      return null;\n    }\n\n    function on_load() {\n      root._bokeh_is_loading--;\n      if (root._bokeh_is_loading === 0) {\n        console.debug(\"Bokeh: all BokehJS libraries/stylesheets loaded\");\n        run_callbacks()\n      }\n    }\n    window._bokeh_on_load = on_load\n\n    function on_error(e) {\n      const src_el = e.srcElement\n      console.error(\"failed to load \" + (src_el.href || src_el.src));\n    }\n\n    const skip = [];\n    if (window.requirejs) {\n      window.requirejs.config({'packages': {}, 'paths': {}, 'shim': {}});\n      root._bokeh_is_loading = css_urls.length + 0;\n    } else {\n      root._bokeh_is_loading = css_urls.length + js_urls.length + js_modules.length + Object.keys(js_exports).length;\n    }\n\n    const existing_stylesheets = []\n    const links = document.getElementsByTagName('link')\n    for (let i = 0; i < links.length; i++) {\n      const link = links[i]\n      if (link.href != null) {\n        existing_stylesheets.push(link.href)\n      }\n    }\n    for (let i = 0; i < css_urls.length; i++) {\n      const url = css_urls[i];\n      const escaped = encodeURI(url)\n      if (existing_stylesheets.indexOf(escaped) !== -1) {\n        on_load()\n        continue;\n      }\n      const element = document.createElement(\"link\");\n      element.onload = on_load;\n      element.onerror = on_error;\n      element.rel = \"stylesheet\";\n      element.type = \"text/css\";\n      element.href = url;\n      console.debug(\"Bokeh: injecting link tag for BokehJS stylesheet: \", url);\n      document.body.appendChild(element);\n    }    var existing_scripts = []\n    const scripts = document.getElementsByTagName('script')\n    for (let i = 0; i < scripts.length; i++) {\n      var script = scripts[i]\n      if (script.src != null) {\n        existing_scripts.push(script.src)\n      }\n    }\n    for (let i = 0; i < js_urls.length; i++) {\n      const url = js_urls[i];\n      const escaped = encodeURI(url)\n      if (skip.indexOf(escaped) !== -1 || existing_scripts.indexOf(escaped) !== -1) {\n        if (!window.requirejs) {\n          on_load();\n        }\n        continue;\n      }\n      const element = document.createElement('script');\n      element.onload = on_load;\n      element.onerror = on_error;\n      element.async = false;\n      element.src = url;\n      console.debug(\"Bokeh: injecting script tag for BokehJS library: \", url);\n      document.head.appendChild(element);\n    }\n    for (let i = 0; i < js_modules.length; i++) {\n      const url = js_modules[i];\n      const escaped = encodeURI(url)\n      if (skip.indexOf(escaped) !== -1 || existing_scripts.indexOf(escaped) !== -1) {\n        if (!window.requirejs) {\n          on_load();\n        }\n        continue;\n      }\n      var element = document.createElement('script');\n      element.onload = on_load;\n      element.onerror = on_error;\n      element.async = false;\n      element.src = url;\n      element.type = \"module\";\n      console.debug(\"Bokeh: injecting script tag for BokehJS library: \", url);\n      document.head.appendChild(element);\n    }\n    for (const name in js_exports) {\n      const url = js_exports[name];\n      const escaped = encodeURI(url)\n      if (skip.indexOf(escaped) >= 0 || root[name] != null) {\n        if (!window.requirejs) {\n          on_load();\n        }\n        continue;\n      }\n      var element = document.createElement('script');\n      element.onerror = on_error;\n      element.async = false;\n      element.type = \"module\";\n      console.debug(\"Bokeh: injecting script tag for BokehJS library: \", url);\n      element.textContent = `\n      import ${name} from \"${url}\"\n      window.${name} = ${name}\n      window._bokeh_on_load()\n      `\n      document.head.appendChild(element);\n    }\n    if (!js_urls.length && !js_modules.length) {\n      on_load()\n    }\n  };\n\n  function inject_raw_css(css) {\n    const element = document.createElement(\"style\");\n    element.appendChild(document.createTextNode(css));\n    document.body.appendChild(element);\n  }\n\n  const js_urls = [\"https://cdn.holoviz.org/panel/1.5.4/dist/bundled/reactiveesm/es-module-shims@^1.10.0/dist/es-module-shims.min.js\", \"https://cdn.bokeh.org/bokeh/release/bokeh-3.6.2.min.js\", \"https://cdn.bokeh.org/bokeh/release/bokeh-gl-3.6.2.min.js\", \"https://cdn.bokeh.org/bokeh/release/bokeh-widgets-3.6.2.min.js\", \"https://cdn.bokeh.org/bokeh/release/bokeh-tables-3.6.2.min.js\", \"https://cdn.holoviz.org/panel/1.5.4/dist/panel.min.js\"];\n  const js_modules = [];\n  const js_exports = {};\n  const css_urls = [];\n  const inline_js = [    function(Bokeh) {\n      Bokeh.set_log_level(\"info\");\n    },\nfunction(Bokeh) {} // ensure no trailing comma for IE\n  ];\n\n  function run_inline_js() {\n    if ((root.Bokeh !== undefined) || (force === true)) {\n      for (let i = 0; i < inline_js.length; i++) {\n        try {\n          inline_js[i].call(root, root.Bokeh);\n        } catch(e) {\n          if (!reloading) {\n            throw e;\n          }\n        }\n      }\n      // Cache old bokeh versions\n      if (Bokeh != undefined && !reloading) {\n        var NewBokeh = root.Bokeh;\n        if (Bokeh.versions === undefined) {\n          Bokeh.versions = new Map();\n        }\n        if (NewBokeh.version !== Bokeh.version) {\n          Bokeh.versions.set(NewBokeh.version, NewBokeh)\n        }\n        root.Bokeh = Bokeh;\n      }\n    } else if (Date.now() < root._bokeh_timeout) {\n      setTimeout(run_inline_js, 100);\n    } else if (!root._bokeh_failed_load) {\n      console.log(\"Bokeh: BokehJS failed to load within specified timeout.\");\n      root._bokeh_failed_load = true;\n    }\n    root._bokeh_is_initializing = false\n  }\n\n  function load_or_wait() {\n    // Implement a backoff loop that tries to ensure we do not load multiple\n    // versions of Bokeh and its dependencies at the same time.\n    // In recent versions we use the root._bokeh_is_initializing flag\n    // to determine whether there is an ongoing attempt to initialize\n    // bokeh, however for backward compatibility we also try to ensure\n    // that we do not start loading a newer (Panel>=1.0 and Bokeh>3) version\n    // before older versions are fully initialized.\n    if (root._bokeh_is_initializing && Date.now() > root._bokeh_timeout) {\n      // If the timeout and bokeh was not successfully loaded we reset\n      // everything and try loading again\n      root._bokeh_timeout = Date.now() + 5000;\n      root._bokeh_is_initializing = false;\n      root._bokeh_onload_callbacks = undefined;\n      root._bokeh_is_loading = 0\n      console.log(\"Bokeh: BokehJS was loaded multiple times but one version failed to initialize.\");\n      load_or_wait();\n    } else if (root._bokeh_is_initializing || (typeof root._bokeh_is_initializing === \"undefined\" && root._bokeh_onload_callbacks !== undefined)) {\n      setTimeout(load_or_wait, 100);\n    } else {\n      root._bokeh_is_initializing = true\n      root._bokeh_onload_callbacks = []\n      const bokeh_loaded = root.Bokeh != null && (root.Bokeh.version === py_version || (root.Bokeh.versions !== undefined && root.Bokeh.versions.has(py_version)));\n      if (!reloading && !bokeh_loaded) {\n        if (root.Bokeh) {\n          root.Bokeh = undefined;\n        }\n        console.debug(\"Bokeh: BokehJS not loaded, scheduling load and callback at\", now());\n      }\n      load_libs(css_urls, js_urls, js_modules, js_exports, function() {\n        console.debug(\"Bokeh: BokehJS plotting callback run at\", now());\n        run_inline_js();\n      });\n    }\n  }\n  // Give older versions of the autoload script a head-start to ensure\n  // they initialize before we start loading newer version.\n  setTimeout(load_or_wait, 100)\n}(window));",
      "application/vnd.holoviews_load.v0+json": ""
     },
     "metadata": {},
     "output_type": "display_data"
    },
    {
     "data": {
      "application/javascript": "\nif ((window.PyViz === undefined) || (window.PyViz instanceof HTMLElement)) {\n  window.PyViz = {comms: {}, comm_status:{}, kernels:{}, receivers: {}, plot_index: []}\n}\n\n\n    function JupyterCommManager() {\n    }\n\n    JupyterCommManager.prototype.register_target = function(plot_id, comm_id, msg_handler) {\n      if (window.comm_manager || ((window.Jupyter !== undefined) && (Jupyter.notebook.kernel != null))) {\n        var comm_manager = window.comm_manager || Jupyter.notebook.kernel.comm_manager;\n        comm_manager.register_target(comm_id, function(comm) {\n          comm.on_msg(msg_handler);\n        });\n      } else if ((plot_id in window.PyViz.kernels) && (window.PyViz.kernels[plot_id])) {\n        window.PyViz.kernels[plot_id].registerCommTarget(comm_id, function(comm) {\n          comm.onMsg = msg_handler;\n        });\n      } else if (typeof google != 'undefined' && google.colab.kernel != null) {\n        google.colab.kernel.comms.registerTarget(comm_id, (comm) => {\n          var messages = comm.messages[Symbol.asyncIterator]();\n          function processIteratorResult(result) {\n            var message = result.value;\n            console.log(message)\n            var content = {data: message.data, comm_id};\n            var buffers = []\n            for (var buffer of message.buffers || []) {\n              buffers.push(new DataView(buffer))\n            }\n            var metadata = message.metadata || {};\n            var msg = {content, buffers, metadata}\n            msg_handler(msg);\n            return messages.next().then(processIteratorResult);\n          }\n          return messages.next().then(processIteratorResult);\n        })\n      }\n    }\n\n    JupyterCommManager.prototype.get_client_comm = function(plot_id, comm_id, msg_handler) {\n      if (comm_id in window.PyViz.comms) {\n        return window.PyViz.comms[comm_id];\n      } else if (window.comm_manager || ((window.Jupyter !== undefined) && (Jupyter.notebook.kernel != null))) {\n        var comm_manager = window.comm_manager || Jupyter.notebook.kernel.comm_manager;\n        var comm = comm_manager.new_comm(comm_id, {}, {}, {}, comm_id);\n        if (msg_handler) {\n          comm.on_msg(msg_handler);\n        }\n      } else if ((plot_id in window.PyViz.kernels) && (window.PyViz.kernels[plot_id])) {\n        var comm = window.PyViz.kernels[plot_id].connectToComm(comm_id);\n        comm.open();\n        if (msg_handler) {\n          comm.onMsg = msg_handler;\n        }\n      } else if (typeof google != 'undefined' && google.colab.kernel != null) {\n        var comm_promise = google.colab.kernel.comms.open(comm_id)\n        comm_promise.then((comm) => {\n          window.PyViz.comms[comm_id] = comm;\n          if (msg_handler) {\n            var messages = comm.messages[Symbol.asyncIterator]();\n            function processIteratorResult(result) {\n              var message = result.value;\n              var content = {data: message.data};\n              var metadata = message.metadata || {comm_id};\n              var msg = {content, metadata}\n              msg_handler(msg);\n              return messages.next().then(processIteratorResult);\n            }\n            return messages.next().then(processIteratorResult);\n          }\n        }) \n        var sendClosure = (data, metadata, buffers, disposeOnDone) => {\n          return comm_promise.then((comm) => {\n            comm.send(data, metadata, buffers, disposeOnDone);\n          });\n        };\n        var comm = {\n          send: sendClosure\n        };\n      }\n      window.PyViz.comms[comm_id] = comm;\n      return comm;\n    }\n    window.PyViz.comm_manager = new JupyterCommManager();\n    \n\n\nvar JS_MIME_TYPE = 'application/javascript';\nvar HTML_MIME_TYPE = 'text/html';\nvar EXEC_MIME_TYPE = 'application/vnd.holoviews_exec.v0+json';\nvar CLASS_NAME = 'output';\n\n/**\n * Render data to the DOM node\n */\nfunction render(props, node) {\n  var div = document.createElement(\"div\");\n  var script = document.createElement(\"script\");\n  node.appendChild(div);\n  node.appendChild(script);\n}\n\n/**\n * Handle when a new output is added\n */\nfunction handle_add_output(event, handle) {\n  var output_area = handle.output_area;\n  var output = handle.output;\n  if ((output.data == undefined) || (!output.data.hasOwnProperty(EXEC_MIME_TYPE))) {\n    return\n  }\n  var id = output.metadata[EXEC_MIME_TYPE][\"id\"];\n  var toinsert = output_area.element.find(\".\" + CLASS_NAME.split(' ')[0]);\n  if (id !== undefined) {\n    var nchildren = toinsert.length;\n    var html_node = toinsert[nchildren-1].children[0];\n    html_node.innerHTML = output.data[HTML_MIME_TYPE];\n    var scripts = [];\n    var nodelist = html_node.querySelectorAll(\"script\");\n    for (var i in nodelist) {\n      if (nodelist.hasOwnProperty(i)) {\n        scripts.push(nodelist[i])\n      }\n    }\n\n    scripts.forEach( function (oldScript) {\n      var newScript = document.createElement(\"script\");\n      var attrs = [];\n      var nodemap = oldScript.attributes;\n      for (var j in nodemap) {\n        if (nodemap.hasOwnProperty(j)) {\n          attrs.push(nodemap[j])\n        }\n      }\n      attrs.forEach(function(attr) { newScript.setAttribute(attr.name, attr.value) });\n      newScript.appendChild(document.createTextNode(oldScript.innerHTML));\n      oldScript.parentNode.replaceChild(newScript, oldScript);\n    });\n    if (JS_MIME_TYPE in output.data) {\n      toinsert[nchildren-1].children[1].textContent = output.data[JS_MIME_TYPE];\n    }\n    output_area._hv_plot_id = id;\n    if ((window.Bokeh !== undefined) && (id in Bokeh.index)) {\n      window.PyViz.plot_index[id] = Bokeh.index[id];\n    } else {\n      window.PyViz.plot_index[id] = null;\n    }\n  } else if (output.metadata[EXEC_MIME_TYPE][\"server_id\"] !== undefined) {\n    var bk_div = document.createElement(\"div\");\n    bk_div.innerHTML = output.data[HTML_MIME_TYPE];\n    var script_attrs = bk_div.children[0].attributes;\n    for (var i = 0; i < script_attrs.length; i++) {\n      toinsert[toinsert.length - 1].childNodes[1].setAttribute(script_attrs[i].name, script_attrs[i].value);\n    }\n    // store reference to server id on output_area\n    output_area._bokeh_server_id = output.metadata[EXEC_MIME_TYPE][\"server_id\"];\n  }\n}\n\n/**\n * Handle when an output is cleared or removed\n */\nfunction handle_clear_output(event, handle) {\n  var id = handle.cell.output_area._hv_plot_id;\n  var server_id = handle.cell.output_area._bokeh_server_id;\n  if (((id === undefined) || !(id in PyViz.plot_index)) && (server_id !== undefined)) { return; }\n  var comm = window.PyViz.comm_manager.get_client_comm(\"hv-extension-comm\", \"hv-extension-comm\", function () {});\n  if (server_id !== null) {\n    comm.send({event_type: 'server_delete', 'id': server_id});\n    return;\n  } else if (comm !== null) {\n    comm.send({event_type: 'delete', 'id': id});\n  }\n  delete PyViz.plot_index[id];\n  if ((window.Bokeh !== undefined) & (id in window.Bokeh.index)) {\n    var doc = window.Bokeh.index[id].model.document\n    doc.clear();\n    const i = window.Bokeh.documents.indexOf(doc);\n    if (i > -1) {\n      window.Bokeh.documents.splice(i, 1);\n    }\n  }\n}\n\n/**\n * Handle kernel restart event\n */\nfunction handle_kernel_cleanup(event, handle) {\n  delete PyViz.comms[\"hv-extension-comm\"];\n  window.PyViz.plot_index = {}\n}\n\n/**\n * Handle update_display_data messages\n */\nfunction handle_update_output(event, handle) {\n  handle_clear_output(event, {cell: {output_area: handle.output_area}})\n  handle_add_output(event, handle)\n}\n\nfunction register_renderer(events, OutputArea) {\n  function append_mime(data, metadata, element) {\n    // create a DOM node to render to\n    var toinsert = this.create_output_subarea(\n    metadata,\n    CLASS_NAME,\n    EXEC_MIME_TYPE\n    );\n    this.keyboard_manager.register_events(toinsert);\n    // Render to node\n    var props = {data: data, metadata: metadata[EXEC_MIME_TYPE]};\n    render(props, toinsert[0]);\n    element.append(toinsert);\n    return toinsert\n  }\n\n  events.on('output_added.OutputArea', handle_add_output);\n  events.on('output_updated.OutputArea', handle_update_output);\n  events.on('clear_output.CodeCell', handle_clear_output);\n  events.on('delete.Cell', handle_clear_output);\n  events.on('kernel_ready.Kernel', handle_kernel_cleanup);\n\n  OutputArea.prototype.register_mime_type(EXEC_MIME_TYPE, append_mime, {\n    safe: true,\n    index: 0\n  });\n}\n\nif (window.Jupyter !== undefined) {\n  try {\n    var events = require('base/js/events');\n    var OutputArea = require('notebook/js/outputarea').OutputArea;\n    if (OutputArea.prototype.mime_types().indexOf(EXEC_MIME_TYPE) == -1) {\n      register_renderer(events, OutputArea);\n    }\n  } catch(err) {\n  }\n}\n",
      "application/vnd.holoviews_load.v0+json": ""
     },
     "metadata": {},
     "output_type": "display_data"
    },
    {
     "data": {
      "application/vnd.holoviews_exec.v0+json": "",
      "text/html": [
       "<div id='b257c55f-4230-40bc-8dc3-6c95c2948631'>\n",
       "  <div id=\"d0b4962d-4b87-495a-9128-522db4b6d0dc\" data-root-id=\"b257c55f-4230-40bc-8dc3-6c95c2948631\" style=\"display: contents;\"></div>\n",
       "</div>\n",
       "<script type=\"application/javascript\">(function(root) {\n",
       "  var docs_json = {\"40d57533-2113-4210-bb7e-55a3cde93204\":{\"version\":\"3.6.2\",\"title\":\"Bokeh Application\",\"roots\":[{\"type\":\"object\",\"name\":\"panel.models.browser.BrowserInfo\",\"id\":\"b257c55f-4230-40bc-8dc3-6c95c2948631\"},{\"type\":\"object\",\"name\":\"panel.models.comm_manager.CommManager\",\"id\":\"255938ff-dbff-4508-abb8-3936c9486faa\",\"attributes\":{\"plot_id\":\"b257c55f-4230-40bc-8dc3-6c95c2948631\",\"comm_id\":\"2026b0335850441683de41c8a20a4e7e\",\"client_comm_id\":\"182cba9b48ac41478c3b1193ef575bdb\"}}],\"defs\":[{\"type\":\"model\",\"name\":\"ReactiveHTML1\"},{\"type\":\"model\",\"name\":\"FlexBox1\",\"properties\":[{\"name\":\"align_content\",\"kind\":\"Any\",\"default\":\"flex-start\"},{\"name\":\"align_items\",\"kind\":\"Any\",\"default\":\"flex-start\"},{\"name\":\"flex_direction\",\"kind\":\"Any\",\"default\":\"row\"},{\"name\":\"flex_wrap\",\"kind\":\"Any\",\"default\":\"wrap\"},{\"name\":\"gap\",\"kind\":\"Any\",\"default\":\"\"},{\"name\":\"justify_content\",\"kind\":\"Any\",\"default\":\"flex-start\"}]},{\"type\":\"model\",\"name\":\"FloatPanel1\",\"properties\":[{\"name\":\"config\",\"kind\":\"Any\",\"default\":{\"type\":\"map\"}},{\"name\":\"contained\",\"kind\":\"Any\",\"default\":true},{\"name\":\"position\",\"kind\":\"Any\",\"default\":\"right-top\"},{\"name\":\"offsetx\",\"kind\":\"Any\",\"default\":null},{\"name\":\"offsety\",\"kind\":\"Any\",\"default\":null},{\"name\":\"theme\",\"kind\":\"Any\",\"default\":\"primary\"},{\"name\":\"status\",\"kind\":\"Any\",\"default\":\"normalized\"}]},{\"type\":\"model\",\"name\":\"GridStack1\",\"properties\":[{\"name\":\"mode\",\"kind\":\"Any\",\"default\":\"warn\"},{\"name\":\"ncols\",\"kind\":\"Any\",\"default\":null},{\"name\":\"nrows\",\"kind\":\"Any\",\"default\":null},{\"name\":\"allow_resize\",\"kind\":\"Any\",\"default\":true},{\"name\":\"allow_drag\",\"kind\":\"Any\",\"default\":true},{\"name\":\"state\",\"kind\":\"Any\",\"default\":[]}]},{\"type\":\"model\",\"name\":\"drag1\",\"properties\":[{\"name\":\"slider_width\",\"kind\":\"Any\",\"default\":5},{\"name\":\"slider_color\",\"kind\":\"Any\",\"default\":\"black\"},{\"name\":\"value\",\"kind\":\"Any\",\"default\":50}]},{\"type\":\"model\",\"name\":\"click1\",\"properties\":[{\"name\":\"terminal_output\",\"kind\":\"Any\",\"default\":\"\"},{\"name\":\"debug_name\",\"kind\":\"Any\",\"default\":\"\"},{\"name\":\"clears\",\"kind\":\"Any\",\"default\":0}]},{\"type\":\"model\",\"name\":\"FastWrapper1\",\"properties\":[{\"name\":\"object\",\"kind\":\"Any\",\"default\":null},{\"name\":\"style\",\"kind\":\"Any\",\"default\":null}]},{\"type\":\"model\",\"name\":\"NotificationAreaBase1\",\"properties\":[{\"name\":\"js_events\",\"kind\":\"Any\",\"default\":{\"type\":\"map\"}},{\"name\":\"position\",\"kind\":\"Any\",\"default\":\"bottom-right\"},{\"name\":\"_clear\",\"kind\":\"Any\",\"default\":0}]},{\"type\":\"model\",\"name\":\"NotificationArea1\",\"properties\":[{\"name\":\"js_events\",\"kind\":\"Any\",\"default\":{\"type\":\"map\"}},{\"name\":\"notifications\",\"kind\":\"Any\",\"default\":[]},{\"name\":\"position\",\"kind\":\"Any\",\"default\":\"bottom-right\"},{\"name\":\"_clear\",\"kind\":\"Any\",\"default\":0},{\"name\":\"types\",\"kind\":\"Any\",\"default\":[{\"type\":\"map\",\"entries\":[[\"type\",\"warning\"],[\"background\",\"#ffc107\"],[\"icon\",{\"type\":\"map\",\"entries\":[[\"className\",\"fas fa-exclamation-triangle\"],[\"tagName\",\"i\"],[\"color\",\"white\"]]}]]},{\"type\":\"map\",\"entries\":[[\"type\",\"info\"],[\"background\",\"#007bff\"],[\"icon\",{\"type\":\"map\",\"entries\":[[\"className\",\"fas fa-info-circle\"],[\"tagName\",\"i\"],[\"color\",\"white\"]]}]]}]}]},{\"type\":\"model\",\"name\":\"Notification\",\"properties\":[{\"name\":\"background\",\"kind\":\"Any\",\"default\":null},{\"name\":\"duration\",\"kind\":\"Any\",\"default\":3000},{\"name\":\"icon\",\"kind\":\"Any\",\"default\":null},{\"name\":\"message\",\"kind\":\"Any\",\"default\":\"\"},{\"name\":\"notification_type\",\"kind\":\"Any\",\"default\":null},{\"name\":\"_destroyed\",\"kind\":\"Any\",\"default\":false}]},{\"type\":\"model\",\"name\":\"TemplateActions1\",\"properties\":[{\"name\":\"open_modal\",\"kind\":\"Any\",\"default\":0},{\"name\":\"close_modal\",\"kind\":\"Any\",\"default\":0}]},{\"type\":\"model\",\"name\":\"BootstrapTemplateActions1\",\"properties\":[{\"name\":\"open_modal\",\"kind\":\"Any\",\"default\":0},{\"name\":\"close_modal\",\"kind\":\"Any\",\"default\":0}]},{\"type\":\"model\",\"name\":\"TemplateEditor1\",\"properties\":[{\"name\":\"layout\",\"kind\":\"Any\",\"default\":[]}]},{\"type\":\"model\",\"name\":\"MaterialTemplateActions1\",\"properties\":[{\"name\":\"open_modal\",\"kind\":\"Any\",\"default\":0},{\"name\":\"close_modal\",\"kind\":\"Any\",\"default\":0}]},{\"type\":\"model\",\"name\":\"ReactiveESM1\",\"properties\":[{\"name\":\"esm_constants\",\"kind\":\"Any\",\"default\":{\"type\":\"map\"}}]},{\"type\":\"model\",\"name\":\"JSComponent1\",\"properties\":[{\"name\":\"esm_constants\",\"kind\":\"Any\",\"default\":{\"type\":\"map\"}}]},{\"type\":\"model\",\"name\":\"ReactComponent1\",\"properties\":[{\"name\":\"esm_constants\",\"kind\":\"Any\",\"default\":{\"type\":\"map\"}}]},{\"type\":\"model\",\"name\":\"AnyWidgetComponent1\",\"properties\":[{\"name\":\"esm_constants\",\"kind\":\"Any\",\"default\":{\"type\":\"map\"}}]},{\"type\":\"model\",\"name\":\"request_value1\",\"properties\":[{\"name\":\"fill\",\"kind\":\"Any\",\"default\":\"none\"},{\"name\":\"_synced\",\"kind\":\"Any\",\"default\":null},{\"name\":\"_request_sync\",\"kind\":\"Any\",\"default\":0}]}]}};\n",
       "  var render_items = [{\"docid\":\"40d57533-2113-4210-bb7e-55a3cde93204\",\"roots\":{\"b257c55f-4230-40bc-8dc3-6c95c2948631\":\"d0b4962d-4b87-495a-9128-522db4b6d0dc\"},\"root_ids\":[\"b257c55f-4230-40bc-8dc3-6c95c2948631\"]}];\n",
       "  var docs = Object.values(docs_json)\n",
       "  if (!docs) {\n",
       "    return\n",
       "  }\n",
       "  const py_version = docs[0].version.replace('rc', '-rc.').replace('.dev', '-dev.')\n",
       "  async function embed_document(root) {\n",
       "    var Bokeh = get_bokeh(root)\n",
       "    await Bokeh.embed.embed_items_notebook(docs_json, render_items);\n",
       "    for (const render_item of render_items) {\n",
       "      for (const root_id of render_item.root_ids) {\n",
       "\tconst id_el = document.getElementById(root_id)\n",
       "\tif (id_el.children.length && id_el.children[0].hasAttribute('data-root-id')) {\n",
       "\t  const root_el = id_el.children[0]\n",
       "\t  root_el.id = root_el.id + '-rendered'\n",
       "\t  for (const child of root_el.children) {\n",
       "            // Ensure JupyterLab does not capture keyboard shortcuts\n",
       "            // see: https://jupyterlab.readthedocs.io/en/4.1.x/extension/notebook.html#keyboard-interaction-model\n",
       "\t    child.setAttribute('data-lm-suppress-shortcuts', 'true')\n",
       "\t  }\n",
       "\t}\n",
       "      }\n",
       "    }\n",
       "  }\n",
       "  function get_bokeh(root) {\n",
       "    if (root.Bokeh === undefined) {\n",
       "      return null\n",
       "    } else if (root.Bokeh.version !== py_version) {\n",
       "      if (root.Bokeh.versions === undefined || !root.Bokeh.versions.has(py_version)) {\n",
       "\treturn null\n",
       "      }\n",
       "      return root.Bokeh.versions.get(py_version);\n",
       "    } else if (root.Bokeh.version === py_version) {\n",
       "      return root.Bokeh\n",
       "    }\n",
       "    return null\n",
       "  }\n",
       "  function is_loaded(root) {\n",
       "    var Bokeh = get_bokeh(root)\n",
       "    return (Bokeh != null && Bokeh.Panel !== undefined)\n",
       "  }\n",
       "  if (is_loaded(root)) {\n",
       "    embed_document(root);\n",
       "  } else {\n",
       "    var attempts = 0;\n",
       "    var timer = setInterval(function(root) {\n",
       "      if (is_loaded(root)) {\n",
       "        clearInterval(timer);\n",
       "        embed_document(root);\n",
       "      } else if (document.readyState == \"complete\") {\n",
       "        attempts++;\n",
       "        if (attempts > 200) {\n",
       "          clearInterval(timer);\n",
       "\t  var Bokeh = get_bokeh(root)\n",
       "\t  if (Bokeh == null || Bokeh.Panel == null) {\n",
       "            console.warn(\"Panel: ERROR: Unable to run Panel code because Bokeh or Panel library is missing\");\n",
       "\t  } else {\n",
       "\t    console.warn(\"Panel: WARNING: Attempting to render but not all required libraries could be resolved.\")\n",
       "\t    embed_document(root)\n",
       "\t  }\n",
       "        }\n",
       "      }\n",
       "    }, 25, root)\n",
       "  }\n",
       "})(window);</script>"
      ]
     },
     "metadata": {
      "application/vnd.holoviews_exec.v0+json": {
       "id": "b257c55f-4230-40bc-8dc3-6c95c2948631"
      }
     },
     "output_type": "display_data"
    },
    {
     "data": {},
     "metadata": {},
     "output_type": "display_data"
    },
    {
     "data": {
      "application/vnd.holoviews_exec.v0+json": "",
      "text/html": [
       "<div id='1861b7c6-d60d-4c27-8fa3-761e73ea2075'>\n",
       "  <div id=\"d4db624d-a7fb-4e37-b2b8-a2cc783fbc3e\" data-root-id=\"1861b7c6-d60d-4c27-8fa3-761e73ea2075\" style=\"display: contents;\"></div>\n",
       "</div>\n",
       "<script type=\"application/javascript\">(function(root) {\n",
       "  var docs_json = {\"f6ba7cd9-859f-4dc7-a67b-6095eb663756\":{\"version\":\"3.6.2\",\"title\":\"Bokeh Application\",\"roots\":[{\"type\":\"object\",\"name\":\"Row\",\"id\":\"1861b7c6-d60d-4c27-8fa3-761e73ea2075\",\"attributes\":{\"name\":\"Row00279\",\"tags\":[\"embedded\"],\"stylesheets\":[\"\\n:host(.pn-loading):before, .pn-loading:before {\\n  background-color: #c3c3c3;\\n  mask-size: auto calc(min(50%, 400px));\\n  -webkit-mask-size: auto calc(min(50%, 400px));\\n}\",{\"type\":\"object\",\"name\":\"ImportedStyleSheet\",\"id\":\"6787e0dc-ba0c-464d-8322-1cec41ffbf3f\",\"attributes\":{\"url\":\"https://cdn.holoviz.org/panel/1.5.4/dist/css/loading.css\"}},{\"type\":\"object\",\"name\":\"ImportedStyleSheet\",\"id\":\"7f8cd770-dec0-4a23-bd4c-f18e93c7c223\",\"attributes\":{\"url\":\"https://cdn.holoviz.org/panel/1.5.4/dist/css/listpanel.css\"}},{\"type\":\"object\",\"name\":\"ImportedStyleSheet\",\"id\":\"2e3a1b79-96d9-4dc5-becb-ac9c160af6be\",\"attributes\":{\"url\":\"https://cdn.holoviz.org/panel/1.5.4/dist/bundled/theme/default.css\"}},{\"type\":\"object\",\"name\":\"ImportedStyleSheet\",\"id\":\"ccd01391-df24-48d0-98f1-e01b661e32f4\",\"attributes\":{\"url\":\"https://cdn.holoviz.org/panel/1.5.4/dist/bundled/theme/native.css\"}}],\"min_width\":700,\"margin\":0,\"sizing_mode\":\"stretch_width\",\"align\":\"start\",\"children\":[{\"type\":\"object\",\"name\":\"Spacer\",\"id\":\"cb1d7631-cb61-46d5-a21b-24b2d67fdc3a\",\"attributes\":{\"name\":\"HSpacer00283\",\"stylesheets\":[\"\\n:host(.pn-loading):before, .pn-loading:before {\\n  background-color: #c3c3c3;\\n  mask-size: auto calc(min(50%, 400px));\\n  -webkit-mask-size: auto calc(min(50%, 400px));\\n}\",{\"id\":\"6787e0dc-ba0c-464d-8322-1cec41ffbf3f\"},{\"id\":\"2e3a1b79-96d9-4dc5-becb-ac9c160af6be\"},{\"id\":\"ccd01391-df24-48d0-98f1-e01b661e32f4\"}],\"margin\":0,\"sizing_mode\":\"stretch_width\",\"align\":\"start\"}},{\"type\":\"object\",\"name\":\"Figure\",\"id\":\"deecde70-355d-4c36-b4a2-5675ba55b746\",\"attributes\":{\"width\":700,\"height\":300,\"margin\":[5,10],\"sizing_mode\":\"fixed\",\"align\":\"start\",\"x_range\":{\"type\":\"object\",\"name\":\"Range1d\",\"id\":\"8389f12d-19c5-4ff9-b063-3e88c3d389b3\",\"attributes\":{\"name\":\"HORA\",\"tags\":[[[\"HORA\",null]],[]],\"start\":1.0,\"end\":24.0,\"reset_start\":1.0,\"reset_end\":24.0}},\"y_range\":{\"type\":\"object\",\"name\":\"Range1d\",\"id\":\"f8c16a5f-c615-47d3-bd39-fdecf8aa91a6\",\"attributes\":{\"name\":\"H\",\"tags\":[[[\"H\",null]],{\"type\":\"map\",\"entries\":[[\"invert_yaxis\",false],[\"autorange\",false]]}],\"start\":-4.800000000000001,\"end\":52.8,\"reset_start\":-4.800000000000001,\"reset_end\":52.8}},\"x_scale\":{\"type\":\"object\",\"name\":\"LinearScale\",\"id\":\"b9576cd6-65ec-4db1-b9e8-d350db23ed4a\"},\"y_scale\":{\"type\":\"object\",\"name\":\"LinearScale\",\"id\":\"6f6871fd-8971-4378-90fc-468c0847c91b\"},\"title\":{\"type\":\"object\",\"name\":\"Title\",\"id\":\"b8d9f636-1879-458a-96d1-fd6ead5bac2a\",\"attributes\":{\"text_color\":\"black\",\"text_font_size\":\"12pt\"}},\"renderers\":[{\"type\":\"object\",\"name\":\"GlyphRenderer\",\"id\":\"be4b2bba-82b6-4fc4-9159-b90419167309\",\"attributes\":{\"data_source\":{\"type\":\"object\",\"name\":\"ColumnDataSource\",\"id\":\"fd567a87-fede-44f6-bfbd-f3073542c3cc\",\"attributes\":{\"selected\":{\"type\":\"object\",\"name\":\"Selection\",\"id\":\"5e7f36b8-055a-40af-a8ba-a89d3deacfed\",\"attributes\":{\"indices\":[],\"line_indices\":[]}},\"selection_policy\":{\"type\":\"object\",\"name\":\"UnionRenderers\",\"id\":\"65971f6c-3a9b-45eb-9959-e7b0ad9c251b\"},\"data\":{\"type\":\"map\",\"entries\":[[\"HORA\",{\"type\":\"ndarray\",\"array\":{\"type\":\"bytes\",\"data\":\"AQAAAAIAAAADAAAABAAAAAUAAAAGAAAABwAAAAgAAAAJAAAACgAAAAsAAAAMAAAADQAAAA4AAAAPAAAAEAAAABEAAAASAAAAEwAAABQAAAAVAAAAFgAAABcAAAAYAAAA\"},\"shape\":[24],\"dtype\":\"int32\",\"order\":\"little\"}],[\"H\",{\"type\":\"ndarray\",\"array\":{\"type\":\"bytes\",\"data\":\"AAAAAAAAN0AAAAAAAAAzQAAAAAAAADhAAAAAAAAANkAAAAAAAAAsQAAAAAAAADFAAAAAAAAAPEAAAAAAAABIQAAAAAAAAEhAAAAAAACAR0AAAAAAAAAAAAAAAAAAAAAAAAAAAAAAAAAAAAAAAAAAAAAAAAAAAAAAAAAAAAAAAAAAAAAAAAAAAAAAAAAAAAAAAAAAAAAAAAAAAAAAAAAAAAAAAAAAAAAAAAAAAAAAAAAAAAAAAAAAAAAAAAAAAAAA\"},\"shape\":[24],\"dtype\":\"float64\",\"order\":\"little\"}]]}}},\"view\":{\"type\":\"object\",\"name\":\"CDSView\",\"id\":\"6029e47e-3220-4d8d-81ab-a1867f655738\",\"attributes\":{\"filter\":{\"type\":\"object\",\"name\":\"AllIndices\",\"id\":\"d7f8e512-433a-4b79-9a52-af4458c6cd68\"}}},\"glyph\":{\"type\":\"object\",\"name\":\"Line\",\"id\":\"e4a2babb-4fcd-462c-9c21-517da175dd77\",\"attributes\":{\"tags\":[\"apply_ranges\"],\"x\":{\"type\":\"field\",\"field\":\"HORA\"},\"y\":{\"type\":\"field\",\"field\":\"H\"},\"line_color\":\"#30a2da\",\"line_width\":2}},\"selection_glyph\":{\"type\":\"object\",\"name\":\"Line\",\"id\":\"2fd5947b-6a9d-4687-af38-4717bc1e24bb\",\"attributes\":{\"tags\":[\"apply_ranges\"],\"x\":{\"type\":\"field\",\"field\":\"HORA\"},\"y\":{\"type\":\"field\",\"field\":\"H\"},\"line_color\":\"#30a2da\",\"line_width\":2}},\"nonselection_glyph\":{\"type\":\"object\",\"name\":\"Line\",\"id\":\"61afe5f2-f990-42ac-9c4e-49f90a19a033\",\"attributes\":{\"tags\":[\"apply_ranges\"],\"x\":{\"type\":\"field\",\"field\":\"HORA\"},\"y\":{\"type\":\"field\",\"field\":\"H\"},\"line_color\":\"#30a2da\",\"line_alpha\":0.1,\"line_width\":2}},\"muted_glyph\":{\"type\":\"object\",\"name\":\"Line\",\"id\":\"5001a7d4-83f6-4635-b0b4-19b90d55fcff\",\"attributes\":{\"tags\":[\"apply_ranges\"],\"x\":{\"type\":\"field\",\"field\":\"HORA\"},\"y\":{\"type\":\"field\",\"field\":\"H\"},\"line_color\":\"#30a2da\",\"line_alpha\":0.2,\"line_width\":2}}}}],\"toolbar\":{\"type\":\"object\",\"name\":\"Toolbar\",\"id\":\"ca3efb08-0eb7-4369-9a70-8959dc5dc4b8\",\"attributes\":{\"tools\":[{\"type\":\"object\",\"name\":\"WheelZoomTool\",\"id\":\"21e8f670-b2a1-4f9d-8ffb-353f7653e1cb\",\"attributes\":{\"tags\":[\"hv_created\"],\"renderers\":\"auto\",\"zoom_together\":\"none\"}},{\"type\":\"object\",\"name\":\"HoverTool\",\"id\":\"49a56f71-e926-408a-8c5d-ce211699fd29\",\"attributes\":{\"tags\":[\"hv_created\"],\"renderers\":[{\"id\":\"be4b2bba-82b6-4fc4-9159-b90419167309\"}],\"tooltips\":[[\"HORA\",\"@{HORA}\"],[\"H\",\"@{H}\"]]}},{\"type\":\"object\",\"name\":\"SaveTool\",\"id\":\"1102684f-ab82-48b7-8bdc-9ad7721c64c6\"},{\"type\":\"object\",\"name\":\"PanTool\",\"id\":\"bddb01a6-f297-4872-8b3f-2ec8ad4c517e\"},{\"type\":\"object\",\"name\":\"BoxZoomTool\",\"id\":\"b41470b4-2814-497a-b5da-e9765bf9fb3d\",\"attributes\":{\"overlay\":{\"type\":\"object\",\"name\":\"BoxAnnotation\",\"id\":\"4321a546-dccf-4835-91a2-67f2046f62b6\",\"attributes\":{\"syncable\":false,\"line_color\":\"black\",\"line_alpha\":1.0,\"line_width\":2,\"line_dash\":[4,4],\"fill_color\":\"lightgrey\",\"fill_alpha\":0.5,\"level\":\"overlay\",\"visible\":false,\"left\":{\"type\":\"number\",\"value\":\"nan\"},\"right\":{\"type\":\"number\",\"value\":\"nan\"},\"top\":{\"type\":\"number\",\"value\":\"nan\"},\"bottom\":{\"type\":\"number\",\"value\":\"nan\"},\"left_units\":\"canvas\",\"right_units\":\"canvas\",\"top_units\":\"canvas\",\"bottom_units\":\"canvas\",\"handles\":{\"type\":\"object\",\"name\":\"BoxInteractionHandles\",\"id\":\"a4173ea1-031c-42e9-8b40-793a82bfaa54\",\"attributes\":{\"all\":{\"type\":\"object\",\"name\":\"AreaVisuals\",\"id\":\"0c9c7b8e-2eaf-42de-871b-d03a229dea66\",\"attributes\":{\"fill_color\":\"white\",\"hover_fill_color\":\"lightgray\"}}}}}}}},{\"type\":\"object\",\"name\":\"ResetTool\",\"id\":\"efd60cc8-5c67-4b7b-9c9b-3f76a300e845\"}],\"active_drag\":{\"id\":\"bddb01a6-f297-4872-8b3f-2ec8ad4c517e\"},\"active_scroll\":{\"id\":\"21e8f670-b2a1-4f9d-8ffb-353f7653e1cb\"}}},\"left\":[{\"type\":\"object\",\"name\":\"LinearAxis\",\"id\":\"f322d3fd-0e4d-4acc-a3ad-5132f6292051\",\"attributes\":{\"ticker\":{\"type\":\"object\",\"name\":\"BasicTicker\",\"id\":\"3982790a-8fa3-43ca-98d8-0a085f4b1a19\",\"attributes\":{\"mantissas\":[1,2,5]}},\"formatter\":{\"type\":\"object\",\"name\":\"BasicTickFormatter\",\"id\":\"5142deaf-65f5-468f-bd12-8e1678491a4e\"},\"axis_label\":\"H\",\"major_label_policy\":{\"type\":\"object\",\"name\":\"AllLabels\",\"id\":\"674287b5-373e-4791-92fa-a3d56876e602\"}}}],\"below\":[{\"type\":\"object\",\"name\":\"LinearAxis\",\"id\":\"1e9834fb-6a2a-41bc-90e6-cc253874eb61\",\"attributes\":{\"ticker\":{\"type\":\"object\",\"name\":\"BasicTicker\",\"id\":\"1149b1c8-c3fb-44be-a055-58d08973a86e\",\"attributes\":{\"mantissas\":[1,2,5]}},\"formatter\":{\"type\":\"object\",\"name\":\"BasicTickFormatter\",\"id\":\"01ab3357-ad74-472c-8d3b-4eb42d68667c\"},\"axis_label\":\"HORA\",\"major_label_policy\":{\"type\":\"object\",\"name\":\"AllLabels\",\"id\":\"6fa323c0-b4be-4688-9ca3-6566d0074533\"}}}],\"center\":[{\"type\":\"object\",\"name\":\"Grid\",\"id\":\"32552065-4a36-4e38-99d1-027f0dfe0269\",\"attributes\":{\"axis\":{\"id\":\"1e9834fb-6a2a-41bc-90e6-cc253874eb61\"},\"grid_line_color\":null}},{\"type\":\"object\",\"name\":\"Grid\",\"id\":\"a22cb0c2-c946-4274-b661-8820519af1a9\",\"attributes\":{\"dimension\":1,\"axis\":{\"id\":\"f322d3fd-0e4d-4acc-a3ad-5132f6292051\"},\"grid_line_color\":null}}],\"min_border_top\":10,\"min_border_bottom\":10,\"min_border_left\":10,\"min_border_right\":10,\"output_backend\":\"webgl\"}},{\"type\":\"object\",\"name\":\"Spacer\",\"id\":\"93d63dc1-6456-4c61-98a8-a91c6bb9e119\",\"attributes\":{\"name\":\"HSpacer00284\",\"stylesheets\":[\"\\n:host(.pn-loading):before, .pn-loading:before {\\n  background-color: #c3c3c3;\\n  mask-size: auto calc(min(50%, 400px));\\n  -webkit-mask-size: auto calc(min(50%, 400px));\\n}\",{\"id\":\"6787e0dc-ba0c-464d-8322-1cec41ffbf3f\"},{\"id\":\"2e3a1b79-96d9-4dc5-becb-ac9c160af6be\"},{\"id\":\"ccd01391-df24-48d0-98f1-e01b661e32f4\"}],\"margin\":0,\"sizing_mode\":\"stretch_width\",\"align\":\"start\"}}]}}],\"defs\":[{\"type\":\"model\",\"name\":\"ReactiveHTML1\"},{\"type\":\"model\",\"name\":\"FlexBox1\",\"properties\":[{\"name\":\"align_content\",\"kind\":\"Any\",\"default\":\"flex-start\"},{\"name\":\"align_items\",\"kind\":\"Any\",\"default\":\"flex-start\"},{\"name\":\"flex_direction\",\"kind\":\"Any\",\"default\":\"row\"},{\"name\":\"flex_wrap\",\"kind\":\"Any\",\"default\":\"wrap\"},{\"name\":\"gap\",\"kind\":\"Any\",\"default\":\"\"},{\"name\":\"justify_content\",\"kind\":\"Any\",\"default\":\"flex-start\"}]},{\"type\":\"model\",\"name\":\"FloatPanel1\",\"properties\":[{\"name\":\"config\",\"kind\":\"Any\",\"default\":{\"type\":\"map\"}},{\"name\":\"contained\",\"kind\":\"Any\",\"default\":true},{\"name\":\"position\",\"kind\":\"Any\",\"default\":\"right-top\"},{\"name\":\"offsetx\",\"kind\":\"Any\",\"default\":null},{\"name\":\"offsety\",\"kind\":\"Any\",\"default\":null},{\"name\":\"theme\",\"kind\":\"Any\",\"default\":\"primary\"},{\"name\":\"status\",\"kind\":\"Any\",\"default\":\"normalized\"}]},{\"type\":\"model\",\"name\":\"GridStack1\",\"properties\":[{\"name\":\"mode\",\"kind\":\"Any\",\"default\":\"warn\"},{\"name\":\"ncols\",\"kind\":\"Any\",\"default\":null},{\"name\":\"nrows\",\"kind\":\"Any\",\"default\":null},{\"name\":\"allow_resize\",\"kind\":\"Any\",\"default\":true},{\"name\":\"allow_drag\",\"kind\":\"Any\",\"default\":true},{\"name\":\"state\",\"kind\":\"Any\",\"default\":[]}]},{\"type\":\"model\",\"name\":\"drag1\",\"properties\":[{\"name\":\"slider_width\",\"kind\":\"Any\",\"default\":5},{\"name\":\"slider_color\",\"kind\":\"Any\",\"default\":\"black\"},{\"name\":\"value\",\"kind\":\"Any\",\"default\":50}]},{\"type\":\"model\",\"name\":\"click1\",\"properties\":[{\"name\":\"terminal_output\",\"kind\":\"Any\",\"default\":\"\"},{\"name\":\"debug_name\",\"kind\":\"Any\",\"default\":\"\"},{\"name\":\"clears\",\"kind\":\"Any\",\"default\":0}]},{\"type\":\"model\",\"name\":\"FastWrapper1\",\"properties\":[{\"name\":\"object\",\"kind\":\"Any\",\"default\":null},{\"name\":\"style\",\"kind\":\"Any\",\"default\":null}]},{\"type\":\"model\",\"name\":\"NotificationAreaBase1\",\"properties\":[{\"name\":\"js_events\",\"kind\":\"Any\",\"default\":{\"type\":\"map\"}},{\"name\":\"position\",\"kind\":\"Any\",\"default\":\"bottom-right\"},{\"name\":\"_clear\",\"kind\":\"Any\",\"default\":0}]},{\"type\":\"model\",\"name\":\"NotificationArea1\",\"properties\":[{\"name\":\"js_events\",\"kind\":\"Any\",\"default\":{\"type\":\"map\"}},{\"name\":\"notifications\",\"kind\":\"Any\",\"default\":[]},{\"name\":\"position\",\"kind\":\"Any\",\"default\":\"bottom-right\"},{\"name\":\"_clear\",\"kind\":\"Any\",\"default\":0},{\"name\":\"types\",\"kind\":\"Any\",\"default\":[{\"type\":\"map\",\"entries\":[[\"type\",\"warning\"],[\"background\",\"#ffc107\"],[\"icon\",{\"type\":\"map\",\"entries\":[[\"className\",\"fas fa-exclamation-triangle\"],[\"tagName\",\"i\"],[\"color\",\"white\"]]}]]},{\"type\":\"map\",\"entries\":[[\"type\",\"info\"],[\"background\",\"#007bff\"],[\"icon\",{\"type\":\"map\",\"entries\":[[\"className\",\"fas fa-info-circle\"],[\"tagName\",\"i\"],[\"color\",\"white\"]]}]]}]}]},{\"type\":\"model\",\"name\":\"Notification\",\"properties\":[{\"name\":\"background\",\"kind\":\"Any\",\"default\":null},{\"name\":\"duration\",\"kind\":\"Any\",\"default\":3000},{\"name\":\"icon\",\"kind\":\"Any\",\"default\":null},{\"name\":\"message\",\"kind\":\"Any\",\"default\":\"\"},{\"name\":\"notification_type\",\"kind\":\"Any\",\"default\":null},{\"name\":\"_destroyed\",\"kind\":\"Any\",\"default\":false}]},{\"type\":\"model\",\"name\":\"TemplateActions1\",\"properties\":[{\"name\":\"open_modal\",\"kind\":\"Any\",\"default\":0},{\"name\":\"close_modal\",\"kind\":\"Any\",\"default\":0}]},{\"type\":\"model\",\"name\":\"BootstrapTemplateActions1\",\"properties\":[{\"name\":\"open_modal\",\"kind\":\"Any\",\"default\":0},{\"name\":\"close_modal\",\"kind\":\"Any\",\"default\":0}]},{\"type\":\"model\",\"name\":\"TemplateEditor1\",\"properties\":[{\"name\":\"layout\",\"kind\":\"Any\",\"default\":[]}]},{\"type\":\"model\",\"name\":\"MaterialTemplateActions1\",\"properties\":[{\"name\":\"open_modal\",\"kind\":\"Any\",\"default\":0},{\"name\":\"close_modal\",\"kind\":\"Any\",\"default\":0}]},{\"type\":\"model\",\"name\":\"ReactiveESM1\",\"properties\":[{\"name\":\"esm_constants\",\"kind\":\"Any\",\"default\":{\"type\":\"map\"}}]},{\"type\":\"model\",\"name\":\"JSComponent1\",\"properties\":[{\"name\":\"esm_constants\",\"kind\":\"Any\",\"default\":{\"type\":\"map\"}}]},{\"type\":\"model\",\"name\":\"ReactComponent1\",\"properties\":[{\"name\":\"esm_constants\",\"kind\":\"Any\",\"default\":{\"type\":\"map\"}}]},{\"type\":\"model\",\"name\":\"AnyWidgetComponent1\",\"properties\":[{\"name\":\"esm_constants\",\"kind\":\"Any\",\"default\":{\"type\":\"map\"}}]},{\"type\":\"model\",\"name\":\"request_value1\",\"properties\":[{\"name\":\"fill\",\"kind\":\"Any\",\"default\":\"none\"},{\"name\":\"_synced\",\"kind\":\"Any\",\"default\":null},{\"name\":\"_request_sync\",\"kind\":\"Any\",\"default\":0}]}]}};\n",
       "  var render_items = [{\"docid\":\"f6ba7cd9-859f-4dc7-a67b-6095eb663756\",\"roots\":{\"1861b7c6-d60d-4c27-8fa3-761e73ea2075\":\"d4db624d-a7fb-4e37-b2b8-a2cc783fbc3e\"},\"root_ids\":[\"1861b7c6-d60d-4c27-8fa3-761e73ea2075\"]}];\n",
       "  var docs = Object.values(docs_json)\n",
       "  if (!docs) {\n",
       "    return\n",
       "  }\n",
       "  const py_version = docs[0].version.replace('rc', '-rc.').replace('.dev', '-dev.')\n",
       "  async function embed_document(root) {\n",
       "    var Bokeh = get_bokeh(root)\n",
       "    await Bokeh.embed.embed_items_notebook(docs_json, render_items);\n",
       "    for (const render_item of render_items) {\n",
       "      for (const root_id of render_item.root_ids) {\n",
       "\tconst id_el = document.getElementById(root_id)\n",
       "\tif (id_el.children.length && id_el.children[0].hasAttribute('data-root-id')) {\n",
       "\t  const root_el = id_el.children[0]\n",
       "\t  root_el.id = root_el.id + '-rendered'\n",
       "\t  for (const child of root_el.children) {\n",
       "            // Ensure JupyterLab does not capture keyboard shortcuts\n",
       "            // see: https://jupyterlab.readthedocs.io/en/4.1.x/extension/notebook.html#keyboard-interaction-model\n",
       "\t    child.setAttribute('data-lm-suppress-shortcuts', 'true')\n",
       "\t  }\n",
       "\t}\n",
       "      }\n",
       "    }\n",
       "  }\n",
       "  function get_bokeh(root) {\n",
       "    if (root.Bokeh === undefined) {\n",
       "      return null\n",
       "    } else if (root.Bokeh.version !== py_version) {\n",
       "      if (root.Bokeh.versions === undefined || !root.Bokeh.versions.has(py_version)) {\n",
       "\treturn null\n",
       "      }\n",
       "      return root.Bokeh.versions.get(py_version);\n",
       "    } else if (root.Bokeh.version === py_version) {\n",
       "      return root.Bokeh\n",
       "    }\n",
       "    return null\n",
       "  }\n",
       "  function is_loaded(root) {\n",
       "    var Bokeh = get_bokeh(root)\n",
       "    return (Bokeh != null && Bokeh.Panel !== undefined)\n",
       "  }\n",
       "  if (is_loaded(root)) {\n",
       "    embed_document(root);\n",
       "  } else {\n",
       "    var attempts = 0;\n",
       "    var timer = setInterval(function(root) {\n",
       "      if (is_loaded(root)) {\n",
       "        clearInterval(timer);\n",
       "        embed_document(root);\n",
       "      } else if (document.readyState == \"complete\") {\n",
       "        attempts++;\n",
       "        if (attempts > 200) {\n",
       "          clearInterval(timer);\n",
       "\t  var Bokeh = get_bokeh(root)\n",
       "\t  if (Bokeh == null || Bokeh.Panel == null) {\n",
       "            console.warn(\"Panel: ERROR: Unable to run Panel code because Bokeh or Panel library is missing\");\n",
       "\t  } else {\n",
       "\t    console.warn(\"Panel: WARNING: Attempting to render but not all required libraries could be resolved.\")\n",
       "\t    embed_document(root)\n",
       "\t  }\n",
       "        }\n",
       "      }\n",
       "    }, 25, root)\n",
       "  }\n",
       "})(window);</script>"
      ],
      "text/plain": [
       ":Curve   [HORA]   (H)"
      ]
     },
     "execution_count": 10,
     "metadata": {
      "application/vnd.holoviews_exec.v0+json": {
       "id": "1861b7c6-d60d-4c27-8fa3-761e73ea2075"
      }
     },
     "output_type": "execute_result"
    }
   ],
   "source": [
    "import hvplot.polars\n",
    "\n",
    "dfp5.hvplot.line(x=\"HORA\", y =\"H\")"
   ]
  }
 ],
 "metadata": {
  "kernelspec": {
   "display_name": ".venv",
   "language": "python",
   "name": "python3"
  },
  "language_info": {
   "codemirror_mode": {
    "name": "ipython",
    "version": 3
   },
   "file_extension": ".py",
   "mimetype": "text/x-python",
   "name": "python",
   "nbconvert_exporter": "python",
   "pygments_lexer": "ipython3",
   "version": "3.12.1"
  }
 },
 "nbformat": 4,
 "nbformat_minor": 2
}
