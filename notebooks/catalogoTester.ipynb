{
 "cells": [
  {
   "cell_type": "markdown",
   "metadata": {},
   "source": [
    "### catalogo de datos madrid"
   ]
  },
  {
   "cell_type": "code",
   "execution_count": 1,
   "metadata": {},
   "outputs": [],
   "source": [
    "#parse dcat xml\n",
    "import xml.etree.ElementTree as ET\n",
    "import urllib.request\n",
    "\n",
    "ns = {\n",
    "    'foaf': \"http://xmlns.com/foaf/0.1/\",\n",
    "    'skos': \"http://datos.gob.es/kos/sector-publico/sector/\",\n",
    "    'dcat': \"http://www.w3.org/ns/dcat#\",\n",
    "    'rdfs': \"http://www.w3.org/2000/01/rdf-schema#\",\n",
    "    'rdf': \"http://www.w3.org/1999/02/22-rdf-syntax-ns#\",\n",
    "    'dct': \"http://purl.org/dc/terms/\",\n",
    "    'dc': \"http://purl.org/dc/elements/1.1/\",\n",
    "    'time': \"http://www.w3.org/2006/time#\",\n",
    "    'xsd': \"http://www.w3.org/2001/XMLSchema#\",\n",
    "    'j.0': \"http://www.w3.org/1999/xhtml/vocab#\",\n",
    "    'j.1': \"http://a9.com/-/spec/opensearch/1.1/\",\n",
    "    'api': \"http://purl.org/linked-data/api/vocab#\",\n",
    "}\n",
    "\n",
    "with urllib.request.urlopen('https://datos.madrid.es/egob/catalogo.rdf') as f:\n",
    "    tree = ET.parse(f)\n",
    "    root = tree.getroot()"
   ]
  },
  {
   "cell_type": "code",
   "execution_count": null,
   "metadata": {},
   "outputs": [],
   "source": [
    "from datetime import datetime\n",
    "ds_list = [{'indentifier': dataset.find('dct:identifier', ns).text,\n",
    "            'dataset_title': dataset.find('dct:title', ns).text\n",
    "            , 'theme': dataset.find('dcat:theme', ns).attrib.get('{http://www.w3.org/1999/02/22-rdf-syntax-ns#}resource')\n",
    "            , 'keywords': dataset.find('dcat:keyword', ns).text\n",
    "            , 'issued':  datetime.strptime(dataset.find('dct:issued', ns).text, '%Y-%m-%dT%H:%M:%S')\n",
    "            , 'modified': datetime.strptime(dataset.find('dct:modified', ns).text, '%Y-%m-%dT%H:%M:%S')\n",
    "            , 'frequency': dataset.find('dct:accrualPeriodicity/dct:Frequency/rdfs:label', ns).text if  dataset.find('dct:accrualPeriodicity/dct:Frequency/rdfs:label', ns) is not None else None\n",
    "            , 'distribution_title': distribution.find('dct:title', ns).text if distribution.find('dct:title', ns) is not None else None\n",
    "            , 'mediaType': distribution.find('dcat:mediaType', ns).text\n",
    "            , 'accessURL': distribution.find('dcat:accessURL', ns).text\n",
    "            }\n",
    "           for dataset\n",
    "           in root.findall('./dcat:Catalog/dcat:dataset/dcat:Dataset', ns)\n",
    "           for distribution\n",
    "           in dataset.findall('dcat:distribution/dcat:Distribution', ns)\n",
    "\n",
    "           ]\n",
    "\n",
    "len(ds_list)"
   ]
  },
  {
   "cell_type": "code",
   "execution_count": null,
   "metadata": {},
   "outputs": [],
   "source": [
    "import requests\n",
    "requests.packages.urllib3.disable_warnings() \n",
    "import csv\n",
    "\n",
    "with open('../data/catalogo_validacion4.csv', 'w') as csv_file:\n",
    "    csv_writer = csv.writer(csv_file)\n",
    "    for i, d in enumerate(ds_list[4947:]):\n",
    "        #print(d['indentifier'], d['dataset_title'], d['distribution_title'], d['mediaType'], d['accessURL'] ,sep = '; ')\n",
    "        try:\n",
    "            x = requests.head(d['accessURL'], allow_redirects=True, verify=False)\n",
    "            #print('\\t', x.status_code)\n",
    "            #print('\\t', x.headers)\n",
    "            #print('\\t', x.headers['Date'], x.headers['Last-Modified'], x.headers['Content-Type'], x.headers['Content-Length'],sep = '; ' )\n",
    "            print(i, d['dataset_title'], d['distribution_title'], x.status_code, x.headers['Content-Type'], x.headers['Content-Length'],  sep = '; ')\n",
    "            csv_writer.writerow([d['indentifier'], d['dataset_title'], d['distribution_title'], d['mediaType'], d['accessURL'] ,x.status_code,x.url, x.headers['Date'], x.headers['Last-Modified'], x.headers['Content-Type'], x.headers['Content-Length'], x.elapsed])\n",
    "        except:\n",
    "            print(i, d['indentifier'], d['dataset_title'], d['distribution_title'], d['mediaType'], d['accessURL'] ,x.status_code, 'ERROR', x.elapsed, sep='; ') \n",
    "            csv_writer.writerow([d['indentifier'], d['dataset_title'], d['distribution_title'], d['mediaType'], d['accessURL'] ,x.status_code,x.url,x.elapsed, 'ERROR']) \n",
    "\n",
    "    \n",
    "\n"
   ]
  },
  {
   "cell_type": "code",
   "execution_count": null,
   "metadata": {},
   "outputs": [],
   "source": [
    "import requests\n",
    "\n",
    "x = requests.head('https://datos.madrid.es/egob/catalogo/300724-12621499-Seccionado-censal-mapas.xls', allow_redirects=True, verify=False)\n",
    "\n",
    "print(x.status_code)\n",
    "print(x.url)\n",
    "print(x.headers)"
   ]
  }
 ],
 "metadata": {
  "kernelspec": {
   "display_name": ".venv",
   "language": "python",
   "name": "python3"
  },
  "language_info": {
   "codemirror_mode": {
    "name": "ipython",
    "version": 3
   },
   "file_extension": ".py",
   "mimetype": "text/x-python",
   "name": "python",
   "nbconvert_exporter": "python",
   "pygments_lexer": "ipython3",
   "version": "3.10.12"
  }
 },
 "nbformat": 4,
 "nbformat_minor": 2
}
