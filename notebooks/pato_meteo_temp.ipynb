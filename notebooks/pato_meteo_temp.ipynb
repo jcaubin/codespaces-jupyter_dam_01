{
 "cells": [
  {
   "cell_type": "code",
   "execution_count": 2,
   "id": "711b16f8",
   "metadata": {},
   "outputs": [],
   "source": [
    "import duckdb\n",
    "import plotly.express as px\n",
    "\n"
   ]
  },
  {
   "cell_type": "code",
   "execution_count": 7,
   "id": "e3f1c0a3",
   "metadata": {},
   "outputs": [],
   "source": [
    "%reload_ext sql\n",
    "conn = duckdb.connect('/home/jcaubin/duck_test.db') \n",
    "\n",
    "%sql conn --alias duckdb\n",
    "%config SqlMagic.displaylimit = 5 #conf de jupysql limite de filas a mostrar"
   ]
  },
  {
   "cell_type": "code",
   "execution_count": 25,
   "id": "de0c8bf3",
   "metadata": {},
   "outputs": [
    {
     "data": {
      "text/html": [
       "<span style=\"None\">Running query in &#x27;duckdb&#x27;</span>"
      ],
      "text/plain": [
       "Running query in 'duckdb'"
      ]
     },
     "metadata": {},
     "output_type": "display_data"
    }
   ],
   "source": [
    "%%sql\n",
    "\n",
    "result<<\n",
    "select TS, dia,  h, estacion_desc,valor \n",
    "from v_CALAIR \n",
    "where magnitud = 83\n",
    "and validez = 'V'\n",
    "and date_diff ('hour',TS, current_localtimestamp()) < (24)\n",
    "order by  TS, estacion_desc"
   ]
  },
  {
   "cell_type": "code",
   "execution_count": 26,
   "id": "7f6ab461",
   "metadata": {},
   "outputs": [
    {
     "data": {
      "application/vnd.plotly.v1+json": {
       "config": {
        "plotlyServerURL": "https://plot.ly"
       },
       "data": [
        {
         "alignmentgroup": "True",
         "hovertemplate": "<b>%{hovertext}</b><br><br>TS=%{x}<br>VALOR=%{y}<extra></extra>",
         "hovertext": [
          "Arturo Soria",
          "Barrio del Pilar",
          "Casa de Campo",
          "Centro Mpal. De Acústica",
          "Cuatro Caminos",
          "El Pardo",
          "Ensanche de Vallecas",
          "Escuelas Aguirre",
          "Farolillo",
          "J.M.D. Hortaleza",
          "J.M.D. Moratalaz",
          "J.M.D. Villaverde",
          "J.M.D.Chamartin",
          "J.M.D.Chamberí",
          "J.M.D.Vallecas 1",
          "Juan Carlos I",
          "Matadero 01",
          "Moratalaz",
          "Peñagrande",
          "Plaza Elíptica",
          "Plaza España",
          "Plaza del Carmen",
          "Arturo Soria",
          "Barrio del Pilar",
          "Casa de Campo",
          "Centro Mpal. De Acústica",
          "Cuatro Caminos",
          "El Pardo",
          "Ensanche de Vallecas",
          "Escuelas Aguirre",
          "Farolillo",
          "J.M.D. Hortaleza",
          "J.M.D. Moratalaz",
          "J.M.D. Villaverde",
          "J.M.D.Chamartin",
          "J.M.D.Chamberí",
          "J.M.D.Vallecas 1",
          "Juan Carlos I",
          "Matadero 01",
          "Moratalaz",
          "Peñagrande",
          "Plaza Elíptica",
          "Plaza España",
          "Plaza del Carmen",
          "Arturo Soria",
          "Barrio del Pilar",
          "Casa de Campo",
          "Centro Mpal. De Acústica",
          "Cuatro Caminos",
          "El Pardo",
          "Ensanche de Vallecas",
          "Escuelas Aguirre",
          "Farolillo",
          "J.M.D. Hortaleza",
          "J.M.D. Moratalaz",
          "J.M.D. Villaverde",
          "J.M.D.Chamartin",
          "J.M.D.Chamberí",
          "J.M.D.Vallecas 1",
          "Juan Carlos I",
          "Matadero 01",
          "Moratalaz",
          "Peñagrande",
          "Plaza Elíptica",
          "Plaza España",
          "Plaza del Carmen",
          "Arturo Soria",
          "Barrio del Pilar",
          "Casa de Campo",
          "Centro Mpal. De Acústica",
          "Cuatro Caminos",
          "El Pardo",
          "Ensanche de Vallecas",
          "Escuelas Aguirre",
          "Farolillo",
          "J.M.D. Moratalaz",
          "J.M.D. Villaverde",
          "J.M.D.Chamartin",
          "J.M.D.Chamberí",
          "Juan Carlos I",
          "Matadero 01",
          "Moratalaz",
          "Peñagrande",
          "Plaza Elíptica",
          "Plaza España",
          "Plaza del Carmen",
          "Arturo Soria",
          "Barrio del Pilar",
          "Casa de Campo",
          "Centro Mpal. De Acústica",
          "Cuatro Caminos",
          "El Pardo",
          "Ensanche de Vallecas",
          "Escuelas Aguirre",
          "Farolillo",
          "J.M.D. Hortaleza",
          "J.M.D. Moratalaz",
          "J.M.D. Villaverde",
          "J.M.D.Chamartin",
          "J.M.D.Chamberí",
          "J.M.D.Vallecas 1",
          "Juan Carlos I",
          "Matadero 01",
          "Matadero 02",
          "Moratalaz",
          "Peñagrande",
          "Plaza Elíptica",
          "Plaza España",
          "Plaza del Carmen",
          "Arturo Soria",
          "Barrio del Pilar",
          "Casa de Campo",
          "Centro Mpal. De Acústica",
          "Cuatro Caminos",
          "El Pardo",
          "Ensanche de Vallecas",
          "Escuelas Aguirre",
          "Farolillo",
          "J.M.D. Hortaleza",
          "J.M.D. Moratalaz",
          "J.M.D. Villaverde",
          "J.M.D.Chamartin",
          "J.M.D.Chamberí",
          "J.M.D.Vallecas 1",
          "Juan Carlos I",
          "Matadero 01",
          "Matadero 02",
          "Moratalaz",
          "Peñagrande",
          "Plaza Elíptica",
          "Plaza España",
          "Plaza del Carmen",
          "Arturo Soria",
          "Barrio del Pilar",
          "Casa de Campo",
          "Centro Mpal. De Acústica",
          "Cuatro Caminos",
          "El Pardo",
          "Ensanche de Vallecas",
          "Escuelas Aguirre",
          "Farolillo",
          "J.M.D. Hortaleza",
          "J.M.D. Moratalaz",
          "J.M.D.Chamartin",
          "J.M.D.Chamberí",
          "J.M.D.Vallecas 1",
          "Juan Carlos I",
          "Matadero 01",
          "Matadero 02",
          "Moratalaz",
          "Peñagrande",
          "Plaza Elíptica",
          "Plaza España",
          "Plaza del Carmen",
          "Arturo Soria",
          "Barrio del Pilar",
          "Casa de Campo",
          "Centro Mpal. De Acústica",
          "Cuatro Caminos",
          "El Pardo",
          "Ensanche de Vallecas",
          "Escuelas Aguirre",
          "Farolillo",
          "J.M.D. Hortaleza",
          "J.M.D. Moratalaz",
          "J.M.D.Chamartin",
          "J.M.D.Chamberí",
          "J.M.D.Vallecas 1",
          "Juan Carlos I",
          "Matadero 01",
          "Matadero 02",
          "Moratalaz",
          "Peñagrande",
          "Plaza Elíptica",
          "Plaza España",
          "Plaza del Carmen",
          "Arturo Soria",
          "Barrio del Pilar",
          "Casa de Campo",
          "Centro Mpal. De Acústica",
          "Cuatro Caminos",
          "El Pardo",
          "Ensanche de Vallecas",
          "Escuelas Aguirre",
          "Farolillo",
          "J.M.D. Hortaleza",
          "J.M.D. Moratalaz",
          "J.M.D.Chamartin",
          "J.M.D.Chamberí",
          "J.M.D.Vallecas 1",
          "Juan Carlos I",
          "Matadero 01",
          "Matadero 02",
          "Moratalaz",
          "Peñagrande",
          "Plaza Elíptica",
          "Plaza España",
          "Plaza del Carmen",
          "Arturo Soria",
          "Barrio del Pilar",
          "Casa de Campo",
          "Centro Mpal. De Acústica",
          "Cuatro Caminos",
          "El Pardo",
          "Ensanche de Vallecas",
          "Escuelas Aguirre",
          "Farolillo",
          "J.M.D. Hortaleza",
          "J.M.D. Moratalaz",
          "J.M.D.Chamartin",
          "J.M.D.Chamberí",
          "J.M.D.Vallecas 1",
          "Juan Carlos I",
          "Matadero 01",
          "Matadero 02",
          "Moratalaz",
          "Peñagrande",
          "Plaza Elíptica",
          "Plaza España",
          "Plaza del Carmen",
          "Arturo Soria",
          "Barrio del Pilar",
          "Casa de Campo",
          "Cuatro Caminos",
          "El Pardo",
          "Ensanche de Vallecas",
          "Escuelas Aguirre",
          "Farolillo",
          "J.M.D. Hortaleza",
          "J.M.D. Moratalaz",
          "J.M.D.Chamartin",
          "J.M.D.Chamberí",
          "J.M.D.Vallecas 1",
          "Juan Carlos I",
          "Matadero 01",
          "Matadero 02",
          "Moratalaz",
          "Peñagrande",
          "Plaza Elíptica",
          "Plaza España",
          "Plaza del Carmen",
          "Arturo Soria",
          "Barrio del Pilar",
          "Casa de Campo",
          "Cuatro Caminos",
          "El Pardo",
          "Ensanche de Vallecas",
          "Escuelas Aguirre",
          "Farolillo",
          "J.M.D. Hortaleza",
          "J.M.D. Moratalaz",
          "J.M.D.Chamartin",
          "J.M.D.Chamberí",
          "J.M.D.Vallecas 1",
          "Juan Carlos I",
          "Matadero 01",
          "Matadero 02",
          "Moratalaz",
          "Peñagrande",
          "Plaza Elíptica",
          "Plaza España",
          "Plaza del Carmen",
          "Arturo Soria",
          "Barrio del Pilar",
          "Casa de Campo",
          "Cuatro Caminos",
          "El Pardo",
          "Ensanche de Vallecas",
          "Escuelas Aguirre",
          "Farolillo",
          "J.M.D. Hortaleza",
          "J.M.D. Moratalaz",
          "J.M.D.Chamartin",
          "J.M.D.Chamberí",
          "J.M.D.Vallecas 1",
          "Juan Carlos I",
          "Matadero 01",
          "Matadero 02",
          "Moratalaz",
          "Peñagrande",
          "Plaza Elíptica",
          "Plaza España",
          "Plaza del Carmen",
          "Arturo Soria",
          "Barrio del Pilar",
          "Cuatro Caminos",
          "El Pardo",
          "Ensanche de Vallecas",
          "Escuelas Aguirre",
          "Farolillo",
          "J.M.D. Hortaleza",
          "J.M.D. Moratalaz",
          "J.M.D.Chamartin",
          "J.M.D.Chamberí",
          "J.M.D.Vallecas 1",
          "Juan Carlos I",
          "Matadero 01",
          "Matadero 02",
          "Moratalaz",
          "Peñagrande",
          "Plaza Elíptica",
          "Plaza España",
          "Plaza del Carmen",
          "Arturo Soria",
          "Barrio del Pilar",
          "Casa de Campo",
          "Cuatro Caminos",
          "El Pardo",
          "Ensanche de Vallecas",
          "Escuelas Aguirre",
          "Farolillo",
          "J.M.D. Hortaleza",
          "J.M.D. Moratalaz",
          "J.M.D.Chamartin",
          "J.M.D.Chamberí",
          "J.M.D.Vallecas 1",
          "Juan Carlos I",
          "Matadero 01",
          "Matadero 02",
          "Moratalaz",
          "Peñagrande",
          "Plaza Elíptica",
          "Plaza España",
          "Plaza del Carmen",
          "Arturo Soria",
          "Barrio del Pilar",
          "Casa de Campo",
          "Cuatro Caminos",
          "El Pardo",
          "Ensanche de Vallecas",
          "Escuelas Aguirre",
          "Farolillo",
          "J.M.D. Hortaleza",
          "J.M.D. Moratalaz",
          "J.M.D.Chamartin",
          "J.M.D.Chamberí",
          "J.M.D.Vallecas 1",
          "Juan Carlos I",
          "Matadero 01",
          "Moratalaz",
          "Peñagrande",
          "Plaza Elíptica",
          "Plaza España",
          "Plaza del Carmen",
          "Arturo Soria",
          "Barrio del Pilar",
          "Cuatro Caminos",
          "El Pardo",
          "Ensanche de Vallecas",
          "Escuelas Aguirre",
          "Farolillo",
          "J.M.D. Hortaleza",
          "J.M.D. Moratalaz",
          "J.M.D.Chamartin",
          "J.M.D.Chamberí",
          "J.M.D.Vallecas 1",
          "Juan Carlos I",
          "Matadero 01",
          "Moratalaz",
          "Peñagrande",
          "Plaza Elíptica",
          "Plaza España",
          "Plaza del Carmen",
          "Arturo Soria",
          "Barrio del Pilar",
          "Cuatro Caminos",
          "El Pardo",
          "Ensanche de Vallecas",
          "Escuelas Aguirre",
          "Farolillo",
          "J.M.D. Hortaleza",
          "J.M.D. Moratalaz",
          "J.M.D.Chamartin",
          "J.M.D.Chamberí",
          "J.M.D.Vallecas 1",
          "Juan Carlos I",
          "Matadero 01",
          "Moratalaz",
          "Peñagrande",
          "Plaza Elíptica",
          "Plaza España",
          "Plaza del Carmen",
          "Arturo Soria",
          "Barrio del Pilar",
          "Cuatro Caminos",
          "El Pardo",
          "Ensanche de Vallecas",
          "Escuelas Aguirre",
          "Farolillo",
          "J.M.D. Hortaleza",
          "J.M.D. Moratalaz",
          "J.M.D.Chamartin",
          "J.M.D.Chamberí",
          "J.M.D.Vallecas 1",
          "Juan Carlos I",
          "Matadero 01",
          "Moratalaz",
          "Peñagrande",
          "Plaza Elíptica",
          "Plaza España",
          "Plaza del Carmen",
          "Arturo Soria",
          "Barrio del Pilar",
          "Cuatro Caminos",
          "El Pardo",
          "Ensanche de Vallecas",
          "Escuelas Aguirre",
          "Farolillo",
          "J.M.D. Hortaleza",
          "J.M.D. Moratalaz",
          "J.M.D.Chamartin",
          "J.M.D.Chamberí",
          "J.M.D.Vallecas 1",
          "Juan Carlos I",
          "Matadero 01",
          "Moratalaz",
          "Peñagrande",
          "Plaza Elíptica",
          "Plaza España",
          "Plaza del Carmen",
          "Arturo Soria",
          "Barrio del Pilar",
          "Cuatro Caminos",
          "El Pardo",
          "Ensanche de Vallecas",
          "Escuelas Aguirre",
          "Farolillo",
          "J.M.D. Moratalaz",
          "J.M.D.Chamartin",
          "J.M.D.Chamberí",
          "Juan Carlos I",
          "Matadero 01",
          "Moratalaz",
          "Peñagrande",
          "Plaza Elíptica",
          "Plaza España",
          "Plaza del Carmen"
         ],
         "legendgroup": "",
         "marker": {
          "color": "#636efa"
         },
         "name": "",
         "notched": false,
         "offsetgroup": "",
         "orientation": "v",
         "showlegend": false,
         "type": "box",
         "x": [
          "2025-04-21T19:00:00",
          "2025-04-21T19:00:00",
          "2025-04-21T19:00:00",
          "2025-04-21T19:00:00",
          "2025-04-21T19:00:00",
          "2025-04-21T19:00:00",
          "2025-04-21T19:00:00",
          "2025-04-21T19:00:00",
          "2025-04-21T19:00:00",
          "2025-04-21T19:00:00",
          "2025-04-21T19:00:00",
          "2025-04-21T19:00:00",
          "2025-04-21T19:00:00",
          "2025-04-21T19:00:00",
          "2025-04-21T19:00:00",
          "2025-04-21T19:00:00",
          "2025-04-21T19:00:00",
          "2025-04-21T19:00:00",
          "2025-04-21T19:00:00",
          "2025-04-21T19:00:00",
          "2025-04-21T19:00:00",
          "2025-04-21T19:00:00",
          "2025-04-21T20:00:00",
          "2025-04-21T20:00:00",
          "2025-04-21T20:00:00",
          "2025-04-21T20:00:00",
          "2025-04-21T20:00:00",
          "2025-04-21T20:00:00",
          "2025-04-21T20:00:00",
          "2025-04-21T20:00:00",
          "2025-04-21T20:00:00",
          "2025-04-21T20:00:00",
          "2025-04-21T20:00:00",
          "2025-04-21T20:00:00",
          "2025-04-21T20:00:00",
          "2025-04-21T20:00:00",
          "2025-04-21T20:00:00",
          "2025-04-21T20:00:00",
          "2025-04-21T20:00:00",
          "2025-04-21T20:00:00",
          "2025-04-21T20:00:00",
          "2025-04-21T20:00:00",
          "2025-04-21T20:00:00",
          "2025-04-21T20:00:00",
          "2025-04-21T21:00:00",
          "2025-04-21T21:00:00",
          "2025-04-21T21:00:00",
          "2025-04-21T21:00:00",
          "2025-04-21T21:00:00",
          "2025-04-21T21:00:00",
          "2025-04-21T21:00:00",
          "2025-04-21T21:00:00",
          "2025-04-21T21:00:00",
          "2025-04-21T21:00:00",
          "2025-04-21T21:00:00",
          "2025-04-21T21:00:00",
          "2025-04-21T21:00:00",
          "2025-04-21T21:00:00",
          "2025-04-21T21:00:00",
          "2025-04-21T21:00:00",
          "2025-04-21T21:00:00",
          "2025-04-21T21:00:00",
          "2025-04-21T21:00:00",
          "2025-04-21T21:00:00",
          "2025-04-21T21:00:00",
          "2025-04-21T21:00:00",
          "2025-04-22T00:00:00",
          "2025-04-22T00:00:00",
          "2025-04-22T00:00:00",
          "2025-04-22T00:00:00",
          "2025-04-22T00:00:00",
          "2025-04-22T00:00:00",
          "2025-04-22T00:00:00",
          "2025-04-22T00:00:00",
          "2025-04-22T00:00:00",
          "2025-04-22T00:00:00",
          "2025-04-22T00:00:00",
          "2025-04-22T00:00:00",
          "2025-04-22T00:00:00",
          "2025-04-22T00:00:00",
          "2025-04-22T00:00:00",
          "2025-04-22T00:00:00",
          "2025-04-22T00:00:00",
          "2025-04-22T00:00:00",
          "2025-04-22T00:00:00",
          "2025-04-22T00:00:00",
          "2025-04-22T01:00:00",
          "2025-04-22T01:00:00",
          "2025-04-22T01:00:00",
          "2025-04-22T01:00:00",
          "2025-04-22T01:00:00",
          "2025-04-22T01:00:00",
          "2025-04-22T01:00:00",
          "2025-04-22T01:00:00",
          "2025-04-22T01:00:00",
          "2025-04-22T01:00:00",
          "2025-04-22T01:00:00",
          "2025-04-22T01:00:00",
          "2025-04-22T01:00:00",
          "2025-04-22T01:00:00",
          "2025-04-22T01:00:00",
          "2025-04-22T01:00:00",
          "2025-04-22T01:00:00",
          "2025-04-22T01:00:00",
          "2025-04-22T01:00:00",
          "2025-04-22T01:00:00",
          "2025-04-22T01:00:00",
          "2025-04-22T01:00:00",
          "2025-04-22T01:00:00",
          "2025-04-22T02:00:00",
          "2025-04-22T02:00:00",
          "2025-04-22T02:00:00",
          "2025-04-22T02:00:00",
          "2025-04-22T02:00:00",
          "2025-04-22T02:00:00",
          "2025-04-22T02:00:00",
          "2025-04-22T02:00:00",
          "2025-04-22T02:00:00",
          "2025-04-22T02:00:00",
          "2025-04-22T02:00:00",
          "2025-04-22T02:00:00",
          "2025-04-22T02:00:00",
          "2025-04-22T02:00:00",
          "2025-04-22T02:00:00",
          "2025-04-22T02:00:00",
          "2025-04-22T02:00:00",
          "2025-04-22T02:00:00",
          "2025-04-22T02:00:00",
          "2025-04-22T02:00:00",
          "2025-04-22T02:00:00",
          "2025-04-22T02:00:00",
          "2025-04-22T02:00:00",
          "2025-04-22T03:00:00",
          "2025-04-22T03:00:00",
          "2025-04-22T03:00:00",
          "2025-04-22T03:00:00",
          "2025-04-22T03:00:00",
          "2025-04-22T03:00:00",
          "2025-04-22T03:00:00",
          "2025-04-22T03:00:00",
          "2025-04-22T03:00:00",
          "2025-04-22T03:00:00",
          "2025-04-22T03:00:00",
          "2025-04-22T03:00:00",
          "2025-04-22T03:00:00",
          "2025-04-22T03:00:00",
          "2025-04-22T03:00:00",
          "2025-04-22T03:00:00",
          "2025-04-22T03:00:00",
          "2025-04-22T03:00:00",
          "2025-04-22T03:00:00",
          "2025-04-22T03:00:00",
          "2025-04-22T03:00:00",
          "2025-04-22T03:00:00",
          "2025-04-22T04:00:00",
          "2025-04-22T04:00:00",
          "2025-04-22T04:00:00",
          "2025-04-22T04:00:00",
          "2025-04-22T04:00:00",
          "2025-04-22T04:00:00",
          "2025-04-22T04:00:00",
          "2025-04-22T04:00:00",
          "2025-04-22T04:00:00",
          "2025-04-22T04:00:00",
          "2025-04-22T04:00:00",
          "2025-04-22T04:00:00",
          "2025-04-22T04:00:00",
          "2025-04-22T04:00:00",
          "2025-04-22T04:00:00",
          "2025-04-22T04:00:00",
          "2025-04-22T04:00:00",
          "2025-04-22T04:00:00",
          "2025-04-22T04:00:00",
          "2025-04-22T04:00:00",
          "2025-04-22T04:00:00",
          "2025-04-22T04:00:00",
          "2025-04-22T05:00:00",
          "2025-04-22T05:00:00",
          "2025-04-22T05:00:00",
          "2025-04-22T05:00:00",
          "2025-04-22T05:00:00",
          "2025-04-22T05:00:00",
          "2025-04-22T05:00:00",
          "2025-04-22T05:00:00",
          "2025-04-22T05:00:00",
          "2025-04-22T05:00:00",
          "2025-04-22T05:00:00",
          "2025-04-22T05:00:00",
          "2025-04-22T05:00:00",
          "2025-04-22T05:00:00",
          "2025-04-22T05:00:00",
          "2025-04-22T05:00:00",
          "2025-04-22T05:00:00",
          "2025-04-22T05:00:00",
          "2025-04-22T05:00:00",
          "2025-04-22T05:00:00",
          "2025-04-22T05:00:00",
          "2025-04-22T05:00:00",
          "2025-04-22T06:00:00",
          "2025-04-22T06:00:00",
          "2025-04-22T06:00:00",
          "2025-04-22T06:00:00",
          "2025-04-22T06:00:00",
          "2025-04-22T06:00:00",
          "2025-04-22T06:00:00",
          "2025-04-22T06:00:00",
          "2025-04-22T06:00:00",
          "2025-04-22T06:00:00",
          "2025-04-22T06:00:00",
          "2025-04-22T06:00:00",
          "2025-04-22T06:00:00",
          "2025-04-22T06:00:00",
          "2025-04-22T06:00:00",
          "2025-04-22T06:00:00",
          "2025-04-22T06:00:00",
          "2025-04-22T06:00:00",
          "2025-04-22T06:00:00",
          "2025-04-22T06:00:00",
          "2025-04-22T06:00:00",
          "2025-04-22T06:00:00",
          "2025-04-22T07:00:00",
          "2025-04-22T07:00:00",
          "2025-04-22T07:00:00",
          "2025-04-22T07:00:00",
          "2025-04-22T07:00:00",
          "2025-04-22T07:00:00",
          "2025-04-22T07:00:00",
          "2025-04-22T07:00:00",
          "2025-04-22T07:00:00",
          "2025-04-22T07:00:00",
          "2025-04-22T07:00:00",
          "2025-04-22T07:00:00",
          "2025-04-22T07:00:00",
          "2025-04-22T07:00:00",
          "2025-04-22T07:00:00",
          "2025-04-22T07:00:00",
          "2025-04-22T07:00:00",
          "2025-04-22T07:00:00",
          "2025-04-22T07:00:00",
          "2025-04-22T07:00:00",
          "2025-04-22T07:00:00",
          "2025-04-22T08:00:00",
          "2025-04-22T08:00:00",
          "2025-04-22T08:00:00",
          "2025-04-22T08:00:00",
          "2025-04-22T08:00:00",
          "2025-04-22T08:00:00",
          "2025-04-22T08:00:00",
          "2025-04-22T08:00:00",
          "2025-04-22T08:00:00",
          "2025-04-22T08:00:00",
          "2025-04-22T08:00:00",
          "2025-04-22T08:00:00",
          "2025-04-22T08:00:00",
          "2025-04-22T08:00:00",
          "2025-04-22T08:00:00",
          "2025-04-22T08:00:00",
          "2025-04-22T08:00:00",
          "2025-04-22T08:00:00",
          "2025-04-22T08:00:00",
          "2025-04-22T08:00:00",
          "2025-04-22T08:00:00",
          "2025-04-22T09:00:00",
          "2025-04-22T09:00:00",
          "2025-04-22T09:00:00",
          "2025-04-22T09:00:00",
          "2025-04-22T09:00:00",
          "2025-04-22T09:00:00",
          "2025-04-22T09:00:00",
          "2025-04-22T09:00:00",
          "2025-04-22T09:00:00",
          "2025-04-22T09:00:00",
          "2025-04-22T09:00:00",
          "2025-04-22T09:00:00",
          "2025-04-22T09:00:00",
          "2025-04-22T09:00:00",
          "2025-04-22T09:00:00",
          "2025-04-22T09:00:00",
          "2025-04-22T09:00:00",
          "2025-04-22T09:00:00",
          "2025-04-22T09:00:00",
          "2025-04-22T09:00:00",
          "2025-04-22T09:00:00",
          "2025-04-22T10:00:00",
          "2025-04-22T10:00:00",
          "2025-04-22T10:00:00",
          "2025-04-22T10:00:00",
          "2025-04-22T10:00:00",
          "2025-04-22T10:00:00",
          "2025-04-22T10:00:00",
          "2025-04-22T10:00:00",
          "2025-04-22T10:00:00",
          "2025-04-22T10:00:00",
          "2025-04-22T10:00:00",
          "2025-04-22T10:00:00",
          "2025-04-22T10:00:00",
          "2025-04-22T10:00:00",
          "2025-04-22T10:00:00",
          "2025-04-22T10:00:00",
          "2025-04-22T10:00:00",
          "2025-04-22T10:00:00",
          "2025-04-22T10:00:00",
          "2025-04-22T10:00:00",
          "2025-04-22T11:00:00",
          "2025-04-22T11:00:00",
          "2025-04-22T11:00:00",
          "2025-04-22T11:00:00",
          "2025-04-22T11:00:00",
          "2025-04-22T11:00:00",
          "2025-04-22T11:00:00",
          "2025-04-22T11:00:00",
          "2025-04-22T11:00:00",
          "2025-04-22T11:00:00",
          "2025-04-22T11:00:00",
          "2025-04-22T11:00:00",
          "2025-04-22T11:00:00",
          "2025-04-22T11:00:00",
          "2025-04-22T11:00:00",
          "2025-04-22T11:00:00",
          "2025-04-22T11:00:00",
          "2025-04-22T11:00:00",
          "2025-04-22T11:00:00",
          "2025-04-22T11:00:00",
          "2025-04-22T11:00:00",
          "2025-04-22T12:00:00",
          "2025-04-22T12:00:00",
          "2025-04-22T12:00:00",
          "2025-04-22T12:00:00",
          "2025-04-22T12:00:00",
          "2025-04-22T12:00:00",
          "2025-04-22T12:00:00",
          "2025-04-22T12:00:00",
          "2025-04-22T12:00:00",
          "2025-04-22T12:00:00",
          "2025-04-22T12:00:00",
          "2025-04-22T12:00:00",
          "2025-04-22T12:00:00",
          "2025-04-22T12:00:00",
          "2025-04-22T12:00:00",
          "2025-04-22T12:00:00",
          "2025-04-22T12:00:00",
          "2025-04-22T12:00:00",
          "2025-04-22T12:00:00",
          "2025-04-22T12:00:00",
          "2025-04-22T13:00:00",
          "2025-04-22T13:00:00",
          "2025-04-22T13:00:00",
          "2025-04-22T13:00:00",
          "2025-04-22T13:00:00",
          "2025-04-22T13:00:00",
          "2025-04-22T13:00:00",
          "2025-04-22T13:00:00",
          "2025-04-22T13:00:00",
          "2025-04-22T13:00:00",
          "2025-04-22T13:00:00",
          "2025-04-22T13:00:00",
          "2025-04-22T13:00:00",
          "2025-04-22T13:00:00",
          "2025-04-22T13:00:00",
          "2025-04-22T13:00:00",
          "2025-04-22T13:00:00",
          "2025-04-22T13:00:00",
          "2025-04-22T13:00:00",
          "2025-04-22T14:00:00",
          "2025-04-22T14:00:00",
          "2025-04-22T14:00:00",
          "2025-04-22T14:00:00",
          "2025-04-22T14:00:00",
          "2025-04-22T14:00:00",
          "2025-04-22T14:00:00",
          "2025-04-22T14:00:00",
          "2025-04-22T14:00:00",
          "2025-04-22T14:00:00",
          "2025-04-22T14:00:00",
          "2025-04-22T14:00:00",
          "2025-04-22T14:00:00",
          "2025-04-22T14:00:00",
          "2025-04-22T14:00:00",
          "2025-04-22T14:00:00",
          "2025-04-22T14:00:00",
          "2025-04-22T14:00:00",
          "2025-04-22T14:00:00",
          "2025-04-22T15:00:00",
          "2025-04-22T15:00:00",
          "2025-04-22T15:00:00",
          "2025-04-22T15:00:00",
          "2025-04-22T15:00:00",
          "2025-04-22T15:00:00",
          "2025-04-22T15:00:00",
          "2025-04-22T15:00:00",
          "2025-04-22T15:00:00",
          "2025-04-22T15:00:00",
          "2025-04-22T15:00:00",
          "2025-04-22T15:00:00",
          "2025-04-22T15:00:00",
          "2025-04-22T15:00:00",
          "2025-04-22T15:00:00",
          "2025-04-22T15:00:00",
          "2025-04-22T15:00:00",
          "2025-04-22T15:00:00",
          "2025-04-22T15:00:00",
          "2025-04-22T16:00:00",
          "2025-04-22T16:00:00",
          "2025-04-22T16:00:00",
          "2025-04-22T16:00:00",
          "2025-04-22T16:00:00",
          "2025-04-22T16:00:00",
          "2025-04-22T16:00:00",
          "2025-04-22T16:00:00",
          "2025-04-22T16:00:00",
          "2025-04-22T16:00:00",
          "2025-04-22T16:00:00",
          "2025-04-22T16:00:00",
          "2025-04-22T16:00:00",
          "2025-04-22T16:00:00",
          "2025-04-22T16:00:00",
          "2025-04-22T16:00:00",
          "2025-04-22T16:00:00",
          "2025-04-22T16:00:00",
          "2025-04-22T16:00:00",
          "2025-04-22T17:00:00",
          "2025-04-22T17:00:00",
          "2025-04-22T17:00:00",
          "2025-04-22T17:00:00",
          "2025-04-22T17:00:00",
          "2025-04-22T17:00:00",
          "2025-04-22T17:00:00",
          "2025-04-22T17:00:00",
          "2025-04-22T17:00:00",
          "2025-04-22T17:00:00",
          "2025-04-22T17:00:00",
          "2025-04-22T17:00:00",
          "2025-04-22T17:00:00",
          "2025-04-22T17:00:00",
          "2025-04-22T17:00:00",
          "2025-04-22T17:00:00",
          "2025-04-22T17:00:00"
         ],
         "x0": " ",
         "xaxis": "x",
         "y": [
          17.8,
          18.3,
          17.3,
          16,
          17.7,
          17.6,
          18,
          18.5,
          18.3,
          14.5,
          13.5,
          16,
          18.2,
          17.6,
          17.6,
          17,
          19.6,
          17.3,
          14.9,
          18.9,
          18.3,
          17.7,
          17.3,
          17.3,
          16.4,
          15.2,
          17,
          17.1,
          17.8,
          17.5,
          18.1,
          14.2,
          13.7,
          14.5,
          17.5,
          17.4,
          16.4,
          16.5,
          18.5,
          16.7,
          14.6,
          17.8,
          17.5,
          17.4,
          16.2,
          16.1,
          14.9,
          13.9,
          15.8,
          15.9,
          16.4,
          16.1,
          17.1,
          13.3,
          12.6,
          13,
          16.1,
          16.5,
          15.2,
          15.6,
          17.1,
          15.7,
          13.2,
          16.6,
          16.4,
          16.3,
          13.7,
          13.4,
          12.6,
          11.2,
          12.9,
          13.1,
          13.4,
          13.4,
          14.6,
          9.9,
          10.3,
          13.1,
          13.7,
          13,
          14.4,
          13.1,
          10.5,
          13.9,
          13.5,
          13.5,
          13.5,
          13.2,
          11.9,
          10.5,
          12.4,
          12.4,
          12.3,
          12.9,
          13.8,
          10.4,
          9.2,
          9.8,
          12.6,
          13,
          12.1,
          13,
          13.6,
          13.3,
          12.6,
          10.1,
          13.4,
          13,
          13.1,
          12.8,
          12.4,
          11.7,
          10,
          11.7,
          11.9,
          11.5,
          12.2,
          13.2,
          9.4,
          8.6,
          9.1,
          11.9,
          12.2,
          11.8,
          12.2,
          12.9,
          12.6,
          12,
          9.1,
          13,
          12.3,
          12.4,
          12.4,
          11.8,
          11.1,
          9.3,
          11.3,
          11.5,
          11.6,
          11.7,
          12.6,
          9.2,
          8.2,
          11.5,
          12,
          11.3,
          11.9,
          12.3,
          11.9,
          11.7,
          8.5,
          12.5,
          11.6,
          11.8,
          12.1,
          11.5,
          10.3,
          9,
          11,
          11,
          11.7,
          11.2,
          12.3,
          8.8,
          7.9,
          11.2,
          11.7,
          11.3,
          11.6,
          12,
          11.7,
          11.4,
          8.2,
          11.9,
          11.1,
          11.4,
          12.1,
          11,
          10.2,
          8.8,
          10.6,
          10.8,
          11.5,
          11.3,
          12.2,
          8.8,
          7.7,
          11,
          11.8,
          11.1,
          11.6,
          12,
          11.6,
          11.1,
          7.9,
          11.7,
          10.9,
          11.1,
          11.9,
          11.1,
          10.5,
          8.5,
          10.4,
          10.3,
          11.5,
          11.3,
          12,
          8.4,
          7.6,
          10.7,
          11.7,
          11.1,
          11.2,
          11.8,
          11.4,
          11.5,
          7.7,
          11.6,
          10.8,
          11,
          11.9,
          11.1,
          10,
          10.8,
          9.5,
          10.9,
          11.3,
          12,
          8.4,
          7.6,
          10.9,
          12,
          11.1,
          10.8,
          11.8,
          11.4,
          11.6,
          8,
          11.7,
          10.8,
          11.1,
          12.2,
          11,
          10.4,
          10.6,
          9.7,
          10.8,
          11.1,
          11.9,
          9.7,
          7.6,
          10.8,
          11.7,
          11.3,
          11.1,
          11.7,
          11.3,
          11.1,
          7.7,
          11.7,
          10.6,
          11,
          12.5,
          11.9,
          11.2,
          11.2,
          10.3,
          11.5,
          11.8,
          12,
          10.3,
          8,
          11.3,
          12.2,
          12.1,
          11.6,
          12,
          11.7,
          12.1,
          8.2,
          12,
          10.9,
          11.2,
          13.2,
          12.1,
          11.7,
          11.5,
          11.8,
          12.7,
          12.7,
          10.5,
          8.6,
          12.2,
          12.7,
          13.3,
          11.8,
          13.1,
          12.7,
          12.5,
          8.8,
          13.2,
          11.6,
          11.7,
          14,
          13.2,
          13.9,
          12.9,
          12.8,
          13,
          13.5,
          13.2,
          11.1,
          9.6,
          13.3,
          13.8,
          14.1,
          12.8,
          13.9,
          13.5,
          13.4,
          9.5,
          14,
          12.7,
          12.7,
          14.7,
          14.2,
          14.3,
          13.5,
          13.6,
          14.7,
          14.2,
          13.7,
          11.3,
          10.2,
          13.8,
          14.8,
          14.8,
          13.4,
          14.4,
          13.9,
          10.6,
          14.2,
          13.6,
          13.8,
          14.9,
          15.3,
          14.3,
          14.8,
          15.1,
          15.2,
          14.2,
          11.6,
          10.9,
          14.4,
          15.6,
          16.5,
          14,
          15.1,
          14.5,
          12,
          14.6,
          14.6,
          14.6,
          17.4,
          18.2,
          15.7,
          16.6,
          15.7,
          17.1,
          16.3,
          13.2,
          12,
          16.3,
          18.7,
          18.6,
          16.4,
          17.2,
          15.4,
          13.9,
          16.7,
          17.3,
          16.4,
          17.7,
          18.5,
          17.3,
          16.5,
          17.1,
          17.2,
          17.1,
          13.5,
          12.8,
          17.2,
          18.6,
          18.5,
          17.3,
          18.5,
          16,
          14.5,
          17.7,
          18.2,
          17.8,
          19,
          18.4,
          17.5,
          17.4,
          17.6,
          18,
          17.9,
          14.2,
          14,
          18.1,
          19.2,
          19.8,
          17.4,
          19.1,
          16.7,
          15.3,
          18.2,
          17.8,
          17.8,
          18.1,
          19.5,
          18.7,
          18,
          18.6,
          19.8,
          19.3,
          14.3,
          18.4,
          20.7,
          16.3,
          19,
          17.4,
          15.6,
          19.1,
          18.9,
          18.4
         ],
         "y0": " ",
         "yaxis": "y"
        }
       ],
       "layout": {
        "boxmode": "group",
        "legend": {
         "tracegroupgap": 0
        },
        "template": {
         "data": {
          "bar": [
           {
            "error_x": {
             "color": "#2a3f5f"
            },
            "error_y": {
             "color": "#2a3f5f"
            },
            "marker": {
             "line": {
              "color": "#E5ECF6",
              "width": 0.5
             },
             "pattern": {
              "fillmode": "overlay",
              "size": 10,
              "solidity": 0.2
             }
            },
            "type": "bar"
           }
          ],
          "barpolar": [
           {
            "marker": {
             "line": {
              "color": "#E5ECF6",
              "width": 0.5
             },
             "pattern": {
              "fillmode": "overlay",
              "size": 10,
              "solidity": 0.2
             }
            },
            "type": "barpolar"
           }
          ],
          "carpet": [
           {
            "aaxis": {
             "endlinecolor": "#2a3f5f",
             "gridcolor": "white",
             "linecolor": "white",
             "minorgridcolor": "white",
             "startlinecolor": "#2a3f5f"
            },
            "baxis": {
             "endlinecolor": "#2a3f5f",
             "gridcolor": "white",
             "linecolor": "white",
             "minorgridcolor": "white",
             "startlinecolor": "#2a3f5f"
            },
            "type": "carpet"
           }
          ],
          "choropleth": [
           {
            "colorbar": {
             "outlinewidth": 0,
             "ticks": ""
            },
            "type": "choropleth"
           }
          ],
          "contour": [
           {
            "colorbar": {
             "outlinewidth": 0,
             "ticks": ""
            },
            "colorscale": [
             [
              0,
              "#0d0887"
             ],
             [
              0.1111111111111111,
              "#46039f"
             ],
             [
              0.2222222222222222,
              "#7201a8"
             ],
             [
              0.3333333333333333,
              "#9c179e"
             ],
             [
              0.4444444444444444,
              "#bd3786"
             ],
             [
              0.5555555555555556,
              "#d8576b"
             ],
             [
              0.6666666666666666,
              "#ed7953"
             ],
             [
              0.7777777777777778,
              "#fb9f3a"
             ],
             [
              0.8888888888888888,
              "#fdca26"
             ],
             [
              1,
              "#f0f921"
             ]
            ],
            "type": "contour"
           }
          ],
          "contourcarpet": [
           {
            "colorbar": {
             "outlinewidth": 0,
             "ticks": ""
            },
            "type": "contourcarpet"
           }
          ],
          "heatmap": [
           {
            "colorbar": {
             "outlinewidth": 0,
             "ticks": ""
            },
            "colorscale": [
             [
              0,
              "#0d0887"
             ],
             [
              0.1111111111111111,
              "#46039f"
             ],
             [
              0.2222222222222222,
              "#7201a8"
             ],
             [
              0.3333333333333333,
              "#9c179e"
             ],
             [
              0.4444444444444444,
              "#bd3786"
             ],
             [
              0.5555555555555556,
              "#d8576b"
             ],
             [
              0.6666666666666666,
              "#ed7953"
             ],
             [
              0.7777777777777778,
              "#fb9f3a"
             ],
             [
              0.8888888888888888,
              "#fdca26"
             ],
             [
              1,
              "#f0f921"
             ]
            ],
            "type": "heatmap"
           }
          ],
          "heatmapgl": [
           {
            "colorbar": {
             "outlinewidth": 0,
             "ticks": ""
            },
            "colorscale": [
             [
              0,
              "#0d0887"
             ],
             [
              0.1111111111111111,
              "#46039f"
             ],
             [
              0.2222222222222222,
              "#7201a8"
             ],
             [
              0.3333333333333333,
              "#9c179e"
             ],
             [
              0.4444444444444444,
              "#bd3786"
             ],
             [
              0.5555555555555556,
              "#d8576b"
             ],
             [
              0.6666666666666666,
              "#ed7953"
             ],
             [
              0.7777777777777778,
              "#fb9f3a"
             ],
             [
              0.8888888888888888,
              "#fdca26"
             ],
             [
              1,
              "#f0f921"
             ]
            ],
            "type": "heatmapgl"
           }
          ],
          "histogram": [
           {
            "marker": {
             "pattern": {
              "fillmode": "overlay",
              "size": 10,
              "solidity": 0.2
             }
            },
            "type": "histogram"
           }
          ],
          "histogram2d": [
           {
            "colorbar": {
             "outlinewidth": 0,
             "ticks": ""
            },
            "colorscale": [
             [
              0,
              "#0d0887"
             ],
             [
              0.1111111111111111,
              "#46039f"
             ],
             [
              0.2222222222222222,
              "#7201a8"
             ],
             [
              0.3333333333333333,
              "#9c179e"
             ],
             [
              0.4444444444444444,
              "#bd3786"
             ],
             [
              0.5555555555555556,
              "#d8576b"
             ],
             [
              0.6666666666666666,
              "#ed7953"
             ],
             [
              0.7777777777777778,
              "#fb9f3a"
             ],
             [
              0.8888888888888888,
              "#fdca26"
             ],
             [
              1,
              "#f0f921"
             ]
            ],
            "type": "histogram2d"
           }
          ],
          "histogram2dcontour": [
           {
            "colorbar": {
             "outlinewidth": 0,
             "ticks": ""
            },
            "colorscale": [
             [
              0,
              "#0d0887"
             ],
             [
              0.1111111111111111,
              "#46039f"
             ],
             [
              0.2222222222222222,
              "#7201a8"
             ],
             [
              0.3333333333333333,
              "#9c179e"
             ],
             [
              0.4444444444444444,
              "#bd3786"
             ],
             [
              0.5555555555555556,
              "#d8576b"
             ],
             [
              0.6666666666666666,
              "#ed7953"
             ],
             [
              0.7777777777777778,
              "#fb9f3a"
             ],
             [
              0.8888888888888888,
              "#fdca26"
             ],
             [
              1,
              "#f0f921"
             ]
            ],
            "type": "histogram2dcontour"
           }
          ],
          "mesh3d": [
           {
            "colorbar": {
             "outlinewidth": 0,
             "ticks": ""
            },
            "type": "mesh3d"
           }
          ],
          "parcoords": [
           {
            "line": {
             "colorbar": {
              "outlinewidth": 0,
              "ticks": ""
             }
            },
            "type": "parcoords"
           }
          ],
          "pie": [
           {
            "automargin": true,
            "type": "pie"
           }
          ],
          "scatter": [
           {
            "fillpattern": {
             "fillmode": "overlay",
             "size": 10,
             "solidity": 0.2
            },
            "type": "scatter"
           }
          ],
          "scatter3d": [
           {
            "line": {
             "colorbar": {
              "outlinewidth": 0,
              "ticks": ""
             }
            },
            "marker": {
             "colorbar": {
              "outlinewidth": 0,
              "ticks": ""
             }
            },
            "type": "scatter3d"
           }
          ],
          "scattercarpet": [
           {
            "marker": {
             "colorbar": {
              "outlinewidth": 0,
              "ticks": ""
             }
            },
            "type": "scattercarpet"
           }
          ],
          "scattergeo": [
           {
            "marker": {
             "colorbar": {
              "outlinewidth": 0,
              "ticks": ""
             }
            },
            "type": "scattergeo"
           }
          ],
          "scattergl": [
           {
            "marker": {
             "colorbar": {
              "outlinewidth": 0,
              "ticks": ""
             }
            },
            "type": "scattergl"
           }
          ],
          "scattermapbox": [
           {
            "marker": {
             "colorbar": {
              "outlinewidth": 0,
              "ticks": ""
             }
            },
            "type": "scattermapbox"
           }
          ],
          "scatterpolar": [
           {
            "marker": {
             "colorbar": {
              "outlinewidth": 0,
              "ticks": ""
             }
            },
            "type": "scatterpolar"
           }
          ],
          "scatterpolargl": [
           {
            "marker": {
             "colorbar": {
              "outlinewidth": 0,
              "ticks": ""
             }
            },
            "type": "scatterpolargl"
           }
          ],
          "scatterternary": [
           {
            "marker": {
             "colorbar": {
              "outlinewidth": 0,
              "ticks": ""
             }
            },
            "type": "scatterternary"
           }
          ],
          "surface": [
           {
            "colorbar": {
             "outlinewidth": 0,
             "ticks": ""
            },
            "colorscale": [
             [
              0,
              "#0d0887"
             ],
             [
              0.1111111111111111,
              "#46039f"
             ],
             [
              0.2222222222222222,
              "#7201a8"
             ],
             [
              0.3333333333333333,
              "#9c179e"
             ],
             [
              0.4444444444444444,
              "#bd3786"
             ],
             [
              0.5555555555555556,
              "#d8576b"
             ],
             [
              0.6666666666666666,
              "#ed7953"
             ],
             [
              0.7777777777777778,
              "#fb9f3a"
             ],
             [
              0.8888888888888888,
              "#fdca26"
             ],
             [
              1,
              "#f0f921"
             ]
            ],
            "type": "surface"
           }
          ],
          "table": [
           {
            "cells": {
             "fill": {
              "color": "#EBF0F8"
             },
             "line": {
              "color": "white"
             }
            },
            "header": {
             "fill": {
              "color": "#C8D4E3"
             },
             "line": {
              "color": "white"
             }
            },
            "type": "table"
           }
          ]
         },
         "layout": {
          "annotationdefaults": {
           "arrowcolor": "#2a3f5f",
           "arrowhead": 0,
           "arrowwidth": 1
          },
          "autotypenumbers": "strict",
          "coloraxis": {
           "colorbar": {
            "outlinewidth": 0,
            "ticks": ""
           }
          },
          "colorscale": {
           "diverging": [
            [
             0,
             "#8e0152"
            ],
            [
             0.1,
             "#c51b7d"
            ],
            [
             0.2,
             "#de77ae"
            ],
            [
             0.3,
             "#f1b6da"
            ],
            [
             0.4,
             "#fde0ef"
            ],
            [
             0.5,
             "#f7f7f7"
            ],
            [
             0.6,
             "#e6f5d0"
            ],
            [
             0.7,
             "#b8e186"
            ],
            [
             0.8,
             "#7fbc41"
            ],
            [
             0.9,
             "#4d9221"
            ],
            [
             1,
             "#276419"
            ]
           ],
           "sequential": [
            [
             0,
             "#0d0887"
            ],
            [
             0.1111111111111111,
             "#46039f"
            ],
            [
             0.2222222222222222,
             "#7201a8"
            ],
            [
             0.3333333333333333,
             "#9c179e"
            ],
            [
             0.4444444444444444,
             "#bd3786"
            ],
            [
             0.5555555555555556,
             "#d8576b"
            ],
            [
             0.6666666666666666,
             "#ed7953"
            ],
            [
             0.7777777777777778,
             "#fb9f3a"
            ],
            [
             0.8888888888888888,
             "#fdca26"
            ],
            [
             1,
             "#f0f921"
            ]
           ],
           "sequentialminus": [
            [
             0,
             "#0d0887"
            ],
            [
             0.1111111111111111,
             "#46039f"
            ],
            [
             0.2222222222222222,
             "#7201a8"
            ],
            [
             0.3333333333333333,
             "#9c179e"
            ],
            [
             0.4444444444444444,
             "#bd3786"
            ],
            [
             0.5555555555555556,
             "#d8576b"
            ],
            [
             0.6666666666666666,
             "#ed7953"
            ],
            [
             0.7777777777777778,
             "#fb9f3a"
            ],
            [
             0.8888888888888888,
             "#fdca26"
            ],
            [
             1,
             "#f0f921"
            ]
           ]
          },
          "colorway": [
           "#636efa",
           "#EF553B",
           "#00cc96",
           "#ab63fa",
           "#FFA15A",
           "#19d3f3",
           "#FF6692",
           "#B6E880",
           "#FF97FF",
           "#FECB52"
          ],
          "font": {
           "color": "#2a3f5f"
          },
          "geo": {
           "bgcolor": "white",
           "lakecolor": "white",
           "landcolor": "#E5ECF6",
           "showlakes": true,
           "showland": true,
           "subunitcolor": "white"
          },
          "hoverlabel": {
           "align": "left"
          },
          "hovermode": "closest",
          "mapbox": {
           "style": "light"
          },
          "paper_bgcolor": "white",
          "plot_bgcolor": "#E5ECF6",
          "polar": {
           "angularaxis": {
            "gridcolor": "white",
            "linecolor": "white",
            "ticks": ""
           },
           "bgcolor": "#E5ECF6",
           "radialaxis": {
            "gridcolor": "white",
            "linecolor": "white",
            "ticks": ""
           }
          },
          "scene": {
           "xaxis": {
            "backgroundcolor": "#E5ECF6",
            "gridcolor": "white",
            "gridwidth": 2,
            "linecolor": "white",
            "showbackground": true,
            "ticks": "",
            "zerolinecolor": "white"
           },
           "yaxis": {
            "backgroundcolor": "#E5ECF6",
            "gridcolor": "white",
            "gridwidth": 2,
            "linecolor": "white",
            "showbackground": true,
            "ticks": "",
            "zerolinecolor": "white"
           },
           "zaxis": {
            "backgroundcolor": "#E5ECF6",
            "gridcolor": "white",
            "gridwidth": 2,
            "linecolor": "white",
            "showbackground": true,
            "ticks": "",
            "zerolinecolor": "white"
           }
          },
          "shapedefaults": {
           "line": {
            "color": "#2a3f5f"
           }
          },
          "ternary": {
           "aaxis": {
            "gridcolor": "white",
            "linecolor": "white",
            "ticks": ""
           },
           "baxis": {
            "gridcolor": "white",
            "linecolor": "white",
            "ticks": ""
           },
           "bgcolor": "#E5ECF6",
           "caxis": {
            "gridcolor": "white",
            "linecolor": "white",
            "ticks": ""
           }
          },
          "title": {
           "x": 0.05
          },
          "xaxis": {
           "automargin": true,
           "gridcolor": "white",
           "linecolor": "white",
           "ticks": "",
           "title": {
            "standoff": 15
           },
           "zerolinecolor": "white",
           "zerolinewidth": 2
          },
          "yaxis": {
           "automargin": true,
           "gridcolor": "white",
           "linecolor": "white",
           "ticks": "",
           "title": {
            "standoff": 15
           },
           "zerolinecolor": "white",
           "zerolinewidth": 2
          }
         }
        },
        "title": {
         "text": "Distribución temperaturas"
        },
        "xaxis": {
         "anchor": "y",
         "domain": [
          0,
          1
         ],
         "title": {
          "text": "TS"
         }
        },
        "yaxis": {
         "anchor": "x",
         "domain": [
          0,
          1
         ],
         "title": {
          "text": "VALOR"
         }
        }
       }
      },
      "text/html": [
       "<div>                            <div id=\"15d9b535-d505-4c1c-82be-292ce9ccb0d5\" class=\"plotly-graph-div\" style=\"height:525px; width:100%;\"></div>            <script type=\"text/javascript\">                require([\"plotly\"], function(Plotly) {                    window.PLOTLYENV=window.PLOTLYENV || {};                                    if (document.getElementById(\"15d9b535-d505-4c1c-82be-292ce9ccb0d5\")) {                    Plotly.newPlot(                        \"15d9b535-d505-4c1c-82be-292ce9ccb0d5\",                        [{\"alignmentgroup\":\"True\",\"hovertemplate\":\"\\u003cb\\u003e%{hovertext}\\u003c\\u002fb\\u003e\\u003cbr\\u003e\\u003cbr\\u003eTS=%{x}\\u003cbr\\u003eVALOR=%{y}\\u003cextra\\u003e\\u003c\\u002fextra\\u003e\",\"hovertext\":[\"Arturo Soria\",\"Barrio del Pilar\",\"Casa de Campo\",\"Centro Mpal. De Ac\\u00fastica\",\"Cuatro Caminos\",\"El Pardo\",\"Ensanche de Vallecas\",\"Escuelas Aguirre\",\"Farolillo\",\"J.M.D. Hortaleza\",\"J.M.D. Moratalaz\",\"J.M.D. Villaverde\",\"J.M.D.Chamartin\",\"J.M.D.Chamber\\u00ed\",\"J.M.D.Vallecas 1\",\"Juan Carlos I\",\"Matadero 01\",\"Moratalaz\",\"Pe\\u00f1agrande\",\"Plaza El\\u00edptica\",\"Plaza Espa\\u00f1a\",\"Plaza del Carmen\",\"Arturo Soria\",\"Barrio del Pilar\",\"Casa de Campo\",\"Centro Mpal. De Ac\\u00fastica\",\"Cuatro Caminos\",\"El Pardo\",\"Ensanche de Vallecas\",\"Escuelas Aguirre\",\"Farolillo\",\"J.M.D. Hortaleza\",\"J.M.D. Moratalaz\",\"J.M.D. Villaverde\",\"J.M.D.Chamartin\",\"J.M.D.Chamber\\u00ed\",\"J.M.D.Vallecas 1\",\"Juan Carlos I\",\"Matadero 01\",\"Moratalaz\",\"Pe\\u00f1agrande\",\"Plaza El\\u00edptica\",\"Plaza Espa\\u00f1a\",\"Plaza del Carmen\",\"Arturo Soria\",\"Barrio del Pilar\",\"Casa de Campo\",\"Centro Mpal. De Ac\\u00fastica\",\"Cuatro Caminos\",\"El Pardo\",\"Ensanche de Vallecas\",\"Escuelas Aguirre\",\"Farolillo\",\"J.M.D. Hortaleza\",\"J.M.D. Moratalaz\",\"J.M.D. Villaverde\",\"J.M.D.Chamartin\",\"J.M.D.Chamber\\u00ed\",\"J.M.D.Vallecas 1\",\"Juan Carlos I\",\"Matadero 01\",\"Moratalaz\",\"Pe\\u00f1agrande\",\"Plaza El\\u00edptica\",\"Plaza Espa\\u00f1a\",\"Plaza del Carmen\",\"Arturo Soria\",\"Barrio del Pilar\",\"Casa de Campo\",\"Centro Mpal. De Ac\\u00fastica\",\"Cuatro Caminos\",\"El Pardo\",\"Ensanche de Vallecas\",\"Escuelas Aguirre\",\"Farolillo\",\"J.M.D. Moratalaz\",\"J.M.D. Villaverde\",\"J.M.D.Chamartin\",\"J.M.D.Chamber\\u00ed\",\"Juan Carlos I\",\"Matadero 01\",\"Moratalaz\",\"Pe\\u00f1agrande\",\"Plaza El\\u00edptica\",\"Plaza Espa\\u00f1a\",\"Plaza del Carmen\",\"Arturo Soria\",\"Barrio del Pilar\",\"Casa de Campo\",\"Centro Mpal. De Ac\\u00fastica\",\"Cuatro Caminos\",\"El Pardo\",\"Ensanche de Vallecas\",\"Escuelas Aguirre\",\"Farolillo\",\"J.M.D. Hortaleza\",\"J.M.D. Moratalaz\",\"J.M.D. Villaverde\",\"J.M.D.Chamartin\",\"J.M.D.Chamber\\u00ed\",\"J.M.D.Vallecas 1\",\"Juan Carlos I\",\"Matadero 01\",\"Matadero 02\",\"Moratalaz\",\"Pe\\u00f1agrande\",\"Plaza El\\u00edptica\",\"Plaza Espa\\u00f1a\",\"Plaza del Carmen\",\"Arturo Soria\",\"Barrio del Pilar\",\"Casa de Campo\",\"Centro Mpal. De Ac\\u00fastica\",\"Cuatro Caminos\",\"El Pardo\",\"Ensanche de Vallecas\",\"Escuelas Aguirre\",\"Farolillo\",\"J.M.D. Hortaleza\",\"J.M.D. Moratalaz\",\"J.M.D. Villaverde\",\"J.M.D.Chamartin\",\"J.M.D.Chamber\\u00ed\",\"J.M.D.Vallecas 1\",\"Juan Carlos I\",\"Matadero 01\",\"Matadero 02\",\"Moratalaz\",\"Pe\\u00f1agrande\",\"Plaza El\\u00edptica\",\"Plaza Espa\\u00f1a\",\"Plaza del Carmen\",\"Arturo Soria\",\"Barrio del Pilar\",\"Casa de Campo\",\"Centro Mpal. De Ac\\u00fastica\",\"Cuatro Caminos\",\"El Pardo\",\"Ensanche de Vallecas\",\"Escuelas Aguirre\",\"Farolillo\",\"J.M.D. Hortaleza\",\"J.M.D. Moratalaz\",\"J.M.D.Chamartin\",\"J.M.D.Chamber\\u00ed\",\"J.M.D.Vallecas 1\",\"Juan Carlos I\",\"Matadero 01\",\"Matadero 02\",\"Moratalaz\",\"Pe\\u00f1agrande\",\"Plaza El\\u00edptica\",\"Plaza Espa\\u00f1a\",\"Plaza del Carmen\",\"Arturo Soria\",\"Barrio del Pilar\",\"Casa de Campo\",\"Centro Mpal. De Ac\\u00fastica\",\"Cuatro Caminos\",\"El Pardo\",\"Ensanche de Vallecas\",\"Escuelas Aguirre\",\"Farolillo\",\"J.M.D. Hortaleza\",\"J.M.D. Moratalaz\",\"J.M.D.Chamartin\",\"J.M.D.Chamber\\u00ed\",\"J.M.D.Vallecas 1\",\"Juan Carlos I\",\"Matadero 01\",\"Matadero 02\",\"Moratalaz\",\"Pe\\u00f1agrande\",\"Plaza El\\u00edptica\",\"Plaza Espa\\u00f1a\",\"Plaza del Carmen\",\"Arturo Soria\",\"Barrio del Pilar\",\"Casa de Campo\",\"Centro Mpal. De Ac\\u00fastica\",\"Cuatro Caminos\",\"El Pardo\",\"Ensanche de Vallecas\",\"Escuelas Aguirre\",\"Farolillo\",\"J.M.D. Hortaleza\",\"J.M.D. Moratalaz\",\"J.M.D.Chamartin\",\"J.M.D.Chamber\\u00ed\",\"J.M.D.Vallecas 1\",\"Juan Carlos I\",\"Matadero 01\",\"Matadero 02\",\"Moratalaz\",\"Pe\\u00f1agrande\",\"Plaza El\\u00edptica\",\"Plaza Espa\\u00f1a\",\"Plaza del Carmen\",\"Arturo Soria\",\"Barrio del Pilar\",\"Casa de Campo\",\"Centro Mpal. De Ac\\u00fastica\",\"Cuatro Caminos\",\"El Pardo\",\"Ensanche de Vallecas\",\"Escuelas Aguirre\",\"Farolillo\",\"J.M.D. Hortaleza\",\"J.M.D. Moratalaz\",\"J.M.D.Chamartin\",\"J.M.D.Chamber\\u00ed\",\"J.M.D.Vallecas 1\",\"Juan Carlos I\",\"Matadero 01\",\"Matadero 02\",\"Moratalaz\",\"Pe\\u00f1agrande\",\"Plaza El\\u00edptica\",\"Plaza Espa\\u00f1a\",\"Plaza del Carmen\",\"Arturo Soria\",\"Barrio del Pilar\",\"Casa de Campo\",\"Cuatro Caminos\",\"El Pardo\",\"Ensanche de Vallecas\",\"Escuelas Aguirre\",\"Farolillo\",\"J.M.D. Hortaleza\",\"J.M.D. Moratalaz\",\"J.M.D.Chamartin\",\"J.M.D.Chamber\\u00ed\",\"J.M.D.Vallecas 1\",\"Juan Carlos I\",\"Matadero 01\",\"Matadero 02\",\"Moratalaz\",\"Pe\\u00f1agrande\",\"Plaza El\\u00edptica\",\"Plaza Espa\\u00f1a\",\"Plaza del Carmen\",\"Arturo Soria\",\"Barrio del Pilar\",\"Casa de Campo\",\"Cuatro Caminos\",\"El Pardo\",\"Ensanche de Vallecas\",\"Escuelas Aguirre\",\"Farolillo\",\"J.M.D. Hortaleza\",\"J.M.D. Moratalaz\",\"J.M.D.Chamartin\",\"J.M.D.Chamber\\u00ed\",\"J.M.D.Vallecas 1\",\"Juan Carlos I\",\"Matadero 01\",\"Matadero 02\",\"Moratalaz\",\"Pe\\u00f1agrande\",\"Plaza El\\u00edptica\",\"Plaza Espa\\u00f1a\",\"Plaza del Carmen\",\"Arturo Soria\",\"Barrio del Pilar\",\"Casa de Campo\",\"Cuatro Caminos\",\"El Pardo\",\"Ensanche de Vallecas\",\"Escuelas Aguirre\",\"Farolillo\",\"J.M.D. Hortaleza\",\"J.M.D. Moratalaz\",\"J.M.D.Chamartin\",\"J.M.D.Chamber\\u00ed\",\"J.M.D.Vallecas 1\",\"Juan Carlos I\",\"Matadero 01\",\"Matadero 02\",\"Moratalaz\",\"Pe\\u00f1agrande\",\"Plaza El\\u00edptica\",\"Plaza Espa\\u00f1a\",\"Plaza del Carmen\",\"Arturo Soria\",\"Barrio del Pilar\",\"Cuatro Caminos\",\"El Pardo\",\"Ensanche de Vallecas\",\"Escuelas Aguirre\",\"Farolillo\",\"J.M.D. Hortaleza\",\"J.M.D. Moratalaz\",\"J.M.D.Chamartin\",\"J.M.D.Chamber\\u00ed\",\"J.M.D.Vallecas 1\",\"Juan Carlos I\",\"Matadero 01\",\"Matadero 02\",\"Moratalaz\",\"Pe\\u00f1agrande\",\"Plaza El\\u00edptica\",\"Plaza Espa\\u00f1a\",\"Plaza del Carmen\",\"Arturo Soria\",\"Barrio del Pilar\",\"Casa de Campo\",\"Cuatro Caminos\",\"El Pardo\",\"Ensanche de Vallecas\",\"Escuelas Aguirre\",\"Farolillo\",\"J.M.D. Hortaleza\",\"J.M.D. Moratalaz\",\"J.M.D.Chamartin\",\"J.M.D.Chamber\\u00ed\",\"J.M.D.Vallecas 1\",\"Juan Carlos I\",\"Matadero 01\",\"Matadero 02\",\"Moratalaz\",\"Pe\\u00f1agrande\",\"Plaza El\\u00edptica\",\"Plaza Espa\\u00f1a\",\"Plaza del Carmen\",\"Arturo Soria\",\"Barrio del Pilar\",\"Casa de Campo\",\"Cuatro Caminos\",\"El Pardo\",\"Ensanche de Vallecas\",\"Escuelas Aguirre\",\"Farolillo\",\"J.M.D. Hortaleza\",\"J.M.D. Moratalaz\",\"J.M.D.Chamartin\",\"J.M.D.Chamber\\u00ed\",\"J.M.D.Vallecas 1\",\"Juan Carlos I\",\"Matadero 01\",\"Moratalaz\",\"Pe\\u00f1agrande\",\"Plaza El\\u00edptica\",\"Plaza Espa\\u00f1a\",\"Plaza del Carmen\",\"Arturo Soria\",\"Barrio del Pilar\",\"Cuatro Caminos\",\"El Pardo\",\"Ensanche de Vallecas\",\"Escuelas Aguirre\",\"Farolillo\",\"J.M.D. Hortaleza\",\"J.M.D. Moratalaz\",\"J.M.D.Chamartin\",\"J.M.D.Chamber\\u00ed\",\"J.M.D.Vallecas 1\",\"Juan Carlos I\",\"Matadero 01\",\"Moratalaz\",\"Pe\\u00f1agrande\",\"Plaza El\\u00edptica\",\"Plaza Espa\\u00f1a\",\"Plaza del Carmen\",\"Arturo Soria\",\"Barrio del Pilar\",\"Cuatro Caminos\",\"El Pardo\",\"Ensanche de Vallecas\",\"Escuelas Aguirre\",\"Farolillo\",\"J.M.D. Hortaleza\",\"J.M.D. Moratalaz\",\"J.M.D.Chamartin\",\"J.M.D.Chamber\\u00ed\",\"J.M.D.Vallecas 1\",\"Juan Carlos I\",\"Matadero 01\",\"Moratalaz\",\"Pe\\u00f1agrande\",\"Plaza El\\u00edptica\",\"Plaza Espa\\u00f1a\",\"Plaza del Carmen\",\"Arturo Soria\",\"Barrio del Pilar\",\"Cuatro Caminos\",\"El Pardo\",\"Ensanche de Vallecas\",\"Escuelas Aguirre\",\"Farolillo\",\"J.M.D. Hortaleza\",\"J.M.D. Moratalaz\",\"J.M.D.Chamartin\",\"J.M.D.Chamber\\u00ed\",\"J.M.D.Vallecas 1\",\"Juan Carlos I\",\"Matadero 01\",\"Moratalaz\",\"Pe\\u00f1agrande\",\"Plaza El\\u00edptica\",\"Plaza Espa\\u00f1a\",\"Plaza del Carmen\",\"Arturo Soria\",\"Barrio del Pilar\",\"Cuatro Caminos\",\"El Pardo\",\"Ensanche de Vallecas\",\"Escuelas Aguirre\",\"Farolillo\",\"J.M.D. Hortaleza\",\"J.M.D. Moratalaz\",\"J.M.D.Chamartin\",\"J.M.D.Chamber\\u00ed\",\"J.M.D.Vallecas 1\",\"Juan Carlos I\",\"Matadero 01\",\"Moratalaz\",\"Pe\\u00f1agrande\",\"Plaza El\\u00edptica\",\"Plaza Espa\\u00f1a\",\"Plaza del Carmen\",\"Arturo Soria\",\"Barrio del Pilar\",\"Cuatro Caminos\",\"El Pardo\",\"Ensanche de Vallecas\",\"Escuelas Aguirre\",\"Farolillo\",\"J.M.D. Moratalaz\",\"J.M.D.Chamartin\",\"J.M.D.Chamber\\u00ed\",\"Juan Carlos I\",\"Matadero 01\",\"Moratalaz\",\"Pe\\u00f1agrande\",\"Plaza El\\u00edptica\",\"Plaza Espa\\u00f1a\",\"Plaza del Carmen\"],\"legendgroup\":\"\",\"marker\":{\"color\":\"#636efa\"},\"name\":\"\",\"notched\":false,\"offsetgroup\":\"\",\"orientation\":\"v\",\"showlegend\":false,\"x\":[\"2025-04-21T19:00:00\",\"2025-04-21T19:00:00\",\"2025-04-21T19:00:00\",\"2025-04-21T19:00:00\",\"2025-04-21T19:00:00\",\"2025-04-21T19:00:00\",\"2025-04-21T19:00:00\",\"2025-04-21T19:00:00\",\"2025-04-21T19:00:00\",\"2025-04-21T19:00:00\",\"2025-04-21T19:00:00\",\"2025-04-21T19:00:00\",\"2025-04-21T19:00:00\",\"2025-04-21T19:00:00\",\"2025-04-21T19:00:00\",\"2025-04-21T19:00:00\",\"2025-04-21T19:00:00\",\"2025-04-21T19:00:00\",\"2025-04-21T19:00:00\",\"2025-04-21T19:00:00\",\"2025-04-21T19:00:00\",\"2025-04-21T19:00:00\",\"2025-04-21T20:00:00\",\"2025-04-21T20:00:00\",\"2025-04-21T20:00:00\",\"2025-04-21T20:00:00\",\"2025-04-21T20:00:00\",\"2025-04-21T20:00:00\",\"2025-04-21T20:00:00\",\"2025-04-21T20:00:00\",\"2025-04-21T20:00:00\",\"2025-04-21T20:00:00\",\"2025-04-21T20:00:00\",\"2025-04-21T20:00:00\",\"2025-04-21T20:00:00\",\"2025-04-21T20:00:00\",\"2025-04-21T20:00:00\",\"2025-04-21T20:00:00\",\"2025-04-21T20:00:00\",\"2025-04-21T20:00:00\",\"2025-04-21T20:00:00\",\"2025-04-21T20:00:00\",\"2025-04-21T20:00:00\",\"2025-04-21T20:00:00\",\"2025-04-21T21:00:00\",\"2025-04-21T21:00:00\",\"2025-04-21T21:00:00\",\"2025-04-21T21:00:00\",\"2025-04-21T21:00:00\",\"2025-04-21T21:00:00\",\"2025-04-21T21:00:00\",\"2025-04-21T21:00:00\",\"2025-04-21T21:00:00\",\"2025-04-21T21:00:00\",\"2025-04-21T21:00:00\",\"2025-04-21T21:00:00\",\"2025-04-21T21:00:00\",\"2025-04-21T21:00:00\",\"2025-04-21T21:00:00\",\"2025-04-21T21:00:00\",\"2025-04-21T21:00:00\",\"2025-04-21T21:00:00\",\"2025-04-21T21:00:00\",\"2025-04-21T21:00:00\",\"2025-04-21T21:00:00\",\"2025-04-21T21:00:00\",\"2025-04-22T00:00:00\",\"2025-04-22T00:00:00\",\"2025-04-22T00:00:00\",\"2025-04-22T00:00:00\",\"2025-04-22T00:00:00\",\"2025-04-22T00:00:00\",\"2025-04-22T00:00:00\",\"2025-04-22T00:00:00\",\"2025-04-22T00:00:00\",\"2025-04-22T00:00:00\",\"2025-04-22T00:00:00\",\"2025-04-22T00:00:00\",\"2025-04-22T00:00:00\",\"2025-04-22T00:00:00\",\"2025-04-22T00:00:00\",\"2025-04-22T00:00:00\",\"2025-04-22T00:00:00\",\"2025-04-22T00:00:00\",\"2025-04-22T00:00:00\",\"2025-04-22T00:00:00\",\"2025-04-22T01:00:00\",\"2025-04-22T01:00:00\",\"2025-04-22T01:00:00\",\"2025-04-22T01:00:00\",\"2025-04-22T01:00:00\",\"2025-04-22T01:00:00\",\"2025-04-22T01:00:00\",\"2025-04-22T01:00:00\",\"2025-04-22T01:00:00\",\"2025-04-22T01:00:00\",\"2025-04-22T01:00:00\",\"2025-04-22T01:00:00\",\"2025-04-22T01:00:00\",\"2025-04-22T01:00:00\",\"2025-04-22T01:00:00\",\"2025-04-22T01:00:00\",\"2025-04-22T01:00:00\",\"2025-04-22T01:00:00\",\"2025-04-22T01:00:00\",\"2025-04-22T01:00:00\",\"2025-04-22T01:00:00\",\"2025-04-22T01:00:00\",\"2025-04-22T01:00:00\",\"2025-04-22T02:00:00\",\"2025-04-22T02:00:00\",\"2025-04-22T02:00:00\",\"2025-04-22T02:00:00\",\"2025-04-22T02:00:00\",\"2025-04-22T02:00:00\",\"2025-04-22T02:00:00\",\"2025-04-22T02:00:00\",\"2025-04-22T02:00:00\",\"2025-04-22T02:00:00\",\"2025-04-22T02:00:00\",\"2025-04-22T02:00:00\",\"2025-04-22T02:00:00\",\"2025-04-22T02:00:00\",\"2025-04-22T02:00:00\",\"2025-04-22T02:00:00\",\"2025-04-22T02:00:00\",\"2025-04-22T02:00:00\",\"2025-04-22T02:00:00\",\"2025-04-22T02:00:00\",\"2025-04-22T02:00:00\",\"2025-04-22T02:00:00\",\"2025-04-22T02:00:00\",\"2025-04-22T03:00:00\",\"2025-04-22T03:00:00\",\"2025-04-22T03:00:00\",\"2025-04-22T03:00:00\",\"2025-04-22T03:00:00\",\"2025-04-22T03:00:00\",\"2025-04-22T03:00:00\",\"2025-04-22T03:00:00\",\"2025-04-22T03:00:00\",\"2025-04-22T03:00:00\",\"2025-04-22T03:00:00\",\"2025-04-22T03:00:00\",\"2025-04-22T03:00:00\",\"2025-04-22T03:00:00\",\"2025-04-22T03:00:00\",\"2025-04-22T03:00:00\",\"2025-04-22T03:00:00\",\"2025-04-22T03:00:00\",\"2025-04-22T03:00:00\",\"2025-04-22T03:00:00\",\"2025-04-22T03:00:00\",\"2025-04-22T03:00:00\",\"2025-04-22T04:00:00\",\"2025-04-22T04:00:00\",\"2025-04-22T04:00:00\",\"2025-04-22T04:00:00\",\"2025-04-22T04:00:00\",\"2025-04-22T04:00:00\",\"2025-04-22T04:00:00\",\"2025-04-22T04:00:00\",\"2025-04-22T04:00:00\",\"2025-04-22T04:00:00\",\"2025-04-22T04:00:00\",\"2025-04-22T04:00:00\",\"2025-04-22T04:00:00\",\"2025-04-22T04:00:00\",\"2025-04-22T04:00:00\",\"2025-04-22T04:00:00\",\"2025-04-22T04:00:00\",\"2025-04-22T04:00:00\",\"2025-04-22T04:00:00\",\"2025-04-22T04:00:00\",\"2025-04-22T04:00:00\",\"2025-04-22T04:00:00\",\"2025-04-22T05:00:00\",\"2025-04-22T05:00:00\",\"2025-04-22T05:00:00\",\"2025-04-22T05:00:00\",\"2025-04-22T05:00:00\",\"2025-04-22T05:00:00\",\"2025-04-22T05:00:00\",\"2025-04-22T05:00:00\",\"2025-04-22T05:00:00\",\"2025-04-22T05:00:00\",\"2025-04-22T05:00:00\",\"2025-04-22T05:00:00\",\"2025-04-22T05:00:00\",\"2025-04-22T05:00:00\",\"2025-04-22T05:00:00\",\"2025-04-22T05:00:00\",\"2025-04-22T05:00:00\",\"2025-04-22T05:00:00\",\"2025-04-22T05:00:00\",\"2025-04-22T05:00:00\",\"2025-04-22T05:00:00\",\"2025-04-22T05:00:00\",\"2025-04-22T06:00:00\",\"2025-04-22T06:00:00\",\"2025-04-22T06:00:00\",\"2025-04-22T06:00:00\",\"2025-04-22T06:00:00\",\"2025-04-22T06:00:00\",\"2025-04-22T06:00:00\",\"2025-04-22T06:00:00\",\"2025-04-22T06:00:00\",\"2025-04-22T06:00:00\",\"2025-04-22T06:00:00\",\"2025-04-22T06:00:00\",\"2025-04-22T06:00:00\",\"2025-04-22T06:00:00\",\"2025-04-22T06:00:00\",\"2025-04-22T06:00:00\",\"2025-04-22T06:00:00\",\"2025-04-22T06:00:00\",\"2025-04-22T06:00:00\",\"2025-04-22T06:00:00\",\"2025-04-22T06:00:00\",\"2025-04-22T06:00:00\",\"2025-04-22T07:00:00\",\"2025-04-22T07:00:00\",\"2025-04-22T07:00:00\",\"2025-04-22T07:00:00\",\"2025-04-22T07:00:00\",\"2025-04-22T07:00:00\",\"2025-04-22T07:00:00\",\"2025-04-22T07:00:00\",\"2025-04-22T07:00:00\",\"2025-04-22T07:00:00\",\"2025-04-22T07:00:00\",\"2025-04-22T07:00:00\",\"2025-04-22T07:00:00\",\"2025-04-22T07:00:00\",\"2025-04-22T07:00:00\",\"2025-04-22T07:00:00\",\"2025-04-22T07:00:00\",\"2025-04-22T07:00:00\",\"2025-04-22T07:00:00\",\"2025-04-22T07:00:00\",\"2025-04-22T07:00:00\",\"2025-04-22T08:00:00\",\"2025-04-22T08:00:00\",\"2025-04-22T08:00:00\",\"2025-04-22T08:00:00\",\"2025-04-22T08:00:00\",\"2025-04-22T08:00:00\",\"2025-04-22T08:00:00\",\"2025-04-22T08:00:00\",\"2025-04-22T08:00:00\",\"2025-04-22T08:00:00\",\"2025-04-22T08:00:00\",\"2025-04-22T08:00:00\",\"2025-04-22T08:00:00\",\"2025-04-22T08:00:00\",\"2025-04-22T08:00:00\",\"2025-04-22T08:00:00\",\"2025-04-22T08:00:00\",\"2025-04-22T08:00:00\",\"2025-04-22T08:00:00\",\"2025-04-22T08:00:00\",\"2025-04-22T08:00:00\",\"2025-04-22T09:00:00\",\"2025-04-22T09:00:00\",\"2025-04-22T09:00:00\",\"2025-04-22T09:00:00\",\"2025-04-22T09:00:00\",\"2025-04-22T09:00:00\",\"2025-04-22T09:00:00\",\"2025-04-22T09:00:00\",\"2025-04-22T09:00:00\",\"2025-04-22T09:00:00\",\"2025-04-22T09:00:00\",\"2025-04-22T09:00:00\",\"2025-04-22T09:00:00\",\"2025-04-22T09:00:00\",\"2025-04-22T09:00:00\",\"2025-04-22T09:00:00\",\"2025-04-22T09:00:00\",\"2025-04-22T09:00:00\",\"2025-04-22T09:00:00\",\"2025-04-22T09:00:00\",\"2025-04-22T09:00:00\",\"2025-04-22T10:00:00\",\"2025-04-22T10:00:00\",\"2025-04-22T10:00:00\",\"2025-04-22T10:00:00\",\"2025-04-22T10:00:00\",\"2025-04-22T10:00:00\",\"2025-04-22T10:00:00\",\"2025-04-22T10:00:00\",\"2025-04-22T10:00:00\",\"2025-04-22T10:00:00\",\"2025-04-22T10:00:00\",\"2025-04-22T10:00:00\",\"2025-04-22T10:00:00\",\"2025-04-22T10:00:00\",\"2025-04-22T10:00:00\",\"2025-04-22T10:00:00\",\"2025-04-22T10:00:00\",\"2025-04-22T10:00:00\",\"2025-04-22T10:00:00\",\"2025-04-22T10:00:00\",\"2025-04-22T11:00:00\",\"2025-04-22T11:00:00\",\"2025-04-22T11:00:00\",\"2025-04-22T11:00:00\",\"2025-04-22T11:00:00\",\"2025-04-22T11:00:00\",\"2025-04-22T11:00:00\",\"2025-04-22T11:00:00\",\"2025-04-22T11:00:00\",\"2025-04-22T11:00:00\",\"2025-04-22T11:00:00\",\"2025-04-22T11:00:00\",\"2025-04-22T11:00:00\",\"2025-04-22T11:00:00\",\"2025-04-22T11:00:00\",\"2025-04-22T11:00:00\",\"2025-04-22T11:00:00\",\"2025-04-22T11:00:00\",\"2025-04-22T11:00:00\",\"2025-04-22T11:00:00\",\"2025-04-22T11:00:00\",\"2025-04-22T12:00:00\",\"2025-04-22T12:00:00\",\"2025-04-22T12:00:00\",\"2025-04-22T12:00:00\",\"2025-04-22T12:00:00\",\"2025-04-22T12:00:00\",\"2025-04-22T12:00:00\",\"2025-04-22T12:00:00\",\"2025-04-22T12:00:00\",\"2025-04-22T12:00:00\",\"2025-04-22T12:00:00\",\"2025-04-22T12:00:00\",\"2025-04-22T12:00:00\",\"2025-04-22T12:00:00\",\"2025-04-22T12:00:00\",\"2025-04-22T12:00:00\",\"2025-04-22T12:00:00\",\"2025-04-22T12:00:00\",\"2025-04-22T12:00:00\",\"2025-04-22T12:00:00\",\"2025-04-22T13:00:00\",\"2025-04-22T13:00:00\",\"2025-04-22T13:00:00\",\"2025-04-22T13:00:00\",\"2025-04-22T13:00:00\",\"2025-04-22T13:00:00\",\"2025-04-22T13:00:00\",\"2025-04-22T13:00:00\",\"2025-04-22T13:00:00\",\"2025-04-22T13:00:00\",\"2025-04-22T13:00:00\",\"2025-04-22T13:00:00\",\"2025-04-22T13:00:00\",\"2025-04-22T13:00:00\",\"2025-04-22T13:00:00\",\"2025-04-22T13:00:00\",\"2025-04-22T13:00:00\",\"2025-04-22T13:00:00\",\"2025-04-22T13:00:00\",\"2025-04-22T14:00:00\",\"2025-04-22T14:00:00\",\"2025-04-22T14:00:00\",\"2025-04-22T14:00:00\",\"2025-04-22T14:00:00\",\"2025-04-22T14:00:00\",\"2025-04-22T14:00:00\",\"2025-04-22T14:00:00\",\"2025-04-22T14:00:00\",\"2025-04-22T14:00:00\",\"2025-04-22T14:00:00\",\"2025-04-22T14:00:00\",\"2025-04-22T14:00:00\",\"2025-04-22T14:00:00\",\"2025-04-22T14:00:00\",\"2025-04-22T14:00:00\",\"2025-04-22T14:00:00\",\"2025-04-22T14:00:00\",\"2025-04-22T14:00:00\",\"2025-04-22T15:00:00\",\"2025-04-22T15:00:00\",\"2025-04-22T15:00:00\",\"2025-04-22T15:00:00\",\"2025-04-22T15:00:00\",\"2025-04-22T15:00:00\",\"2025-04-22T15:00:00\",\"2025-04-22T15:00:00\",\"2025-04-22T15:00:00\",\"2025-04-22T15:00:00\",\"2025-04-22T15:00:00\",\"2025-04-22T15:00:00\",\"2025-04-22T15:00:00\",\"2025-04-22T15:00:00\",\"2025-04-22T15:00:00\",\"2025-04-22T15:00:00\",\"2025-04-22T15:00:00\",\"2025-04-22T15:00:00\",\"2025-04-22T15:00:00\",\"2025-04-22T16:00:00\",\"2025-04-22T16:00:00\",\"2025-04-22T16:00:00\",\"2025-04-22T16:00:00\",\"2025-04-22T16:00:00\",\"2025-04-22T16:00:00\",\"2025-04-22T16:00:00\",\"2025-04-22T16:00:00\",\"2025-04-22T16:00:00\",\"2025-04-22T16:00:00\",\"2025-04-22T16:00:00\",\"2025-04-22T16:00:00\",\"2025-04-22T16:00:00\",\"2025-04-22T16:00:00\",\"2025-04-22T16:00:00\",\"2025-04-22T16:00:00\",\"2025-04-22T16:00:00\",\"2025-04-22T16:00:00\",\"2025-04-22T16:00:00\",\"2025-04-22T17:00:00\",\"2025-04-22T17:00:00\",\"2025-04-22T17:00:00\",\"2025-04-22T17:00:00\",\"2025-04-22T17:00:00\",\"2025-04-22T17:00:00\",\"2025-04-22T17:00:00\",\"2025-04-22T17:00:00\",\"2025-04-22T17:00:00\",\"2025-04-22T17:00:00\",\"2025-04-22T17:00:00\",\"2025-04-22T17:00:00\",\"2025-04-22T17:00:00\",\"2025-04-22T17:00:00\",\"2025-04-22T17:00:00\",\"2025-04-22T17:00:00\",\"2025-04-22T17:00:00\"],\"x0\":\" \",\"xaxis\":\"x\",\"y\":[17.8,18.3,17.3,16.0,17.7,17.6,18.0,18.5,18.3,14.5,13.5,16.0,18.2,17.6,17.6,17.0,19.6,17.3,14.9,18.9,18.3,17.7,17.3,17.3,16.4,15.2,17.0,17.1,17.8,17.5,18.1,14.2,13.7,14.5,17.5,17.4,16.4,16.5,18.5,16.7,14.6,17.8,17.5,17.4,16.2,16.1,14.9,13.9,15.8,15.9,16.4,16.1,17.1,13.3,12.6,13.0,16.1,16.5,15.2,15.6,17.1,15.7,13.2,16.6,16.4,16.3,13.7,13.4,12.6,11.2,12.9,13.1,13.4,13.4,14.6,9.9,10.3,13.1,13.7,13.0,14.4,13.1,10.5,13.9,13.5,13.5,13.5,13.2,11.9,10.5,12.4,12.4,12.3,12.9,13.8,10.4,9.2,9.8,12.6,13.0,12.1,13.0,13.6,13.3,12.6,10.1,13.4,13.0,13.1,12.8,12.4,11.7,10.0,11.7,11.9,11.5,12.2,13.2,9.4,8.6,9.1,11.9,12.2,11.8,12.2,12.9,12.6,12.0,9.1,13.0,12.3,12.4,12.4,11.8,11.1,9.3,11.3,11.5,11.6,11.7,12.6,9.2,8.2,11.5,12.0,11.3,11.9,12.3,11.9,11.7,8.5,12.5,11.6,11.8,12.1,11.5,10.3,9.0,11.0,11.0,11.7,11.2,12.3,8.8,7.9,11.2,11.7,11.3,11.6,12.0,11.7,11.4,8.2,11.9,11.1,11.4,12.1,11.0,10.2,8.8,10.6,10.8,11.5,11.3,12.2,8.8,7.7,11.0,11.8,11.1,11.6,12.0,11.6,11.1,7.9,11.7,10.9,11.1,11.9,11.1,10.5,8.5,10.4,10.3,11.5,11.3,12.0,8.4,7.6,10.7,11.7,11.1,11.2,11.8,11.4,11.5,7.7,11.6,10.8,11.0,11.9,11.1,10.0,10.8,9.5,10.9,11.3,12.0,8.4,7.6,10.9,12.0,11.1,10.8,11.8,11.4,11.6,8.0,11.7,10.8,11.1,12.2,11.0,10.4,10.6,9.7,10.8,11.1,11.9,9.7,7.6,10.8,11.7,11.3,11.1,11.7,11.3,11.1,7.7,11.7,10.6,11.0,12.5,11.9,11.2,11.2,10.3,11.5,11.8,12.0,10.3,8.0,11.3,12.2,12.1,11.6,12.0,11.7,12.1,8.2,12.0,10.9,11.2,13.2,12.1,11.7,11.5,11.8,12.7,12.7,10.5,8.6,12.2,12.7,13.3,11.8,13.1,12.7,12.5,8.8,13.2,11.6,11.7,14.0,13.2,13.9,12.9,12.8,13.0,13.5,13.2,11.1,9.6,13.3,13.8,14.1,12.8,13.9,13.5,13.4,9.5,14.0,12.7,12.7,14.7,14.2,14.3,13.5,13.6,14.7,14.2,13.7,11.3,10.2,13.8,14.8,14.8,13.4,14.4,13.9,10.6,14.2,13.6,13.8,14.9,15.3,14.3,14.8,15.1,15.2,14.2,11.6,10.9,14.4,15.6,16.5,14.0,15.1,14.5,12.0,14.6,14.6,14.6,17.4,18.2,15.7,16.6,15.7,17.1,16.3,13.2,12.0,16.3,18.7,18.6,16.4,17.2,15.4,13.9,16.7,17.3,16.4,17.7,18.5,17.3,16.5,17.1,17.2,17.1,13.5,12.8,17.2,18.6,18.5,17.3,18.5,16.0,14.5,17.7,18.2,17.8,19.0,18.4,17.5,17.4,17.6,18.0,17.9,14.2,14.0,18.1,19.2,19.8,17.4,19.1,16.7,15.3,18.2,17.8,17.8,18.1,19.5,18.7,18.0,18.6,19.8,19.3,14.3,18.4,20.7,16.3,19.0,17.4,15.6,19.1,18.9,18.4],\"y0\":\" \",\"yaxis\":\"y\",\"type\":\"box\"}],                        {\"template\":{\"data\":{\"histogram2dcontour\":[{\"type\":\"histogram2dcontour\",\"colorbar\":{\"outlinewidth\":0,\"ticks\":\"\"},\"colorscale\":[[0.0,\"#0d0887\"],[0.1111111111111111,\"#46039f\"],[0.2222222222222222,\"#7201a8\"],[0.3333333333333333,\"#9c179e\"],[0.4444444444444444,\"#bd3786\"],[0.5555555555555556,\"#d8576b\"],[0.6666666666666666,\"#ed7953\"],[0.7777777777777778,\"#fb9f3a\"],[0.8888888888888888,\"#fdca26\"],[1.0,\"#f0f921\"]]}],\"choropleth\":[{\"type\":\"choropleth\",\"colorbar\":{\"outlinewidth\":0,\"ticks\":\"\"}}],\"histogram2d\":[{\"type\":\"histogram2d\",\"colorbar\":{\"outlinewidth\":0,\"ticks\":\"\"},\"colorscale\":[[0.0,\"#0d0887\"],[0.1111111111111111,\"#46039f\"],[0.2222222222222222,\"#7201a8\"],[0.3333333333333333,\"#9c179e\"],[0.4444444444444444,\"#bd3786\"],[0.5555555555555556,\"#d8576b\"],[0.6666666666666666,\"#ed7953\"],[0.7777777777777778,\"#fb9f3a\"],[0.8888888888888888,\"#fdca26\"],[1.0,\"#f0f921\"]]}],\"heatmap\":[{\"type\":\"heatmap\",\"colorbar\":{\"outlinewidth\":0,\"ticks\":\"\"},\"colorscale\":[[0.0,\"#0d0887\"],[0.1111111111111111,\"#46039f\"],[0.2222222222222222,\"#7201a8\"],[0.3333333333333333,\"#9c179e\"],[0.4444444444444444,\"#bd3786\"],[0.5555555555555556,\"#d8576b\"],[0.6666666666666666,\"#ed7953\"],[0.7777777777777778,\"#fb9f3a\"],[0.8888888888888888,\"#fdca26\"],[1.0,\"#f0f921\"]]}],\"heatmapgl\":[{\"type\":\"heatmapgl\",\"colorbar\":{\"outlinewidth\":0,\"ticks\":\"\"},\"colorscale\":[[0.0,\"#0d0887\"],[0.1111111111111111,\"#46039f\"],[0.2222222222222222,\"#7201a8\"],[0.3333333333333333,\"#9c179e\"],[0.4444444444444444,\"#bd3786\"],[0.5555555555555556,\"#d8576b\"],[0.6666666666666666,\"#ed7953\"],[0.7777777777777778,\"#fb9f3a\"],[0.8888888888888888,\"#fdca26\"],[1.0,\"#f0f921\"]]}],\"contourcarpet\":[{\"type\":\"contourcarpet\",\"colorbar\":{\"outlinewidth\":0,\"ticks\":\"\"}}],\"contour\":[{\"type\":\"contour\",\"colorbar\":{\"outlinewidth\":0,\"ticks\":\"\"},\"colorscale\":[[0.0,\"#0d0887\"],[0.1111111111111111,\"#46039f\"],[0.2222222222222222,\"#7201a8\"],[0.3333333333333333,\"#9c179e\"],[0.4444444444444444,\"#bd3786\"],[0.5555555555555556,\"#d8576b\"],[0.6666666666666666,\"#ed7953\"],[0.7777777777777778,\"#fb9f3a\"],[0.8888888888888888,\"#fdca26\"],[1.0,\"#f0f921\"]]}],\"surface\":[{\"type\":\"surface\",\"colorbar\":{\"outlinewidth\":0,\"ticks\":\"\"},\"colorscale\":[[0.0,\"#0d0887\"],[0.1111111111111111,\"#46039f\"],[0.2222222222222222,\"#7201a8\"],[0.3333333333333333,\"#9c179e\"],[0.4444444444444444,\"#bd3786\"],[0.5555555555555556,\"#d8576b\"],[0.6666666666666666,\"#ed7953\"],[0.7777777777777778,\"#fb9f3a\"],[0.8888888888888888,\"#fdca26\"],[1.0,\"#f0f921\"]]}],\"mesh3d\":[{\"type\":\"mesh3d\",\"colorbar\":{\"outlinewidth\":0,\"ticks\":\"\"}}],\"scatter\":[{\"fillpattern\":{\"fillmode\":\"overlay\",\"size\":10,\"solidity\":0.2},\"type\":\"scatter\"}],\"parcoords\":[{\"type\":\"parcoords\",\"line\":{\"colorbar\":{\"outlinewidth\":0,\"ticks\":\"\"}}}],\"scatterpolargl\":[{\"type\":\"scatterpolargl\",\"marker\":{\"colorbar\":{\"outlinewidth\":0,\"ticks\":\"\"}}}],\"bar\":[{\"error_x\":{\"color\":\"#2a3f5f\"},\"error_y\":{\"color\":\"#2a3f5f\"},\"marker\":{\"line\":{\"color\":\"#E5ECF6\",\"width\":0.5},\"pattern\":{\"fillmode\":\"overlay\",\"size\":10,\"solidity\":0.2}},\"type\":\"bar\"}],\"scattergeo\":[{\"type\":\"scattergeo\",\"marker\":{\"colorbar\":{\"outlinewidth\":0,\"ticks\":\"\"}}}],\"scatterpolar\":[{\"type\":\"scatterpolar\",\"marker\":{\"colorbar\":{\"outlinewidth\":0,\"ticks\":\"\"}}}],\"histogram\":[{\"marker\":{\"pattern\":{\"fillmode\":\"overlay\",\"size\":10,\"solidity\":0.2}},\"type\":\"histogram\"}],\"scattergl\":[{\"type\":\"scattergl\",\"marker\":{\"colorbar\":{\"outlinewidth\":0,\"ticks\":\"\"}}}],\"scatter3d\":[{\"type\":\"scatter3d\",\"line\":{\"colorbar\":{\"outlinewidth\":0,\"ticks\":\"\"}},\"marker\":{\"colorbar\":{\"outlinewidth\":0,\"ticks\":\"\"}}}],\"scattermapbox\":[{\"type\":\"scattermapbox\",\"marker\":{\"colorbar\":{\"outlinewidth\":0,\"ticks\":\"\"}}}],\"scatterternary\":[{\"type\":\"scatterternary\",\"marker\":{\"colorbar\":{\"outlinewidth\":0,\"ticks\":\"\"}}}],\"scattercarpet\":[{\"type\":\"scattercarpet\",\"marker\":{\"colorbar\":{\"outlinewidth\":0,\"ticks\":\"\"}}}],\"carpet\":[{\"aaxis\":{\"endlinecolor\":\"#2a3f5f\",\"gridcolor\":\"white\",\"linecolor\":\"white\",\"minorgridcolor\":\"white\",\"startlinecolor\":\"#2a3f5f\"},\"baxis\":{\"endlinecolor\":\"#2a3f5f\",\"gridcolor\":\"white\",\"linecolor\":\"white\",\"minorgridcolor\":\"white\",\"startlinecolor\":\"#2a3f5f\"},\"type\":\"carpet\"}],\"table\":[{\"cells\":{\"fill\":{\"color\":\"#EBF0F8\"},\"line\":{\"color\":\"white\"}},\"header\":{\"fill\":{\"color\":\"#C8D4E3\"},\"line\":{\"color\":\"white\"}},\"type\":\"table\"}],\"barpolar\":[{\"marker\":{\"line\":{\"color\":\"#E5ECF6\",\"width\":0.5},\"pattern\":{\"fillmode\":\"overlay\",\"size\":10,\"solidity\":0.2}},\"type\":\"barpolar\"}],\"pie\":[{\"automargin\":true,\"type\":\"pie\"}]},\"layout\":{\"autotypenumbers\":\"strict\",\"colorway\":[\"#636efa\",\"#EF553B\",\"#00cc96\",\"#ab63fa\",\"#FFA15A\",\"#19d3f3\",\"#FF6692\",\"#B6E880\",\"#FF97FF\",\"#FECB52\"],\"font\":{\"color\":\"#2a3f5f\"},\"hovermode\":\"closest\",\"hoverlabel\":{\"align\":\"left\"},\"paper_bgcolor\":\"white\",\"plot_bgcolor\":\"#E5ECF6\",\"polar\":{\"bgcolor\":\"#E5ECF6\",\"angularaxis\":{\"gridcolor\":\"white\",\"linecolor\":\"white\",\"ticks\":\"\"},\"radialaxis\":{\"gridcolor\":\"white\",\"linecolor\":\"white\",\"ticks\":\"\"}},\"ternary\":{\"bgcolor\":\"#E5ECF6\",\"aaxis\":{\"gridcolor\":\"white\",\"linecolor\":\"white\",\"ticks\":\"\"},\"baxis\":{\"gridcolor\":\"white\",\"linecolor\":\"white\",\"ticks\":\"\"},\"caxis\":{\"gridcolor\":\"white\",\"linecolor\":\"white\",\"ticks\":\"\"}},\"coloraxis\":{\"colorbar\":{\"outlinewidth\":0,\"ticks\":\"\"}},\"colorscale\":{\"sequential\":[[0.0,\"#0d0887\"],[0.1111111111111111,\"#46039f\"],[0.2222222222222222,\"#7201a8\"],[0.3333333333333333,\"#9c179e\"],[0.4444444444444444,\"#bd3786\"],[0.5555555555555556,\"#d8576b\"],[0.6666666666666666,\"#ed7953\"],[0.7777777777777778,\"#fb9f3a\"],[0.8888888888888888,\"#fdca26\"],[1.0,\"#f0f921\"]],\"sequentialminus\":[[0.0,\"#0d0887\"],[0.1111111111111111,\"#46039f\"],[0.2222222222222222,\"#7201a8\"],[0.3333333333333333,\"#9c179e\"],[0.4444444444444444,\"#bd3786\"],[0.5555555555555556,\"#d8576b\"],[0.6666666666666666,\"#ed7953\"],[0.7777777777777778,\"#fb9f3a\"],[0.8888888888888888,\"#fdca26\"],[1.0,\"#f0f921\"]],\"diverging\":[[0,\"#8e0152\"],[0.1,\"#c51b7d\"],[0.2,\"#de77ae\"],[0.3,\"#f1b6da\"],[0.4,\"#fde0ef\"],[0.5,\"#f7f7f7\"],[0.6,\"#e6f5d0\"],[0.7,\"#b8e186\"],[0.8,\"#7fbc41\"],[0.9,\"#4d9221\"],[1,\"#276419\"]]},\"xaxis\":{\"gridcolor\":\"white\",\"linecolor\":\"white\",\"ticks\":\"\",\"title\":{\"standoff\":15},\"zerolinecolor\":\"white\",\"automargin\":true,\"zerolinewidth\":2},\"yaxis\":{\"gridcolor\":\"white\",\"linecolor\":\"white\",\"ticks\":\"\",\"title\":{\"standoff\":15},\"zerolinecolor\":\"white\",\"automargin\":true,\"zerolinewidth\":2},\"scene\":{\"xaxis\":{\"backgroundcolor\":\"#E5ECF6\",\"gridcolor\":\"white\",\"linecolor\":\"white\",\"showbackground\":true,\"ticks\":\"\",\"zerolinecolor\":\"white\",\"gridwidth\":2},\"yaxis\":{\"backgroundcolor\":\"#E5ECF6\",\"gridcolor\":\"white\",\"linecolor\":\"white\",\"showbackground\":true,\"ticks\":\"\",\"zerolinecolor\":\"white\",\"gridwidth\":2},\"zaxis\":{\"backgroundcolor\":\"#E5ECF6\",\"gridcolor\":\"white\",\"linecolor\":\"white\",\"showbackground\":true,\"ticks\":\"\",\"zerolinecolor\":\"white\",\"gridwidth\":2}},\"shapedefaults\":{\"line\":{\"color\":\"#2a3f5f\"}},\"annotationdefaults\":{\"arrowcolor\":\"#2a3f5f\",\"arrowhead\":0,\"arrowwidth\":1},\"geo\":{\"bgcolor\":\"white\",\"landcolor\":\"#E5ECF6\",\"subunitcolor\":\"white\",\"showland\":true,\"showlakes\":true,\"lakecolor\":\"white\"},\"title\":{\"x\":0.05},\"mapbox\":{\"style\":\"light\"}}},\"xaxis\":{\"anchor\":\"y\",\"domain\":[0.0,1.0],\"title\":{\"text\":\"TS\"}},\"yaxis\":{\"anchor\":\"x\",\"domain\":[0.0,1.0],\"title\":{\"text\":\"VALOR\"}},\"legend\":{\"tracegroupgap\":0},\"title\":{\"text\":\"Distribuci\\u00f3n temperaturas\"},\"boxmode\":\"group\"},                        {\"responsive\": true}                    ).then(function(){\n",
       "                            \n",
       "var gd = document.getElementById('15d9b535-d505-4c1c-82be-292ce9ccb0d5');\n",
       "var x = new MutationObserver(function (mutations, observer) {{\n",
       "        var display = window.getComputedStyle(gd).display;\n",
       "        if (!display || display === 'none') {{\n",
       "            console.log([gd, 'removed!']);\n",
       "            Plotly.purge(gd);\n",
       "            observer.disconnect();\n",
       "        }}\n",
       "}});\n",
       "\n",
       "// Listen for the removal of the full notebook cells\n",
       "var notebookContainer = gd.closest('#notebook-container');\n",
       "if (notebookContainer) {{\n",
       "    x.observe(notebookContainer, {childList: true});\n",
       "}}\n",
       "\n",
       "// Listen for the clearing of the current output cell\n",
       "var outputEl = gd.closest('.output');\n",
       "if (outputEl) {{\n",
       "    x.observe(outputEl, {childList: true});\n",
       "}}\n",
       "\n",
       "                        })                };                });            </script>        </div>"
      ]
     },
     "metadata": {},
     "output_type": "display_data"
    }
   ],
   "source": [
    "df = result.DataFrame()\n",
    "\n",
    "fig = px.box(df, x= 'TS', y = 'VALOR', title = 'Distribución temperaturas', hover_name='ESTACION_DESC')\n",
    "fig.show()"
   ]
  },
  {
   "cell_type": "code",
   "execution_count": 27,
   "id": "09c41ae2",
   "metadata": {},
   "outputs": [],
   "source": [
    "%sql --close duckdb"
   ]
  }
 ],
 "metadata": {
  "kernelspec": {
   "display_name": ".venv",
   "language": "python",
   "name": "python3"
  },
  "language_info": {
   "codemirror_mode": {
    "name": "ipython",
    "version": 3
   },
   "file_extension": ".py",
   "mimetype": "text/x-python",
   "name": "python",
   "nbconvert_exporter": "python",
   "pygments_lexer": "ipython3",
   "version": "3.11.2"
  }
 },
 "nbformat": 4,
 "nbformat_minor": 5
}
