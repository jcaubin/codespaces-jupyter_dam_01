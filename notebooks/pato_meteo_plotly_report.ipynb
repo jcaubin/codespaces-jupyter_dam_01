{
 "cells": [
  {
   "cell_type": "code",
   "execution_count": 1,
   "metadata": {},
   "outputs": [
    {
     "data": {
      "text/html": [
       "    <!-- Google tag (gtag.js) --> \n",
       "    \n",
       "    <script async src=\"https://www.googletagmanager.com/gtag/js?id=G-BCBM9LRTT2\">\n",
       "    </script> \n",
       "    <script> \n",
       "      window.dataLayer = window.dataLayer || []; function gtag(){dataLayer.push(arguments);} gtag('js', new Date()); gtag('config', 'G-BCBM9LRTT2'); \n",
       "      </script>\n",
       "\n"
      ],
      "text/plain": [
       "<IPython.core.display.HTML object>"
      ]
     },
     "metadata": {},
     "output_type": "display_data"
    }
   ],
   "source": [
    "%%html\n",
    "    <!-- Google tag (gtag.js) --> \n",
    "    \n",
    "    <script async src=\"https://www.googletagmanager.com/gtag/js?id=G-BCBM9LRTT2\">\n",
    "    </script> \n",
    "    <script> \n",
    "      window.dataLayer = window.dataLayer || []; function gtag(){dataLayer.push(arguments);} gtag('js', new Date()); gtag('config', 'G-BCBM9LRTT2'); \n",
    "      </script>\n",
    "\n"
   ]
  },
  {
   "cell_type": "markdown",
   "metadata": {},
   "source": [
    "# Meteo con el pato\n",
    "\n",
    "### Este informe muestra los datos diarios de temperatura recogidos en el portal de datos abiertos del ayuntamiento.\n",
    "* dataset: **meteorologia-tiempo-real** "
   ]
  },
  {
   "cell_type": "code",
   "execution_count": null,
   "metadata": {},
   "outputs": [],
   "source": [
    "import duckdb\n",
    "import plotly.express as px\n",
    "\n",
    "%load_ext sql"
   ]
  },
  {
   "cell_type": "code",
   "execution_count": null,
   "metadata": {},
   "outputs": [],
   "source": [
    "%%capture\n",
    "\n",
    "#conexion a bbdd en memoria o en fichero\n",
    "#conn = duckdb.connect() \n",
    "conn = duckdb.connect('/home/jcaubin/duck_test.db') \n",
    "\n",
    "\n",
    "%sql conn --alias duckdb\n",
    "#limite de filas a mostrar\n",
    "%config SqlMagic.displaylimit = 100 "
   ]
  },
  {
   "cell_type": "code",
   "execution_count": null,
   "metadata": {},
   "outputs": [],
   "source": [
    "# imprime la hora de ejecución\n",
    "from datetime import datetime\n",
    "from IPython.display import display, Markdown\n",
    "\n",
    "t = datetime.now()\n",
    "display(Markdown(f\"### hora de ejecución: {t}\"))"
   ]
  },
  {
   "cell_type": "markdown",
   "metadata": {},
   "source": [
    "## METEO"
   ]
  },
  {
   "cell_type": "code",
   "execution_count": null,
   "metadata": {},
   "outputs": [],
   "source": [
    "\n",
    "magnitud = 83 #temperatura"
   ]
  },
  {
   "cell_type": "code",
   "execution_count": null,
   "metadata": {
    "vscode": {
     "languageId": "sql"
    }
   },
   "outputs": [],
   "source": [
    "%%sql \n",
    "result2 << \n",
    "select estacion_desc,dia,  h, valor \n",
    "from v_CALAIR \n",
    "where magnitud = {{magnitud}} \n",
    "and validez = 'V'\n",
    "and estacion_desc in ['Casa de Campo'] --, 'Juan Carlos I', 'El Pardo','Peñagrande', 'Plaza Elíptica']\n",
    "and date_diff ('hour',TS, current_date()) < (24*7)\n",
    "order by estacion_desc, TS\n"
   ]
  },
  {
   "cell_type": "code",
   "execution_count": null,
   "metadata": {},
   "outputs": [],
   "source": [
    "import plotly.express as px\n",
    "\n",
    "df = result2.DataFrame()\n",
    "\n",
    "fig = px.line(df, x=\"H\", y=\"VALOR\", color=\"DIA\", symbol='ESTACION_DESC', title='Temperaturas')\n",
    "fig.show()"
   ]
  },
  {
   "cell_type": "code",
   "execution_count": null,
   "metadata": {
    "vscode": {
     "languageId": "sql"
    }
   },
   "outputs": [],
   "source": [
    "%%sql\n",
    "--tabla ancha\n",
    "PIVOT(\n",
    "select estacion_desc, h, valor\n",
    "from v_CALAIR\n",
    "where\n",
    "magnitud = {{magnitud}} \n",
    "and validez = 'V'\n",
    "and DIA = datepart('day',current_date())\n",
    ")\n",
    "on ESTACION_DESC\n",
    "USING sum(VALOR)\n",
    "group by H"
   ]
  },
  {
   "cell_type": "code",
   "execution_count": null,
   "metadata": {
    "vscode": {
     "languageId": "sql"
    }
   },
   "outputs": [],
   "source": [
    "%%sql \n",
    "precipitaciones << \n",
    "select estacion_desc,dia,  h, valor \n",
    "from v_CALAIR \n",
    "where magnitud = 89\n",
    "and validez = 'V'\n",
    "and estacion_desc in ['Casa de Campo'] --, 'Juan Carlos I', 'El Pardo','Peñagrande', 'Plaza Elíptica']\n",
    "and date_diff ('hour',TS, current_date()) < (24*7)\n",
    "order by estacion_desc, TS\n"
   ]
  },
  {
   "cell_type": "code",
   "execution_count": null,
   "metadata": {
    "vscode": {
     "languageId": "sql"
    }
   },
   "outputs": [],
   "source": [
    "fig = px.line(precipitaciones.DataFrame(), x=\"H\", y=\"VALOR\", color=\"DIA\", symbol='ESTACION_DESC', title='Precipitaciones ')\n",
    "fig.show()"
   ]
  },
  {
   "cell_type": "code",
   "execution_count": null,
   "metadata": {
    "vscode": {
     "languageId": "sql"
    }
   },
   "outputs": [],
   "source": [
    "%%sql \n",
    "dm <<\n",
    "select estacion_desc, parametro,dia,  TS, valor \n",
    "from v_CALAIR \n",
    "where  date_diff ('hour',TS, current_date()) < (24*2) --DIA = datepart('day',current_date())\n",
    "and validez = 'V'\n",
    "and magnitud >=80\n",
    "--and estacion_desc in ['Casa de Campo','Juan Carlos I', 'El Pardo','Peñagrande', 'Plaza Elíptica']\n",
    "order by estacion_desc, TS"
   ]
  },
  {
   "cell_type": "code",
   "execution_count": null,
   "metadata": {},
   "outputs": [],
   "source": [
    "fig = px.line(dm.DataFrame(), x=\"TS\", y=\"VALOR\", color=\"ESTACION_DESC\", facet_col='PARAMETRO',facet_col_wrap=1 ,title='Meteorología ', height=4000)\n",
    "fig.update_yaxes(matches=None)\n",
    "fig.for_each_annotation(lambda a: a.update(text=a.text.split(\"=\")[1]))\n",
    "fig.for_each_yaxis(lambda yaxis: yaxis.update(showticklabels=True))\n",
    "fig.for_each_xaxis(lambda a: a.update(showticklabels=True))\n",
    "#fig.update_layout(xaxis=dict(range=[0,24]))\n",
    "#fig.for_each_trace(lambda t: t.update(name=t.name.split(\"=\")[1]))\n",
    "fig.update_layout(legend=dict(\n",
    "    entrywidth=0.3, # change it to 0.3\n",
    "    entrywidthmode='fraction',\n",
    "    orientation='h',\n",
    "    y=-0.02,\n",
    "    xanchor=\"center\",\n",
    "    x=0.5\n",
    "    ,indentation=10)\n",
    ")\n",
    "fig.show()"
   ]
  },
  {
   "cell_type": "markdown",
   "metadata": {},
   "source": [
    "## CALIDAD DEL AIRE"
   ]
  },
  {
   "cell_type": "code",
   "execution_count": null,
   "metadata": {
    "vscode": {
     "languageId": "sql"
    }
   },
   "outputs": [],
   "source": [
    "%%sql \n",
    "nox << \n",
    "select estacion_desc,dia,  h, valor \n",
    "from v_CALAIR \n",
    "where magnitud = 08\n",
    "and validez = 'V'\n",
    "and date_diff ('hour',TS, current_date()) < (24*7)\n",
    "and estacion_desc in ['Casa de Campo','Juan Carlos I', 'El Pardo','Peñagrande', 'Plaza Elíptica']\n",
    "order by estacion_desc, TS"
   ]
  },
  {
   "cell_type": "code",
   "execution_count": null,
   "metadata": {},
   "outputs": [],
   "source": [
    "fig = px.line(nox.DataFrame(), x=\"H\", y=\"VALOR\", color=\"DIA\", symbol='ESTACION_DESC', title='NO2 ')\n",
    "fig.show()"
   ]
  },
  {
   "cell_type": "code",
   "execution_count": null,
   "metadata": {},
   "outputs": [],
   "source": [
    "fig = px.line(nox.DataFrame(), x=\"H\", y=\"VALOR\", color=\"DIA\", facet_col='ESTACION_DESC',facet_col_wrap=4 ,title='NOX ')\n",
    "fig.show()"
   ]
  },
  {
   "cell_type": "code",
   "execution_count": null,
   "metadata": {
    "vscode": {
     "languageId": "sql"
    }
   },
   "outputs": [],
   "source": [
    "%%sql\n",
    "--tabla ancha\n",
    "PIVOT(\n",
    "select estacion_desc, h, valor\n",
    "from v_calair\n",
    "where\n",
    "magnitud = 08\n",
    "and validez = 'V'\n",
    "and DIA = datepart('day',current_date())\n",
    "and date_diff ('hour',TS, current_date()) < (24*7)\n",
    ")\n",
    "on ESTACION_DESC\n",
    "USING sum(VALOR)\n",
    "group by H"
   ]
  },
  {
   "cell_type": "code",
   "execution_count": null,
   "metadata": {
    "vscode": {
     "languageId": "sql"
    }
   },
   "outputs": [],
   "source": [
    "%%sql \n",
    "cont <<\n",
    "select estacion_desc, parametro,dia,  TS, valor \n",
    "from v_CALAIR \n",
    "where  date_diff ('hour',TS, current_date()) < 48 --DIA = datepart('day',current_date())\n",
    "and validez = 'V'\n",
    "and magnitud <80\n",
    "--and estacion_desc in ['Casa de Campo','Juan Carlos I', 'El Pardo','Peñagrande', 'Plaza Elíptica']\n",
    "order by estacion_desc, TS\n"
   ]
  },
  {
   "cell_type": "code",
   "execution_count": null,
   "metadata": {},
   "outputs": [],
   "source": [
    "fig = px.line(cont.DataFrame(), x=\"TS\", y=\"VALOR\", color=\"ESTACION_DESC\", facet_col='PARAMETRO',facet_col_wrap=2 ,title='Contaminantes ', height=2000)\n",
    "fig.update_yaxes(matches=None)\n",
    "fig.for_each_annotation(lambda a: a.update(text=a.text.split(\"=\")[1]))\n",
    "fig.for_each_yaxis(lambda yaxis: yaxis.update(showticklabels=True))\n",
    "fig.for_each_xaxis(lambda a: a.update(showticklabels=True))\n",
    "#fig.update_layout(xaxis=dict(range=[0,24]))\n",
    "#fig.for_each_trace(lambda t: t.update(name=t.name.split(\"=\")[1]))\n",
    "fig.show()"
   ]
  },
  {
   "cell_type": "code",
   "execution_count": null,
   "metadata": {
    "vscode": {
     "languageId": "sql"
    }
   },
   "outputs": [],
   "source": [
    "%sql --close duckdb"
   ]
  }
 ],
 "metadata": {
  "kernelspec": {
   "display_name": ".venv",
   "language": "python",
   "name": "python3"
  },
  "language_info": {
   "codemirror_mode": {
    "name": "ipython",
    "version": 3
   },
   "file_extension": ".py",
   "mimetype": "text/x-python",
   "name": "python",
   "nbconvert_exporter": "python",
   "pygments_lexer": "ipython3",
   "version": "3.11.2"
  }
 },
 "nbformat": 4,
 "nbformat_minor": 2
}
