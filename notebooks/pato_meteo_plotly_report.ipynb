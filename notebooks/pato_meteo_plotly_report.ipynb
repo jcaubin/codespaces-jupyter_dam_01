{
 "cells": [
  {
   "cell_type": "markdown",
   "metadata": {},
   "source": [
    "# Meteo con el pato\n",
    "\n",
    "### Este informe muestra los datos diarios de temperatura recogidos en el portal de datos abiertos del ayuntamiento.\n",
    "* dataset: **meteorologia-tiempo-real** "
   ]
  },
  {
   "cell_type": "code",
   "execution_count": 22,
   "metadata": {},
   "outputs": [
    {
     "name": "stdout",
     "output_type": "stream",
     "text": [
      "The sql extension is already loaded. To reload it, use:\n",
      "  %reload_ext sql\n"
     ]
    }
   ],
   "source": [
    "import duckdb\n",
    "import plotly.express as px\n",
    "\n",
    "%load_ext sql"
   ]
  },
  {
   "cell_type": "code",
   "execution_count": 23,
   "metadata": {},
   "outputs": [],
   "source": [
    "%%capture\n",
    "\n",
    "#conexion a bbdd en memoria o en fichero\n",
    "#conn = duckdb.connect() \n",
    "conn = duckdb.connect('/home/jcaubin/duck_test.db') \n",
    "\n",
    "\n",
    "%sql conn --alias duckdb\n",
    "#limite de filas a mostrar\n",
    "%config SqlMagic.displaylimit = 100 "
   ]
  },
  {
   "cell_type": "code",
   "execution_count": 24,
   "metadata": {},
   "outputs": [
    {
     "data": {
      "text/markdown": [
       "### hora de ejecución: 2025-01-25 11:27:47.895860"
      ],
      "text/plain": [
       "<IPython.core.display.Markdown object>"
      ]
     },
     "metadata": {},
     "output_type": "display_data"
    }
   ],
   "source": [
    "# imprime la hora de ejecución\n",
    "from datetime import datetime\n",
    "from IPython.display import display, Markdown\n",
    "\n",
    "t = datetime.now()\n",
    "display(Markdown(f\"### hora de ejecución: {t}\"))"
   ]
  },
  {
   "cell_type": "markdown",
   "metadata": {},
   "source": [
    "## METEO"
   ]
  },
  {
   "cell_type": "code",
   "execution_count": 25,
   "metadata": {},
   "outputs": [],
   "source": [
    "\n",
    "magnitud = 83 #temperatura"
   ]
  },
  {
   "cell_type": "code",
   "execution_count": 26,
   "metadata": {
    "vscode": {
     "languageId": "sql"
    }
   },
   "outputs": [
    {
     "data": {
      "text/html": [
       "<span style=\"None\">Running query in &#x27;duckdb&#x27;</span>"
      ],
      "text/plain": [
       "Running query in 'duckdb'"
      ]
     },
     "metadata": {},
     "output_type": "display_data"
    }
   ],
   "source": [
    "%%sql \n",
    "result2 << \n",
    "select estacion_desc,dia,  h, valor \n",
    "from CALAIR \n",
    "where magnitud = {{magnitud}} \n",
    "and validez = 'V'\n",
    "and estacion_desc in ['Casa de Campo'] --, 'Juan Carlos I', 'El Pardo','Peñagrande', 'Plaza Elíptica']\n",
    "order by estacion_desc, h\n"
   ]
  },
  {
   "cell_type": "code",
   "execution_count": 27,
   "metadata": {
    "vscode": {
     "languageId": "sql"
    }
   },
   "outputs": [],
   "source": [
    "df = result2.DataFrame()"
   ]
  },
  {
   "cell_type": "code",
   "execution_count": 28,
   "metadata": {},
   "outputs": [
    {
     "data": {
      "application/vnd.plotly.v1+json": {
       "config": {
        "plotlyServerURL": "https://plot.ly"
       },
       "data": [
        {
         "hovertemplate": "DIA=14<br>ESTACION_DESC=Casa de Campo<br>H=%{x}<br>VALOR=%{y}<extra></extra>",
         "legendgroup": "14, Casa de Campo",
         "line": {
          "color": "#636efa",
          "dash": "solid"
         },
         "marker": {
          "symbol": "circle"
         },
         "mode": "lines+markers",
         "name": "14, Casa de Campo",
         "orientation": "v",
         "showlegend": true,
         "type": "scatter",
         "x": [
          1,
          2,
          3,
          4,
          5,
          6,
          7,
          8,
          9,
          10,
          11,
          12,
          13,
          14,
          15,
          16,
          17,
          18,
          19,
          20,
          21,
          22
         ],
         "xaxis": "x",
         "y": [
          -2.1,
          -1.1,
          -0.3,
          -0.8,
          0.7,
          0,
          -1.3,
          -2.2,
          -3.7,
          -2.3,
          1.8,
          5.5,
          8,
          10.1,
          11.8,
          13.2,
          15.3,
          13.7,
          9,
          6.1,
          4.4,
          2.6
         ],
         "yaxis": "y"
        },
        {
         "hovertemplate": "DIA=15<br>ESTACION_DESC=Casa de Campo<br>H=%{x}<br>VALOR=%{y}<extra></extra>",
         "legendgroup": "15, Casa de Campo",
         "line": {
          "color": "#EF553B",
          "dash": "solid"
         },
         "marker": {
          "symbol": "circle"
         },
         "mode": "lines+markers",
         "name": "15, Casa de Campo",
         "orientation": "v",
         "showlegend": true,
         "type": "scatter",
         "x": [
          1,
          2,
          5,
          6,
          7,
          8,
          9,
          10,
          11,
          12,
          13,
          14,
          15,
          16,
          17
         ],
         "xaxis": "x",
         "y": [
          -2.4,
          -3.1,
          -4.4,
          -4.4,
          -6.1,
          -6.8,
          -6.7,
          -4.3,
          0,
          3.9,
          7.2,
          9.9,
          12.2,
          13.7,
          13.6
         ],
         "yaxis": "y"
        },
        {
         "hovertemplate": "DIA=16<br>ESTACION_DESC=Casa de Campo<br>H=%{x}<br>VALOR=%{y}<extra></extra>",
         "legendgroup": "16, Casa de Campo",
         "line": {
          "color": "#00cc96",
          "dash": "solid"
         },
         "marker": {
          "symbol": "circle"
         },
         "mode": "lines+markers",
         "name": "16, Casa de Campo",
         "orientation": "v",
         "showlegend": true,
         "type": "scatter",
         "x": [
          1,
          2,
          3,
          4,
          5,
          6,
          7,
          8,
          9,
          10,
          11,
          12,
          13,
          14,
          15,
          16,
          17,
          18,
          19,
          20,
          21,
          22,
          23
         ],
         "xaxis": "x",
         "y": [
          -1.2,
          -1.4,
          -2,
          -2.9,
          -2.8,
          -3.1,
          -3.2,
          -3.7,
          -3.1,
          -1.2,
          2.5,
          7.9,
          11,
          12.1,
          13.2,
          14.7,
          14.3,
          12.7,
          9.4,
          8.6,
          8,
          7.3,
          6.5
         ],
         "yaxis": "y"
        },
        {
         "hovertemplate": "DIA=17<br>ESTACION_DESC=Casa de Campo<br>H=%{x}<br>VALOR=%{y}<extra></extra>",
         "legendgroup": "17, Casa de Campo",
         "line": {
          "color": "#ab63fa",
          "dash": "solid"
         },
         "marker": {
          "symbol": "circle"
         },
         "mode": "lines+markers",
         "name": "17, Casa de Campo",
         "orientation": "v",
         "showlegend": true,
         "type": "scatter",
         "x": [
          1,
          2,
          3,
          4,
          5,
          6,
          7,
          8,
          9,
          10
         ],
         "xaxis": "x",
         "y": [
          4.5,
          4.1,
          3.2,
          2.7,
          2.8,
          2.8,
          2.8,
          2.9,
          3.5,
          4.6
         ],
         "yaxis": "y"
        },
        {
         "hovertemplate": "DIA=19<br>ESTACION_DESC=Casa de Campo<br>H=%{x}<br>VALOR=%{y}<extra></extra>",
         "legendgroup": "19, Casa de Campo",
         "line": {
          "color": "#FFA15A",
          "dash": "solid"
         },
         "marker": {
          "symbol": "circle"
         },
         "mode": "lines+markers",
         "name": "19, Casa de Campo",
         "orientation": "v",
         "showlegend": true,
         "type": "scatter",
         "x": [
          1,
          2,
          3,
          4,
          5,
          6,
          7,
          8,
          9,
          10,
          11,
          12,
          13,
          14,
          15,
          16,
          17,
          18,
          19,
          20,
          21,
          22
         ],
         "xaxis": "x",
         "y": [
          -0.5,
          -1.2,
          -2.3,
          -2.6,
          -3.3,
          -4.2,
          -4.1,
          -4.2,
          -4.3,
          -3.2,
          1,
          4.4,
          7,
          8.3,
          11,
          10.5,
          11,
          10.1,
          7.7,
          7,
          6.9,
          7.1
         ],
         "yaxis": "y"
        },
        {
         "hovertemplate": "DIA=20<br>ESTACION_DESC=Casa de Campo<br>H=%{x}<br>VALOR=%{y}<extra></extra>",
         "legendgroup": "20, Casa de Campo",
         "line": {
          "color": "#19d3f3",
          "dash": "solid"
         },
         "marker": {
          "symbol": "circle"
         },
         "mode": "lines+markers",
         "name": "20, Casa de Campo",
         "orientation": "v",
         "showlegend": true,
         "type": "scatter",
         "x": [
          1,
          2,
          3,
          4,
          5,
          6,
          7,
          8,
          9,
          10,
          11,
          12,
          13,
          14,
          15,
          16,
          17,
          18,
          19,
          20,
          21,
          22,
          23,
          24
         ],
         "xaxis": "x",
         "y": [
          5.2,
          3.3,
          3.7,
          3.6,
          4.6,
          4.2,
          4.1,
          4.3,
          4,
          4.4,
          4.9,
          5.4,
          6,
          6.8,
          7.3,
          7.4,
          7.3,
          6.8,
          6.7,
          6.2,
          6,
          6,
          6.4,
          6.7
         ],
         "yaxis": "y"
        },
        {
         "hovertemplate": "DIA=21<br>ESTACION_DESC=Casa de Campo<br>H=%{x}<br>VALOR=%{y}<extra></extra>",
         "legendgroup": "21, Casa de Campo",
         "line": {
          "color": "#FF6692",
          "dash": "solid"
         },
         "marker": {
          "symbol": "circle"
         },
         "mode": "lines+markers",
         "name": "21, Casa de Campo",
         "orientation": "v",
         "showlegend": true,
         "type": "scatter",
         "x": [
          1,
          2,
          3,
          4,
          5,
          6,
          7,
          8,
          9,
          10,
          11,
          12,
          13,
          14,
          15,
          16,
          17,
          18,
          19,
          20,
          21,
          22,
          23,
          24
         ],
         "xaxis": "x",
         "y": [
          6.5,
          6.3,
          6.2,
          6.5,
          6.5,
          6.5,
          6.4,
          6.5,
          6.9,
          7,
          7.5,
          7.9,
          8.6,
          9,
          9.6,
          10.3,
          11,
          11.3,
          10.7,
          10.5,
          10.6,
          10.3,
          10.1,
          10.2
         ],
         "yaxis": "y"
        },
        {
         "hovertemplate": "DIA=22<br>ESTACION_DESC=Casa de Campo<br>H=%{x}<br>VALOR=%{y}<extra></extra>",
         "legendgroup": "22, Casa de Campo",
         "line": {
          "color": "#B6E880",
          "dash": "solid"
         },
         "marker": {
          "symbol": "circle"
         },
         "mode": "lines+markers",
         "name": "22, Casa de Campo",
         "orientation": "v",
         "showlegend": true,
         "type": "scatter",
         "x": [
          1,
          2,
          3,
          4,
          5,
          6,
          7,
          8,
          9,
          10,
          11,
          12,
          13,
          14,
          15,
          16,
          17,
          18,
          19,
          20,
          21,
          22,
          23,
          24
         ],
         "xaxis": "x",
         "y": [
          9.9,
          9.9,
          9.9,
          9.6,
          10,
          9.5,
          9.4,
          8.9,
          9.1,
          9.3,
          9.4,
          10.2,
          10.7,
          11.5,
          12.1,
          11.8,
          10.7,
          10.7,
          10.5,
          10.7,
          10.5,
          9.7,
          9.2,
          9.3
         ],
         "yaxis": "y"
        },
        {
         "hovertemplate": "DIA=23<br>ESTACION_DESC=Casa de Campo<br>H=%{x}<br>VALOR=%{y}<extra></extra>",
         "legendgroup": "23, Casa de Campo",
         "line": {
          "color": "#FF97FF",
          "dash": "solid"
         },
         "marker": {
          "symbol": "circle"
         },
         "mode": "lines+markers",
         "name": "23, Casa de Campo",
         "orientation": "v",
         "showlegend": true,
         "type": "scatter",
         "x": [
          1,
          2,
          3,
          4,
          5,
          6,
          7,
          8,
          9,
          10,
          11,
          12,
          13,
          14,
          15,
          16,
          17,
          18,
          19,
          20,
          21,
          22,
          23,
          24
         ],
         "xaxis": "x",
         "y": [
          9.4,
          9.6,
          9.4,
          9.5,
          9.4,
          9.5,
          9.4,
          9.3,
          9.4,
          9.8,
          10.6,
          11.5,
          12.6,
          12.9,
          13.5,
          13.8,
          14.9,
          15,
          14.1,
          13.3,
          12.7,
          12.3,
          12.1,
          11.5
         ],
         "yaxis": "y"
        },
        {
         "hovertemplate": "DIA=24<br>ESTACION_DESC=Casa de Campo<br>H=%{x}<br>VALOR=%{y}<extra></extra>",
         "legendgroup": "24, Casa de Campo",
         "line": {
          "color": "#FECB52",
          "dash": "solid"
         },
         "marker": {
          "symbol": "circle"
         },
         "mode": "lines+markers",
         "name": "24, Casa de Campo",
         "orientation": "v",
         "showlegend": true,
         "type": "scatter",
         "x": [
          1,
          2,
          3,
          4,
          5,
          6,
          7,
          8,
          9,
          10,
          11,
          12,
          13,
          14,
          15,
          16,
          17,
          18,
          19,
          20,
          21,
          22,
          23,
          24
         ],
         "xaxis": "x",
         "y": [
          10.7,
          10.3,
          9.7,
          10,
          10.4,
          10.5,
          10.4,
          10.3,
          10.5,
          10.9,
          11.2,
          11.2,
          11.8,
          12.4,
          12.8,
          13.1,
          12.9,
          12.4,
          11.7,
          11.5,
          11.2,
          11.2,
          11,
          11.1
         ],
         "yaxis": "y"
        },
        {
         "hovertemplate": "DIA=25<br>ESTACION_DESC=Casa de Campo<br>H=%{x}<br>VALOR=%{y}<extra></extra>",
         "legendgroup": "25, Casa de Campo",
         "line": {
          "color": "#636efa",
          "dash": "solid"
         },
         "marker": {
          "symbol": "circle"
         },
         "mode": "lines+markers",
         "name": "25, Casa de Campo",
         "orientation": "v",
         "showlegend": true,
         "type": "scatter",
         "x": [
          1,
          2,
          3,
          4,
          5,
          6,
          7,
          8,
          9,
          10
         ],
         "xaxis": "x",
         "y": [
          10.7,
          10.3,
          10,
          9.7,
          9.6,
          9.5,
          9.2,
          8.7,
          8.7,
          8.4
         ],
         "yaxis": "y"
        },
        {
         "hovertemplate": "DIA=13<br>ESTACION_DESC=Casa de Campo<br>H=%{x}<br>VALOR=%{y}<extra></extra>",
         "legendgroup": "13, Casa de Campo",
         "line": {
          "color": "#EF553B",
          "dash": "solid"
         },
         "marker": {
          "symbol": "circle"
         },
         "mode": "lines+markers",
         "name": "13, Casa de Campo",
         "orientation": "v",
         "showlegend": true,
         "type": "scatter",
         "x": [
          1,
          2,
          3,
          4,
          5,
          6,
          7,
          8,
          9,
          10,
          11,
          12,
          13,
          14,
          15,
          16,
          17,
          18,
          19,
          20,
          21,
          22
         ],
         "xaxis": "x",
         "y": [
          1.8,
          0.2,
          -1.1,
          -2.6,
          -2.9,
          -3.2,
          -2.4,
          -5.1,
          -5.4,
          -3.4,
          -0.1,
          5,
          8.8,
          10.5,
          12.5,
          13.9,
          14,
          12.6,
          8.5,
          5.3,
          4.1,
          1.7
         ],
         "yaxis": "y"
        }
       ],
       "layout": {
        "legend": {
         "title": {
          "text": "DIA, ESTACION_DESC"
         },
         "tracegroupgap": 0
        },
        "template": {
         "data": {
          "bar": [
           {
            "error_x": {
             "color": "#2a3f5f"
            },
            "error_y": {
             "color": "#2a3f5f"
            },
            "marker": {
             "line": {
              "color": "#E5ECF6",
              "width": 0.5
             },
             "pattern": {
              "fillmode": "overlay",
              "size": 10,
              "solidity": 0.2
             }
            },
            "type": "bar"
           }
          ],
          "barpolar": [
           {
            "marker": {
             "line": {
              "color": "#E5ECF6",
              "width": 0.5
             },
             "pattern": {
              "fillmode": "overlay",
              "size": 10,
              "solidity": 0.2
             }
            },
            "type": "barpolar"
           }
          ],
          "carpet": [
           {
            "aaxis": {
             "endlinecolor": "#2a3f5f",
             "gridcolor": "white",
             "linecolor": "white",
             "minorgridcolor": "white",
             "startlinecolor": "#2a3f5f"
            },
            "baxis": {
             "endlinecolor": "#2a3f5f",
             "gridcolor": "white",
             "linecolor": "white",
             "minorgridcolor": "white",
             "startlinecolor": "#2a3f5f"
            },
            "type": "carpet"
           }
          ],
          "choropleth": [
           {
            "colorbar": {
             "outlinewidth": 0,
             "ticks": ""
            },
            "type": "choropleth"
           }
          ],
          "contour": [
           {
            "colorbar": {
             "outlinewidth": 0,
             "ticks": ""
            },
            "colorscale": [
             [
              0,
              "#0d0887"
             ],
             [
              0.1111111111111111,
              "#46039f"
             ],
             [
              0.2222222222222222,
              "#7201a8"
             ],
             [
              0.3333333333333333,
              "#9c179e"
             ],
             [
              0.4444444444444444,
              "#bd3786"
             ],
             [
              0.5555555555555556,
              "#d8576b"
             ],
             [
              0.6666666666666666,
              "#ed7953"
             ],
             [
              0.7777777777777778,
              "#fb9f3a"
             ],
             [
              0.8888888888888888,
              "#fdca26"
             ],
             [
              1,
              "#f0f921"
             ]
            ],
            "type": "contour"
           }
          ],
          "contourcarpet": [
           {
            "colorbar": {
             "outlinewidth": 0,
             "ticks": ""
            },
            "type": "contourcarpet"
           }
          ],
          "heatmap": [
           {
            "colorbar": {
             "outlinewidth": 0,
             "ticks": ""
            },
            "colorscale": [
             [
              0,
              "#0d0887"
             ],
             [
              0.1111111111111111,
              "#46039f"
             ],
             [
              0.2222222222222222,
              "#7201a8"
             ],
             [
              0.3333333333333333,
              "#9c179e"
             ],
             [
              0.4444444444444444,
              "#bd3786"
             ],
             [
              0.5555555555555556,
              "#d8576b"
             ],
             [
              0.6666666666666666,
              "#ed7953"
             ],
             [
              0.7777777777777778,
              "#fb9f3a"
             ],
             [
              0.8888888888888888,
              "#fdca26"
             ],
             [
              1,
              "#f0f921"
             ]
            ],
            "type": "heatmap"
           }
          ],
          "heatmapgl": [
           {
            "colorbar": {
             "outlinewidth": 0,
             "ticks": ""
            },
            "colorscale": [
             [
              0,
              "#0d0887"
             ],
             [
              0.1111111111111111,
              "#46039f"
             ],
             [
              0.2222222222222222,
              "#7201a8"
             ],
             [
              0.3333333333333333,
              "#9c179e"
             ],
             [
              0.4444444444444444,
              "#bd3786"
             ],
             [
              0.5555555555555556,
              "#d8576b"
             ],
             [
              0.6666666666666666,
              "#ed7953"
             ],
             [
              0.7777777777777778,
              "#fb9f3a"
             ],
             [
              0.8888888888888888,
              "#fdca26"
             ],
             [
              1,
              "#f0f921"
             ]
            ],
            "type": "heatmapgl"
           }
          ],
          "histogram": [
           {
            "marker": {
             "pattern": {
              "fillmode": "overlay",
              "size": 10,
              "solidity": 0.2
             }
            },
            "type": "histogram"
           }
          ],
          "histogram2d": [
           {
            "colorbar": {
             "outlinewidth": 0,
             "ticks": ""
            },
            "colorscale": [
             [
              0,
              "#0d0887"
             ],
             [
              0.1111111111111111,
              "#46039f"
             ],
             [
              0.2222222222222222,
              "#7201a8"
             ],
             [
              0.3333333333333333,
              "#9c179e"
             ],
             [
              0.4444444444444444,
              "#bd3786"
             ],
             [
              0.5555555555555556,
              "#d8576b"
             ],
             [
              0.6666666666666666,
              "#ed7953"
             ],
             [
              0.7777777777777778,
              "#fb9f3a"
             ],
             [
              0.8888888888888888,
              "#fdca26"
             ],
             [
              1,
              "#f0f921"
             ]
            ],
            "type": "histogram2d"
           }
          ],
          "histogram2dcontour": [
           {
            "colorbar": {
             "outlinewidth": 0,
             "ticks": ""
            },
            "colorscale": [
             [
              0,
              "#0d0887"
             ],
             [
              0.1111111111111111,
              "#46039f"
             ],
             [
              0.2222222222222222,
              "#7201a8"
             ],
             [
              0.3333333333333333,
              "#9c179e"
             ],
             [
              0.4444444444444444,
              "#bd3786"
             ],
             [
              0.5555555555555556,
              "#d8576b"
             ],
             [
              0.6666666666666666,
              "#ed7953"
             ],
             [
              0.7777777777777778,
              "#fb9f3a"
             ],
             [
              0.8888888888888888,
              "#fdca26"
             ],
             [
              1,
              "#f0f921"
             ]
            ],
            "type": "histogram2dcontour"
           }
          ],
          "mesh3d": [
           {
            "colorbar": {
             "outlinewidth": 0,
             "ticks": ""
            },
            "type": "mesh3d"
           }
          ],
          "parcoords": [
           {
            "line": {
             "colorbar": {
              "outlinewidth": 0,
              "ticks": ""
             }
            },
            "type": "parcoords"
           }
          ],
          "pie": [
           {
            "automargin": true,
            "type": "pie"
           }
          ],
          "scatter": [
           {
            "fillpattern": {
             "fillmode": "overlay",
             "size": 10,
             "solidity": 0.2
            },
            "type": "scatter"
           }
          ],
          "scatter3d": [
           {
            "line": {
             "colorbar": {
              "outlinewidth": 0,
              "ticks": ""
             }
            },
            "marker": {
             "colorbar": {
              "outlinewidth": 0,
              "ticks": ""
             }
            },
            "type": "scatter3d"
           }
          ],
          "scattercarpet": [
           {
            "marker": {
             "colorbar": {
              "outlinewidth": 0,
              "ticks": ""
             }
            },
            "type": "scattercarpet"
           }
          ],
          "scattergeo": [
           {
            "marker": {
             "colorbar": {
              "outlinewidth": 0,
              "ticks": ""
             }
            },
            "type": "scattergeo"
           }
          ],
          "scattergl": [
           {
            "marker": {
             "colorbar": {
              "outlinewidth": 0,
              "ticks": ""
             }
            },
            "type": "scattergl"
           }
          ],
          "scattermapbox": [
           {
            "marker": {
             "colorbar": {
              "outlinewidth": 0,
              "ticks": ""
             }
            },
            "type": "scattermapbox"
           }
          ],
          "scatterpolar": [
           {
            "marker": {
             "colorbar": {
              "outlinewidth": 0,
              "ticks": ""
             }
            },
            "type": "scatterpolar"
           }
          ],
          "scatterpolargl": [
           {
            "marker": {
             "colorbar": {
              "outlinewidth": 0,
              "ticks": ""
             }
            },
            "type": "scatterpolargl"
           }
          ],
          "scatterternary": [
           {
            "marker": {
             "colorbar": {
              "outlinewidth": 0,
              "ticks": ""
             }
            },
            "type": "scatterternary"
           }
          ],
          "surface": [
           {
            "colorbar": {
             "outlinewidth": 0,
             "ticks": ""
            },
            "colorscale": [
             [
              0,
              "#0d0887"
             ],
             [
              0.1111111111111111,
              "#46039f"
             ],
             [
              0.2222222222222222,
              "#7201a8"
             ],
             [
              0.3333333333333333,
              "#9c179e"
             ],
             [
              0.4444444444444444,
              "#bd3786"
             ],
             [
              0.5555555555555556,
              "#d8576b"
             ],
             [
              0.6666666666666666,
              "#ed7953"
             ],
             [
              0.7777777777777778,
              "#fb9f3a"
             ],
             [
              0.8888888888888888,
              "#fdca26"
             ],
             [
              1,
              "#f0f921"
             ]
            ],
            "type": "surface"
           }
          ],
          "table": [
           {
            "cells": {
             "fill": {
              "color": "#EBF0F8"
             },
             "line": {
              "color": "white"
             }
            },
            "header": {
             "fill": {
              "color": "#C8D4E3"
             },
             "line": {
              "color": "white"
             }
            },
            "type": "table"
           }
          ]
         },
         "layout": {
          "annotationdefaults": {
           "arrowcolor": "#2a3f5f",
           "arrowhead": 0,
           "arrowwidth": 1
          },
          "autotypenumbers": "strict",
          "coloraxis": {
           "colorbar": {
            "outlinewidth": 0,
            "ticks": ""
           }
          },
          "colorscale": {
           "diverging": [
            [
             0,
             "#8e0152"
            ],
            [
             0.1,
             "#c51b7d"
            ],
            [
             0.2,
             "#de77ae"
            ],
            [
             0.3,
             "#f1b6da"
            ],
            [
             0.4,
             "#fde0ef"
            ],
            [
             0.5,
             "#f7f7f7"
            ],
            [
             0.6,
             "#e6f5d0"
            ],
            [
             0.7,
             "#b8e186"
            ],
            [
             0.8,
             "#7fbc41"
            ],
            [
             0.9,
             "#4d9221"
            ],
            [
             1,
             "#276419"
            ]
           ],
           "sequential": [
            [
             0,
             "#0d0887"
            ],
            [
             0.1111111111111111,
             "#46039f"
            ],
            [
             0.2222222222222222,
             "#7201a8"
            ],
            [
             0.3333333333333333,
             "#9c179e"
            ],
            [
             0.4444444444444444,
             "#bd3786"
            ],
            [
             0.5555555555555556,
             "#d8576b"
            ],
            [
             0.6666666666666666,
             "#ed7953"
            ],
            [
             0.7777777777777778,
             "#fb9f3a"
            ],
            [
             0.8888888888888888,
             "#fdca26"
            ],
            [
             1,
             "#f0f921"
            ]
           ],
           "sequentialminus": [
            [
             0,
             "#0d0887"
            ],
            [
             0.1111111111111111,
             "#46039f"
            ],
            [
             0.2222222222222222,
             "#7201a8"
            ],
            [
             0.3333333333333333,
             "#9c179e"
            ],
            [
             0.4444444444444444,
             "#bd3786"
            ],
            [
             0.5555555555555556,
             "#d8576b"
            ],
            [
             0.6666666666666666,
             "#ed7953"
            ],
            [
             0.7777777777777778,
             "#fb9f3a"
            ],
            [
             0.8888888888888888,
             "#fdca26"
            ],
            [
             1,
             "#f0f921"
            ]
           ]
          },
          "colorway": [
           "#636efa",
           "#EF553B",
           "#00cc96",
           "#ab63fa",
           "#FFA15A",
           "#19d3f3",
           "#FF6692",
           "#B6E880",
           "#FF97FF",
           "#FECB52"
          ],
          "font": {
           "color": "#2a3f5f"
          },
          "geo": {
           "bgcolor": "white",
           "lakecolor": "white",
           "landcolor": "#E5ECF6",
           "showlakes": true,
           "showland": true,
           "subunitcolor": "white"
          },
          "hoverlabel": {
           "align": "left"
          },
          "hovermode": "closest",
          "mapbox": {
           "style": "light"
          },
          "paper_bgcolor": "white",
          "plot_bgcolor": "#E5ECF6",
          "polar": {
           "angularaxis": {
            "gridcolor": "white",
            "linecolor": "white",
            "ticks": ""
           },
           "bgcolor": "#E5ECF6",
           "radialaxis": {
            "gridcolor": "white",
            "linecolor": "white",
            "ticks": ""
           }
          },
          "scene": {
           "xaxis": {
            "backgroundcolor": "#E5ECF6",
            "gridcolor": "white",
            "gridwidth": 2,
            "linecolor": "white",
            "showbackground": true,
            "ticks": "",
            "zerolinecolor": "white"
           },
           "yaxis": {
            "backgroundcolor": "#E5ECF6",
            "gridcolor": "white",
            "gridwidth": 2,
            "linecolor": "white",
            "showbackground": true,
            "ticks": "",
            "zerolinecolor": "white"
           },
           "zaxis": {
            "backgroundcolor": "#E5ECF6",
            "gridcolor": "white",
            "gridwidth": 2,
            "linecolor": "white",
            "showbackground": true,
            "ticks": "",
            "zerolinecolor": "white"
           }
          },
          "shapedefaults": {
           "line": {
            "color": "#2a3f5f"
           }
          },
          "ternary": {
           "aaxis": {
            "gridcolor": "white",
            "linecolor": "white",
            "ticks": ""
           },
           "baxis": {
            "gridcolor": "white",
            "linecolor": "white",
            "ticks": ""
           },
           "bgcolor": "#E5ECF6",
           "caxis": {
            "gridcolor": "white",
            "linecolor": "white",
            "ticks": ""
           }
          },
          "title": {
           "x": 0.05
          },
          "xaxis": {
           "automargin": true,
           "gridcolor": "white",
           "linecolor": "white",
           "ticks": "",
           "title": {
            "standoff": 15
           },
           "zerolinecolor": "white",
           "zerolinewidth": 2
          },
          "yaxis": {
           "automargin": true,
           "gridcolor": "white",
           "linecolor": "white",
           "ticks": "",
           "title": {
            "standoff": 15
           },
           "zerolinecolor": "white",
           "zerolinewidth": 2
          }
         }
        },
        "title": {
         "text": "Temperaturas hoy"
        },
        "xaxis": {
         "anchor": "y",
         "domain": [
          0,
          1
         ],
         "title": {
          "text": "H"
         }
        },
        "yaxis": {
         "anchor": "x",
         "domain": [
          0,
          1
         ],
         "title": {
          "text": "VALOR"
         }
        }
       }
      },
      "text/html": [
       "<div>                            <div id=\"851eede4-c658-4d4a-a77d-732f4283ae3d\" class=\"plotly-graph-div\" style=\"height:525px; width:100%;\"></div>            <script type=\"text/javascript\">                require([\"plotly\"], function(Plotly) {                    window.PLOTLYENV=window.PLOTLYENV || {};                                    if (document.getElementById(\"851eede4-c658-4d4a-a77d-732f4283ae3d\")) {                    Plotly.newPlot(                        \"851eede4-c658-4d4a-a77d-732f4283ae3d\",                        [{\"hovertemplate\":\"DIA=14\\u003cbr\\u003eESTACION_DESC=Casa de Campo\\u003cbr\\u003eH=%{x}\\u003cbr\\u003eVALOR=%{y}\\u003cextra\\u003e\\u003c\\u002fextra\\u003e\",\"legendgroup\":\"14, Casa de Campo\",\"line\":{\"color\":\"#636efa\",\"dash\":\"solid\"},\"marker\":{\"symbol\":\"circle\"},\"mode\":\"lines+markers\",\"name\":\"14, Casa de Campo\",\"orientation\":\"v\",\"showlegend\":true,\"x\":[1,2,3,4,5,6,7,8,9,10,11,12,13,14,15,16,17,18,19,20,21,22],\"xaxis\":\"x\",\"y\":[-2.1,-1.1,-0.3,-0.8,0.7,0.0,-1.3,-2.2,-3.7,-2.3,1.8,5.5,8.0,10.1,11.8,13.2,15.3,13.7,9.0,6.1,4.4,2.6],\"yaxis\":\"y\",\"type\":\"scatter\"},{\"hovertemplate\":\"DIA=15\\u003cbr\\u003eESTACION_DESC=Casa de Campo\\u003cbr\\u003eH=%{x}\\u003cbr\\u003eVALOR=%{y}\\u003cextra\\u003e\\u003c\\u002fextra\\u003e\",\"legendgroup\":\"15, Casa de Campo\",\"line\":{\"color\":\"#EF553B\",\"dash\":\"solid\"},\"marker\":{\"symbol\":\"circle\"},\"mode\":\"lines+markers\",\"name\":\"15, Casa de Campo\",\"orientation\":\"v\",\"showlegend\":true,\"x\":[1,2,5,6,7,8,9,10,11,12,13,14,15,16,17],\"xaxis\":\"x\",\"y\":[-2.4,-3.1,-4.4,-4.4,-6.1,-6.8,-6.7,-4.3,0.0,3.9,7.2,9.9,12.2,13.7,13.6],\"yaxis\":\"y\",\"type\":\"scatter\"},{\"hovertemplate\":\"DIA=16\\u003cbr\\u003eESTACION_DESC=Casa de Campo\\u003cbr\\u003eH=%{x}\\u003cbr\\u003eVALOR=%{y}\\u003cextra\\u003e\\u003c\\u002fextra\\u003e\",\"legendgroup\":\"16, Casa de Campo\",\"line\":{\"color\":\"#00cc96\",\"dash\":\"solid\"},\"marker\":{\"symbol\":\"circle\"},\"mode\":\"lines+markers\",\"name\":\"16, Casa de Campo\",\"orientation\":\"v\",\"showlegend\":true,\"x\":[1,2,3,4,5,6,7,8,9,10,11,12,13,14,15,16,17,18,19,20,21,22,23],\"xaxis\":\"x\",\"y\":[-1.2,-1.4,-2.0,-2.9,-2.8,-3.1,-3.2,-3.7,-3.1,-1.2,2.5,7.9,11.0,12.1,13.2,14.7,14.3,12.7,9.4,8.6,8.0,7.3,6.5],\"yaxis\":\"y\",\"type\":\"scatter\"},{\"hovertemplate\":\"DIA=17\\u003cbr\\u003eESTACION_DESC=Casa de Campo\\u003cbr\\u003eH=%{x}\\u003cbr\\u003eVALOR=%{y}\\u003cextra\\u003e\\u003c\\u002fextra\\u003e\",\"legendgroup\":\"17, Casa de Campo\",\"line\":{\"color\":\"#ab63fa\",\"dash\":\"solid\"},\"marker\":{\"symbol\":\"circle\"},\"mode\":\"lines+markers\",\"name\":\"17, Casa de Campo\",\"orientation\":\"v\",\"showlegend\":true,\"x\":[1,2,3,4,5,6,7,8,9,10],\"xaxis\":\"x\",\"y\":[4.5,4.1,3.2,2.7,2.8,2.8,2.8,2.9,3.5,4.6],\"yaxis\":\"y\",\"type\":\"scatter\"},{\"hovertemplate\":\"DIA=19\\u003cbr\\u003eESTACION_DESC=Casa de Campo\\u003cbr\\u003eH=%{x}\\u003cbr\\u003eVALOR=%{y}\\u003cextra\\u003e\\u003c\\u002fextra\\u003e\",\"legendgroup\":\"19, Casa de Campo\",\"line\":{\"color\":\"#FFA15A\",\"dash\":\"solid\"},\"marker\":{\"symbol\":\"circle\"},\"mode\":\"lines+markers\",\"name\":\"19, Casa de Campo\",\"orientation\":\"v\",\"showlegend\":true,\"x\":[1,2,3,4,5,6,7,8,9,10,11,12,13,14,15,16,17,18,19,20,21,22],\"xaxis\":\"x\",\"y\":[-0.5,-1.2,-2.3,-2.6,-3.3,-4.2,-4.1,-4.2,-4.3,-3.2,1.0,4.4,7.0,8.3,11.0,10.5,11.0,10.1,7.7,7.0,6.9,7.1],\"yaxis\":\"y\",\"type\":\"scatter\"},{\"hovertemplate\":\"DIA=20\\u003cbr\\u003eESTACION_DESC=Casa de Campo\\u003cbr\\u003eH=%{x}\\u003cbr\\u003eVALOR=%{y}\\u003cextra\\u003e\\u003c\\u002fextra\\u003e\",\"legendgroup\":\"20, Casa de Campo\",\"line\":{\"color\":\"#19d3f3\",\"dash\":\"solid\"},\"marker\":{\"symbol\":\"circle\"},\"mode\":\"lines+markers\",\"name\":\"20, Casa de Campo\",\"orientation\":\"v\",\"showlegend\":true,\"x\":[1,2,3,4,5,6,7,8,9,10,11,12,13,14,15,16,17,18,19,20,21,22,23,24],\"xaxis\":\"x\",\"y\":[5.2,3.3,3.7,3.6,4.6,4.2,4.1,4.3,4.0,4.4,4.9,5.4,6.0,6.8,7.3,7.4,7.3,6.8,6.7,6.2,6.0,6.0,6.4,6.7],\"yaxis\":\"y\",\"type\":\"scatter\"},{\"hovertemplate\":\"DIA=21\\u003cbr\\u003eESTACION_DESC=Casa de Campo\\u003cbr\\u003eH=%{x}\\u003cbr\\u003eVALOR=%{y}\\u003cextra\\u003e\\u003c\\u002fextra\\u003e\",\"legendgroup\":\"21, Casa de Campo\",\"line\":{\"color\":\"#FF6692\",\"dash\":\"solid\"},\"marker\":{\"symbol\":\"circle\"},\"mode\":\"lines+markers\",\"name\":\"21, Casa de Campo\",\"orientation\":\"v\",\"showlegend\":true,\"x\":[1,2,3,4,5,6,7,8,9,10,11,12,13,14,15,16,17,18,19,20,21,22,23,24],\"xaxis\":\"x\",\"y\":[6.5,6.3,6.2,6.5,6.5,6.5,6.4,6.5,6.9,7.0,7.5,7.9,8.6,9.0,9.6,10.3,11.0,11.3,10.7,10.5,10.6,10.3,10.1,10.2],\"yaxis\":\"y\",\"type\":\"scatter\"},{\"hovertemplate\":\"DIA=22\\u003cbr\\u003eESTACION_DESC=Casa de Campo\\u003cbr\\u003eH=%{x}\\u003cbr\\u003eVALOR=%{y}\\u003cextra\\u003e\\u003c\\u002fextra\\u003e\",\"legendgroup\":\"22, Casa de Campo\",\"line\":{\"color\":\"#B6E880\",\"dash\":\"solid\"},\"marker\":{\"symbol\":\"circle\"},\"mode\":\"lines+markers\",\"name\":\"22, Casa de Campo\",\"orientation\":\"v\",\"showlegend\":true,\"x\":[1,2,3,4,5,6,7,8,9,10,11,12,13,14,15,16,17,18,19,20,21,22,23,24],\"xaxis\":\"x\",\"y\":[9.9,9.9,9.9,9.6,10.0,9.5,9.4,8.9,9.1,9.3,9.4,10.2,10.7,11.5,12.1,11.8,10.7,10.7,10.5,10.7,10.5,9.7,9.2,9.3],\"yaxis\":\"y\",\"type\":\"scatter\"},{\"hovertemplate\":\"DIA=23\\u003cbr\\u003eESTACION_DESC=Casa de Campo\\u003cbr\\u003eH=%{x}\\u003cbr\\u003eVALOR=%{y}\\u003cextra\\u003e\\u003c\\u002fextra\\u003e\",\"legendgroup\":\"23, Casa de Campo\",\"line\":{\"color\":\"#FF97FF\",\"dash\":\"solid\"},\"marker\":{\"symbol\":\"circle\"},\"mode\":\"lines+markers\",\"name\":\"23, Casa de Campo\",\"orientation\":\"v\",\"showlegend\":true,\"x\":[1,2,3,4,5,6,7,8,9,10,11,12,13,14,15,16,17,18,19,20,21,22,23,24],\"xaxis\":\"x\",\"y\":[9.4,9.6,9.4,9.5,9.4,9.5,9.4,9.3,9.4,9.8,10.6,11.5,12.6,12.9,13.5,13.8,14.9,15.0,14.1,13.3,12.7,12.3,12.1,11.5],\"yaxis\":\"y\",\"type\":\"scatter\"},{\"hovertemplate\":\"DIA=24\\u003cbr\\u003eESTACION_DESC=Casa de Campo\\u003cbr\\u003eH=%{x}\\u003cbr\\u003eVALOR=%{y}\\u003cextra\\u003e\\u003c\\u002fextra\\u003e\",\"legendgroup\":\"24, Casa de Campo\",\"line\":{\"color\":\"#FECB52\",\"dash\":\"solid\"},\"marker\":{\"symbol\":\"circle\"},\"mode\":\"lines+markers\",\"name\":\"24, Casa de Campo\",\"orientation\":\"v\",\"showlegend\":true,\"x\":[1,2,3,4,5,6,7,8,9,10,11,12,13,14,15,16,17,18,19,20,21,22,23,24],\"xaxis\":\"x\",\"y\":[10.7,10.3,9.7,10.0,10.4,10.5,10.4,10.3,10.5,10.9,11.2,11.2,11.8,12.4,12.8,13.1,12.9,12.4,11.7,11.5,11.2,11.2,11.0,11.1],\"yaxis\":\"y\",\"type\":\"scatter\"},{\"hovertemplate\":\"DIA=25\\u003cbr\\u003eESTACION_DESC=Casa de Campo\\u003cbr\\u003eH=%{x}\\u003cbr\\u003eVALOR=%{y}\\u003cextra\\u003e\\u003c\\u002fextra\\u003e\",\"legendgroup\":\"25, Casa de Campo\",\"line\":{\"color\":\"#636efa\",\"dash\":\"solid\"},\"marker\":{\"symbol\":\"circle\"},\"mode\":\"lines+markers\",\"name\":\"25, Casa de Campo\",\"orientation\":\"v\",\"showlegend\":true,\"x\":[1,2,3,4,5,6,7,8,9,10],\"xaxis\":\"x\",\"y\":[10.7,10.3,10.0,9.7,9.6,9.5,9.2,8.7,8.7,8.4],\"yaxis\":\"y\",\"type\":\"scatter\"},{\"hovertemplate\":\"DIA=13\\u003cbr\\u003eESTACION_DESC=Casa de Campo\\u003cbr\\u003eH=%{x}\\u003cbr\\u003eVALOR=%{y}\\u003cextra\\u003e\\u003c\\u002fextra\\u003e\",\"legendgroup\":\"13, Casa de Campo\",\"line\":{\"color\":\"#EF553B\",\"dash\":\"solid\"},\"marker\":{\"symbol\":\"circle\"},\"mode\":\"lines+markers\",\"name\":\"13, Casa de Campo\",\"orientation\":\"v\",\"showlegend\":true,\"x\":[1,2,3,4,5,6,7,8,9,10,11,12,13,14,15,16,17,18,19,20,21,22],\"xaxis\":\"x\",\"y\":[1.8,0.2,-1.1,-2.6,-2.9,-3.2,-2.4,-5.1,-5.4,-3.4,-0.1,5.0,8.8,10.5,12.5,13.9,14.0,12.6,8.5,5.3,4.1,1.7],\"yaxis\":\"y\",\"type\":\"scatter\"}],                        {\"template\":{\"data\":{\"histogram2dcontour\":[{\"type\":\"histogram2dcontour\",\"colorbar\":{\"outlinewidth\":0,\"ticks\":\"\"},\"colorscale\":[[0.0,\"#0d0887\"],[0.1111111111111111,\"#46039f\"],[0.2222222222222222,\"#7201a8\"],[0.3333333333333333,\"#9c179e\"],[0.4444444444444444,\"#bd3786\"],[0.5555555555555556,\"#d8576b\"],[0.6666666666666666,\"#ed7953\"],[0.7777777777777778,\"#fb9f3a\"],[0.8888888888888888,\"#fdca26\"],[1.0,\"#f0f921\"]]}],\"choropleth\":[{\"type\":\"choropleth\",\"colorbar\":{\"outlinewidth\":0,\"ticks\":\"\"}}],\"histogram2d\":[{\"type\":\"histogram2d\",\"colorbar\":{\"outlinewidth\":0,\"ticks\":\"\"},\"colorscale\":[[0.0,\"#0d0887\"],[0.1111111111111111,\"#46039f\"],[0.2222222222222222,\"#7201a8\"],[0.3333333333333333,\"#9c179e\"],[0.4444444444444444,\"#bd3786\"],[0.5555555555555556,\"#d8576b\"],[0.6666666666666666,\"#ed7953\"],[0.7777777777777778,\"#fb9f3a\"],[0.8888888888888888,\"#fdca26\"],[1.0,\"#f0f921\"]]}],\"heatmap\":[{\"type\":\"heatmap\",\"colorbar\":{\"outlinewidth\":0,\"ticks\":\"\"},\"colorscale\":[[0.0,\"#0d0887\"],[0.1111111111111111,\"#46039f\"],[0.2222222222222222,\"#7201a8\"],[0.3333333333333333,\"#9c179e\"],[0.4444444444444444,\"#bd3786\"],[0.5555555555555556,\"#d8576b\"],[0.6666666666666666,\"#ed7953\"],[0.7777777777777778,\"#fb9f3a\"],[0.8888888888888888,\"#fdca26\"],[1.0,\"#f0f921\"]]}],\"heatmapgl\":[{\"type\":\"heatmapgl\",\"colorbar\":{\"outlinewidth\":0,\"ticks\":\"\"},\"colorscale\":[[0.0,\"#0d0887\"],[0.1111111111111111,\"#46039f\"],[0.2222222222222222,\"#7201a8\"],[0.3333333333333333,\"#9c179e\"],[0.4444444444444444,\"#bd3786\"],[0.5555555555555556,\"#d8576b\"],[0.6666666666666666,\"#ed7953\"],[0.7777777777777778,\"#fb9f3a\"],[0.8888888888888888,\"#fdca26\"],[1.0,\"#f0f921\"]]}],\"contourcarpet\":[{\"type\":\"contourcarpet\",\"colorbar\":{\"outlinewidth\":0,\"ticks\":\"\"}}],\"contour\":[{\"type\":\"contour\",\"colorbar\":{\"outlinewidth\":0,\"ticks\":\"\"},\"colorscale\":[[0.0,\"#0d0887\"],[0.1111111111111111,\"#46039f\"],[0.2222222222222222,\"#7201a8\"],[0.3333333333333333,\"#9c179e\"],[0.4444444444444444,\"#bd3786\"],[0.5555555555555556,\"#d8576b\"],[0.6666666666666666,\"#ed7953\"],[0.7777777777777778,\"#fb9f3a\"],[0.8888888888888888,\"#fdca26\"],[1.0,\"#f0f921\"]]}],\"surface\":[{\"type\":\"surface\",\"colorbar\":{\"outlinewidth\":0,\"ticks\":\"\"},\"colorscale\":[[0.0,\"#0d0887\"],[0.1111111111111111,\"#46039f\"],[0.2222222222222222,\"#7201a8\"],[0.3333333333333333,\"#9c179e\"],[0.4444444444444444,\"#bd3786\"],[0.5555555555555556,\"#d8576b\"],[0.6666666666666666,\"#ed7953\"],[0.7777777777777778,\"#fb9f3a\"],[0.8888888888888888,\"#fdca26\"],[1.0,\"#f0f921\"]]}],\"mesh3d\":[{\"type\":\"mesh3d\",\"colorbar\":{\"outlinewidth\":0,\"ticks\":\"\"}}],\"scatter\":[{\"fillpattern\":{\"fillmode\":\"overlay\",\"size\":10,\"solidity\":0.2},\"type\":\"scatter\"}],\"parcoords\":[{\"type\":\"parcoords\",\"line\":{\"colorbar\":{\"outlinewidth\":0,\"ticks\":\"\"}}}],\"scatterpolargl\":[{\"type\":\"scatterpolargl\",\"marker\":{\"colorbar\":{\"outlinewidth\":0,\"ticks\":\"\"}}}],\"bar\":[{\"error_x\":{\"color\":\"#2a3f5f\"},\"error_y\":{\"color\":\"#2a3f5f\"},\"marker\":{\"line\":{\"color\":\"#E5ECF6\",\"width\":0.5},\"pattern\":{\"fillmode\":\"overlay\",\"size\":10,\"solidity\":0.2}},\"type\":\"bar\"}],\"scattergeo\":[{\"type\":\"scattergeo\",\"marker\":{\"colorbar\":{\"outlinewidth\":0,\"ticks\":\"\"}}}],\"scatterpolar\":[{\"type\":\"scatterpolar\",\"marker\":{\"colorbar\":{\"outlinewidth\":0,\"ticks\":\"\"}}}],\"histogram\":[{\"marker\":{\"pattern\":{\"fillmode\":\"overlay\",\"size\":10,\"solidity\":0.2}},\"type\":\"histogram\"}],\"scattergl\":[{\"type\":\"scattergl\",\"marker\":{\"colorbar\":{\"outlinewidth\":0,\"ticks\":\"\"}}}],\"scatter3d\":[{\"type\":\"scatter3d\",\"line\":{\"colorbar\":{\"outlinewidth\":0,\"ticks\":\"\"}},\"marker\":{\"colorbar\":{\"outlinewidth\":0,\"ticks\":\"\"}}}],\"scattermapbox\":[{\"type\":\"scattermapbox\",\"marker\":{\"colorbar\":{\"outlinewidth\":0,\"ticks\":\"\"}}}],\"scatterternary\":[{\"type\":\"scatterternary\",\"marker\":{\"colorbar\":{\"outlinewidth\":0,\"ticks\":\"\"}}}],\"scattercarpet\":[{\"type\":\"scattercarpet\",\"marker\":{\"colorbar\":{\"outlinewidth\":0,\"ticks\":\"\"}}}],\"carpet\":[{\"aaxis\":{\"endlinecolor\":\"#2a3f5f\",\"gridcolor\":\"white\",\"linecolor\":\"white\",\"minorgridcolor\":\"white\",\"startlinecolor\":\"#2a3f5f\"},\"baxis\":{\"endlinecolor\":\"#2a3f5f\",\"gridcolor\":\"white\",\"linecolor\":\"white\",\"minorgridcolor\":\"white\",\"startlinecolor\":\"#2a3f5f\"},\"type\":\"carpet\"}],\"table\":[{\"cells\":{\"fill\":{\"color\":\"#EBF0F8\"},\"line\":{\"color\":\"white\"}},\"header\":{\"fill\":{\"color\":\"#C8D4E3\"},\"line\":{\"color\":\"white\"}},\"type\":\"table\"}],\"barpolar\":[{\"marker\":{\"line\":{\"color\":\"#E5ECF6\",\"width\":0.5},\"pattern\":{\"fillmode\":\"overlay\",\"size\":10,\"solidity\":0.2}},\"type\":\"barpolar\"}],\"pie\":[{\"automargin\":true,\"type\":\"pie\"}]},\"layout\":{\"autotypenumbers\":\"strict\",\"colorway\":[\"#636efa\",\"#EF553B\",\"#00cc96\",\"#ab63fa\",\"#FFA15A\",\"#19d3f3\",\"#FF6692\",\"#B6E880\",\"#FF97FF\",\"#FECB52\"],\"font\":{\"color\":\"#2a3f5f\"},\"hovermode\":\"closest\",\"hoverlabel\":{\"align\":\"left\"},\"paper_bgcolor\":\"white\",\"plot_bgcolor\":\"#E5ECF6\",\"polar\":{\"bgcolor\":\"#E5ECF6\",\"angularaxis\":{\"gridcolor\":\"white\",\"linecolor\":\"white\",\"ticks\":\"\"},\"radialaxis\":{\"gridcolor\":\"white\",\"linecolor\":\"white\",\"ticks\":\"\"}},\"ternary\":{\"bgcolor\":\"#E5ECF6\",\"aaxis\":{\"gridcolor\":\"white\",\"linecolor\":\"white\",\"ticks\":\"\"},\"baxis\":{\"gridcolor\":\"white\",\"linecolor\":\"white\",\"ticks\":\"\"},\"caxis\":{\"gridcolor\":\"white\",\"linecolor\":\"white\",\"ticks\":\"\"}},\"coloraxis\":{\"colorbar\":{\"outlinewidth\":0,\"ticks\":\"\"}},\"colorscale\":{\"sequential\":[[0.0,\"#0d0887\"],[0.1111111111111111,\"#46039f\"],[0.2222222222222222,\"#7201a8\"],[0.3333333333333333,\"#9c179e\"],[0.4444444444444444,\"#bd3786\"],[0.5555555555555556,\"#d8576b\"],[0.6666666666666666,\"#ed7953\"],[0.7777777777777778,\"#fb9f3a\"],[0.8888888888888888,\"#fdca26\"],[1.0,\"#f0f921\"]],\"sequentialminus\":[[0.0,\"#0d0887\"],[0.1111111111111111,\"#46039f\"],[0.2222222222222222,\"#7201a8\"],[0.3333333333333333,\"#9c179e\"],[0.4444444444444444,\"#bd3786\"],[0.5555555555555556,\"#d8576b\"],[0.6666666666666666,\"#ed7953\"],[0.7777777777777778,\"#fb9f3a\"],[0.8888888888888888,\"#fdca26\"],[1.0,\"#f0f921\"]],\"diverging\":[[0,\"#8e0152\"],[0.1,\"#c51b7d\"],[0.2,\"#de77ae\"],[0.3,\"#f1b6da\"],[0.4,\"#fde0ef\"],[0.5,\"#f7f7f7\"],[0.6,\"#e6f5d0\"],[0.7,\"#b8e186\"],[0.8,\"#7fbc41\"],[0.9,\"#4d9221\"],[1,\"#276419\"]]},\"xaxis\":{\"gridcolor\":\"white\",\"linecolor\":\"white\",\"ticks\":\"\",\"title\":{\"standoff\":15},\"zerolinecolor\":\"white\",\"automargin\":true,\"zerolinewidth\":2},\"yaxis\":{\"gridcolor\":\"white\",\"linecolor\":\"white\",\"ticks\":\"\",\"title\":{\"standoff\":15},\"zerolinecolor\":\"white\",\"automargin\":true,\"zerolinewidth\":2},\"scene\":{\"xaxis\":{\"backgroundcolor\":\"#E5ECF6\",\"gridcolor\":\"white\",\"linecolor\":\"white\",\"showbackground\":true,\"ticks\":\"\",\"zerolinecolor\":\"white\",\"gridwidth\":2},\"yaxis\":{\"backgroundcolor\":\"#E5ECF6\",\"gridcolor\":\"white\",\"linecolor\":\"white\",\"showbackground\":true,\"ticks\":\"\",\"zerolinecolor\":\"white\",\"gridwidth\":2},\"zaxis\":{\"backgroundcolor\":\"#E5ECF6\",\"gridcolor\":\"white\",\"linecolor\":\"white\",\"showbackground\":true,\"ticks\":\"\",\"zerolinecolor\":\"white\",\"gridwidth\":2}},\"shapedefaults\":{\"line\":{\"color\":\"#2a3f5f\"}},\"annotationdefaults\":{\"arrowcolor\":\"#2a3f5f\",\"arrowhead\":0,\"arrowwidth\":1},\"geo\":{\"bgcolor\":\"white\",\"landcolor\":\"#E5ECF6\",\"subunitcolor\":\"white\",\"showland\":true,\"showlakes\":true,\"lakecolor\":\"white\"},\"title\":{\"x\":0.05},\"mapbox\":{\"style\":\"light\"}}},\"xaxis\":{\"anchor\":\"y\",\"domain\":[0.0,1.0],\"title\":{\"text\":\"H\"}},\"yaxis\":{\"anchor\":\"x\",\"domain\":[0.0,1.0],\"title\":{\"text\":\"VALOR\"}},\"legend\":{\"title\":{\"text\":\"DIA, ESTACION_DESC\"},\"tracegroupgap\":0},\"title\":{\"text\":\"Temperaturas hoy\"}},                        {\"responsive\": true}                    ).then(function(){\n",
       "                            \n",
       "var gd = document.getElementById('851eede4-c658-4d4a-a77d-732f4283ae3d');\n",
       "var x = new MutationObserver(function (mutations, observer) {{\n",
       "        var display = window.getComputedStyle(gd).display;\n",
       "        if (!display || display === 'none') {{\n",
       "            console.log([gd, 'removed!']);\n",
       "            Plotly.purge(gd);\n",
       "            observer.disconnect();\n",
       "        }}\n",
       "}});\n",
       "\n",
       "// Listen for the removal of the full notebook cells\n",
       "var notebookContainer = gd.closest('#notebook-container');\n",
       "if (notebookContainer) {{\n",
       "    x.observe(notebookContainer, {childList: true});\n",
       "}}\n",
       "\n",
       "// Listen for the clearing of the current output cell\n",
       "var outputEl = gd.closest('.output');\n",
       "if (outputEl) {{\n",
       "    x.observe(outputEl, {childList: true});\n",
       "}}\n",
       "\n",
       "                        })                };                });            </script>        </div>"
      ]
     },
     "metadata": {},
     "output_type": "display_data"
    }
   ],
   "source": [
    "import plotly.express as px\n",
    "\n",
    "#df = result2.DataFrame()\n",
    "\n",
    "fig = px.line(df, x=\"H\", y=\"VALOR\", color=\"DIA\", symbol='ESTACION_DESC', title='Temperaturas hoy')\n",
    "fig.show()"
   ]
  },
  {
   "cell_type": "code",
   "execution_count": 29,
   "metadata": {
    "vscode": {
     "languageId": "sql"
    }
   },
   "outputs": [
    {
     "data": {
      "text/html": [
       "<span style=\"None\">Running query in &#x27;duckdb&#x27;</span>"
      ],
      "text/plain": [
       "Running query in 'duckdb'"
      ]
     },
     "metadata": {},
     "output_type": "display_data"
    },
    {
     "data": {
      "text/html": [
       "<table>\n",
       "    <thead>\n",
       "        <tr>\n",
       "            <th>H</th>\n",
       "            <th>Arturo Soria</th>\n",
       "            <th>Barrio del Pilar</th>\n",
       "            <th>Casa de Campo</th>\n",
       "            <th>Centro Mpal. De Acústica</th>\n",
       "            <th>Cuatro Caminos</th>\n",
       "            <th>El Pardo</th>\n",
       "            <th>Ensanche de Vallecas</th>\n",
       "            <th>Escuelas Aguirre</th>\n",
       "            <th>Farolillo</th>\n",
       "            <th>J.M.D. Hortaleza</th>\n",
       "            <th>J.M.D. Moratalaz</th>\n",
       "            <th>J.M.D.Centro</th>\n",
       "            <th>J.M.D.Chamartin</th>\n",
       "            <th>J.M.D.Chamberí</th>\n",
       "            <th>J.M.D.Vallecas 1</th>\n",
       "            <th>J.M.D.Vallecas 2</th>\n",
       "            <th>Juan Carlos I</th>\n",
       "            <th>Matadero 02</th>\n",
       "            <th>Moratalaz</th>\n",
       "            <th>Peñagrande</th>\n",
       "            <th>Plaza Elíptica</th>\n",
       "            <th>Plaza España</th>\n",
       "            <th>Plaza del Carmen</th>\n",
       "        </tr>\n",
       "    </thead>\n",
       "    <tbody>\n",
       "        <tr>\n",
       "            <td>1</td>\n",
       "            <td>11.4</td>\n",
       "            <td>10.9</td>\n",
       "            <td>10.7</td>\n",
       "            <td>9.0</td>\n",
       "            <td>10.7</td>\n",
       "            <td>10.2</td>\n",
       "            <td>10.7</td>\n",
       "            <td>11.2</td>\n",
       "            <td>12.0</td>\n",
       "            <td>8.4</td>\n",
       "            <td>7.3</td>\n",
       "            <td>11.3</td>\n",
       "            <td>11.0</td>\n",
       "            <td>11.3</td>\n",
       "            <td>11.1</td>\n",
       "            <td>12.0</td>\n",
       "            <td>10.7</td>\n",
       "            <td>11.7</td>\n",
       "            <td>10.7</td>\n",
       "            <td>8.1</td>\n",
       "            <td>11.6</td>\n",
       "            <td>11.4</td>\n",
       "            <td>11.4</td>\n",
       "        </tr>\n",
       "        <tr>\n",
       "            <td>2</td>\n",
       "            <td>11.0</td>\n",
       "            <td>10.7</td>\n",
       "            <td>10.3</td>\n",
       "            <td>8.8</td>\n",
       "            <td>10.3</td>\n",
       "            <td>10.2</td>\n",
       "            <td>10.3</td>\n",
       "            <td>10.8</td>\n",
       "            <td>11.5</td>\n",
       "            <td>7.9</td>\n",
       "            <td>7.0</td>\n",
       "            <td>10.8</td>\n",
       "            <td>10.6</td>\n",
       "            <td>10.9</td>\n",
       "            <td>10.8</td>\n",
       "            <td>11.8</td>\n",
       "            <td>10.4</td>\n",
       "            <td>11.4</td>\n",
       "            <td>10.4</td>\n",
       "            <td>7.7</td>\n",
       "            <td>11.1</td>\n",
       "            <td>10.9</td>\n",
       "            <td>10.9</td>\n",
       "        </tr>\n",
       "        <tr>\n",
       "            <td>3</td>\n",
       "            <td>10.6</td>\n",
       "            <td>10.5</td>\n",
       "            <td>10.0</td>\n",
       "            <td>8.6</td>\n",
       "            <td>9.9</td>\n",
       "            <td>10.1</td>\n",
       "            <td>10.4</td>\n",
       "            <td>10.4</td>\n",
       "            <td>11.1</td>\n",
       "            <td>7.7</td>\n",
       "            <td>6.9</td>\n",
       "            <td>10.5</td>\n",
       "            <td>10.3</td>\n",
       "            <td>10.6</td>\n",
       "            <td>10.6</td>\n",
       "            <td>11.6</td>\n",
       "            <td>10.2</td>\n",
       "            <td>11.1</td>\n",
       "            <td>10.2</td>\n",
       "            <td>7.5</td>\n",
       "            <td>10.7</td>\n",
       "            <td>10.6</td>\n",
       "            <td>10.5</td>\n",
       "        </tr>\n",
       "        <tr>\n",
       "            <td>4</td>\n",
       "            <td>10.4</td>\n",
       "            <td>10.1</td>\n",
       "            <td>9.7</td>\n",
       "            <td>8.2</td>\n",
       "            <td>9.6</td>\n",
       "            <td>9.8</td>\n",
       "            <td>10.1</td>\n",
       "            <td>10.3</td>\n",
       "            <td>10.8</td>\n",
       "            <td>7.5</td>\n",
       "            <td>6.5</td>\n",
       "            <td>10.2</td>\n",
       "            <td>10.1</td>\n",
       "            <td>10.4</td>\n",
       "            <td>10.1</td>\n",
       "            <td>11.3</td>\n",
       "            <td>9.9</td>\n",
       "            <td>10.5</td>\n",
       "            <td>9.8</td>\n",
       "            <td>7.2</td>\n",
       "            <td>10.1</td>\n",
       "            <td>10.5</td>\n",
       "            <td>10.3</td>\n",
       "        </tr>\n",
       "        <tr>\n",
       "            <td>5</td>\n",
       "            <td>10.2</td>\n",
       "            <td>9.8</td>\n",
       "            <td>9.6</td>\n",
       "            <td>8.1</td>\n",
       "            <td>9.5</td>\n",
       "            <td>9.4</td>\n",
       "            <td>9.6</td>\n",
       "            <td>10.0</td>\n",
       "            <td>10.5</td>\n",
       "            <td>7.4</td>\n",
       "            <td>6.0</td>\n",
       "            <td>9.9</td>\n",
       "            <td>9.9</td>\n",
       "            <td>10.3</td>\n",
       "            <td>9.8</td>\n",
       "            <td>11.0</td>\n",
       "            <td>9.6</td>\n",
       "            <td>10.2</td>\n",
       "            <td>9.6</td>\n",
       "            <td>7.2</td>\n",
       "            <td>10.0</td>\n",
       "            <td>10.3</td>\n",
       "            <td>10.1</td>\n",
       "        </tr>\n",
       "        <tr>\n",
       "            <td>6</td>\n",
       "            <td>9.8</td>\n",
       "            <td>9.8</td>\n",
       "            <td>9.5</td>\n",
       "            <td>8.0</td>\n",
       "            <td>9.3</td>\n",
       "            <td>9.5</td>\n",
       "            <td>9.2</td>\n",
       "            <td>9.6</td>\n",
       "            <td>10.3</td>\n",
       "            <td>7.0</td>\n",
       "            <td>5.8</td>\n",
       "            <td>9.7</td>\n",
       "            <td>9.6</td>\n",
       "            <td>9.9</td>\n",
       "            <td>9.6</td>\n",
       "            <td>10.7</td>\n",
       "            <td>9.3</td>\n",
       "            <td>10.2</td>\n",
       "            <td>9.2</td>\n",
       "            <td>7.2</td>\n",
       "            <td>9.9</td>\n",
       "            <td>9.9</td>\n",
       "            <td>9.8</td>\n",
       "        </tr>\n",
       "        <tr>\n",
       "            <td>7</td>\n",
       "            <td>9.6</td>\n",
       "            <td>9.5</td>\n",
       "            <td>9.2</td>\n",
       "            <td>7.8</td>\n",
       "            <td>9.1</td>\n",
       "            <td>9.4</td>\n",
       "            <td>9.1</td>\n",
       "            <td>9.4</td>\n",
       "            <td>9.9</td>\n",
       "            <td>None</td>\n",
       "            <td>5.6</td>\n",
       "            <td>9.5</td>\n",
       "            <td>9.4</td>\n",
       "            <td>9.7</td>\n",
       "            <td>9.5</td>\n",
       "            <td>10.6</td>\n",
       "            <td>9.0</td>\n",
       "            <td>9.9</td>\n",
       "            <td>9.0</td>\n",
       "            <td>None</td>\n",
       "            <td>9.5</td>\n",
       "            <td>9.7</td>\n",
       "            <td>9.5</td>\n",
       "        </tr>\n",
       "        <tr>\n",
       "            <td>8</td>\n",
       "            <td>9.4</td>\n",
       "            <td>9.2</td>\n",
       "            <td>8.7</td>\n",
       "            <td>7.4</td>\n",
       "            <td>8.8</td>\n",
       "            <td>9.2</td>\n",
       "            <td>8.5</td>\n",
       "            <td>9.2</td>\n",
       "            <td>9.7</td>\n",
       "            <td>None</td>\n",
       "            <td>5.3</td>\n",
       "            <td>9.3</td>\n",
       "            <td>9.2</td>\n",
       "            <td>9.5</td>\n",
       "            <td>9.2</td>\n",
       "            <td>10.4</td>\n",
       "            <td>9.0</td>\n",
       "            <td>9.6</td>\n",
       "            <td>8.7</td>\n",
       "            <td>None</td>\n",
       "            <td>9.2</td>\n",
       "            <td>9.4</td>\n",
       "            <td>9.3</td>\n",
       "        </tr>\n",
       "        <tr>\n",
       "            <td>9</td>\n",
       "            <td>9.2</td>\n",
       "            <td>9.1</td>\n",
       "            <td>8.7</td>\n",
       "            <td>7.2</td>\n",
       "            <td>8.7</td>\n",
       "            <td>8.8</td>\n",
       "            <td>8.5</td>\n",
       "            <td>9.1</td>\n",
       "            <td>9.8</td>\n",
       "            <td>None</td>\n",
       "            <td>5.2</td>\n",
       "            <td>9.3</td>\n",
       "            <td>9.1</td>\n",
       "            <td>9.5</td>\n",
       "            <td>9.1</td>\n",
       "            <td>10.3</td>\n",
       "            <td>8.6</td>\n",
       "            <td>9.6</td>\n",
       "            <td>8.7</td>\n",
       "            <td>None</td>\n",
       "            <td>9.3</td>\n",
       "            <td>9.5</td>\n",
       "            <td>9.3</td>\n",
       "        </tr>\n",
       "        <tr>\n",
       "            <td>10</td>\n",
       "            <td>9.0</td>\n",
       "            <td>8.8</td>\n",
       "            <td>8.4</td>\n",
       "            <td>7.0</td>\n",
       "            <td>8.3</td>\n",
       "            <td>8.4</td>\n",
       "            <td>8.6</td>\n",
       "            <td>9.0</td>\n",
       "            <td>9.7</td>\n",
       "            <td>None</td>\n",
       "            <td>None</td>\n",
       "            <td>9.1</td>\n",
       "            <td>8.8</td>\n",
       "            <td>9.3</td>\n",
       "            <td>8.9</td>\n",
       "            <td>10.3</td>\n",
       "            <td>8.5</td>\n",
       "            <td>None</td>\n",
       "            <td>8.4</td>\n",
       "            <td>None</td>\n",
       "            <td>9.2</td>\n",
       "            <td>9.2</td>\n",
       "            <td>9.1</td>\n",
       "        </tr>\n",
       "    </tbody>\n",
       "</table>"
      ],
      "text/plain": [
       "+----+--------------+------------------+---------------+--------------------------+----------------+----------+----------------------+------------------+-----------+------------------+------------------+--------------+-----------------+----------------+------------------+------------------+---------------+-------------+-----------+------------+----------------+--------------+------------------+\n",
       "| H  | Arturo Soria | Barrio del Pilar | Casa de Campo | Centro Mpal. De Acústica | Cuatro Caminos | El Pardo | Ensanche de Vallecas | Escuelas Aguirre | Farolillo | J.M.D. Hortaleza | J.M.D. Moratalaz | J.M.D.Centro | J.M.D.Chamartin | J.M.D.Chamberí | J.M.D.Vallecas 1 | J.M.D.Vallecas 2 | Juan Carlos I | Matadero 02 | Moratalaz | Peñagrande | Plaza Elíptica | Plaza España | Plaza del Carmen |\n",
       "+----+--------------+------------------+---------------+--------------------------+----------------+----------+----------------------+------------------+-----------+------------------+------------------+--------------+-----------------+----------------+------------------+------------------+---------------+-------------+-----------+------------+----------------+--------------+------------------+\n",
       "| 1  |     11.4     |       10.9       |      10.7     |           9.0            |      10.7      |   10.2   |         10.7         |       11.2       |    12.0   |       8.4        |       7.3        |     11.3     |       11.0      |      11.3      |       11.1       |       12.0       |      10.7     |     11.7    |    10.7   |    8.1     |      11.6      |     11.4     |       11.4       |\n",
       "| 2  |     11.0     |       10.7       |      10.3     |           8.8            |      10.3      |   10.2   |         10.3         |       10.8       |    11.5   |       7.9        |       7.0        |     10.8     |       10.6      |      10.9      |       10.8       |       11.8       |      10.4     |     11.4    |    10.4   |    7.7     |      11.1      |     10.9     |       10.9       |\n",
       "| 3  |     10.6     |       10.5       |      10.0     |           8.6            |      9.9       |   10.1   |         10.4         |       10.4       |    11.1   |       7.7        |       6.9        |     10.5     |       10.3      |      10.6      |       10.6       |       11.6       |      10.2     |     11.1    |    10.2   |    7.5     |      10.7      |     10.6     |       10.5       |\n",
       "| 4  |     10.4     |       10.1       |      9.7      |           8.2            |      9.6       |   9.8    |         10.1         |       10.3       |    10.8   |       7.5        |       6.5        |     10.2     |       10.1      |      10.4      |       10.1       |       11.3       |      9.9      |     10.5    |    9.8    |    7.2     |      10.1      |     10.5     |       10.3       |\n",
       "| 5  |     10.2     |       9.8        |      9.6      |           8.1            |      9.5       |   9.4    |         9.6          |       10.0       |    10.5   |       7.4        |       6.0        |     9.9      |       9.9       |      10.3      |       9.8        |       11.0       |      9.6      |     10.2    |    9.6    |    7.2     |      10.0      |     10.3     |       10.1       |\n",
       "| 6  |     9.8      |       9.8        |      9.5      |           8.0            |      9.3       |   9.5    |         9.2          |       9.6        |    10.3   |       7.0        |       5.8        |     9.7      |       9.6       |      9.9       |       9.6        |       10.7       |      9.3      |     10.2    |    9.2    |    7.2     |      9.9       |     9.9      |       9.8        |\n",
       "| 7  |     9.6      |       9.5        |      9.2      |           7.8            |      9.1       |   9.4    |         9.1          |       9.4        |    9.9    |       None       |       5.6        |     9.5      |       9.4       |      9.7       |       9.5        |       10.6       |      9.0      |     9.9     |    9.0    |    None    |      9.5       |     9.7      |       9.5        |\n",
       "| 8  |     9.4      |       9.2        |      8.7      |           7.4            |      8.8       |   9.2    |         8.5          |       9.2        |    9.7    |       None       |       5.3        |     9.3      |       9.2       |      9.5       |       9.2        |       10.4       |      9.0      |     9.6     |    8.7    |    None    |      9.2       |     9.4      |       9.3        |\n",
       "| 9  |     9.2      |       9.1        |      8.7      |           7.2            |      8.7       |   8.8    |         8.5          |       9.1        |    9.8    |       None       |       5.2        |     9.3      |       9.1       |      9.5       |       9.1        |       10.3       |      8.6      |     9.6     |    8.7    |    None    |      9.3       |     9.5      |       9.3        |\n",
       "| 10 |     9.0      |       8.8        |      8.4      |           7.0            |      8.3       |   8.4    |         8.6          |       9.0        |    9.7    |       None       |       None       |     9.1      |       8.8       |      9.3       |       8.9        |       10.3       |      8.5      |     None    |    8.4    |    None    |      9.2       |     9.2      |       9.1        |\n",
       "+----+--------------+------------------+---------------+--------------------------+----------------+----------+----------------------+------------------+-----------+------------------+------------------+--------------+-----------------+----------------+------------------+------------------+---------------+-------------+-----------+------------+----------------+--------------+------------------+"
      ]
     },
     "execution_count": 29,
     "metadata": {},
     "output_type": "execute_result"
    }
   ],
   "source": [
    "%%sql\n",
    "--tabla ancha\n",
    "PIVOT(\n",
    "select estacion_desc, h, valor\n",
    "from CALAIR\n",
    "where\n",
    "magnitud = {{magnitud}} \n",
    "and validez = 'V'\n",
    "and DIA = datepart('day',current_date())\n",
    ")\n",
    "on ESTACION_DESC\n",
    "USING sum(VALOR)\n",
    "group by H"
   ]
  },
  {
   "cell_type": "code",
   "execution_count": 30,
   "metadata": {
    "vscode": {
     "languageId": "sql"
    }
   },
   "outputs": [
    {
     "data": {
      "text/html": [
       "<span style=\"None\">Running query in &#x27;duckdb&#x27;</span>"
      ],
      "text/plain": [
       "Running query in 'duckdb'"
      ]
     },
     "metadata": {},
     "output_type": "display_data"
    }
   ],
   "source": [
    "%%sql \n",
    "precipitaciones << \n",
    "select estacion_desc,dia,  h, valor \n",
    "from CALAIR \n",
    "where magnitud = 89\n",
    "and validez = 'V'\n",
    "and estacion_desc in ['Casa de Campo'] --, 'Juan Carlos I', 'El Pardo','Peñagrande', 'Plaza Elíptica']\n",
    "order by estacion_desc, h\n"
   ]
  },
  {
   "cell_type": "code",
   "execution_count": 31,
   "metadata": {
    "vscode": {
     "languageId": "sql"
    }
   },
   "outputs": [
    {
     "data": {
      "application/vnd.plotly.v1+json": {
       "config": {
        "plotlyServerURL": "https://plot.ly"
       },
       "data": [
        {
         "hovertemplate": "DIA=14<br>ESTACION_DESC=Casa de Campo<br>H=%{x}<br>VALOR=%{y}<extra></extra>",
         "legendgroup": "14, Casa de Campo",
         "line": {
          "color": "#636efa",
          "dash": "solid"
         },
         "marker": {
          "symbol": "circle"
         },
         "mode": "lines+markers",
         "name": "14, Casa de Campo",
         "orientation": "v",
         "showlegend": true,
         "type": "scatter",
         "x": [
          1,
          2,
          3,
          4,
          5,
          6,
          7,
          8,
          9,
          10,
          11,
          12,
          13,
          14,
          15,
          16,
          17,
          18,
          19,
          20,
          21,
          22
         ],
         "xaxis": "x",
         "y": [
          0,
          0,
          0,
          0,
          0,
          0,
          0,
          0,
          0,
          0,
          0,
          0,
          0,
          0,
          0,
          0,
          0,
          0,
          0,
          0,
          0,
          0
         ],
         "yaxis": "y"
        },
        {
         "hovertemplate": "DIA=15<br>ESTACION_DESC=Casa de Campo<br>H=%{x}<br>VALOR=%{y}<extra></extra>",
         "legendgroup": "15, Casa de Campo",
         "line": {
          "color": "#EF553B",
          "dash": "solid"
         },
         "marker": {
          "symbol": "circle"
         },
         "mode": "lines+markers",
         "name": "15, Casa de Campo",
         "orientation": "v",
         "showlegend": true,
         "type": "scatter",
         "x": [
          1,
          2,
          5,
          6,
          7,
          8,
          9,
          10,
          11,
          12,
          13,
          14,
          15,
          16,
          17
         ],
         "xaxis": "x",
         "y": [
          0,
          0,
          0,
          0,
          0,
          0,
          0,
          0,
          0,
          0,
          0,
          0,
          0,
          0,
          0
         ],
         "yaxis": "y"
        },
        {
         "hovertemplate": "DIA=16<br>ESTACION_DESC=Casa de Campo<br>H=%{x}<br>VALOR=%{y}<extra></extra>",
         "legendgroup": "16, Casa de Campo",
         "line": {
          "color": "#00cc96",
          "dash": "solid"
         },
         "marker": {
          "symbol": "circle"
         },
         "mode": "lines+markers",
         "name": "16, Casa de Campo",
         "orientation": "v",
         "showlegend": true,
         "type": "scatter",
         "x": [
          1,
          2,
          3,
          4,
          5,
          6,
          7,
          8,
          9,
          10,
          11,
          12,
          13,
          14,
          15,
          16,
          17,
          18,
          19,
          20,
          21,
          22,
          23
         ],
         "xaxis": "x",
         "y": [
          0,
          0,
          0,
          0,
          0,
          0,
          0,
          0,
          0,
          0,
          0,
          0,
          0,
          0,
          0,
          0,
          0,
          0,
          0,
          0,
          0,
          0,
          0
         ],
         "yaxis": "y"
        },
        {
         "hovertemplate": "DIA=17<br>ESTACION_DESC=Casa de Campo<br>H=%{x}<br>VALOR=%{y}<extra></extra>",
         "legendgroup": "17, Casa de Campo",
         "line": {
          "color": "#ab63fa",
          "dash": "solid"
         },
         "marker": {
          "symbol": "circle"
         },
         "mode": "lines+markers",
         "name": "17, Casa de Campo",
         "orientation": "v",
         "showlegend": true,
         "type": "scatter",
         "x": [
          1,
          2,
          3,
          4,
          5,
          6,
          7,
          8,
          9,
          10
         ],
         "xaxis": "x",
         "y": [
          0,
          0,
          0,
          0,
          0,
          0,
          0,
          0,
          0,
          0
         ],
         "yaxis": "y"
        },
        {
         "hovertemplate": "DIA=19<br>ESTACION_DESC=Casa de Campo<br>H=%{x}<br>VALOR=%{y}<extra></extra>",
         "legendgroup": "19, Casa de Campo",
         "line": {
          "color": "#FFA15A",
          "dash": "solid"
         },
         "marker": {
          "symbol": "circle"
         },
         "mode": "lines+markers",
         "name": "19, Casa de Campo",
         "orientation": "v",
         "showlegend": true,
         "type": "scatter",
         "x": [
          1,
          2,
          3,
          4,
          5,
          6,
          7,
          8,
          9,
          10,
          11,
          12,
          13,
          14,
          15,
          16,
          17,
          18,
          19,
          20,
          21,
          22
         ],
         "xaxis": "x",
         "y": [
          0,
          0,
          0,
          0,
          0,
          0,
          0,
          0,
          0,
          0,
          0,
          0,
          0,
          0,
          0,
          0,
          0,
          0,
          0,
          0,
          0,
          0
         ],
         "yaxis": "y"
        },
        {
         "hovertemplate": "DIA=20<br>ESTACION_DESC=Casa de Campo<br>H=%{x}<br>VALOR=%{y}<extra></extra>",
         "legendgroup": "20, Casa de Campo",
         "line": {
          "color": "#19d3f3",
          "dash": "solid"
         },
         "marker": {
          "symbol": "circle"
         },
         "mode": "lines+markers",
         "name": "20, Casa de Campo",
         "orientation": "v",
         "showlegend": true,
         "type": "scatter",
         "x": [
          1,
          2,
          3,
          4,
          5,
          6,
          7,
          8,
          9,
          10,
          11,
          12,
          13,
          14,
          15,
          16,
          17,
          18,
          19,
          20,
          21,
          22,
          23,
          24
         ],
         "xaxis": "x",
         "y": [
          0,
          0,
          0.2,
          0.05,
          0,
          0,
          0,
          0,
          0.85,
          0.55,
          0.6,
          0.1,
          0,
          0,
          0,
          0,
          0.05,
          0,
          0,
          0.05,
          0.05,
          0.05,
          0.05,
          0.15
         ],
         "yaxis": "y"
        },
        {
         "hovertemplate": "DIA=21<br>ESTACION_DESC=Casa de Campo<br>H=%{x}<br>VALOR=%{y}<extra></extra>",
         "legendgroup": "21, Casa de Campo",
         "line": {
          "color": "#FF6692",
          "dash": "solid"
         },
         "marker": {
          "symbol": "circle"
         },
         "mode": "lines+markers",
         "name": "21, Casa de Campo",
         "orientation": "v",
         "showlegend": true,
         "type": "scatter",
         "x": [
          1,
          2,
          3,
          4,
          5,
          6,
          7,
          8,
          9,
          10,
          11,
          12,
          13,
          14,
          15,
          16,
          17,
          18,
          19,
          20,
          21,
          22,
          23,
          24
         ],
         "xaxis": "x",
         "y": [
          0.1,
          0.35,
          0.4,
          0.25,
          0.05,
          0.05,
          0.05,
          0,
          0.05,
          0.05,
          1,
          0.45,
          0.25,
          0.05,
          0.35,
          0.5,
          0.6,
          0.45,
          0.25,
          0.05,
          0,
          0,
          0,
          0
         ],
         "yaxis": "y"
        },
        {
         "hovertemplate": "DIA=22<br>ESTACION_DESC=Casa de Campo<br>H=%{x}<br>VALOR=%{y}<extra></extra>",
         "legendgroup": "22, Casa de Campo",
         "line": {
          "color": "#B6E880",
          "dash": "solid"
         },
         "marker": {
          "symbol": "circle"
         },
         "mode": "lines+markers",
         "name": "22, Casa de Campo",
         "orientation": "v",
         "showlegend": true,
         "type": "scatter",
         "x": [
          1,
          2,
          3,
          4,
          5,
          6,
          7,
          8,
          9,
          10,
          11,
          12,
          13,
          14,
          15,
          16,
          17,
          18,
          19,
          20,
          21,
          22,
          23,
          24
         ],
         "xaxis": "x",
         "y": [
          0,
          0,
          0,
          0,
          0,
          0.05,
          0.15,
          0.15,
          0.1,
          0.35,
          0.1,
          0,
          0,
          0,
          0,
          0.25,
          0.1,
          0.15,
          0,
          0,
          0,
          0.1,
          1,
          1.45
         ],
         "yaxis": "y"
        },
        {
         "hovertemplate": "DIA=25<br>ESTACION_DESC=Casa de Campo<br>H=%{x}<br>VALOR=%{y}<extra></extra>",
         "legendgroup": "25, Casa de Campo",
         "line": {
          "color": "#FF97FF",
          "dash": "solid"
         },
         "marker": {
          "symbol": "circle"
         },
         "mode": "lines+markers",
         "name": "25, Casa de Campo",
         "orientation": "v",
         "showlegend": true,
         "type": "scatter",
         "x": [
          1,
          2,
          3,
          4,
          5,
          6,
          7,
          8,
          9,
          10
         ],
         "xaxis": "x",
         "y": [
          0,
          0,
          0,
          0,
          0,
          0,
          0,
          0,
          0.1,
          0.25
         ],
         "yaxis": "y"
        },
        {
         "hovertemplate": "DIA=23<br>ESTACION_DESC=Casa de Campo<br>H=%{x}<br>VALOR=%{y}<extra></extra>",
         "legendgroup": "23, Casa de Campo",
         "line": {
          "color": "#FECB52",
          "dash": "solid"
         },
         "marker": {
          "symbol": "circle"
         },
         "mode": "lines+markers",
         "name": "23, Casa de Campo",
         "orientation": "v",
         "showlegend": true,
         "type": "scatter",
         "x": [
          1,
          2,
          3,
          4,
          5,
          6,
          7,
          8,
          9,
          10,
          11,
          12,
          13,
          14,
          15,
          16,
          17,
          18,
          19,
          20,
          21,
          22,
          23,
          24
         ],
         "xaxis": "x",
         "y": [
          0.1,
          0,
          0,
          0,
          0.2,
          0,
          0,
          0,
          0,
          0.4,
          0.1,
          0,
          0,
          0,
          0,
          0,
          0,
          0,
          0,
          0,
          0,
          0,
          0,
          0
         ],
         "yaxis": "y"
        },
        {
         "hovertemplate": "DIA=24<br>ESTACION_DESC=Casa de Campo<br>H=%{x}<br>VALOR=%{y}<extra></extra>",
         "legendgroup": "24, Casa de Campo",
         "line": {
          "color": "#636efa",
          "dash": "solid"
         },
         "marker": {
          "symbol": "circle"
         },
         "mode": "lines+markers",
         "name": "24, Casa de Campo",
         "orientation": "v",
         "showlegend": true,
         "type": "scatter",
         "x": [
          1,
          2,
          3,
          4,
          5,
          6,
          7,
          8,
          9,
          10,
          11,
          12,
          13,
          14,
          15,
          16,
          17,
          18,
          19,
          20,
          21,
          22,
          23,
          24
         ],
         "xaxis": "x",
         "y": [
          0,
          0,
          0,
          0,
          0,
          0,
          0,
          0.15,
          0.05,
          0,
          0,
          0,
          0,
          0,
          0,
          0,
          0,
          0,
          0,
          0,
          0,
          0,
          0,
          0
         ],
         "yaxis": "y"
        },
        {
         "hovertemplate": "DIA=13<br>ESTACION_DESC=Casa de Campo<br>H=%{x}<br>VALOR=%{y}<extra></extra>",
         "legendgroup": "13, Casa de Campo",
         "line": {
          "color": "#EF553B",
          "dash": "solid"
         },
         "marker": {
          "symbol": "circle"
         },
         "mode": "lines+markers",
         "name": "13, Casa de Campo",
         "orientation": "v",
         "showlegend": true,
         "type": "scatter",
         "x": [
          1,
          2,
          3,
          4,
          5,
          6,
          7,
          8,
          9,
          10,
          11,
          12,
          13,
          14,
          15,
          16,
          17,
          18,
          19,
          20,
          21,
          22
         ],
         "xaxis": "x",
         "y": [
          0,
          0,
          0,
          0,
          0,
          0,
          0,
          0,
          0,
          0,
          0,
          0,
          0,
          0,
          0,
          0,
          0,
          0,
          0,
          0,
          0,
          0
         ],
         "yaxis": "y"
        }
       ],
       "layout": {
        "legend": {
         "title": {
          "text": "DIA, ESTACION_DESC"
         },
         "tracegroupgap": 0
        },
        "template": {
         "data": {
          "bar": [
           {
            "error_x": {
             "color": "#2a3f5f"
            },
            "error_y": {
             "color": "#2a3f5f"
            },
            "marker": {
             "line": {
              "color": "#E5ECF6",
              "width": 0.5
             },
             "pattern": {
              "fillmode": "overlay",
              "size": 10,
              "solidity": 0.2
             }
            },
            "type": "bar"
           }
          ],
          "barpolar": [
           {
            "marker": {
             "line": {
              "color": "#E5ECF6",
              "width": 0.5
             },
             "pattern": {
              "fillmode": "overlay",
              "size": 10,
              "solidity": 0.2
             }
            },
            "type": "barpolar"
           }
          ],
          "carpet": [
           {
            "aaxis": {
             "endlinecolor": "#2a3f5f",
             "gridcolor": "white",
             "linecolor": "white",
             "minorgridcolor": "white",
             "startlinecolor": "#2a3f5f"
            },
            "baxis": {
             "endlinecolor": "#2a3f5f",
             "gridcolor": "white",
             "linecolor": "white",
             "minorgridcolor": "white",
             "startlinecolor": "#2a3f5f"
            },
            "type": "carpet"
           }
          ],
          "choropleth": [
           {
            "colorbar": {
             "outlinewidth": 0,
             "ticks": ""
            },
            "type": "choropleth"
           }
          ],
          "contour": [
           {
            "colorbar": {
             "outlinewidth": 0,
             "ticks": ""
            },
            "colorscale": [
             [
              0,
              "#0d0887"
             ],
             [
              0.1111111111111111,
              "#46039f"
             ],
             [
              0.2222222222222222,
              "#7201a8"
             ],
             [
              0.3333333333333333,
              "#9c179e"
             ],
             [
              0.4444444444444444,
              "#bd3786"
             ],
             [
              0.5555555555555556,
              "#d8576b"
             ],
             [
              0.6666666666666666,
              "#ed7953"
             ],
             [
              0.7777777777777778,
              "#fb9f3a"
             ],
             [
              0.8888888888888888,
              "#fdca26"
             ],
             [
              1,
              "#f0f921"
             ]
            ],
            "type": "contour"
           }
          ],
          "contourcarpet": [
           {
            "colorbar": {
             "outlinewidth": 0,
             "ticks": ""
            },
            "type": "contourcarpet"
           }
          ],
          "heatmap": [
           {
            "colorbar": {
             "outlinewidth": 0,
             "ticks": ""
            },
            "colorscale": [
             [
              0,
              "#0d0887"
             ],
             [
              0.1111111111111111,
              "#46039f"
             ],
             [
              0.2222222222222222,
              "#7201a8"
             ],
             [
              0.3333333333333333,
              "#9c179e"
             ],
             [
              0.4444444444444444,
              "#bd3786"
             ],
             [
              0.5555555555555556,
              "#d8576b"
             ],
             [
              0.6666666666666666,
              "#ed7953"
             ],
             [
              0.7777777777777778,
              "#fb9f3a"
             ],
             [
              0.8888888888888888,
              "#fdca26"
             ],
             [
              1,
              "#f0f921"
             ]
            ],
            "type": "heatmap"
           }
          ],
          "heatmapgl": [
           {
            "colorbar": {
             "outlinewidth": 0,
             "ticks": ""
            },
            "colorscale": [
             [
              0,
              "#0d0887"
             ],
             [
              0.1111111111111111,
              "#46039f"
             ],
             [
              0.2222222222222222,
              "#7201a8"
             ],
             [
              0.3333333333333333,
              "#9c179e"
             ],
             [
              0.4444444444444444,
              "#bd3786"
             ],
             [
              0.5555555555555556,
              "#d8576b"
             ],
             [
              0.6666666666666666,
              "#ed7953"
             ],
             [
              0.7777777777777778,
              "#fb9f3a"
             ],
             [
              0.8888888888888888,
              "#fdca26"
             ],
             [
              1,
              "#f0f921"
             ]
            ],
            "type": "heatmapgl"
           }
          ],
          "histogram": [
           {
            "marker": {
             "pattern": {
              "fillmode": "overlay",
              "size": 10,
              "solidity": 0.2
             }
            },
            "type": "histogram"
           }
          ],
          "histogram2d": [
           {
            "colorbar": {
             "outlinewidth": 0,
             "ticks": ""
            },
            "colorscale": [
             [
              0,
              "#0d0887"
             ],
             [
              0.1111111111111111,
              "#46039f"
             ],
             [
              0.2222222222222222,
              "#7201a8"
             ],
             [
              0.3333333333333333,
              "#9c179e"
             ],
             [
              0.4444444444444444,
              "#bd3786"
             ],
             [
              0.5555555555555556,
              "#d8576b"
             ],
             [
              0.6666666666666666,
              "#ed7953"
             ],
             [
              0.7777777777777778,
              "#fb9f3a"
             ],
             [
              0.8888888888888888,
              "#fdca26"
             ],
             [
              1,
              "#f0f921"
             ]
            ],
            "type": "histogram2d"
           }
          ],
          "histogram2dcontour": [
           {
            "colorbar": {
             "outlinewidth": 0,
             "ticks": ""
            },
            "colorscale": [
             [
              0,
              "#0d0887"
             ],
             [
              0.1111111111111111,
              "#46039f"
             ],
             [
              0.2222222222222222,
              "#7201a8"
             ],
             [
              0.3333333333333333,
              "#9c179e"
             ],
             [
              0.4444444444444444,
              "#bd3786"
             ],
             [
              0.5555555555555556,
              "#d8576b"
             ],
             [
              0.6666666666666666,
              "#ed7953"
             ],
             [
              0.7777777777777778,
              "#fb9f3a"
             ],
             [
              0.8888888888888888,
              "#fdca26"
             ],
             [
              1,
              "#f0f921"
             ]
            ],
            "type": "histogram2dcontour"
           }
          ],
          "mesh3d": [
           {
            "colorbar": {
             "outlinewidth": 0,
             "ticks": ""
            },
            "type": "mesh3d"
           }
          ],
          "parcoords": [
           {
            "line": {
             "colorbar": {
              "outlinewidth": 0,
              "ticks": ""
             }
            },
            "type": "parcoords"
           }
          ],
          "pie": [
           {
            "automargin": true,
            "type": "pie"
           }
          ],
          "scatter": [
           {
            "fillpattern": {
             "fillmode": "overlay",
             "size": 10,
             "solidity": 0.2
            },
            "type": "scatter"
           }
          ],
          "scatter3d": [
           {
            "line": {
             "colorbar": {
              "outlinewidth": 0,
              "ticks": ""
             }
            },
            "marker": {
             "colorbar": {
              "outlinewidth": 0,
              "ticks": ""
             }
            },
            "type": "scatter3d"
           }
          ],
          "scattercarpet": [
           {
            "marker": {
             "colorbar": {
              "outlinewidth": 0,
              "ticks": ""
             }
            },
            "type": "scattercarpet"
           }
          ],
          "scattergeo": [
           {
            "marker": {
             "colorbar": {
              "outlinewidth": 0,
              "ticks": ""
             }
            },
            "type": "scattergeo"
           }
          ],
          "scattergl": [
           {
            "marker": {
             "colorbar": {
              "outlinewidth": 0,
              "ticks": ""
             }
            },
            "type": "scattergl"
           }
          ],
          "scattermapbox": [
           {
            "marker": {
             "colorbar": {
              "outlinewidth": 0,
              "ticks": ""
             }
            },
            "type": "scattermapbox"
           }
          ],
          "scatterpolar": [
           {
            "marker": {
             "colorbar": {
              "outlinewidth": 0,
              "ticks": ""
             }
            },
            "type": "scatterpolar"
           }
          ],
          "scatterpolargl": [
           {
            "marker": {
             "colorbar": {
              "outlinewidth": 0,
              "ticks": ""
             }
            },
            "type": "scatterpolargl"
           }
          ],
          "scatterternary": [
           {
            "marker": {
             "colorbar": {
              "outlinewidth": 0,
              "ticks": ""
             }
            },
            "type": "scatterternary"
           }
          ],
          "surface": [
           {
            "colorbar": {
             "outlinewidth": 0,
             "ticks": ""
            },
            "colorscale": [
             [
              0,
              "#0d0887"
             ],
             [
              0.1111111111111111,
              "#46039f"
             ],
             [
              0.2222222222222222,
              "#7201a8"
             ],
             [
              0.3333333333333333,
              "#9c179e"
             ],
             [
              0.4444444444444444,
              "#bd3786"
             ],
             [
              0.5555555555555556,
              "#d8576b"
             ],
             [
              0.6666666666666666,
              "#ed7953"
             ],
             [
              0.7777777777777778,
              "#fb9f3a"
             ],
             [
              0.8888888888888888,
              "#fdca26"
             ],
             [
              1,
              "#f0f921"
             ]
            ],
            "type": "surface"
           }
          ],
          "table": [
           {
            "cells": {
             "fill": {
              "color": "#EBF0F8"
             },
             "line": {
              "color": "white"
             }
            },
            "header": {
             "fill": {
              "color": "#C8D4E3"
             },
             "line": {
              "color": "white"
             }
            },
            "type": "table"
           }
          ]
         },
         "layout": {
          "annotationdefaults": {
           "arrowcolor": "#2a3f5f",
           "arrowhead": 0,
           "arrowwidth": 1
          },
          "autotypenumbers": "strict",
          "coloraxis": {
           "colorbar": {
            "outlinewidth": 0,
            "ticks": ""
           }
          },
          "colorscale": {
           "diverging": [
            [
             0,
             "#8e0152"
            ],
            [
             0.1,
             "#c51b7d"
            ],
            [
             0.2,
             "#de77ae"
            ],
            [
             0.3,
             "#f1b6da"
            ],
            [
             0.4,
             "#fde0ef"
            ],
            [
             0.5,
             "#f7f7f7"
            ],
            [
             0.6,
             "#e6f5d0"
            ],
            [
             0.7,
             "#b8e186"
            ],
            [
             0.8,
             "#7fbc41"
            ],
            [
             0.9,
             "#4d9221"
            ],
            [
             1,
             "#276419"
            ]
           ],
           "sequential": [
            [
             0,
             "#0d0887"
            ],
            [
             0.1111111111111111,
             "#46039f"
            ],
            [
             0.2222222222222222,
             "#7201a8"
            ],
            [
             0.3333333333333333,
             "#9c179e"
            ],
            [
             0.4444444444444444,
             "#bd3786"
            ],
            [
             0.5555555555555556,
             "#d8576b"
            ],
            [
             0.6666666666666666,
             "#ed7953"
            ],
            [
             0.7777777777777778,
             "#fb9f3a"
            ],
            [
             0.8888888888888888,
             "#fdca26"
            ],
            [
             1,
             "#f0f921"
            ]
           ],
           "sequentialminus": [
            [
             0,
             "#0d0887"
            ],
            [
             0.1111111111111111,
             "#46039f"
            ],
            [
             0.2222222222222222,
             "#7201a8"
            ],
            [
             0.3333333333333333,
             "#9c179e"
            ],
            [
             0.4444444444444444,
             "#bd3786"
            ],
            [
             0.5555555555555556,
             "#d8576b"
            ],
            [
             0.6666666666666666,
             "#ed7953"
            ],
            [
             0.7777777777777778,
             "#fb9f3a"
            ],
            [
             0.8888888888888888,
             "#fdca26"
            ],
            [
             1,
             "#f0f921"
            ]
           ]
          },
          "colorway": [
           "#636efa",
           "#EF553B",
           "#00cc96",
           "#ab63fa",
           "#FFA15A",
           "#19d3f3",
           "#FF6692",
           "#B6E880",
           "#FF97FF",
           "#FECB52"
          ],
          "font": {
           "color": "#2a3f5f"
          },
          "geo": {
           "bgcolor": "white",
           "lakecolor": "white",
           "landcolor": "#E5ECF6",
           "showlakes": true,
           "showland": true,
           "subunitcolor": "white"
          },
          "hoverlabel": {
           "align": "left"
          },
          "hovermode": "closest",
          "mapbox": {
           "style": "light"
          },
          "paper_bgcolor": "white",
          "plot_bgcolor": "#E5ECF6",
          "polar": {
           "angularaxis": {
            "gridcolor": "white",
            "linecolor": "white",
            "ticks": ""
           },
           "bgcolor": "#E5ECF6",
           "radialaxis": {
            "gridcolor": "white",
            "linecolor": "white",
            "ticks": ""
           }
          },
          "scene": {
           "xaxis": {
            "backgroundcolor": "#E5ECF6",
            "gridcolor": "white",
            "gridwidth": 2,
            "linecolor": "white",
            "showbackground": true,
            "ticks": "",
            "zerolinecolor": "white"
           },
           "yaxis": {
            "backgroundcolor": "#E5ECF6",
            "gridcolor": "white",
            "gridwidth": 2,
            "linecolor": "white",
            "showbackground": true,
            "ticks": "",
            "zerolinecolor": "white"
           },
           "zaxis": {
            "backgroundcolor": "#E5ECF6",
            "gridcolor": "white",
            "gridwidth": 2,
            "linecolor": "white",
            "showbackground": true,
            "ticks": "",
            "zerolinecolor": "white"
           }
          },
          "shapedefaults": {
           "line": {
            "color": "#2a3f5f"
           }
          },
          "ternary": {
           "aaxis": {
            "gridcolor": "white",
            "linecolor": "white",
            "ticks": ""
           },
           "baxis": {
            "gridcolor": "white",
            "linecolor": "white",
            "ticks": ""
           },
           "bgcolor": "#E5ECF6",
           "caxis": {
            "gridcolor": "white",
            "linecolor": "white",
            "ticks": ""
           }
          },
          "title": {
           "x": 0.05
          },
          "xaxis": {
           "automargin": true,
           "gridcolor": "white",
           "linecolor": "white",
           "ticks": "",
           "title": {
            "standoff": 15
           },
           "zerolinecolor": "white",
           "zerolinewidth": 2
          },
          "yaxis": {
           "automargin": true,
           "gridcolor": "white",
           "linecolor": "white",
           "ticks": "",
           "title": {
            "standoff": 15
           },
           "zerolinecolor": "white",
           "zerolinewidth": 2
          }
         }
        },
        "title": {
         "text": "Precipitaciones "
        },
        "xaxis": {
         "anchor": "y",
         "domain": [
          0,
          1
         ],
         "title": {
          "text": "H"
         }
        },
        "yaxis": {
         "anchor": "x",
         "domain": [
          0,
          1
         ],
         "title": {
          "text": "VALOR"
         }
        }
       }
      },
      "text/html": [
       "<div>                            <div id=\"cf23a26d-f59a-44ce-9d63-9ab5de08ca4d\" class=\"plotly-graph-div\" style=\"height:525px; width:100%;\"></div>            <script type=\"text/javascript\">                require([\"plotly\"], function(Plotly) {                    window.PLOTLYENV=window.PLOTLYENV || {};                                    if (document.getElementById(\"cf23a26d-f59a-44ce-9d63-9ab5de08ca4d\")) {                    Plotly.newPlot(                        \"cf23a26d-f59a-44ce-9d63-9ab5de08ca4d\",                        [{\"hovertemplate\":\"DIA=14\\u003cbr\\u003eESTACION_DESC=Casa de Campo\\u003cbr\\u003eH=%{x}\\u003cbr\\u003eVALOR=%{y}\\u003cextra\\u003e\\u003c\\u002fextra\\u003e\",\"legendgroup\":\"14, Casa de Campo\",\"line\":{\"color\":\"#636efa\",\"dash\":\"solid\"},\"marker\":{\"symbol\":\"circle\"},\"mode\":\"lines+markers\",\"name\":\"14, Casa de Campo\",\"orientation\":\"v\",\"showlegend\":true,\"x\":[1,2,3,4,5,6,7,8,9,10,11,12,13,14,15,16,17,18,19,20,21,22],\"xaxis\":\"x\",\"y\":[0.0,0.0,0.0,0.0,0.0,0.0,0.0,0.0,0.0,0.0,0.0,0.0,0.0,0.0,0.0,0.0,0.0,0.0,0.0,0.0,0.0,0.0],\"yaxis\":\"y\",\"type\":\"scatter\"},{\"hovertemplate\":\"DIA=15\\u003cbr\\u003eESTACION_DESC=Casa de Campo\\u003cbr\\u003eH=%{x}\\u003cbr\\u003eVALOR=%{y}\\u003cextra\\u003e\\u003c\\u002fextra\\u003e\",\"legendgroup\":\"15, Casa de Campo\",\"line\":{\"color\":\"#EF553B\",\"dash\":\"solid\"},\"marker\":{\"symbol\":\"circle\"},\"mode\":\"lines+markers\",\"name\":\"15, Casa de Campo\",\"orientation\":\"v\",\"showlegend\":true,\"x\":[1,2,5,6,7,8,9,10,11,12,13,14,15,16,17],\"xaxis\":\"x\",\"y\":[0.0,0.0,0.0,0.0,0.0,0.0,0.0,0.0,0.0,0.0,0.0,0.0,0.0,0.0,0.0],\"yaxis\":\"y\",\"type\":\"scatter\"},{\"hovertemplate\":\"DIA=16\\u003cbr\\u003eESTACION_DESC=Casa de Campo\\u003cbr\\u003eH=%{x}\\u003cbr\\u003eVALOR=%{y}\\u003cextra\\u003e\\u003c\\u002fextra\\u003e\",\"legendgroup\":\"16, Casa de Campo\",\"line\":{\"color\":\"#00cc96\",\"dash\":\"solid\"},\"marker\":{\"symbol\":\"circle\"},\"mode\":\"lines+markers\",\"name\":\"16, Casa de Campo\",\"orientation\":\"v\",\"showlegend\":true,\"x\":[1,2,3,4,5,6,7,8,9,10,11,12,13,14,15,16,17,18,19,20,21,22,23],\"xaxis\":\"x\",\"y\":[0.0,0.0,0.0,0.0,0.0,0.0,0.0,0.0,0.0,0.0,0.0,0.0,0.0,0.0,0.0,0.0,0.0,0.0,0.0,0.0,0.0,0.0,0.0],\"yaxis\":\"y\",\"type\":\"scatter\"},{\"hovertemplate\":\"DIA=17\\u003cbr\\u003eESTACION_DESC=Casa de Campo\\u003cbr\\u003eH=%{x}\\u003cbr\\u003eVALOR=%{y}\\u003cextra\\u003e\\u003c\\u002fextra\\u003e\",\"legendgroup\":\"17, Casa de Campo\",\"line\":{\"color\":\"#ab63fa\",\"dash\":\"solid\"},\"marker\":{\"symbol\":\"circle\"},\"mode\":\"lines+markers\",\"name\":\"17, Casa de Campo\",\"orientation\":\"v\",\"showlegend\":true,\"x\":[1,2,3,4,5,6,7,8,9,10],\"xaxis\":\"x\",\"y\":[0.0,0.0,0.0,0.0,0.0,0.0,0.0,0.0,0.0,0.0],\"yaxis\":\"y\",\"type\":\"scatter\"},{\"hovertemplate\":\"DIA=19\\u003cbr\\u003eESTACION_DESC=Casa de Campo\\u003cbr\\u003eH=%{x}\\u003cbr\\u003eVALOR=%{y}\\u003cextra\\u003e\\u003c\\u002fextra\\u003e\",\"legendgroup\":\"19, Casa de Campo\",\"line\":{\"color\":\"#FFA15A\",\"dash\":\"solid\"},\"marker\":{\"symbol\":\"circle\"},\"mode\":\"lines+markers\",\"name\":\"19, Casa de Campo\",\"orientation\":\"v\",\"showlegend\":true,\"x\":[1,2,3,4,5,6,7,8,9,10,11,12,13,14,15,16,17,18,19,20,21,22],\"xaxis\":\"x\",\"y\":[0.0,0.0,0.0,0.0,0.0,0.0,0.0,0.0,0.0,0.0,0.0,0.0,0.0,0.0,0.0,0.0,0.0,0.0,0.0,0.0,0.0,0.0],\"yaxis\":\"y\",\"type\":\"scatter\"},{\"hovertemplate\":\"DIA=20\\u003cbr\\u003eESTACION_DESC=Casa de Campo\\u003cbr\\u003eH=%{x}\\u003cbr\\u003eVALOR=%{y}\\u003cextra\\u003e\\u003c\\u002fextra\\u003e\",\"legendgroup\":\"20, Casa de Campo\",\"line\":{\"color\":\"#19d3f3\",\"dash\":\"solid\"},\"marker\":{\"symbol\":\"circle\"},\"mode\":\"lines+markers\",\"name\":\"20, Casa de Campo\",\"orientation\":\"v\",\"showlegend\":true,\"x\":[1,2,3,4,5,6,7,8,9,10,11,12,13,14,15,16,17,18,19,20,21,22,23,24],\"xaxis\":\"x\",\"y\":[0.0,0.0,0.2,0.05,0.0,0.0,0.0,0.0,0.85,0.55,0.6,0.1,0.0,0.0,0.0,0.0,0.05,0.0,0.0,0.05,0.05,0.05,0.05,0.15],\"yaxis\":\"y\",\"type\":\"scatter\"},{\"hovertemplate\":\"DIA=21\\u003cbr\\u003eESTACION_DESC=Casa de Campo\\u003cbr\\u003eH=%{x}\\u003cbr\\u003eVALOR=%{y}\\u003cextra\\u003e\\u003c\\u002fextra\\u003e\",\"legendgroup\":\"21, Casa de Campo\",\"line\":{\"color\":\"#FF6692\",\"dash\":\"solid\"},\"marker\":{\"symbol\":\"circle\"},\"mode\":\"lines+markers\",\"name\":\"21, Casa de Campo\",\"orientation\":\"v\",\"showlegend\":true,\"x\":[1,2,3,4,5,6,7,8,9,10,11,12,13,14,15,16,17,18,19,20,21,22,23,24],\"xaxis\":\"x\",\"y\":[0.1,0.35,0.4,0.25,0.05,0.05,0.05,0.0,0.05,0.05,1.0,0.45,0.25,0.05,0.35,0.5,0.6,0.45,0.25,0.05,0.0,0.0,0.0,0.0],\"yaxis\":\"y\",\"type\":\"scatter\"},{\"hovertemplate\":\"DIA=22\\u003cbr\\u003eESTACION_DESC=Casa de Campo\\u003cbr\\u003eH=%{x}\\u003cbr\\u003eVALOR=%{y}\\u003cextra\\u003e\\u003c\\u002fextra\\u003e\",\"legendgroup\":\"22, Casa de Campo\",\"line\":{\"color\":\"#B6E880\",\"dash\":\"solid\"},\"marker\":{\"symbol\":\"circle\"},\"mode\":\"lines+markers\",\"name\":\"22, Casa de Campo\",\"orientation\":\"v\",\"showlegend\":true,\"x\":[1,2,3,4,5,6,7,8,9,10,11,12,13,14,15,16,17,18,19,20,21,22,23,24],\"xaxis\":\"x\",\"y\":[0.0,0.0,0.0,0.0,0.0,0.05,0.15,0.15,0.1,0.35,0.1,0.0,0.0,0.0,0.0,0.25,0.1,0.15,0.0,0.0,0.0,0.1,1.0,1.45],\"yaxis\":\"y\",\"type\":\"scatter\"},{\"hovertemplate\":\"DIA=25\\u003cbr\\u003eESTACION_DESC=Casa de Campo\\u003cbr\\u003eH=%{x}\\u003cbr\\u003eVALOR=%{y}\\u003cextra\\u003e\\u003c\\u002fextra\\u003e\",\"legendgroup\":\"25, Casa de Campo\",\"line\":{\"color\":\"#FF97FF\",\"dash\":\"solid\"},\"marker\":{\"symbol\":\"circle\"},\"mode\":\"lines+markers\",\"name\":\"25, Casa de Campo\",\"orientation\":\"v\",\"showlegend\":true,\"x\":[1,2,3,4,5,6,7,8,9,10],\"xaxis\":\"x\",\"y\":[0.0,0.0,0.0,0.0,0.0,0.0,0.0,0.0,0.1,0.25],\"yaxis\":\"y\",\"type\":\"scatter\"},{\"hovertemplate\":\"DIA=23\\u003cbr\\u003eESTACION_DESC=Casa de Campo\\u003cbr\\u003eH=%{x}\\u003cbr\\u003eVALOR=%{y}\\u003cextra\\u003e\\u003c\\u002fextra\\u003e\",\"legendgroup\":\"23, Casa de Campo\",\"line\":{\"color\":\"#FECB52\",\"dash\":\"solid\"},\"marker\":{\"symbol\":\"circle\"},\"mode\":\"lines+markers\",\"name\":\"23, Casa de Campo\",\"orientation\":\"v\",\"showlegend\":true,\"x\":[1,2,3,4,5,6,7,8,9,10,11,12,13,14,15,16,17,18,19,20,21,22,23,24],\"xaxis\":\"x\",\"y\":[0.1,0.0,0.0,0.0,0.2,0.0,0.0,0.0,0.0,0.4,0.1,0.0,0.0,0.0,0.0,0.0,0.0,0.0,0.0,0.0,0.0,0.0,0.0,0.0],\"yaxis\":\"y\",\"type\":\"scatter\"},{\"hovertemplate\":\"DIA=24\\u003cbr\\u003eESTACION_DESC=Casa de Campo\\u003cbr\\u003eH=%{x}\\u003cbr\\u003eVALOR=%{y}\\u003cextra\\u003e\\u003c\\u002fextra\\u003e\",\"legendgroup\":\"24, Casa de Campo\",\"line\":{\"color\":\"#636efa\",\"dash\":\"solid\"},\"marker\":{\"symbol\":\"circle\"},\"mode\":\"lines+markers\",\"name\":\"24, Casa de Campo\",\"orientation\":\"v\",\"showlegend\":true,\"x\":[1,2,3,4,5,6,7,8,9,10,11,12,13,14,15,16,17,18,19,20,21,22,23,24],\"xaxis\":\"x\",\"y\":[0.0,0.0,0.0,0.0,0.0,0.0,0.0,0.15,0.05,0.0,0.0,0.0,0.0,0.0,0.0,0.0,0.0,0.0,0.0,0.0,0.0,0.0,0.0,0.0],\"yaxis\":\"y\",\"type\":\"scatter\"},{\"hovertemplate\":\"DIA=13\\u003cbr\\u003eESTACION_DESC=Casa de Campo\\u003cbr\\u003eH=%{x}\\u003cbr\\u003eVALOR=%{y}\\u003cextra\\u003e\\u003c\\u002fextra\\u003e\",\"legendgroup\":\"13, Casa de Campo\",\"line\":{\"color\":\"#EF553B\",\"dash\":\"solid\"},\"marker\":{\"symbol\":\"circle\"},\"mode\":\"lines+markers\",\"name\":\"13, Casa de Campo\",\"orientation\":\"v\",\"showlegend\":true,\"x\":[1,2,3,4,5,6,7,8,9,10,11,12,13,14,15,16,17,18,19,20,21,22],\"xaxis\":\"x\",\"y\":[0.0,0.0,0.0,0.0,0.0,0.0,0.0,0.0,0.0,0.0,0.0,0.0,0.0,0.0,0.0,0.0,0.0,0.0,0.0,0.0,0.0,0.0],\"yaxis\":\"y\",\"type\":\"scatter\"}],                        {\"template\":{\"data\":{\"histogram2dcontour\":[{\"type\":\"histogram2dcontour\",\"colorbar\":{\"outlinewidth\":0,\"ticks\":\"\"},\"colorscale\":[[0.0,\"#0d0887\"],[0.1111111111111111,\"#46039f\"],[0.2222222222222222,\"#7201a8\"],[0.3333333333333333,\"#9c179e\"],[0.4444444444444444,\"#bd3786\"],[0.5555555555555556,\"#d8576b\"],[0.6666666666666666,\"#ed7953\"],[0.7777777777777778,\"#fb9f3a\"],[0.8888888888888888,\"#fdca26\"],[1.0,\"#f0f921\"]]}],\"choropleth\":[{\"type\":\"choropleth\",\"colorbar\":{\"outlinewidth\":0,\"ticks\":\"\"}}],\"histogram2d\":[{\"type\":\"histogram2d\",\"colorbar\":{\"outlinewidth\":0,\"ticks\":\"\"},\"colorscale\":[[0.0,\"#0d0887\"],[0.1111111111111111,\"#46039f\"],[0.2222222222222222,\"#7201a8\"],[0.3333333333333333,\"#9c179e\"],[0.4444444444444444,\"#bd3786\"],[0.5555555555555556,\"#d8576b\"],[0.6666666666666666,\"#ed7953\"],[0.7777777777777778,\"#fb9f3a\"],[0.8888888888888888,\"#fdca26\"],[1.0,\"#f0f921\"]]}],\"heatmap\":[{\"type\":\"heatmap\",\"colorbar\":{\"outlinewidth\":0,\"ticks\":\"\"},\"colorscale\":[[0.0,\"#0d0887\"],[0.1111111111111111,\"#46039f\"],[0.2222222222222222,\"#7201a8\"],[0.3333333333333333,\"#9c179e\"],[0.4444444444444444,\"#bd3786\"],[0.5555555555555556,\"#d8576b\"],[0.6666666666666666,\"#ed7953\"],[0.7777777777777778,\"#fb9f3a\"],[0.8888888888888888,\"#fdca26\"],[1.0,\"#f0f921\"]]}],\"heatmapgl\":[{\"type\":\"heatmapgl\",\"colorbar\":{\"outlinewidth\":0,\"ticks\":\"\"},\"colorscale\":[[0.0,\"#0d0887\"],[0.1111111111111111,\"#46039f\"],[0.2222222222222222,\"#7201a8\"],[0.3333333333333333,\"#9c179e\"],[0.4444444444444444,\"#bd3786\"],[0.5555555555555556,\"#d8576b\"],[0.6666666666666666,\"#ed7953\"],[0.7777777777777778,\"#fb9f3a\"],[0.8888888888888888,\"#fdca26\"],[1.0,\"#f0f921\"]]}],\"contourcarpet\":[{\"type\":\"contourcarpet\",\"colorbar\":{\"outlinewidth\":0,\"ticks\":\"\"}}],\"contour\":[{\"type\":\"contour\",\"colorbar\":{\"outlinewidth\":0,\"ticks\":\"\"},\"colorscale\":[[0.0,\"#0d0887\"],[0.1111111111111111,\"#46039f\"],[0.2222222222222222,\"#7201a8\"],[0.3333333333333333,\"#9c179e\"],[0.4444444444444444,\"#bd3786\"],[0.5555555555555556,\"#d8576b\"],[0.6666666666666666,\"#ed7953\"],[0.7777777777777778,\"#fb9f3a\"],[0.8888888888888888,\"#fdca26\"],[1.0,\"#f0f921\"]]}],\"surface\":[{\"type\":\"surface\",\"colorbar\":{\"outlinewidth\":0,\"ticks\":\"\"},\"colorscale\":[[0.0,\"#0d0887\"],[0.1111111111111111,\"#46039f\"],[0.2222222222222222,\"#7201a8\"],[0.3333333333333333,\"#9c179e\"],[0.4444444444444444,\"#bd3786\"],[0.5555555555555556,\"#d8576b\"],[0.6666666666666666,\"#ed7953\"],[0.7777777777777778,\"#fb9f3a\"],[0.8888888888888888,\"#fdca26\"],[1.0,\"#f0f921\"]]}],\"mesh3d\":[{\"type\":\"mesh3d\",\"colorbar\":{\"outlinewidth\":0,\"ticks\":\"\"}}],\"scatter\":[{\"fillpattern\":{\"fillmode\":\"overlay\",\"size\":10,\"solidity\":0.2},\"type\":\"scatter\"}],\"parcoords\":[{\"type\":\"parcoords\",\"line\":{\"colorbar\":{\"outlinewidth\":0,\"ticks\":\"\"}}}],\"scatterpolargl\":[{\"type\":\"scatterpolargl\",\"marker\":{\"colorbar\":{\"outlinewidth\":0,\"ticks\":\"\"}}}],\"bar\":[{\"error_x\":{\"color\":\"#2a3f5f\"},\"error_y\":{\"color\":\"#2a3f5f\"},\"marker\":{\"line\":{\"color\":\"#E5ECF6\",\"width\":0.5},\"pattern\":{\"fillmode\":\"overlay\",\"size\":10,\"solidity\":0.2}},\"type\":\"bar\"}],\"scattergeo\":[{\"type\":\"scattergeo\",\"marker\":{\"colorbar\":{\"outlinewidth\":0,\"ticks\":\"\"}}}],\"scatterpolar\":[{\"type\":\"scatterpolar\",\"marker\":{\"colorbar\":{\"outlinewidth\":0,\"ticks\":\"\"}}}],\"histogram\":[{\"marker\":{\"pattern\":{\"fillmode\":\"overlay\",\"size\":10,\"solidity\":0.2}},\"type\":\"histogram\"}],\"scattergl\":[{\"type\":\"scattergl\",\"marker\":{\"colorbar\":{\"outlinewidth\":0,\"ticks\":\"\"}}}],\"scatter3d\":[{\"type\":\"scatter3d\",\"line\":{\"colorbar\":{\"outlinewidth\":0,\"ticks\":\"\"}},\"marker\":{\"colorbar\":{\"outlinewidth\":0,\"ticks\":\"\"}}}],\"scattermapbox\":[{\"type\":\"scattermapbox\",\"marker\":{\"colorbar\":{\"outlinewidth\":0,\"ticks\":\"\"}}}],\"scatterternary\":[{\"type\":\"scatterternary\",\"marker\":{\"colorbar\":{\"outlinewidth\":0,\"ticks\":\"\"}}}],\"scattercarpet\":[{\"type\":\"scattercarpet\",\"marker\":{\"colorbar\":{\"outlinewidth\":0,\"ticks\":\"\"}}}],\"carpet\":[{\"aaxis\":{\"endlinecolor\":\"#2a3f5f\",\"gridcolor\":\"white\",\"linecolor\":\"white\",\"minorgridcolor\":\"white\",\"startlinecolor\":\"#2a3f5f\"},\"baxis\":{\"endlinecolor\":\"#2a3f5f\",\"gridcolor\":\"white\",\"linecolor\":\"white\",\"minorgridcolor\":\"white\",\"startlinecolor\":\"#2a3f5f\"},\"type\":\"carpet\"}],\"table\":[{\"cells\":{\"fill\":{\"color\":\"#EBF0F8\"},\"line\":{\"color\":\"white\"}},\"header\":{\"fill\":{\"color\":\"#C8D4E3\"},\"line\":{\"color\":\"white\"}},\"type\":\"table\"}],\"barpolar\":[{\"marker\":{\"line\":{\"color\":\"#E5ECF6\",\"width\":0.5},\"pattern\":{\"fillmode\":\"overlay\",\"size\":10,\"solidity\":0.2}},\"type\":\"barpolar\"}],\"pie\":[{\"automargin\":true,\"type\":\"pie\"}]},\"layout\":{\"autotypenumbers\":\"strict\",\"colorway\":[\"#636efa\",\"#EF553B\",\"#00cc96\",\"#ab63fa\",\"#FFA15A\",\"#19d3f3\",\"#FF6692\",\"#B6E880\",\"#FF97FF\",\"#FECB52\"],\"font\":{\"color\":\"#2a3f5f\"},\"hovermode\":\"closest\",\"hoverlabel\":{\"align\":\"left\"},\"paper_bgcolor\":\"white\",\"plot_bgcolor\":\"#E5ECF6\",\"polar\":{\"bgcolor\":\"#E5ECF6\",\"angularaxis\":{\"gridcolor\":\"white\",\"linecolor\":\"white\",\"ticks\":\"\"},\"radialaxis\":{\"gridcolor\":\"white\",\"linecolor\":\"white\",\"ticks\":\"\"}},\"ternary\":{\"bgcolor\":\"#E5ECF6\",\"aaxis\":{\"gridcolor\":\"white\",\"linecolor\":\"white\",\"ticks\":\"\"},\"baxis\":{\"gridcolor\":\"white\",\"linecolor\":\"white\",\"ticks\":\"\"},\"caxis\":{\"gridcolor\":\"white\",\"linecolor\":\"white\",\"ticks\":\"\"}},\"coloraxis\":{\"colorbar\":{\"outlinewidth\":0,\"ticks\":\"\"}},\"colorscale\":{\"sequential\":[[0.0,\"#0d0887\"],[0.1111111111111111,\"#46039f\"],[0.2222222222222222,\"#7201a8\"],[0.3333333333333333,\"#9c179e\"],[0.4444444444444444,\"#bd3786\"],[0.5555555555555556,\"#d8576b\"],[0.6666666666666666,\"#ed7953\"],[0.7777777777777778,\"#fb9f3a\"],[0.8888888888888888,\"#fdca26\"],[1.0,\"#f0f921\"]],\"sequentialminus\":[[0.0,\"#0d0887\"],[0.1111111111111111,\"#46039f\"],[0.2222222222222222,\"#7201a8\"],[0.3333333333333333,\"#9c179e\"],[0.4444444444444444,\"#bd3786\"],[0.5555555555555556,\"#d8576b\"],[0.6666666666666666,\"#ed7953\"],[0.7777777777777778,\"#fb9f3a\"],[0.8888888888888888,\"#fdca26\"],[1.0,\"#f0f921\"]],\"diverging\":[[0,\"#8e0152\"],[0.1,\"#c51b7d\"],[0.2,\"#de77ae\"],[0.3,\"#f1b6da\"],[0.4,\"#fde0ef\"],[0.5,\"#f7f7f7\"],[0.6,\"#e6f5d0\"],[0.7,\"#b8e186\"],[0.8,\"#7fbc41\"],[0.9,\"#4d9221\"],[1,\"#276419\"]]},\"xaxis\":{\"gridcolor\":\"white\",\"linecolor\":\"white\",\"ticks\":\"\",\"title\":{\"standoff\":15},\"zerolinecolor\":\"white\",\"automargin\":true,\"zerolinewidth\":2},\"yaxis\":{\"gridcolor\":\"white\",\"linecolor\":\"white\",\"ticks\":\"\",\"title\":{\"standoff\":15},\"zerolinecolor\":\"white\",\"automargin\":true,\"zerolinewidth\":2},\"scene\":{\"xaxis\":{\"backgroundcolor\":\"#E5ECF6\",\"gridcolor\":\"white\",\"linecolor\":\"white\",\"showbackground\":true,\"ticks\":\"\",\"zerolinecolor\":\"white\",\"gridwidth\":2},\"yaxis\":{\"backgroundcolor\":\"#E5ECF6\",\"gridcolor\":\"white\",\"linecolor\":\"white\",\"showbackground\":true,\"ticks\":\"\",\"zerolinecolor\":\"white\",\"gridwidth\":2},\"zaxis\":{\"backgroundcolor\":\"#E5ECF6\",\"gridcolor\":\"white\",\"linecolor\":\"white\",\"showbackground\":true,\"ticks\":\"\",\"zerolinecolor\":\"white\",\"gridwidth\":2}},\"shapedefaults\":{\"line\":{\"color\":\"#2a3f5f\"}},\"annotationdefaults\":{\"arrowcolor\":\"#2a3f5f\",\"arrowhead\":0,\"arrowwidth\":1},\"geo\":{\"bgcolor\":\"white\",\"landcolor\":\"#E5ECF6\",\"subunitcolor\":\"white\",\"showland\":true,\"showlakes\":true,\"lakecolor\":\"white\"},\"title\":{\"x\":0.05},\"mapbox\":{\"style\":\"light\"}}},\"xaxis\":{\"anchor\":\"y\",\"domain\":[0.0,1.0],\"title\":{\"text\":\"H\"}},\"yaxis\":{\"anchor\":\"x\",\"domain\":[0.0,1.0],\"title\":{\"text\":\"VALOR\"}},\"legend\":{\"title\":{\"text\":\"DIA, ESTACION_DESC\"},\"tracegroupgap\":0},\"title\":{\"text\":\"Precipitaciones \"}},                        {\"responsive\": true}                    ).then(function(){\n",
       "                            \n",
       "var gd = document.getElementById('cf23a26d-f59a-44ce-9d63-9ab5de08ca4d');\n",
       "var x = new MutationObserver(function (mutations, observer) {{\n",
       "        var display = window.getComputedStyle(gd).display;\n",
       "        if (!display || display === 'none') {{\n",
       "            console.log([gd, 'removed!']);\n",
       "            Plotly.purge(gd);\n",
       "            observer.disconnect();\n",
       "        }}\n",
       "}});\n",
       "\n",
       "// Listen for the removal of the full notebook cells\n",
       "var notebookContainer = gd.closest('#notebook-container');\n",
       "if (notebookContainer) {{\n",
       "    x.observe(notebookContainer, {childList: true});\n",
       "}}\n",
       "\n",
       "// Listen for the clearing of the current output cell\n",
       "var outputEl = gd.closest('.output');\n",
       "if (outputEl) {{\n",
       "    x.observe(outputEl, {childList: true});\n",
       "}}\n",
       "\n",
       "                        })                };                });            </script>        </div>"
      ]
     },
     "metadata": {},
     "output_type": "display_data"
    }
   ],
   "source": [
    "fig = px.line(precipitaciones.DataFrame(), x=\"H\", y=\"VALOR\", color=\"DIA\", symbol='ESTACION_DESC', title='Precipitaciones ')\n",
    "fig.show()"
   ]
  },
  {
   "cell_type": "markdown",
   "metadata": {},
   "source": [
    "## CALIDAD DEL AIRE"
   ]
  },
  {
   "cell_type": "code",
   "execution_count": 32,
   "metadata": {
    "vscode": {
     "languageId": "sql"
    }
   },
   "outputs": [
    {
     "data": {
      "text/html": [
       "<span style=\"None\">Running query in &#x27;duckdb&#x27;</span>"
      ],
      "text/plain": [
       "Running query in 'duckdb'"
      ]
     },
     "metadata": {},
     "output_type": "display_data"
    }
   ],
   "source": [
    "%%sql \n",
    "nox << \n",
    "select estacion_desc,dia,  h, valor \n",
    "from CALAIR \n",
    "where magnitud = 08\n",
    "and validez = 'V'\n",
    "--and estacion_desc in ['Casa de Campo','Juan Carlos I', 'El Pardo','Peñagrande', 'Plaza Elíptica']\n",
    "order by estacion_desc, h"
   ]
  },
  {
   "cell_type": "code",
   "execution_count": 33,
   "metadata": {},
   "outputs": [
    {
     "data": {
      "application/vnd.plotly.v1+json": {
       "config": {
        "plotlyServerURL": "https://plot.ly"
       },
       "data": [
        {
         "hovertemplate": "DIA=24<br>ESTACION_DESC=Arturo Soria<br>H=%{x}<br>VALOR=%{y}<extra></extra>",
         "legendgroup": "24, Arturo Soria",
         "line": {
          "color": "#636efa",
          "dash": "solid"
         },
         "marker": {
          "symbol": "circle"
         },
         "mode": "lines+markers",
         "name": "24, Arturo Soria",
         "orientation": "v",
         "showlegend": true,
         "type": "scatter",
         "x": [
          1,
          2,
          3,
          4,
          5,
          6,
          7,
          8,
          9,
          10,
          11,
          12,
          13,
          14,
          15,
          16,
          17,
          18,
          19,
          20,
          21,
          22,
          23,
          24
         ],
         "xaxis": "x",
         "y": [
          40,
          28,
          24,
          17,
          13,
          16,
          17,
          25,
          36,
          36,
          36,
          30,
          26,
          23,
          17,
          17,
          16,
          16,
          22,
          32,
          34,
          31,
          31,
          27
         ],
         "yaxis": "y"
        },
        {
         "hovertemplate": "DIA=24<br>ESTACION_DESC=Barrio del Pilar<br>H=%{x}<br>VALOR=%{y}<extra></extra>",
         "legendgroup": "24, Barrio del Pilar",
         "line": {
          "color": "#636efa",
          "dash": "solid"
         },
         "marker": {
          "symbol": "diamond"
         },
         "mode": "lines+markers",
         "name": "24, Barrio del Pilar",
         "orientation": "v",
         "showlegend": true,
         "type": "scatter",
         "x": [
          1,
          2,
          3,
          4,
          5,
          6,
          7,
          8,
          9,
          10,
          11,
          12,
          13,
          14,
          15,
          16,
          17,
          18,
          19,
          20,
          21,
          22,
          23,
          24
         ],
         "xaxis": "x",
         "y": [
          22,
          32,
          15,
          6,
          5,
          15,
          32,
          39,
          49,
          54,
          51,
          42,
          27,
          20,
          22,
          22,
          21,
          25,
          23,
          34,
          39,
          35,
          29,
          22
         ],
         "yaxis": "y"
        },
        {
         "hovertemplate": "DIA=24<br>ESTACION_DESC=Casa de Campo<br>H=%{x}<br>VALOR=%{y}<extra></extra>",
         "legendgroup": "24, Casa de Campo",
         "line": {
          "color": "#636efa",
          "dash": "solid"
         },
         "marker": {
          "symbol": "square"
         },
         "mode": "lines+markers",
         "name": "24, Casa de Campo",
         "orientation": "v",
         "showlegend": true,
         "type": "scatter",
         "x": [
          1,
          2,
          3,
          4,
          5,
          6,
          7,
          8,
          9,
          10,
          11,
          12,
          13,
          14,
          15,
          16,
          17,
          18,
          19,
          20,
          21,
          22,
          23,
          24
         ],
         "xaxis": "x",
         "y": [
          30,
          29,
          21,
          15,
          15,
          24,
          37,
          46,
          47,
          41,
          29,
          28,
          19,
          15,
          12,
          11,
          9,
          10,
          13,
          20,
          19,
          22,
          20,
          22
         ],
         "yaxis": "y"
        },
        {
         "hovertemplate": "DIA=24<br>ESTACION_DESC=Cuatro Caminos<br>H=%{x}<br>VALOR=%{y}<extra></extra>",
         "legendgroup": "24, Cuatro Caminos",
         "line": {
          "color": "#636efa",
          "dash": "solid"
         },
         "marker": {
          "symbol": "x"
         },
         "mode": "lines+markers",
         "name": "24, Cuatro Caminos",
         "orientation": "v",
         "showlegend": true,
         "type": "scatter",
         "x": [
          1,
          2,
          3,
          4,
          5,
          6,
          7,
          8,
          9,
          10,
          11,
          12,
          13,
          14,
          15,
          16,
          17,
          18,
          19,
          20,
          21,
          22,
          23,
          24
         ],
         "xaxis": "x",
         "y": [
          31,
          25,
          10,
          7,
          15,
          26,
          34,
          48,
          57,
          60,
          57,
          41,
          31,
          19,
          18,
          22,
          20,
          23,
          25,
          27,
          30,
          30,
          24,
          20
         ],
         "yaxis": "y"
        },
        {
         "hovertemplate": "DIA=24<br>ESTACION_DESC=El Pardo<br>H=%{x}<br>VALOR=%{y}<extra></extra>",
         "legendgroup": "24, El Pardo",
         "line": {
          "color": "#636efa",
          "dash": "solid"
         },
         "marker": {
          "symbol": "cross"
         },
         "mode": "lines+markers",
         "name": "24, El Pardo",
         "orientation": "v",
         "showlegend": true,
         "type": "scatter",
         "x": [
          1,
          2,
          3,
          4,
          5,
          6,
          7,
          8,
          9,
          10,
          11,
          12,
          13,
          14,
          15,
          16,
          17,
          18,
          19,
          20,
          21,
          22,
          23,
          24
         ],
         "xaxis": "x",
         "y": [
          9,
          6,
          5,
          3,
          3,
          3,
          6,
          15,
          9,
          12,
          16,
          10,
          7,
          7,
          5,
          7,
          6,
          4,
          4,
          12,
          17,
          21,
          18,
          13
         ],
         "yaxis": "y"
        },
        {
         "hovertemplate": "DIA=24<br>ESTACION_DESC=Ensanche de Vallecas<br>H=%{x}<br>VALOR=%{y}<extra></extra>",
         "legendgroup": "24, Ensanche de Vallecas",
         "line": {
          "color": "#636efa",
          "dash": "solid"
         },
         "marker": {
          "symbol": "circle"
         },
         "mode": "lines+markers",
         "name": "24, Ensanche de Vallecas",
         "orientation": "v",
         "showlegend": true,
         "type": "scatter",
         "x": [
          1,
          2,
          3,
          4,
          5,
          6,
          7,
          8,
          9,
          10,
          11,
          12,
          13,
          14,
          15,
          16,
          17,
          18,
          19,
          20,
          21,
          22,
          23,
          24
         ],
         "xaxis": "x",
         "y": [
          49,
          25,
          18,
          22,
          16,
          18,
          27,
          43,
          46,
          48,
          36,
          33,
          27,
          22,
          20,
          20,
          21,
          26,
          29,
          27,
          33,
          35,
          36,
          30
         ],
         "yaxis": "y"
        },
        {
         "hovertemplate": "DIA=24<br>ESTACION_DESC=Escuelas Aguirre<br>H=%{x}<br>VALOR=%{y}<extra></extra>",
         "legendgroup": "24, Escuelas Aguirre",
         "line": {
          "color": "#636efa",
          "dash": "solid"
         },
         "marker": {
          "symbol": "diamond"
         },
         "mode": "lines+markers",
         "name": "24, Escuelas Aguirre",
         "orientation": "v",
         "showlegend": true,
         "type": "scatter",
         "x": [
          1,
          2,
          3,
          4,
          5,
          6,
          7,
          8,
          9,
          10,
          11,
          12,
          13,
          14,
          15,
          16,
          17,
          18,
          19,
          20,
          21,
          22,
          23,
          24
         ],
         "xaxis": "x",
         "y": [
          64,
          58,
          35,
          28,
          36,
          34,
          30,
          53,
          62,
          63,
          65,
          57,
          39,
          33,
          29,
          29,
          27,
          26,
          35,
          40,
          51,
          41,
          36,
          33
         ],
         "yaxis": "y"
        },
        {
         "hovertemplate": "DIA=24<br>ESTACION_DESC=Farolillo<br>H=%{x}<br>VALOR=%{y}<extra></extra>",
         "legendgroup": "24, Farolillo",
         "line": {
          "color": "#636efa",
          "dash": "solid"
         },
         "marker": {
          "symbol": "square"
         },
         "mode": "lines+markers",
         "name": "24, Farolillo",
         "orientation": "v",
         "showlegend": true,
         "type": "scatter",
         "x": [
          1,
          2,
          3,
          4,
          5,
          6,
          7,
          8,
          9,
          10,
          11,
          12,
          13,
          14,
          15,
          16,
          17,
          18,
          19,
          20,
          21,
          22,
          23,
          24
         ],
         "xaxis": "x",
         "y": [
          52,
          45,
          36,
          33,
          28,
          44,
          49,
          57,
          65,
          66,
          47,
          38,
          28,
          20,
          17,
          19,
          16,
          24,
          28,
          35,
          36,
          33,
          29,
          29
         ],
         "yaxis": "y"
        },
        {
         "hovertemplate": "DIA=24<br>ESTACION_DESC=Juan Carlos I<br>H=%{x}<br>VALOR=%{y}<extra></extra>",
         "legendgroup": "24, Juan Carlos I",
         "line": {
          "color": "#636efa",
          "dash": "solid"
         },
         "marker": {
          "symbol": "x"
         },
         "mode": "lines+markers",
         "name": "24, Juan Carlos I",
         "orientation": "v",
         "showlegend": true,
         "type": "scatter",
         "x": [
          1,
          2,
          3,
          4,
          5,
          6,
          7,
          8,
          9,
          10,
          11,
          12,
          13,
          14,
          15,
          16,
          17,
          18,
          19,
          20,
          21,
          22,
          23,
          24
         ],
         "xaxis": "x",
         "y": [
          70,
          44,
          25,
          22,
          46,
          41,
          32,
          34,
          50,
          54,
          50,
          41,
          33,
          24,
          19,
          19,
          13,
          16,
          21,
          28,
          35,
          36,
          38,
          32
         ],
         "yaxis": "y"
        },
        {
         "hovertemplate": "DIA=24<br>ESTACION_DESC=Moratalaz<br>H=%{x}<br>VALOR=%{y}<extra></extra>",
         "legendgroup": "24, Moratalaz",
         "line": {
          "color": "#636efa",
          "dash": "solid"
         },
         "marker": {
          "symbol": "cross"
         },
         "mode": "lines+markers",
         "name": "24, Moratalaz",
         "orientation": "v",
         "showlegend": true,
         "type": "scatter",
         "x": [
          1,
          2,
          3,
          4,
          5,
          6,
          7,
          8,
          9,
          10,
          11,
          12,
          13,
          14,
          15,
          16,
          17,
          18,
          19,
          20,
          21,
          22,
          23,
          24
         ],
         "xaxis": "x",
         "y": [
          55,
          33,
          26,
          21,
          26,
          21,
          23,
          37,
          53,
          54,
          53,
          44,
          33,
          23,
          20,
          22,
          19,
          20,
          28,
          39,
          41,
          44,
          41,
          35
         ],
         "yaxis": "y"
        },
        {
         "hovertemplate": "DIA=24<br>ESTACION_DESC=Plaza Elíptica<br>H=%{x}<br>VALOR=%{y}<extra></extra>",
         "legendgroup": "24, Plaza Elíptica",
         "line": {
          "color": "#636efa",
          "dash": "solid"
         },
         "marker": {
          "symbol": "circle"
         },
         "mode": "lines+markers",
         "name": "24, Plaza Elíptica",
         "orientation": "v",
         "showlegend": true,
         "type": "scatter",
         "x": [
          1,
          2,
          3,
          4,
          5,
          6,
          7,
          8,
          9,
          10,
          11,
          12,
          13,
          14,
          15,
          16,
          17,
          18,
          19,
          20,
          21,
          22,
          23,
          24
         ],
         "xaxis": "x",
         "y": [
          64,
          58,
          49,
          42,
          38,
          42,
          46,
          55,
          65,
          61,
          48,
          33,
          25,
          18,
          22,
          20,
          18,
          24,
          29,
          36,
          38,
          43,
          39,
          38
         ],
         "yaxis": "y"
        },
        {
         "hovertemplate": "DIA=24<br>ESTACION_DESC=Plaza España<br>H=%{x}<br>VALOR=%{y}<extra></extra>",
         "legendgroup": "24, Plaza España",
         "line": {
          "color": "#636efa",
          "dash": "solid"
         },
         "marker": {
          "symbol": "diamond"
         },
         "mode": "lines+markers",
         "name": "24, Plaza España",
         "orientation": "v",
         "showlegend": true,
         "type": "scatter",
         "x": [
          1,
          2,
          3,
          4,
          5,
          6,
          7,
          8,
          9,
          10,
          11,
          12,
          13,
          14,
          15,
          16,
          17,
          18,
          19,
          20,
          21,
          22,
          23,
          24
         ],
         "xaxis": "x",
         "y": [
          44,
          49,
          18,
          14,
          28,
          40,
          40,
          54,
          66,
          70,
          67,
          44,
          42,
          20,
          19,
          19,
          19,
          21,
          22,
          28,
          32,
          31,
          31,
          26
         ],
         "yaxis": "y"
        },
        {
         "hovertemplate": "DIA=24<br>ESTACION_DESC=Plaza del Carmen<br>H=%{x}<br>VALOR=%{y}<extra></extra>",
         "legendgroup": "24, Plaza del Carmen",
         "line": {
          "color": "#636efa",
          "dash": "solid"
         },
         "marker": {
          "symbol": "square"
         },
         "mode": "lines+markers",
         "name": "24, Plaza del Carmen",
         "orientation": "v",
         "showlegend": true,
         "type": "scatter",
         "x": [
          1,
          2,
          3,
          4,
          5,
          6,
          7,
          8,
          9,
          10,
          11,
          12,
          13,
          14,
          15,
          16,
          17,
          18,
          19,
          20,
          21,
          22,
          23,
          24
         ],
         "xaxis": "x",
         "y": [
          56,
          51,
          20,
          22,
          42,
          41,
          39,
          54,
          60,
          62,
          62,
          50,
          34,
          20,
          16,
          16,
          13,
          16,
          21,
          25,
          25,
          24,
          19,
          24
         ],
         "yaxis": "y"
        },
        {
         "hovertemplate": "DIA=25<br>ESTACION_DESC=Arturo Soria<br>H=%{x}<br>VALOR=%{y}<extra></extra>",
         "legendgroup": "25, Arturo Soria",
         "line": {
          "color": "#EF553B",
          "dash": "solid"
         },
         "marker": {
          "symbol": "circle"
         },
         "mode": "lines+markers",
         "name": "25, Arturo Soria",
         "orientation": "v",
         "showlegend": true,
         "type": "scatter",
         "x": [
          1,
          2,
          3,
          4,
          5,
          6,
          7,
          8,
          9
         ],
         "xaxis": "x",
         "y": [
          17,
          8,
          6,
          4,
          5,
          4,
          5,
          8,
          10
         ],
         "yaxis": "y"
        },
        {
         "hovertemplate": "DIA=25<br>ESTACION_DESC=Barrio del Pilar<br>H=%{x}<br>VALOR=%{y}<extra></extra>",
         "legendgroup": "25, Barrio del Pilar",
         "line": {
          "color": "#EF553B",
          "dash": "solid"
         },
         "marker": {
          "symbol": "diamond"
         },
         "mode": "lines+markers",
         "name": "25, Barrio del Pilar",
         "orientation": "v",
         "showlegend": true,
         "type": "scatter",
         "x": [
          1,
          2,
          3,
          4,
          5,
          6,
          7,
          8,
          9
         ],
         "xaxis": "x",
         "y": [
          15,
          7,
          5,
          3,
          3,
          3,
          5,
          7,
          11
         ],
         "yaxis": "y"
        },
        {
         "hovertemplate": "DIA=25<br>ESTACION_DESC=Casa de Campo<br>H=%{x}<br>VALOR=%{y}<extra></extra>",
         "legendgroup": "25, Casa de Campo",
         "line": {
          "color": "#EF553B",
          "dash": "solid"
         },
         "marker": {
          "symbol": "square"
         },
         "mode": "lines+markers",
         "name": "25, Casa de Campo",
         "orientation": "v",
         "showlegend": true,
         "type": "scatter",
         "x": [
          1,
          2,
          3,
          4,
          5,
          6,
          7,
          8,
          9
         ],
         "xaxis": "x",
         "y": [
          16,
          10,
          5,
          5,
          5,
          5,
          6,
          5,
          7
         ],
         "yaxis": "y"
        },
        {
         "hovertemplate": "DIA=25<br>ESTACION_DESC=Cuatro Caminos<br>H=%{x}<br>VALOR=%{y}<extra></extra>",
         "legendgroup": "25, Cuatro Caminos",
         "line": {
          "color": "#EF553B",
          "dash": "solid"
         },
         "marker": {
          "symbol": "x"
         },
         "mode": "lines+markers",
         "name": "25, Cuatro Caminos",
         "orientation": "v",
         "showlegend": true,
         "type": "scatter",
         "x": [
          1,
          2,
          3,
          4,
          5,
          6,
          7,
          8,
          9
         ],
         "xaxis": "x",
         "y": [
          12,
          8,
          5,
          5,
          4,
          5,
          7,
          8,
          11
         ],
         "yaxis": "y"
        },
        {
         "hovertemplate": "DIA=25<br>ESTACION_DESC=El Pardo<br>H=%{x}<br>VALOR=%{y}<extra></extra>",
         "legendgroup": "25, El Pardo",
         "line": {
          "color": "#EF553B",
          "dash": "solid"
         },
         "marker": {
          "symbol": "cross"
         },
         "mode": "lines+markers",
         "name": "25, El Pardo",
         "orientation": "v",
         "showlegend": true,
         "type": "scatter",
         "x": [
          1,
          2,
          3,
          4,
          5,
          6,
          7,
          8,
          9
         ],
         "xaxis": "x",
         "y": [
          9,
          7,
          4,
          3,
          2,
          2,
          2,
          2,
          3
         ],
         "yaxis": "y"
        },
        {
         "hovertemplate": "DIA=25<br>ESTACION_DESC=Ensanche de Vallecas<br>H=%{x}<br>VALOR=%{y}<extra></extra>",
         "legendgroup": "25, Ensanche de Vallecas",
         "line": {
          "color": "#EF553B",
          "dash": "solid"
         },
         "marker": {
          "symbol": "circle"
         },
         "mode": "lines+markers",
         "name": "25, Ensanche de Vallecas",
         "orientation": "v",
         "showlegend": true,
         "type": "scatter",
         "x": [
          1,
          2,
          3,
          4,
          5,
          6,
          7,
          8,
          9
         ],
         "xaxis": "x",
         "y": [
          23,
          13,
          14,
          10,
          7,
          13,
          10,
          11,
          17
         ],
         "yaxis": "y"
        },
        {
         "hovertemplate": "DIA=25<br>ESTACION_DESC=Escuelas Aguirre<br>H=%{x}<br>VALOR=%{y}<extra></extra>",
         "legendgroup": "25, Escuelas Aguirre",
         "line": {
          "color": "#EF553B",
          "dash": "solid"
         },
         "marker": {
          "symbol": "diamond"
         },
         "mode": "lines+markers",
         "name": "25, Escuelas Aguirre",
         "orientation": "v",
         "showlegend": true,
         "type": "scatter",
         "x": [
          1,
          2,
          3,
          4,
          5,
          6,
          7,
          8,
          9
         ],
         "xaxis": "x",
         "y": [
          27,
          15,
          12,
          10,
          9,
          9,
          10,
          13,
          18
         ],
         "yaxis": "y"
        },
        {
         "hovertemplate": "DIA=25<br>ESTACION_DESC=Farolillo<br>H=%{x}<br>VALOR=%{y}<extra></extra>",
         "legendgroup": "25, Farolillo",
         "line": {
          "color": "#EF553B",
          "dash": "solid"
         },
         "marker": {
          "symbol": "square"
         },
         "mode": "lines+markers",
         "name": "25, Farolillo",
         "orientation": "v",
         "showlegend": true,
         "type": "scatter",
         "x": [
          1,
          2,
          3,
          4,
          5,
          6,
          7,
          8,
          9
         ],
         "xaxis": "x",
         "y": [
          15,
          8,
          5,
          4,
          4,
          4,
          6,
          9,
          16
         ],
         "yaxis": "y"
        },
        {
         "hovertemplate": "DIA=25<br>ESTACION_DESC=Juan Carlos I<br>H=%{x}<br>VALOR=%{y}<extra></extra>",
         "legendgroup": "25, Juan Carlos I",
         "line": {
          "color": "#EF553B",
          "dash": "solid"
         },
         "marker": {
          "symbol": "x"
         },
         "mode": "lines+markers",
         "name": "25, Juan Carlos I",
         "orientation": "v",
         "showlegend": true,
         "type": "scatter",
         "x": [
          1,
          2,
          3,
          4,
          5,
          6,
          7,
          8,
          9
         ],
         "xaxis": "x",
         "y": [
          24,
          12,
          7,
          5,
          5,
          5,
          6,
          10,
          13
         ],
         "yaxis": "y"
        },
        {
         "hovertemplate": "DIA=25<br>ESTACION_DESC=Moratalaz<br>H=%{x}<br>VALOR=%{y}<extra></extra>",
         "legendgroup": "25, Moratalaz",
         "line": {
          "color": "#EF553B",
          "dash": "solid"
         },
         "marker": {
          "symbol": "cross"
         },
         "mode": "lines+markers",
         "name": "25, Moratalaz",
         "orientation": "v",
         "showlegend": true,
         "type": "scatter",
         "x": [
          1,
          2,
          3,
          4,
          5,
          6,
          7,
          8,
          9
         ],
         "xaxis": "x",
         "y": [
          25,
          17,
          10,
          5,
          7,
          5,
          7,
          11,
          18
         ],
         "yaxis": "y"
        },
        {
         "hovertemplate": "DIA=25<br>ESTACION_DESC=Plaza Elíptica<br>H=%{x}<br>VALOR=%{y}<extra></extra>",
         "legendgroup": "25, Plaza Elíptica",
         "line": {
          "color": "#EF553B",
          "dash": "solid"
         },
         "marker": {
          "symbol": "circle"
         },
         "mode": "lines+markers",
         "name": "25, Plaza Elíptica",
         "orientation": "v",
         "showlegend": true,
         "type": "scatter",
         "x": [
          1,
          2,
          3,
          4,
          5,
          6,
          7,
          8,
          9
         ],
         "xaxis": "x",
         "y": [
          18,
          11,
          6,
          4,
          4,
          5,
          6,
          11,
          15
         ],
         "yaxis": "y"
        },
        {
         "hovertemplate": "DIA=25<br>ESTACION_DESC=Plaza España<br>H=%{x}<br>VALOR=%{y}<extra></extra>",
         "legendgroup": "25, Plaza España",
         "line": {
          "color": "#EF553B",
          "dash": "solid"
         },
         "marker": {
          "symbol": "diamond"
         },
         "mode": "lines+markers",
         "name": "25, Plaza España",
         "orientation": "v",
         "showlegend": true,
         "type": "scatter",
         "x": [
          1,
          2,
          3,
          4,
          5,
          6,
          7,
          8,
          9
         ],
         "xaxis": "x",
         "y": [
          17,
          8,
          6,
          6,
          6,
          5,
          7,
          9,
          16
         ],
         "yaxis": "y"
        },
        {
         "hovertemplate": "DIA=25<br>ESTACION_DESC=Plaza del Carmen<br>H=%{x}<br>VALOR=%{y}<extra></extra>",
         "legendgroup": "25, Plaza del Carmen",
         "line": {
          "color": "#EF553B",
          "dash": "solid"
         },
         "marker": {
          "symbol": "square"
         },
         "mode": "lines+markers",
         "name": "25, Plaza del Carmen",
         "orientation": "v",
         "showlegend": true,
         "type": "scatter",
         "x": [
          1,
          2,
          3,
          4,
          5,
          6,
          7,
          8,
          9
         ],
         "xaxis": "x",
         "y": [
          15,
          8,
          7,
          5,
          4,
          4,
          5,
          8,
          11
         ],
         "yaxis": "y"
        }
       ],
       "layout": {
        "legend": {
         "title": {
          "text": "DIA, ESTACION_DESC"
         },
         "tracegroupgap": 0
        },
        "template": {
         "data": {
          "bar": [
           {
            "error_x": {
             "color": "#2a3f5f"
            },
            "error_y": {
             "color": "#2a3f5f"
            },
            "marker": {
             "line": {
              "color": "#E5ECF6",
              "width": 0.5
             },
             "pattern": {
              "fillmode": "overlay",
              "size": 10,
              "solidity": 0.2
             }
            },
            "type": "bar"
           }
          ],
          "barpolar": [
           {
            "marker": {
             "line": {
              "color": "#E5ECF6",
              "width": 0.5
             },
             "pattern": {
              "fillmode": "overlay",
              "size": 10,
              "solidity": 0.2
             }
            },
            "type": "barpolar"
           }
          ],
          "carpet": [
           {
            "aaxis": {
             "endlinecolor": "#2a3f5f",
             "gridcolor": "white",
             "linecolor": "white",
             "minorgridcolor": "white",
             "startlinecolor": "#2a3f5f"
            },
            "baxis": {
             "endlinecolor": "#2a3f5f",
             "gridcolor": "white",
             "linecolor": "white",
             "minorgridcolor": "white",
             "startlinecolor": "#2a3f5f"
            },
            "type": "carpet"
           }
          ],
          "choropleth": [
           {
            "colorbar": {
             "outlinewidth": 0,
             "ticks": ""
            },
            "type": "choropleth"
           }
          ],
          "contour": [
           {
            "colorbar": {
             "outlinewidth": 0,
             "ticks": ""
            },
            "colorscale": [
             [
              0,
              "#0d0887"
             ],
             [
              0.1111111111111111,
              "#46039f"
             ],
             [
              0.2222222222222222,
              "#7201a8"
             ],
             [
              0.3333333333333333,
              "#9c179e"
             ],
             [
              0.4444444444444444,
              "#bd3786"
             ],
             [
              0.5555555555555556,
              "#d8576b"
             ],
             [
              0.6666666666666666,
              "#ed7953"
             ],
             [
              0.7777777777777778,
              "#fb9f3a"
             ],
             [
              0.8888888888888888,
              "#fdca26"
             ],
             [
              1,
              "#f0f921"
             ]
            ],
            "type": "contour"
           }
          ],
          "contourcarpet": [
           {
            "colorbar": {
             "outlinewidth": 0,
             "ticks": ""
            },
            "type": "contourcarpet"
           }
          ],
          "heatmap": [
           {
            "colorbar": {
             "outlinewidth": 0,
             "ticks": ""
            },
            "colorscale": [
             [
              0,
              "#0d0887"
             ],
             [
              0.1111111111111111,
              "#46039f"
             ],
             [
              0.2222222222222222,
              "#7201a8"
             ],
             [
              0.3333333333333333,
              "#9c179e"
             ],
             [
              0.4444444444444444,
              "#bd3786"
             ],
             [
              0.5555555555555556,
              "#d8576b"
             ],
             [
              0.6666666666666666,
              "#ed7953"
             ],
             [
              0.7777777777777778,
              "#fb9f3a"
             ],
             [
              0.8888888888888888,
              "#fdca26"
             ],
             [
              1,
              "#f0f921"
             ]
            ],
            "type": "heatmap"
           }
          ],
          "heatmapgl": [
           {
            "colorbar": {
             "outlinewidth": 0,
             "ticks": ""
            },
            "colorscale": [
             [
              0,
              "#0d0887"
             ],
             [
              0.1111111111111111,
              "#46039f"
             ],
             [
              0.2222222222222222,
              "#7201a8"
             ],
             [
              0.3333333333333333,
              "#9c179e"
             ],
             [
              0.4444444444444444,
              "#bd3786"
             ],
             [
              0.5555555555555556,
              "#d8576b"
             ],
             [
              0.6666666666666666,
              "#ed7953"
             ],
             [
              0.7777777777777778,
              "#fb9f3a"
             ],
             [
              0.8888888888888888,
              "#fdca26"
             ],
             [
              1,
              "#f0f921"
             ]
            ],
            "type": "heatmapgl"
           }
          ],
          "histogram": [
           {
            "marker": {
             "pattern": {
              "fillmode": "overlay",
              "size": 10,
              "solidity": 0.2
             }
            },
            "type": "histogram"
           }
          ],
          "histogram2d": [
           {
            "colorbar": {
             "outlinewidth": 0,
             "ticks": ""
            },
            "colorscale": [
             [
              0,
              "#0d0887"
             ],
             [
              0.1111111111111111,
              "#46039f"
             ],
             [
              0.2222222222222222,
              "#7201a8"
             ],
             [
              0.3333333333333333,
              "#9c179e"
             ],
             [
              0.4444444444444444,
              "#bd3786"
             ],
             [
              0.5555555555555556,
              "#d8576b"
             ],
             [
              0.6666666666666666,
              "#ed7953"
             ],
             [
              0.7777777777777778,
              "#fb9f3a"
             ],
             [
              0.8888888888888888,
              "#fdca26"
             ],
             [
              1,
              "#f0f921"
             ]
            ],
            "type": "histogram2d"
           }
          ],
          "histogram2dcontour": [
           {
            "colorbar": {
             "outlinewidth": 0,
             "ticks": ""
            },
            "colorscale": [
             [
              0,
              "#0d0887"
             ],
             [
              0.1111111111111111,
              "#46039f"
             ],
             [
              0.2222222222222222,
              "#7201a8"
             ],
             [
              0.3333333333333333,
              "#9c179e"
             ],
             [
              0.4444444444444444,
              "#bd3786"
             ],
             [
              0.5555555555555556,
              "#d8576b"
             ],
             [
              0.6666666666666666,
              "#ed7953"
             ],
             [
              0.7777777777777778,
              "#fb9f3a"
             ],
             [
              0.8888888888888888,
              "#fdca26"
             ],
             [
              1,
              "#f0f921"
             ]
            ],
            "type": "histogram2dcontour"
           }
          ],
          "mesh3d": [
           {
            "colorbar": {
             "outlinewidth": 0,
             "ticks": ""
            },
            "type": "mesh3d"
           }
          ],
          "parcoords": [
           {
            "line": {
             "colorbar": {
              "outlinewidth": 0,
              "ticks": ""
             }
            },
            "type": "parcoords"
           }
          ],
          "pie": [
           {
            "automargin": true,
            "type": "pie"
           }
          ],
          "scatter": [
           {
            "fillpattern": {
             "fillmode": "overlay",
             "size": 10,
             "solidity": 0.2
            },
            "type": "scatter"
           }
          ],
          "scatter3d": [
           {
            "line": {
             "colorbar": {
              "outlinewidth": 0,
              "ticks": ""
             }
            },
            "marker": {
             "colorbar": {
              "outlinewidth": 0,
              "ticks": ""
             }
            },
            "type": "scatter3d"
           }
          ],
          "scattercarpet": [
           {
            "marker": {
             "colorbar": {
              "outlinewidth": 0,
              "ticks": ""
             }
            },
            "type": "scattercarpet"
           }
          ],
          "scattergeo": [
           {
            "marker": {
             "colorbar": {
              "outlinewidth": 0,
              "ticks": ""
             }
            },
            "type": "scattergeo"
           }
          ],
          "scattergl": [
           {
            "marker": {
             "colorbar": {
              "outlinewidth": 0,
              "ticks": ""
             }
            },
            "type": "scattergl"
           }
          ],
          "scattermapbox": [
           {
            "marker": {
             "colorbar": {
              "outlinewidth": 0,
              "ticks": ""
             }
            },
            "type": "scattermapbox"
           }
          ],
          "scatterpolar": [
           {
            "marker": {
             "colorbar": {
              "outlinewidth": 0,
              "ticks": ""
             }
            },
            "type": "scatterpolar"
           }
          ],
          "scatterpolargl": [
           {
            "marker": {
             "colorbar": {
              "outlinewidth": 0,
              "ticks": ""
             }
            },
            "type": "scatterpolargl"
           }
          ],
          "scatterternary": [
           {
            "marker": {
             "colorbar": {
              "outlinewidth": 0,
              "ticks": ""
             }
            },
            "type": "scatterternary"
           }
          ],
          "surface": [
           {
            "colorbar": {
             "outlinewidth": 0,
             "ticks": ""
            },
            "colorscale": [
             [
              0,
              "#0d0887"
             ],
             [
              0.1111111111111111,
              "#46039f"
             ],
             [
              0.2222222222222222,
              "#7201a8"
             ],
             [
              0.3333333333333333,
              "#9c179e"
             ],
             [
              0.4444444444444444,
              "#bd3786"
             ],
             [
              0.5555555555555556,
              "#d8576b"
             ],
             [
              0.6666666666666666,
              "#ed7953"
             ],
             [
              0.7777777777777778,
              "#fb9f3a"
             ],
             [
              0.8888888888888888,
              "#fdca26"
             ],
             [
              1,
              "#f0f921"
             ]
            ],
            "type": "surface"
           }
          ],
          "table": [
           {
            "cells": {
             "fill": {
              "color": "#EBF0F8"
             },
             "line": {
              "color": "white"
             }
            },
            "header": {
             "fill": {
              "color": "#C8D4E3"
             },
             "line": {
              "color": "white"
             }
            },
            "type": "table"
           }
          ]
         },
         "layout": {
          "annotationdefaults": {
           "arrowcolor": "#2a3f5f",
           "arrowhead": 0,
           "arrowwidth": 1
          },
          "autotypenumbers": "strict",
          "coloraxis": {
           "colorbar": {
            "outlinewidth": 0,
            "ticks": ""
           }
          },
          "colorscale": {
           "diverging": [
            [
             0,
             "#8e0152"
            ],
            [
             0.1,
             "#c51b7d"
            ],
            [
             0.2,
             "#de77ae"
            ],
            [
             0.3,
             "#f1b6da"
            ],
            [
             0.4,
             "#fde0ef"
            ],
            [
             0.5,
             "#f7f7f7"
            ],
            [
             0.6,
             "#e6f5d0"
            ],
            [
             0.7,
             "#b8e186"
            ],
            [
             0.8,
             "#7fbc41"
            ],
            [
             0.9,
             "#4d9221"
            ],
            [
             1,
             "#276419"
            ]
           ],
           "sequential": [
            [
             0,
             "#0d0887"
            ],
            [
             0.1111111111111111,
             "#46039f"
            ],
            [
             0.2222222222222222,
             "#7201a8"
            ],
            [
             0.3333333333333333,
             "#9c179e"
            ],
            [
             0.4444444444444444,
             "#bd3786"
            ],
            [
             0.5555555555555556,
             "#d8576b"
            ],
            [
             0.6666666666666666,
             "#ed7953"
            ],
            [
             0.7777777777777778,
             "#fb9f3a"
            ],
            [
             0.8888888888888888,
             "#fdca26"
            ],
            [
             1,
             "#f0f921"
            ]
           ],
           "sequentialminus": [
            [
             0,
             "#0d0887"
            ],
            [
             0.1111111111111111,
             "#46039f"
            ],
            [
             0.2222222222222222,
             "#7201a8"
            ],
            [
             0.3333333333333333,
             "#9c179e"
            ],
            [
             0.4444444444444444,
             "#bd3786"
            ],
            [
             0.5555555555555556,
             "#d8576b"
            ],
            [
             0.6666666666666666,
             "#ed7953"
            ],
            [
             0.7777777777777778,
             "#fb9f3a"
            ],
            [
             0.8888888888888888,
             "#fdca26"
            ],
            [
             1,
             "#f0f921"
            ]
           ]
          },
          "colorway": [
           "#636efa",
           "#EF553B",
           "#00cc96",
           "#ab63fa",
           "#FFA15A",
           "#19d3f3",
           "#FF6692",
           "#B6E880",
           "#FF97FF",
           "#FECB52"
          ],
          "font": {
           "color": "#2a3f5f"
          },
          "geo": {
           "bgcolor": "white",
           "lakecolor": "white",
           "landcolor": "#E5ECF6",
           "showlakes": true,
           "showland": true,
           "subunitcolor": "white"
          },
          "hoverlabel": {
           "align": "left"
          },
          "hovermode": "closest",
          "mapbox": {
           "style": "light"
          },
          "paper_bgcolor": "white",
          "plot_bgcolor": "#E5ECF6",
          "polar": {
           "angularaxis": {
            "gridcolor": "white",
            "linecolor": "white",
            "ticks": ""
           },
           "bgcolor": "#E5ECF6",
           "radialaxis": {
            "gridcolor": "white",
            "linecolor": "white",
            "ticks": ""
           }
          },
          "scene": {
           "xaxis": {
            "backgroundcolor": "#E5ECF6",
            "gridcolor": "white",
            "gridwidth": 2,
            "linecolor": "white",
            "showbackground": true,
            "ticks": "",
            "zerolinecolor": "white"
           },
           "yaxis": {
            "backgroundcolor": "#E5ECF6",
            "gridcolor": "white",
            "gridwidth": 2,
            "linecolor": "white",
            "showbackground": true,
            "ticks": "",
            "zerolinecolor": "white"
           },
           "zaxis": {
            "backgroundcolor": "#E5ECF6",
            "gridcolor": "white",
            "gridwidth": 2,
            "linecolor": "white",
            "showbackground": true,
            "ticks": "",
            "zerolinecolor": "white"
           }
          },
          "shapedefaults": {
           "line": {
            "color": "#2a3f5f"
           }
          },
          "ternary": {
           "aaxis": {
            "gridcolor": "white",
            "linecolor": "white",
            "ticks": ""
           },
           "baxis": {
            "gridcolor": "white",
            "linecolor": "white",
            "ticks": ""
           },
           "bgcolor": "#E5ECF6",
           "caxis": {
            "gridcolor": "white",
            "linecolor": "white",
            "ticks": ""
           }
          },
          "title": {
           "x": 0.05
          },
          "xaxis": {
           "automargin": true,
           "gridcolor": "white",
           "linecolor": "white",
           "ticks": "",
           "title": {
            "standoff": 15
           },
           "zerolinecolor": "white",
           "zerolinewidth": 2
          },
          "yaxis": {
           "automargin": true,
           "gridcolor": "white",
           "linecolor": "white",
           "ticks": "",
           "title": {
            "standoff": 15
           },
           "zerolinecolor": "white",
           "zerolinewidth": 2
          }
         }
        },
        "title": {
         "text": "NO2 "
        },
        "xaxis": {
         "anchor": "y",
         "domain": [
          0,
          1
         ],
         "title": {
          "text": "H"
         }
        },
        "yaxis": {
         "anchor": "x",
         "domain": [
          0,
          1
         ],
         "title": {
          "text": "VALOR"
         }
        }
       }
      },
      "text/html": [
       "<div>                            <div id=\"15e86c4a-02ea-4fcc-9009-b412bebbd1d1\" class=\"plotly-graph-div\" style=\"height:525px; width:100%;\"></div>            <script type=\"text/javascript\">                require([\"plotly\"], function(Plotly) {                    window.PLOTLYENV=window.PLOTLYENV || {};                                    if (document.getElementById(\"15e86c4a-02ea-4fcc-9009-b412bebbd1d1\")) {                    Plotly.newPlot(                        \"15e86c4a-02ea-4fcc-9009-b412bebbd1d1\",                        [{\"hovertemplate\":\"DIA=24\\u003cbr\\u003eESTACION_DESC=Arturo Soria\\u003cbr\\u003eH=%{x}\\u003cbr\\u003eVALOR=%{y}\\u003cextra\\u003e\\u003c\\u002fextra\\u003e\",\"legendgroup\":\"24, Arturo Soria\",\"line\":{\"color\":\"#636efa\",\"dash\":\"solid\"},\"marker\":{\"symbol\":\"circle\"},\"mode\":\"lines+markers\",\"name\":\"24, Arturo Soria\",\"orientation\":\"v\",\"showlegend\":true,\"x\":[1,2,3,4,5,6,7,8,9,10,11,12,13,14,15,16,17,18,19,20,21,22,23,24],\"xaxis\":\"x\",\"y\":[40.0,28.0,24.0,17.0,13.0,16.0,17.0,25.0,36.0,36.0,36.0,30.0,26.0,23.0,17.0,17.0,16.0,16.0,22.0,32.0,34.0,31.0,31.0,27.0],\"yaxis\":\"y\",\"type\":\"scatter\"},{\"hovertemplate\":\"DIA=24\\u003cbr\\u003eESTACION_DESC=Barrio del Pilar\\u003cbr\\u003eH=%{x}\\u003cbr\\u003eVALOR=%{y}\\u003cextra\\u003e\\u003c\\u002fextra\\u003e\",\"legendgroup\":\"24, Barrio del Pilar\",\"line\":{\"color\":\"#636efa\",\"dash\":\"solid\"},\"marker\":{\"symbol\":\"diamond\"},\"mode\":\"lines+markers\",\"name\":\"24, Barrio del Pilar\",\"orientation\":\"v\",\"showlegend\":true,\"x\":[1,2,3,4,5,6,7,8,9,10,11,12,13,14,15,16,17,18,19,20,21,22,23,24],\"xaxis\":\"x\",\"y\":[22.0,32.0,15.0,6.0,5.0,15.0,32.0,39.0,49.0,54.0,51.0,42.0,27.0,20.0,22.0,22.0,21.0,25.0,23.0,34.0,39.0,35.0,29.0,22.0],\"yaxis\":\"y\",\"type\":\"scatter\"},{\"hovertemplate\":\"DIA=24\\u003cbr\\u003eESTACION_DESC=Casa de Campo\\u003cbr\\u003eH=%{x}\\u003cbr\\u003eVALOR=%{y}\\u003cextra\\u003e\\u003c\\u002fextra\\u003e\",\"legendgroup\":\"24, Casa de Campo\",\"line\":{\"color\":\"#636efa\",\"dash\":\"solid\"},\"marker\":{\"symbol\":\"square\"},\"mode\":\"lines+markers\",\"name\":\"24, Casa de Campo\",\"orientation\":\"v\",\"showlegend\":true,\"x\":[1,2,3,4,5,6,7,8,9,10,11,12,13,14,15,16,17,18,19,20,21,22,23,24],\"xaxis\":\"x\",\"y\":[30.0,29.0,21.0,15.0,15.0,24.0,37.0,46.0,47.0,41.0,29.0,28.0,19.0,15.0,12.0,11.0,9.0,10.0,13.0,20.0,19.0,22.0,20.0,22.0],\"yaxis\":\"y\",\"type\":\"scatter\"},{\"hovertemplate\":\"DIA=24\\u003cbr\\u003eESTACION_DESC=Cuatro Caminos\\u003cbr\\u003eH=%{x}\\u003cbr\\u003eVALOR=%{y}\\u003cextra\\u003e\\u003c\\u002fextra\\u003e\",\"legendgroup\":\"24, Cuatro Caminos\",\"line\":{\"color\":\"#636efa\",\"dash\":\"solid\"},\"marker\":{\"symbol\":\"x\"},\"mode\":\"lines+markers\",\"name\":\"24, Cuatro Caminos\",\"orientation\":\"v\",\"showlegend\":true,\"x\":[1,2,3,4,5,6,7,8,9,10,11,12,13,14,15,16,17,18,19,20,21,22,23,24],\"xaxis\":\"x\",\"y\":[31.0,25.0,10.0,7.0,15.0,26.0,34.0,48.0,57.0,60.0,57.0,41.0,31.0,19.0,18.0,22.0,20.0,23.0,25.0,27.0,30.0,30.0,24.0,20.0],\"yaxis\":\"y\",\"type\":\"scatter\"},{\"hovertemplate\":\"DIA=24\\u003cbr\\u003eESTACION_DESC=El Pardo\\u003cbr\\u003eH=%{x}\\u003cbr\\u003eVALOR=%{y}\\u003cextra\\u003e\\u003c\\u002fextra\\u003e\",\"legendgroup\":\"24, El Pardo\",\"line\":{\"color\":\"#636efa\",\"dash\":\"solid\"},\"marker\":{\"symbol\":\"cross\"},\"mode\":\"lines+markers\",\"name\":\"24, El Pardo\",\"orientation\":\"v\",\"showlegend\":true,\"x\":[1,2,3,4,5,6,7,8,9,10,11,12,13,14,15,16,17,18,19,20,21,22,23,24],\"xaxis\":\"x\",\"y\":[9.0,6.0,5.0,3.0,3.0,3.0,6.0,15.0,9.0,12.0,16.0,10.0,7.0,7.0,5.0,7.0,6.0,4.0,4.0,12.0,17.0,21.0,18.0,13.0],\"yaxis\":\"y\",\"type\":\"scatter\"},{\"hovertemplate\":\"DIA=24\\u003cbr\\u003eESTACION_DESC=Ensanche de Vallecas\\u003cbr\\u003eH=%{x}\\u003cbr\\u003eVALOR=%{y}\\u003cextra\\u003e\\u003c\\u002fextra\\u003e\",\"legendgroup\":\"24, Ensanche de Vallecas\",\"line\":{\"color\":\"#636efa\",\"dash\":\"solid\"},\"marker\":{\"symbol\":\"circle\"},\"mode\":\"lines+markers\",\"name\":\"24, Ensanche de Vallecas\",\"orientation\":\"v\",\"showlegend\":true,\"x\":[1,2,3,4,5,6,7,8,9,10,11,12,13,14,15,16,17,18,19,20,21,22,23,24],\"xaxis\":\"x\",\"y\":[49.0,25.0,18.0,22.0,16.0,18.0,27.0,43.0,46.0,48.0,36.0,33.0,27.0,22.0,20.0,20.0,21.0,26.0,29.0,27.0,33.0,35.0,36.0,30.0],\"yaxis\":\"y\",\"type\":\"scatter\"},{\"hovertemplate\":\"DIA=24\\u003cbr\\u003eESTACION_DESC=Escuelas Aguirre\\u003cbr\\u003eH=%{x}\\u003cbr\\u003eVALOR=%{y}\\u003cextra\\u003e\\u003c\\u002fextra\\u003e\",\"legendgroup\":\"24, Escuelas Aguirre\",\"line\":{\"color\":\"#636efa\",\"dash\":\"solid\"},\"marker\":{\"symbol\":\"diamond\"},\"mode\":\"lines+markers\",\"name\":\"24, Escuelas Aguirre\",\"orientation\":\"v\",\"showlegend\":true,\"x\":[1,2,3,4,5,6,7,8,9,10,11,12,13,14,15,16,17,18,19,20,21,22,23,24],\"xaxis\":\"x\",\"y\":[64.0,58.0,35.0,28.0,36.0,34.0,30.0,53.0,62.0,63.0,65.0,57.0,39.0,33.0,29.0,29.0,27.0,26.0,35.0,40.0,51.0,41.0,36.0,33.0],\"yaxis\":\"y\",\"type\":\"scatter\"},{\"hovertemplate\":\"DIA=24\\u003cbr\\u003eESTACION_DESC=Farolillo\\u003cbr\\u003eH=%{x}\\u003cbr\\u003eVALOR=%{y}\\u003cextra\\u003e\\u003c\\u002fextra\\u003e\",\"legendgroup\":\"24, Farolillo\",\"line\":{\"color\":\"#636efa\",\"dash\":\"solid\"},\"marker\":{\"symbol\":\"square\"},\"mode\":\"lines+markers\",\"name\":\"24, Farolillo\",\"orientation\":\"v\",\"showlegend\":true,\"x\":[1,2,3,4,5,6,7,8,9,10,11,12,13,14,15,16,17,18,19,20,21,22,23,24],\"xaxis\":\"x\",\"y\":[52.0,45.0,36.0,33.0,28.0,44.0,49.0,57.0,65.0,66.0,47.0,38.0,28.0,20.0,17.0,19.0,16.0,24.0,28.0,35.0,36.0,33.0,29.0,29.0],\"yaxis\":\"y\",\"type\":\"scatter\"},{\"hovertemplate\":\"DIA=24\\u003cbr\\u003eESTACION_DESC=Juan Carlos I\\u003cbr\\u003eH=%{x}\\u003cbr\\u003eVALOR=%{y}\\u003cextra\\u003e\\u003c\\u002fextra\\u003e\",\"legendgroup\":\"24, Juan Carlos I\",\"line\":{\"color\":\"#636efa\",\"dash\":\"solid\"},\"marker\":{\"symbol\":\"x\"},\"mode\":\"lines+markers\",\"name\":\"24, Juan Carlos I\",\"orientation\":\"v\",\"showlegend\":true,\"x\":[1,2,3,4,5,6,7,8,9,10,11,12,13,14,15,16,17,18,19,20,21,22,23,24],\"xaxis\":\"x\",\"y\":[70.0,44.0,25.0,22.0,46.0,41.0,32.0,34.0,50.0,54.0,50.0,41.0,33.0,24.0,19.0,19.0,13.0,16.0,21.0,28.0,35.0,36.0,38.0,32.0],\"yaxis\":\"y\",\"type\":\"scatter\"},{\"hovertemplate\":\"DIA=24\\u003cbr\\u003eESTACION_DESC=Moratalaz\\u003cbr\\u003eH=%{x}\\u003cbr\\u003eVALOR=%{y}\\u003cextra\\u003e\\u003c\\u002fextra\\u003e\",\"legendgroup\":\"24, Moratalaz\",\"line\":{\"color\":\"#636efa\",\"dash\":\"solid\"},\"marker\":{\"symbol\":\"cross\"},\"mode\":\"lines+markers\",\"name\":\"24, Moratalaz\",\"orientation\":\"v\",\"showlegend\":true,\"x\":[1,2,3,4,5,6,7,8,9,10,11,12,13,14,15,16,17,18,19,20,21,22,23,24],\"xaxis\":\"x\",\"y\":[55.0,33.0,26.0,21.0,26.0,21.0,23.0,37.0,53.0,54.0,53.0,44.0,33.0,23.0,20.0,22.0,19.0,20.0,28.0,39.0,41.0,44.0,41.0,35.0],\"yaxis\":\"y\",\"type\":\"scatter\"},{\"hovertemplate\":\"DIA=24\\u003cbr\\u003eESTACION_DESC=Plaza El\\u00edptica\\u003cbr\\u003eH=%{x}\\u003cbr\\u003eVALOR=%{y}\\u003cextra\\u003e\\u003c\\u002fextra\\u003e\",\"legendgroup\":\"24, Plaza El\\u00edptica\",\"line\":{\"color\":\"#636efa\",\"dash\":\"solid\"},\"marker\":{\"symbol\":\"circle\"},\"mode\":\"lines+markers\",\"name\":\"24, Plaza El\\u00edptica\",\"orientation\":\"v\",\"showlegend\":true,\"x\":[1,2,3,4,5,6,7,8,9,10,11,12,13,14,15,16,17,18,19,20,21,22,23,24],\"xaxis\":\"x\",\"y\":[64.0,58.0,49.0,42.0,38.0,42.0,46.0,55.0,65.0,61.0,48.0,33.0,25.0,18.0,22.0,20.0,18.0,24.0,29.0,36.0,38.0,43.0,39.0,38.0],\"yaxis\":\"y\",\"type\":\"scatter\"},{\"hovertemplate\":\"DIA=24\\u003cbr\\u003eESTACION_DESC=Plaza Espa\\u00f1a\\u003cbr\\u003eH=%{x}\\u003cbr\\u003eVALOR=%{y}\\u003cextra\\u003e\\u003c\\u002fextra\\u003e\",\"legendgroup\":\"24, Plaza Espa\\u00f1a\",\"line\":{\"color\":\"#636efa\",\"dash\":\"solid\"},\"marker\":{\"symbol\":\"diamond\"},\"mode\":\"lines+markers\",\"name\":\"24, Plaza Espa\\u00f1a\",\"orientation\":\"v\",\"showlegend\":true,\"x\":[1,2,3,4,5,6,7,8,9,10,11,12,13,14,15,16,17,18,19,20,21,22,23,24],\"xaxis\":\"x\",\"y\":[44.0,49.0,18.0,14.0,28.0,40.0,40.0,54.0,66.0,70.0,67.0,44.0,42.0,20.0,19.0,19.0,19.0,21.0,22.0,28.0,32.0,31.0,31.0,26.0],\"yaxis\":\"y\",\"type\":\"scatter\"},{\"hovertemplate\":\"DIA=24\\u003cbr\\u003eESTACION_DESC=Plaza del Carmen\\u003cbr\\u003eH=%{x}\\u003cbr\\u003eVALOR=%{y}\\u003cextra\\u003e\\u003c\\u002fextra\\u003e\",\"legendgroup\":\"24, Plaza del Carmen\",\"line\":{\"color\":\"#636efa\",\"dash\":\"solid\"},\"marker\":{\"symbol\":\"square\"},\"mode\":\"lines+markers\",\"name\":\"24, Plaza del Carmen\",\"orientation\":\"v\",\"showlegend\":true,\"x\":[1,2,3,4,5,6,7,8,9,10,11,12,13,14,15,16,17,18,19,20,21,22,23,24],\"xaxis\":\"x\",\"y\":[56.0,51.0,20.0,22.0,42.0,41.0,39.0,54.0,60.0,62.0,62.0,50.0,34.0,20.0,16.0,16.0,13.0,16.0,21.0,25.0,25.0,24.0,19.0,24.0],\"yaxis\":\"y\",\"type\":\"scatter\"},{\"hovertemplate\":\"DIA=25\\u003cbr\\u003eESTACION_DESC=Arturo Soria\\u003cbr\\u003eH=%{x}\\u003cbr\\u003eVALOR=%{y}\\u003cextra\\u003e\\u003c\\u002fextra\\u003e\",\"legendgroup\":\"25, Arturo Soria\",\"line\":{\"color\":\"#EF553B\",\"dash\":\"solid\"},\"marker\":{\"symbol\":\"circle\"},\"mode\":\"lines+markers\",\"name\":\"25, Arturo Soria\",\"orientation\":\"v\",\"showlegend\":true,\"x\":[1,2,3,4,5,6,7,8,9],\"xaxis\":\"x\",\"y\":[17.0,8.0,6.0,4.0,5.0,4.0,5.0,8.0,10.0],\"yaxis\":\"y\",\"type\":\"scatter\"},{\"hovertemplate\":\"DIA=25\\u003cbr\\u003eESTACION_DESC=Barrio del Pilar\\u003cbr\\u003eH=%{x}\\u003cbr\\u003eVALOR=%{y}\\u003cextra\\u003e\\u003c\\u002fextra\\u003e\",\"legendgroup\":\"25, Barrio del Pilar\",\"line\":{\"color\":\"#EF553B\",\"dash\":\"solid\"},\"marker\":{\"symbol\":\"diamond\"},\"mode\":\"lines+markers\",\"name\":\"25, Barrio del Pilar\",\"orientation\":\"v\",\"showlegend\":true,\"x\":[1,2,3,4,5,6,7,8,9],\"xaxis\":\"x\",\"y\":[15.0,7.0,5.0,3.0,3.0,3.0,5.0,7.0,11.0],\"yaxis\":\"y\",\"type\":\"scatter\"},{\"hovertemplate\":\"DIA=25\\u003cbr\\u003eESTACION_DESC=Casa de Campo\\u003cbr\\u003eH=%{x}\\u003cbr\\u003eVALOR=%{y}\\u003cextra\\u003e\\u003c\\u002fextra\\u003e\",\"legendgroup\":\"25, Casa de Campo\",\"line\":{\"color\":\"#EF553B\",\"dash\":\"solid\"},\"marker\":{\"symbol\":\"square\"},\"mode\":\"lines+markers\",\"name\":\"25, Casa de Campo\",\"orientation\":\"v\",\"showlegend\":true,\"x\":[1,2,3,4,5,6,7,8,9],\"xaxis\":\"x\",\"y\":[16.0,10.0,5.0,5.0,5.0,5.0,6.0,5.0,7.0],\"yaxis\":\"y\",\"type\":\"scatter\"},{\"hovertemplate\":\"DIA=25\\u003cbr\\u003eESTACION_DESC=Cuatro Caminos\\u003cbr\\u003eH=%{x}\\u003cbr\\u003eVALOR=%{y}\\u003cextra\\u003e\\u003c\\u002fextra\\u003e\",\"legendgroup\":\"25, Cuatro Caminos\",\"line\":{\"color\":\"#EF553B\",\"dash\":\"solid\"},\"marker\":{\"symbol\":\"x\"},\"mode\":\"lines+markers\",\"name\":\"25, Cuatro Caminos\",\"orientation\":\"v\",\"showlegend\":true,\"x\":[1,2,3,4,5,6,7,8,9],\"xaxis\":\"x\",\"y\":[12.0,8.0,5.0,5.0,4.0,5.0,7.0,8.0,11.0],\"yaxis\":\"y\",\"type\":\"scatter\"},{\"hovertemplate\":\"DIA=25\\u003cbr\\u003eESTACION_DESC=El Pardo\\u003cbr\\u003eH=%{x}\\u003cbr\\u003eVALOR=%{y}\\u003cextra\\u003e\\u003c\\u002fextra\\u003e\",\"legendgroup\":\"25, El Pardo\",\"line\":{\"color\":\"#EF553B\",\"dash\":\"solid\"},\"marker\":{\"symbol\":\"cross\"},\"mode\":\"lines+markers\",\"name\":\"25, El Pardo\",\"orientation\":\"v\",\"showlegend\":true,\"x\":[1,2,3,4,5,6,7,8,9],\"xaxis\":\"x\",\"y\":[9.0,7.0,4.0,3.0,2.0,2.0,2.0,2.0,3.0],\"yaxis\":\"y\",\"type\":\"scatter\"},{\"hovertemplate\":\"DIA=25\\u003cbr\\u003eESTACION_DESC=Ensanche de Vallecas\\u003cbr\\u003eH=%{x}\\u003cbr\\u003eVALOR=%{y}\\u003cextra\\u003e\\u003c\\u002fextra\\u003e\",\"legendgroup\":\"25, Ensanche de Vallecas\",\"line\":{\"color\":\"#EF553B\",\"dash\":\"solid\"},\"marker\":{\"symbol\":\"circle\"},\"mode\":\"lines+markers\",\"name\":\"25, Ensanche de Vallecas\",\"orientation\":\"v\",\"showlegend\":true,\"x\":[1,2,3,4,5,6,7,8,9],\"xaxis\":\"x\",\"y\":[23.0,13.0,14.0,10.0,7.0,13.0,10.0,11.0,17.0],\"yaxis\":\"y\",\"type\":\"scatter\"},{\"hovertemplate\":\"DIA=25\\u003cbr\\u003eESTACION_DESC=Escuelas Aguirre\\u003cbr\\u003eH=%{x}\\u003cbr\\u003eVALOR=%{y}\\u003cextra\\u003e\\u003c\\u002fextra\\u003e\",\"legendgroup\":\"25, Escuelas Aguirre\",\"line\":{\"color\":\"#EF553B\",\"dash\":\"solid\"},\"marker\":{\"symbol\":\"diamond\"},\"mode\":\"lines+markers\",\"name\":\"25, Escuelas Aguirre\",\"orientation\":\"v\",\"showlegend\":true,\"x\":[1,2,3,4,5,6,7,8,9],\"xaxis\":\"x\",\"y\":[27.0,15.0,12.0,10.0,9.0,9.0,10.0,13.0,18.0],\"yaxis\":\"y\",\"type\":\"scatter\"},{\"hovertemplate\":\"DIA=25\\u003cbr\\u003eESTACION_DESC=Farolillo\\u003cbr\\u003eH=%{x}\\u003cbr\\u003eVALOR=%{y}\\u003cextra\\u003e\\u003c\\u002fextra\\u003e\",\"legendgroup\":\"25, Farolillo\",\"line\":{\"color\":\"#EF553B\",\"dash\":\"solid\"},\"marker\":{\"symbol\":\"square\"},\"mode\":\"lines+markers\",\"name\":\"25, Farolillo\",\"orientation\":\"v\",\"showlegend\":true,\"x\":[1,2,3,4,5,6,7,8,9],\"xaxis\":\"x\",\"y\":[15.0,8.0,5.0,4.0,4.0,4.0,6.0,9.0,16.0],\"yaxis\":\"y\",\"type\":\"scatter\"},{\"hovertemplate\":\"DIA=25\\u003cbr\\u003eESTACION_DESC=Juan Carlos I\\u003cbr\\u003eH=%{x}\\u003cbr\\u003eVALOR=%{y}\\u003cextra\\u003e\\u003c\\u002fextra\\u003e\",\"legendgroup\":\"25, Juan Carlos I\",\"line\":{\"color\":\"#EF553B\",\"dash\":\"solid\"},\"marker\":{\"symbol\":\"x\"},\"mode\":\"lines+markers\",\"name\":\"25, Juan Carlos I\",\"orientation\":\"v\",\"showlegend\":true,\"x\":[1,2,3,4,5,6,7,8,9],\"xaxis\":\"x\",\"y\":[24.0,12.0,7.0,5.0,5.0,5.0,6.0,10.0,13.0],\"yaxis\":\"y\",\"type\":\"scatter\"},{\"hovertemplate\":\"DIA=25\\u003cbr\\u003eESTACION_DESC=Moratalaz\\u003cbr\\u003eH=%{x}\\u003cbr\\u003eVALOR=%{y}\\u003cextra\\u003e\\u003c\\u002fextra\\u003e\",\"legendgroup\":\"25, Moratalaz\",\"line\":{\"color\":\"#EF553B\",\"dash\":\"solid\"},\"marker\":{\"symbol\":\"cross\"},\"mode\":\"lines+markers\",\"name\":\"25, Moratalaz\",\"orientation\":\"v\",\"showlegend\":true,\"x\":[1,2,3,4,5,6,7,8,9],\"xaxis\":\"x\",\"y\":[25.0,17.0,10.0,5.0,7.0,5.0,7.0,11.0,18.0],\"yaxis\":\"y\",\"type\":\"scatter\"},{\"hovertemplate\":\"DIA=25\\u003cbr\\u003eESTACION_DESC=Plaza El\\u00edptica\\u003cbr\\u003eH=%{x}\\u003cbr\\u003eVALOR=%{y}\\u003cextra\\u003e\\u003c\\u002fextra\\u003e\",\"legendgroup\":\"25, Plaza El\\u00edptica\",\"line\":{\"color\":\"#EF553B\",\"dash\":\"solid\"},\"marker\":{\"symbol\":\"circle\"},\"mode\":\"lines+markers\",\"name\":\"25, Plaza El\\u00edptica\",\"orientation\":\"v\",\"showlegend\":true,\"x\":[1,2,3,4,5,6,7,8,9],\"xaxis\":\"x\",\"y\":[18.0,11.0,6.0,4.0,4.0,5.0,6.0,11.0,15.0],\"yaxis\":\"y\",\"type\":\"scatter\"},{\"hovertemplate\":\"DIA=25\\u003cbr\\u003eESTACION_DESC=Plaza Espa\\u00f1a\\u003cbr\\u003eH=%{x}\\u003cbr\\u003eVALOR=%{y}\\u003cextra\\u003e\\u003c\\u002fextra\\u003e\",\"legendgroup\":\"25, Plaza Espa\\u00f1a\",\"line\":{\"color\":\"#EF553B\",\"dash\":\"solid\"},\"marker\":{\"symbol\":\"diamond\"},\"mode\":\"lines+markers\",\"name\":\"25, Plaza Espa\\u00f1a\",\"orientation\":\"v\",\"showlegend\":true,\"x\":[1,2,3,4,5,6,7,8,9],\"xaxis\":\"x\",\"y\":[17.0,8.0,6.0,6.0,6.0,5.0,7.0,9.0,16.0],\"yaxis\":\"y\",\"type\":\"scatter\"},{\"hovertemplate\":\"DIA=25\\u003cbr\\u003eESTACION_DESC=Plaza del Carmen\\u003cbr\\u003eH=%{x}\\u003cbr\\u003eVALOR=%{y}\\u003cextra\\u003e\\u003c\\u002fextra\\u003e\",\"legendgroup\":\"25, Plaza del Carmen\",\"line\":{\"color\":\"#EF553B\",\"dash\":\"solid\"},\"marker\":{\"symbol\":\"square\"},\"mode\":\"lines+markers\",\"name\":\"25, Plaza del Carmen\",\"orientation\":\"v\",\"showlegend\":true,\"x\":[1,2,3,4,5,6,7,8,9],\"xaxis\":\"x\",\"y\":[15.0,8.0,7.0,5.0,4.0,4.0,5.0,8.0,11.0],\"yaxis\":\"y\",\"type\":\"scatter\"}],                        {\"template\":{\"data\":{\"histogram2dcontour\":[{\"type\":\"histogram2dcontour\",\"colorbar\":{\"outlinewidth\":0,\"ticks\":\"\"},\"colorscale\":[[0.0,\"#0d0887\"],[0.1111111111111111,\"#46039f\"],[0.2222222222222222,\"#7201a8\"],[0.3333333333333333,\"#9c179e\"],[0.4444444444444444,\"#bd3786\"],[0.5555555555555556,\"#d8576b\"],[0.6666666666666666,\"#ed7953\"],[0.7777777777777778,\"#fb9f3a\"],[0.8888888888888888,\"#fdca26\"],[1.0,\"#f0f921\"]]}],\"choropleth\":[{\"type\":\"choropleth\",\"colorbar\":{\"outlinewidth\":0,\"ticks\":\"\"}}],\"histogram2d\":[{\"type\":\"histogram2d\",\"colorbar\":{\"outlinewidth\":0,\"ticks\":\"\"},\"colorscale\":[[0.0,\"#0d0887\"],[0.1111111111111111,\"#46039f\"],[0.2222222222222222,\"#7201a8\"],[0.3333333333333333,\"#9c179e\"],[0.4444444444444444,\"#bd3786\"],[0.5555555555555556,\"#d8576b\"],[0.6666666666666666,\"#ed7953\"],[0.7777777777777778,\"#fb9f3a\"],[0.8888888888888888,\"#fdca26\"],[1.0,\"#f0f921\"]]}],\"heatmap\":[{\"type\":\"heatmap\",\"colorbar\":{\"outlinewidth\":0,\"ticks\":\"\"},\"colorscale\":[[0.0,\"#0d0887\"],[0.1111111111111111,\"#46039f\"],[0.2222222222222222,\"#7201a8\"],[0.3333333333333333,\"#9c179e\"],[0.4444444444444444,\"#bd3786\"],[0.5555555555555556,\"#d8576b\"],[0.6666666666666666,\"#ed7953\"],[0.7777777777777778,\"#fb9f3a\"],[0.8888888888888888,\"#fdca26\"],[1.0,\"#f0f921\"]]}],\"heatmapgl\":[{\"type\":\"heatmapgl\",\"colorbar\":{\"outlinewidth\":0,\"ticks\":\"\"},\"colorscale\":[[0.0,\"#0d0887\"],[0.1111111111111111,\"#46039f\"],[0.2222222222222222,\"#7201a8\"],[0.3333333333333333,\"#9c179e\"],[0.4444444444444444,\"#bd3786\"],[0.5555555555555556,\"#d8576b\"],[0.6666666666666666,\"#ed7953\"],[0.7777777777777778,\"#fb9f3a\"],[0.8888888888888888,\"#fdca26\"],[1.0,\"#f0f921\"]]}],\"contourcarpet\":[{\"type\":\"contourcarpet\",\"colorbar\":{\"outlinewidth\":0,\"ticks\":\"\"}}],\"contour\":[{\"type\":\"contour\",\"colorbar\":{\"outlinewidth\":0,\"ticks\":\"\"},\"colorscale\":[[0.0,\"#0d0887\"],[0.1111111111111111,\"#46039f\"],[0.2222222222222222,\"#7201a8\"],[0.3333333333333333,\"#9c179e\"],[0.4444444444444444,\"#bd3786\"],[0.5555555555555556,\"#d8576b\"],[0.6666666666666666,\"#ed7953\"],[0.7777777777777778,\"#fb9f3a\"],[0.8888888888888888,\"#fdca26\"],[1.0,\"#f0f921\"]]}],\"surface\":[{\"type\":\"surface\",\"colorbar\":{\"outlinewidth\":0,\"ticks\":\"\"},\"colorscale\":[[0.0,\"#0d0887\"],[0.1111111111111111,\"#46039f\"],[0.2222222222222222,\"#7201a8\"],[0.3333333333333333,\"#9c179e\"],[0.4444444444444444,\"#bd3786\"],[0.5555555555555556,\"#d8576b\"],[0.6666666666666666,\"#ed7953\"],[0.7777777777777778,\"#fb9f3a\"],[0.8888888888888888,\"#fdca26\"],[1.0,\"#f0f921\"]]}],\"mesh3d\":[{\"type\":\"mesh3d\",\"colorbar\":{\"outlinewidth\":0,\"ticks\":\"\"}}],\"scatter\":[{\"fillpattern\":{\"fillmode\":\"overlay\",\"size\":10,\"solidity\":0.2},\"type\":\"scatter\"}],\"parcoords\":[{\"type\":\"parcoords\",\"line\":{\"colorbar\":{\"outlinewidth\":0,\"ticks\":\"\"}}}],\"scatterpolargl\":[{\"type\":\"scatterpolargl\",\"marker\":{\"colorbar\":{\"outlinewidth\":0,\"ticks\":\"\"}}}],\"bar\":[{\"error_x\":{\"color\":\"#2a3f5f\"},\"error_y\":{\"color\":\"#2a3f5f\"},\"marker\":{\"line\":{\"color\":\"#E5ECF6\",\"width\":0.5},\"pattern\":{\"fillmode\":\"overlay\",\"size\":10,\"solidity\":0.2}},\"type\":\"bar\"}],\"scattergeo\":[{\"type\":\"scattergeo\",\"marker\":{\"colorbar\":{\"outlinewidth\":0,\"ticks\":\"\"}}}],\"scatterpolar\":[{\"type\":\"scatterpolar\",\"marker\":{\"colorbar\":{\"outlinewidth\":0,\"ticks\":\"\"}}}],\"histogram\":[{\"marker\":{\"pattern\":{\"fillmode\":\"overlay\",\"size\":10,\"solidity\":0.2}},\"type\":\"histogram\"}],\"scattergl\":[{\"type\":\"scattergl\",\"marker\":{\"colorbar\":{\"outlinewidth\":0,\"ticks\":\"\"}}}],\"scatter3d\":[{\"type\":\"scatter3d\",\"line\":{\"colorbar\":{\"outlinewidth\":0,\"ticks\":\"\"}},\"marker\":{\"colorbar\":{\"outlinewidth\":0,\"ticks\":\"\"}}}],\"scattermapbox\":[{\"type\":\"scattermapbox\",\"marker\":{\"colorbar\":{\"outlinewidth\":0,\"ticks\":\"\"}}}],\"scatterternary\":[{\"type\":\"scatterternary\",\"marker\":{\"colorbar\":{\"outlinewidth\":0,\"ticks\":\"\"}}}],\"scattercarpet\":[{\"type\":\"scattercarpet\",\"marker\":{\"colorbar\":{\"outlinewidth\":0,\"ticks\":\"\"}}}],\"carpet\":[{\"aaxis\":{\"endlinecolor\":\"#2a3f5f\",\"gridcolor\":\"white\",\"linecolor\":\"white\",\"minorgridcolor\":\"white\",\"startlinecolor\":\"#2a3f5f\"},\"baxis\":{\"endlinecolor\":\"#2a3f5f\",\"gridcolor\":\"white\",\"linecolor\":\"white\",\"minorgridcolor\":\"white\",\"startlinecolor\":\"#2a3f5f\"},\"type\":\"carpet\"}],\"table\":[{\"cells\":{\"fill\":{\"color\":\"#EBF0F8\"},\"line\":{\"color\":\"white\"}},\"header\":{\"fill\":{\"color\":\"#C8D4E3\"},\"line\":{\"color\":\"white\"}},\"type\":\"table\"}],\"barpolar\":[{\"marker\":{\"line\":{\"color\":\"#E5ECF6\",\"width\":0.5},\"pattern\":{\"fillmode\":\"overlay\",\"size\":10,\"solidity\":0.2}},\"type\":\"barpolar\"}],\"pie\":[{\"automargin\":true,\"type\":\"pie\"}]},\"layout\":{\"autotypenumbers\":\"strict\",\"colorway\":[\"#636efa\",\"#EF553B\",\"#00cc96\",\"#ab63fa\",\"#FFA15A\",\"#19d3f3\",\"#FF6692\",\"#B6E880\",\"#FF97FF\",\"#FECB52\"],\"font\":{\"color\":\"#2a3f5f\"},\"hovermode\":\"closest\",\"hoverlabel\":{\"align\":\"left\"},\"paper_bgcolor\":\"white\",\"plot_bgcolor\":\"#E5ECF6\",\"polar\":{\"bgcolor\":\"#E5ECF6\",\"angularaxis\":{\"gridcolor\":\"white\",\"linecolor\":\"white\",\"ticks\":\"\"},\"radialaxis\":{\"gridcolor\":\"white\",\"linecolor\":\"white\",\"ticks\":\"\"}},\"ternary\":{\"bgcolor\":\"#E5ECF6\",\"aaxis\":{\"gridcolor\":\"white\",\"linecolor\":\"white\",\"ticks\":\"\"},\"baxis\":{\"gridcolor\":\"white\",\"linecolor\":\"white\",\"ticks\":\"\"},\"caxis\":{\"gridcolor\":\"white\",\"linecolor\":\"white\",\"ticks\":\"\"}},\"coloraxis\":{\"colorbar\":{\"outlinewidth\":0,\"ticks\":\"\"}},\"colorscale\":{\"sequential\":[[0.0,\"#0d0887\"],[0.1111111111111111,\"#46039f\"],[0.2222222222222222,\"#7201a8\"],[0.3333333333333333,\"#9c179e\"],[0.4444444444444444,\"#bd3786\"],[0.5555555555555556,\"#d8576b\"],[0.6666666666666666,\"#ed7953\"],[0.7777777777777778,\"#fb9f3a\"],[0.8888888888888888,\"#fdca26\"],[1.0,\"#f0f921\"]],\"sequentialminus\":[[0.0,\"#0d0887\"],[0.1111111111111111,\"#46039f\"],[0.2222222222222222,\"#7201a8\"],[0.3333333333333333,\"#9c179e\"],[0.4444444444444444,\"#bd3786\"],[0.5555555555555556,\"#d8576b\"],[0.6666666666666666,\"#ed7953\"],[0.7777777777777778,\"#fb9f3a\"],[0.8888888888888888,\"#fdca26\"],[1.0,\"#f0f921\"]],\"diverging\":[[0,\"#8e0152\"],[0.1,\"#c51b7d\"],[0.2,\"#de77ae\"],[0.3,\"#f1b6da\"],[0.4,\"#fde0ef\"],[0.5,\"#f7f7f7\"],[0.6,\"#e6f5d0\"],[0.7,\"#b8e186\"],[0.8,\"#7fbc41\"],[0.9,\"#4d9221\"],[1,\"#276419\"]]},\"xaxis\":{\"gridcolor\":\"white\",\"linecolor\":\"white\",\"ticks\":\"\",\"title\":{\"standoff\":15},\"zerolinecolor\":\"white\",\"automargin\":true,\"zerolinewidth\":2},\"yaxis\":{\"gridcolor\":\"white\",\"linecolor\":\"white\",\"ticks\":\"\",\"title\":{\"standoff\":15},\"zerolinecolor\":\"white\",\"automargin\":true,\"zerolinewidth\":2},\"scene\":{\"xaxis\":{\"backgroundcolor\":\"#E5ECF6\",\"gridcolor\":\"white\",\"linecolor\":\"white\",\"showbackground\":true,\"ticks\":\"\",\"zerolinecolor\":\"white\",\"gridwidth\":2},\"yaxis\":{\"backgroundcolor\":\"#E5ECF6\",\"gridcolor\":\"white\",\"linecolor\":\"white\",\"showbackground\":true,\"ticks\":\"\",\"zerolinecolor\":\"white\",\"gridwidth\":2},\"zaxis\":{\"backgroundcolor\":\"#E5ECF6\",\"gridcolor\":\"white\",\"linecolor\":\"white\",\"showbackground\":true,\"ticks\":\"\",\"zerolinecolor\":\"white\",\"gridwidth\":2}},\"shapedefaults\":{\"line\":{\"color\":\"#2a3f5f\"}},\"annotationdefaults\":{\"arrowcolor\":\"#2a3f5f\",\"arrowhead\":0,\"arrowwidth\":1},\"geo\":{\"bgcolor\":\"white\",\"landcolor\":\"#E5ECF6\",\"subunitcolor\":\"white\",\"showland\":true,\"showlakes\":true,\"lakecolor\":\"white\"},\"title\":{\"x\":0.05},\"mapbox\":{\"style\":\"light\"}}},\"xaxis\":{\"anchor\":\"y\",\"domain\":[0.0,1.0],\"title\":{\"text\":\"H\"}},\"yaxis\":{\"anchor\":\"x\",\"domain\":[0.0,1.0],\"title\":{\"text\":\"VALOR\"}},\"legend\":{\"title\":{\"text\":\"DIA, ESTACION_DESC\"},\"tracegroupgap\":0},\"title\":{\"text\":\"NO2 \"}},                        {\"responsive\": true}                    ).then(function(){\n",
       "                            \n",
       "var gd = document.getElementById('15e86c4a-02ea-4fcc-9009-b412bebbd1d1');\n",
       "var x = new MutationObserver(function (mutations, observer) {{\n",
       "        var display = window.getComputedStyle(gd).display;\n",
       "        if (!display || display === 'none') {{\n",
       "            console.log([gd, 'removed!']);\n",
       "            Plotly.purge(gd);\n",
       "            observer.disconnect();\n",
       "        }}\n",
       "}});\n",
       "\n",
       "// Listen for the removal of the full notebook cells\n",
       "var notebookContainer = gd.closest('#notebook-container');\n",
       "if (notebookContainer) {{\n",
       "    x.observe(notebookContainer, {childList: true});\n",
       "}}\n",
       "\n",
       "// Listen for the clearing of the current output cell\n",
       "var outputEl = gd.closest('.output');\n",
       "if (outputEl) {{\n",
       "    x.observe(outputEl, {childList: true});\n",
       "}}\n",
       "\n",
       "                        })                };                });            </script>        </div>"
      ]
     },
     "metadata": {},
     "output_type": "display_data"
    }
   ],
   "source": [
    "fig = px.line(nox.DataFrame(), x=\"H\", y=\"VALOR\", color=\"DIA\", symbol='ESTACION_DESC', title='NO2 ')\n",
    "fig.show()"
   ]
  },
  {
   "cell_type": "code",
   "execution_count": 34,
   "metadata": {},
   "outputs": [
    {
     "data": {
      "application/vnd.plotly.v1+json": {
       "config": {
        "plotlyServerURL": "https://plot.ly"
       },
       "data": [
        {
         "hovertemplate": "DIA=24<br>ESTACION_DESC=Arturo Soria<br>H=%{x}<br>VALOR=%{y}<extra></extra>",
         "legendgroup": "24",
         "line": {
          "color": "#636efa",
          "dash": "solid"
         },
         "marker": {
          "symbol": "circle"
         },
         "mode": "lines",
         "name": "24",
         "orientation": "v",
         "showlegend": true,
         "type": "scatter",
         "x": [
          1,
          2,
          3,
          4,
          5,
          6,
          7,
          8,
          9,
          10,
          11,
          12,
          13,
          14,
          15,
          16,
          17,
          18,
          19,
          20,
          21,
          22,
          23,
          24
         ],
         "xaxis": "x13",
         "y": [
          40,
          28,
          24,
          17,
          13,
          16,
          17,
          25,
          36,
          36,
          36,
          30,
          26,
          23,
          17,
          17,
          16,
          16,
          22,
          32,
          34,
          31,
          31,
          27
         ],
         "yaxis": "y13"
        },
        {
         "hovertemplate": "DIA=24<br>ESTACION_DESC=Barrio del Pilar<br>H=%{x}<br>VALOR=%{y}<extra></extra>",
         "legendgroup": "24",
         "line": {
          "color": "#636efa",
          "dash": "solid"
         },
         "marker": {
          "symbol": "circle"
         },
         "mode": "lines",
         "name": "24",
         "orientation": "v",
         "showlegend": false,
         "type": "scatter",
         "x": [
          1,
          2,
          3,
          4,
          5,
          6,
          7,
          8,
          9,
          10,
          11,
          12,
          13,
          14,
          15,
          16,
          17,
          18,
          19,
          20,
          21,
          22,
          23,
          24
         ],
         "xaxis": "x14",
         "y": [
          22,
          32,
          15,
          6,
          5,
          15,
          32,
          39,
          49,
          54,
          51,
          42,
          27,
          20,
          22,
          22,
          21,
          25,
          23,
          34,
          39,
          35,
          29,
          22
         ],
         "yaxis": "y14"
        },
        {
         "hovertemplate": "DIA=24<br>ESTACION_DESC=Casa de Campo<br>H=%{x}<br>VALOR=%{y}<extra></extra>",
         "legendgroup": "24",
         "line": {
          "color": "#636efa",
          "dash": "solid"
         },
         "marker": {
          "symbol": "circle"
         },
         "mode": "lines",
         "name": "24",
         "orientation": "v",
         "showlegend": false,
         "type": "scatter",
         "x": [
          1,
          2,
          3,
          4,
          5,
          6,
          7,
          8,
          9,
          10,
          11,
          12,
          13,
          14,
          15,
          16,
          17,
          18,
          19,
          20,
          21,
          22,
          23,
          24
         ],
         "xaxis": "x15",
         "y": [
          30,
          29,
          21,
          15,
          15,
          24,
          37,
          46,
          47,
          41,
          29,
          28,
          19,
          15,
          12,
          11,
          9,
          10,
          13,
          20,
          19,
          22,
          20,
          22
         ],
         "yaxis": "y15"
        },
        {
         "hovertemplate": "DIA=24<br>ESTACION_DESC=Cuatro Caminos<br>H=%{x}<br>VALOR=%{y}<extra></extra>",
         "legendgroup": "24",
         "line": {
          "color": "#636efa",
          "dash": "solid"
         },
         "marker": {
          "symbol": "circle"
         },
         "mode": "lines",
         "name": "24",
         "orientation": "v",
         "showlegend": false,
         "type": "scatter",
         "x": [
          1,
          2,
          3,
          4,
          5,
          6,
          7,
          8,
          9,
          10,
          11,
          12,
          13,
          14,
          15,
          16,
          17,
          18,
          19,
          20,
          21,
          22,
          23,
          24
         ],
         "xaxis": "x16",
         "y": [
          31,
          25,
          10,
          7,
          15,
          26,
          34,
          48,
          57,
          60,
          57,
          41,
          31,
          19,
          18,
          22,
          20,
          23,
          25,
          27,
          30,
          30,
          24,
          20
         ],
         "yaxis": "y16"
        },
        {
         "hovertemplate": "DIA=24<br>ESTACION_DESC=El Pardo<br>H=%{x}<br>VALOR=%{y}<extra></extra>",
         "legendgroup": "24",
         "line": {
          "color": "#636efa",
          "dash": "solid"
         },
         "marker": {
          "symbol": "circle"
         },
         "mode": "lines",
         "name": "24",
         "orientation": "v",
         "showlegend": false,
         "type": "scatter",
         "x": [
          1,
          2,
          3,
          4,
          5,
          6,
          7,
          8,
          9,
          10,
          11,
          12,
          13,
          14,
          15,
          16,
          17,
          18,
          19,
          20,
          21,
          22,
          23,
          24
         ],
         "xaxis": "x9",
         "y": [
          9,
          6,
          5,
          3,
          3,
          3,
          6,
          15,
          9,
          12,
          16,
          10,
          7,
          7,
          5,
          7,
          6,
          4,
          4,
          12,
          17,
          21,
          18,
          13
         ],
         "yaxis": "y9"
        },
        {
         "hovertemplate": "DIA=24<br>ESTACION_DESC=Ensanche de Vallecas<br>H=%{x}<br>VALOR=%{y}<extra></extra>",
         "legendgroup": "24",
         "line": {
          "color": "#636efa",
          "dash": "solid"
         },
         "marker": {
          "symbol": "circle"
         },
         "mode": "lines",
         "name": "24",
         "orientation": "v",
         "showlegend": false,
         "type": "scatter",
         "x": [
          1,
          2,
          3,
          4,
          5,
          6,
          7,
          8,
          9,
          10,
          11,
          12,
          13,
          14,
          15,
          16,
          17,
          18,
          19,
          20,
          21,
          22,
          23,
          24
         ],
         "xaxis": "x10",
         "y": [
          49,
          25,
          18,
          22,
          16,
          18,
          27,
          43,
          46,
          48,
          36,
          33,
          27,
          22,
          20,
          20,
          21,
          26,
          29,
          27,
          33,
          35,
          36,
          30
         ],
         "yaxis": "y10"
        },
        {
         "hovertemplate": "DIA=24<br>ESTACION_DESC=Escuelas Aguirre<br>H=%{x}<br>VALOR=%{y}<extra></extra>",
         "legendgroup": "24",
         "line": {
          "color": "#636efa",
          "dash": "solid"
         },
         "marker": {
          "symbol": "circle"
         },
         "mode": "lines",
         "name": "24",
         "orientation": "v",
         "showlegend": false,
         "type": "scatter",
         "x": [
          1,
          2,
          3,
          4,
          5,
          6,
          7,
          8,
          9,
          10,
          11,
          12,
          13,
          14,
          15,
          16,
          17,
          18,
          19,
          20,
          21,
          22,
          23,
          24
         ],
         "xaxis": "x11",
         "y": [
          64,
          58,
          35,
          28,
          36,
          34,
          30,
          53,
          62,
          63,
          65,
          57,
          39,
          33,
          29,
          29,
          27,
          26,
          35,
          40,
          51,
          41,
          36,
          33
         ],
         "yaxis": "y11"
        },
        {
         "hovertemplate": "DIA=24<br>ESTACION_DESC=Farolillo<br>H=%{x}<br>VALOR=%{y}<extra></extra>",
         "legendgroup": "24",
         "line": {
          "color": "#636efa",
          "dash": "solid"
         },
         "marker": {
          "symbol": "circle"
         },
         "mode": "lines",
         "name": "24",
         "orientation": "v",
         "showlegend": false,
         "type": "scatter",
         "x": [
          1,
          2,
          3,
          4,
          5,
          6,
          7,
          8,
          9,
          10,
          11,
          12,
          13,
          14,
          15,
          16,
          17,
          18,
          19,
          20,
          21,
          22,
          23,
          24
         ],
         "xaxis": "x12",
         "y": [
          52,
          45,
          36,
          33,
          28,
          44,
          49,
          57,
          65,
          66,
          47,
          38,
          28,
          20,
          17,
          19,
          16,
          24,
          28,
          35,
          36,
          33,
          29,
          29
         ],
         "yaxis": "y12"
        },
        {
         "hovertemplate": "DIA=24<br>ESTACION_DESC=Juan Carlos I<br>H=%{x}<br>VALOR=%{y}<extra></extra>",
         "legendgroup": "24",
         "line": {
          "color": "#636efa",
          "dash": "solid"
         },
         "marker": {
          "symbol": "circle"
         },
         "mode": "lines",
         "name": "24",
         "orientation": "v",
         "showlegend": false,
         "type": "scatter",
         "x": [
          1,
          2,
          3,
          4,
          5,
          6,
          7,
          8,
          9,
          10,
          11,
          12,
          13,
          14,
          15,
          16,
          17,
          18,
          19,
          20,
          21,
          22,
          23,
          24
         ],
         "xaxis": "x5",
         "y": [
          70,
          44,
          25,
          22,
          46,
          41,
          32,
          34,
          50,
          54,
          50,
          41,
          33,
          24,
          19,
          19,
          13,
          16,
          21,
          28,
          35,
          36,
          38,
          32
         ],
         "yaxis": "y5"
        },
        {
         "hovertemplate": "DIA=24<br>ESTACION_DESC=Moratalaz<br>H=%{x}<br>VALOR=%{y}<extra></extra>",
         "legendgroup": "24",
         "line": {
          "color": "#636efa",
          "dash": "solid"
         },
         "marker": {
          "symbol": "circle"
         },
         "mode": "lines",
         "name": "24",
         "orientation": "v",
         "showlegend": false,
         "type": "scatter",
         "x": [
          1,
          2,
          3,
          4,
          5,
          6,
          7,
          8,
          9,
          10,
          11,
          12,
          13,
          14,
          15,
          16,
          17,
          18,
          19,
          20,
          21,
          22,
          23,
          24
         ],
         "xaxis": "x6",
         "y": [
          55,
          33,
          26,
          21,
          26,
          21,
          23,
          37,
          53,
          54,
          53,
          44,
          33,
          23,
          20,
          22,
          19,
          20,
          28,
          39,
          41,
          44,
          41,
          35
         ],
         "yaxis": "y6"
        },
        {
         "hovertemplate": "DIA=24<br>ESTACION_DESC=Plaza Elíptica<br>H=%{x}<br>VALOR=%{y}<extra></extra>",
         "legendgroup": "24",
         "line": {
          "color": "#636efa",
          "dash": "solid"
         },
         "marker": {
          "symbol": "circle"
         },
         "mode": "lines",
         "name": "24",
         "orientation": "v",
         "showlegend": false,
         "type": "scatter",
         "x": [
          1,
          2,
          3,
          4,
          5,
          6,
          7,
          8,
          9,
          10,
          11,
          12,
          13,
          14,
          15,
          16,
          17,
          18,
          19,
          20,
          21,
          22,
          23,
          24
         ],
         "xaxis": "x7",
         "y": [
          64,
          58,
          49,
          42,
          38,
          42,
          46,
          55,
          65,
          61,
          48,
          33,
          25,
          18,
          22,
          20,
          18,
          24,
          29,
          36,
          38,
          43,
          39,
          38
         ],
         "yaxis": "y7"
        },
        {
         "hovertemplate": "DIA=24<br>ESTACION_DESC=Plaza España<br>H=%{x}<br>VALOR=%{y}<extra></extra>",
         "legendgroup": "24",
         "line": {
          "color": "#636efa",
          "dash": "solid"
         },
         "marker": {
          "symbol": "circle"
         },
         "mode": "lines",
         "name": "24",
         "orientation": "v",
         "showlegend": false,
         "type": "scatter",
         "x": [
          1,
          2,
          3,
          4,
          5,
          6,
          7,
          8,
          9,
          10,
          11,
          12,
          13,
          14,
          15,
          16,
          17,
          18,
          19,
          20,
          21,
          22,
          23,
          24
         ],
         "xaxis": "x8",
         "y": [
          44,
          49,
          18,
          14,
          28,
          40,
          40,
          54,
          66,
          70,
          67,
          44,
          42,
          20,
          19,
          19,
          19,
          21,
          22,
          28,
          32,
          31,
          31,
          26
         ],
         "yaxis": "y8"
        },
        {
         "hovertemplate": "DIA=24<br>ESTACION_DESC=Plaza del Carmen<br>H=%{x}<br>VALOR=%{y}<extra></extra>",
         "legendgroup": "24",
         "line": {
          "color": "#636efa",
          "dash": "solid"
         },
         "marker": {
          "symbol": "circle"
         },
         "mode": "lines",
         "name": "24",
         "orientation": "v",
         "showlegend": false,
         "type": "scatter",
         "x": [
          1,
          2,
          3,
          4,
          5,
          6,
          7,
          8,
          9,
          10,
          11,
          12,
          13,
          14,
          15,
          16,
          17,
          18,
          19,
          20,
          21,
          22,
          23,
          24
         ],
         "xaxis": "x",
         "y": [
          56,
          51,
          20,
          22,
          42,
          41,
          39,
          54,
          60,
          62,
          62,
          50,
          34,
          20,
          16,
          16,
          13,
          16,
          21,
          25,
          25,
          24,
          19,
          24
         ],
         "yaxis": "y"
        },
        {
         "hovertemplate": "DIA=25<br>ESTACION_DESC=Arturo Soria<br>H=%{x}<br>VALOR=%{y}<extra></extra>",
         "legendgroup": "25",
         "line": {
          "color": "#EF553B",
          "dash": "solid"
         },
         "marker": {
          "symbol": "circle"
         },
         "mode": "lines",
         "name": "25",
         "orientation": "v",
         "showlegend": true,
         "type": "scatter",
         "x": [
          1,
          2,
          3,
          4,
          5,
          6,
          7,
          8,
          9
         ],
         "xaxis": "x13",
         "y": [
          17,
          8,
          6,
          4,
          5,
          4,
          5,
          8,
          10
         ],
         "yaxis": "y13"
        },
        {
         "hovertemplate": "DIA=25<br>ESTACION_DESC=Barrio del Pilar<br>H=%{x}<br>VALOR=%{y}<extra></extra>",
         "legendgroup": "25",
         "line": {
          "color": "#EF553B",
          "dash": "solid"
         },
         "marker": {
          "symbol": "circle"
         },
         "mode": "lines",
         "name": "25",
         "orientation": "v",
         "showlegend": false,
         "type": "scatter",
         "x": [
          1,
          2,
          3,
          4,
          5,
          6,
          7,
          8,
          9
         ],
         "xaxis": "x14",
         "y": [
          15,
          7,
          5,
          3,
          3,
          3,
          5,
          7,
          11
         ],
         "yaxis": "y14"
        },
        {
         "hovertemplate": "DIA=25<br>ESTACION_DESC=Casa de Campo<br>H=%{x}<br>VALOR=%{y}<extra></extra>",
         "legendgroup": "25",
         "line": {
          "color": "#EF553B",
          "dash": "solid"
         },
         "marker": {
          "symbol": "circle"
         },
         "mode": "lines",
         "name": "25",
         "orientation": "v",
         "showlegend": false,
         "type": "scatter",
         "x": [
          1,
          2,
          3,
          4,
          5,
          6,
          7,
          8,
          9
         ],
         "xaxis": "x15",
         "y": [
          16,
          10,
          5,
          5,
          5,
          5,
          6,
          5,
          7
         ],
         "yaxis": "y15"
        },
        {
         "hovertemplate": "DIA=25<br>ESTACION_DESC=Cuatro Caminos<br>H=%{x}<br>VALOR=%{y}<extra></extra>",
         "legendgroup": "25",
         "line": {
          "color": "#EF553B",
          "dash": "solid"
         },
         "marker": {
          "symbol": "circle"
         },
         "mode": "lines",
         "name": "25",
         "orientation": "v",
         "showlegend": false,
         "type": "scatter",
         "x": [
          1,
          2,
          3,
          4,
          5,
          6,
          7,
          8,
          9
         ],
         "xaxis": "x16",
         "y": [
          12,
          8,
          5,
          5,
          4,
          5,
          7,
          8,
          11
         ],
         "yaxis": "y16"
        },
        {
         "hovertemplate": "DIA=25<br>ESTACION_DESC=El Pardo<br>H=%{x}<br>VALOR=%{y}<extra></extra>",
         "legendgroup": "25",
         "line": {
          "color": "#EF553B",
          "dash": "solid"
         },
         "marker": {
          "symbol": "circle"
         },
         "mode": "lines",
         "name": "25",
         "orientation": "v",
         "showlegend": false,
         "type": "scatter",
         "x": [
          1,
          2,
          3,
          4,
          5,
          6,
          7,
          8,
          9
         ],
         "xaxis": "x9",
         "y": [
          9,
          7,
          4,
          3,
          2,
          2,
          2,
          2,
          3
         ],
         "yaxis": "y9"
        },
        {
         "hovertemplate": "DIA=25<br>ESTACION_DESC=Ensanche de Vallecas<br>H=%{x}<br>VALOR=%{y}<extra></extra>",
         "legendgroup": "25",
         "line": {
          "color": "#EF553B",
          "dash": "solid"
         },
         "marker": {
          "symbol": "circle"
         },
         "mode": "lines",
         "name": "25",
         "orientation": "v",
         "showlegend": false,
         "type": "scatter",
         "x": [
          1,
          2,
          3,
          4,
          5,
          6,
          7,
          8,
          9
         ],
         "xaxis": "x10",
         "y": [
          23,
          13,
          14,
          10,
          7,
          13,
          10,
          11,
          17
         ],
         "yaxis": "y10"
        },
        {
         "hovertemplate": "DIA=25<br>ESTACION_DESC=Escuelas Aguirre<br>H=%{x}<br>VALOR=%{y}<extra></extra>",
         "legendgroup": "25",
         "line": {
          "color": "#EF553B",
          "dash": "solid"
         },
         "marker": {
          "symbol": "circle"
         },
         "mode": "lines",
         "name": "25",
         "orientation": "v",
         "showlegend": false,
         "type": "scatter",
         "x": [
          1,
          2,
          3,
          4,
          5,
          6,
          7,
          8,
          9
         ],
         "xaxis": "x11",
         "y": [
          27,
          15,
          12,
          10,
          9,
          9,
          10,
          13,
          18
         ],
         "yaxis": "y11"
        },
        {
         "hovertemplate": "DIA=25<br>ESTACION_DESC=Farolillo<br>H=%{x}<br>VALOR=%{y}<extra></extra>",
         "legendgroup": "25",
         "line": {
          "color": "#EF553B",
          "dash": "solid"
         },
         "marker": {
          "symbol": "circle"
         },
         "mode": "lines",
         "name": "25",
         "orientation": "v",
         "showlegend": false,
         "type": "scatter",
         "x": [
          1,
          2,
          3,
          4,
          5,
          6,
          7,
          8,
          9
         ],
         "xaxis": "x12",
         "y": [
          15,
          8,
          5,
          4,
          4,
          4,
          6,
          9,
          16
         ],
         "yaxis": "y12"
        },
        {
         "hovertemplate": "DIA=25<br>ESTACION_DESC=Juan Carlos I<br>H=%{x}<br>VALOR=%{y}<extra></extra>",
         "legendgroup": "25",
         "line": {
          "color": "#EF553B",
          "dash": "solid"
         },
         "marker": {
          "symbol": "circle"
         },
         "mode": "lines",
         "name": "25",
         "orientation": "v",
         "showlegend": false,
         "type": "scatter",
         "x": [
          1,
          2,
          3,
          4,
          5,
          6,
          7,
          8,
          9
         ],
         "xaxis": "x5",
         "y": [
          24,
          12,
          7,
          5,
          5,
          5,
          6,
          10,
          13
         ],
         "yaxis": "y5"
        },
        {
         "hovertemplate": "DIA=25<br>ESTACION_DESC=Moratalaz<br>H=%{x}<br>VALOR=%{y}<extra></extra>",
         "legendgroup": "25",
         "line": {
          "color": "#EF553B",
          "dash": "solid"
         },
         "marker": {
          "symbol": "circle"
         },
         "mode": "lines",
         "name": "25",
         "orientation": "v",
         "showlegend": false,
         "type": "scatter",
         "x": [
          1,
          2,
          3,
          4,
          5,
          6,
          7,
          8,
          9
         ],
         "xaxis": "x6",
         "y": [
          25,
          17,
          10,
          5,
          7,
          5,
          7,
          11,
          18
         ],
         "yaxis": "y6"
        },
        {
         "hovertemplate": "DIA=25<br>ESTACION_DESC=Plaza Elíptica<br>H=%{x}<br>VALOR=%{y}<extra></extra>",
         "legendgroup": "25",
         "line": {
          "color": "#EF553B",
          "dash": "solid"
         },
         "marker": {
          "symbol": "circle"
         },
         "mode": "lines",
         "name": "25",
         "orientation": "v",
         "showlegend": false,
         "type": "scatter",
         "x": [
          1,
          2,
          3,
          4,
          5,
          6,
          7,
          8,
          9
         ],
         "xaxis": "x7",
         "y": [
          18,
          11,
          6,
          4,
          4,
          5,
          6,
          11,
          15
         ],
         "yaxis": "y7"
        },
        {
         "hovertemplate": "DIA=25<br>ESTACION_DESC=Plaza España<br>H=%{x}<br>VALOR=%{y}<extra></extra>",
         "legendgroup": "25",
         "line": {
          "color": "#EF553B",
          "dash": "solid"
         },
         "marker": {
          "symbol": "circle"
         },
         "mode": "lines",
         "name": "25",
         "orientation": "v",
         "showlegend": false,
         "type": "scatter",
         "x": [
          1,
          2,
          3,
          4,
          5,
          6,
          7,
          8,
          9
         ],
         "xaxis": "x8",
         "y": [
          17,
          8,
          6,
          6,
          6,
          5,
          7,
          9,
          16
         ],
         "yaxis": "y8"
        },
        {
         "hovertemplate": "DIA=25<br>ESTACION_DESC=Plaza del Carmen<br>H=%{x}<br>VALOR=%{y}<extra></extra>",
         "legendgroup": "25",
         "line": {
          "color": "#EF553B",
          "dash": "solid"
         },
         "marker": {
          "symbol": "circle"
         },
         "mode": "lines",
         "name": "25",
         "orientation": "v",
         "showlegend": false,
         "type": "scatter",
         "x": [
          1,
          2,
          3,
          4,
          5,
          6,
          7,
          8,
          9
         ],
         "xaxis": "x",
         "y": [
          15,
          8,
          7,
          5,
          4,
          4,
          5,
          8,
          11
         ],
         "yaxis": "y"
        }
       ],
       "layout": {
        "annotations": [
         {
          "font": {},
          "showarrow": false,
          "text": "ESTACION_DESC=Plaza del Carmen",
          "x": 0.1175,
          "xanchor": "center",
          "xref": "paper",
          "y": 0.1975,
          "yanchor": "bottom",
          "yref": "paper"
         },
         {
          "font": {},
          "showarrow": false,
          "text": "ESTACION_DESC=Juan Carlos I",
          "x": 0.1175,
          "xanchor": "center",
          "xref": "paper",
          "y": 0.465,
          "yanchor": "bottom",
          "yref": "paper"
         },
         {
          "font": {},
          "showarrow": false,
          "text": "ESTACION_DESC=Moratalaz",
          "x": 0.3725,
          "xanchor": "center",
          "xref": "paper",
          "y": 0.465,
          "yanchor": "bottom",
          "yref": "paper"
         },
         {
          "font": {},
          "showarrow": false,
          "text": "ESTACION_DESC=Plaza Elíptica",
          "x": 0.6275,
          "xanchor": "center",
          "xref": "paper",
          "y": 0.465,
          "yanchor": "bottom",
          "yref": "paper"
         },
         {
          "font": {},
          "showarrow": false,
          "text": "ESTACION_DESC=Plaza España",
          "x": 0.8824999999999998,
          "xanchor": "center",
          "xref": "paper",
          "y": 0.465,
          "yanchor": "bottom",
          "yref": "paper"
         },
         {
          "font": {},
          "showarrow": false,
          "text": "ESTACION_DESC=El Pardo",
          "x": 0.1175,
          "xanchor": "center",
          "xref": "paper",
          "y": 0.7325,
          "yanchor": "bottom",
          "yref": "paper"
         },
         {
          "font": {},
          "showarrow": false,
          "text": "ESTACION_DESC=Ensanche de Vallecas",
          "x": 0.3725,
          "xanchor": "center",
          "xref": "paper",
          "y": 0.7325,
          "yanchor": "bottom",
          "yref": "paper"
         },
         {
          "font": {},
          "showarrow": false,
          "text": "ESTACION_DESC=Escuelas Aguirre",
          "x": 0.6275,
          "xanchor": "center",
          "xref": "paper",
          "y": 0.7325,
          "yanchor": "bottom",
          "yref": "paper"
         },
         {
          "font": {},
          "showarrow": false,
          "text": "ESTACION_DESC=Farolillo",
          "x": 0.8824999999999998,
          "xanchor": "center",
          "xref": "paper",
          "y": 0.7325,
          "yanchor": "bottom",
          "yref": "paper"
         },
         {
          "font": {},
          "showarrow": false,
          "text": "ESTACION_DESC=Arturo Soria",
          "x": 0.1175,
          "xanchor": "center",
          "xref": "paper",
          "y": 1,
          "yanchor": "bottom",
          "yref": "paper"
         },
         {
          "font": {},
          "showarrow": false,
          "text": "ESTACION_DESC=Barrio del Pilar",
          "x": 0.3725,
          "xanchor": "center",
          "xref": "paper",
          "y": 1,
          "yanchor": "bottom",
          "yref": "paper"
         },
         {
          "font": {},
          "showarrow": false,
          "text": "ESTACION_DESC=Casa de Campo",
          "x": 0.6275,
          "xanchor": "center",
          "xref": "paper",
          "y": 1,
          "yanchor": "bottom",
          "yref": "paper"
         },
         {
          "font": {},
          "showarrow": false,
          "text": "ESTACION_DESC=Cuatro Caminos",
          "x": 0.8824999999999998,
          "xanchor": "center",
          "xref": "paper",
          "y": 1,
          "yanchor": "bottom",
          "yref": "paper"
         }
        ],
        "legend": {
         "title": {
          "text": "DIA"
         },
         "tracegroupgap": 0
        },
        "template": {
         "data": {
          "bar": [
           {
            "error_x": {
             "color": "#2a3f5f"
            },
            "error_y": {
             "color": "#2a3f5f"
            },
            "marker": {
             "line": {
              "color": "#E5ECF6",
              "width": 0.5
             },
             "pattern": {
              "fillmode": "overlay",
              "size": 10,
              "solidity": 0.2
             }
            },
            "type": "bar"
           }
          ],
          "barpolar": [
           {
            "marker": {
             "line": {
              "color": "#E5ECF6",
              "width": 0.5
             },
             "pattern": {
              "fillmode": "overlay",
              "size": 10,
              "solidity": 0.2
             }
            },
            "type": "barpolar"
           }
          ],
          "carpet": [
           {
            "aaxis": {
             "endlinecolor": "#2a3f5f",
             "gridcolor": "white",
             "linecolor": "white",
             "minorgridcolor": "white",
             "startlinecolor": "#2a3f5f"
            },
            "baxis": {
             "endlinecolor": "#2a3f5f",
             "gridcolor": "white",
             "linecolor": "white",
             "minorgridcolor": "white",
             "startlinecolor": "#2a3f5f"
            },
            "type": "carpet"
           }
          ],
          "choropleth": [
           {
            "colorbar": {
             "outlinewidth": 0,
             "ticks": ""
            },
            "type": "choropleth"
           }
          ],
          "contour": [
           {
            "colorbar": {
             "outlinewidth": 0,
             "ticks": ""
            },
            "colorscale": [
             [
              0,
              "#0d0887"
             ],
             [
              0.1111111111111111,
              "#46039f"
             ],
             [
              0.2222222222222222,
              "#7201a8"
             ],
             [
              0.3333333333333333,
              "#9c179e"
             ],
             [
              0.4444444444444444,
              "#bd3786"
             ],
             [
              0.5555555555555556,
              "#d8576b"
             ],
             [
              0.6666666666666666,
              "#ed7953"
             ],
             [
              0.7777777777777778,
              "#fb9f3a"
             ],
             [
              0.8888888888888888,
              "#fdca26"
             ],
             [
              1,
              "#f0f921"
             ]
            ],
            "type": "contour"
           }
          ],
          "contourcarpet": [
           {
            "colorbar": {
             "outlinewidth": 0,
             "ticks": ""
            },
            "type": "contourcarpet"
           }
          ],
          "heatmap": [
           {
            "colorbar": {
             "outlinewidth": 0,
             "ticks": ""
            },
            "colorscale": [
             [
              0,
              "#0d0887"
             ],
             [
              0.1111111111111111,
              "#46039f"
             ],
             [
              0.2222222222222222,
              "#7201a8"
             ],
             [
              0.3333333333333333,
              "#9c179e"
             ],
             [
              0.4444444444444444,
              "#bd3786"
             ],
             [
              0.5555555555555556,
              "#d8576b"
             ],
             [
              0.6666666666666666,
              "#ed7953"
             ],
             [
              0.7777777777777778,
              "#fb9f3a"
             ],
             [
              0.8888888888888888,
              "#fdca26"
             ],
             [
              1,
              "#f0f921"
             ]
            ],
            "type": "heatmap"
           }
          ],
          "heatmapgl": [
           {
            "colorbar": {
             "outlinewidth": 0,
             "ticks": ""
            },
            "colorscale": [
             [
              0,
              "#0d0887"
             ],
             [
              0.1111111111111111,
              "#46039f"
             ],
             [
              0.2222222222222222,
              "#7201a8"
             ],
             [
              0.3333333333333333,
              "#9c179e"
             ],
             [
              0.4444444444444444,
              "#bd3786"
             ],
             [
              0.5555555555555556,
              "#d8576b"
             ],
             [
              0.6666666666666666,
              "#ed7953"
             ],
             [
              0.7777777777777778,
              "#fb9f3a"
             ],
             [
              0.8888888888888888,
              "#fdca26"
             ],
             [
              1,
              "#f0f921"
             ]
            ],
            "type": "heatmapgl"
           }
          ],
          "histogram": [
           {
            "marker": {
             "pattern": {
              "fillmode": "overlay",
              "size": 10,
              "solidity": 0.2
             }
            },
            "type": "histogram"
           }
          ],
          "histogram2d": [
           {
            "colorbar": {
             "outlinewidth": 0,
             "ticks": ""
            },
            "colorscale": [
             [
              0,
              "#0d0887"
             ],
             [
              0.1111111111111111,
              "#46039f"
             ],
             [
              0.2222222222222222,
              "#7201a8"
             ],
             [
              0.3333333333333333,
              "#9c179e"
             ],
             [
              0.4444444444444444,
              "#bd3786"
             ],
             [
              0.5555555555555556,
              "#d8576b"
             ],
             [
              0.6666666666666666,
              "#ed7953"
             ],
             [
              0.7777777777777778,
              "#fb9f3a"
             ],
             [
              0.8888888888888888,
              "#fdca26"
             ],
             [
              1,
              "#f0f921"
             ]
            ],
            "type": "histogram2d"
           }
          ],
          "histogram2dcontour": [
           {
            "colorbar": {
             "outlinewidth": 0,
             "ticks": ""
            },
            "colorscale": [
             [
              0,
              "#0d0887"
             ],
             [
              0.1111111111111111,
              "#46039f"
             ],
             [
              0.2222222222222222,
              "#7201a8"
             ],
             [
              0.3333333333333333,
              "#9c179e"
             ],
             [
              0.4444444444444444,
              "#bd3786"
             ],
             [
              0.5555555555555556,
              "#d8576b"
             ],
             [
              0.6666666666666666,
              "#ed7953"
             ],
             [
              0.7777777777777778,
              "#fb9f3a"
             ],
             [
              0.8888888888888888,
              "#fdca26"
             ],
             [
              1,
              "#f0f921"
             ]
            ],
            "type": "histogram2dcontour"
           }
          ],
          "mesh3d": [
           {
            "colorbar": {
             "outlinewidth": 0,
             "ticks": ""
            },
            "type": "mesh3d"
           }
          ],
          "parcoords": [
           {
            "line": {
             "colorbar": {
              "outlinewidth": 0,
              "ticks": ""
             }
            },
            "type": "parcoords"
           }
          ],
          "pie": [
           {
            "automargin": true,
            "type": "pie"
           }
          ],
          "scatter": [
           {
            "fillpattern": {
             "fillmode": "overlay",
             "size": 10,
             "solidity": 0.2
            },
            "type": "scatter"
           }
          ],
          "scatter3d": [
           {
            "line": {
             "colorbar": {
              "outlinewidth": 0,
              "ticks": ""
             }
            },
            "marker": {
             "colorbar": {
              "outlinewidth": 0,
              "ticks": ""
             }
            },
            "type": "scatter3d"
           }
          ],
          "scattercarpet": [
           {
            "marker": {
             "colorbar": {
              "outlinewidth": 0,
              "ticks": ""
             }
            },
            "type": "scattercarpet"
           }
          ],
          "scattergeo": [
           {
            "marker": {
             "colorbar": {
              "outlinewidth": 0,
              "ticks": ""
             }
            },
            "type": "scattergeo"
           }
          ],
          "scattergl": [
           {
            "marker": {
             "colorbar": {
              "outlinewidth": 0,
              "ticks": ""
             }
            },
            "type": "scattergl"
           }
          ],
          "scattermapbox": [
           {
            "marker": {
             "colorbar": {
              "outlinewidth": 0,
              "ticks": ""
             }
            },
            "type": "scattermapbox"
           }
          ],
          "scatterpolar": [
           {
            "marker": {
             "colorbar": {
              "outlinewidth": 0,
              "ticks": ""
             }
            },
            "type": "scatterpolar"
           }
          ],
          "scatterpolargl": [
           {
            "marker": {
             "colorbar": {
              "outlinewidth": 0,
              "ticks": ""
             }
            },
            "type": "scatterpolargl"
           }
          ],
          "scatterternary": [
           {
            "marker": {
             "colorbar": {
              "outlinewidth": 0,
              "ticks": ""
             }
            },
            "type": "scatterternary"
           }
          ],
          "surface": [
           {
            "colorbar": {
             "outlinewidth": 0,
             "ticks": ""
            },
            "colorscale": [
             [
              0,
              "#0d0887"
             ],
             [
              0.1111111111111111,
              "#46039f"
             ],
             [
              0.2222222222222222,
              "#7201a8"
             ],
             [
              0.3333333333333333,
              "#9c179e"
             ],
             [
              0.4444444444444444,
              "#bd3786"
             ],
             [
              0.5555555555555556,
              "#d8576b"
             ],
             [
              0.6666666666666666,
              "#ed7953"
             ],
             [
              0.7777777777777778,
              "#fb9f3a"
             ],
             [
              0.8888888888888888,
              "#fdca26"
             ],
             [
              1,
              "#f0f921"
             ]
            ],
            "type": "surface"
           }
          ],
          "table": [
           {
            "cells": {
             "fill": {
              "color": "#EBF0F8"
             },
             "line": {
              "color": "white"
             }
            },
            "header": {
             "fill": {
              "color": "#C8D4E3"
             },
             "line": {
              "color": "white"
             }
            },
            "type": "table"
           }
          ]
         },
         "layout": {
          "annotationdefaults": {
           "arrowcolor": "#2a3f5f",
           "arrowhead": 0,
           "arrowwidth": 1
          },
          "autotypenumbers": "strict",
          "coloraxis": {
           "colorbar": {
            "outlinewidth": 0,
            "ticks": ""
           }
          },
          "colorscale": {
           "diverging": [
            [
             0,
             "#8e0152"
            ],
            [
             0.1,
             "#c51b7d"
            ],
            [
             0.2,
             "#de77ae"
            ],
            [
             0.3,
             "#f1b6da"
            ],
            [
             0.4,
             "#fde0ef"
            ],
            [
             0.5,
             "#f7f7f7"
            ],
            [
             0.6,
             "#e6f5d0"
            ],
            [
             0.7,
             "#b8e186"
            ],
            [
             0.8,
             "#7fbc41"
            ],
            [
             0.9,
             "#4d9221"
            ],
            [
             1,
             "#276419"
            ]
           ],
           "sequential": [
            [
             0,
             "#0d0887"
            ],
            [
             0.1111111111111111,
             "#46039f"
            ],
            [
             0.2222222222222222,
             "#7201a8"
            ],
            [
             0.3333333333333333,
             "#9c179e"
            ],
            [
             0.4444444444444444,
             "#bd3786"
            ],
            [
             0.5555555555555556,
             "#d8576b"
            ],
            [
             0.6666666666666666,
             "#ed7953"
            ],
            [
             0.7777777777777778,
             "#fb9f3a"
            ],
            [
             0.8888888888888888,
             "#fdca26"
            ],
            [
             1,
             "#f0f921"
            ]
           ],
           "sequentialminus": [
            [
             0,
             "#0d0887"
            ],
            [
             0.1111111111111111,
             "#46039f"
            ],
            [
             0.2222222222222222,
             "#7201a8"
            ],
            [
             0.3333333333333333,
             "#9c179e"
            ],
            [
             0.4444444444444444,
             "#bd3786"
            ],
            [
             0.5555555555555556,
             "#d8576b"
            ],
            [
             0.6666666666666666,
             "#ed7953"
            ],
            [
             0.7777777777777778,
             "#fb9f3a"
            ],
            [
             0.8888888888888888,
             "#fdca26"
            ],
            [
             1,
             "#f0f921"
            ]
           ]
          },
          "colorway": [
           "#636efa",
           "#EF553B",
           "#00cc96",
           "#ab63fa",
           "#FFA15A",
           "#19d3f3",
           "#FF6692",
           "#B6E880",
           "#FF97FF",
           "#FECB52"
          ],
          "font": {
           "color": "#2a3f5f"
          },
          "geo": {
           "bgcolor": "white",
           "lakecolor": "white",
           "landcolor": "#E5ECF6",
           "showlakes": true,
           "showland": true,
           "subunitcolor": "white"
          },
          "hoverlabel": {
           "align": "left"
          },
          "hovermode": "closest",
          "mapbox": {
           "style": "light"
          },
          "paper_bgcolor": "white",
          "plot_bgcolor": "#E5ECF6",
          "polar": {
           "angularaxis": {
            "gridcolor": "white",
            "linecolor": "white",
            "ticks": ""
           },
           "bgcolor": "#E5ECF6",
           "radialaxis": {
            "gridcolor": "white",
            "linecolor": "white",
            "ticks": ""
           }
          },
          "scene": {
           "xaxis": {
            "backgroundcolor": "#E5ECF6",
            "gridcolor": "white",
            "gridwidth": 2,
            "linecolor": "white",
            "showbackground": true,
            "ticks": "",
            "zerolinecolor": "white"
           },
           "yaxis": {
            "backgroundcolor": "#E5ECF6",
            "gridcolor": "white",
            "gridwidth": 2,
            "linecolor": "white",
            "showbackground": true,
            "ticks": "",
            "zerolinecolor": "white"
           },
           "zaxis": {
            "backgroundcolor": "#E5ECF6",
            "gridcolor": "white",
            "gridwidth": 2,
            "linecolor": "white",
            "showbackground": true,
            "ticks": "",
            "zerolinecolor": "white"
           }
          },
          "shapedefaults": {
           "line": {
            "color": "#2a3f5f"
           }
          },
          "ternary": {
           "aaxis": {
            "gridcolor": "white",
            "linecolor": "white",
            "ticks": ""
           },
           "baxis": {
            "gridcolor": "white",
            "linecolor": "white",
            "ticks": ""
           },
           "bgcolor": "#E5ECF6",
           "caxis": {
            "gridcolor": "white",
            "linecolor": "white",
            "ticks": ""
           }
          },
          "title": {
           "x": 0.05
          },
          "xaxis": {
           "automargin": true,
           "gridcolor": "white",
           "linecolor": "white",
           "ticks": "",
           "title": {
            "standoff": 15
           },
           "zerolinecolor": "white",
           "zerolinewidth": 2
          },
          "yaxis": {
           "automargin": true,
           "gridcolor": "white",
           "linecolor": "white",
           "ticks": "",
           "title": {
            "standoff": 15
           },
           "zerolinecolor": "white",
           "zerolinewidth": 2
          }
         }
        },
        "title": {
         "text": "NOX "
        },
        "xaxis": {
         "anchor": "y",
         "domain": [
          0,
          0.235
         ],
         "title": {
          "text": "H"
         }
        },
        "xaxis10": {
         "anchor": "y10",
         "domain": [
          0.255,
          0.49
         ],
         "matches": "x",
         "showticklabels": false
        },
        "xaxis11": {
         "anchor": "y11",
         "domain": [
          0.51,
          0.745
         ],
         "matches": "x",
         "showticklabels": false
        },
        "xaxis12": {
         "anchor": "y12",
         "domain": [
          0.7649999999999999,
          0.9999999999999999
         ],
         "matches": "x",
         "showticklabels": false
        },
        "xaxis13": {
         "anchor": "y13",
         "domain": [
          0,
          0.235
         ],
         "matches": "x",
         "showticklabels": false
        },
        "xaxis14": {
         "anchor": "y14",
         "domain": [
          0.255,
          0.49
         ],
         "matches": "x",
         "showticklabels": false
        },
        "xaxis15": {
         "anchor": "y15",
         "domain": [
          0.51,
          0.745
         ],
         "matches": "x",
         "showticklabels": false
        },
        "xaxis16": {
         "anchor": "y16",
         "domain": [
          0.7649999999999999,
          0.9999999999999999
         ],
         "matches": "x",
         "showticklabels": false
        },
        "xaxis2": {
         "anchor": "y2",
         "domain": [
          0.255,
          0.49
         ],
         "matches": "x",
         "title": {
          "text": "H"
         }
        },
        "xaxis3": {
         "anchor": "y3",
         "domain": [
          0.51,
          0.745
         ],
         "matches": "x",
         "title": {
          "text": "H"
         }
        },
        "xaxis4": {
         "anchor": "y4",
         "domain": [
          0.7649999999999999,
          0.9999999999999999
         ],
         "matches": "x",
         "title": {
          "text": "H"
         }
        },
        "xaxis5": {
         "anchor": "y5",
         "domain": [
          0,
          0.235
         ],
         "matches": "x",
         "showticklabels": false
        },
        "xaxis6": {
         "anchor": "y6",
         "domain": [
          0.255,
          0.49
         ],
         "matches": "x",
         "showticklabels": false
        },
        "xaxis7": {
         "anchor": "y7",
         "domain": [
          0.51,
          0.745
         ],
         "matches": "x",
         "showticklabels": false
        },
        "xaxis8": {
         "anchor": "y8",
         "domain": [
          0.7649999999999999,
          0.9999999999999999
         ],
         "matches": "x",
         "showticklabels": false
        },
        "xaxis9": {
         "anchor": "y9",
         "domain": [
          0,
          0.235
         ],
         "matches": "x",
         "showticklabels": false
        },
        "yaxis": {
         "anchor": "x",
         "domain": [
          0,
          0.1975
         ],
         "title": {
          "text": "VALOR"
         }
        },
        "yaxis10": {
         "anchor": "x10",
         "domain": [
          0.535,
          0.7325
         ],
         "matches": "y",
         "showticklabels": false
        },
        "yaxis11": {
         "anchor": "x11",
         "domain": [
          0.535,
          0.7325
         ],
         "matches": "y",
         "showticklabels": false
        },
        "yaxis12": {
         "anchor": "x12",
         "domain": [
          0.535,
          0.7325
         ],
         "matches": "y",
         "showticklabels": false
        },
        "yaxis13": {
         "anchor": "x13",
         "domain": [
          0.8025,
          1
         ],
         "matches": "y",
         "title": {
          "text": "VALOR"
         }
        },
        "yaxis14": {
         "anchor": "x14",
         "domain": [
          0.8025,
          1
         ],
         "matches": "y",
         "showticklabels": false
        },
        "yaxis15": {
         "anchor": "x15",
         "domain": [
          0.8025,
          1
         ],
         "matches": "y",
         "showticklabels": false
        },
        "yaxis16": {
         "anchor": "x16",
         "domain": [
          0.8025,
          1
         ],
         "matches": "y",
         "showticklabels": false
        },
        "yaxis2": {
         "anchor": "x2",
         "domain": [
          0,
          0.1975
         ],
         "matches": "y",
         "showticklabels": false
        },
        "yaxis3": {
         "anchor": "x3",
         "domain": [
          0,
          0.1975
         ],
         "matches": "y",
         "showticklabels": false
        },
        "yaxis4": {
         "anchor": "x4",
         "domain": [
          0,
          0.1975
         ],
         "matches": "y",
         "showticklabels": false
        },
        "yaxis5": {
         "anchor": "x5",
         "domain": [
          0.2675,
          0.465
         ],
         "matches": "y",
         "title": {
          "text": "VALOR"
         }
        },
        "yaxis6": {
         "anchor": "x6",
         "domain": [
          0.2675,
          0.465
         ],
         "matches": "y",
         "showticklabels": false
        },
        "yaxis7": {
         "anchor": "x7",
         "domain": [
          0.2675,
          0.465
         ],
         "matches": "y",
         "showticklabels": false
        },
        "yaxis8": {
         "anchor": "x8",
         "domain": [
          0.2675,
          0.465
         ],
         "matches": "y",
         "showticklabels": false
        },
        "yaxis9": {
         "anchor": "x9",
         "domain": [
          0.535,
          0.7325
         ],
         "matches": "y",
         "title": {
          "text": "VALOR"
         }
        }
       }
      },
      "text/html": [
       "<div>                            <div id=\"c879673c-54bb-46b1-b215-e70d2444b1b7\" class=\"plotly-graph-div\" style=\"height:525px; width:100%;\"></div>            <script type=\"text/javascript\">                require([\"plotly\"], function(Plotly) {                    window.PLOTLYENV=window.PLOTLYENV || {};                                    if (document.getElementById(\"c879673c-54bb-46b1-b215-e70d2444b1b7\")) {                    Plotly.newPlot(                        \"c879673c-54bb-46b1-b215-e70d2444b1b7\",                        [{\"hovertemplate\":\"DIA=24\\u003cbr\\u003eESTACION_DESC=Arturo Soria\\u003cbr\\u003eH=%{x}\\u003cbr\\u003eVALOR=%{y}\\u003cextra\\u003e\\u003c\\u002fextra\\u003e\",\"legendgroup\":\"24\",\"line\":{\"color\":\"#636efa\",\"dash\":\"solid\"},\"marker\":{\"symbol\":\"circle\"},\"mode\":\"lines\",\"name\":\"24\",\"orientation\":\"v\",\"showlegend\":true,\"x\":[1,2,3,4,5,6,7,8,9,10,11,12,13,14,15,16,17,18,19,20,21,22,23,24],\"xaxis\":\"x13\",\"y\":[40.0,28.0,24.0,17.0,13.0,16.0,17.0,25.0,36.0,36.0,36.0,30.0,26.0,23.0,17.0,17.0,16.0,16.0,22.0,32.0,34.0,31.0,31.0,27.0],\"yaxis\":\"y13\",\"type\":\"scatter\"},{\"hovertemplate\":\"DIA=24\\u003cbr\\u003eESTACION_DESC=Barrio del Pilar\\u003cbr\\u003eH=%{x}\\u003cbr\\u003eVALOR=%{y}\\u003cextra\\u003e\\u003c\\u002fextra\\u003e\",\"legendgroup\":\"24\",\"line\":{\"color\":\"#636efa\",\"dash\":\"solid\"},\"marker\":{\"symbol\":\"circle\"},\"mode\":\"lines\",\"name\":\"24\",\"orientation\":\"v\",\"showlegend\":false,\"x\":[1,2,3,4,5,6,7,8,9,10,11,12,13,14,15,16,17,18,19,20,21,22,23,24],\"xaxis\":\"x14\",\"y\":[22.0,32.0,15.0,6.0,5.0,15.0,32.0,39.0,49.0,54.0,51.0,42.0,27.0,20.0,22.0,22.0,21.0,25.0,23.0,34.0,39.0,35.0,29.0,22.0],\"yaxis\":\"y14\",\"type\":\"scatter\"},{\"hovertemplate\":\"DIA=24\\u003cbr\\u003eESTACION_DESC=Casa de Campo\\u003cbr\\u003eH=%{x}\\u003cbr\\u003eVALOR=%{y}\\u003cextra\\u003e\\u003c\\u002fextra\\u003e\",\"legendgroup\":\"24\",\"line\":{\"color\":\"#636efa\",\"dash\":\"solid\"},\"marker\":{\"symbol\":\"circle\"},\"mode\":\"lines\",\"name\":\"24\",\"orientation\":\"v\",\"showlegend\":false,\"x\":[1,2,3,4,5,6,7,8,9,10,11,12,13,14,15,16,17,18,19,20,21,22,23,24],\"xaxis\":\"x15\",\"y\":[30.0,29.0,21.0,15.0,15.0,24.0,37.0,46.0,47.0,41.0,29.0,28.0,19.0,15.0,12.0,11.0,9.0,10.0,13.0,20.0,19.0,22.0,20.0,22.0],\"yaxis\":\"y15\",\"type\":\"scatter\"},{\"hovertemplate\":\"DIA=24\\u003cbr\\u003eESTACION_DESC=Cuatro Caminos\\u003cbr\\u003eH=%{x}\\u003cbr\\u003eVALOR=%{y}\\u003cextra\\u003e\\u003c\\u002fextra\\u003e\",\"legendgroup\":\"24\",\"line\":{\"color\":\"#636efa\",\"dash\":\"solid\"},\"marker\":{\"symbol\":\"circle\"},\"mode\":\"lines\",\"name\":\"24\",\"orientation\":\"v\",\"showlegend\":false,\"x\":[1,2,3,4,5,6,7,8,9,10,11,12,13,14,15,16,17,18,19,20,21,22,23,24],\"xaxis\":\"x16\",\"y\":[31.0,25.0,10.0,7.0,15.0,26.0,34.0,48.0,57.0,60.0,57.0,41.0,31.0,19.0,18.0,22.0,20.0,23.0,25.0,27.0,30.0,30.0,24.0,20.0],\"yaxis\":\"y16\",\"type\":\"scatter\"},{\"hovertemplate\":\"DIA=24\\u003cbr\\u003eESTACION_DESC=El Pardo\\u003cbr\\u003eH=%{x}\\u003cbr\\u003eVALOR=%{y}\\u003cextra\\u003e\\u003c\\u002fextra\\u003e\",\"legendgroup\":\"24\",\"line\":{\"color\":\"#636efa\",\"dash\":\"solid\"},\"marker\":{\"symbol\":\"circle\"},\"mode\":\"lines\",\"name\":\"24\",\"orientation\":\"v\",\"showlegend\":false,\"x\":[1,2,3,4,5,6,7,8,9,10,11,12,13,14,15,16,17,18,19,20,21,22,23,24],\"xaxis\":\"x9\",\"y\":[9.0,6.0,5.0,3.0,3.0,3.0,6.0,15.0,9.0,12.0,16.0,10.0,7.0,7.0,5.0,7.0,6.0,4.0,4.0,12.0,17.0,21.0,18.0,13.0],\"yaxis\":\"y9\",\"type\":\"scatter\"},{\"hovertemplate\":\"DIA=24\\u003cbr\\u003eESTACION_DESC=Ensanche de Vallecas\\u003cbr\\u003eH=%{x}\\u003cbr\\u003eVALOR=%{y}\\u003cextra\\u003e\\u003c\\u002fextra\\u003e\",\"legendgroup\":\"24\",\"line\":{\"color\":\"#636efa\",\"dash\":\"solid\"},\"marker\":{\"symbol\":\"circle\"},\"mode\":\"lines\",\"name\":\"24\",\"orientation\":\"v\",\"showlegend\":false,\"x\":[1,2,3,4,5,6,7,8,9,10,11,12,13,14,15,16,17,18,19,20,21,22,23,24],\"xaxis\":\"x10\",\"y\":[49.0,25.0,18.0,22.0,16.0,18.0,27.0,43.0,46.0,48.0,36.0,33.0,27.0,22.0,20.0,20.0,21.0,26.0,29.0,27.0,33.0,35.0,36.0,30.0],\"yaxis\":\"y10\",\"type\":\"scatter\"},{\"hovertemplate\":\"DIA=24\\u003cbr\\u003eESTACION_DESC=Escuelas Aguirre\\u003cbr\\u003eH=%{x}\\u003cbr\\u003eVALOR=%{y}\\u003cextra\\u003e\\u003c\\u002fextra\\u003e\",\"legendgroup\":\"24\",\"line\":{\"color\":\"#636efa\",\"dash\":\"solid\"},\"marker\":{\"symbol\":\"circle\"},\"mode\":\"lines\",\"name\":\"24\",\"orientation\":\"v\",\"showlegend\":false,\"x\":[1,2,3,4,5,6,7,8,9,10,11,12,13,14,15,16,17,18,19,20,21,22,23,24],\"xaxis\":\"x11\",\"y\":[64.0,58.0,35.0,28.0,36.0,34.0,30.0,53.0,62.0,63.0,65.0,57.0,39.0,33.0,29.0,29.0,27.0,26.0,35.0,40.0,51.0,41.0,36.0,33.0],\"yaxis\":\"y11\",\"type\":\"scatter\"},{\"hovertemplate\":\"DIA=24\\u003cbr\\u003eESTACION_DESC=Farolillo\\u003cbr\\u003eH=%{x}\\u003cbr\\u003eVALOR=%{y}\\u003cextra\\u003e\\u003c\\u002fextra\\u003e\",\"legendgroup\":\"24\",\"line\":{\"color\":\"#636efa\",\"dash\":\"solid\"},\"marker\":{\"symbol\":\"circle\"},\"mode\":\"lines\",\"name\":\"24\",\"orientation\":\"v\",\"showlegend\":false,\"x\":[1,2,3,4,5,6,7,8,9,10,11,12,13,14,15,16,17,18,19,20,21,22,23,24],\"xaxis\":\"x12\",\"y\":[52.0,45.0,36.0,33.0,28.0,44.0,49.0,57.0,65.0,66.0,47.0,38.0,28.0,20.0,17.0,19.0,16.0,24.0,28.0,35.0,36.0,33.0,29.0,29.0],\"yaxis\":\"y12\",\"type\":\"scatter\"},{\"hovertemplate\":\"DIA=24\\u003cbr\\u003eESTACION_DESC=Juan Carlos I\\u003cbr\\u003eH=%{x}\\u003cbr\\u003eVALOR=%{y}\\u003cextra\\u003e\\u003c\\u002fextra\\u003e\",\"legendgroup\":\"24\",\"line\":{\"color\":\"#636efa\",\"dash\":\"solid\"},\"marker\":{\"symbol\":\"circle\"},\"mode\":\"lines\",\"name\":\"24\",\"orientation\":\"v\",\"showlegend\":false,\"x\":[1,2,3,4,5,6,7,8,9,10,11,12,13,14,15,16,17,18,19,20,21,22,23,24],\"xaxis\":\"x5\",\"y\":[70.0,44.0,25.0,22.0,46.0,41.0,32.0,34.0,50.0,54.0,50.0,41.0,33.0,24.0,19.0,19.0,13.0,16.0,21.0,28.0,35.0,36.0,38.0,32.0],\"yaxis\":\"y5\",\"type\":\"scatter\"},{\"hovertemplate\":\"DIA=24\\u003cbr\\u003eESTACION_DESC=Moratalaz\\u003cbr\\u003eH=%{x}\\u003cbr\\u003eVALOR=%{y}\\u003cextra\\u003e\\u003c\\u002fextra\\u003e\",\"legendgroup\":\"24\",\"line\":{\"color\":\"#636efa\",\"dash\":\"solid\"},\"marker\":{\"symbol\":\"circle\"},\"mode\":\"lines\",\"name\":\"24\",\"orientation\":\"v\",\"showlegend\":false,\"x\":[1,2,3,4,5,6,7,8,9,10,11,12,13,14,15,16,17,18,19,20,21,22,23,24],\"xaxis\":\"x6\",\"y\":[55.0,33.0,26.0,21.0,26.0,21.0,23.0,37.0,53.0,54.0,53.0,44.0,33.0,23.0,20.0,22.0,19.0,20.0,28.0,39.0,41.0,44.0,41.0,35.0],\"yaxis\":\"y6\",\"type\":\"scatter\"},{\"hovertemplate\":\"DIA=24\\u003cbr\\u003eESTACION_DESC=Plaza El\\u00edptica\\u003cbr\\u003eH=%{x}\\u003cbr\\u003eVALOR=%{y}\\u003cextra\\u003e\\u003c\\u002fextra\\u003e\",\"legendgroup\":\"24\",\"line\":{\"color\":\"#636efa\",\"dash\":\"solid\"},\"marker\":{\"symbol\":\"circle\"},\"mode\":\"lines\",\"name\":\"24\",\"orientation\":\"v\",\"showlegend\":false,\"x\":[1,2,3,4,5,6,7,8,9,10,11,12,13,14,15,16,17,18,19,20,21,22,23,24],\"xaxis\":\"x7\",\"y\":[64.0,58.0,49.0,42.0,38.0,42.0,46.0,55.0,65.0,61.0,48.0,33.0,25.0,18.0,22.0,20.0,18.0,24.0,29.0,36.0,38.0,43.0,39.0,38.0],\"yaxis\":\"y7\",\"type\":\"scatter\"},{\"hovertemplate\":\"DIA=24\\u003cbr\\u003eESTACION_DESC=Plaza Espa\\u00f1a\\u003cbr\\u003eH=%{x}\\u003cbr\\u003eVALOR=%{y}\\u003cextra\\u003e\\u003c\\u002fextra\\u003e\",\"legendgroup\":\"24\",\"line\":{\"color\":\"#636efa\",\"dash\":\"solid\"},\"marker\":{\"symbol\":\"circle\"},\"mode\":\"lines\",\"name\":\"24\",\"orientation\":\"v\",\"showlegend\":false,\"x\":[1,2,3,4,5,6,7,8,9,10,11,12,13,14,15,16,17,18,19,20,21,22,23,24],\"xaxis\":\"x8\",\"y\":[44.0,49.0,18.0,14.0,28.0,40.0,40.0,54.0,66.0,70.0,67.0,44.0,42.0,20.0,19.0,19.0,19.0,21.0,22.0,28.0,32.0,31.0,31.0,26.0],\"yaxis\":\"y8\",\"type\":\"scatter\"},{\"hovertemplate\":\"DIA=24\\u003cbr\\u003eESTACION_DESC=Plaza del Carmen\\u003cbr\\u003eH=%{x}\\u003cbr\\u003eVALOR=%{y}\\u003cextra\\u003e\\u003c\\u002fextra\\u003e\",\"legendgroup\":\"24\",\"line\":{\"color\":\"#636efa\",\"dash\":\"solid\"},\"marker\":{\"symbol\":\"circle\"},\"mode\":\"lines\",\"name\":\"24\",\"orientation\":\"v\",\"showlegend\":false,\"x\":[1,2,3,4,5,6,7,8,9,10,11,12,13,14,15,16,17,18,19,20,21,22,23,24],\"xaxis\":\"x\",\"y\":[56.0,51.0,20.0,22.0,42.0,41.0,39.0,54.0,60.0,62.0,62.0,50.0,34.0,20.0,16.0,16.0,13.0,16.0,21.0,25.0,25.0,24.0,19.0,24.0],\"yaxis\":\"y\",\"type\":\"scatter\"},{\"hovertemplate\":\"DIA=25\\u003cbr\\u003eESTACION_DESC=Arturo Soria\\u003cbr\\u003eH=%{x}\\u003cbr\\u003eVALOR=%{y}\\u003cextra\\u003e\\u003c\\u002fextra\\u003e\",\"legendgroup\":\"25\",\"line\":{\"color\":\"#EF553B\",\"dash\":\"solid\"},\"marker\":{\"symbol\":\"circle\"},\"mode\":\"lines\",\"name\":\"25\",\"orientation\":\"v\",\"showlegend\":true,\"x\":[1,2,3,4,5,6,7,8,9],\"xaxis\":\"x13\",\"y\":[17.0,8.0,6.0,4.0,5.0,4.0,5.0,8.0,10.0],\"yaxis\":\"y13\",\"type\":\"scatter\"},{\"hovertemplate\":\"DIA=25\\u003cbr\\u003eESTACION_DESC=Barrio del Pilar\\u003cbr\\u003eH=%{x}\\u003cbr\\u003eVALOR=%{y}\\u003cextra\\u003e\\u003c\\u002fextra\\u003e\",\"legendgroup\":\"25\",\"line\":{\"color\":\"#EF553B\",\"dash\":\"solid\"},\"marker\":{\"symbol\":\"circle\"},\"mode\":\"lines\",\"name\":\"25\",\"orientation\":\"v\",\"showlegend\":false,\"x\":[1,2,3,4,5,6,7,8,9],\"xaxis\":\"x14\",\"y\":[15.0,7.0,5.0,3.0,3.0,3.0,5.0,7.0,11.0],\"yaxis\":\"y14\",\"type\":\"scatter\"},{\"hovertemplate\":\"DIA=25\\u003cbr\\u003eESTACION_DESC=Casa de Campo\\u003cbr\\u003eH=%{x}\\u003cbr\\u003eVALOR=%{y}\\u003cextra\\u003e\\u003c\\u002fextra\\u003e\",\"legendgroup\":\"25\",\"line\":{\"color\":\"#EF553B\",\"dash\":\"solid\"},\"marker\":{\"symbol\":\"circle\"},\"mode\":\"lines\",\"name\":\"25\",\"orientation\":\"v\",\"showlegend\":false,\"x\":[1,2,3,4,5,6,7,8,9],\"xaxis\":\"x15\",\"y\":[16.0,10.0,5.0,5.0,5.0,5.0,6.0,5.0,7.0],\"yaxis\":\"y15\",\"type\":\"scatter\"},{\"hovertemplate\":\"DIA=25\\u003cbr\\u003eESTACION_DESC=Cuatro Caminos\\u003cbr\\u003eH=%{x}\\u003cbr\\u003eVALOR=%{y}\\u003cextra\\u003e\\u003c\\u002fextra\\u003e\",\"legendgroup\":\"25\",\"line\":{\"color\":\"#EF553B\",\"dash\":\"solid\"},\"marker\":{\"symbol\":\"circle\"},\"mode\":\"lines\",\"name\":\"25\",\"orientation\":\"v\",\"showlegend\":false,\"x\":[1,2,3,4,5,6,7,8,9],\"xaxis\":\"x16\",\"y\":[12.0,8.0,5.0,5.0,4.0,5.0,7.0,8.0,11.0],\"yaxis\":\"y16\",\"type\":\"scatter\"},{\"hovertemplate\":\"DIA=25\\u003cbr\\u003eESTACION_DESC=El Pardo\\u003cbr\\u003eH=%{x}\\u003cbr\\u003eVALOR=%{y}\\u003cextra\\u003e\\u003c\\u002fextra\\u003e\",\"legendgroup\":\"25\",\"line\":{\"color\":\"#EF553B\",\"dash\":\"solid\"},\"marker\":{\"symbol\":\"circle\"},\"mode\":\"lines\",\"name\":\"25\",\"orientation\":\"v\",\"showlegend\":false,\"x\":[1,2,3,4,5,6,7,8,9],\"xaxis\":\"x9\",\"y\":[9.0,7.0,4.0,3.0,2.0,2.0,2.0,2.0,3.0],\"yaxis\":\"y9\",\"type\":\"scatter\"},{\"hovertemplate\":\"DIA=25\\u003cbr\\u003eESTACION_DESC=Ensanche de Vallecas\\u003cbr\\u003eH=%{x}\\u003cbr\\u003eVALOR=%{y}\\u003cextra\\u003e\\u003c\\u002fextra\\u003e\",\"legendgroup\":\"25\",\"line\":{\"color\":\"#EF553B\",\"dash\":\"solid\"},\"marker\":{\"symbol\":\"circle\"},\"mode\":\"lines\",\"name\":\"25\",\"orientation\":\"v\",\"showlegend\":false,\"x\":[1,2,3,4,5,6,7,8,9],\"xaxis\":\"x10\",\"y\":[23.0,13.0,14.0,10.0,7.0,13.0,10.0,11.0,17.0],\"yaxis\":\"y10\",\"type\":\"scatter\"},{\"hovertemplate\":\"DIA=25\\u003cbr\\u003eESTACION_DESC=Escuelas Aguirre\\u003cbr\\u003eH=%{x}\\u003cbr\\u003eVALOR=%{y}\\u003cextra\\u003e\\u003c\\u002fextra\\u003e\",\"legendgroup\":\"25\",\"line\":{\"color\":\"#EF553B\",\"dash\":\"solid\"},\"marker\":{\"symbol\":\"circle\"},\"mode\":\"lines\",\"name\":\"25\",\"orientation\":\"v\",\"showlegend\":false,\"x\":[1,2,3,4,5,6,7,8,9],\"xaxis\":\"x11\",\"y\":[27.0,15.0,12.0,10.0,9.0,9.0,10.0,13.0,18.0],\"yaxis\":\"y11\",\"type\":\"scatter\"},{\"hovertemplate\":\"DIA=25\\u003cbr\\u003eESTACION_DESC=Farolillo\\u003cbr\\u003eH=%{x}\\u003cbr\\u003eVALOR=%{y}\\u003cextra\\u003e\\u003c\\u002fextra\\u003e\",\"legendgroup\":\"25\",\"line\":{\"color\":\"#EF553B\",\"dash\":\"solid\"},\"marker\":{\"symbol\":\"circle\"},\"mode\":\"lines\",\"name\":\"25\",\"orientation\":\"v\",\"showlegend\":false,\"x\":[1,2,3,4,5,6,7,8,9],\"xaxis\":\"x12\",\"y\":[15.0,8.0,5.0,4.0,4.0,4.0,6.0,9.0,16.0],\"yaxis\":\"y12\",\"type\":\"scatter\"},{\"hovertemplate\":\"DIA=25\\u003cbr\\u003eESTACION_DESC=Juan Carlos I\\u003cbr\\u003eH=%{x}\\u003cbr\\u003eVALOR=%{y}\\u003cextra\\u003e\\u003c\\u002fextra\\u003e\",\"legendgroup\":\"25\",\"line\":{\"color\":\"#EF553B\",\"dash\":\"solid\"},\"marker\":{\"symbol\":\"circle\"},\"mode\":\"lines\",\"name\":\"25\",\"orientation\":\"v\",\"showlegend\":false,\"x\":[1,2,3,4,5,6,7,8,9],\"xaxis\":\"x5\",\"y\":[24.0,12.0,7.0,5.0,5.0,5.0,6.0,10.0,13.0],\"yaxis\":\"y5\",\"type\":\"scatter\"},{\"hovertemplate\":\"DIA=25\\u003cbr\\u003eESTACION_DESC=Moratalaz\\u003cbr\\u003eH=%{x}\\u003cbr\\u003eVALOR=%{y}\\u003cextra\\u003e\\u003c\\u002fextra\\u003e\",\"legendgroup\":\"25\",\"line\":{\"color\":\"#EF553B\",\"dash\":\"solid\"},\"marker\":{\"symbol\":\"circle\"},\"mode\":\"lines\",\"name\":\"25\",\"orientation\":\"v\",\"showlegend\":false,\"x\":[1,2,3,4,5,6,7,8,9],\"xaxis\":\"x6\",\"y\":[25.0,17.0,10.0,5.0,7.0,5.0,7.0,11.0,18.0],\"yaxis\":\"y6\",\"type\":\"scatter\"},{\"hovertemplate\":\"DIA=25\\u003cbr\\u003eESTACION_DESC=Plaza El\\u00edptica\\u003cbr\\u003eH=%{x}\\u003cbr\\u003eVALOR=%{y}\\u003cextra\\u003e\\u003c\\u002fextra\\u003e\",\"legendgroup\":\"25\",\"line\":{\"color\":\"#EF553B\",\"dash\":\"solid\"},\"marker\":{\"symbol\":\"circle\"},\"mode\":\"lines\",\"name\":\"25\",\"orientation\":\"v\",\"showlegend\":false,\"x\":[1,2,3,4,5,6,7,8,9],\"xaxis\":\"x7\",\"y\":[18.0,11.0,6.0,4.0,4.0,5.0,6.0,11.0,15.0],\"yaxis\":\"y7\",\"type\":\"scatter\"},{\"hovertemplate\":\"DIA=25\\u003cbr\\u003eESTACION_DESC=Plaza Espa\\u00f1a\\u003cbr\\u003eH=%{x}\\u003cbr\\u003eVALOR=%{y}\\u003cextra\\u003e\\u003c\\u002fextra\\u003e\",\"legendgroup\":\"25\",\"line\":{\"color\":\"#EF553B\",\"dash\":\"solid\"},\"marker\":{\"symbol\":\"circle\"},\"mode\":\"lines\",\"name\":\"25\",\"orientation\":\"v\",\"showlegend\":false,\"x\":[1,2,3,4,5,6,7,8,9],\"xaxis\":\"x8\",\"y\":[17.0,8.0,6.0,6.0,6.0,5.0,7.0,9.0,16.0],\"yaxis\":\"y8\",\"type\":\"scatter\"},{\"hovertemplate\":\"DIA=25\\u003cbr\\u003eESTACION_DESC=Plaza del Carmen\\u003cbr\\u003eH=%{x}\\u003cbr\\u003eVALOR=%{y}\\u003cextra\\u003e\\u003c\\u002fextra\\u003e\",\"legendgroup\":\"25\",\"line\":{\"color\":\"#EF553B\",\"dash\":\"solid\"},\"marker\":{\"symbol\":\"circle\"},\"mode\":\"lines\",\"name\":\"25\",\"orientation\":\"v\",\"showlegend\":false,\"x\":[1,2,3,4,5,6,7,8,9],\"xaxis\":\"x\",\"y\":[15.0,8.0,7.0,5.0,4.0,4.0,5.0,8.0,11.0],\"yaxis\":\"y\",\"type\":\"scatter\"}],                        {\"template\":{\"data\":{\"histogram2dcontour\":[{\"type\":\"histogram2dcontour\",\"colorbar\":{\"outlinewidth\":0,\"ticks\":\"\"},\"colorscale\":[[0.0,\"#0d0887\"],[0.1111111111111111,\"#46039f\"],[0.2222222222222222,\"#7201a8\"],[0.3333333333333333,\"#9c179e\"],[0.4444444444444444,\"#bd3786\"],[0.5555555555555556,\"#d8576b\"],[0.6666666666666666,\"#ed7953\"],[0.7777777777777778,\"#fb9f3a\"],[0.8888888888888888,\"#fdca26\"],[1.0,\"#f0f921\"]]}],\"choropleth\":[{\"type\":\"choropleth\",\"colorbar\":{\"outlinewidth\":0,\"ticks\":\"\"}}],\"histogram2d\":[{\"type\":\"histogram2d\",\"colorbar\":{\"outlinewidth\":0,\"ticks\":\"\"},\"colorscale\":[[0.0,\"#0d0887\"],[0.1111111111111111,\"#46039f\"],[0.2222222222222222,\"#7201a8\"],[0.3333333333333333,\"#9c179e\"],[0.4444444444444444,\"#bd3786\"],[0.5555555555555556,\"#d8576b\"],[0.6666666666666666,\"#ed7953\"],[0.7777777777777778,\"#fb9f3a\"],[0.8888888888888888,\"#fdca26\"],[1.0,\"#f0f921\"]]}],\"heatmap\":[{\"type\":\"heatmap\",\"colorbar\":{\"outlinewidth\":0,\"ticks\":\"\"},\"colorscale\":[[0.0,\"#0d0887\"],[0.1111111111111111,\"#46039f\"],[0.2222222222222222,\"#7201a8\"],[0.3333333333333333,\"#9c179e\"],[0.4444444444444444,\"#bd3786\"],[0.5555555555555556,\"#d8576b\"],[0.6666666666666666,\"#ed7953\"],[0.7777777777777778,\"#fb9f3a\"],[0.8888888888888888,\"#fdca26\"],[1.0,\"#f0f921\"]]}],\"heatmapgl\":[{\"type\":\"heatmapgl\",\"colorbar\":{\"outlinewidth\":0,\"ticks\":\"\"},\"colorscale\":[[0.0,\"#0d0887\"],[0.1111111111111111,\"#46039f\"],[0.2222222222222222,\"#7201a8\"],[0.3333333333333333,\"#9c179e\"],[0.4444444444444444,\"#bd3786\"],[0.5555555555555556,\"#d8576b\"],[0.6666666666666666,\"#ed7953\"],[0.7777777777777778,\"#fb9f3a\"],[0.8888888888888888,\"#fdca26\"],[1.0,\"#f0f921\"]]}],\"contourcarpet\":[{\"type\":\"contourcarpet\",\"colorbar\":{\"outlinewidth\":0,\"ticks\":\"\"}}],\"contour\":[{\"type\":\"contour\",\"colorbar\":{\"outlinewidth\":0,\"ticks\":\"\"},\"colorscale\":[[0.0,\"#0d0887\"],[0.1111111111111111,\"#46039f\"],[0.2222222222222222,\"#7201a8\"],[0.3333333333333333,\"#9c179e\"],[0.4444444444444444,\"#bd3786\"],[0.5555555555555556,\"#d8576b\"],[0.6666666666666666,\"#ed7953\"],[0.7777777777777778,\"#fb9f3a\"],[0.8888888888888888,\"#fdca26\"],[1.0,\"#f0f921\"]]}],\"surface\":[{\"type\":\"surface\",\"colorbar\":{\"outlinewidth\":0,\"ticks\":\"\"},\"colorscale\":[[0.0,\"#0d0887\"],[0.1111111111111111,\"#46039f\"],[0.2222222222222222,\"#7201a8\"],[0.3333333333333333,\"#9c179e\"],[0.4444444444444444,\"#bd3786\"],[0.5555555555555556,\"#d8576b\"],[0.6666666666666666,\"#ed7953\"],[0.7777777777777778,\"#fb9f3a\"],[0.8888888888888888,\"#fdca26\"],[1.0,\"#f0f921\"]]}],\"mesh3d\":[{\"type\":\"mesh3d\",\"colorbar\":{\"outlinewidth\":0,\"ticks\":\"\"}}],\"scatter\":[{\"fillpattern\":{\"fillmode\":\"overlay\",\"size\":10,\"solidity\":0.2},\"type\":\"scatter\"}],\"parcoords\":[{\"type\":\"parcoords\",\"line\":{\"colorbar\":{\"outlinewidth\":0,\"ticks\":\"\"}}}],\"scatterpolargl\":[{\"type\":\"scatterpolargl\",\"marker\":{\"colorbar\":{\"outlinewidth\":0,\"ticks\":\"\"}}}],\"bar\":[{\"error_x\":{\"color\":\"#2a3f5f\"},\"error_y\":{\"color\":\"#2a3f5f\"},\"marker\":{\"line\":{\"color\":\"#E5ECF6\",\"width\":0.5},\"pattern\":{\"fillmode\":\"overlay\",\"size\":10,\"solidity\":0.2}},\"type\":\"bar\"}],\"scattergeo\":[{\"type\":\"scattergeo\",\"marker\":{\"colorbar\":{\"outlinewidth\":0,\"ticks\":\"\"}}}],\"scatterpolar\":[{\"type\":\"scatterpolar\",\"marker\":{\"colorbar\":{\"outlinewidth\":0,\"ticks\":\"\"}}}],\"histogram\":[{\"marker\":{\"pattern\":{\"fillmode\":\"overlay\",\"size\":10,\"solidity\":0.2}},\"type\":\"histogram\"}],\"scattergl\":[{\"type\":\"scattergl\",\"marker\":{\"colorbar\":{\"outlinewidth\":0,\"ticks\":\"\"}}}],\"scatter3d\":[{\"type\":\"scatter3d\",\"line\":{\"colorbar\":{\"outlinewidth\":0,\"ticks\":\"\"}},\"marker\":{\"colorbar\":{\"outlinewidth\":0,\"ticks\":\"\"}}}],\"scattermapbox\":[{\"type\":\"scattermapbox\",\"marker\":{\"colorbar\":{\"outlinewidth\":0,\"ticks\":\"\"}}}],\"scatterternary\":[{\"type\":\"scatterternary\",\"marker\":{\"colorbar\":{\"outlinewidth\":0,\"ticks\":\"\"}}}],\"scattercarpet\":[{\"type\":\"scattercarpet\",\"marker\":{\"colorbar\":{\"outlinewidth\":0,\"ticks\":\"\"}}}],\"carpet\":[{\"aaxis\":{\"endlinecolor\":\"#2a3f5f\",\"gridcolor\":\"white\",\"linecolor\":\"white\",\"minorgridcolor\":\"white\",\"startlinecolor\":\"#2a3f5f\"},\"baxis\":{\"endlinecolor\":\"#2a3f5f\",\"gridcolor\":\"white\",\"linecolor\":\"white\",\"minorgridcolor\":\"white\",\"startlinecolor\":\"#2a3f5f\"},\"type\":\"carpet\"}],\"table\":[{\"cells\":{\"fill\":{\"color\":\"#EBF0F8\"},\"line\":{\"color\":\"white\"}},\"header\":{\"fill\":{\"color\":\"#C8D4E3\"},\"line\":{\"color\":\"white\"}},\"type\":\"table\"}],\"barpolar\":[{\"marker\":{\"line\":{\"color\":\"#E5ECF6\",\"width\":0.5},\"pattern\":{\"fillmode\":\"overlay\",\"size\":10,\"solidity\":0.2}},\"type\":\"barpolar\"}],\"pie\":[{\"automargin\":true,\"type\":\"pie\"}]},\"layout\":{\"autotypenumbers\":\"strict\",\"colorway\":[\"#636efa\",\"#EF553B\",\"#00cc96\",\"#ab63fa\",\"#FFA15A\",\"#19d3f3\",\"#FF6692\",\"#B6E880\",\"#FF97FF\",\"#FECB52\"],\"font\":{\"color\":\"#2a3f5f\"},\"hovermode\":\"closest\",\"hoverlabel\":{\"align\":\"left\"},\"paper_bgcolor\":\"white\",\"plot_bgcolor\":\"#E5ECF6\",\"polar\":{\"bgcolor\":\"#E5ECF6\",\"angularaxis\":{\"gridcolor\":\"white\",\"linecolor\":\"white\",\"ticks\":\"\"},\"radialaxis\":{\"gridcolor\":\"white\",\"linecolor\":\"white\",\"ticks\":\"\"}},\"ternary\":{\"bgcolor\":\"#E5ECF6\",\"aaxis\":{\"gridcolor\":\"white\",\"linecolor\":\"white\",\"ticks\":\"\"},\"baxis\":{\"gridcolor\":\"white\",\"linecolor\":\"white\",\"ticks\":\"\"},\"caxis\":{\"gridcolor\":\"white\",\"linecolor\":\"white\",\"ticks\":\"\"}},\"coloraxis\":{\"colorbar\":{\"outlinewidth\":0,\"ticks\":\"\"}},\"colorscale\":{\"sequential\":[[0.0,\"#0d0887\"],[0.1111111111111111,\"#46039f\"],[0.2222222222222222,\"#7201a8\"],[0.3333333333333333,\"#9c179e\"],[0.4444444444444444,\"#bd3786\"],[0.5555555555555556,\"#d8576b\"],[0.6666666666666666,\"#ed7953\"],[0.7777777777777778,\"#fb9f3a\"],[0.8888888888888888,\"#fdca26\"],[1.0,\"#f0f921\"]],\"sequentialminus\":[[0.0,\"#0d0887\"],[0.1111111111111111,\"#46039f\"],[0.2222222222222222,\"#7201a8\"],[0.3333333333333333,\"#9c179e\"],[0.4444444444444444,\"#bd3786\"],[0.5555555555555556,\"#d8576b\"],[0.6666666666666666,\"#ed7953\"],[0.7777777777777778,\"#fb9f3a\"],[0.8888888888888888,\"#fdca26\"],[1.0,\"#f0f921\"]],\"diverging\":[[0,\"#8e0152\"],[0.1,\"#c51b7d\"],[0.2,\"#de77ae\"],[0.3,\"#f1b6da\"],[0.4,\"#fde0ef\"],[0.5,\"#f7f7f7\"],[0.6,\"#e6f5d0\"],[0.7,\"#b8e186\"],[0.8,\"#7fbc41\"],[0.9,\"#4d9221\"],[1,\"#276419\"]]},\"xaxis\":{\"gridcolor\":\"white\",\"linecolor\":\"white\",\"ticks\":\"\",\"title\":{\"standoff\":15},\"zerolinecolor\":\"white\",\"automargin\":true,\"zerolinewidth\":2},\"yaxis\":{\"gridcolor\":\"white\",\"linecolor\":\"white\",\"ticks\":\"\",\"title\":{\"standoff\":15},\"zerolinecolor\":\"white\",\"automargin\":true,\"zerolinewidth\":2},\"scene\":{\"xaxis\":{\"backgroundcolor\":\"#E5ECF6\",\"gridcolor\":\"white\",\"linecolor\":\"white\",\"showbackground\":true,\"ticks\":\"\",\"zerolinecolor\":\"white\",\"gridwidth\":2},\"yaxis\":{\"backgroundcolor\":\"#E5ECF6\",\"gridcolor\":\"white\",\"linecolor\":\"white\",\"showbackground\":true,\"ticks\":\"\",\"zerolinecolor\":\"white\",\"gridwidth\":2},\"zaxis\":{\"backgroundcolor\":\"#E5ECF6\",\"gridcolor\":\"white\",\"linecolor\":\"white\",\"showbackground\":true,\"ticks\":\"\",\"zerolinecolor\":\"white\",\"gridwidth\":2}},\"shapedefaults\":{\"line\":{\"color\":\"#2a3f5f\"}},\"annotationdefaults\":{\"arrowcolor\":\"#2a3f5f\",\"arrowhead\":0,\"arrowwidth\":1},\"geo\":{\"bgcolor\":\"white\",\"landcolor\":\"#E5ECF6\",\"subunitcolor\":\"white\",\"showland\":true,\"showlakes\":true,\"lakecolor\":\"white\"},\"title\":{\"x\":0.05},\"mapbox\":{\"style\":\"light\"}}},\"xaxis\":{\"anchor\":\"y\",\"domain\":[0.0,0.235],\"title\":{\"text\":\"H\"}},\"yaxis\":{\"anchor\":\"x\",\"domain\":[0.0,0.1975],\"title\":{\"text\":\"VALOR\"}},\"xaxis2\":{\"anchor\":\"y2\",\"domain\":[0.255,0.49],\"matches\":\"x\",\"title\":{\"text\":\"H\"}},\"yaxis2\":{\"anchor\":\"x2\",\"domain\":[0.0,0.1975],\"matches\":\"y\",\"showticklabels\":false},\"xaxis3\":{\"anchor\":\"y3\",\"domain\":[0.51,0.745],\"matches\":\"x\",\"title\":{\"text\":\"H\"}},\"yaxis3\":{\"anchor\":\"x3\",\"domain\":[0.0,0.1975],\"matches\":\"y\",\"showticklabels\":false},\"xaxis4\":{\"anchor\":\"y4\",\"domain\":[0.7649999999999999,0.9999999999999999],\"matches\":\"x\",\"title\":{\"text\":\"H\"}},\"yaxis4\":{\"anchor\":\"x4\",\"domain\":[0.0,0.1975],\"matches\":\"y\",\"showticklabels\":false},\"xaxis5\":{\"anchor\":\"y5\",\"domain\":[0.0,0.235],\"matches\":\"x\",\"showticklabels\":false},\"yaxis5\":{\"anchor\":\"x5\",\"domain\":[0.2675,0.465],\"matches\":\"y\",\"title\":{\"text\":\"VALOR\"}},\"xaxis6\":{\"anchor\":\"y6\",\"domain\":[0.255,0.49],\"matches\":\"x\",\"showticklabels\":false},\"yaxis6\":{\"anchor\":\"x6\",\"domain\":[0.2675,0.465],\"matches\":\"y\",\"showticklabels\":false},\"xaxis7\":{\"anchor\":\"y7\",\"domain\":[0.51,0.745],\"matches\":\"x\",\"showticklabels\":false},\"yaxis7\":{\"anchor\":\"x7\",\"domain\":[0.2675,0.465],\"matches\":\"y\",\"showticklabels\":false},\"xaxis8\":{\"anchor\":\"y8\",\"domain\":[0.7649999999999999,0.9999999999999999],\"matches\":\"x\",\"showticklabels\":false},\"yaxis8\":{\"anchor\":\"x8\",\"domain\":[0.2675,0.465],\"matches\":\"y\",\"showticklabels\":false},\"xaxis9\":{\"anchor\":\"y9\",\"domain\":[0.0,0.235],\"matches\":\"x\",\"showticklabels\":false},\"yaxis9\":{\"anchor\":\"x9\",\"domain\":[0.535,0.7325],\"matches\":\"y\",\"title\":{\"text\":\"VALOR\"}},\"xaxis10\":{\"anchor\":\"y10\",\"domain\":[0.255,0.49],\"matches\":\"x\",\"showticklabels\":false},\"yaxis10\":{\"anchor\":\"x10\",\"domain\":[0.535,0.7325],\"matches\":\"y\",\"showticklabels\":false},\"xaxis11\":{\"anchor\":\"y11\",\"domain\":[0.51,0.745],\"matches\":\"x\",\"showticklabels\":false},\"yaxis11\":{\"anchor\":\"x11\",\"domain\":[0.535,0.7325],\"matches\":\"y\",\"showticklabels\":false},\"xaxis12\":{\"anchor\":\"y12\",\"domain\":[0.7649999999999999,0.9999999999999999],\"matches\":\"x\",\"showticklabels\":false},\"yaxis12\":{\"anchor\":\"x12\",\"domain\":[0.535,0.7325],\"matches\":\"y\",\"showticklabels\":false},\"xaxis13\":{\"anchor\":\"y13\",\"domain\":[0.0,0.235],\"matches\":\"x\",\"showticklabels\":false},\"yaxis13\":{\"anchor\":\"x13\",\"domain\":[0.8025,1.0],\"matches\":\"y\",\"title\":{\"text\":\"VALOR\"}},\"xaxis14\":{\"anchor\":\"y14\",\"domain\":[0.255,0.49],\"matches\":\"x\",\"showticklabels\":false},\"yaxis14\":{\"anchor\":\"x14\",\"domain\":[0.8025,1.0],\"matches\":\"y\",\"showticklabels\":false},\"xaxis15\":{\"anchor\":\"y15\",\"domain\":[0.51,0.745],\"matches\":\"x\",\"showticklabels\":false},\"yaxis15\":{\"anchor\":\"x15\",\"domain\":[0.8025,1.0],\"matches\":\"y\",\"showticklabels\":false},\"xaxis16\":{\"anchor\":\"y16\",\"domain\":[0.7649999999999999,0.9999999999999999],\"matches\":\"x\",\"showticklabels\":false},\"yaxis16\":{\"anchor\":\"x16\",\"domain\":[0.8025,1.0],\"matches\":\"y\",\"showticklabels\":false},\"annotations\":[{\"font\":{},\"showarrow\":false,\"text\":\"ESTACION_DESC=Plaza del Carmen\",\"x\":0.1175,\"xanchor\":\"center\",\"xref\":\"paper\",\"y\":0.1975,\"yanchor\":\"bottom\",\"yref\":\"paper\"},{\"font\":{},\"showarrow\":false,\"text\":\"ESTACION_DESC=Juan Carlos I\",\"x\":0.1175,\"xanchor\":\"center\",\"xref\":\"paper\",\"y\":0.465,\"yanchor\":\"bottom\",\"yref\":\"paper\"},{\"font\":{},\"showarrow\":false,\"text\":\"ESTACION_DESC=Moratalaz\",\"x\":0.3725,\"xanchor\":\"center\",\"xref\":\"paper\",\"y\":0.465,\"yanchor\":\"bottom\",\"yref\":\"paper\"},{\"font\":{},\"showarrow\":false,\"text\":\"ESTACION_DESC=Plaza El\\u00edptica\",\"x\":0.6275,\"xanchor\":\"center\",\"xref\":\"paper\",\"y\":0.465,\"yanchor\":\"bottom\",\"yref\":\"paper\"},{\"font\":{},\"showarrow\":false,\"text\":\"ESTACION_DESC=Plaza Espa\\u00f1a\",\"x\":0.8824999999999998,\"xanchor\":\"center\",\"xref\":\"paper\",\"y\":0.465,\"yanchor\":\"bottom\",\"yref\":\"paper\"},{\"font\":{},\"showarrow\":false,\"text\":\"ESTACION_DESC=El Pardo\",\"x\":0.1175,\"xanchor\":\"center\",\"xref\":\"paper\",\"y\":0.7325,\"yanchor\":\"bottom\",\"yref\":\"paper\"},{\"font\":{},\"showarrow\":false,\"text\":\"ESTACION_DESC=Ensanche de Vallecas\",\"x\":0.3725,\"xanchor\":\"center\",\"xref\":\"paper\",\"y\":0.7325,\"yanchor\":\"bottom\",\"yref\":\"paper\"},{\"font\":{},\"showarrow\":false,\"text\":\"ESTACION_DESC=Escuelas Aguirre\",\"x\":0.6275,\"xanchor\":\"center\",\"xref\":\"paper\",\"y\":0.7325,\"yanchor\":\"bottom\",\"yref\":\"paper\"},{\"font\":{},\"showarrow\":false,\"text\":\"ESTACION_DESC=Farolillo\",\"x\":0.8824999999999998,\"xanchor\":\"center\",\"xref\":\"paper\",\"y\":0.7325,\"yanchor\":\"bottom\",\"yref\":\"paper\"},{\"font\":{},\"showarrow\":false,\"text\":\"ESTACION_DESC=Arturo Soria\",\"x\":0.1175,\"xanchor\":\"center\",\"xref\":\"paper\",\"y\":1.0,\"yanchor\":\"bottom\",\"yref\":\"paper\"},{\"font\":{},\"showarrow\":false,\"text\":\"ESTACION_DESC=Barrio del Pilar\",\"x\":0.3725,\"xanchor\":\"center\",\"xref\":\"paper\",\"y\":1.0,\"yanchor\":\"bottom\",\"yref\":\"paper\"},{\"font\":{},\"showarrow\":false,\"text\":\"ESTACION_DESC=Casa de Campo\",\"x\":0.6275,\"xanchor\":\"center\",\"xref\":\"paper\",\"y\":1.0,\"yanchor\":\"bottom\",\"yref\":\"paper\"},{\"font\":{},\"showarrow\":false,\"text\":\"ESTACION_DESC=Cuatro Caminos\",\"x\":0.8824999999999998,\"xanchor\":\"center\",\"xref\":\"paper\",\"y\":1.0,\"yanchor\":\"bottom\",\"yref\":\"paper\"}],\"legend\":{\"title\":{\"text\":\"DIA\"},\"tracegroupgap\":0},\"title\":{\"text\":\"NOX \"}},                        {\"responsive\": true}                    ).then(function(){\n",
       "                            \n",
       "var gd = document.getElementById('c879673c-54bb-46b1-b215-e70d2444b1b7');\n",
       "var x = new MutationObserver(function (mutations, observer) {{\n",
       "        var display = window.getComputedStyle(gd).display;\n",
       "        if (!display || display === 'none') {{\n",
       "            console.log([gd, 'removed!']);\n",
       "            Plotly.purge(gd);\n",
       "            observer.disconnect();\n",
       "        }}\n",
       "}});\n",
       "\n",
       "// Listen for the removal of the full notebook cells\n",
       "var notebookContainer = gd.closest('#notebook-container');\n",
       "if (notebookContainer) {{\n",
       "    x.observe(notebookContainer, {childList: true});\n",
       "}}\n",
       "\n",
       "// Listen for the clearing of the current output cell\n",
       "var outputEl = gd.closest('.output');\n",
       "if (outputEl) {{\n",
       "    x.observe(outputEl, {childList: true});\n",
       "}}\n",
       "\n",
       "                        })                };                });            </script>        </div>"
      ]
     },
     "metadata": {},
     "output_type": "display_data"
    }
   ],
   "source": [
    "fig = px.line(nox.DataFrame(), x=\"H\", y=\"VALOR\", color=\"DIA\", facet_col='ESTACION_DESC',facet_col_wrap=4 ,title='NOX ')\n",
    "fig.show()"
   ]
  },
  {
   "cell_type": "code",
   "execution_count": 35,
   "metadata": {
    "vscode": {
     "languageId": "sql"
    }
   },
   "outputs": [
    {
     "data": {
      "text/html": [
       "<span style=\"None\">Running query in &#x27;duckdb&#x27;</span>"
      ],
      "text/plain": [
       "Running query in 'duckdb'"
      ]
     },
     "metadata": {},
     "output_type": "display_data"
    },
    {
     "data": {
      "text/html": [
       "<table>\n",
       "    <thead>\n",
       "        <tr>\n",
       "            <th>H</th>\n",
       "            <th>Arturo Soria</th>\n",
       "            <th>Barrio del Pilar</th>\n",
       "            <th>Casa de Campo</th>\n",
       "            <th>Cuatro Caminos</th>\n",
       "            <th>El Pardo</th>\n",
       "            <th>Ensanche de Vallecas</th>\n",
       "            <th>Escuelas Aguirre</th>\n",
       "            <th>Farolillo</th>\n",
       "            <th>Juan Carlos I</th>\n",
       "            <th>Moratalaz</th>\n",
       "            <th>Plaza Elíptica</th>\n",
       "            <th>Plaza España</th>\n",
       "            <th>Plaza del Carmen</th>\n",
       "        </tr>\n",
       "    </thead>\n",
       "    <tbody>\n",
       "        <tr>\n",
       "            <td>1</td>\n",
       "            <td>17.0</td>\n",
       "            <td>15.0</td>\n",
       "            <td>16.0</td>\n",
       "            <td>12.0</td>\n",
       "            <td>9.0</td>\n",
       "            <td>23.0</td>\n",
       "            <td>27.0</td>\n",
       "            <td>15.0</td>\n",
       "            <td>24.0</td>\n",
       "            <td>25.0</td>\n",
       "            <td>18.0</td>\n",
       "            <td>17.0</td>\n",
       "            <td>15.0</td>\n",
       "        </tr>\n",
       "        <tr>\n",
       "            <td>2</td>\n",
       "            <td>8.0</td>\n",
       "            <td>7.0</td>\n",
       "            <td>10.0</td>\n",
       "            <td>8.0</td>\n",
       "            <td>7.0</td>\n",
       "            <td>13.0</td>\n",
       "            <td>15.0</td>\n",
       "            <td>8.0</td>\n",
       "            <td>12.0</td>\n",
       "            <td>17.0</td>\n",
       "            <td>11.0</td>\n",
       "            <td>8.0</td>\n",
       "            <td>8.0</td>\n",
       "        </tr>\n",
       "        <tr>\n",
       "            <td>3</td>\n",
       "            <td>6.0</td>\n",
       "            <td>5.0</td>\n",
       "            <td>5.0</td>\n",
       "            <td>5.0</td>\n",
       "            <td>4.0</td>\n",
       "            <td>14.0</td>\n",
       "            <td>12.0</td>\n",
       "            <td>5.0</td>\n",
       "            <td>7.0</td>\n",
       "            <td>10.0</td>\n",
       "            <td>6.0</td>\n",
       "            <td>6.0</td>\n",
       "            <td>7.0</td>\n",
       "        </tr>\n",
       "        <tr>\n",
       "            <td>4</td>\n",
       "            <td>4.0</td>\n",
       "            <td>3.0</td>\n",
       "            <td>5.0</td>\n",
       "            <td>5.0</td>\n",
       "            <td>3.0</td>\n",
       "            <td>10.0</td>\n",
       "            <td>10.0</td>\n",
       "            <td>4.0</td>\n",
       "            <td>5.0</td>\n",
       "            <td>5.0</td>\n",
       "            <td>4.0</td>\n",
       "            <td>6.0</td>\n",
       "            <td>5.0</td>\n",
       "        </tr>\n",
       "        <tr>\n",
       "            <td>5</td>\n",
       "            <td>5.0</td>\n",
       "            <td>3.0</td>\n",
       "            <td>5.0</td>\n",
       "            <td>4.0</td>\n",
       "            <td>2.0</td>\n",
       "            <td>7.0</td>\n",
       "            <td>9.0</td>\n",
       "            <td>4.0</td>\n",
       "            <td>5.0</td>\n",
       "            <td>7.0</td>\n",
       "            <td>4.0</td>\n",
       "            <td>6.0</td>\n",
       "            <td>4.0</td>\n",
       "        </tr>\n",
       "        <tr>\n",
       "            <td>6</td>\n",
       "            <td>4.0</td>\n",
       "            <td>3.0</td>\n",
       "            <td>5.0</td>\n",
       "            <td>5.0</td>\n",
       "            <td>2.0</td>\n",
       "            <td>13.0</td>\n",
       "            <td>9.0</td>\n",
       "            <td>4.0</td>\n",
       "            <td>5.0</td>\n",
       "            <td>5.0</td>\n",
       "            <td>5.0</td>\n",
       "            <td>5.0</td>\n",
       "            <td>4.0</td>\n",
       "        </tr>\n",
       "        <tr>\n",
       "            <td>7</td>\n",
       "            <td>5.0</td>\n",
       "            <td>5.0</td>\n",
       "            <td>6.0</td>\n",
       "            <td>7.0</td>\n",
       "            <td>2.0</td>\n",
       "            <td>10.0</td>\n",
       "            <td>10.0</td>\n",
       "            <td>6.0</td>\n",
       "            <td>6.0</td>\n",
       "            <td>7.0</td>\n",
       "            <td>6.0</td>\n",
       "            <td>7.0</td>\n",
       "            <td>5.0</td>\n",
       "        </tr>\n",
       "        <tr>\n",
       "            <td>8</td>\n",
       "            <td>8.0</td>\n",
       "            <td>7.0</td>\n",
       "            <td>5.0</td>\n",
       "            <td>8.0</td>\n",
       "            <td>2.0</td>\n",
       "            <td>11.0</td>\n",
       "            <td>13.0</td>\n",
       "            <td>9.0</td>\n",
       "            <td>10.0</td>\n",
       "            <td>11.0</td>\n",
       "            <td>11.0</td>\n",
       "            <td>9.0</td>\n",
       "            <td>8.0</td>\n",
       "        </tr>\n",
       "        <tr>\n",
       "            <td>9</td>\n",
       "            <td>10.0</td>\n",
       "            <td>11.0</td>\n",
       "            <td>7.0</td>\n",
       "            <td>11.0</td>\n",
       "            <td>3.0</td>\n",
       "            <td>17.0</td>\n",
       "            <td>18.0</td>\n",
       "            <td>16.0</td>\n",
       "            <td>13.0</td>\n",
       "            <td>18.0</td>\n",
       "            <td>15.0</td>\n",
       "            <td>16.0</td>\n",
       "            <td>11.0</td>\n",
       "        </tr>\n",
       "    </tbody>\n",
       "</table>"
      ],
      "text/plain": [
       "+---+--------------+------------------+---------------+----------------+----------+----------------------+------------------+-----------+---------------+-----------+----------------+--------------+------------------+\n",
       "| H | Arturo Soria | Barrio del Pilar | Casa de Campo | Cuatro Caminos | El Pardo | Ensanche de Vallecas | Escuelas Aguirre | Farolillo | Juan Carlos I | Moratalaz | Plaza Elíptica | Plaza España | Plaza del Carmen |\n",
       "+---+--------------+------------------+---------------+----------------+----------+----------------------+------------------+-----------+---------------+-----------+----------------+--------------+------------------+\n",
       "| 1 |     17.0     |       15.0       |      16.0     |      12.0      |   9.0    |         23.0         |       27.0       |    15.0   |      24.0     |    25.0   |      18.0      |     17.0     |       15.0       |\n",
       "| 2 |     8.0      |       7.0        |      10.0     |      8.0       |   7.0    |         13.0         |       15.0       |    8.0    |      12.0     |    17.0   |      11.0      |     8.0      |       8.0        |\n",
       "| 3 |     6.0      |       5.0        |      5.0      |      5.0       |   4.0    |         14.0         |       12.0       |    5.0    |      7.0      |    10.0   |      6.0       |     6.0      |       7.0        |\n",
       "| 4 |     4.0      |       3.0        |      5.0      |      5.0       |   3.0    |         10.0         |       10.0       |    4.0    |      5.0      |    5.0    |      4.0       |     6.0      |       5.0        |\n",
       "| 5 |     5.0      |       3.0        |      5.0      |      4.0       |   2.0    |         7.0          |       9.0        |    4.0    |      5.0      |    7.0    |      4.0       |     6.0      |       4.0        |\n",
       "| 6 |     4.0      |       3.0        |      5.0      |      5.0       |   2.0    |         13.0         |       9.0        |    4.0    |      5.0      |    5.0    |      5.0       |     5.0      |       4.0        |\n",
       "| 7 |     5.0      |       5.0        |      6.0      |      7.0       |   2.0    |         10.0         |       10.0       |    6.0    |      6.0      |    7.0    |      6.0       |     7.0      |       5.0        |\n",
       "| 8 |     8.0      |       7.0        |      5.0      |      8.0       |   2.0    |         11.0         |       13.0       |    9.0    |      10.0     |    11.0   |      11.0      |     9.0      |       8.0        |\n",
       "| 9 |     10.0     |       11.0       |      7.0      |      11.0      |   3.0    |         17.0         |       18.0       |    16.0   |      13.0     |    18.0   |      15.0      |     16.0     |       11.0       |\n",
       "+---+--------------+------------------+---------------+----------------+----------+----------------------+------------------+-----------+---------------+-----------+----------------+--------------+------------------+"
      ]
     },
     "execution_count": 35,
     "metadata": {},
     "output_type": "execute_result"
    }
   ],
   "source": [
    "%%sql\n",
    "--tabla ancha\n",
    "PIVOT(\n",
    "select estacion_desc, h, valor\n",
    "from calair\n",
    "where\n",
    "magnitud = 08\n",
    "and validez = 'V'\n",
    "and DIA = datepart('day',current_date())\n",
    ")\n",
    "on ESTACION_DESC\n",
    "USING sum(VALOR)\n",
    "group by H"
   ]
  },
  {
   "cell_type": "code",
   "execution_count": 45,
   "metadata": {
    "vscode": {
     "languageId": "sql"
    }
   },
   "outputs": [
    {
     "data": {
      "text/html": [
       "<span style=\"None\">Running query in &#x27;duckdb&#x27;</span>"
      ],
      "text/plain": [
       "Running query in 'duckdb'"
      ]
     },
     "metadata": {},
     "output_type": "display_data"
    }
   ],
   "source": [
    "%%sql \n",
    "cont <<\n",
    "select estacion_desc, parametro,dia,  h, valor \n",
    "from CALAIR \n",
    "where DIA = datepart('day',current_date())\n",
    "and validez = 'V'\n",
    "and magnitud <80\n",
    "--and estacion_desc in ['Casa de Campo','Juan Carlos I', 'El Pardo','Peñagrande', 'Plaza Elíptica']\n",
    "order by estacion_desc, h\n"
   ]
  },
  {
   "cell_type": "code",
   "execution_count": 52,
   "metadata": {
    "vscode": {
     "languageId": "sql"
    }
   },
   "outputs": [
    {
     "data": {
      "application/vnd.plotly.v1+json": {
       "config": {
        "plotlyServerURL": "https://plot.ly"
       },
       "data": [
        {
         "hovertemplate": "ESTACION_DESC=Arturo Soria<br>PARAMETRO=Óxidos de Nitrógeno NOx<br>H=%{x}<br>VALOR=%{y}<extra></extra>",
         "legendgroup": "Arturo Soria",
         "line": {
          "color": "#636efa",
          "dash": "solid"
         },
         "marker": {
          "symbol": "circle"
         },
         "mode": "lines",
         "name": "Arturo Soria",
         "orientation": "v",
         "showlegend": true,
         "type": "scatter",
         "x": [
          1,
          2,
          3,
          4,
          5,
          6,
          7,
          8,
          9
         ],
         "xaxis": "x9",
         "y": [
          19,
          10,
          7,
          6,
          6,
          5,
          7,
          9,
          12
         ],
         "yaxis": "y9"
        },
        {
         "hovertemplate": "ESTACION_DESC=Arturo Soria<br>PARAMETRO=Monóxido de Nitrógeno NO<br>H=%{x}<br>VALOR=%{y}<extra></extra>",
         "legendgroup": "Arturo Soria",
         "line": {
          "color": "#636efa",
          "dash": "solid"
         },
         "marker": {
          "symbol": "circle"
         },
         "mode": "lines",
         "name": "Arturo Soria",
         "orientation": "v",
         "showlegend": false,
         "type": "scatter",
         "x": [
          1,
          2,
          3,
          4,
          5,
          6,
          7,
          8,
          9
         ],
         "xaxis": "x10",
         "y": [
          1,
          1,
          1,
          1,
          1,
          1,
          1,
          1,
          1
         ],
         "yaxis": "y10"
        },
        {
         "hovertemplate": "ESTACION_DESC=Arturo Soria<br>PARAMETRO=Dióxido de Nitrógeno NO2<br>H=%{x}<br>VALOR=%{y}<extra></extra>",
         "legendgroup": "Arturo Soria",
         "line": {
          "color": "#636efa",
          "dash": "solid"
         },
         "marker": {
          "symbol": "circle"
         },
         "mode": "lines",
         "name": "Arturo Soria",
         "orientation": "v",
         "showlegend": false,
         "type": "scatter",
         "x": [
          1,
          2,
          3,
          4,
          5,
          6,
          7,
          8,
          9
         ],
         "xaxis": "x11",
         "y": [
          17,
          8,
          6,
          4,
          5,
          4,
          5,
          8,
          10
         ],
         "yaxis": "y11"
        },
        {
         "hovertemplate": "ESTACION_DESC=Arturo Soria<br>PARAMETRO=Ozono O3<br>H=%{x}<br>VALOR=%{y}<extra></extra>",
         "legendgroup": "Arturo Soria",
         "line": {
          "color": "#636efa",
          "dash": "solid"
         },
         "marker": {
          "symbol": "circle"
         },
         "mode": "lines",
         "name": "Arturo Soria",
         "orientation": "v",
         "showlegend": false,
         "type": "scatter",
         "x": [
          1,
          2,
          3,
          4,
          5,
          6,
          7,
          8,
          9
         ],
         "xaxis": "x12",
         "y": [
          45,
          57,
          61,
          61,
          59,
          60,
          58,
          56,
          51
         ],
         "yaxis": "y12"
        },
        {
         "hovertemplate": "ESTACION_DESC=Barrio del Pilar<br>PARAMETRO=Óxidos de Nitrógeno NOx<br>H=%{x}<br>VALOR=%{y}<extra></extra>",
         "legendgroup": "Barrio del Pilar",
         "line": {
          "color": "#EF553B",
          "dash": "solid"
         },
         "marker": {
          "symbol": "circle"
         },
         "mode": "lines",
         "name": "Barrio del Pilar",
         "orientation": "v",
         "showlegend": true,
         "type": "scatter",
         "x": [
          1,
          2,
          3,
          4,
          5,
          6,
          7,
          8,
          9
         ],
         "xaxis": "x9",
         "y": [
          17,
          9,
          6,
          4,
          4,
          5,
          6,
          8,
          13
         ],
         "yaxis": "y9"
        },
        {
         "hovertemplate": "ESTACION_DESC=Barrio del Pilar<br>PARAMETRO=Monóxido de Nitrógeno NO<br>H=%{x}<br>VALOR=%{y}<extra></extra>",
         "legendgroup": "Barrio del Pilar",
         "line": {
          "color": "#EF553B",
          "dash": "solid"
         },
         "marker": {
          "symbol": "circle"
         },
         "mode": "lines",
         "name": "Barrio del Pilar",
         "orientation": "v",
         "showlegend": false,
         "type": "scatter",
         "x": [
          1,
          2,
          3,
          4,
          5,
          6,
          7,
          8,
          9
         ],
         "xaxis": "x10",
         "y": [
          1,
          1,
          1,
          1,
          1,
          1,
          1,
          1,
          1
         ],
         "yaxis": "y10"
        },
        {
         "hovertemplate": "ESTACION_DESC=Barrio del Pilar<br>PARAMETRO=Dióxido de Nitrógeno NO2<br>H=%{x}<br>VALOR=%{y}<extra></extra>",
         "legendgroup": "Barrio del Pilar",
         "line": {
          "color": "#EF553B",
          "dash": "solid"
         },
         "marker": {
          "symbol": "circle"
         },
         "mode": "lines",
         "name": "Barrio del Pilar",
         "orientation": "v",
         "showlegend": false,
         "type": "scatter",
         "x": [
          1,
          2,
          3,
          4,
          5,
          6,
          7,
          8,
          9
         ],
         "xaxis": "x11",
         "y": [
          15,
          7,
          5,
          3,
          3,
          3,
          5,
          7,
          11
         ],
         "yaxis": "y11"
        },
        {
         "hovertemplate": "ESTACION_DESC=Barrio del Pilar<br>PARAMETRO=Ozono O3<br>H=%{x}<br>VALOR=%{y}<extra></extra>",
         "legendgroup": "Barrio del Pilar",
         "line": {
          "color": "#EF553B",
          "dash": "solid"
         },
         "marker": {
          "symbol": "circle"
         },
         "mode": "lines",
         "name": "Barrio del Pilar",
         "orientation": "v",
         "showlegend": false,
         "type": "scatter",
         "x": [
          1,
          2,
          3,
          4,
          5,
          6,
          7,
          8,
          9
         ],
         "xaxis": "x12",
         "y": [
          52,
          58,
          60,
          61,
          61,
          61,
          61,
          58,
          55
         ],
         "yaxis": "y12"
        },
        {
         "hovertemplate": "ESTACION_DESC=Casa de Campo<br>PARAMETRO=Óxidos de Nitrógeno NOx<br>H=%{x}<br>VALOR=%{y}<extra></extra>",
         "legendgroup": "Casa de Campo",
         "line": {
          "color": "#00cc96",
          "dash": "solid"
         },
         "marker": {
          "symbol": "circle"
         },
         "mode": "lines",
         "name": "Casa de Campo",
         "orientation": "v",
         "showlegend": true,
         "type": "scatter",
         "x": [
          1,
          2,
          3,
          4,
          5,
          6,
          7,
          8,
          9
         ],
         "xaxis": "x9",
         "y": [
          17,
          11,
          7,
          6,
          6,
          7,
          8,
          6,
          8
         ],
         "yaxis": "y9"
        },
        {
         "hovertemplate": "ESTACION_DESC=Casa de Campo<br>PARAMETRO=Monóxido de Nitrógeno NO<br>H=%{x}<br>VALOR=%{y}<extra></extra>",
         "legendgroup": "Casa de Campo",
         "line": {
          "color": "#00cc96",
          "dash": "solid"
         },
         "marker": {
          "symbol": "circle"
         },
         "mode": "lines",
         "name": "Casa de Campo",
         "orientation": "v",
         "showlegend": false,
         "type": "scatter",
         "x": [
          1,
          2,
          3,
          4,
          5,
          6,
          7,
          8,
          9
         ],
         "xaxis": "x10",
         "y": [
          1,
          1,
          1,
          1,
          1,
          1,
          1,
          1,
          1
         ],
         "yaxis": "y10"
        },
        {
         "hovertemplate": "ESTACION_DESC=Casa de Campo<br>PARAMETRO=Dióxido de Nitrógeno NO2<br>H=%{x}<br>VALOR=%{y}<extra></extra>",
         "legendgroup": "Casa de Campo",
         "line": {
          "color": "#00cc96",
          "dash": "solid"
         },
         "marker": {
          "symbol": "circle"
         },
         "mode": "lines",
         "name": "Casa de Campo",
         "orientation": "v",
         "showlegend": false,
         "type": "scatter",
         "x": [
          1,
          2,
          3,
          4,
          5,
          6,
          7,
          8,
          9
         ],
         "xaxis": "x11",
         "y": [
          16,
          10,
          5,
          5,
          5,
          5,
          6,
          5,
          7
         ],
         "yaxis": "y11"
        },
        {
         "hovertemplate": "ESTACION_DESC=Casa de Campo<br>PARAMETRO=Ozono O3<br>H=%{x}<br>VALOR=%{y}<extra></extra>",
         "legendgroup": "Casa de Campo",
         "line": {
          "color": "#00cc96",
          "dash": "solid"
         },
         "marker": {
          "symbol": "circle"
         },
         "mode": "lines",
         "name": "Casa de Campo",
         "orientation": "v",
         "showlegend": false,
         "type": "scatter",
         "x": [
          1,
          2,
          3,
          4,
          5,
          6,
          7,
          8,
          9
         ],
         "xaxis": "x12",
         "y": [
          61,
          64,
          68,
          67,
          66,
          66,
          69,
          67,
          65
         ],
         "yaxis": "y12"
        },
        {
         "hovertemplate": "ESTACION_DESC=Casa de Campo<br>PARAMETRO=Partículas < 10 µm PM10<br>H=%{x}<br>VALOR=%{y}<extra></extra>",
         "legendgroup": "Casa de Campo",
         "line": {
          "color": "#00cc96",
          "dash": "solid"
         },
         "marker": {
          "symbol": "circle"
         },
         "mode": "lines",
         "name": "Casa de Campo",
         "orientation": "v",
         "showlegend": false,
         "type": "scatter",
         "x": [
          1,
          2,
          3,
          4,
          5,
          6,
          7,
          8,
          9
         ],
         "xaxis": "x5",
         "y": [
          9,
          8,
          8,
          6,
          5,
          5,
          6,
          5,
          9
         ],
         "yaxis": "y5"
        },
        {
         "hovertemplate": "ESTACION_DESC=Casa de Campo<br>PARAMETRO=Partículas < 2.5 µm PM2.5<br>H=%{x}<br>VALOR=%{y}<extra></extra>",
         "legendgroup": "Casa de Campo",
         "line": {
          "color": "#00cc96",
          "dash": "solid"
         },
         "marker": {
          "symbol": "circle"
         },
         "mode": "lines",
         "name": "Casa de Campo",
         "orientation": "v",
         "showlegend": false,
         "type": "scatter",
         "x": [
          1,
          2,
          3,
          4,
          5,
          6,
          7,
          8,
          9
         ],
         "xaxis": "x6",
         "y": [
          4,
          3,
          3,
          1,
          1,
          1,
          2,
          1,
          5
         ],
         "yaxis": "y6"
        },
        {
         "hovertemplate": "ESTACION_DESC=Cuatro Caminos<br>PARAMETRO=Óxidos de Nitrógeno NOx<br>H=%{x}<br>VALOR=%{y}<extra></extra>",
         "legendgroup": "Cuatro Caminos",
         "line": {
          "color": "#ab63fa",
          "dash": "solid"
         },
         "marker": {
          "symbol": "circle"
         },
         "mode": "lines",
         "name": "Cuatro Caminos",
         "orientation": "v",
         "showlegend": true,
         "type": "scatter",
         "x": [
          1,
          2,
          3,
          4,
          5,
          6,
          7,
          8,
          9
         ],
         "xaxis": "x9",
         "y": [
          14,
          10,
          7,
          6,
          6,
          7,
          8,
          9,
          12
         ],
         "yaxis": "y9"
        },
        {
         "hovertemplate": "ESTACION_DESC=Cuatro Caminos<br>PARAMETRO=Monóxido de Nitrógeno NO<br>H=%{x}<br>VALOR=%{y}<extra></extra>",
         "legendgroup": "Cuatro Caminos",
         "line": {
          "color": "#ab63fa",
          "dash": "solid"
         },
         "marker": {
          "symbol": "circle"
         },
         "mode": "lines",
         "name": "Cuatro Caminos",
         "orientation": "v",
         "showlegend": false,
         "type": "scatter",
         "x": [
          1,
          2,
          3,
          4,
          5,
          6,
          7,
          8,
          9
         ],
         "xaxis": "x10",
         "y": [
          1,
          1,
          1,
          1,
          1,
          1,
          1,
          1,
          1
         ],
         "yaxis": "y10"
        },
        {
         "hovertemplate": "ESTACION_DESC=Cuatro Caminos<br>PARAMETRO=Dióxido de Nitrógeno NO2<br>H=%{x}<br>VALOR=%{y}<extra></extra>",
         "legendgroup": "Cuatro Caminos",
         "line": {
          "color": "#ab63fa",
          "dash": "solid"
         },
         "marker": {
          "symbol": "circle"
         },
         "mode": "lines",
         "name": "Cuatro Caminos",
         "orientation": "v",
         "showlegend": false,
         "type": "scatter",
         "x": [
          1,
          2,
          3,
          4,
          5,
          6,
          7,
          8,
          9
         ],
         "xaxis": "x11",
         "y": [
          12,
          8,
          5,
          5,
          4,
          5,
          7,
          8,
          11
         ],
         "yaxis": "y11"
        },
        {
         "hovertemplate": "ESTACION_DESC=Cuatro Caminos<br>PARAMETRO=Partículas < 10 µm PM10<br>H=%{x}<br>VALOR=%{y}<extra></extra>",
         "legendgroup": "Cuatro Caminos",
         "line": {
          "color": "#ab63fa",
          "dash": "solid"
         },
         "marker": {
          "symbol": "circle"
         },
         "mode": "lines",
         "name": "Cuatro Caminos",
         "orientation": "v",
         "showlegend": false,
         "type": "scatter",
         "x": [
          1,
          2,
          3,
          4,
          5,
          6,
          7,
          8,
          9
         ],
         "xaxis": "x5",
         "y": [
          10,
          6,
          8,
          7,
          10,
          5,
          6,
          5,
          5
         ],
         "yaxis": "y5"
        },
        {
         "hovertemplate": "ESTACION_DESC=Cuatro Caminos<br>PARAMETRO=Partículas < 2.5 µm PM2.5<br>H=%{x}<br>VALOR=%{y}<extra></extra>",
         "legendgroup": "Cuatro Caminos",
         "line": {
          "color": "#ab63fa",
          "dash": "solid"
         },
         "marker": {
          "symbol": "circle"
         },
         "mode": "lines",
         "name": "Cuatro Caminos",
         "orientation": "v",
         "showlegend": false,
         "type": "scatter",
         "x": [
          1,
          2,
          3,
          4,
          5,
          6,
          7,
          8,
          9
         ],
         "xaxis": "x6",
         "y": [
          5,
          2,
          5,
          3,
          4,
          1,
          4,
          1,
          1
         ],
         "yaxis": "y6"
        },
        {
         "hovertemplate": "ESTACION_DESC=Cuatro Caminos<br>PARAMETRO=Etilbenceno EBE<br>H=%{x}<br>VALOR=%{y}<extra></extra>",
         "legendgroup": "Cuatro Caminos",
         "line": {
          "color": "#ab63fa",
          "dash": "solid"
         },
         "marker": {
          "symbol": "circle"
         },
         "mode": "lines",
         "name": "Cuatro Caminos",
         "orientation": "v",
         "showlegend": false,
         "type": "scatter",
         "x": [
          1,
          2,
          3,
          4,
          5,
          6,
          7,
          8,
          9
         ],
         "xaxis": "x7",
         "y": [
          0.2,
          0.2,
          0.1,
          0.1,
          0.1,
          0.1,
          0.1,
          0.1,
          0.1
         ],
         "yaxis": "y7"
        },
        {
         "hovertemplate": "ESTACION_DESC=Cuatro Caminos<br>PARAMETRO=Tolueno TOL<br>H=%{x}<br>VALOR=%{y}<extra></extra>",
         "legendgroup": "Cuatro Caminos",
         "line": {
          "color": "#ab63fa",
          "dash": "solid"
         },
         "marker": {
          "symbol": "circle"
         },
         "mode": "lines",
         "name": "Cuatro Caminos",
         "orientation": "v",
         "showlegend": false,
         "type": "scatter",
         "x": [
          1,
          2,
          3,
          4,
          5,
          6,
          7,
          8,
          9
         ],
         "xaxis": "x8",
         "y": [
          1.2,
          1,
          0.6,
          0.5,
          0.4,
          0.5,
          0.6,
          0.5,
          0.5
         ],
         "yaxis": "y8"
        },
        {
         "hovertemplate": "ESTACION_DESC=Cuatro Caminos<br>PARAMETRO=Benceno BEN<br>H=%{x}<br>VALOR=%{y}<extra></extra>",
         "legendgroup": "Cuatro Caminos",
         "line": {
          "color": "#ab63fa",
          "dash": "solid"
         },
         "marker": {
          "symbol": "circle"
         },
         "mode": "lines",
         "name": "Cuatro Caminos",
         "orientation": "v",
         "showlegend": false,
         "type": "scatter",
         "x": [
          1,
          2,
          3,
          4,
          5,
          6,
          7,
          8,
          9
         ],
         "xaxis": "x",
         "y": [
          0.4,
          0.3,
          0.3,
          0.2,
          0.2,
          0.2,
          0.2,
          0.2,
          0.2
         ],
         "yaxis": "y"
        },
        {
         "hovertemplate": "ESTACION_DESC=El Pardo<br>PARAMETRO=Óxidos de Nitrógeno NOx<br>H=%{x}<br>VALOR=%{y}<extra></extra>",
         "legendgroup": "El Pardo",
         "line": {
          "color": "#FFA15A",
          "dash": "solid"
         },
         "marker": {
          "symbol": "circle"
         },
         "mode": "lines",
         "name": "El Pardo",
         "orientation": "v",
         "showlegend": true,
         "type": "scatter",
         "x": [
          1,
          2,
          3,
          4,
          5,
          6,
          7,
          8,
          9
         ],
         "xaxis": "x9",
         "y": [
          10,
          8,
          6,
          4,
          3,
          3,
          3,
          4,
          5
         ],
         "yaxis": "y9"
        },
        {
         "hovertemplate": "ESTACION_DESC=El Pardo<br>PARAMETRO=Monóxido de Nitrógeno NO<br>H=%{x}<br>VALOR=%{y}<extra></extra>",
         "legendgroup": "El Pardo",
         "line": {
          "color": "#FFA15A",
          "dash": "solid"
         },
         "marker": {
          "symbol": "circle"
         },
         "mode": "lines",
         "name": "El Pardo",
         "orientation": "v",
         "showlegend": false,
         "type": "scatter",
         "x": [
          1,
          2,
          3,
          4,
          5,
          6,
          7,
          8,
          9
         ],
         "xaxis": "x10",
         "y": [
          1,
          1,
          1,
          1,
          1,
          1,
          1,
          1,
          1
         ],
         "yaxis": "y10"
        },
        {
         "hovertemplate": "ESTACION_DESC=El Pardo<br>PARAMETRO=Dióxido de Nitrógeno NO2<br>H=%{x}<br>VALOR=%{y}<extra></extra>",
         "legendgroup": "El Pardo",
         "line": {
          "color": "#FFA15A",
          "dash": "solid"
         },
         "marker": {
          "symbol": "circle"
         },
         "mode": "lines",
         "name": "El Pardo",
         "orientation": "v",
         "showlegend": false,
         "type": "scatter",
         "x": [
          1,
          2,
          3,
          4,
          5,
          6,
          7,
          8,
          9
         ],
         "xaxis": "x11",
         "y": [
          9,
          7,
          4,
          3,
          2,
          2,
          2,
          2,
          3
         ],
         "yaxis": "y11"
        },
        {
         "hovertemplate": "ESTACION_DESC=El Pardo<br>PARAMETRO=Ozono O3<br>H=%{x}<br>VALOR=%{y}<extra></extra>",
         "legendgroup": "El Pardo",
         "line": {
          "color": "#FFA15A",
          "dash": "solid"
         },
         "marker": {
          "symbol": "circle"
         },
         "mode": "lines",
         "name": "El Pardo",
         "orientation": "v",
         "showlegend": false,
         "type": "scatter",
         "x": [
          1,
          2,
          3,
          4,
          5,
          6,
          7,
          8,
          9
         ],
         "xaxis": "x12",
         "y": [
          50,
          53,
          57,
          60,
          62,
          63,
          64,
          66,
          62
         ],
         "yaxis": "y12"
        },
        {
         "hovertemplate": "ESTACION_DESC=Ensanche de Vallecas<br>PARAMETRO=Óxidos de Nitrógeno NOx<br>H=%{x}<br>VALOR=%{y}<extra></extra>",
         "legendgroup": "Ensanche de Vallecas",
         "line": {
          "color": "#19d3f3",
          "dash": "solid"
         },
         "marker": {
          "symbol": "circle"
         },
         "mode": "lines",
         "name": "Ensanche de Vallecas",
         "orientation": "v",
         "showlegend": true,
         "type": "scatter",
         "x": [
          1,
          2,
          3,
          4,
          5,
          6,
          7,
          8,
          9
         ],
         "xaxis": "x9",
         "y": [
          25,
          14,
          15,
          12,
          9,
          14,
          12,
          12,
          18
         ],
         "yaxis": "y9"
        },
        {
         "hovertemplate": "ESTACION_DESC=Ensanche de Vallecas<br>PARAMETRO=Monóxido de Nitrógeno NO<br>H=%{x}<br>VALOR=%{y}<extra></extra>",
         "legendgroup": "Ensanche de Vallecas",
         "line": {
          "color": "#19d3f3",
          "dash": "solid"
         },
         "marker": {
          "symbol": "circle"
         },
         "mode": "lines",
         "name": "Ensanche de Vallecas",
         "orientation": "v",
         "showlegend": false,
         "type": "scatter",
         "x": [
          1,
          2,
          3,
          4,
          5,
          6,
          7,
          8,
          9
         ],
         "xaxis": "x10",
         "y": [
          1,
          1,
          1,
          1,
          1,
          1,
          1,
          1,
          1
         ],
         "yaxis": "y10"
        },
        {
         "hovertemplate": "ESTACION_DESC=Ensanche de Vallecas<br>PARAMETRO=Dióxido de Nitrógeno NO2<br>H=%{x}<br>VALOR=%{y}<extra></extra>",
         "legendgroup": "Ensanche de Vallecas",
         "line": {
          "color": "#19d3f3",
          "dash": "solid"
         },
         "marker": {
          "symbol": "circle"
         },
         "mode": "lines",
         "name": "Ensanche de Vallecas",
         "orientation": "v",
         "showlegend": false,
         "type": "scatter",
         "x": [
          1,
          2,
          3,
          4,
          5,
          6,
          7,
          8,
          9
         ],
         "xaxis": "x11",
         "y": [
          23,
          13,
          14,
          10,
          7,
          13,
          10,
          11,
          17
         ],
         "yaxis": "y11"
        },
        {
         "hovertemplate": "ESTACION_DESC=Ensanche de Vallecas<br>PARAMETRO=Ozono O3<br>H=%{x}<br>VALOR=%{y}<extra></extra>",
         "legendgroup": "Ensanche de Vallecas",
         "line": {
          "color": "#19d3f3",
          "dash": "solid"
         },
         "marker": {
          "symbol": "circle"
         },
         "mode": "lines",
         "name": "Ensanche de Vallecas",
         "orientation": "v",
         "showlegend": false,
         "type": "scatter",
         "x": [
          1,
          2,
          3,
          4,
          5,
          6,
          7,
          8,
          9
         ],
         "xaxis": "x12",
         "y": [
          43,
          50,
          52,
          57,
          61,
          49,
          56,
          56,
          51
         ],
         "yaxis": "y12"
        },
        {
         "hovertemplate": "ESTACION_DESC=Ensanche de Vallecas<br>PARAMETRO=Partículas < 10 µm PM10<br>H=%{x}<br>VALOR=%{y}<extra></extra>",
         "legendgroup": "Ensanche de Vallecas",
         "line": {
          "color": "#19d3f3",
          "dash": "solid"
         },
         "marker": {
          "symbol": "circle"
         },
         "mode": "lines",
         "name": "Ensanche de Vallecas",
         "orientation": "v",
         "showlegend": false,
         "type": "scatter",
         "x": [
          1,
          2,
          3,
          4,
          5,
          6,
          7,
          8,
          9
         ],
         "xaxis": "x5",
         "y": [
          7,
          7,
          12,
          11,
          5,
          5,
          7,
          5,
          7
         ],
         "yaxis": "y5"
        },
        {
         "hovertemplate": "ESTACION_DESC=Ensanche de Vallecas<br>PARAMETRO=Partículas < 2.5 µm PM2.5<br>H=%{x}<br>VALOR=%{y}<extra></extra>",
         "legendgroup": "Ensanche de Vallecas",
         "line": {
          "color": "#19d3f3",
          "dash": "solid"
         },
         "marker": {
          "symbol": "circle"
         },
         "mode": "lines",
         "name": "Ensanche de Vallecas",
         "orientation": "v",
         "showlegend": false,
         "type": "scatter",
         "x": [
          1,
          2,
          3,
          4,
          5,
          6,
          7,
          8,
          9
         ],
         "xaxis": "x6",
         "y": [
          3,
          4,
          8,
          8,
          2,
          2,
          4,
          3,
          4
         ],
         "yaxis": "y6"
        },
        {
         "hovertemplate": "ESTACION_DESC=Escuelas Aguirre<br>PARAMETRO=Óxidos de Nitrógeno NOx<br>H=%{x}<br>VALOR=%{y}<extra></extra>",
         "legendgroup": "Escuelas Aguirre",
         "line": {
          "color": "#FF6692",
          "dash": "solid"
         },
         "marker": {
          "symbol": "circle"
         },
         "mode": "lines",
         "name": "Escuelas Aguirre",
         "orientation": "v",
         "showlegend": true,
         "type": "scatter",
         "x": [
          1,
          2,
          3,
          4,
          5,
          6,
          7,
          8,
          9
         ],
         "xaxis": "x9",
         "y": [
          32,
          19,
          16,
          12,
          11,
          10,
          12,
          15,
          21
         ],
         "yaxis": "y9"
        },
        {
         "hovertemplate": "ESTACION_DESC=Escuelas Aguirre<br>PARAMETRO=Monóxido de Nitrógeno NO<br>H=%{x}<br>VALOR=%{y}<extra></extra>",
         "legendgroup": "Escuelas Aguirre",
         "line": {
          "color": "#FF6692",
          "dash": "solid"
         },
         "marker": {
          "symbol": "circle"
         },
         "mode": "lines",
         "name": "Escuelas Aguirre",
         "orientation": "v",
         "showlegend": false,
         "type": "scatter",
         "x": [
          1,
          2,
          3,
          4,
          5,
          6,
          7,
          8,
          9
         ],
         "xaxis": "x10",
         "y": [
          3,
          2,
          2,
          1,
          1,
          1,
          1,
          1,
          2
         ],
         "yaxis": "y10"
        },
        {
         "hovertemplate": "ESTACION_DESC=Escuelas Aguirre<br>PARAMETRO=Dióxido de Nitrógeno NO2<br>H=%{x}<br>VALOR=%{y}<extra></extra>",
         "legendgroup": "Escuelas Aguirre",
         "line": {
          "color": "#FF6692",
          "dash": "solid"
         },
         "marker": {
          "symbol": "circle"
         },
         "mode": "lines",
         "name": "Escuelas Aguirre",
         "orientation": "v",
         "showlegend": false,
         "type": "scatter",
         "x": [
          1,
          2,
          3,
          4,
          5,
          6,
          7,
          8,
          9
         ],
         "xaxis": "x11",
         "y": [
          27,
          15,
          12,
          10,
          9,
          9,
          10,
          13,
          18
         ],
         "yaxis": "y11"
        },
        {
         "hovertemplate": "ESTACION_DESC=Escuelas Aguirre<br>PARAMETRO=Ozono O3<br>H=%{x}<br>VALOR=%{y}<extra></extra>",
         "legendgroup": "Escuelas Aguirre",
         "line": {
          "color": "#FF6692",
          "dash": "solid"
         },
         "marker": {
          "symbol": "circle"
         },
         "mode": "lines",
         "name": "Escuelas Aguirre",
         "orientation": "v",
         "showlegend": false,
         "type": "scatter",
         "x": [
          1,
          2,
          3,
          4,
          5,
          6,
          7,
          8,
          9
         ],
         "xaxis": "x12",
         "y": [
          48,
          57,
          60,
          59,
          59,
          61,
          58,
          57,
          52
         ],
         "yaxis": "y12"
        },
        {
         "hovertemplate": "ESTACION_DESC=Escuelas Aguirre<br>PARAMETRO=Partículas < 10 µm PM10<br>H=%{x}<br>VALOR=%{y}<extra></extra>",
         "legendgroup": "Escuelas Aguirre",
         "line": {
          "color": "#FF6692",
          "dash": "solid"
         },
         "marker": {
          "symbol": "circle"
         },
         "mode": "lines",
         "name": "Escuelas Aguirre",
         "orientation": "v",
         "showlegend": false,
         "type": "scatter",
         "x": [
          1,
          2,
          3,
          4,
          5,
          6,
          7,
          8,
          9
         ],
         "xaxis": "x5",
         "y": [
          16,
          14,
          10,
          5,
          11,
          11,
          7,
          12,
          12
         ],
         "yaxis": "y5"
        },
        {
         "hovertemplate": "ESTACION_DESC=Escuelas Aguirre<br>PARAMETRO=Partículas < 2.5 µm PM2.5<br>H=%{x}<br>VALOR=%{y}<extra></extra>",
         "legendgroup": "Escuelas Aguirre",
         "line": {
          "color": "#FF6692",
          "dash": "solid"
         },
         "marker": {
          "symbol": "circle"
         },
         "mode": "lines",
         "name": "Escuelas Aguirre",
         "orientation": "v",
         "showlegend": false,
         "type": "scatter",
         "x": [
          1,
          2,
          3,
          4,
          5,
          6,
          7,
          8,
          9
         ],
         "xaxis": "x6",
         "y": [
          7,
          3,
          3,
          1,
          6,
          5,
          2,
          4,
          4
         ],
         "yaxis": "y6"
        },
        {
         "hovertemplate": "ESTACION_DESC=Escuelas Aguirre<br>PARAMETRO=Etilbenceno EBE<br>H=%{x}<br>VALOR=%{y}<extra></extra>",
         "legendgroup": "Escuelas Aguirre",
         "line": {
          "color": "#FF6692",
          "dash": "solid"
         },
         "marker": {
          "symbol": "circle"
         },
         "mode": "lines",
         "name": "Escuelas Aguirre",
         "orientation": "v",
         "showlegend": false,
         "type": "scatter",
         "x": [
          1,
          2,
          3,
          4,
          5,
          6,
          7,
          8,
          9
         ],
         "xaxis": "x7",
         "y": [
          0.7,
          0.3,
          0.2,
          0.1,
          0.1,
          0.1,
          0.1,
          0.1,
          0.1
         ],
         "yaxis": "y7"
        },
        {
         "hovertemplate": "ESTACION_DESC=Escuelas Aguirre<br>PARAMETRO=Tolueno TOL<br>H=%{x}<br>VALOR=%{y}<extra></extra>",
         "legendgroup": "Escuelas Aguirre",
         "line": {
          "color": "#FF6692",
          "dash": "solid"
         },
         "marker": {
          "symbol": "circle"
         },
         "mode": "lines",
         "name": "Escuelas Aguirre",
         "orientation": "v",
         "showlegend": false,
         "type": "scatter",
         "x": [
          1,
          2,
          3,
          4,
          5,
          6,
          7,
          8,
          9
         ],
         "xaxis": "x8",
         "y": [
          2.3,
          2.7,
          1.8,
          1.9,
          1.1,
          0.8,
          0.7,
          0.9,
          0.9
         ],
         "yaxis": "y8"
        },
        {
         "hovertemplate": "ESTACION_DESC=Escuelas Aguirre<br>PARAMETRO=Benceno BEN<br>H=%{x}<br>VALOR=%{y}<extra></extra>",
         "legendgroup": "Escuelas Aguirre",
         "line": {
          "color": "#FF6692",
          "dash": "solid"
         },
         "marker": {
          "symbol": "circle"
         },
         "mode": "lines",
         "name": "Escuelas Aguirre",
         "orientation": "v",
         "showlegend": false,
         "type": "scatter",
         "x": [
          1,
          2,
          3,
          4,
          5,
          6,
          7,
          8,
          9
         ],
         "xaxis": "x",
         "y": [
          0.5,
          0.4,
          0.3,
          0.3,
          0.3,
          0.2,
          0.2,
          0.3,
          0.3
         ],
         "yaxis": "y"
        },
        {
         "hovertemplate": "ESTACION_DESC=Escuelas Aguirre<br>PARAMETRO=Monóxido de Carbono CO<br>H=%{x}<br>VALOR=%{y}<extra></extra>",
         "legendgroup": "Escuelas Aguirre",
         "line": {
          "color": "#FF6692",
          "dash": "solid"
         },
         "marker": {
          "symbol": "circle"
         },
         "mode": "lines",
         "name": "Escuelas Aguirre",
         "orientation": "v",
         "showlegend": false,
         "type": "scatter",
         "x": [
          1,
          2,
          3,
          4,
          5,
          6,
          7,
          8,
          9
         ],
         "xaxis": "x2",
         "y": [
          0.3,
          0.2,
          0.2,
          0.2,
          0.2,
          0.2,
          0.2,
          0.2,
          0.2
         ],
         "yaxis": "y2"
        },
        {
         "hovertemplate": "ESTACION_DESC=Escuelas Aguirre<br>PARAMETRO=Dióxido de Azufre SO2<br>H=%{x}<br>VALOR=%{y}<extra></extra>",
         "legendgroup": "Escuelas Aguirre",
         "line": {
          "color": "#FF6692",
          "dash": "solid"
         },
         "marker": {
          "symbol": "circle"
         },
         "mode": "lines",
         "name": "Escuelas Aguirre",
         "orientation": "v",
         "showlegend": false,
         "type": "scatter",
         "x": [
          1,
          2,
          3,
          4,
          5,
          6,
          7,
          8,
          9
         ],
         "xaxis": "x3",
         "y": [
          1,
          1,
          1,
          1,
          1,
          1,
          1,
          1,
          1
         ],
         "yaxis": "y3"
        },
        {
         "hovertemplate": "ESTACION_DESC=Farolillo<br>PARAMETRO=Óxidos de Nitrógeno NOx<br>H=%{x}<br>VALOR=%{y}<extra></extra>",
         "legendgroup": "Farolillo",
         "line": {
          "color": "#B6E880",
          "dash": "solid"
         },
         "marker": {
          "symbol": "circle"
         },
         "mode": "lines",
         "name": "Farolillo",
         "orientation": "v",
         "showlegend": true,
         "type": "scatter",
         "x": [
          1,
          2,
          3,
          4,
          5,
          6,
          7,
          8,
          9
         ],
         "xaxis": "x9",
         "y": [
          17,
          10,
          7,
          6,
          6,
          6,
          9,
          11,
          18
         ],
         "yaxis": "y9"
        },
        {
         "hovertemplate": "ESTACION_DESC=Farolillo<br>PARAMETRO=Monóxido de Nitrógeno NO<br>H=%{x}<br>VALOR=%{y}<extra></extra>",
         "legendgroup": "Farolillo",
         "line": {
          "color": "#B6E880",
          "dash": "solid"
         },
         "marker": {
          "symbol": "circle"
         },
         "mode": "lines",
         "name": "Farolillo",
         "orientation": "v",
         "showlegend": false,
         "type": "scatter",
         "x": [
          1,
          2,
          3,
          4,
          5,
          6,
          7,
          8,
          9
         ],
         "xaxis": "x10",
         "y": [
          1,
          1,
          1,
          1,
          1,
          1,
          2,
          1,
          2
         ],
         "yaxis": "y10"
        },
        {
         "hovertemplate": "ESTACION_DESC=Farolillo<br>PARAMETRO=Dióxido de Nitrógeno NO2<br>H=%{x}<br>VALOR=%{y}<extra></extra>",
         "legendgroup": "Farolillo",
         "line": {
          "color": "#B6E880",
          "dash": "solid"
         },
         "marker": {
          "symbol": "circle"
         },
         "mode": "lines",
         "name": "Farolillo",
         "orientation": "v",
         "showlegend": false,
         "type": "scatter",
         "x": [
          1,
          2,
          3,
          4,
          5,
          6,
          7,
          8,
          9
         ],
         "xaxis": "x11",
         "y": [
          15,
          8,
          5,
          4,
          4,
          4,
          6,
          9,
          16
         ],
         "yaxis": "y11"
        },
        {
         "hovertemplate": "ESTACION_DESC=Farolillo<br>PARAMETRO=Ozono O3<br>H=%{x}<br>VALOR=%{y}<extra></extra>",
         "legendgroup": "Farolillo",
         "line": {
          "color": "#B6E880",
          "dash": "solid"
         },
         "marker": {
          "symbol": "circle"
         },
         "mode": "lines",
         "name": "Farolillo",
         "orientation": "v",
         "showlegend": false,
         "type": "scatter",
         "x": [
          1,
          2,
          3,
          4,
          5,
          6,
          7,
          8,
          9
         ],
         "xaxis": "x12",
         "y": [
          56,
          60,
          61,
          61,
          59,
          60,
          60,
          57,
          52
         ],
         "yaxis": "y12"
        },
        {
         "hovertemplate": "ESTACION_DESC=Farolillo<br>PARAMETRO=Partículas < 10 µm PM10<br>H=%{x}<br>VALOR=%{y}<extra></extra>",
         "legendgroup": "Farolillo",
         "line": {
          "color": "#B6E880",
          "dash": "solid"
         },
         "marker": {
          "symbol": "circle"
         },
         "mode": "lines",
         "name": "Farolillo",
         "orientation": "v",
         "showlegend": false,
         "type": "scatter",
         "x": [
          1,
          2,
          3,
          4,
          5,
          6,
          7,
          8,
          9
         ],
         "xaxis": "x5",
         "y": [
          12,
          6,
          6,
          6,
          7,
          8,
          8,
          7,
          8
         ],
         "yaxis": "y5"
        },
        {
         "hovertemplate": "ESTACION_DESC=Farolillo<br>PARAMETRO=Etilbenceno EBE<br>H=%{x}<br>VALOR=%{y}<extra></extra>",
         "legendgroup": "Farolillo",
         "line": {
          "color": "#B6E880",
          "dash": "solid"
         },
         "marker": {
          "symbol": "circle"
         },
         "mode": "lines",
         "name": "Farolillo",
         "orientation": "v",
         "showlegend": false,
         "type": "scatter",
         "x": [
          1,
          2,
          3,
          4,
          5,
          6,
          7,
          8,
          9
         ],
         "xaxis": "x7",
         "y": [
          0.8,
          1.5,
          1.5,
          1.8,
          1.3,
          1,
          1.8,
          1.8,
          1.3
         ],
         "yaxis": "y7"
        },
        {
         "hovertemplate": "ESTACION_DESC=Farolillo<br>PARAMETRO=Tolueno TOL<br>H=%{x}<br>VALOR=%{y}<extra></extra>",
         "legendgroup": "Farolillo",
         "line": {
          "color": "#B6E880",
          "dash": "solid"
         },
         "marker": {
          "symbol": "circle"
         },
         "mode": "lines",
         "name": "Farolillo",
         "orientation": "v",
         "showlegend": false,
         "type": "scatter",
         "x": [
          1,
          2,
          3,
          4,
          5,
          6,
          7,
          8,
          9
         ],
         "xaxis": "x8",
         "y": [
          3.5,
          0.9,
          0.7,
          0.7,
          0.7,
          0.7,
          0.6,
          0.6,
          0.8
         ],
         "yaxis": "y8"
        },
        {
         "hovertemplate": "ESTACION_DESC=Farolillo<br>PARAMETRO=Benceno BEN<br>H=%{x}<br>VALOR=%{y}<extra></extra>",
         "legendgroup": "Farolillo",
         "line": {
          "color": "#B6E880",
          "dash": "solid"
         },
         "marker": {
          "symbol": "circle"
         },
         "mode": "lines",
         "name": "Farolillo",
         "orientation": "v",
         "showlegend": false,
         "type": "scatter",
         "x": [
          1,
          2,
          3,
          4,
          5,
          6,
          7,
          8,
          9
         ],
         "xaxis": "x",
         "y": [
          0.4,
          0.2,
          0.2,
          0.2,
          0.2,
          0.2,
          0.1,
          0.2,
          0.2
         ],
         "yaxis": "y"
        },
        {
         "hovertemplate": "ESTACION_DESC=Juan Carlos I<br>PARAMETRO=Óxidos de Nitrógeno NOx<br>H=%{x}<br>VALOR=%{y}<extra></extra>",
         "legendgroup": "Juan Carlos I",
         "line": {
          "color": "#FF97FF",
          "dash": "solid"
         },
         "marker": {
          "symbol": "circle"
         },
         "mode": "lines",
         "name": "Juan Carlos I",
         "orientation": "v",
         "showlegend": true,
         "type": "scatter",
         "x": [
          1,
          2,
          3,
          4,
          5,
          6,
          7,
          8,
          9
         ],
         "xaxis": "x9",
         "y": [
          26,
          13,
          8,
          7,
          7,
          7,
          8,
          12,
          15
         ],
         "yaxis": "y9"
        },
        {
         "hovertemplate": "ESTACION_DESC=Juan Carlos I<br>PARAMETRO=Monóxido de Nitrógeno NO<br>H=%{x}<br>VALOR=%{y}<extra></extra>",
         "legendgroup": "Juan Carlos I",
         "line": {
          "color": "#FF97FF",
          "dash": "solid"
         },
         "marker": {
          "symbol": "circle"
         },
         "mode": "lines",
         "name": "Juan Carlos I",
         "orientation": "v",
         "showlegend": false,
         "type": "scatter",
         "x": [
          1,
          2,
          3,
          4,
          5,
          6,
          7,
          8,
          9
         ],
         "xaxis": "x10",
         "y": [
          1,
          1,
          1,
          1,
          1,
          1,
          1,
          1,
          1
         ],
         "yaxis": "y10"
        },
        {
         "hovertemplate": "ESTACION_DESC=Juan Carlos I<br>PARAMETRO=Dióxido de Nitrógeno NO2<br>H=%{x}<br>VALOR=%{y}<extra></extra>",
         "legendgroup": "Juan Carlos I",
         "line": {
          "color": "#FF97FF",
          "dash": "solid"
         },
         "marker": {
          "symbol": "circle"
         },
         "mode": "lines",
         "name": "Juan Carlos I",
         "orientation": "v",
         "showlegend": false,
         "type": "scatter",
         "x": [
          1,
          2,
          3,
          4,
          5,
          6,
          7,
          8,
          9
         ],
         "xaxis": "x11",
         "y": [
          24,
          12,
          7,
          5,
          5,
          5,
          6,
          10,
          13
         ],
         "yaxis": "y11"
        },
        {
         "hovertemplate": "ESTACION_DESC=Juan Carlos I<br>PARAMETRO=Ozono O3<br>H=%{x}<br>VALOR=%{y}<extra></extra>",
         "legendgroup": "Juan Carlos I",
         "line": {
          "color": "#FF97FF",
          "dash": "solid"
         },
         "marker": {
          "symbol": "circle"
         },
         "mode": "lines",
         "name": "Juan Carlos I",
         "orientation": "v",
         "showlegend": false,
         "type": "scatter",
         "x": [
          1,
          2,
          3,
          4,
          5,
          6,
          7,
          8,
          9
         ],
         "xaxis": "x12",
         "y": [
          49,
          61,
          65,
          66,
          64,
          64,
          64,
          60,
          57
         ],
         "yaxis": "y12"
        },
        {
         "hovertemplate": "ESTACION_DESC=Moratalaz<br>PARAMETRO=Óxidos de Nitrógeno NOx<br>H=%{x}<br>VALOR=%{y}<extra></extra>",
         "legendgroup": "Moratalaz",
         "line": {
          "color": "#FECB52",
          "dash": "solid"
         },
         "marker": {
          "symbol": "circle"
         },
         "mode": "lines",
         "name": "Moratalaz",
         "orientation": "v",
         "showlegend": true,
         "type": "scatter",
         "x": [
          1,
          2,
          3,
          4,
          5,
          6,
          7,
          8,
          9
         ],
         "xaxis": "x9",
         "y": [
          26,
          19,
          12,
          6,
          9,
          7,
          8,
          13,
          20
         ],
         "yaxis": "y9"
        },
        {
         "hovertemplate": "ESTACION_DESC=Moratalaz<br>PARAMETRO=Monóxido de Nitrógeno NO<br>H=%{x}<br>VALOR=%{y}<extra></extra>",
         "legendgroup": "Moratalaz",
         "line": {
          "color": "#FECB52",
          "dash": "solid"
         },
         "marker": {
          "symbol": "circle"
         },
         "mode": "lines",
         "name": "Moratalaz",
         "orientation": "v",
         "showlegend": false,
         "type": "scatter",
         "x": [
          1,
          2,
          3,
          4,
          5,
          6,
          7,
          8,
          9
         ],
         "xaxis": "x10",
         "y": [
          1,
          1,
          1,
          1,
          1,
          1,
          1,
          1,
          1
         ],
         "yaxis": "y10"
        },
        {
         "hovertemplate": "ESTACION_DESC=Moratalaz<br>PARAMETRO=Dióxido de Nitrógeno NO2<br>H=%{x}<br>VALOR=%{y}<extra></extra>",
         "legendgroup": "Moratalaz",
         "line": {
          "color": "#FECB52",
          "dash": "solid"
         },
         "marker": {
          "symbol": "circle"
         },
         "mode": "lines",
         "name": "Moratalaz",
         "orientation": "v",
         "showlegend": false,
         "type": "scatter",
         "x": [
          1,
          2,
          3,
          4,
          5,
          6,
          7,
          8,
          9
         ],
         "xaxis": "x11",
         "y": [
          25,
          17,
          10,
          5,
          7,
          5,
          7,
          11,
          18
         ],
         "yaxis": "y11"
        },
        {
         "hovertemplate": "ESTACION_DESC=Moratalaz<br>PARAMETRO=Partículas < 10 µm PM10<br>H=%{x}<br>VALOR=%{y}<extra></extra>",
         "legendgroup": "Moratalaz",
         "line": {
          "color": "#FECB52",
          "dash": "solid"
         },
         "marker": {
          "symbol": "circle"
         },
         "mode": "lines",
         "name": "Moratalaz",
         "orientation": "v",
         "showlegend": false,
         "type": "scatter",
         "x": [
          1,
          2,
          3,
          4,
          5,
          6,
          7,
          8,
          9
         ],
         "xaxis": "x5",
         "y": [
          14,
          13,
          9,
          7,
          6,
          8,
          6,
          7,
          7
         ],
         "yaxis": "y5"
        },
        {
         "hovertemplate": "ESTACION_DESC=Moratalaz<br>PARAMETRO=Dióxido de Azufre SO2<br>H=%{x}<br>VALOR=%{y}<extra></extra>",
         "legendgroup": "Moratalaz",
         "line": {
          "color": "#FECB52",
          "dash": "solid"
         },
         "marker": {
          "symbol": "circle"
         },
         "mode": "lines",
         "name": "Moratalaz",
         "orientation": "v",
         "showlegend": false,
         "type": "scatter",
         "x": [
          1,
          2,
          3,
          4,
          5,
          6,
          7,
          8,
          9
         ],
         "xaxis": "x3",
         "y": [
          3,
          3,
          3,
          3,
          3,
          3,
          3,
          3,
          3
         ],
         "yaxis": "y3"
        },
        {
         "hovertemplate": "ESTACION_DESC=Plaza Elíptica<br>PARAMETRO=Óxidos de Nitrógeno NOx<br>H=%{x}<br>VALOR=%{y}<extra></extra>",
         "legendgroup": "Plaza Elíptica",
         "line": {
          "color": "#636efa",
          "dash": "solid"
         },
         "marker": {
          "symbol": "circle"
         },
         "mode": "lines",
         "name": "Plaza Elíptica",
         "orientation": "v",
         "showlegend": true,
         "type": "scatter",
         "x": [
          1,
          2,
          3,
          4,
          5,
          6,
          7,
          8,
          9
         ],
         "xaxis": "x9",
         "y": [
          25,
          19,
          11,
          10,
          10,
          11,
          12,
          18,
          24
         ],
         "yaxis": "y9"
        },
        {
         "hovertemplate": "ESTACION_DESC=Plaza Elíptica<br>PARAMETRO=Monóxido de Nitrógeno NO<br>H=%{x}<br>VALOR=%{y}<extra></extra>",
         "legendgroup": "Plaza Elíptica",
         "line": {
          "color": "#636efa",
          "dash": "solid"
         },
         "marker": {
          "symbol": "circle"
         },
         "mode": "lines",
         "name": "Plaza Elíptica",
         "orientation": "v",
         "showlegend": false,
         "type": "scatter",
         "x": [
          1,
          2,
          3,
          4,
          5,
          6,
          7,
          8,
          9
         ],
         "xaxis": "x10",
         "y": [
          5,
          5,
          4,
          4,
          4,
          4,
          4,
          5,
          6
         ],
         "yaxis": "y10"
        },
        {
         "hovertemplate": "ESTACION_DESC=Plaza Elíptica<br>PARAMETRO=Dióxido de Nitrógeno NO2<br>H=%{x}<br>VALOR=%{y}<extra></extra>",
         "legendgroup": "Plaza Elíptica",
         "line": {
          "color": "#636efa",
          "dash": "solid"
         },
         "marker": {
          "symbol": "circle"
         },
         "mode": "lines",
         "name": "Plaza Elíptica",
         "orientation": "v",
         "showlegend": false,
         "type": "scatter",
         "x": [
          1,
          2,
          3,
          4,
          5,
          6,
          7,
          8,
          9
         ],
         "xaxis": "x11",
         "y": [
          18,
          11,
          6,
          4,
          4,
          5,
          6,
          11,
          15
         ],
         "yaxis": "y11"
        },
        {
         "hovertemplate": "ESTACION_DESC=Plaza Elíptica<br>PARAMETRO=Partículas < 10 µm PM10<br>H=%{x}<br>VALOR=%{y}<extra></extra>",
         "legendgroup": "Plaza Elíptica",
         "line": {
          "color": "#636efa",
          "dash": "solid"
         },
         "marker": {
          "symbol": "circle"
         },
         "mode": "lines",
         "name": "Plaza Elíptica",
         "orientation": "v",
         "showlegend": false,
         "type": "scatter",
         "x": [
          1,
          2,
          3,
          4,
          5,
          6,
          7,
          8,
          9
         ],
         "xaxis": "x5",
         "y": [
          8,
          5,
          3,
          4,
          4,
          6,
          6,
          7,
          2
         ],
         "yaxis": "y5"
        },
        {
         "hovertemplate": "ESTACION_DESC=Plaza Elíptica<br>PARAMETRO=Partículas < 2.5 µm PM2.5<br>H=%{x}<br>VALOR=%{y}<extra></extra>",
         "legendgroup": "Plaza Elíptica",
         "line": {
          "color": "#636efa",
          "dash": "solid"
         },
         "marker": {
          "symbol": "circle"
         },
         "mode": "lines",
         "name": "Plaza Elíptica",
         "orientation": "v",
         "showlegend": false,
         "type": "scatter",
         "x": [
          1,
          2,
          3,
          4,
          5,
          6,
          7,
          8,
          9
         ],
         "xaxis": "x6",
         "y": [
          7,
          5,
          3,
          3,
          4,
          6,
          5,
          6,
          2
         ],
         "yaxis": "y6"
        },
        {
         "hovertemplate": "ESTACION_DESC=Plaza Elíptica<br>PARAMETRO=Monóxido de Carbono CO<br>H=%{x}<br>VALOR=%{y}<extra></extra>",
         "legendgroup": "Plaza Elíptica",
         "line": {
          "color": "#636efa",
          "dash": "solid"
         },
         "marker": {
          "symbol": "circle"
         },
         "mode": "lines",
         "name": "Plaza Elíptica",
         "orientation": "v",
         "showlegend": false,
         "type": "scatter",
         "x": [
          1,
          2,
          3,
          4,
          5,
          6,
          7,
          8,
          9
         ],
         "xaxis": "x2",
         "y": [
          0.2,
          0.2,
          0.1,
          0.1,
          0.1,
          0.1,
          0.1,
          0.1,
          0.2
         ],
         "yaxis": "y2"
        },
        {
         "hovertemplate": "ESTACION_DESC=Plaza España<br>PARAMETRO=Óxidos de Nitrógeno NOx<br>H=%{x}<br>VALOR=%{y}<extra></extra>",
         "legendgroup": "Plaza España",
         "line": {
          "color": "#EF553B",
          "dash": "solid"
         },
         "marker": {
          "symbol": "circle"
         },
         "mode": "lines",
         "name": "Plaza España",
         "orientation": "v",
         "showlegend": true,
         "type": "scatter",
         "x": [
          1,
          2,
          3,
          4,
          5,
          6,
          7,
          8,
          9
         ],
         "xaxis": "x9",
         "y": [
          19,
          10,
          8,
          7,
          7,
          7,
          9,
          11,
          18
         ],
         "yaxis": "y9"
        },
        {
         "hovertemplate": "ESTACION_DESC=Plaza España<br>PARAMETRO=Monóxido de Nitrógeno NO<br>H=%{x}<br>VALOR=%{y}<extra></extra>",
         "legendgroup": "Plaza España",
         "line": {
          "color": "#EF553B",
          "dash": "solid"
         },
         "marker": {
          "symbol": "circle"
         },
         "mode": "lines",
         "name": "Plaza España",
         "orientation": "v",
         "showlegend": false,
         "type": "scatter",
         "x": [
          1,
          2,
          3,
          4,
          5,
          6,
          7,
          8,
          9
         ],
         "xaxis": "x10",
         "y": [
          1,
          1,
          1,
          1,
          1,
          1,
          1,
          1,
          1
         ],
         "yaxis": "y10"
        },
        {
         "hovertemplate": "ESTACION_DESC=Plaza España<br>PARAMETRO=Dióxido de Nitrógeno NO2<br>H=%{x}<br>VALOR=%{y}<extra></extra>",
         "legendgroup": "Plaza España",
         "line": {
          "color": "#EF553B",
          "dash": "solid"
         },
         "marker": {
          "symbol": "circle"
         },
         "mode": "lines",
         "name": "Plaza España",
         "orientation": "v",
         "showlegend": false,
         "type": "scatter",
         "x": [
          1,
          2,
          3,
          4,
          5,
          6,
          7,
          8,
          9
         ],
         "xaxis": "x11",
         "y": [
          17,
          8,
          6,
          6,
          6,
          5,
          7,
          9,
          16
         ],
         "yaxis": "y11"
        },
        {
         "hovertemplate": "ESTACION_DESC=Plaza España<br>PARAMETRO=Partículas < 10 µm PM10<br>H=%{x}<br>VALOR=%{y}<extra></extra>",
         "legendgroup": "Plaza España",
         "line": {
          "color": "#EF553B",
          "dash": "solid"
         },
         "marker": {
          "symbol": "circle"
         },
         "mode": "lines",
         "name": "Plaza España",
         "orientation": "v",
         "showlegend": false,
         "type": "scatter",
         "x": [
          1,
          2,
          3,
          4,
          5,
          6,
          7,
          8,
          9
         ],
         "xaxis": "x5",
         "y": [
          9,
          6,
          5,
          6,
          5,
          5,
          5,
          5,
          6
         ],
         "yaxis": "y5"
        },
        {
         "hovertemplate": "ESTACION_DESC=Plaza España<br>PARAMETRO=Partículas < 2.5 µm PM2.5<br>H=%{x}<br>VALOR=%{y}<extra></extra>",
         "legendgroup": "Plaza España",
         "line": {
          "color": "#EF553B",
          "dash": "solid"
         },
         "marker": {
          "symbol": "circle"
         },
         "mode": "lines",
         "name": "Plaza España",
         "orientation": "v",
         "showlegend": false,
         "type": "scatter",
         "x": [
          1,
          2,
          3,
          4,
          5,
          6,
          7,
          8,
          9
         ],
         "xaxis": "x6",
         "y": [
          5,
          3,
          3,
          3,
          3,
          3,
          3,
          3,
          3
         ],
         "yaxis": "y6"
        },
        {
         "hovertemplate": "ESTACION_DESC=Plaza España<br>PARAMETRO=Monóxido de Carbono CO<br>H=%{x}<br>VALOR=%{y}<extra></extra>",
         "legendgroup": "Plaza España",
         "line": {
          "color": "#EF553B",
          "dash": "solid"
         },
         "marker": {
          "symbol": "circle"
         },
         "mode": "lines",
         "name": "Plaza España",
         "orientation": "v",
         "showlegend": false,
         "type": "scatter",
         "x": [
          1,
          2,
          3,
          4,
          5,
          6,
          7,
          8,
          9
         ],
         "xaxis": "x2",
         "y": [
          0.2,
          0.2,
          0.2,
          0.2,
          0.2,
          0.2,
          0.2,
          0.2,
          0.2
         ],
         "yaxis": "y2"
        },
        {
         "hovertemplate": "ESTACION_DESC=Plaza del Carmen<br>PARAMETRO=Óxidos de Nitrógeno NOx<br>H=%{x}<br>VALOR=%{y}<extra></extra>",
         "legendgroup": "Plaza del Carmen",
         "line": {
          "color": "#00cc96",
          "dash": "solid"
         },
         "marker": {
          "symbol": "circle"
         },
         "mode": "lines",
         "name": "Plaza del Carmen",
         "orientation": "v",
         "showlegend": true,
         "type": "scatter",
         "x": [
          1,
          2,
          3,
          4,
          5,
          6,
          7,
          8,
          9
         ],
         "xaxis": "x9",
         "y": [
          18,
          11,
          9,
          7,
          6,
          7,
          7,
          11,
          14
         ],
         "yaxis": "y9"
        },
        {
         "hovertemplate": "ESTACION_DESC=Plaza del Carmen<br>PARAMETRO=Monóxido de Nitrógeno NO<br>H=%{x}<br>VALOR=%{y}<extra></extra>",
         "legendgroup": "Plaza del Carmen",
         "line": {
          "color": "#00cc96",
          "dash": "solid"
         },
         "marker": {
          "symbol": "circle"
         },
         "mode": "lines",
         "name": "Plaza del Carmen",
         "orientation": "v",
         "showlegend": false,
         "type": "scatter",
         "x": [
          1,
          2,
          3,
          4,
          5,
          6,
          7,
          8,
          9
         ],
         "xaxis": "x10",
         "y": [
          2,
          2,
          2,
          1,
          1,
          2,
          1,
          2,
          2
         ],
         "yaxis": "y10"
        },
        {
         "hovertemplate": "ESTACION_DESC=Plaza del Carmen<br>PARAMETRO=Dióxido de Nitrógeno NO2<br>H=%{x}<br>VALOR=%{y}<extra></extra>",
         "legendgroup": "Plaza del Carmen",
         "line": {
          "color": "#00cc96",
          "dash": "solid"
         },
         "marker": {
          "symbol": "circle"
         },
         "mode": "lines",
         "name": "Plaza del Carmen",
         "orientation": "v",
         "showlegend": false,
         "type": "scatter",
         "x": [
          1,
          2,
          3,
          4,
          5,
          6,
          7,
          8,
          9
         ],
         "xaxis": "x11",
         "y": [
          15,
          8,
          7,
          5,
          4,
          4,
          5,
          8,
          11
         ],
         "yaxis": "y11"
        },
        {
         "hovertemplate": "ESTACION_DESC=Plaza del Carmen<br>PARAMETRO=Ozono O3<br>H=%{x}<br>VALOR=%{y}<extra></extra>",
         "legendgroup": "Plaza del Carmen",
         "line": {
          "color": "#00cc96",
          "dash": "solid"
         },
         "marker": {
          "symbol": "circle"
         },
         "mode": "lines",
         "name": "Plaza del Carmen",
         "orientation": "v",
         "showlegend": false,
         "type": "scatter",
         "x": [
          1,
          2,
          3,
          4,
          5,
          6,
          7,
          8,
          9
         ],
         "xaxis": "x12",
         "y": [
          53,
          59,
          60,
          60,
          59,
          59,
          59,
          57,
          55
         ],
         "yaxis": "y12"
        },
        {
         "hovertemplate": "ESTACION_DESC=Plaza del Carmen<br>PARAMETRO=Monóxido de Carbono CO<br>H=%{x}<br>VALOR=%{y}<extra></extra>",
         "legendgroup": "Plaza del Carmen",
         "line": {
          "color": "#00cc96",
          "dash": "solid"
         },
         "marker": {
          "symbol": "circle"
         },
         "mode": "lines",
         "name": "Plaza del Carmen",
         "orientation": "v",
         "showlegend": false,
         "type": "scatter",
         "x": [
          1,
          2,
          3,
          4,
          5,
          6,
          7,
          8,
          9
         ],
         "xaxis": "x2",
         "y": [
          0.4,
          0.3,
          0.3,
          0.3,
          0.4,
          0.4,
          0.3,
          0.3,
          0.3
         ],
         "yaxis": "y2"
        },
        {
         "hovertemplate": "ESTACION_DESC=Plaza del Carmen<br>PARAMETRO=Dióxido de Azufre SO2<br>H=%{x}<br>VALOR=%{y}<extra></extra>",
         "legendgroup": "Plaza del Carmen",
         "line": {
          "color": "#00cc96",
          "dash": "solid"
         },
         "marker": {
          "symbol": "circle"
         },
         "mode": "lines",
         "name": "Plaza del Carmen",
         "orientation": "v",
         "showlegend": false,
         "type": "scatter",
         "x": [
          1,
          2,
          3,
          4,
          5,
          6,
          7,
          8,
          9
         ],
         "xaxis": "x3",
         "y": [
          7,
          6,
          7,
          6,
          6,
          6,
          7,
          7,
          7
         ],
         "yaxis": "y3"
        }
       ],
       "layout": {
        "annotations": [
         {
          "font": {},
          "showarrow": false,
          "text": "PARAMETRO=Benceno BEN",
          "x": 0.1175,
          "xanchor": "center",
          "xref": "paper",
          "y": 0.2866666666666666,
          "yanchor": "bottom",
          "yref": "paper"
         },
         {
          "font": {},
          "showarrow": false,
          "text": "PARAMETRO=Monóxido de Carbono CO",
          "x": 0.3725,
          "xanchor": "center",
          "xref": "paper",
          "y": 0.2866666666666666,
          "yanchor": "bottom",
          "yref": "paper"
         },
         {
          "font": {},
          "showarrow": false,
          "text": "PARAMETRO=Dióxido de Azufre SO2",
          "x": 0.6275,
          "xanchor": "center",
          "xref": "paper",
          "y": 0.2866666666666666,
          "yanchor": "bottom",
          "yref": "paper"
         },
         {
          "font": {},
          "showarrow": false,
          "text": "PARAMETRO=Partículas < 10 µm PM10",
          "x": 0.1175,
          "xanchor": "center",
          "xref": "paper",
          "y": 0.6433333333333333,
          "yanchor": "bottom",
          "yref": "paper"
         },
         {
          "font": {},
          "showarrow": false,
          "text": "PARAMETRO=Partículas < 2.5 µm PM2.5",
          "x": 0.3725,
          "xanchor": "center",
          "xref": "paper",
          "y": 0.6433333333333333,
          "yanchor": "bottom",
          "yref": "paper"
         },
         {
          "font": {},
          "showarrow": false,
          "text": "PARAMETRO=Etilbenceno EBE",
          "x": 0.6275,
          "xanchor": "center",
          "xref": "paper",
          "y": 0.6433333333333333,
          "yanchor": "bottom",
          "yref": "paper"
         },
         {
          "font": {},
          "showarrow": false,
          "text": "PARAMETRO=Tolueno TOL",
          "x": 0.8824999999999998,
          "xanchor": "center",
          "xref": "paper",
          "y": 0.6433333333333333,
          "yanchor": "bottom",
          "yref": "paper"
         },
         {
          "font": {},
          "showarrow": false,
          "text": "PARAMETRO=Óxidos de Nitrógeno NOx",
          "x": 0.1175,
          "xanchor": "center",
          "xref": "paper",
          "y": 0.9999999999999999,
          "yanchor": "bottom",
          "yref": "paper"
         },
         {
          "font": {},
          "showarrow": false,
          "text": "PARAMETRO=Monóxido de Nitrógeno NO",
          "x": 0.3725,
          "xanchor": "center",
          "xref": "paper",
          "y": 0.9999999999999999,
          "yanchor": "bottom",
          "yref": "paper"
         },
         {
          "font": {},
          "showarrow": false,
          "text": "PARAMETRO=Dióxido de Nitrógeno NO2",
          "x": 0.6275,
          "xanchor": "center",
          "xref": "paper",
          "y": 0.9999999999999999,
          "yanchor": "bottom",
          "yref": "paper"
         },
         {
          "font": {},
          "showarrow": false,
          "text": "PARAMETRO=Ozono O3",
          "x": 0.8824999999999998,
          "xanchor": "center",
          "xref": "paper",
          "y": 0.9999999999999999,
          "yanchor": "bottom",
          "yref": "paper"
         }
        ],
        "legend": {
         "title": {
          "text": "ESTACION_DESC"
         },
         "tracegroupgap": 0
        },
        "template": {
         "data": {
          "bar": [
           {
            "error_x": {
             "color": "#2a3f5f"
            },
            "error_y": {
             "color": "#2a3f5f"
            },
            "marker": {
             "line": {
              "color": "#E5ECF6",
              "width": 0.5
             },
             "pattern": {
              "fillmode": "overlay",
              "size": 10,
              "solidity": 0.2
             }
            },
            "type": "bar"
           }
          ],
          "barpolar": [
           {
            "marker": {
             "line": {
              "color": "#E5ECF6",
              "width": 0.5
             },
             "pattern": {
              "fillmode": "overlay",
              "size": 10,
              "solidity": 0.2
             }
            },
            "type": "barpolar"
           }
          ],
          "carpet": [
           {
            "aaxis": {
             "endlinecolor": "#2a3f5f",
             "gridcolor": "white",
             "linecolor": "white",
             "minorgridcolor": "white",
             "startlinecolor": "#2a3f5f"
            },
            "baxis": {
             "endlinecolor": "#2a3f5f",
             "gridcolor": "white",
             "linecolor": "white",
             "minorgridcolor": "white",
             "startlinecolor": "#2a3f5f"
            },
            "type": "carpet"
           }
          ],
          "choropleth": [
           {
            "colorbar": {
             "outlinewidth": 0,
             "ticks": ""
            },
            "type": "choropleth"
           }
          ],
          "contour": [
           {
            "colorbar": {
             "outlinewidth": 0,
             "ticks": ""
            },
            "colorscale": [
             [
              0,
              "#0d0887"
             ],
             [
              0.1111111111111111,
              "#46039f"
             ],
             [
              0.2222222222222222,
              "#7201a8"
             ],
             [
              0.3333333333333333,
              "#9c179e"
             ],
             [
              0.4444444444444444,
              "#bd3786"
             ],
             [
              0.5555555555555556,
              "#d8576b"
             ],
             [
              0.6666666666666666,
              "#ed7953"
             ],
             [
              0.7777777777777778,
              "#fb9f3a"
             ],
             [
              0.8888888888888888,
              "#fdca26"
             ],
             [
              1,
              "#f0f921"
             ]
            ],
            "type": "contour"
           }
          ],
          "contourcarpet": [
           {
            "colorbar": {
             "outlinewidth": 0,
             "ticks": ""
            },
            "type": "contourcarpet"
           }
          ],
          "heatmap": [
           {
            "colorbar": {
             "outlinewidth": 0,
             "ticks": ""
            },
            "colorscale": [
             [
              0,
              "#0d0887"
             ],
             [
              0.1111111111111111,
              "#46039f"
             ],
             [
              0.2222222222222222,
              "#7201a8"
             ],
             [
              0.3333333333333333,
              "#9c179e"
             ],
             [
              0.4444444444444444,
              "#bd3786"
             ],
             [
              0.5555555555555556,
              "#d8576b"
             ],
             [
              0.6666666666666666,
              "#ed7953"
             ],
             [
              0.7777777777777778,
              "#fb9f3a"
             ],
             [
              0.8888888888888888,
              "#fdca26"
             ],
             [
              1,
              "#f0f921"
             ]
            ],
            "type": "heatmap"
           }
          ],
          "heatmapgl": [
           {
            "colorbar": {
             "outlinewidth": 0,
             "ticks": ""
            },
            "colorscale": [
             [
              0,
              "#0d0887"
             ],
             [
              0.1111111111111111,
              "#46039f"
             ],
             [
              0.2222222222222222,
              "#7201a8"
             ],
             [
              0.3333333333333333,
              "#9c179e"
             ],
             [
              0.4444444444444444,
              "#bd3786"
             ],
             [
              0.5555555555555556,
              "#d8576b"
             ],
             [
              0.6666666666666666,
              "#ed7953"
             ],
             [
              0.7777777777777778,
              "#fb9f3a"
             ],
             [
              0.8888888888888888,
              "#fdca26"
             ],
             [
              1,
              "#f0f921"
             ]
            ],
            "type": "heatmapgl"
           }
          ],
          "histogram": [
           {
            "marker": {
             "pattern": {
              "fillmode": "overlay",
              "size": 10,
              "solidity": 0.2
             }
            },
            "type": "histogram"
           }
          ],
          "histogram2d": [
           {
            "colorbar": {
             "outlinewidth": 0,
             "ticks": ""
            },
            "colorscale": [
             [
              0,
              "#0d0887"
             ],
             [
              0.1111111111111111,
              "#46039f"
             ],
             [
              0.2222222222222222,
              "#7201a8"
             ],
             [
              0.3333333333333333,
              "#9c179e"
             ],
             [
              0.4444444444444444,
              "#bd3786"
             ],
             [
              0.5555555555555556,
              "#d8576b"
             ],
             [
              0.6666666666666666,
              "#ed7953"
             ],
             [
              0.7777777777777778,
              "#fb9f3a"
             ],
             [
              0.8888888888888888,
              "#fdca26"
             ],
             [
              1,
              "#f0f921"
             ]
            ],
            "type": "histogram2d"
           }
          ],
          "histogram2dcontour": [
           {
            "colorbar": {
             "outlinewidth": 0,
             "ticks": ""
            },
            "colorscale": [
             [
              0,
              "#0d0887"
             ],
             [
              0.1111111111111111,
              "#46039f"
             ],
             [
              0.2222222222222222,
              "#7201a8"
             ],
             [
              0.3333333333333333,
              "#9c179e"
             ],
             [
              0.4444444444444444,
              "#bd3786"
             ],
             [
              0.5555555555555556,
              "#d8576b"
             ],
             [
              0.6666666666666666,
              "#ed7953"
             ],
             [
              0.7777777777777778,
              "#fb9f3a"
             ],
             [
              0.8888888888888888,
              "#fdca26"
             ],
             [
              1,
              "#f0f921"
             ]
            ],
            "type": "histogram2dcontour"
           }
          ],
          "mesh3d": [
           {
            "colorbar": {
             "outlinewidth": 0,
             "ticks": ""
            },
            "type": "mesh3d"
           }
          ],
          "parcoords": [
           {
            "line": {
             "colorbar": {
              "outlinewidth": 0,
              "ticks": ""
             }
            },
            "type": "parcoords"
           }
          ],
          "pie": [
           {
            "automargin": true,
            "type": "pie"
           }
          ],
          "scatter": [
           {
            "fillpattern": {
             "fillmode": "overlay",
             "size": 10,
             "solidity": 0.2
            },
            "type": "scatter"
           }
          ],
          "scatter3d": [
           {
            "line": {
             "colorbar": {
              "outlinewidth": 0,
              "ticks": ""
             }
            },
            "marker": {
             "colorbar": {
              "outlinewidth": 0,
              "ticks": ""
             }
            },
            "type": "scatter3d"
           }
          ],
          "scattercarpet": [
           {
            "marker": {
             "colorbar": {
              "outlinewidth": 0,
              "ticks": ""
             }
            },
            "type": "scattercarpet"
           }
          ],
          "scattergeo": [
           {
            "marker": {
             "colorbar": {
              "outlinewidth": 0,
              "ticks": ""
             }
            },
            "type": "scattergeo"
           }
          ],
          "scattergl": [
           {
            "marker": {
             "colorbar": {
              "outlinewidth": 0,
              "ticks": ""
             }
            },
            "type": "scattergl"
           }
          ],
          "scattermapbox": [
           {
            "marker": {
             "colorbar": {
              "outlinewidth": 0,
              "ticks": ""
             }
            },
            "type": "scattermapbox"
           }
          ],
          "scatterpolar": [
           {
            "marker": {
             "colorbar": {
              "outlinewidth": 0,
              "ticks": ""
             }
            },
            "type": "scatterpolar"
           }
          ],
          "scatterpolargl": [
           {
            "marker": {
             "colorbar": {
              "outlinewidth": 0,
              "ticks": ""
             }
            },
            "type": "scatterpolargl"
           }
          ],
          "scatterternary": [
           {
            "marker": {
             "colorbar": {
              "outlinewidth": 0,
              "ticks": ""
             }
            },
            "type": "scatterternary"
           }
          ],
          "surface": [
           {
            "colorbar": {
             "outlinewidth": 0,
             "ticks": ""
            },
            "colorscale": [
             [
              0,
              "#0d0887"
             ],
             [
              0.1111111111111111,
              "#46039f"
             ],
             [
              0.2222222222222222,
              "#7201a8"
             ],
             [
              0.3333333333333333,
              "#9c179e"
             ],
             [
              0.4444444444444444,
              "#bd3786"
             ],
             [
              0.5555555555555556,
              "#d8576b"
             ],
             [
              0.6666666666666666,
              "#ed7953"
             ],
             [
              0.7777777777777778,
              "#fb9f3a"
             ],
             [
              0.8888888888888888,
              "#fdca26"
             ],
             [
              1,
              "#f0f921"
             ]
            ],
            "type": "surface"
           }
          ],
          "table": [
           {
            "cells": {
             "fill": {
              "color": "#EBF0F8"
             },
             "line": {
              "color": "white"
             }
            },
            "header": {
             "fill": {
              "color": "#C8D4E3"
             },
             "line": {
              "color": "white"
             }
            },
            "type": "table"
           }
          ]
         },
         "layout": {
          "annotationdefaults": {
           "arrowcolor": "#2a3f5f",
           "arrowhead": 0,
           "arrowwidth": 1
          },
          "autotypenumbers": "strict",
          "coloraxis": {
           "colorbar": {
            "outlinewidth": 0,
            "ticks": ""
           }
          },
          "colorscale": {
           "diverging": [
            [
             0,
             "#8e0152"
            ],
            [
             0.1,
             "#c51b7d"
            ],
            [
             0.2,
             "#de77ae"
            ],
            [
             0.3,
             "#f1b6da"
            ],
            [
             0.4,
             "#fde0ef"
            ],
            [
             0.5,
             "#f7f7f7"
            ],
            [
             0.6,
             "#e6f5d0"
            ],
            [
             0.7,
             "#b8e186"
            ],
            [
             0.8,
             "#7fbc41"
            ],
            [
             0.9,
             "#4d9221"
            ],
            [
             1,
             "#276419"
            ]
           ],
           "sequential": [
            [
             0,
             "#0d0887"
            ],
            [
             0.1111111111111111,
             "#46039f"
            ],
            [
             0.2222222222222222,
             "#7201a8"
            ],
            [
             0.3333333333333333,
             "#9c179e"
            ],
            [
             0.4444444444444444,
             "#bd3786"
            ],
            [
             0.5555555555555556,
             "#d8576b"
            ],
            [
             0.6666666666666666,
             "#ed7953"
            ],
            [
             0.7777777777777778,
             "#fb9f3a"
            ],
            [
             0.8888888888888888,
             "#fdca26"
            ],
            [
             1,
             "#f0f921"
            ]
           ],
           "sequentialminus": [
            [
             0,
             "#0d0887"
            ],
            [
             0.1111111111111111,
             "#46039f"
            ],
            [
             0.2222222222222222,
             "#7201a8"
            ],
            [
             0.3333333333333333,
             "#9c179e"
            ],
            [
             0.4444444444444444,
             "#bd3786"
            ],
            [
             0.5555555555555556,
             "#d8576b"
            ],
            [
             0.6666666666666666,
             "#ed7953"
            ],
            [
             0.7777777777777778,
             "#fb9f3a"
            ],
            [
             0.8888888888888888,
             "#fdca26"
            ],
            [
             1,
             "#f0f921"
            ]
           ]
          },
          "colorway": [
           "#636efa",
           "#EF553B",
           "#00cc96",
           "#ab63fa",
           "#FFA15A",
           "#19d3f3",
           "#FF6692",
           "#B6E880",
           "#FF97FF",
           "#FECB52"
          ],
          "font": {
           "color": "#2a3f5f"
          },
          "geo": {
           "bgcolor": "white",
           "lakecolor": "white",
           "landcolor": "#E5ECF6",
           "showlakes": true,
           "showland": true,
           "subunitcolor": "white"
          },
          "hoverlabel": {
           "align": "left"
          },
          "hovermode": "closest",
          "mapbox": {
           "style": "light"
          },
          "paper_bgcolor": "white",
          "plot_bgcolor": "#E5ECF6",
          "polar": {
           "angularaxis": {
            "gridcolor": "white",
            "linecolor": "white",
            "ticks": ""
           },
           "bgcolor": "#E5ECF6",
           "radialaxis": {
            "gridcolor": "white",
            "linecolor": "white",
            "ticks": ""
           }
          },
          "scene": {
           "xaxis": {
            "backgroundcolor": "#E5ECF6",
            "gridcolor": "white",
            "gridwidth": 2,
            "linecolor": "white",
            "showbackground": true,
            "ticks": "",
            "zerolinecolor": "white"
           },
           "yaxis": {
            "backgroundcolor": "#E5ECF6",
            "gridcolor": "white",
            "gridwidth": 2,
            "linecolor": "white",
            "showbackground": true,
            "ticks": "",
            "zerolinecolor": "white"
           },
           "zaxis": {
            "backgroundcolor": "#E5ECF6",
            "gridcolor": "white",
            "gridwidth": 2,
            "linecolor": "white",
            "showbackground": true,
            "ticks": "",
            "zerolinecolor": "white"
           }
          },
          "shapedefaults": {
           "line": {
            "color": "#2a3f5f"
           }
          },
          "ternary": {
           "aaxis": {
            "gridcolor": "white",
            "linecolor": "white",
            "ticks": ""
           },
           "baxis": {
            "gridcolor": "white",
            "linecolor": "white",
            "ticks": ""
           },
           "bgcolor": "#E5ECF6",
           "caxis": {
            "gridcolor": "white",
            "linecolor": "white",
            "ticks": ""
           }
          },
          "title": {
           "x": 0.05
          },
          "xaxis": {
           "automargin": true,
           "gridcolor": "white",
           "linecolor": "white",
           "ticks": "",
           "title": {
            "standoff": 15
           },
           "zerolinecolor": "white",
           "zerolinewidth": 2
          },
          "yaxis": {
           "automargin": true,
           "gridcolor": "white",
           "linecolor": "white",
           "ticks": "",
           "title": {
            "standoff": 15
           },
           "zerolinecolor": "white",
           "zerolinewidth": 2
          }
         }
        },
        "title": {
         "text": "Contaminantes "
        },
        "xaxis": {
         "anchor": "y",
         "domain": [
          0,
          0.235
         ],
         "title": {
          "text": "H"
         }
        },
        "xaxis10": {
         "anchor": "y10",
         "domain": [
          0.255,
          0.49
         ],
         "matches": "x",
         "showticklabels": false
        },
        "xaxis11": {
         "anchor": "y11",
         "domain": [
          0.51,
          0.745
         ],
         "matches": "x",
         "showticklabels": false
        },
        "xaxis12": {
         "anchor": "y12",
         "domain": [
          0.7649999999999999,
          0.9999999999999999
         ],
         "matches": "x",
         "showticklabels": false
        },
        "xaxis2": {
         "anchor": "y2",
         "domain": [
          0.255,
          0.49
         ],
         "matches": "x",
         "title": {
          "text": "H"
         }
        },
        "xaxis3": {
         "anchor": "y3",
         "domain": [
          0.51,
          0.745
         ],
         "matches": "x",
         "title": {
          "text": "H"
         }
        },
        "xaxis4": {
         "anchor": "y4",
         "domain": [
          0.7649999999999999,
          0.9999999999999999
         ],
         "matches": "x",
         "title": {
          "text": "H"
         }
        },
        "xaxis5": {
         "anchor": "y5",
         "domain": [
          0,
          0.235
         ],
         "matches": "x",
         "showticklabels": false
        },
        "xaxis6": {
         "anchor": "y6",
         "domain": [
          0.255,
          0.49
         ],
         "matches": "x",
         "showticklabels": false
        },
        "xaxis7": {
         "anchor": "y7",
         "domain": [
          0.51,
          0.745
         ],
         "matches": "x",
         "showticklabels": false
        },
        "xaxis8": {
         "anchor": "y8",
         "domain": [
          0.7649999999999999,
          0.9999999999999999
         ],
         "matches": "x",
         "showticklabels": false
        },
        "xaxis9": {
         "anchor": "y9",
         "domain": [
          0,
          0.235
         ],
         "matches": "x",
         "showticklabels": false
        },
        "yaxis": {
         "anchor": "x",
         "domain": [
          0,
          0.2866666666666666
         ],
         "title": {
          "text": "VALOR"
         }
        },
        "yaxis10": {
         "anchor": "x10",
         "domain": [
          0.7133333333333333,
          0.9999999999999999
         ],
         "showticklabels": false
        },
        "yaxis11": {
         "anchor": "x11",
         "domain": [
          0.7133333333333333,
          0.9999999999999999
         ],
         "showticklabels": false
        },
        "yaxis12": {
         "anchor": "x12",
         "domain": [
          0.7133333333333333,
          0.9999999999999999
         ],
         "showticklabels": false
        },
        "yaxis2": {
         "anchor": "x2",
         "domain": [
          0,
          0.2866666666666666
         ],
         "showticklabels": false
        },
        "yaxis3": {
         "anchor": "x3",
         "domain": [
          0,
          0.2866666666666666
         ],
         "showticklabels": false
        },
        "yaxis4": {
         "anchor": "x4",
         "domain": [
          0,
          0.2866666666666666
         ],
         "showticklabels": false
        },
        "yaxis5": {
         "anchor": "x5",
         "domain": [
          0.35666666666666663,
          0.6433333333333333
         ],
         "title": {
          "text": "VALOR"
         }
        },
        "yaxis6": {
         "anchor": "x6",
         "domain": [
          0.35666666666666663,
          0.6433333333333333
         ],
         "showticklabels": false
        },
        "yaxis7": {
         "anchor": "x7",
         "domain": [
          0.35666666666666663,
          0.6433333333333333
         ],
         "showticklabels": false
        },
        "yaxis8": {
         "anchor": "x8",
         "domain": [
          0.35666666666666663,
          0.6433333333333333
         ],
         "showticklabels": false
        },
        "yaxis9": {
         "anchor": "x9",
         "domain": [
          0.7133333333333333,
          0.9999999999999999
         ],
         "title": {
          "text": "VALOR"
         }
        }
       }
      },
      "text/html": [
       "<div>                            <div id=\"2265f681-d252-4ac5-8a4d-23066a5c6665\" class=\"plotly-graph-div\" style=\"height:525px; width:100%;\"></div>            <script type=\"text/javascript\">                require([\"plotly\"], function(Plotly) {                    window.PLOTLYENV=window.PLOTLYENV || {};                                    if (document.getElementById(\"2265f681-d252-4ac5-8a4d-23066a5c6665\")) {                    Plotly.newPlot(                        \"2265f681-d252-4ac5-8a4d-23066a5c6665\",                        [{\"hovertemplate\":\"ESTACION_DESC=Arturo Soria\\u003cbr\\u003ePARAMETRO=\\u00d3xidos de Nitr\\u00f3geno NOx\\u003cbr\\u003eH=%{x}\\u003cbr\\u003eVALOR=%{y}\\u003cextra\\u003e\\u003c\\u002fextra\\u003e\",\"legendgroup\":\"Arturo Soria\",\"line\":{\"color\":\"#636efa\",\"dash\":\"solid\"},\"marker\":{\"symbol\":\"circle\"},\"mode\":\"lines\",\"name\":\"Arturo Soria\",\"orientation\":\"v\",\"showlegend\":true,\"x\":[1,2,3,4,5,6,7,8,9],\"xaxis\":\"x9\",\"y\":[19.0,10.0,7.0,6.0,6.0,5.0,7.0,9.0,12.0],\"yaxis\":\"y9\",\"type\":\"scatter\"},{\"hovertemplate\":\"ESTACION_DESC=Arturo Soria\\u003cbr\\u003ePARAMETRO=Mon\\u00f3xido de Nitr\\u00f3geno NO\\u003cbr\\u003eH=%{x}\\u003cbr\\u003eVALOR=%{y}\\u003cextra\\u003e\\u003c\\u002fextra\\u003e\",\"legendgroup\":\"Arturo Soria\",\"line\":{\"color\":\"#636efa\",\"dash\":\"solid\"},\"marker\":{\"symbol\":\"circle\"},\"mode\":\"lines\",\"name\":\"Arturo Soria\",\"orientation\":\"v\",\"showlegend\":false,\"x\":[1,2,3,4,5,6,7,8,9],\"xaxis\":\"x10\",\"y\":[1.0,1.0,1.0,1.0,1.0,1.0,1.0,1.0,1.0],\"yaxis\":\"y10\",\"type\":\"scatter\"},{\"hovertemplate\":\"ESTACION_DESC=Arturo Soria\\u003cbr\\u003ePARAMETRO=Di\\u00f3xido de Nitr\\u00f3geno NO2\\u003cbr\\u003eH=%{x}\\u003cbr\\u003eVALOR=%{y}\\u003cextra\\u003e\\u003c\\u002fextra\\u003e\",\"legendgroup\":\"Arturo Soria\",\"line\":{\"color\":\"#636efa\",\"dash\":\"solid\"},\"marker\":{\"symbol\":\"circle\"},\"mode\":\"lines\",\"name\":\"Arturo Soria\",\"orientation\":\"v\",\"showlegend\":false,\"x\":[1,2,3,4,5,6,7,8,9],\"xaxis\":\"x11\",\"y\":[17.0,8.0,6.0,4.0,5.0,4.0,5.0,8.0,10.0],\"yaxis\":\"y11\",\"type\":\"scatter\"},{\"hovertemplate\":\"ESTACION_DESC=Arturo Soria\\u003cbr\\u003ePARAMETRO=Ozono O3\\u003cbr\\u003eH=%{x}\\u003cbr\\u003eVALOR=%{y}\\u003cextra\\u003e\\u003c\\u002fextra\\u003e\",\"legendgroup\":\"Arturo Soria\",\"line\":{\"color\":\"#636efa\",\"dash\":\"solid\"},\"marker\":{\"symbol\":\"circle\"},\"mode\":\"lines\",\"name\":\"Arturo Soria\",\"orientation\":\"v\",\"showlegend\":false,\"x\":[1,2,3,4,5,6,7,8,9],\"xaxis\":\"x12\",\"y\":[45.0,57.0,61.0,61.0,59.0,60.0,58.0,56.0,51.0],\"yaxis\":\"y12\",\"type\":\"scatter\"},{\"hovertemplate\":\"ESTACION_DESC=Barrio del Pilar\\u003cbr\\u003ePARAMETRO=\\u00d3xidos de Nitr\\u00f3geno NOx\\u003cbr\\u003eH=%{x}\\u003cbr\\u003eVALOR=%{y}\\u003cextra\\u003e\\u003c\\u002fextra\\u003e\",\"legendgroup\":\"Barrio del Pilar\",\"line\":{\"color\":\"#EF553B\",\"dash\":\"solid\"},\"marker\":{\"symbol\":\"circle\"},\"mode\":\"lines\",\"name\":\"Barrio del Pilar\",\"orientation\":\"v\",\"showlegend\":true,\"x\":[1,2,3,4,5,6,7,8,9],\"xaxis\":\"x9\",\"y\":[17.0,9.0,6.0,4.0,4.0,5.0,6.0,8.0,13.0],\"yaxis\":\"y9\",\"type\":\"scatter\"},{\"hovertemplate\":\"ESTACION_DESC=Barrio del Pilar\\u003cbr\\u003ePARAMETRO=Mon\\u00f3xido de Nitr\\u00f3geno NO\\u003cbr\\u003eH=%{x}\\u003cbr\\u003eVALOR=%{y}\\u003cextra\\u003e\\u003c\\u002fextra\\u003e\",\"legendgroup\":\"Barrio del Pilar\",\"line\":{\"color\":\"#EF553B\",\"dash\":\"solid\"},\"marker\":{\"symbol\":\"circle\"},\"mode\":\"lines\",\"name\":\"Barrio del Pilar\",\"orientation\":\"v\",\"showlegend\":false,\"x\":[1,2,3,4,5,6,7,8,9],\"xaxis\":\"x10\",\"y\":[1.0,1.0,1.0,1.0,1.0,1.0,1.0,1.0,1.0],\"yaxis\":\"y10\",\"type\":\"scatter\"},{\"hovertemplate\":\"ESTACION_DESC=Barrio del Pilar\\u003cbr\\u003ePARAMETRO=Di\\u00f3xido de Nitr\\u00f3geno NO2\\u003cbr\\u003eH=%{x}\\u003cbr\\u003eVALOR=%{y}\\u003cextra\\u003e\\u003c\\u002fextra\\u003e\",\"legendgroup\":\"Barrio del Pilar\",\"line\":{\"color\":\"#EF553B\",\"dash\":\"solid\"},\"marker\":{\"symbol\":\"circle\"},\"mode\":\"lines\",\"name\":\"Barrio del Pilar\",\"orientation\":\"v\",\"showlegend\":false,\"x\":[1,2,3,4,5,6,7,8,9],\"xaxis\":\"x11\",\"y\":[15.0,7.0,5.0,3.0,3.0,3.0,5.0,7.0,11.0],\"yaxis\":\"y11\",\"type\":\"scatter\"},{\"hovertemplate\":\"ESTACION_DESC=Barrio del Pilar\\u003cbr\\u003ePARAMETRO=Ozono O3\\u003cbr\\u003eH=%{x}\\u003cbr\\u003eVALOR=%{y}\\u003cextra\\u003e\\u003c\\u002fextra\\u003e\",\"legendgroup\":\"Barrio del Pilar\",\"line\":{\"color\":\"#EF553B\",\"dash\":\"solid\"},\"marker\":{\"symbol\":\"circle\"},\"mode\":\"lines\",\"name\":\"Barrio del Pilar\",\"orientation\":\"v\",\"showlegend\":false,\"x\":[1,2,3,4,5,6,7,8,9],\"xaxis\":\"x12\",\"y\":[52.0,58.0,60.0,61.0,61.0,61.0,61.0,58.0,55.0],\"yaxis\":\"y12\",\"type\":\"scatter\"},{\"hovertemplate\":\"ESTACION_DESC=Casa de Campo\\u003cbr\\u003ePARAMETRO=\\u00d3xidos de Nitr\\u00f3geno NOx\\u003cbr\\u003eH=%{x}\\u003cbr\\u003eVALOR=%{y}\\u003cextra\\u003e\\u003c\\u002fextra\\u003e\",\"legendgroup\":\"Casa de Campo\",\"line\":{\"color\":\"#00cc96\",\"dash\":\"solid\"},\"marker\":{\"symbol\":\"circle\"},\"mode\":\"lines\",\"name\":\"Casa de Campo\",\"orientation\":\"v\",\"showlegend\":true,\"x\":[1,2,3,4,5,6,7,8,9],\"xaxis\":\"x9\",\"y\":[17.0,11.0,7.0,6.0,6.0,7.0,8.0,6.0,8.0],\"yaxis\":\"y9\",\"type\":\"scatter\"},{\"hovertemplate\":\"ESTACION_DESC=Casa de Campo\\u003cbr\\u003ePARAMETRO=Mon\\u00f3xido de Nitr\\u00f3geno NO\\u003cbr\\u003eH=%{x}\\u003cbr\\u003eVALOR=%{y}\\u003cextra\\u003e\\u003c\\u002fextra\\u003e\",\"legendgroup\":\"Casa de Campo\",\"line\":{\"color\":\"#00cc96\",\"dash\":\"solid\"},\"marker\":{\"symbol\":\"circle\"},\"mode\":\"lines\",\"name\":\"Casa de Campo\",\"orientation\":\"v\",\"showlegend\":false,\"x\":[1,2,3,4,5,6,7,8,9],\"xaxis\":\"x10\",\"y\":[1.0,1.0,1.0,1.0,1.0,1.0,1.0,1.0,1.0],\"yaxis\":\"y10\",\"type\":\"scatter\"},{\"hovertemplate\":\"ESTACION_DESC=Casa de Campo\\u003cbr\\u003ePARAMETRO=Di\\u00f3xido de Nitr\\u00f3geno NO2\\u003cbr\\u003eH=%{x}\\u003cbr\\u003eVALOR=%{y}\\u003cextra\\u003e\\u003c\\u002fextra\\u003e\",\"legendgroup\":\"Casa de Campo\",\"line\":{\"color\":\"#00cc96\",\"dash\":\"solid\"},\"marker\":{\"symbol\":\"circle\"},\"mode\":\"lines\",\"name\":\"Casa de Campo\",\"orientation\":\"v\",\"showlegend\":false,\"x\":[1,2,3,4,5,6,7,8,9],\"xaxis\":\"x11\",\"y\":[16.0,10.0,5.0,5.0,5.0,5.0,6.0,5.0,7.0],\"yaxis\":\"y11\",\"type\":\"scatter\"},{\"hovertemplate\":\"ESTACION_DESC=Casa de Campo\\u003cbr\\u003ePARAMETRO=Ozono O3\\u003cbr\\u003eH=%{x}\\u003cbr\\u003eVALOR=%{y}\\u003cextra\\u003e\\u003c\\u002fextra\\u003e\",\"legendgroup\":\"Casa de Campo\",\"line\":{\"color\":\"#00cc96\",\"dash\":\"solid\"},\"marker\":{\"symbol\":\"circle\"},\"mode\":\"lines\",\"name\":\"Casa de Campo\",\"orientation\":\"v\",\"showlegend\":false,\"x\":[1,2,3,4,5,6,7,8,9],\"xaxis\":\"x12\",\"y\":[61.0,64.0,68.0,67.0,66.0,66.0,69.0,67.0,65.0],\"yaxis\":\"y12\",\"type\":\"scatter\"},{\"hovertemplate\":\"ESTACION_DESC=Casa de Campo\\u003cbr\\u003ePARAMETRO=Part\\u00edculas \\u003c 10 \\u00b5m PM10\\u003cbr\\u003eH=%{x}\\u003cbr\\u003eVALOR=%{y}\\u003cextra\\u003e\\u003c\\u002fextra\\u003e\",\"legendgroup\":\"Casa de Campo\",\"line\":{\"color\":\"#00cc96\",\"dash\":\"solid\"},\"marker\":{\"symbol\":\"circle\"},\"mode\":\"lines\",\"name\":\"Casa de Campo\",\"orientation\":\"v\",\"showlegend\":false,\"x\":[1,2,3,4,5,6,7,8,9],\"xaxis\":\"x5\",\"y\":[9.0,8.0,8.0,6.0,5.0,5.0,6.0,5.0,9.0],\"yaxis\":\"y5\",\"type\":\"scatter\"},{\"hovertemplate\":\"ESTACION_DESC=Casa de Campo\\u003cbr\\u003ePARAMETRO=Part\\u00edculas \\u003c 2.5 \\u00b5m PM2.5\\u003cbr\\u003eH=%{x}\\u003cbr\\u003eVALOR=%{y}\\u003cextra\\u003e\\u003c\\u002fextra\\u003e\",\"legendgroup\":\"Casa de Campo\",\"line\":{\"color\":\"#00cc96\",\"dash\":\"solid\"},\"marker\":{\"symbol\":\"circle\"},\"mode\":\"lines\",\"name\":\"Casa de Campo\",\"orientation\":\"v\",\"showlegend\":false,\"x\":[1,2,3,4,5,6,7,8,9],\"xaxis\":\"x6\",\"y\":[4.0,3.0,3.0,1.0,1.0,1.0,2.0,1.0,5.0],\"yaxis\":\"y6\",\"type\":\"scatter\"},{\"hovertemplate\":\"ESTACION_DESC=Cuatro Caminos\\u003cbr\\u003ePARAMETRO=\\u00d3xidos de Nitr\\u00f3geno NOx\\u003cbr\\u003eH=%{x}\\u003cbr\\u003eVALOR=%{y}\\u003cextra\\u003e\\u003c\\u002fextra\\u003e\",\"legendgroup\":\"Cuatro Caminos\",\"line\":{\"color\":\"#ab63fa\",\"dash\":\"solid\"},\"marker\":{\"symbol\":\"circle\"},\"mode\":\"lines\",\"name\":\"Cuatro Caminos\",\"orientation\":\"v\",\"showlegend\":true,\"x\":[1,2,3,4,5,6,7,8,9],\"xaxis\":\"x9\",\"y\":[14.0,10.0,7.0,6.0,6.0,7.0,8.0,9.0,12.0],\"yaxis\":\"y9\",\"type\":\"scatter\"},{\"hovertemplate\":\"ESTACION_DESC=Cuatro Caminos\\u003cbr\\u003ePARAMETRO=Mon\\u00f3xido de Nitr\\u00f3geno NO\\u003cbr\\u003eH=%{x}\\u003cbr\\u003eVALOR=%{y}\\u003cextra\\u003e\\u003c\\u002fextra\\u003e\",\"legendgroup\":\"Cuatro Caminos\",\"line\":{\"color\":\"#ab63fa\",\"dash\":\"solid\"},\"marker\":{\"symbol\":\"circle\"},\"mode\":\"lines\",\"name\":\"Cuatro Caminos\",\"orientation\":\"v\",\"showlegend\":false,\"x\":[1,2,3,4,5,6,7,8,9],\"xaxis\":\"x10\",\"y\":[1.0,1.0,1.0,1.0,1.0,1.0,1.0,1.0,1.0],\"yaxis\":\"y10\",\"type\":\"scatter\"},{\"hovertemplate\":\"ESTACION_DESC=Cuatro Caminos\\u003cbr\\u003ePARAMETRO=Di\\u00f3xido de Nitr\\u00f3geno NO2\\u003cbr\\u003eH=%{x}\\u003cbr\\u003eVALOR=%{y}\\u003cextra\\u003e\\u003c\\u002fextra\\u003e\",\"legendgroup\":\"Cuatro Caminos\",\"line\":{\"color\":\"#ab63fa\",\"dash\":\"solid\"},\"marker\":{\"symbol\":\"circle\"},\"mode\":\"lines\",\"name\":\"Cuatro Caminos\",\"orientation\":\"v\",\"showlegend\":false,\"x\":[1,2,3,4,5,6,7,8,9],\"xaxis\":\"x11\",\"y\":[12.0,8.0,5.0,5.0,4.0,5.0,7.0,8.0,11.0],\"yaxis\":\"y11\",\"type\":\"scatter\"},{\"hovertemplate\":\"ESTACION_DESC=Cuatro Caminos\\u003cbr\\u003ePARAMETRO=Part\\u00edculas \\u003c 10 \\u00b5m PM10\\u003cbr\\u003eH=%{x}\\u003cbr\\u003eVALOR=%{y}\\u003cextra\\u003e\\u003c\\u002fextra\\u003e\",\"legendgroup\":\"Cuatro Caminos\",\"line\":{\"color\":\"#ab63fa\",\"dash\":\"solid\"},\"marker\":{\"symbol\":\"circle\"},\"mode\":\"lines\",\"name\":\"Cuatro Caminos\",\"orientation\":\"v\",\"showlegend\":false,\"x\":[1,2,3,4,5,6,7,8,9],\"xaxis\":\"x5\",\"y\":[10.0,6.0,8.0,7.0,10.0,5.0,6.0,5.0,5.0],\"yaxis\":\"y5\",\"type\":\"scatter\"},{\"hovertemplate\":\"ESTACION_DESC=Cuatro Caminos\\u003cbr\\u003ePARAMETRO=Part\\u00edculas \\u003c 2.5 \\u00b5m PM2.5\\u003cbr\\u003eH=%{x}\\u003cbr\\u003eVALOR=%{y}\\u003cextra\\u003e\\u003c\\u002fextra\\u003e\",\"legendgroup\":\"Cuatro Caminos\",\"line\":{\"color\":\"#ab63fa\",\"dash\":\"solid\"},\"marker\":{\"symbol\":\"circle\"},\"mode\":\"lines\",\"name\":\"Cuatro Caminos\",\"orientation\":\"v\",\"showlegend\":false,\"x\":[1,2,3,4,5,6,7,8,9],\"xaxis\":\"x6\",\"y\":[5.0,2.0,5.0,3.0,4.0,1.0,4.0,1.0,1.0],\"yaxis\":\"y6\",\"type\":\"scatter\"},{\"hovertemplate\":\"ESTACION_DESC=Cuatro Caminos\\u003cbr\\u003ePARAMETRO=Etilbenceno EBE\\u003cbr\\u003eH=%{x}\\u003cbr\\u003eVALOR=%{y}\\u003cextra\\u003e\\u003c\\u002fextra\\u003e\",\"legendgroup\":\"Cuatro Caminos\",\"line\":{\"color\":\"#ab63fa\",\"dash\":\"solid\"},\"marker\":{\"symbol\":\"circle\"},\"mode\":\"lines\",\"name\":\"Cuatro Caminos\",\"orientation\":\"v\",\"showlegend\":false,\"x\":[1,2,3,4,5,6,7,8,9],\"xaxis\":\"x7\",\"y\":[0.2,0.2,0.1,0.1,0.1,0.1,0.1,0.1,0.1],\"yaxis\":\"y7\",\"type\":\"scatter\"},{\"hovertemplate\":\"ESTACION_DESC=Cuatro Caminos\\u003cbr\\u003ePARAMETRO=Tolueno TOL\\u003cbr\\u003eH=%{x}\\u003cbr\\u003eVALOR=%{y}\\u003cextra\\u003e\\u003c\\u002fextra\\u003e\",\"legendgroup\":\"Cuatro Caminos\",\"line\":{\"color\":\"#ab63fa\",\"dash\":\"solid\"},\"marker\":{\"symbol\":\"circle\"},\"mode\":\"lines\",\"name\":\"Cuatro Caminos\",\"orientation\":\"v\",\"showlegend\":false,\"x\":[1,2,3,4,5,6,7,8,9],\"xaxis\":\"x8\",\"y\":[1.2,1.0,0.6,0.5,0.4,0.5,0.6,0.5,0.5],\"yaxis\":\"y8\",\"type\":\"scatter\"},{\"hovertemplate\":\"ESTACION_DESC=Cuatro Caminos\\u003cbr\\u003ePARAMETRO=Benceno BEN\\u003cbr\\u003eH=%{x}\\u003cbr\\u003eVALOR=%{y}\\u003cextra\\u003e\\u003c\\u002fextra\\u003e\",\"legendgroup\":\"Cuatro Caminos\",\"line\":{\"color\":\"#ab63fa\",\"dash\":\"solid\"},\"marker\":{\"symbol\":\"circle\"},\"mode\":\"lines\",\"name\":\"Cuatro Caminos\",\"orientation\":\"v\",\"showlegend\":false,\"x\":[1,2,3,4,5,6,7,8,9],\"xaxis\":\"x\",\"y\":[0.4,0.3,0.3,0.2,0.2,0.2,0.2,0.2,0.2],\"yaxis\":\"y\",\"type\":\"scatter\"},{\"hovertemplate\":\"ESTACION_DESC=El Pardo\\u003cbr\\u003ePARAMETRO=\\u00d3xidos de Nitr\\u00f3geno NOx\\u003cbr\\u003eH=%{x}\\u003cbr\\u003eVALOR=%{y}\\u003cextra\\u003e\\u003c\\u002fextra\\u003e\",\"legendgroup\":\"El Pardo\",\"line\":{\"color\":\"#FFA15A\",\"dash\":\"solid\"},\"marker\":{\"symbol\":\"circle\"},\"mode\":\"lines\",\"name\":\"El Pardo\",\"orientation\":\"v\",\"showlegend\":true,\"x\":[1,2,3,4,5,6,7,8,9],\"xaxis\":\"x9\",\"y\":[10.0,8.0,6.0,4.0,3.0,3.0,3.0,4.0,5.0],\"yaxis\":\"y9\",\"type\":\"scatter\"},{\"hovertemplate\":\"ESTACION_DESC=El Pardo\\u003cbr\\u003ePARAMETRO=Mon\\u00f3xido de Nitr\\u00f3geno NO\\u003cbr\\u003eH=%{x}\\u003cbr\\u003eVALOR=%{y}\\u003cextra\\u003e\\u003c\\u002fextra\\u003e\",\"legendgroup\":\"El Pardo\",\"line\":{\"color\":\"#FFA15A\",\"dash\":\"solid\"},\"marker\":{\"symbol\":\"circle\"},\"mode\":\"lines\",\"name\":\"El Pardo\",\"orientation\":\"v\",\"showlegend\":false,\"x\":[1,2,3,4,5,6,7,8,9],\"xaxis\":\"x10\",\"y\":[1.0,1.0,1.0,1.0,1.0,1.0,1.0,1.0,1.0],\"yaxis\":\"y10\",\"type\":\"scatter\"},{\"hovertemplate\":\"ESTACION_DESC=El Pardo\\u003cbr\\u003ePARAMETRO=Di\\u00f3xido de Nitr\\u00f3geno NO2\\u003cbr\\u003eH=%{x}\\u003cbr\\u003eVALOR=%{y}\\u003cextra\\u003e\\u003c\\u002fextra\\u003e\",\"legendgroup\":\"El Pardo\",\"line\":{\"color\":\"#FFA15A\",\"dash\":\"solid\"},\"marker\":{\"symbol\":\"circle\"},\"mode\":\"lines\",\"name\":\"El Pardo\",\"orientation\":\"v\",\"showlegend\":false,\"x\":[1,2,3,4,5,6,7,8,9],\"xaxis\":\"x11\",\"y\":[9.0,7.0,4.0,3.0,2.0,2.0,2.0,2.0,3.0],\"yaxis\":\"y11\",\"type\":\"scatter\"},{\"hovertemplate\":\"ESTACION_DESC=El Pardo\\u003cbr\\u003ePARAMETRO=Ozono O3\\u003cbr\\u003eH=%{x}\\u003cbr\\u003eVALOR=%{y}\\u003cextra\\u003e\\u003c\\u002fextra\\u003e\",\"legendgroup\":\"El Pardo\",\"line\":{\"color\":\"#FFA15A\",\"dash\":\"solid\"},\"marker\":{\"symbol\":\"circle\"},\"mode\":\"lines\",\"name\":\"El Pardo\",\"orientation\":\"v\",\"showlegend\":false,\"x\":[1,2,3,4,5,6,7,8,9],\"xaxis\":\"x12\",\"y\":[50.0,53.0,57.0,60.0,62.0,63.0,64.0,66.0,62.0],\"yaxis\":\"y12\",\"type\":\"scatter\"},{\"hovertemplate\":\"ESTACION_DESC=Ensanche de Vallecas\\u003cbr\\u003ePARAMETRO=\\u00d3xidos de Nitr\\u00f3geno NOx\\u003cbr\\u003eH=%{x}\\u003cbr\\u003eVALOR=%{y}\\u003cextra\\u003e\\u003c\\u002fextra\\u003e\",\"legendgroup\":\"Ensanche de Vallecas\",\"line\":{\"color\":\"#19d3f3\",\"dash\":\"solid\"},\"marker\":{\"symbol\":\"circle\"},\"mode\":\"lines\",\"name\":\"Ensanche de Vallecas\",\"orientation\":\"v\",\"showlegend\":true,\"x\":[1,2,3,4,5,6,7,8,9],\"xaxis\":\"x9\",\"y\":[25.0,14.0,15.0,12.0,9.0,14.0,12.0,12.0,18.0],\"yaxis\":\"y9\",\"type\":\"scatter\"},{\"hovertemplate\":\"ESTACION_DESC=Ensanche de Vallecas\\u003cbr\\u003ePARAMETRO=Mon\\u00f3xido de Nitr\\u00f3geno NO\\u003cbr\\u003eH=%{x}\\u003cbr\\u003eVALOR=%{y}\\u003cextra\\u003e\\u003c\\u002fextra\\u003e\",\"legendgroup\":\"Ensanche de Vallecas\",\"line\":{\"color\":\"#19d3f3\",\"dash\":\"solid\"},\"marker\":{\"symbol\":\"circle\"},\"mode\":\"lines\",\"name\":\"Ensanche de Vallecas\",\"orientation\":\"v\",\"showlegend\":false,\"x\":[1,2,3,4,5,6,7,8,9],\"xaxis\":\"x10\",\"y\":[1.0,1.0,1.0,1.0,1.0,1.0,1.0,1.0,1.0],\"yaxis\":\"y10\",\"type\":\"scatter\"},{\"hovertemplate\":\"ESTACION_DESC=Ensanche de Vallecas\\u003cbr\\u003ePARAMETRO=Di\\u00f3xido de Nitr\\u00f3geno NO2\\u003cbr\\u003eH=%{x}\\u003cbr\\u003eVALOR=%{y}\\u003cextra\\u003e\\u003c\\u002fextra\\u003e\",\"legendgroup\":\"Ensanche de Vallecas\",\"line\":{\"color\":\"#19d3f3\",\"dash\":\"solid\"},\"marker\":{\"symbol\":\"circle\"},\"mode\":\"lines\",\"name\":\"Ensanche de Vallecas\",\"orientation\":\"v\",\"showlegend\":false,\"x\":[1,2,3,4,5,6,7,8,9],\"xaxis\":\"x11\",\"y\":[23.0,13.0,14.0,10.0,7.0,13.0,10.0,11.0,17.0],\"yaxis\":\"y11\",\"type\":\"scatter\"},{\"hovertemplate\":\"ESTACION_DESC=Ensanche de Vallecas\\u003cbr\\u003ePARAMETRO=Ozono O3\\u003cbr\\u003eH=%{x}\\u003cbr\\u003eVALOR=%{y}\\u003cextra\\u003e\\u003c\\u002fextra\\u003e\",\"legendgroup\":\"Ensanche de Vallecas\",\"line\":{\"color\":\"#19d3f3\",\"dash\":\"solid\"},\"marker\":{\"symbol\":\"circle\"},\"mode\":\"lines\",\"name\":\"Ensanche de Vallecas\",\"orientation\":\"v\",\"showlegend\":false,\"x\":[1,2,3,4,5,6,7,8,9],\"xaxis\":\"x12\",\"y\":[43.0,50.0,52.0,57.0,61.0,49.0,56.0,56.0,51.0],\"yaxis\":\"y12\",\"type\":\"scatter\"},{\"hovertemplate\":\"ESTACION_DESC=Ensanche de Vallecas\\u003cbr\\u003ePARAMETRO=Part\\u00edculas \\u003c 10 \\u00b5m PM10\\u003cbr\\u003eH=%{x}\\u003cbr\\u003eVALOR=%{y}\\u003cextra\\u003e\\u003c\\u002fextra\\u003e\",\"legendgroup\":\"Ensanche de Vallecas\",\"line\":{\"color\":\"#19d3f3\",\"dash\":\"solid\"},\"marker\":{\"symbol\":\"circle\"},\"mode\":\"lines\",\"name\":\"Ensanche de Vallecas\",\"orientation\":\"v\",\"showlegend\":false,\"x\":[1,2,3,4,5,6,7,8,9],\"xaxis\":\"x5\",\"y\":[7.0,7.0,12.0,11.0,5.0,5.0,7.0,5.0,7.0],\"yaxis\":\"y5\",\"type\":\"scatter\"},{\"hovertemplate\":\"ESTACION_DESC=Ensanche de Vallecas\\u003cbr\\u003ePARAMETRO=Part\\u00edculas \\u003c 2.5 \\u00b5m PM2.5\\u003cbr\\u003eH=%{x}\\u003cbr\\u003eVALOR=%{y}\\u003cextra\\u003e\\u003c\\u002fextra\\u003e\",\"legendgroup\":\"Ensanche de Vallecas\",\"line\":{\"color\":\"#19d3f3\",\"dash\":\"solid\"},\"marker\":{\"symbol\":\"circle\"},\"mode\":\"lines\",\"name\":\"Ensanche de Vallecas\",\"orientation\":\"v\",\"showlegend\":false,\"x\":[1,2,3,4,5,6,7,8,9],\"xaxis\":\"x6\",\"y\":[3.0,4.0,8.0,8.0,2.0,2.0,4.0,3.0,4.0],\"yaxis\":\"y6\",\"type\":\"scatter\"},{\"hovertemplate\":\"ESTACION_DESC=Escuelas Aguirre\\u003cbr\\u003ePARAMETRO=\\u00d3xidos de Nitr\\u00f3geno NOx\\u003cbr\\u003eH=%{x}\\u003cbr\\u003eVALOR=%{y}\\u003cextra\\u003e\\u003c\\u002fextra\\u003e\",\"legendgroup\":\"Escuelas Aguirre\",\"line\":{\"color\":\"#FF6692\",\"dash\":\"solid\"},\"marker\":{\"symbol\":\"circle\"},\"mode\":\"lines\",\"name\":\"Escuelas Aguirre\",\"orientation\":\"v\",\"showlegend\":true,\"x\":[1,2,3,4,5,6,7,8,9],\"xaxis\":\"x9\",\"y\":[32.0,19.0,16.0,12.0,11.0,10.0,12.0,15.0,21.0],\"yaxis\":\"y9\",\"type\":\"scatter\"},{\"hovertemplate\":\"ESTACION_DESC=Escuelas Aguirre\\u003cbr\\u003ePARAMETRO=Mon\\u00f3xido de Nitr\\u00f3geno NO\\u003cbr\\u003eH=%{x}\\u003cbr\\u003eVALOR=%{y}\\u003cextra\\u003e\\u003c\\u002fextra\\u003e\",\"legendgroup\":\"Escuelas Aguirre\",\"line\":{\"color\":\"#FF6692\",\"dash\":\"solid\"},\"marker\":{\"symbol\":\"circle\"},\"mode\":\"lines\",\"name\":\"Escuelas Aguirre\",\"orientation\":\"v\",\"showlegend\":false,\"x\":[1,2,3,4,5,6,7,8,9],\"xaxis\":\"x10\",\"y\":[3.0,2.0,2.0,1.0,1.0,1.0,1.0,1.0,2.0],\"yaxis\":\"y10\",\"type\":\"scatter\"},{\"hovertemplate\":\"ESTACION_DESC=Escuelas Aguirre\\u003cbr\\u003ePARAMETRO=Di\\u00f3xido de Nitr\\u00f3geno NO2\\u003cbr\\u003eH=%{x}\\u003cbr\\u003eVALOR=%{y}\\u003cextra\\u003e\\u003c\\u002fextra\\u003e\",\"legendgroup\":\"Escuelas Aguirre\",\"line\":{\"color\":\"#FF6692\",\"dash\":\"solid\"},\"marker\":{\"symbol\":\"circle\"},\"mode\":\"lines\",\"name\":\"Escuelas Aguirre\",\"orientation\":\"v\",\"showlegend\":false,\"x\":[1,2,3,4,5,6,7,8,9],\"xaxis\":\"x11\",\"y\":[27.0,15.0,12.0,10.0,9.0,9.0,10.0,13.0,18.0],\"yaxis\":\"y11\",\"type\":\"scatter\"},{\"hovertemplate\":\"ESTACION_DESC=Escuelas Aguirre\\u003cbr\\u003ePARAMETRO=Ozono O3\\u003cbr\\u003eH=%{x}\\u003cbr\\u003eVALOR=%{y}\\u003cextra\\u003e\\u003c\\u002fextra\\u003e\",\"legendgroup\":\"Escuelas Aguirre\",\"line\":{\"color\":\"#FF6692\",\"dash\":\"solid\"},\"marker\":{\"symbol\":\"circle\"},\"mode\":\"lines\",\"name\":\"Escuelas Aguirre\",\"orientation\":\"v\",\"showlegend\":false,\"x\":[1,2,3,4,5,6,7,8,9],\"xaxis\":\"x12\",\"y\":[48.0,57.0,60.0,59.0,59.0,61.0,58.0,57.0,52.0],\"yaxis\":\"y12\",\"type\":\"scatter\"},{\"hovertemplate\":\"ESTACION_DESC=Escuelas Aguirre\\u003cbr\\u003ePARAMETRO=Part\\u00edculas \\u003c 10 \\u00b5m PM10\\u003cbr\\u003eH=%{x}\\u003cbr\\u003eVALOR=%{y}\\u003cextra\\u003e\\u003c\\u002fextra\\u003e\",\"legendgroup\":\"Escuelas Aguirre\",\"line\":{\"color\":\"#FF6692\",\"dash\":\"solid\"},\"marker\":{\"symbol\":\"circle\"},\"mode\":\"lines\",\"name\":\"Escuelas Aguirre\",\"orientation\":\"v\",\"showlegend\":false,\"x\":[1,2,3,4,5,6,7,8,9],\"xaxis\":\"x5\",\"y\":[16.0,14.0,10.0,5.0,11.0,11.0,7.0,12.0,12.0],\"yaxis\":\"y5\",\"type\":\"scatter\"},{\"hovertemplate\":\"ESTACION_DESC=Escuelas Aguirre\\u003cbr\\u003ePARAMETRO=Part\\u00edculas \\u003c 2.5 \\u00b5m PM2.5\\u003cbr\\u003eH=%{x}\\u003cbr\\u003eVALOR=%{y}\\u003cextra\\u003e\\u003c\\u002fextra\\u003e\",\"legendgroup\":\"Escuelas Aguirre\",\"line\":{\"color\":\"#FF6692\",\"dash\":\"solid\"},\"marker\":{\"symbol\":\"circle\"},\"mode\":\"lines\",\"name\":\"Escuelas Aguirre\",\"orientation\":\"v\",\"showlegend\":false,\"x\":[1,2,3,4,5,6,7,8,9],\"xaxis\":\"x6\",\"y\":[7.0,3.0,3.0,1.0,6.0,5.0,2.0,4.0,4.0],\"yaxis\":\"y6\",\"type\":\"scatter\"},{\"hovertemplate\":\"ESTACION_DESC=Escuelas Aguirre\\u003cbr\\u003ePARAMETRO=Etilbenceno EBE\\u003cbr\\u003eH=%{x}\\u003cbr\\u003eVALOR=%{y}\\u003cextra\\u003e\\u003c\\u002fextra\\u003e\",\"legendgroup\":\"Escuelas Aguirre\",\"line\":{\"color\":\"#FF6692\",\"dash\":\"solid\"},\"marker\":{\"symbol\":\"circle\"},\"mode\":\"lines\",\"name\":\"Escuelas Aguirre\",\"orientation\":\"v\",\"showlegend\":false,\"x\":[1,2,3,4,5,6,7,8,9],\"xaxis\":\"x7\",\"y\":[0.7,0.3,0.2,0.1,0.1,0.1,0.1,0.1,0.1],\"yaxis\":\"y7\",\"type\":\"scatter\"},{\"hovertemplate\":\"ESTACION_DESC=Escuelas Aguirre\\u003cbr\\u003ePARAMETRO=Tolueno TOL\\u003cbr\\u003eH=%{x}\\u003cbr\\u003eVALOR=%{y}\\u003cextra\\u003e\\u003c\\u002fextra\\u003e\",\"legendgroup\":\"Escuelas Aguirre\",\"line\":{\"color\":\"#FF6692\",\"dash\":\"solid\"},\"marker\":{\"symbol\":\"circle\"},\"mode\":\"lines\",\"name\":\"Escuelas Aguirre\",\"orientation\":\"v\",\"showlegend\":false,\"x\":[1,2,3,4,5,6,7,8,9],\"xaxis\":\"x8\",\"y\":[2.3,2.7,1.8,1.9,1.1,0.8,0.7,0.9,0.9],\"yaxis\":\"y8\",\"type\":\"scatter\"},{\"hovertemplate\":\"ESTACION_DESC=Escuelas Aguirre\\u003cbr\\u003ePARAMETRO=Benceno BEN\\u003cbr\\u003eH=%{x}\\u003cbr\\u003eVALOR=%{y}\\u003cextra\\u003e\\u003c\\u002fextra\\u003e\",\"legendgroup\":\"Escuelas Aguirre\",\"line\":{\"color\":\"#FF6692\",\"dash\":\"solid\"},\"marker\":{\"symbol\":\"circle\"},\"mode\":\"lines\",\"name\":\"Escuelas Aguirre\",\"orientation\":\"v\",\"showlegend\":false,\"x\":[1,2,3,4,5,6,7,8,9],\"xaxis\":\"x\",\"y\":[0.5,0.4,0.3,0.3,0.3,0.2,0.2,0.3,0.3],\"yaxis\":\"y\",\"type\":\"scatter\"},{\"hovertemplate\":\"ESTACION_DESC=Escuelas Aguirre\\u003cbr\\u003ePARAMETRO=Mon\\u00f3xido de Carbono CO\\u003cbr\\u003eH=%{x}\\u003cbr\\u003eVALOR=%{y}\\u003cextra\\u003e\\u003c\\u002fextra\\u003e\",\"legendgroup\":\"Escuelas Aguirre\",\"line\":{\"color\":\"#FF6692\",\"dash\":\"solid\"},\"marker\":{\"symbol\":\"circle\"},\"mode\":\"lines\",\"name\":\"Escuelas Aguirre\",\"orientation\":\"v\",\"showlegend\":false,\"x\":[1,2,3,4,5,6,7,8,9],\"xaxis\":\"x2\",\"y\":[0.3,0.2,0.2,0.2,0.2,0.2,0.2,0.2,0.2],\"yaxis\":\"y2\",\"type\":\"scatter\"},{\"hovertemplate\":\"ESTACION_DESC=Escuelas Aguirre\\u003cbr\\u003ePARAMETRO=Di\\u00f3xido de Azufre SO2\\u003cbr\\u003eH=%{x}\\u003cbr\\u003eVALOR=%{y}\\u003cextra\\u003e\\u003c\\u002fextra\\u003e\",\"legendgroup\":\"Escuelas Aguirre\",\"line\":{\"color\":\"#FF6692\",\"dash\":\"solid\"},\"marker\":{\"symbol\":\"circle\"},\"mode\":\"lines\",\"name\":\"Escuelas Aguirre\",\"orientation\":\"v\",\"showlegend\":false,\"x\":[1,2,3,4,5,6,7,8,9],\"xaxis\":\"x3\",\"y\":[1.0,1.0,1.0,1.0,1.0,1.0,1.0,1.0,1.0],\"yaxis\":\"y3\",\"type\":\"scatter\"},{\"hovertemplate\":\"ESTACION_DESC=Farolillo\\u003cbr\\u003ePARAMETRO=\\u00d3xidos de Nitr\\u00f3geno NOx\\u003cbr\\u003eH=%{x}\\u003cbr\\u003eVALOR=%{y}\\u003cextra\\u003e\\u003c\\u002fextra\\u003e\",\"legendgroup\":\"Farolillo\",\"line\":{\"color\":\"#B6E880\",\"dash\":\"solid\"},\"marker\":{\"symbol\":\"circle\"},\"mode\":\"lines\",\"name\":\"Farolillo\",\"orientation\":\"v\",\"showlegend\":true,\"x\":[1,2,3,4,5,6,7,8,9],\"xaxis\":\"x9\",\"y\":[17.0,10.0,7.0,6.0,6.0,6.0,9.0,11.0,18.0],\"yaxis\":\"y9\",\"type\":\"scatter\"},{\"hovertemplate\":\"ESTACION_DESC=Farolillo\\u003cbr\\u003ePARAMETRO=Mon\\u00f3xido de Nitr\\u00f3geno NO\\u003cbr\\u003eH=%{x}\\u003cbr\\u003eVALOR=%{y}\\u003cextra\\u003e\\u003c\\u002fextra\\u003e\",\"legendgroup\":\"Farolillo\",\"line\":{\"color\":\"#B6E880\",\"dash\":\"solid\"},\"marker\":{\"symbol\":\"circle\"},\"mode\":\"lines\",\"name\":\"Farolillo\",\"orientation\":\"v\",\"showlegend\":false,\"x\":[1,2,3,4,5,6,7,8,9],\"xaxis\":\"x10\",\"y\":[1.0,1.0,1.0,1.0,1.0,1.0,2.0,1.0,2.0],\"yaxis\":\"y10\",\"type\":\"scatter\"},{\"hovertemplate\":\"ESTACION_DESC=Farolillo\\u003cbr\\u003ePARAMETRO=Di\\u00f3xido de Nitr\\u00f3geno NO2\\u003cbr\\u003eH=%{x}\\u003cbr\\u003eVALOR=%{y}\\u003cextra\\u003e\\u003c\\u002fextra\\u003e\",\"legendgroup\":\"Farolillo\",\"line\":{\"color\":\"#B6E880\",\"dash\":\"solid\"},\"marker\":{\"symbol\":\"circle\"},\"mode\":\"lines\",\"name\":\"Farolillo\",\"orientation\":\"v\",\"showlegend\":false,\"x\":[1,2,3,4,5,6,7,8,9],\"xaxis\":\"x11\",\"y\":[15.0,8.0,5.0,4.0,4.0,4.0,6.0,9.0,16.0],\"yaxis\":\"y11\",\"type\":\"scatter\"},{\"hovertemplate\":\"ESTACION_DESC=Farolillo\\u003cbr\\u003ePARAMETRO=Ozono O3\\u003cbr\\u003eH=%{x}\\u003cbr\\u003eVALOR=%{y}\\u003cextra\\u003e\\u003c\\u002fextra\\u003e\",\"legendgroup\":\"Farolillo\",\"line\":{\"color\":\"#B6E880\",\"dash\":\"solid\"},\"marker\":{\"symbol\":\"circle\"},\"mode\":\"lines\",\"name\":\"Farolillo\",\"orientation\":\"v\",\"showlegend\":false,\"x\":[1,2,3,4,5,6,7,8,9],\"xaxis\":\"x12\",\"y\":[56.0,60.0,61.0,61.0,59.0,60.0,60.0,57.0,52.0],\"yaxis\":\"y12\",\"type\":\"scatter\"},{\"hovertemplate\":\"ESTACION_DESC=Farolillo\\u003cbr\\u003ePARAMETRO=Part\\u00edculas \\u003c 10 \\u00b5m PM10\\u003cbr\\u003eH=%{x}\\u003cbr\\u003eVALOR=%{y}\\u003cextra\\u003e\\u003c\\u002fextra\\u003e\",\"legendgroup\":\"Farolillo\",\"line\":{\"color\":\"#B6E880\",\"dash\":\"solid\"},\"marker\":{\"symbol\":\"circle\"},\"mode\":\"lines\",\"name\":\"Farolillo\",\"orientation\":\"v\",\"showlegend\":false,\"x\":[1,2,3,4,5,6,7,8,9],\"xaxis\":\"x5\",\"y\":[12.0,6.0,6.0,6.0,7.0,8.0,8.0,7.0,8.0],\"yaxis\":\"y5\",\"type\":\"scatter\"},{\"hovertemplate\":\"ESTACION_DESC=Farolillo\\u003cbr\\u003ePARAMETRO=Etilbenceno EBE\\u003cbr\\u003eH=%{x}\\u003cbr\\u003eVALOR=%{y}\\u003cextra\\u003e\\u003c\\u002fextra\\u003e\",\"legendgroup\":\"Farolillo\",\"line\":{\"color\":\"#B6E880\",\"dash\":\"solid\"},\"marker\":{\"symbol\":\"circle\"},\"mode\":\"lines\",\"name\":\"Farolillo\",\"orientation\":\"v\",\"showlegend\":false,\"x\":[1,2,3,4,5,6,7,8,9],\"xaxis\":\"x7\",\"y\":[0.8,1.5,1.5,1.8,1.3,1.0,1.8,1.8,1.3],\"yaxis\":\"y7\",\"type\":\"scatter\"},{\"hovertemplate\":\"ESTACION_DESC=Farolillo\\u003cbr\\u003ePARAMETRO=Tolueno TOL\\u003cbr\\u003eH=%{x}\\u003cbr\\u003eVALOR=%{y}\\u003cextra\\u003e\\u003c\\u002fextra\\u003e\",\"legendgroup\":\"Farolillo\",\"line\":{\"color\":\"#B6E880\",\"dash\":\"solid\"},\"marker\":{\"symbol\":\"circle\"},\"mode\":\"lines\",\"name\":\"Farolillo\",\"orientation\":\"v\",\"showlegend\":false,\"x\":[1,2,3,4,5,6,7,8,9],\"xaxis\":\"x8\",\"y\":[3.5,0.9,0.7,0.7,0.7,0.7,0.6,0.6,0.8],\"yaxis\":\"y8\",\"type\":\"scatter\"},{\"hovertemplate\":\"ESTACION_DESC=Farolillo\\u003cbr\\u003ePARAMETRO=Benceno BEN\\u003cbr\\u003eH=%{x}\\u003cbr\\u003eVALOR=%{y}\\u003cextra\\u003e\\u003c\\u002fextra\\u003e\",\"legendgroup\":\"Farolillo\",\"line\":{\"color\":\"#B6E880\",\"dash\":\"solid\"},\"marker\":{\"symbol\":\"circle\"},\"mode\":\"lines\",\"name\":\"Farolillo\",\"orientation\":\"v\",\"showlegend\":false,\"x\":[1,2,3,4,5,6,7,8,9],\"xaxis\":\"x\",\"y\":[0.4,0.2,0.2,0.2,0.2,0.2,0.1,0.2,0.2],\"yaxis\":\"y\",\"type\":\"scatter\"},{\"hovertemplate\":\"ESTACION_DESC=Juan Carlos I\\u003cbr\\u003ePARAMETRO=\\u00d3xidos de Nitr\\u00f3geno NOx\\u003cbr\\u003eH=%{x}\\u003cbr\\u003eVALOR=%{y}\\u003cextra\\u003e\\u003c\\u002fextra\\u003e\",\"legendgroup\":\"Juan Carlos I\",\"line\":{\"color\":\"#FF97FF\",\"dash\":\"solid\"},\"marker\":{\"symbol\":\"circle\"},\"mode\":\"lines\",\"name\":\"Juan Carlos I\",\"orientation\":\"v\",\"showlegend\":true,\"x\":[1,2,3,4,5,6,7,8,9],\"xaxis\":\"x9\",\"y\":[26.0,13.0,8.0,7.0,7.0,7.0,8.0,12.0,15.0],\"yaxis\":\"y9\",\"type\":\"scatter\"},{\"hovertemplate\":\"ESTACION_DESC=Juan Carlos I\\u003cbr\\u003ePARAMETRO=Mon\\u00f3xido de Nitr\\u00f3geno NO\\u003cbr\\u003eH=%{x}\\u003cbr\\u003eVALOR=%{y}\\u003cextra\\u003e\\u003c\\u002fextra\\u003e\",\"legendgroup\":\"Juan Carlos I\",\"line\":{\"color\":\"#FF97FF\",\"dash\":\"solid\"},\"marker\":{\"symbol\":\"circle\"},\"mode\":\"lines\",\"name\":\"Juan Carlos I\",\"orientation\":\"v\",\"showlegend\":false,\"x\":[1,2,3,4,5,6,7,8,9],\"xaxis\":\"x10\",\"y\":[1.0,1.0,1.0,1.0,1.0,1.0,1.0,1.0,1.0],\"yaxis\":\"y10\",\"type\":\"scatter\"},{\"hovertemplate\":\"ESTACION_DESC=Juan Carlos I\\u003cbr\\u003ePARAMETRO=Di\\u00f3xido de Nitr\\u00f3geno NO2\\u003cbr\\u003eH=%{x}\\u003cbr\\u003eVALOR=%{y}\\u003cextra\\u003e\\u003c\\u002fextra\\u003e\",\"legendgroup\":\"Juan Carlos I\",\"line\":{\"color\":\"#FF97FF\",\"dash\":\"solid\"},\"marker\":{\"symbol\":\"circle\"},\"mode\":\"lines\",\"name\":\"Juan Carlos I\",\"orientation\":\"v\",\"showlegend\":false,\"x\":[1,2,3,4,5,6,7,8,9],\"xaxis\":\"x11\",\"y\":[24.0,12.0,7.0,5.0,5.0,5.0,6.0,10.0,13.0],\"yaxis\":\"y11\",\"type\":\"scatter\"},{\"hovertemplate\":\"ESTACION_DESC=Juan Carlos I\\u003cbr\\u003ePARAMETRO=Ozono O3\\u003cbr\\u003eH=%{x}\\u003cbr\\u003eVALOR=%{y}\\u003cextra\\u003e\\u003c\\u002fextra\\u003e\",\"legendgroup\":\"Juan Carlos I\",\"line\":{\"color\":\"#FF97FF\",\"dash\":\"solid\"},\"marker\":{\"symbol\":\"circle\"},\"mode\":\"lines\",\"name\":\"Juan Carlos I\",\"orientation\":\"v\",\"showlegend\":false,\"x\":[1,2,3,4,5,6,7,8,9],\"xaxis\":\"x12\",\"y\":[49.0,61.0,65.0,66.0,64.0,64.0,64.0,60.0,57.0],\"yaxis\":\"y12\",\"type\":\"scatter\"},{\"hovertemplate\":\"ESTACION_DESC=Moratalaz\\u003cbr\\u003ePARAMETRO=\\u00d3xidos de Nitr\\u00f3geno NOx\\u003cbr\\u003eH=%{x}\\u003cbr\\u003eVALOR=%{y}\\u003cextra\\u003e\\u003c\\u002fextra\\u003e\",\"legendgroup\":\"Moratalaz\",\"line\":{\"color\":\"#FECB52\",\"dash\":\"solid\"},\"marker\":{\"symbol\":\"circle\"},\"mode\":\"lines\",\"name\":\"Moratalaz\",\"orientation\":\"v\",\"showlegend\":true,\"x\":[1,2,3,4,5,6,7,8,9],\"xaxis\":\"x9\",\"y\":[26.0,19.0,12.0,6.0,9.0,7.0,8.0,13.0,20.0],\"yaxis\":\"y9\",\"type\":\"scatter\"},{\"hovertemplate\":\"ESTACION_DESC=Moratalaz\\u003cbr\\u003ePARAMETRO=Mon\\u00f3xido de Nitr\\u00f3geno NO\\u003cbr\\u003eH=%{x}\\u003cbr\\u003eVALOR=%{y}\\u003cextra\\u003e\\u003c\\u002fextra\\u003e\",\"legendgroup\":\"Moratalaz\",\"line\":{\"color\":\"#FECB52\",\"dash\":\"solid\"},\"marker\":{\"symbol\":\"circle\"},\"mode\":\"lines\",\"name\":\"Moratalaz\",\"orientation\":\"v\",\"showlegend\":false,\"x\":[1,2,3,4,5,6,7,8,9],\"xaxis\":\"x10\",\"y\":[1.0,1.0,1.0,1.0,1.0,1.0,1.0,1.0,1.0],\"yaxis\":\"y10\",\"type\":\"scatter\"},{\"hovertemplate\":\"ESTACION_DESC=Moratalaz\\u003cbr\\u003ePARAMETRO=Di\\u00f3xido de Nitr\\u00f3geno NO2\\u003cbr\\u003eH=%{x}\\u003cbr\\u003eVALOR=%{y}\\u003cextra\\u003e\\u003c\\u002fextra\\u003e\",\"legendgroup\":\"Moratalaz\",\"line\":{\"color\":\"#FECB52\",\"dash\":\"solid\"},\"marker\":{\"symbol\":\"circle\"},\"mode\":\"lines\",\"name\":\"Moratalaz\",\"orientation\":\"v\",\"showlegend\":false,\"x\":[1,2,3,4,5,6,7,8,9],\"xaxis\":\"x11\",\"y\":[25.0,17.0,10.0,5.0,7.0,5.0,7.0,11.0,18.0],\"yaxis\":\"y11\",\"type\":\"scatter\"},{\"hovertemplate\":\"ESTACION_DESC=Moratalaz\\u003cbr\\u003ePARAMETRO=Part\\u00edculas \\u003c 10 \\u00b5m PM10\\u003cbr\\u003eH=%{x}\\u003cbr\\u003eVALOR=%{y}\\u003cextra\\u003e\\u003c\\u002fextra\\u003e\",\"legendgroup\":\"Moratalaz\",\"line\":{\"color\":\"#FECB52\",\"dash\":\"solid\"},\"marker\":{\"symbol\":\"circle\"},\"mode\":\"lines\",\"name\":\"Moratalaz\",\"orientation\":\"v\",\"showlegend\":false,\"x\":[1,2,3,4,5,6,7,8,9],\"xaxis\":\"x5\",\"y\":[14.0,13.0,9.0,7.0,6.0,8.0,6.0,7.0,7.0],\"yaxis\":\"y5\",\"type\":\"scatter\"},{\"hovertemplate\":\"ESTACION_DESC=Moratalaz\\u003cbr\\u003ePARAMETRO=Di\\u00f3xido de Azufre SO2\\u003cbr\\u003eH=%{x}\\u003cbr\\u003eVALOR=%{y}\\u003cextra\\u003e\\u003c\\u002fextra\\u003e\",\"legendgroup\":\"Moratalaz\",\"line\":{\"color\":\"#FECB52\",\"dash\":\"solid\"},\"marker\":{\"symbol\":\"circle\"},\"mode\":\"lines\",\"name\":\"Moratalaz\",\"orientation\":\"v\",\"showlegend\":false,\"x\":[1,2,3,4,5,6,7,8,9],\"xaxis\":\"x3\",\"y\":[3.0,3.0,3.0,3.0,3.0,3.0,3.0,3.0,3.0],\"yaxis\":\"y3\",\"type\":\"scatter\"},{\"hovertemplate\":\"ESTACION_DESC=Plaza El\\u00edptica\\u003cbr\\u003ePARAMETRO=\\u00d3xidos de Nitr\\u00f3geno NOx\\u003cbr\\u003eH=%{x}\\u003cbr\\u003eVALOR=%{y}\\u003cextra\\u003e\\u003c\\u002fextra\\u003e\",\"legendgroup\":\"Plaza El\\u00edptica\",\"line\":{\"color\":\"#636efa\",\"dash\":\"solid\"},\"marker\":{\"symbol\":\"circle\"},\"mode\":\"lines\",\"name\":\"Plaza El\\u00edptica\",\"orientation\":\"v\",\"showlegend\":true,\"x\":[1,2,3,4,5,6,7,8,9],\"xaxis\":\"x9\",\"y\":[25.0,19.0,11.0,10.0,10.0,11.0,12.0,18.0,24.0],\"yaxis\":\"y9\",\"type\":\"scatter\"},{\"hovertemplate\":\"ESTACION_DESC=Plaza El\\u00edptica\\u003cbr\\u003ePARAMETRO=Mon\\u00f3xido de Nitr\\u00f3geno NO\\u003cbr\\u003eH=%{x}\\u003cbr\\u003eVALOR=%{y}\\u003cextra\\u003e\\u003c\\u002fextra\\u003e\",\"legendgroup\":\"Plaza El\\u00edptica\",\"line\":{\"color\":\"#636efa\",\"dash\":\"solid\"},\"marker\":{\"symbol\":\"circle\"},\"mode\":\"lines\",\"name\":\"Plaza El\\u00edptica\",\"orientation\":\"v\",\"showlegend\":false,\"x\":[1,2,3,4,5,6,7,8,9],\"xaxis\":\"x10\",\"y\":[5.0,5.0,4.0,4.0,4.0,4.0,4.0,5.0,6.0],\"yaxis\":\"y10\",\"type\":\"scatter\"},{\"hovertemplate\":\"ESTACION_DESC=Plaza El\\u00edptica\\u003cbr\\u003ePARAMETRO=Di\\u00f3xido de Nitr\\u00f3geno NO2\\u003cbr\\u003eH=%{x}\\u003cbr\\u003eVALOR=%{y}\\u003cextra\\u003e\\u003c\\u002fextra\\u003e\",\"legendgroup\":\"Plaza El\\u00edptica\",\"line\":{\"color\":\"#636efa\",\"dash\":\"solid\"},\"marker\":{\"symbol\":\"circle\"},\"mode\":\"lines\",\"name\":\"Plaza El\\u00edptica\",\"orientation\":\"v\",\"showlegend\":false,\"x\":[1,2,3,4,5,6,7,8,9],\"xaxis\":\"x11\",\"y\":[18.0,11.0,6.0,4.0,4.0,5.0,6.0,11.0,15.0],\"yaxis\":\"y11\",\"type\":\"scatter\"},{\"hovertemplate\":\"ESTACION_DESC=Plaza El\\u00edptica\\u003cbr\\u003ePARAMETRO=Part\\u00edculas \\u003c 10 \\u00b5m PM10\\u003cbr\\u003eH=%{x}\\u003cbr\\u003eVALOR=%{y}\\u003cextra\\u003e\\u003c\\u002fextra\\u003e\",\"legendgroup\":\"Plaza El\\u00edptica\",\"line\":{\"color\":\"#636efa\",\"dash\":\"solid\"},\"marker\":{\"symbol\":\"circle\"},\"mode\":\"lines\",\"name\":\"Plaza El\\u00edptica\",\"orientation\":\"v\",\"showlegend\":false,\"x\":[1,2,3,4,5,6,7,8,9],\"xaxis\":\"x5\",\"y\":[8.0,5.0,3.0,4.0,4.0,6.0,6.0,7.0,2.0],\"yaxis\":\"y5\",\"type\":\"scatter\"},{\"hovertemplate\":\"ESTACION_DESC=Plaza El\\u00edptica\\u003cbr\\u003ePARAMETRO=Part\\u00edculas \\u003c 2.5 \\u00b5m PM2.5\\u003cbr\\u003eH=%{x}\\u003cbr\\u003eVALOR=%{y}\\u003cextra\\u003e\\u003c\\u002fextra\\u003e\",\"legendgroup\":\"Plaza El\\u00edptica\",\"line\":{\"color\":\"#636efa\",\"dash\":\"solid\"},\"marker\":{\"symbol\":\"circle\"},\"mode\":\"lines\",\"name\":\"Plaza El\\u00edptica\",\"orientation\":\"v\",\"showlegend\":false,\"x\":[1,2,3,4,5,6,7,8,9],\"xaxis\":\"x6\",\"y\":[7.0,5.0,3.0,3.0,4.0,6.0,5.0,6.0,2.0],\"yaxis\":\"y6\",\"type\":\"scatter\"},{\"hovertemplate\":\"ESTACION_DESC=Plaza El\\u00edptica\\u003cbr\\u003ePARAMETRO=Mon\\u00f3xido de Carbono CO\\u003cbr\\u003eH=%{x}\\u003cbr\\u003eVALOR=%{y}\\u003cextra\\u003e\\u003c\\u002fextra\\u003e\",\"legendgroup\":\"Plaza El\\u00edptica\",\"line\":{\"color\":\"#636efa\",\"dash\":\"solid\"},\"marker\":{\"symbol\":\"circle\"},\"mode\":\"lines\",\"name\":\"Plaza El\\u00edptica\",\"orientation\":\"v\",\"showlegend\":false,\"x\":[1,2,3,4,5,6,7,8,9],\"xaxis\":\"x2\",\"y\":[0.2,0.2,0.1,0.1,0.1,0.1,0.1,0.1,0.2],\"yaxis\":\"y2\",\"type\":\"scatter\"},{\"hovertemplate\":\"ESTACION_DESC=Plaza Espa\\u00f1a\\u003cbr\\u003ePARAMETRO=\\u00d3xidos de Nitr\\u00f3geno NOx\\u003cbr\\u003eH=%{x}\\u003cbr\\u003eVALOR=%{y}\\u003cextra\\u003e\\u003c\\u002fextra\\u003e\",\"legendgroup\":\"Plaza Espa\\u00f1a\",\"line\":{\"color\":\"#EF553B\",\"dash\":\"solid\"},\"marker\":{\"symbol\":\"circle\"},\"mode\":\"lines\",\"name\":\"Plaza Espa\\u00f1a\",\"orientation\":\"v\",\"showlegend\":true,\"x\":[1,2,3,4,5,6,7,8,9],\"xaxis\":\"x9\",\"y\":[19.0,10.0,8.0,7.0,7.0,7.0,9.0,11.0,18.0],\"yaxis\":\"y9\",\"type\":\"scatter\"},{\"hovertemplate\":\"ESTACION_DESC=Plaza Espa\\u00f1a\\u003cbr\\u003ePARAMETRO=Mon\\u00f3xido de Nitr\\u00f3geno NO\\u003cbr\\u003eH=%{x}\\u003cbr\\u003eVALOR=%{y}\\u003cextra\\u003e\\u003c\\u002fextra\\u003e\",\"legendgroup\":\"Plaza Espa\\u00f1a\",\"line\":{\"color\":\"#EF553B\",\"dash\":\"solid\"},\"marker\":{\"symbol\":\"circle\"},\"mode\":\"lines\",\"name\":\"Plaza Espa\\u00f1a\",\"orientation\":\"v\",\"showlegend\":false,\"x\":[1,2,3,4,5,6,7,8,9],\"xaxis\":\"x10\",\"y\":[1.0,1.0,1.0,1.0,1.0,1.0,1.0,1.0,1.0],\"yaxis\":\"y10\",\"type\":\"scatter\"},{\"hovertemplate\":\"ESTACION_DESC=Plaza Espa\\u00f1a\\u003cbr\\u003ePARAMETRO=Di\\u00f3xido de Nitr\\u00f3geno NO2\\u003cbr\\u003eH=%{x}\\u003cbr\\u003eVALOR=%{y}\\u003cextra\\u003e\\u003c\\u002fextra\\u003e\",\"legendgroup\":\"Plaza Espa\\u00f1a\",\"line\":{\"color\":\"#EF553B\",\"dash\":\"solid\"},\"marker\":{\"symbol\":\"circle\"},\"mode\":\"lines\",\"name\":\"Plaza Espa\\u00f1a\",\"orientation\":\"v\",\"showlegend\":false,\"x\":[1,2,3,4,5,6,7,8,9],\"xaxis\":\"x11\",\"y\":[17.0,8.0,6.0,6.0,6.0,5.0,7.0,9.0,16.0],\"yaxis\":\"y11\",\"type\":\"scatter\"},{\"hovertemplate\":\"ESTACION_DESC=Plaza Espa\\u00f1a\\u003cbr\\u003ePARAMETRO=Part\\u00edculas \\u003c 10 \\u00b5m PM10\\u003cbr\\u003eH=%{x}\\u003cbr\\u003eVALOR=%{y}\\u003cextra\\u003e\\u003c\\u002fextra\\u003e\",\"legendgroup\":\"Plaza Espa\\u00f1a\",\"line\":{\"color\":\"#EF553B\",\"dash\":\"solid\"},\"marker\":{\"symbol\":\"circle\"},\"mode\":\"lines\",\"name\":\"Plaza Espa\\u00f1a\",\"orientation\":\"v\",\"showlegend\":false,\"x\":[1,2,3,4,5,6,7,8,9],\"xaxis\":\"x5\",\"y\":[9.0,6.0,5.0,6.0,5.0,5.0,5.0,5.0,6.0],\"yaxis\":\"y5\",\"type\":\"scatter\"},{\"hovertemplate\":\"ESTACION_DESC=Plaza Espa\\u00f1a\\u003cbr\\u003ePARAMETRO=Part\\u00edculas \\u003c 2.5 \\u00b5m PM2.5\\u003cbr\\u003eH=%{x}\\u003cbr\\u003eVALOR=%{y}\\u003cextra\\u003e\\u003c\\u002fextra\\u003e\",\"legendgroup\":\"Plaza Espa\\u00f1a\",\"line\":{\"color\":\"#EF553B\",\"dash\":\"solid\"},\"marker\":{\"symbol\":\"circle\"},\"mode\":\"lines\",\"name\":\"Plaza Espa\\u00f1a\",\"orientation\":\"v\",\"showlegend\":false,\"x\":[1,2,3,4,5,6,7,8,9],\"xaxis\":\"x6\",\"y\":[5.0,3.0,3.0,3.0,3.0,3.0,3.0,3.0,3.0],\"yaxis\":\"y6\",\"type\":\"scatter\"},{\"hovertemplate\":\"ESTACION_DESC=Plaza Espa\\u00f1a\\u003cbr\\u003ePARAMETRO=Mon\\u00f3xido de Carbono CO\\u003cbr\\u003eH=%{x}\\u003cbr\\u003eVALOR=%{y}\\u003cextra\\u003e\\u003c\\u002fextra\\u003e\",\"legendgroup\":\"Plaza Espa\\u00f1a\",\"line\":{\"color\":\"#EF553B\",\"dash\":\"solid\"},\"marker\":{\"symbol\":\"circle\"},\"mode\":\"lines\",\"name\":\"Plaza Espa\\u00f1a\",\"orientation\":\"v\",\"showlegend\":false,\"x\":[1,2,3,4,5,6,7,8,9],\"xaxis\":\"x2\",\"y\":[0.2,0.2,0.2,0.2,0.2,0.2,0.2,0.2,0.2],\"yaxis\":\"y2\",\"type\":\"scatter\"},{\"hovertemplate\":\"ESTACION_DESC=Plaza del Carmen\\u003cbr\\u003ePARAMETRO=\\u00d3xidos de Nitr\\u00f3geno NOx\\u003cbr\\u003eH=%{x}\\u003cbr\\u003eVALOR=%{y}\\u003cextra\\u003e\\u003c\\u002fextra\\u003e\",\"legendgroup\":\"Plaza del Carmen\",\"line\":{\"color\":\"#00cc96\",\"dash\":\"solid\"},\"marker\":{\"symbol\":\"circle\"},\"mode\":\"lines\",\"name\":\"Plaza del Carmen\",\"orientation\":\"v\",\"showlegend\":true,\"x\":[1,2,3,4,5,6,7,8,9],\"xaxis\":\"x9\",\"y\":[18.0,11.0,9.0,7.0,6.0,7.0,7.0,11.0,14.0],\"yaxis\":\"y9\",\"type\":\"scatter\"},{\"hovertemplate\":\"ESTACION_DESC=Plaza del Carmen\\u003cbr\\u003ePARAMETRO=Mon\\u00f3xido de Nitr\\u00f3geno NO\\u003cbr\\u003eH=%{x}\\u003cbr\\u003eVALOR=%{y}\\u003cextra\\u003e\\u003c\\u002fextra\\u003e\",\"legendgroup\":\"Plaza del Carmen\",\"line\":{\"color\":\"#00cc96\",\"dash\":\"solid\"},\"marker\":{\"symbol\":\"circle\"},\"mode\":\"lines\",\"name\":\"Plaza del Carmen\",\"orientation\":\"v\",\"showlegend\":false,\"x\":[1,2,3,4,5,6,7,8,9],\"xaxis\":\"x10\",\"y\":[2.0,2.0,2.0,1.0,1.0,2.0,1.0,2.0,2.0],\"yaxis\":\"y10\",\"type\":\"scatter\"},{\"hovertemplate\":\"ESTACION_DESC=Plaza del Carmen\\u003cbr\\u003ePARAMETRO=Di\\u00f3xido de Nitr\\u00f3geno NO2\\u003cbr\\u003eH=%{x}\\u003cbr\\u003eVALOR=%{y}\\u003cextra\\u003e\\u003c\\u002fextra\\u003e\",\"legendgroup\":\"Plaza del Carmen\",\"line\":{\"color\":\"#00cc96\",\"dash\":\"solid\"},\"marker\":{\"symbol\":\"circle\"},\"mode\":\"lines\",\"name\":\"Plaza del Carmen\",\"orientation\":\"v\",\"showlegend\":false,\"x\":[1,2,3,4,5,6,7,8,9],\"xaxis\":\"x11\",\"y\":[15.0,8.0,7.0,5.0,4.0,4.0,5.0,8.0,11.0],\"yaxis\":\"y11\",\"type\":\"scatter\"},{\"hovertemplate\":\"ESTACION_DESC=Plaza del Carmen\\u003cbr\\u003ePARAMETRO=Ozono O3\\u003cbr\\u003eH=%{x}\\u003cbr\\u003eVALOR=%{y}\\u003cextra\\u003e\\u003c\\u002fextra\\u003e\",\"legendgroup\":\"Plaza del Carmen\",\"line\":{\"color\":\"#00cc96\",\"dash\":\"solid\"},\"marker\":{\"symbol\":\"circle\"},\"mode\":\"lines\",\"name\":\"Plaza del Carmen\",\"orientation\":\"v\",\"showlegend\":false,\"x\":[1,2,3,4,5,6,7,8,9],\"xaxis\":\"x12\",\"y\":[53.0,59.0,60.0,60.0,59.0,59.0,59.0,57.0,55.0],\"yaxis\":\"y12\",\"type\":\"scatter\"},{\"hovertemplate\":\"ESTACION_DESC=Plaza del Carmen\\u003cbr\\u003ePARAMETRO=Mon\\u00f3xido de Carbono CO\\u003cbr\\u003eH=%{x}\\u003cbr\\u003eVALOR=%{y}\\u003cextra\\u003e\\u003c\\u002fextra\\u003e\",\"legendgroup\":\"Plaza del Carmen\",\"line\":{\"color\":\"#00cc96\",\"dash\":\"solid\"},\"marker\":{\"symbol\":\"circle\"},\"mode\":\"lines\",\"name\":\"Plaza del Carmen\",\"orientation\":\"v\",\"showlegend\":false,\"x\":[1,2,3,4,5,6,7,8,9],\"xaxis\":\"x2\",\"y\":[0.4,0.3,0.3,0.3,0.4,0.4,0.3,0.3,0.3],\"yaxis\":\"y2\",\"type\":\"scatter\"},{\"hovertemplate\":\"ESTACION_DESC=Plaza del Carmen\\u003cbr\\u003ePARAMETRO=Di\\u00f3xido de Azufre SO2\\u003cbr\\u003eH=%{x}\\u003cbr\\u003eVALOR=%{y}\\u003cextra\\u003e\\u003c\\u002fextra\\u003e\",\"legendgroup\":\"Plaza del Carmen\",\"line\":{\"color\":\"#00cc96\",\"dash\":\"solid\"},\"marker\":{\"symbol\":\"circle\"},\"mode\":\"lines\",\"name\":\"Plaza del Carmen\",\"orientation\":\"v\",\"showlegend\":false,\"x\":[1,2,3,4,5,6,7,8,9],\"xaxis\":\"x3\",\"y\":[7.0,6.0,7.0,6.0,6.0,6.0,7.0,7.0,7.0],\"yaxis\":\"y3\",\"type\":\"scatter\"}],                        {\"template\":{\"data\":{\"histogram2dcontour\":[{\"type\":\"histogram2dcontour\",\"colorbar\":{\"outlinewidth\":0,\"ticks\":\"\"},\"colorscale\":[[0.0,\"#0d0887\"],[0.1111111111111111,\"#46039f\"],[0.2222222222222222,\"#7201a8\"],[0.3333333333333333,\"#9c179e\"],[0.4444444444444444,\"#bd3786\"],[0.5555555555555556,\"#d8576b\"],[0.6666666666666666,\"#ed7953\"],[0.7777777777777778,\"#fb9f3a\"],[0.8888888888888888,\"#fdca26\"],[1.0,\"#f0f921\"]]}],\"choropleth\":[{\"type\":\"choropleth\",\"colorbar\":{\"outlinewidth\":0,\"ticks\":\"\"}}],\"histogram2d\":[{\"type\":\"histogram2d\",\"colorbar\":{\"outlinewidth\":0,\"ticks\":\"\"},\"colorscale\":[[0.0,\"#0d0887\"],[0.1111111111111111,\"#46039f\"],[0.2222222222222222,\"#7201a8\"],[0.3333333333333333,\"#9c179e\"],[0.4444444444444444,\"#bd3786\"],[0.5555555555555556,\"#d8576b\"],[0.6666666666666666,\"#ed7953\"],[0.7777777777777778,\"#fb9f3a\"],[0.8888888888888888,\"#fdca26\"],[1.0,\"#f0f921\"]]}],\"heatmap\":[{\"type\":\"heatmap\",\"colorbar\":{\"outlinewidth\":0,\"ticks\":\"\"},\"colorscale\":[[0.0,\"#0d0887\"],[0.1111111111111111,\"#46039f\"],[0.2222222222222222,\"#7201a8\"],[0.3333333333333333,\"#9c179e\"],[0.4444444444444444,\"#bd3786\"],[0.5555555555555556,\"#d8576b\"],[0.6666666666666666,\"#ed7953\"],[0.7777777777777778,\"#fb9f3a\"],[0.8888888888888888,\"#fdca26\"],[1.0,\"#f0f921\"]]}],\"heatmapgl\":[{\"type\":\"heatmapgl\",\"colorbar\":{\"outlinewidth\":0,\"ticks\":\"\"},\"colorscale\":[[0.0,\"#0d0887\"],[0.1111111111111111,\"#46039f\"],[0.2222222222222222,\"#7201a8\"],[0.3333333333333333,\"#9c179e\"],[0.4444444444444444,\"#bd3786\"],[0.5555555555555556,\"#d8576b\"],[0.6666666666666666,\"#ed7953\"],[0.7777777777777778,\"#fb9f3a\"],[0.8888888888888888,\"#fdca26\"],[1.0,\"#f0f921\"]]}],\"contourcarpet\":[{\"type\":\"contourcarpet\",\"colorbar\":{\"outlinewidth\":0,\"ticks\":\"\"}}],\"contour\":[{\"type\":\"contour\",\"colorbar\":{\"outlinewidth\":0,\"ticks\":\"\"},\"colorscale\":[[0.0,\"#0d0887\"],[0.1111111111111111,\"#46039f\"],[0.2222222222222222,\"#7201a8\"],[0.3333333333333333,\"#9c179e\"],[0.4444444444444444,\"#bd3786\"],[0.5555555555555556,\"#d8576b\"],[0.6666666666666666,\"#ed7953\"],[0.7777777777777778,\"#fb9f3a\"],[0.8888888888888888,\"#fdca26\"],[1.0,\"#f0f921\"]]}],\"surface\":[{\"type\":\"surface\",\"colorbar\":{\"outlinewidth\":0,\"ticks\":\"\"},\"colorscale\":[[0.0,\"#0d0887\"],[0.1111111111111111,\"#46039f\"],[0.2222222222222222,\"#7201a8\"],[0.3333333333333333,\"#9c179e\"],[0.4444444444444444,\"#bd3786\"],[0.5555555555555556,\"#d8576b\"],[0.6666666666666666,\"#ed7953\"],[0.7777777777777778,\"#fb9f3a\"],[0.8888888888888888,\"#fdca26\"],[1.0,\"#f0f921\"]]}],\"mesh3d\":[{\"type\":\"mesh3d\",\"colorbar\":{\"outlinewidth\":0,\"ticks\":\"\"}}],\"scatter\":[{\"fillpattern\":{\"fillmode\":\"overlay\",\"size\":10,\"solidity\":0.2},\"type\":\"scatter\"}],\"parcoords\":[{\"type\":\"parcoords\",\"line\":{\"colorbar\":{\"outlinewidth\":0,\"ticks\":\"\"}}}],\"scatterpolargl\":[{\"type\":\"scatterpolargl\",\"marker\":{\"colorbar\":{\"outlinewidth\":0,\"ticks\":\"\"}}}],\"bar\":[{\"error_x\":{\"color\":\"#2a3f5f\"},\"error_y\":{\"color\":\"#2a3f5f\"},\"marker\":{\"line\":{\"color\":\"#E5ECF6\",\"width\":0.5},\"pattern\":{\"fillmode\":\"overlay\",\"size\":10,\"solidity\":0.2}},\"type\":\"bar\"}],\"scattergeo\":[{\"type\":\"scattergeo\",\"marker\":{\"colorbar\":{\"outlinewidth\":0,\"ticks\":\"\"}}}],\"scatterpolar\":[{\"type\":\"scatterpolar\",\"marker\":{\"colorbar\":{\"outlinewidth\":0,\"ticks\":\"\"}}}],\"histogram\":[{\"marker\":{\"pattern\":{\"fillmode\":\"overlay\",\"size\":10,\"solidity\":0.2}},\"type\":\"histogram\"}],\"scattergl\":[{\"type\":\"scattergl\",\"marker\":{\"colorbar\":{\"outlinewidth\":0,\"ticks\":\"\"}}}],\"scatter3d\":[{\"type\":\"scatter3d\",\"line\":{\"colorbar\":{\"outlinewidth\":0,\"ticks\":\"\"}},\"marker\":{\"colorbar\":{\"outlinewidth\":0,\"ticks\":\"\"}}}],\"scattermapbox\":[{\"type\":\"scattermapbox\",\"marker\":{\"colorbar\":{\"outlinewidth\":0,\"ticks\":\"\"}}}],\"scatterternary\":[{\"type\":\"scatterternary\",\"marker\":{\"colorbar\":{\"outlinewidth\":0,\"ticks\":\"\"}}}],\"scattercarpet\":[{\"type\":\"scattercarpet\",\"marker\":{\"colorbar\":{\"outlinewidth\":0,\"ticks\":\"\"}}}],\"carpet\":[{\"aaxis\":{\"endlinecolor\":\"#2a3f5f\",\"gridcolor\":\"white\",\"linecolor\":\"white\",\"minorgridcolor\":\"white\",\"startlinecolor\":\"#2a3f5f\"},\"baxis\":{\"endlinecolor\":\"#2a3f5f\",\"gridcolor\":\"white\",\"linecolor\":\"white\",\"minorgridcolor\":\"white\",\"startlinecolor\":\"#2a3f5f\"},\"type\":\"carpet\"}],\"table\":[{\"cells\":{\"fill\":{\"color\":\"#EBF0F8\"},\"line\":{\"color\":\"white\"}},\"header\":{\"fill\":{\"color\":\"#C8D4E3\"},\"line\":{\"color\":\"white\"}},\"type\":\"table\"}],\"barpolar\":[{\"marker\":{\"line\":{\"color\":\"#E5ECF6\",\"width\":0.5},\"pattern\":{\"fillmode\":\"overlay\",\"size\":10,\"solidity\":0.2}},\"type\":\"barpolar\"}],\"pie\":[{\"automargin\":true,\"type\":\"pie\"}]},\"layout\":{\"autotypenumbers\":\"strict\",\"colorway\":[\"#636efa\",\"#EF553B\",\"#00cc96\",\"#ab63fa\",\"#FFA15A\",\"#19d3f3\",\"#FF6692\",\"#B6E880\",\"#FF97FF\",\"#FECB52\"],\"font\":{\"color\":\"#2a3f5f\"},\"hovermode\":\"closest\",\"hoverlabel\":{\"align\":\"left\"},\"paper_bgcolor\":\"white\",\"plot_bgcolor\":\"#E5ECF6\",\"polar\":{\"bgcolor\":\"#E5ECF6\",\"angularaxis\":{\"gridcolor\":\"white\",\"linecolor\":\"white\",\"ticks\":\"\"},\"radialaxis\":{\"gridcolor\":\"white\",\"linecolor\":\"white\",\"ticks\":\"\"}},\"ternary\":{\"bgcolor\":\"#E5ECF6\",\"aaxis\":{\"gridcolor\":\"white\",\"linecolor\":\"white\",\"ticks\":\"\"},\"baxis\":{\"gridcolor\":\"white\",\"linecolor\":\"white\",\"ticks\":\"\"},\"caxis\":{\"gridcolor\":\"white\",\"linecolor\":\"white\",\"ticks\":\"\"}},\"coloraxis\":{\"colorbar\":{\"outlinewidth\":0,\"ticks\":\"\"}},\"colorscale\":{\"sequential\":[[0.0,\"#0d0887\"],[0.1111111111111111,\"#46039f\"],[0.2222222222222222,\"#7201a8\"],[0.3333333333333333,\"#9c179e\"],[0.4444444444444444,\"#bd3786\"],[0.5555555555555556,\"#d8576b\"],[0.6666666666666666,\"#ed7953\"],[0.7777777777777778,\"#fb9f3a\"],[0.8888888888888888,\"#fdca26\"],[1.0,\"#f0f921\"]],\"sequentialminus\":[[0.0,\"#0d0887\"],[0.1111111111111111,\"#46039f\"],[0.2222222222222222,\"#7201a8\"],[0.3333333333333333,\"#9c179e\"],[0.4444444444444444,\"#bd3786\"],[0.5555555555555556,\"#d8576b\"],[0.6666666666666666,\"#ed7953\"],[0.7777777777777778,\"#fb9f3a\"],[0.8888888888888888,\"#fdca26\"],[1.0,\"#f0f921\"]],\"diverging\":[[0,\"#8e0152\"],[0.1,\"#c51b7d\"],[0.2,\"#de77ae\"],[0.3,\"#f1b6da\"],[0.4,\"#fde0ef\"],[0.5,\"#f7f7f7\"],[0.6,\"#e6f5d0\"],[0.7,\"#b8e186\"],[0.8,\"#7fbc41\"],[0.9,\"#4d9221\"],[1,\"#276419\"]]},\"xaxis\":{\"gridcolor\":\"white\",\"linecolor\":\"white\",\"ticks\":\"\",\"title\":{\"standoff\":15},\"zerolinecolor\":\"white\",\"automargin\":true,\"zerolinewidth\":2},\"yaxis\":{\"gridcolor\":\"white\",\"linecolor\":\"white\",\"ticks\":\"\",\"title\":{\"standoff\":15},\"zerolinecolor\":\"white\",\"automargin\":true,\"zerolinewidth\":2},\"scene\":{\"xaxis\":{\"backgroundcolor\":\"#E5ECF6\",\"gridcolor\":\"white\",\"linecolor\":\"white\",\"showbackground\":true,\"ticks\":\"\",\"zerolinecolor\":\"white\",\"gridwidth\":2},\"yaxis\":{\"backgroundcolor\":\"#E5ECF6\",\"gridcolor\":\"white\",\"linecolor\":\"white\",\"showbackground\":true,\"ticks\":\"\",\"zerolinecolor\":\"white\",\"gridwidth\":2},\"zaxis\":{\"backgroundcolor\":\"#E5ECF6\",\"gridcolor\":\"white\",\"linecolor\":\"white\",\"showbackground\":true,\"ticks\":\"\",\"zerolinecolor\":\"white\",\"gridwidth\":2}},\"shapedefaults\":{\"line\":{\"color\":\"#2a3f5f\"}},\"annotationdefaults\":{\"arrowcolor\":\"#2a3f5f\",\"arrowhead\":0,\"arrowwidth\":1},\"geo\":{\"bgcolor\":\"white\",\"landcolor\":\"#E5ECF6\",\"subunitcolor\":\"white\",\"showland\":true,\"showlakes\":true,\"lakecolor\":\"white\"},\"title\":{\"x\":0.05},\"mapbox\":{\"style\":\"light\"}}},\"xaxis\":{\"anchor\":\"y\",\"domain\":[0.0,0.235],\"title\":{\"text\":\"H\"}},\"yaxis\":{\"anchor\":\"x\",\"domain\":[0.0,0.2866666666666666],\"title\":{\"text\":\"VALOR\"}},\"xaxis2\":{\"anchor\":\"y2\",\"domain\":[0.255,0.49],\"matches\":\"x\",\"title\":{\"text\":\"H\"}},\"yaxis2\":{\"anchor\":\"x2\",\"domain\":[0.0,0.2866666666666666],\"showticklabels\":false},\"xaxis3\":{\"anchor\":\"y3\",\"domain\":[0.51,0.745],\"matches\":\"x\",\"title\":{\"text\":\"H\"}},\"yaxis3\":{\"anchor\":\"x3\",\"domain\":[0.0,0.2866666666666666],\"showticklabels\":false},\"xaxis4\":{\"anchor\":\"y4\",\"domain\":[0.7649999999999999,0.9999999999999999],\"matches\":\"x\",\"title\":{\"text\":\"H\"}},\"yaxis4\":{\"anchor\":\"x4\",\"domain\":[0.0,0.2866666666666666],\"showticklabels\":false},\"xaxis5\":{\"anchor\":\"y5\",\"domain\":[0.0,0.235],\"matches\":\"x\",\"showticklabels\":false},\"yaxis5\":{\"anchor\":\"x5\",\"domain\":[0.35666666666666663,0.6433333333333333],\"title\":{\"text\":\"VALOR\"}},\"xaxis6\":{\"anchor\":\"y6\",\"domain\":[0.255,0.49],\"matches\":\"x\",\"showticklabels\":false},\"yaxis6\":{\"anchor\":\"x6\",\"domain\":[0.35666666666666663,0.6433333333333333],\"showticklabels\":false},\"xaxis7\":{\"anchor\":\"y7\",\"domain\":[0.51,0.745],\"matches\":\"x\",\"showticklabels\":false},\"yaxis7\":{\"anchor\":\"x7\",\"domain\":[0.35666666666666663,0.6433333333333333],\"showticklabels\":false},\"xaxis8\":{\"anchor\":\"y8\",\"domain\":[0.7649999999999999,0.9999999999999999],\"matches\":\"x\",\"showticklabels\":false},\"yaxis8\":{\"anchor\":\"x8\",\"domain\":[0.35666666666666663,0.6433333333333333],\"showticklabels\":false},\"xaxis9\":{\"anchor\":\"y9\",\"domain\":[0.0,0.235],\"matches\":\"x\",\"showticklabels\":false},\"yaxis9\":{\"anchor\":\"x9\",\"domain\":[0.7133333333333333,0.9999999999999999],\"title\":{\"text\":\"VALOR\"}},\"xaxis10\":{\"anchor\":\"y10\",\"domain\":[0.255,0.49],\"matches\":\"x\",\"showticklabels\":false},\"yaxis10\":{\"anchor\":\"x10\",\"domain\":[0.7133333333333333,0.9999999999999999],\"showticklabels\":false},\"xaxis11\":{\"anchor\":\"y11\",\"domain\":[0.51,0.745],\"matches\":\"x\",\"showticklabels\":false},\"yaxis11\":{\"anchor\":\"x11\",\"domain\":[0.7133333333333333,0.9999999999999999],\"showticklabels\":false},\"xaxis12\":{\"anchor\":\"y12\",\"domain\":[0.7649999999999999,0.9999999999999999],\"matches\":\"x\",\"showticklabels\":false},\"yaxis12\":{\"anchor\":\"x12\",\"domain\":[0.7133333333333333,0.9999999999999999],\"showticklabels\":false},\"annotations\":[{\"font\":{},\"showarrow\":false,\"text\":\"PARAMETRO=Benceno BEN\",\"x\":0.1175,\"xanchor\":\"center\",\"xref\":\"paper\",\"y\":0.2866666666666666,\"yanchor\":\"bottom\",\"yref\":\"paper\"},{\"font\":{},\"showarrow\":false,\"text\":\"PARAMETRO=Mon\\u00f3xido de Carbono CO\",\"x\":0.3725,\"xanchor\":\"center\",\"xref\":\"paper\",\"y\":0.2866666666666666,\"yanchor\":\"bottom\",\"yref\":\"paper\"},{\"font\":{},\"showarrow\":false,\"text\":\"PARAMETRO=Di\\u00f3xido de Azufre SO2\",\"x\":0.6275,\"xanchor\":\"center\",\"xref\":\"paper\",\"y\":0.2866666666666666,\"yanchor\":\"bottom\",\"yref\":\"paper\"},{\"font\":{},\"showarrow\":false,\"text\":\"PARAMETRO=Part\\u00edculas \\u003c 10 \\u00b5m PM10\",\"x\":0.1175,\"xanchor\":\"center\",\"xref\":\"paper\",\"y\":0.6433333333333333,\"yanchor\":\"bottom\",\"yref\":\"paper\"},{\"font\":{},\"showarrow\":false,\"text\":\"PARAMETRO=Part\\u00edculas \\u003c 2.5 \\u00b5m PM2.5\",\"x\":0.3725,\"xanchor\":\"center\",\"xref\":\"paper\",\"y\":0.6433333333333333,\"yanchor\":\"bottom\",\"yref\":\"paper\"},{\"font\":{},\"showarrow\":false,\"text\":\"PARAMETRO=Etilbenceno EBE\",\"x\":0.6275,\"xanchor\":\"center\",\"xref\":\"paper\",\"y\":0.6433333333333333,\"yanchor\":\"bottom\",\"yref\":\"paper\"},{\"font\":{},\"showarrow\":false,\"text\":\"PARAMETRO=Tolueno TOL\",\"x\":0.8824999999999998,\"xanchor\":\"center\",\"xref\":\"paper\",\"y\":0.6433333333333333,\"yanchor\":\"bottom\",\"yref\":\"paper\"},{\"font\":{},\"showarrow\":false,\"text\":\"PARAMETRO=\\u00d3xidos de Nitr\\u00f3geno NOx\",\"x\":0.1175,\"xanchor\":\"center\",\"xref\":\"paper\",\"y\":0.9999999999999999,\"yanchor\":\"bottom\",\"yref\":\"paper\"},{\"font\":{},\"showarrow\":false,\"text\":\"PARAMETRO=Mon\\u00f3xido de Nitr\\u00f3geno NO\",\"x\":0.3725,\"xanchor\":\"center\",\"xref\":\"paper\",\"y\":0.9999999999999999,\"yanchor\":\"bottom\",\"yref\":\"paper\"},{\"font\":{},\"showarrow\":false,\"text\":\"PARAMETRO=Di\\u00f3xido de Nitr\\u00f3geno NO2\",\"x\":0.6275,\"xanchor\":\"center\",\"xref\":\"paper\",\"y\":0.9999999999999999,\"yanchor\":\"bottom\",\"yref\":\"paper\"},{\"font\":{},\"showarrow\":false,\"text\":\"PARAMETRO=Ozono O3\",\"x\":0.8824999999999998,\"xanchor\":\"center\",\"xref\":\"paper\",\"y\":0.9999999999999999,\"yanchor\":\"bottom\",\"yref\":\"paper\"}],\"legend\":{\"title\":{\"text\":\"ESTACION_DESC\"},\"tracegroupgap\":0},\"title\":{\"text\":\"Contaminantes \"}},                        {\"responsive\": true}                    ).then(function(){\n",
       "                            \n",
       "var gd = document.getElementById('2265f681-d252-4ac5-8a4d-23066a5c6665');\n",
       "var x = new MutationObserver(function (mutations, observer) {{\n",
       "        var display = window.getComputedStyle(gd).display;\n",
       "        if (!display || display === 'none') {{\n",
       "            console.log([gd, 'removed!']);\n",
       "            Plotly.purge(gd);\n",
       "            observer.disconnect();\n",
       "        }}\n",
       "}});\n",
       "\n",
       "// Listen for the removal of the full notebook cells\n",
       "var notebookContainer = gd.closest('#notebook-container');\n",
       "if (notebookContainer) {{\n",
       "    x.observe(notebookContainer, {childList: true});\n",
       "}}\n",
       "\n",
       "// Listen for the clearing of the current output cell\n",
       "var outputEl = gd.closest('.output');\n",
       "if (outputEl) {{\n",
       "    x.observe(outputEl, {childList: true});\n",
       "}}\n",
       "\n",
       "                        })                };                });            </script>        </div>"
      ]
     },
     "metadata": {},
     "output_type": "display_data"
    }
   ],
   "source": [
    "fig = px.line(cont.DataFrame(), x=\"H\", y=\"VALOR\", color=\"ESTACION_DESC\", facet_col='PARAMETRO',facet_col_wrap=4 ,title='Contaminantes ')\n",
    "fig.update_yaxes(matches=None)\n",
    "fig.show()"
   ]
  },
  {
   "cell_type": "code",
   "execution_count": null,
   "metadata": {
    "vscode": {
     "languageId": "sql"
    }
   },
   "outputs": [],
   "source": []
  },
  {
   "cell_type": "code",
   "execution_count": 14,
   "metadata": {
    "vscode": {
     "languageId": "sql"
    }
   },
   "outputs": [],
   "source": [
    "%sql --close duckdb"
   ]
  }
 ],
 "metadata": {
  "kernelspec": {
   "display_name": ".venv",
   "language": "python",
   "name": "python3"
  },
  "language_info": {
   "codemirror_mode": {
    "name": "ipython",
    "version": 3
   },
   "file_extension": ".py",
   "mimetype": "text/x-python",
   "name": "python",
   "nbconvert_exporter": "python",
   "pygments_lexer": "ipython3",
   "version": "3.11.2"
  }
 },
 "nbformat": 4,
 "nbformat_minor": 2
}
