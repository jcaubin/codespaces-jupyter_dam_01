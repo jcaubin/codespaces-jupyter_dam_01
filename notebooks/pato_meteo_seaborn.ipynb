{
 "cells": [
  {
   "cell_type": "markdown",
   "metadata": {},
   "source": [
    "# Meteo con el pato\n",
    "\n",
    "### Este informe muestra los datos diarios de temperatura recogidos en el portal de datos abiertos del ayuntamiento.\n",
    "* dataset: **meteorologia-tiempo-real** "
   ]
  },
  {
   "cell_type": "code",
   "execution_count": 192,
   "metadata": {},
   "outputs": [],
   "source": [
    "%%capture\n",
    "import duckdb\n",
    "\n",
    "#conexion a bbdd en memoria o en fichero\n",
    "conn = duckdb.connect() \n",
    "#conn = duckdb.connect('/home/jcaubin/duck_test.db') \n",
    "\n",
    "%load_ext sql\n",
    "%sql conn --alias duckdb\n",
    "\n",
    "#limite de filas a mostrar\n",
    "%config SqlMagic.displaylimit = 100 "
   ]
  },
  {
   "cell_type": "code",
   "execution_count": null,
   "metadata": {},
   "outputs": [],
   "source": [
    "# imprime la hora de ejecución\n",
    "from datetime import datetime\n",
    "from IPython.display import display, Markdown\n",
    "\n",
    "t = datetime.now()\n",
    "display(Markdown(f\"### hora de ejecución: {t}\"))"
   ]
  },
  {
   "cell_type": "code",
   "execution_count": 194,
   "metadata": {
    "vscode": {
     "languageId": "sql"
    }
   },
   "outputs": [],
   "source": [
    "%%capture\n",
    "%%sql \n",
    "\n",
    "create or replace table meteo_today as\n",
    "select * from read_csv('https://datos.madrid.es/egob/catalogo/300392-11041819-meteorologia-tiempo-real.csv');"
   ]
  },
  {
   "cell_type": "code",
   "execution_count": 195,
   "metadata": {
    "vscode": {
     "languageId": "sql"
    }
   },
   "outputs": [],
   "source": [
    "%%capture\n",
    "%%sql\n",
    "\n",
    "create or replace table estaciones as\n",
    "select * from read_csv('https://datos.madrid.es/egob/catalogo/300360-1-meteorologicos-estaciones.csv')"
   ]
  },
  {
   "cell_type": "code",
   "execution_count": 196,
   "metadata": {
    "vscode": {
     "languageId": "sql"
    }
   },
   "outputs": [],
   "source": [
    "%%capture\n",
    "%%sql\n",
    "\n",
    "create or replace table magnitudes as\n",
    "select cast(CODIGO as int) CODIGO, PARAMETRO, UNIDAD, cast(COD_TECNICA as int) COD_TECNICA, TECNICA \n",
    "from read_csv('../maestras/parametros_meteo.csv')"
   ]
  },
  {
   "cell_type": "code",
   "execution_count": 197,
   "metadata": {
    "vscode": {
     "languageId": "sql"
    }
   },
   "outputs": [],
   "source": [
    "%%capture\n",
    "%%sql\n",
    "\n",
    "create or replace table td as\n",
    "select PROVINCIA, MUNICIPIO, ESTACION, MAGNITUD, PUNTO_MUESTREO,ANO, MES, DIA, cast(right(HORA,2) as int) H, VALOR\t from (\n",
    "from meteo_today\n",
    "unpivot (\n",
    "    (VALOR)\n",
    "for HORA in (\n",
    "    H01, \n",
    "    H02, \n",
    "    H03, \n",
    "    H04, \n",
    "    H05, \n",
    "    H06, \n",
    "    H07, \n",
    "    H08, \n",
    "    H09, \n",
    "    H10, \n",
    "    H11, \n",
    "    H12, \n",
    "    H13, \n",
    "    H14, \n",
    "    H15, \n",
    "    H16, \n",
    "    H17, \n",
    "    H18, \n",
    "    H19, \n",
    "    H20, \n",
    "    H21, \n",
    "    H22, \n",
    "    H23, \n",
    "    H24 \n",
    "    ) \n",
    ")\n",
    ");"
   ]
  },
  {
   "cell_type": "code",
   "execution_count": 198,
   "metadata": {
    "vscode": {
     "languageId": "sql"
    }
   },
   "outputs": [],
   "source": [
    "%%capture\n",
    "%%sql \n",
    "\n",
    "create or replace  table tv as\n",
    "select PROVINCIA, MUNICIPIO, ESTACION, MAGNITUD, PUNTO_MUESTREO,ANO, MES, DIA, cast(right(HORA,2) as int) H, VALIDEZ\t \n",
    "from (\n",
    "from meteo_today\n",
    "unpivot (\n",
    "    (VALIDEZ)\n",
    "for HORA in (\n",
    "    V01, \n",
    "    V02, \n",
    "    V03, \n",
    "    V04, \n",
    "    V05, \n",
    "    V06, \n",
    "    V07, \n",
    "    V08, \n",
    "    V09, \n",
    "    V10, \n",
    "    V11, \n",
    "    V12, \n",
    "    V13, \n",
    "    V14, \n",
    "    V15, \n",
    "    V16, \n",
    "    V17, \n",
    "    V18, \n",
    "    V19, \n",
    "    V20, \n",
    "    V21, \n",
    "    V22, \n",
    "    V23, \n",
    "    V24, \n",
    "    ) \n",
    " ))\n",
    " ;\n"
   ]
  },
  {
   "cell_type": "code",
   "execution_count": 199,
   "metadata": {
    "vscode": {
     "languageId": "sql"
    }
   },
   "outputs": [],
   "source": [
    "%%capture\n",
    "%%sql\n",
    "\n",
    "create or replace table meteo_madrid24 as\n",
    "select td.*, tv.VALIDEZ, e.ESTACION ESTACION_DESC, e.ALTITUD, m.PARAMETRO\n",
    "from td \n",
    "inner join tv on td.PROVINCIA=tv.PROVINCIA and \ttd.MUNICIPIO=tv.MUNICIPIO and td.ESTACION=tv.ESTACION and \ttd.MAGNITUD = tv.MAGNITUD\n",
    "    and \ttd.PUNTO_MUESTREO = tv.PUNTO_MUESTREO and td.ANO= tv.ANO and td.MES = tv.MES and TD.DIA = tv.DIA and td.H=tv.H\n",
    "inner join estaciones e on td.estacion = e.CÓDIGO_CORTO\n",
    "inner join magnitudes m on m.CODIGO = tv.MAGNITUD    "
   ]
  },
  {
   "cell_type": "markdown",
   "metadata": {},
   "source": [
    "## Temperatura"
   ]
  },
  {
   "cell_type": "code",
   "execution_count": 200,
   "metadata": {},
   "outputs": [],
   "source": [
    "\n",
    "magnitud = 83 #temperatura"
   ]
  },
  {
   "cell_type": "code",
   "execution_count": null,
   "metadata": {
    "vscode": {
     "languageId": "sql"
    }
   },
   "outputs": [],
   "source": [
    "%%sql\n",
    "query <<\n",
    "select estacion_desc,estacion ,count(1)\n",
    "from  meteo_madrid24\n",
    "where\n",
    "magnitud = {{magnitud}}\n",
    "and validez = 'V'\n",
    "group by all;"
   ]
  },
  {
   "cell_type": "code",
   "execution_count": 202,
   "metadata": {},
   "outputs": [],
   "source": [
    "\n",
    "estaciones_list = sorted([str(e[1]) for e in query])\n",
    "\n"
   ]
  },
  {
   "cell_type": "code",
   "execution_count": null,
   "metadata": {
    "vscode": {
     "languageId": "sql"
    }
   },
   "outputs": [],
   "source": [
    "%%sql \n",
    "result2 << \n",
    "select estacion_desc, h, valor \n",
    "from meteo_madrid24 \n",
    "where magnitud = {{magnitud}} \n",
    "and validez = 'V'"
   ]
  },
  {
   "cell_type": "code",
   "execution_count": null,
   "metadata": {},
   "outputs": [],
   "source": [
    "import seaborn as sns\n",
    "\n",
    "df = result2.DataFrame()\n",
    "sns.set_theme()\n",
    "g = sns.relplot(data=df, x=\"H\", y=\"VALOR\", hue=\"ESTACION_DESC\", kind=\"line\")\n",
    "g.figure.set_size_inches(16, 4.5)\n",
    "#g.ax.margins(.15)"
   ]
  },
  {
   "cell_type": "code",
   "execution_count": null,
   "metadata": {
    "vscode": {
     "languageId": "sql"
    }
   },
   "outputs": [],
   "source": [
    "%%sql\n",
    "--tabla ancha\n",
    "PIVOT(\n",
    "select estacion_desc, h, valor\n",
    "from meteo_madrid24\n",
    "where\n",
    "magnitud = {{magnitud}} \n",
    "and validez = 'V'\n",
    ")\n",
    "on ESTACION_DESC\n",
    "USING sum(VALOR)\n",
    "group by H"
   ]
  }
 ],
 "metadata": {
  "kernelspec": {
   "display_name": ".venv",
   "language": "python",
   "name": "python3"
  },
  "language_info": {
   "codemirror_mode": {
    "name": "ipython",
    "version": 3
   },
   "file_extension": ".py",
   "mimetype": "text/x-python",
   "name": "python",
   "nbconvert_exporter": "python",
   "pygments_lexer": "ipython3",
   "version": "3.12.4"
  }
 },
 "nbformat": 4,
 "nbformat_minor": 2
}
