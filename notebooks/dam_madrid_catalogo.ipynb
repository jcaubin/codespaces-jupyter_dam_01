{
 "cells": [
  {
   "cell_type": "code",
   "execution_count": null,
   "metadata": {},
   "outputs": [],
   "source": [
    "%pip install rdflib"
   ]
  },
  {
   "cell_type": "code",
   "execution_count": null,
   "metadata": {},
   "outputs": [],
   "source": [
    "from rdflib import Graph\n",
    "g = Graph()\n",
    "g.parse('https://datos.madrid.es/egob/catalogo.rdf')"
   ]
  },
  {
   "cell_type": "code",
   "execution_count": null,
   "metadata": {},
   "outputs": [],
   "source": [
    "i = 0\n",
    "for s, p, o in g:\n",
    "    print(i, s, p, o, sep=\"; \")\n",
    "    i += 1"
   ]
  },
  {
   "cell_type": "code",
   "execution_count": null,
   "metadata": {},
   "outputs": [],
   "source": [
    "from rdflib.namespace import DCAT"
   ]
  },
  {
   "cell_type": "code",
   "execution_count": null,
   "metadata": {},
   "outputs": [],
   "source": [
    "knows_query = \"\"\"\n",
    "PREFIX dcat: <http://www.w3.org/ns/dcat#>\n",
    "PREFIX dct: <http://purl.org/dc/terms/>\n",
    "SELECT *\n",
    "WHERE {\n",
    "    ?n dct:title ?d1 .\n",
    "    ?n dcat:distribution ?d2 .\n",
    "    ?d2 dcat:accessURL ?d3 .\n",
    "    ?d2 dcat:mediaType ?d4 .\n",
    "    FILTER (?d4 = \"text/csv\")\n",
    "}\"\"\"\n",
    "\n",
    "qres = g.query(knows_query)\n",
    "for row in qres:\n",
    "    print(row.n ,row.d1, row.d2, row.d3, row.d4, sep = \"; \")"
   ]
  },
  {
   "cell_type": "code",
   "execution_count": null,
   "metadata": {},
   "outputs": [],
   "source": [
    "knows_query = \"\"\"\n",
    "PREFIX dcat: <http://www.w3.org/ns/dcat#>\n",
    "PREFIX dct: <http://purl.org/dc/terms/>\n",
    "SELECT *\n",
    "WHERE {\n",
    "    ?n dct:title ?d1 .\n",
    "    ?n dcat:distribution ?d2 .\n",
    "    ?d2 dcat:accessURL ?d3 .\n",
    "    ?d2 dct:title ?d5 .\n",
    "    ?d2 dcat:byteSize ?d6 .\n",
    "    ?d2 dcat:mediaType ?d4 .\n",
    "    ?n dcat:theme ?d7 .\n",
    "    FILTER (?d4 = \"text/csv\")\n",
    "}\"\"\"\n",
    "\n",
    "qres = g.query(knows_query)\n",
    "for row in qres:\n",
    "    print(row.n, row.d1,  row.d3, row.d4, row.d5, row.d6, row.d7, sep=\"; \")"
   ]
  },
  {
   "cell_type": "code",
   "execution_count": null,
   "metadata": {},
   "outputs": [],
   "source": [
    "%pip install polars"
   ]
  },
  {
   "cell_type": "code",
   "execution_count": null,
   "metadata": {},
   "outputs": [],
   "source": [
    "from datetime import datetime\n",
    "\n",
    "knows_query = \"\"\"\n",
    "PREFIX dcat: <http://www.w3.org/ns/dcat#>\n",
    "PREFIX dct: <http://purl.org/dc/terms/>\n",
    "SELECT *\n",
    "WHERE {\n",
    "    ?n dct:title ?d1 .\n",
    "    ?n dcat:distribution ?d2 .\n",
    "    ?n dct:issued ?issued .\n",
    "    ?n dct:modified ?modified .\n",
    "    ?d2 dcat:accessURL ?d3 .\n",
    "    ?d2 dct:title ?d5 .\n",
    "    ?d2 dcat:byteSize ?d6 .\n",
    "    ?d2 dcat:mediaType ?d4 .\n",
    "    ?n dcat:theme ?d7 .\n",
    "    FILTER (?d4 = \"text/csv\")\n",
    "}\"\"\"\n",
    "\n",
    "qres = g.query(knows_query)\n",
    "\n",
    "results = (\n",
    "    {'dataset': row.n,\n",
    "     'title': row.d1,\n",
    "     'accessURL': row.d3,\n",
    "     'mediaType': row.d4,\n",
    "     'dist_title': row.d5,\n",
    "     'byteSize': int(row.d6),\n",
    "     'issued': datetime.fromisoformat(row.issued), 'modified': datetime.fromisoformat(row.modified),\n",
    "     'theme' : row.d7\n",
    "     }\n",
    "    for row in qres\n",
    ")"
   ]
  },
  {
   "cell_type": "code",
   "execution_count": null,
   "metadata": {},
   "outputs": [],
   "source": [
    "import polars as pl\n",
    "\n",
    "dfp = pl.DataFrame(results)\n",
    "\n"
   ]
  },
  {
   "cell_type": "code",
   "execution_count": null,
   "metadata": {},
   "outputs": [],
   "source": [
    "display(dfp.sort(by='modified', descending=True).head())\n",
    "\n",
    "display(dfp.shape)"
   ]
  }
 ],
 "metadata": {
  "kernelspec": {
   "display_name": ".venv",
   "language": "python",
   "name": "python3"
  },
  "language_info": {
   "codemirror_mode": {
    "name": "ipython",
    "version": 3
   },
   "file_extension": ".py",
   "mimetype": "text/x-python",
   "name": "python",
   "nbconvert_exporter": "python",
   "pygments_lexer": "ipython3",
   "version": "3.10.4"
  }
 },
 "nbformat": 4,
 "nbformat_minor": 2
}
