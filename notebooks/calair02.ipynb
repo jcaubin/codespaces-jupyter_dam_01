{
 "cells": [
  {
   "cell_type": "code",
   "execution_count": 1,
   "metadata": {},
   "outputs": [],
   "source": [
    "import polars as pl\n",
    "import requests"
   ]
  },
  {
   "cell_type": "code",
   "execution_count": 2,
   "metadata": {},
   "outputs": [
    {
     "data": {
      "text/plain": [
       "(1293, 69)"
      ]
     },
     "execution_count": 2,
     "metadata": {},
     "output_type": "execute_result"
    }
   ],
   "source": [
    "calidad_aire_rt = \"https://datos.madrid.es/egob/catalogo/201410-10306621-calidad-aire-diario.csv\"\n",
    "\n",
    "\n",
    "resp = requests.get(calidad_aire_rt, allow_redirects=True)\n",
    "dfp = pl.read_csv(resp.content, separator=';', encoding='utf8')\n",
    "\n",
    "dfp.shape"
   ]
  },
  {
   "cell_type": "code",
   "execution_count": 3,
   "metadata": {},
   "outputs": [
    {
     "data": {
      "text/html": [
       "<div><style>\n",
       ".dataframe > thead > tr,\n",
       ".dataframe > tbody > tr {\n",
       "  text-align: right;\n",
       "  white-space: pre-wrap;\n",
       "}\n",
       "</style>\n",
       "<small>shape: (5, 69)</small><table border=\"1\" class=\"dataframe\"><thead><tr><th>PROVINCIA</th><th>MUNICIPIO</th><th>ESTACION</th><th>MAGNITUD</th><th>PUNTO_MUESTREO</th><th>ANO</th><th>MES</th><th>D01</th><th>V01</th><th>D02</th><th>V02</th><th>D03</th><th>V03</th><th>D04</th><th>V04</th><th>D05</th><th>V05</th><th>D06</th><th>V06</th><th>D07</th><th>V07</th><th>D08</th><th>V08</th><th>D09</th><th>V09</th><th>D10</th><th>V10</th><th>D11</th><th>V11</th><th>D12</th><th>V12</th><th>D13</th><th>V13</th><th>D14</th><th>V14</th><th>D15</th><th>V15</th><th>D16</th><th>V16</th><th>D17</th><th>V17</th><th>D18</th><th>V18</th><th>D19</th><th>V19</th><th>D20</th><th>V20</th><th>D21</th><th>V21</th><th>D22</th><th>V22</th><th>D23</th><th>V23</th><th>D24</th><th>V24</th><th>D25</th><th>V25</th><th>D26</th><th>V26</th><th>D27</th><th>V27</th><th>D28</th><th>V28</th><th>D29</th><th>V29</th><th>D30</th><th>V30</th><th>D31</th><th>V31</th></tr><tr><td>i64</td><td>i64</td><td>i64</td><td>i64</td><td>str</td><td>i64</td><td>i64</td><td>f64</td><td>str</td><td>f64</td><td>str</td><td>f64</td><td>str</td><td>f64</td><td>str</td><td>f64</td><td>str</td><td>f64</td><td>str</td><td>f64</td><td>str</td><td>f64</td><td>str</td><td>f64</td><td>str</td><td>f64</td><td>str</td><td>f64</td><td>str</td><td>f64</td><td>str</td><td>f64</td><td>str</td><td>f64</td><td>str</td><td>f64</td><td>str</td><td>f64</td><td>str</td><td>f64</td><td>str</td><td>f64</td><td>str</td><td>f64</td><td>str</td><td>f64</td><td>str</td><td>f64</td><td>str</td><td>f64</td><td>str</td><td>f64</td><td>str</td><td>f64</td><td>str</td><td>f64</td><td>str</td><td>f64</td><td>str</td><td>f64</td><td>str</td><td>f64</td><td>str</td><td>f64</td><td>str</td><td>f64</td><td>str</td><td>f64</td><td>str</td></tr></thead><tbody><tr><td>28</td><td>79</td><td>4</td><td>1</td><td>&quot;28079004_1_38&quot;</td><td>2024</td><td>1</td><td>2.0</td><td>&quot;V&quot;</td><td>3.0</td><td>&quot;V&quot;</td><td>2.0</td><td>&quot;V&quot;</td><td>2.0</td><td>&quot;V&quot;</td><td>2.0</td><td>&quot;V&quot;</td><td>2.0</td><td>&quot;V&quot;</td><td>2.0</td><td>&quot;V&quot;</td><td>2.0</td><td>&quot;V&quot;</td><td>2.0</td><td>&quot;V&quot;</td><td>2.0</td><td>&quot;V&quot;</td><td>2.0</td><td>&quot;V&quot;</td><td>2.0</td><td>&quot;V&quot;</td><td>3.0</td><td>&quot;V&quot;</td><td>3.0</td><td>&quot;V&quot;</td><td>2.0</td><td>&quot;V&quot;</td><td>2.0</td><td>&quot;V&quot;</td><td>2.0</td><td>&quot;V&quot;</td><td>2.0</td><td>&quot;V&quot;</td><td>2.0</td><td>&quot;V&quot;</td><td>2.0</td><td>&quot;V&quot;</td><td>3.0</td><td>&quot;V&quot;</td><td>3.0</td><td>&quot;V&quot;</td><td>5.0</td><td>&quot;V&quot;</td><td>6.0</td><td>&quot;V&quot;</td><td>6.0</td><td>&quot;V&quot;</td><td>5.0</td><td>&quot;V&quot;</td><td>3.0</td><td>&quot;V&quot;</td><td>2.0</td><td>&quot;V&quot;</td><td>3.0</td><td>&quot;V&quot;</td><td>3.0</td><td>&quot;V&quot;</td><td>3.0</td><td>&quot;V&quot;</td></tr><tr><td>28</td><td>79</td><td>4</td><td>1</td><td>&quot;28079004_1_38&quot;</td><td>2024</td><td>2</td><td>3.0</td><td>&quot;V&quot;</td><td>2.0</td><td>&quot;V&quot;</td><td>2.0</td><td>&quot;V&quot;</td><td>2.0</td><td>&quot;V&quot;</td><td>4.0</td><td>&quot;V&quot;</td><td>3.0</td><td>&quot;V&quot;</td><td>1.0</td><td>&quot;V&quot;</td><td>2.0</td><td>&quot;V&quot;</td><td>1.0</td><td>&quot;V&quot;</td><td>2.0</td><td>&quot;V&quot;</td><td>1.0</td><td>&quot;V&quot;</td><td>1.0</td><td>&quot;V&quot;</td><td>2.0</td><td>&quot;V&quot;</td><td>3.0</td><td>&quot;V&quot;</td><td>3.0</td><td>&quot;V&quot;</td><td>2.0</td><td>&quot;V&quot;</td><td>2.0</td><td>&quot;V&quot;</td><td>2.0</td><td>&quot;V&quot;</td><td>3.0</td><td>&quot;V&quot;</td><td>3.0</td><td>&quot;V&quot;</td><td>3.0</td><td>&quot;V&quot;</td><td>2.0</td><td>&quot;V&quot;</td><td>1.0</td><td>&quot;V&quot;</td><td>1.0</td><td>&quot;V&quot;</td><td>1.0</td><td>&quot;V&quot;</td><td>2.0</td><td>&quot;V&quot;</td><td>2.0</td><td>&quot;V&quot;</td><td>2.0</td><td>&quot;V&quot;</td><td>2.0</td><td>&quot;V&quot;</td><td>0.0</td><td>&quot;N&quot;</td><td>0.0</td><td>&quot;N&quot;</td></tr><tr><td>28</td><td>79</td><td>4</td><td>1</td><td>&quot;28079004_1_38&quot;</td><td>2024</td><td>3</td><td>2.0</td><td>&quot;V&quot;</td><td>1.0</td><td>&quot;V&quot;</td><td>1.0</td><td>&quot;V&quot;</td><td>1.0</td><td>&quot;V&quot;</td><td>2.0</td><td>&quot;V&quot;</td><td>2.0</td><td>&quot;V&quot;</td><td>2.0</td><td>&quot;V&quot;</td><td>1.0</td><td>&quot;V&quot;</td><td>1.0</td><td>&quot;V&quot;</td><td>1.0</td><td>&quot;V&quot;</td><td>2.0</td><td>&quot;V&quot;</td><td>3.0</td><td>&quot;V&quot;</td><td>3.0</td><td>&quot;V&quot;</td><td>2.0</td><td>&quot;V&quot;</td><td>3.0</td><td>&quot;V&quot;</td><td>2.0</td><td>&quot;V&quot;</td><td>3.0</td><td>&quot;V&quot;</td><td>3.0</td><td>&quot;V&quot;</td><td>3.0</td><td>&quot;V&quot;</td><td>3.0</td><td>&quot;V&quot;</td><td>2.0</td><td>&quot;N&quot;</td><td>3.0</td><td>&quot;V&quot;</td><td>2.0</td><td>&quot;V&quot;</td><td>2.0</td><td>&quot;V&quot;</td><td>2.0</td><td>&quot;V&quot;</td><td>1.0</td><td>&quot;V&quot;</td><td>1.0</td><td>&quot;V&quot;</td><td>1.0</td><td>&quot;V&quot;</td><td>1.0</td><td>&quot;V&quot;</td><td>1.0</td><td>&quot;V&quot;</td><td>1.0</td><td>&quot;V&quot;</td></tr><tr><td>28</td><td>79</td><td>4</td><td>1</td><td>&quot;28079004_1_38&quot;</td><td>2024</td><td>4</td><td>1.0</td><td>&quot;V&quot;</td><td>2.0</td><td>&quot;V&quot;</td><td>2.0</td><td>&quot;V&quot;</td><td>3.0</td><td>&quot;V&quot;</td><td>3.0</td><td>&quot;V&quot;</td><td>3.0</td><td>&quot;V&quot;</td><td>2.0</td><td>&quot;V&quot;</td><td>2.0</td><td>&quot;V&quot;</td><td>2.0</td><td>&quot;V&quot;</td><td>2.0</td><td>&quot;V&quot;</td><td>2.0</td><td>&quot;V&quot;</td><td>3.0</td><td>&quot;V&quot;</td><td>2.0</td><td>&quot;V&quot;</td><td>1.0</td><td>&quot;N&quot;</td><td>3.0</td><td>&quot;N&quot;</td><td>2.0</td><td>&quot;V&quot;</td><td>2.0</td><td>&quot;V&quot;</td><td>2.0</td><td>&quot;V&quot;</td><td>2.0</td><td>&quot;V&quot;</td><td>2.0</td><td>&quot;V&quot;</td><td>2.0</td><td>&quot;V&quot;</td><td>2.0</td><td>&quot;V&quot;</td><td>2.0</td><td>&quot;V&quot;</td><td>2.0</td><td>&quot;V&quot;</td><td>3.0</td><td>&quot;V&quot;</td><td>2.0</td><td>&quot;V&quot;</td><td>2.0</td><td>&quot;V&quot;</td><td>2.0</td><td>&quot;V&quot;</td><td>2.0</td><td>&quot;V&quot;</td><td>2.0</td><td>&quot;V&quot;</td><td>0.0</td><td>&quot;N&quot;</td></tr><tr><td>28</td><td>79</td><td>4</td><td>1</td><td>&quot;28079004_1_38&quot;</td><td>2024</td><td>5</td><td>2.0</td><td>&quot;V&quot;</td><td>2.0</td><td>&quot;V&quot;</td><td>2.0</td><td>&quot;V&quot;</td><td>2.0</td><td>&quot;V&quot;</td><td>2.0</td><td>&quot;V&quot;</td><td>2.0</td><td>&quot;V&quot;</td><td>2.0</td><td>&quot;V&quot;</td><td>2.0</td><td>&quot;V&quot;</td><td>3.0</td><td>&quot;V&quot;</td><td>3.0</td><td>&quot;V&quot;</td><td>3.0</td><td>&quot;V&quot;</td><td>3.0</td><td>&quot;V&quot;</td><td>3.0</td><td>&quot;V&quot;</td><td>2.0</td><td>&quot;V&quot;</td><td>2.0</td><td>&quot;V&quot;</td><td>2.0</td><td>&quot;V&quot;</td><td>2.0</td><td>&quot;V&quot;</td><td>2.0</td><td>&quot;V&quot;</td><td>2.0</td><td>&quot;V&quot;</td><td>2.0</td><td>&quot;V&quot;</td><td>2.0</td><td>&quot;V&quot;</td><td>2.0</td><td>&quot;V&quot;</td><td>2.0</td><td>&quot;V&quot;</td><td>2.0</td><td>&quot;V&quot;</td><td>2.0</td><td>&quot;V&quot;</td><td>3.0</td><td>&quot;V&quot;</td><td>2.0</td><td>&quot;V&quot;</td><td>2.0</td><td>&quot;V&quot;</td><td>2.0</td><td>&quot;V&quot;</td><td>1.0</td><td>&quot;V&quot;</td><td>1.0</td><td>&quot;V&quot;</td></tr></tbody></table></div>"
      ],
      "text/plain": [
       "shape: (5, 69)\n",
       "┌───────────┬───────────┬──────────┬──────────┬───┬─────┬─────┬─────┬─────┐\n",
       "│ PROVINCIA ┆ MUNICIPIO ┆ ESTACION ┆ MAGNITUD ┆ … ┆ D30 ┆ V30 ┆ D31 ┆ V31 │\n",
       "│ ---       ┆ ---       ┆ ---      ┆ ---      ┆   ┆ --- ┆ --- ┆ --- ┆ --- │\n",
       "│ i64       ┆ i64       ┆ i64      ┆ i64      ┆   ┆ f64 ┆ str ┆ f64 ┆ str │\n",
       "╞═══════════╪═══════════╪══════════╪══════════╪═══╪═════╪═════╪═════╪═════╡\n",
       "│ 28        ┆ 79        ┆ 4        ┆ 1        ┆ … ┆ 3.0 ┆ V   ┆ 3.0 ┆ V   │\n",
       "│ 28        ┆ 79        ┆ 4        ┆ 1        ┆ … ┆ 0.0 ┆ N   ┆ 0.0 ┆ N   │\n",
       "│ 28        ┆ 79        ┆ 4        ┆ 1        ┆ … ┆ 1.0 ┆ V   ┆ 1.0 ┆ V   │\n",
       "│ 28        ┆ 79        ┆ 4        ┆ 1        ┆ … ┆ 2.0 ┆ V   ┆ 0.0 ┆ N   │\n",
       "│ 28        ┆ 79        ┆ 4        ┆ 1        ┆ … ┆ 1.0 ┆ V   ┆ 1.0 ┆ V   │\n",
       "└───────────┴───────────┴──────────┴──────────┴───┴─────┴─────┴─────┴─────┘"
      ]
     },
     "execution_count": 3,
     "metadata": {},
     "output_type": "execute_result"
    }
   ],
   "source": [
    "dfp.head()"
   ]
  },
  {
   "cell_type": "code",
   "execution_count": 4,
   "metadata": {},
   "outputs": [
    {
     "data": {
      "text/html": [
       "<div><style>\n",
       ".dataframe > thead > tr,\n",
       ".dataframe > tbody > tr {\n",
       "  text-align: right;\n",
       "  white-space: pre-wrap;\n",
       "}\n",
       "</style>\n",
       "<small>shape: (10, 69)</small><table border=\"1\" class=\"dataframe\"><thead><tr><th>PROVINCIA</th><th>MUNICIPIO</th><th>ESTACION</th><th>MAGNITUD</th><th>PUNTO_MUESTREO</th><th>ANO</th><th>MES</th><th>D01</th><th>V01</th><th>D02</th><th>V02</th><th>D03</th><th>V03</th><th>D04</th><th>V04</th><th>D05</th><th>V05</th><th>D06</th><th>V06</th><th>D07</th><th>V07</th><th>D08</th><th>V08</th><th>D09</th><th>V09</th><th>D10</th><th>V10</th><th>D11</th><th>V11</th><th>D12</th><th>V12</th><th>D13</th><th>V13</th><th>D14</th><th>V14</th><th>D15</th><th>V15</th><th>D16</th><th>V16</th><th>D17</th><th>V17</th><th>D18</th><th>V18</th><th>D19</th><th>V19</th><th>D20</th><th>V20</th><th>D21</th><th>V21</th><th>D22</th><th>V22</th><th>D23</th><th>V23</th><th>D24</th><th>V24</th><th>D25</th><th>V25</th><th>D26</th><th>V26</th><th>D27</th><th>V27</th><th>D28</th><th>V28</th><th>D29</th><th>V29</th><th>D30</th><th>V30</th><th>D31</th><th>V31</th></tr><tr><td>i64</td><td>i64</td><td>i64</td><td>i64</td><td>str</td><td>i64</td><td>i64</td><td>f64</td><td>str</td><td>f64</td><td>str</td><td>f64</td><td>str</td><td>f64</td><td>str</td><td>f64</td><td>str</td><td>f64</td><td>str</td><td>f64</td><td>str</td><td>f64</td><td>str</td><td>f64</td><td>str</td><td>f64</td><td>str</td><td>f64</td><td>str</td><td>f64</td><td>str</td><td>f64</td><td>str</td><td>f64</td><td>str</td><td>f64</td><td>str</td><td>f64</td><td>str</td><td>f64</td><td>str</td><td>f64</td><td>str</td><td>f64</td><td>str</td><td>f64</td><td>str</td><td>f64</td><td>str</td><td>f64</td><td>str</td><td>f64</td><td>str</td><td>f64</td><td>str</td><td>f64</td><td>str</td><td>f64</td><td>str</td><td>f64</td><td>str</td><td>f64</td><td>str</td><td>f64</td><td>str</td><td>f64</td><td>str</td><td>f64</td><td>str</td></tr></thead><tbody><tr><td>28</td><td>79</td><td>8</td><td>8</td><td>&quot;28079008_8_8&quot;</td><td>2024</td><td>1</td><td>34.0</td><td>&quot;V&quot;</td><td>45.0</td><td>&quot;V&quot;</td><td>32.0</td><td>&quot;V&quot;</td><td>34.0</td><td>&quot;V&quot;</td><td>21.0</td><td>&quot;V&quot;</td><td>19.0</td><td>&quot;V&quot;</td><td>30.0</td><td>&quot;V&quot;</td><td>50.0</td><td>&quot;V&quot;</td><td>42.0</td><td>&quot;V&quot;</td><td>37.0</td><td>&quot;V&quot;</td><td>31.0</td><td>&quot;V&quot;</td><td>39.0</td><td>&quot;V&quot;</td><td>48.0</td><td>&quot;V&quot;</td><td>40.0</td><td>&quot;V&quot;</td><td>24.0</td><td>&quot;V&quot;</td><td>25.0</td><td>&quot;V&quot;</td><td>17.0</td><td>&quot;V&quot;</td><td>21.0</td><td>&quot;V&quot;</td><td>23.0</td><td>&quot;V&quot;</td><td>20.0</td><td>&quot;V&quot;</td><td>30.0</td><td>&quot;V&quot;</td><td>53.0</td><td>&quot;V&quot;</td><td>54.0</td><td>&quot;V&quot;</td><td>53.0</td><td>&quot;V&quot;</td><td>53.0</td><td>&quot;V&quot;</td><td>51.0</td><td>&quot;V&quot;</td><td>41.0</td><td>&quot;V&quot;</td><td>37.0</td><td>&quot;V&quot;</td><td>35.0</td><td>&quot;V&quot;</td><td>47.0</td><td>&quot;V&quot;</td><td>40.0</td><td>&quot;V&quot;</td></tr><tr><td>28</td><td>79</td><td>8</td><td>8</td><td>&quot;28079008_8_8&quot;</td><td>2024</td><td>2</td><td>46.0</td><td>&quot;V&quot;</td><td>47.0</td><td>&quot;V&quot;</td><td>38.0</td><td>&quot;V&quot;</td><td>42.0</td><td>&quot;V&quot;</td><td>62.0</td><td>&quot;V&quot;</td><td>50.0</td><td>&quot;V&quot;</td><td>26.0</td><td>&quot;V&quot;</td><td>28.0</td><td>&quot;V&quot;</td><td>23.0</td><td>&quot;V&quot;</td><td>14.0</td><td>&quot;V&quot;</td><td>15.0</td><td>&quot;V&quot;</td><td>21.0</td><td>&quot;V&quot;</td><td>30.0</td><td>&quot;V&quot;</td><td>38.0</td><td>&quot;V&quot;</td><td>35.0</td><td>&quot;V&quot;</td><td>32.0</td><td>&quot;V&quot;</td><td>46.0</td><td>&quot;V&quot;</td><td>38.0</td><td>&quot;V&quot;</td><td>43.0</td><td>&quot;V&quot;</td><td>44.0</td><td>&quot;V&quot;</td><td>49.0</td><td>&quot;V&quot;</td><td>17.0</td><td>&quot;V&quot;</td><td>18.0</td><td>&quot;V&quot;</td><td>16.0</td><td>&quot;V&quot;</td><td>8.0</td><td>&quot;V&quot;</td><td>16.0</td><td>&quot;N&quot;</td><td>22.0</td><td>&quot;V&quot;</td><td>38.0</td><td>&quot;V&quot;</td><td>40.0</td><td>&quot;V&quot;</td><td>0.0</td><td>&quot;N&quot;</td><td>0.0</td><td>&quot;N&quot;</td></tr><tr><td>28</td><td>79</td><td>8</td><td>8</td><td>&quot;28079008_8_8&quot;</td><td>2024</td><td>3</td><td>23.0</td><td>&quot;V&quot;</td><td>17.0</td><td>&quot;V&quot;</td><td>14.0</td><td>&quot;V&quot;</td><td>21.0</td><td>&quot;V&quot;</td><td>26.0</td><td>&quot;V&quot;</td><td>41.0</td><td>&quot;V&quot;</td><td>32.0</td><td>&quot;V&quot;</td><td>17.0</td><td>&quot;V&quot;</td><td>13.0</td><td>&quot;V&quot;</td><td>13.0</td><td>&quot;V&quot;</td><td>25.0</td><td>&quot;V&quot;</td><td>55.0</td><td>&quot;V&quot;</td><td>43.0</td><td>&quot;V&quot;</td><td>42.0</td><td>&quot;V&quot;</td><td>35.0</td><td>&quot;V&quot;</td><td>39.0</td><td>&quot;V&quot;</td><td>43.0</td><td>&quot;V&quot;</td><td>52.0</td><td>&quot;V&quot;</td><td>61.0</td><td>&quot;N&quot;</td><td>37.0</td><td>&quot;V&quot;</td><td>28.0</td><td>&quot;V&quot;</td><td>42.0</td><td>&quot;V&quot;</td><td>26.0</td><td>&quot;V&quot;</td><td>13.0</td><td>&quot;V&quot;</td><td>18.0</td><td>&quot;V&quot;</td><td>15.0</td><td>&quot;V&quot;</td><td>11.0</td><td>&quot;V&quot;</td><td>7.0</td><td>&quot;V&quot;</td><td>12.0</td><td>&quot;V&quot;</td><td>12.0</td><td>&quot;V&quot;</td><td>12.0</td><td>&quot;V&quot;</td></tr><tr><td>28</td><td>79</td><td>8</td><td>8</td><td>&quot;28079008_8_8&quot;</td><td>2024</td><td>4</td><td>18.0</td><td>&quot;V&quot;</td><td>28.0</td><td>&quot;V&quot;</td><td>24.0</td><td>&quot;V&quot;</td><td>43.0</td><td>&quot;V&quot;</td><td>43.0</td><td>&quot;V&quot;</td><td>40.0</td><td>&quot;V&quot;</td><td>27.0</td><td>&quot;V&quot;</td><td>16.0</td><td>&quot;V&quot;</td><td>19.0</td><td>&quot;V&quot;</td><td>24.0</td><td>&quot;V&quot;</td><td>26.0</td><td>&quot;V&quot;</td><td>39.0</td><td>&quot;V&quot;</td><td>42.0</td><td>&quot;V&quot;</td><td>31.0</td><td>&quot;V&quot;</td><td>37.0</td><td>&quot;V&quot;</td><td>25.0</td><td>&quot;V&quot;</td><td>16.0</td><td>&quot;V&quot;</td><td>15.0</td><td>&quot;V&quot;</td><td>22.0</td><td>&quot;V&quot;</td><td>19.0</td><td>&quot;V&quot;</td><td>12.0</td><td>&quot;V&quot;</td><td>12.0</td><td>&quot;V&quot;</td><td>15.0</td><td>&quot;V&quot;</td><td>21.0</td><td>&quot;V&quot;</td><td>30.0</td><td>&quot;V&quot;</td><td>22.0</td><td>&quot;V&quot;</td><td>13.0</td><td>&quot;V&quot;</td><td>17.0</td><td>&quot;V&quot;</td><td>17.0</td><td>&quot;V&quot;</td><td>23.0</td><td>&quot;V&quot;</td><td>0.0</td><td>&quot;N&quot;</td></tr><tr><td>28</td><td>79</td><td>8</td><td>8</td><td>&quot;28079008_8_8&quot;</td><td>2024</td><td>5</td><td>9.0</td><td>&quot;V&quot;</td><td>9.0</td><td>&quot;V&quot;</td><td>14.0</td><td>&quot;V&quot;</td><td>13.0</td><td>&quot;V&quot;</td><td>10.0</td><td>&quot;V&quot;</td><td>17.0</td><td>&quot;V&quot;</td><td>18.0</td><td>&quot;V&quot;</td><td>25.0</td><td>&quot;V&quot;</td><td>38.0</td><td>&quot;V&quot;</td><td>36.0</td><td>&quot;V&quot;</td><td>17.0</td><td>&quot;V&quot;</td><td>19.0</td><td>&quot;V&quot;</td><td>26.0</td><td>&quot;V&quot;</td><td>13.0</td><td>&quot;V&quot;</td><td>9.0</td><td>&quot;V&quot;</td><td>17.0</td><td>&quot;V&quot;</td><td>17.0</td><td>&quot;V&quot;</td><td>14.0</td><td>&quot;V&quot;</td><td>12.0</td><td>&quot;V&quot;</td><td>19.0</td><td>&quot;V&quot;</td><td>22.0</td><td>&quot;V&quot;</td><td>17.0</td><td>&quot;V&quot;</td><td>22.0</td><td>&quot;V&quot;</td><td>18.0</td><td>&quot;V&quot;</td><td>21.0</td><td>&quot;V&quot;</td><td>29.0</td><td>&quot;V&quot;</td><td>22.0</td><td>&quot;V&quot;</td><td>19.0</td><td>&quot;V&quot;</td><td>25.0</td><td>&quot;V&quot;</td><td>19.0</td><td>&quot;V&quot;</td><td>13.0</td><td>&quot;V&quot;</td></tr><tr><td>28</td><td>79</td><td>8</td><td>8</td><td>&quot;28079008_8_8&quot;</td><td>2024</td><td>6</td><td>8.0</td><td>&quot;V&quot;</td><td>10.0</td><td>&quot;V&quot;</td><td>13.0</td><td>&quot;V&quot;</td><td>22.0</td><td>&quot;V&quot;</td><td>27.0</td><td>&quot;V&quot;</td><td>36.0</td><td>&quot;V&quot;</td><td>23.0</td><td>&quot;V&quot;</td><td>18.0</td><td>&quot;V&quot;</td><td>12.0</td><td>&quot;V&quot;</td><td>15.0</td><td>&quot;V&quot;</td><td>13.0</td><td>&quot;V&quot;</td><td>13.0</td><td>&quot;V&quot;</td><td>20.0</td><td>&quot;V&quot;</td><td>31.0</td><td>&quot;V&quot;</td><td>12.0</td><td>&quot;V&quot;</td><td>15.0</td><td>&quot;V&quot;</td><td>18.0</td><td>&quot;V&quot;</td><td>25.0</td><td>&quot;V&quot;</td><td>19.0</td><td>&quot;V&quot;</td><td>18.0</td><td>&quot;V&quot;</td><td>21.0</td><td>&quot;V&quot;</td><td>22.0</td><td>&quot;V&quot;</td><td>7.0</td><td>&quot;V&quot;</td><td>15.0</td><td>&quot;V&quot;</td><td>23.0</td><td>&quot;V&quot;</td><td>20.0</td><td>&quot;V&quot;</td><td>23.0</td><td>&quot;V&quot;</td><td>16.0</td><td>&quot;V&quot;</td><td>9.0</td><td>&quot;V&quot;</td><td>9.0</td><td>&quot;V&quot;</td><td>0.0</td><td>&quot;N&quot;</td></tr><tr><td>28</td><td>79</td><td>8</td><td>8</td><td>&quot;28079008_8_8&quot;</td><td>2024</td><td>7</td><td>13.0</td><td>&quot;V&quot;</td><td>11.0</td><td>&quot;V&quot;</td><td>22.0</td><td>&quot;V&quot;</td><td>35.0</td><td>&quot;V&quot;</td><td>29.0</td><td>&quot;V&quot;</td><td>13.0</td><td>&quot;V&quot;</td><td>8.0</td><td>&quot;V&quot;</td><td>20.0</td><td>&quot;V&quot;</td><td>23.0</td><td>&quot;V&quot;</td><td>16.0</td><td>&quot;V&quot;</td><td>23.0</td><td>&quot;V&quot;</td><td>15.0</td><td>&quot;V&quot;</td><td>11.0</td><td>&quot;V&quot;</td><td>11.0</td><td>&quot;V&quot;</td><td>13.0</td><td>&quot;V&quot;</td><td>21.0</td><td>&quot;V&quot;</td><td>30.0</td><td>&quot;V&quot;</td><td>33.0</td><td>&quot;V&quot;</td><td>37.0</td><td>&quot;V&quot;</td><td>22.0</td><td>&quot;V&quot;</td><td>6.0</td><td>&quot;V&quot;</td><td>23.0</td><td>&quot;V&quot;</td><td>25.0</td><td>&quot;V&quot;</td><td>28.0</td><td>&quot;V&quot;</td><td>14.0</td><td>&quot;V&quot;</td><td>16.0</td><td>&quot;V&quot;</td><td>13.0</td><td>&quot;V&quot;</td><td>7.0</td><td>&quot;V&quot;</td><td>18.0</td><td>&quot;V&quot;</td><td>21.0</td><td>&quot;V&quot;</td><td>30.0</td><td>&quot;V&quot;</td></tr><tr><td>28</td><td>79</td><td>8</td><td>8</td><td>&quot;28079008_8_8&quot;</td><td>2024</td><td>8</td><td>27.0</td><td>&quot;V&quot;</td><td>20.0</td><td>&quot;V&quot;</td><td>11.0</td><td>&quot;V&quot;</td><td>13.0</td><td>&quot;V&quot;</td><td>20.0</td><td>&quot;V&quot;</td><td>32.0</td><td>&quot;V&quot;</td><td>28.0</td><td>&quot;V&quot;</td><td>24.0</td><td>&quot;V&quot;</td><td>17.0</td><td>&quot;V&quot;</td><td>5.0</td><td>&quot;V&quot;</td><td>7.0</td><td>&quot;V&quot;</td><td>15.0</td><td>&quot;V&quot;</td><td>17.0</td><td>&quot;V&quot;</td><td>12.0</td><td>&quot;V&quot;</td><td>9.0</td><td>&quot;V&quot;</td><td>13.0</td><td>&quot;V&quot;</td><td>15.0</td><td>&quot;V&quot;</td><td>11.0</td><td>&quot;V&quot;</td><td>14.0</td><td>&quot;V&quot;</td><td>22.0</td><td>&quot;V&quot;</td><td>15.0</td><td>&quot;V&quot;</td><td>23.0</td><td>&quot;V&quot;</td><td>24.0</td><td>&quot;V&quot;</td><td>17.0</td><td>&quot;V&quot;</td><td>13.0</td><td>&quot;V&quot;</td><td>16.0</td><td>&quot;V&quot;</td><td>24.0</td><td>&quot;V&quot;</td><td>33.0</td><td>&quot;V&quot;</td><td>20.0</td><td>&quot;V&quot;</td><td>18.0</td><td>&quot;V&quot;</td><td>15.0</td><td>&quot;V&quot;</td></tr><tr><td>28</td><td>79</td><td>8</td><td>8</td><td>&quot;28079008_8_8&quot;</td><td>2024</td><td>9</td><td>16.0</td><td>&quot;V&quot;</td><td>21.0</td><td>&quot;V&quot;</td><td>20.0</td><td>&quot;V&quot;</td><td>15.0</td><td>&quot;V&quot;</td><td>18.0</td><td>&quot;V&quot;</td><td>23.0</td><td>&quot;V&quot;</td><td>18.0</td><td>&quot;V&quot;</td><td>17.0</td><td>&quot;V&quot;</td><td>33.0</td><td>&quot;V&quot;</td><td>25.0</td><td>&quot;V&quot;</td><td>27.0</td><td>&quot;V&quot;</td><td>22.0</td><td>&quot;V&quot;</td><td>14.0</td><td>&quot;V&quot;</td><td>27.0</td><td>&quot;V&quot;</td><td>27.0</td><td>&quot;V&quot;</td><td>22.0</td><td>&quot;V&quot;</td><td>21.0</td><td>&quot;V&quot;</td><td>22.0</td><td>&quot;V&quot;</td><td>25.0</td><td>&quot;V&quot;</td><td>31.0</td><td>&quot;V&quot;</td><td>22.0</td><td>&quot;V&quot;</td><td>29.0</td><td>&quot;V&quot;</td><td>29.0</td><td>&quot;V&quot;</td><td>37.0</td><td>&quot;V&quot;</td><td>21.0</td><td>&quot;V&quot;</td><td>15.0</td><td>&quot;V&quot;</td><td>20.0</td><td>&quot;V&quot;</td><td>21.0</td><td>&quot;V&quot;</td><td>25.0</td><td>&quot;V&quot;</td><td>58.0</td><td>&quot;V&quot;</td><td>0.0</td><td>&quot;N&quot;</td></tr><tr><td>28</td><td>79</td><td>8</td><td>8</td><td>&quot;28079008_8_8&quot;</td><td>2024</td><td>10</td><td>55.0</td><td>&quot;V&quot;</td><td>25.0</td><td>&quot;V&quot;</td><td>21.0</td><td>&quot;V&quot;</td><td>34.0</td><td>&quot;V&quot;</td><td>27.0</td><td>&quot;V&quot;</td><td>12.0</td><td>&quot;V&quot;</td><td>25.0</td><td>&quot;N&quot;</td><td>22.0</td><td>&quot;V&quot;</td><td>20.0</td><td>&quot;V&quot;</td><td>27.0</td><td>&quot;V&quot;</td><td>37.0</td><td>&quot;V&quot;</td><td>24.0</td><td>&quot;V&quot;</td><td>31.0</td><td>&quot;V&quot;</td><td>43.0</td><td>&quot;V&quot;</td><td>23.0</td><td>&quot;V&quot;</td><td>20.0</td><td>&quot;V&quot;</td><td>20.0</td><td>&quot;V&quot;</td><td>30.0</td><td>&quot;V&quot;</td><td>36.0</td><td>&quot;V&quot;</td><td>32.0</td><td>&quot;V&quot;</td><td>49.0</td><td>&quot;V&quot;</td><td>27.0</td><td>&quot;V&quot;</td><td>31.0</td><td>&quot;V&quot;</td><td>34.0</td><td>&quot;V&quot;</td><td>37.0</td><td>&quot;V&quot;</td><td>18.0</td><td>&quot;V&quot;</td><td>15.0</td><td>&quot;V&quot;</td><td>21.0</td><td>&quot;V&quot;</td><td>21.0</td><td>&quot;V&quot;</td><td>32.0</td><td>&quot;V&quot;</td><td>34.0</td><td>&quot;V&quot;</td></tr></tbody></table></div>"
      ],
      "text/plain": [
       "shape: (10, 69)\n",
       "┌───────────┬───────────┬──────────┬──────────┬───┬──────┬─────┬──────┬─────┐\n",
       "│ PROVINCIA ┆ MUNICIPIO ┆ ESTACION ┆ MAGNITUD ┆ … ┆ D30  ┆ V30 ┆ D31  ┆ V31 │\n",
       "│ ---       ┆ ---       ┆ ---      ┆ ---      ┆   ┆ ---  ┆ --- ┆ ---  ┆ --- │\n",
       "│ i64       ┆ i64       ┆ i64      ┆ i64      ┆   ┆ f64  ┆ str ┆ f64  ┆ str │\n",
       "╞═══════════╪═══════════╪══════════╪══════════╪═══╪══════╪═════╪══════╪═════╡\n",
       "│ 28        ┆ 79        ┆ 8        ┆ 8        ┆ … ┆ 47.0 ┆ V   ┆ 40.0 ┆ V   │\n",
       "│ 28        ┆ 79        ┆ 8        ┆ 8        ┆ … ┆ 0.0  ┆ N   ┆ 0.0  ┆ N   │\n",
       "│ 28        ┆ 79        ┆ 8        ┆ 8        ┆ … ┆ 12.0 ┆ V   ┆ 12.0 ┆ V   │\n",
       "│ 28        ┆ 79        ┆ 8        ┆ 8        ┆ … ┆ 23.0 ┆ V   ┆ 0.0  ┆ N   │\n",
       "│ 28        ┆ 79        ┆ 8        ┆ 8        ┆ … ┆ 19.0 ┆ V   ┆ 13.0 ┆ V   │\n",
       "│ 28        ┆ 79        ┆ 8        ┆ 8        ┆ … ┆ 9.0  ┆ V   ┆ 0.0  ┆ N   │\n",
       "│ 28        ┆ 79        ┆ 8        ┆ 8        ┆ … ┆ 21.0 ┆ V   ┆ 30.0 ┆ V   │\n",
       "│ 28        ┆ 79        ┆ 8        ┆ 8        ┆ … ┆ 18.0 ┆ V   ┆ 15.0 ┆ V   │\n",
       "│ 28        ┆ 79        ┆ 8        ┆ 8        ┆ … ┆ 58.0 ┆ V   ┆ 0.0  ┆ N   │\n",
       "│ 28        ┆ 79        ┆ 8        ┆ 8        ┆ … ┆ 32.0 ┆ V   ┆ 34.0 ┆ V   │\n",
       "└───────────┴───────────┴──────────┴──────────┴───┴──────┴─────┴──────┴─────┘"
      ]
     },
     "execution_count": 4,
     "metadata": {},
     "output_type": "execute_result"
    }
   ],
   "source": [
    "dfp.filter(ESTACION=8, MAGNITUD = 8 ).head(20)"
   ]
  },
  {
   "cell_type": "code",
   "execution_count": 5,
   "metadata": {},
   "outputs": [
    {
     "data": {
      "text/html": [
       "<div><style>\n",
       ".dataframe > thead > tr,\n",
       ".dataframe > tbody > tr {\n",
       "  text-align: right;\n",
       "  white-space: pre-wrap;\n",
       "}\n",
       "</style>\n",
       "<small>shape: (10, 69)</small><table border=\"1\" class=\"dataframe\"><thead><tr><th>PROVINCIA</th><th>MUNICIPIO</th><th>ESTACION</th><th>MAGNITUD</th><th>PUNTO_MUESTREO</th><th>ANO</th><th>MES</th><th>D01</th><th>V01</th><th>D02</th><th>V02</th><th>D03</th><th>V03</th><th>D04</th><th>V04</th><th>D05</th><th>V05</th><th>D06</th><th>V06</th><th>D07</th><th>V07</th><th>D08</th><th>V08</th><th>D09</th><th>V09</th><th>D10</th><th>V10</th><th>D11</th><th>V11</th><th>D12</th><th>V12</th><th>D13</th><th>V13</th><th>D14</th><th>V14</th><th>D15</th><th>V15</th><th>D16</th><th>V16</th><th>D17</th><th>V17</th><th>D18</th><th>V18</th><th>D19</th><th>V19</th><th>D20</th><th>V20</th><th>D21</th><th>V21</th><th>D22</th><th>V22</th><th>D23</th><th>V23</th><th>D24</th><th>V24</th><th>D25</th><th>V25</th><th>D26</th><th>V26</th><th>D27</th><th>V27</th><th>D28</th><th>V28</th><th>D29</th><th>V29</th><th>D30</th><th>V30</th><th>D31</th><th>V31</th></tr><tr><td>i64</td><td>i64</td><td>i64</td><td>i64</td><td>str</td><td>i64</td><td>i64</td><td>f64</td><td>str</td><td>f64</td><td>str</td><td>f64</td><td>str</td><td>f64</td><td>str</td><td>f64</td><td>str</td><td>f64</td><td>str</td><td>f64</td><td>str</td><td>f64</td><td>str</td><td>f64</td><td>str</td><td>f64</td><td>str</td><td>f64</td><td>str</td><td>f64</td><td>str</td><td>f64</td><td>str</td><td>f64</td><td>str</td><td>f64</td><td>str</td><td>f64</td><td>str</td><td>f64</td><td>str</td><td>f64</td><td>str</td><td>f64</td><td>str</td><td>f64</td><td>str</td><td>f64</td><td>str</td><td>f64</td><td>str</td><td>f64</td><td>str</td><td>f64</td><td>str</td><td>f64</td><td>str</td><td>f64</td><td>str</td><td>f64</td><td>str</td><td>f64</td><td>str</td><td>f64</td><td>str</td><td>f64</td><td>str</td><td>f64</td><td>str</td></tr></thead><tbody><tr><td>28</td><td>79</td><td>8</td><td>8</td><td>&quot;28079008_8_8&quot;</td><td>2024</td><td>1</td><td>34.0</td><td>&quot;V&quot;</td><td>45.0</td><td>&quot;V&quot;</td><td>32.0</td><td>&quot;V&quot;</td><td>34.0</td><td>&quot;V&quot;</td><td>21.0</td><td>&quot;V&quot;</td><td>19.0</td><td>&quot;V&quot;</td><td>30.0</td><td>&quot;V&quot;</td><td>50.0</td><td>&quot;V&quot;</td><td>42.0</td><td>&quot;V&quot;</td><td>37.0</td><td>&quot;V&quot;</td><td>31.0</td><td>&quot;V&quot;</td><td>39.0</td><td>&quot;V&quot;</td><td>48.0</td><td>&quot;V&quot;</td><td>40.0</td><td>&quot;V&quot;</td><td>24.0</td><td>&quot;V&quot;</td><td>25.0</td><td>&quot;V&quot;</td><td>17.0</td><td>&quot;V&quot;</td><td>21.0</td><td>&quot;V&quot;</td><td>23.0</td><td>&quot;V&quot;</td><td>20.0</td><td>&quot;V&quot;</td><td>30.0</td><td>&quot;V&quot;</td><td>53.0</td><td>&quot;V&quot;</td><td>54.0</td><td>&quot;V&quot;</td><td>53.0</td><td>&quot;V&quot;</td><td>53.0</td><td>&quot;V&quot;</td><td>51.0</td><td>&quot;V&quot;</td><td>41.0</td><td>&quot;V&quot;</td><td>37.0</td><td>&quot;V&quot;</td><td>35.0</td><td>&quot;V&quot;</td><td>47.0</td><td>&quot;V&quot;</td><td>40.0</td><td>&quot;V&quot;</td></tr><tr><td>28</td><td>79</td><td>8</td><td>8</td><td>&quot;28079008_8_8&quot;</td><td>2024</td><td>2</td><td>46.0</td><td>&quot;V&quot;</td><td>47.0</td><td>&quot;V&quot;</td><td>38.0</td><td>&quot;V&quot;</td><td>42.0</td><td>&quot;V&quot;</td><td>62.0</td><td>&quot;V&quot;</td><td>50.0</td><td>&quot;V&quot;</td><td>26.0</td><td>&quot;V&quot;</td><td>28.0</td><td>&quot;V&quot;</td><td>23.0</td><td>&quot;V&quot;</td><td>14.0</td><td>&quot;V&quot;</td><td>15.0</td><td>&quot;V&quot;</td><td>21.0</td><td>&quot;V&quot;</td><td>30.0</td><td>&quot;V&quot;</td><td>38.0</td><td>&quot;V&quot;</td><td>35.0</td><td>&quot;V&quot;</td><td>32.0</td><td>&quot;V&quot;</td><td>46.0</td><td>&quot;V&quot;</td><td>38.0</td><td>&quot;V&quot;</td><td>43.0</td><td>&quot;V&quot;</td><td>44.0</td><td>&quot;V&quot;</td><td>49.0</td><td>&quot;V&quot;</td><td>17.0</td><td>&quot;V&quot;</td><td>18.0</td><td>&quot;V&quot;</td><td>16.0</td><td>&quot;V&quot;</td><td>8.0</td><td>&quot;V&quot;</td><td>16.0</td><td>&quot;N&quot;</td><td>22.0</td><td>&quot;V&quot;</td><td>38.0</td><td>&quot;V&quot;</td><td>40.0</td><td>&quot;V&quot;</td><td>0.0</td><td>&quot;N&quot;</td><td>0.0</td><td>&quot;N&quot;</td></tr><tr><td>28</td><td>79</td><td>8</td><td>8</td><td>&quot;28079008_8_8&quot;</td><td>2024</td><td>3</td><td>23.0</td><td>&quot;V&quot;</td><td>17.0</td><td>&quot;V&quot;</td><td>14.0</td><td>&quot;V&quot;</td><td>21.0</td><td>&quot;V&quot;</td><td>26.0</td><td>&quot;V&quot;</td><td>41.0</td><td>&quot;V&quot;</td><td>32.0</td><td>&quot;V&quot;</td><td>17.0</td><td>&quot;V&quot;</td><td>13.0</td><td>&quot;V&quot;</td><td>13.0</td><td>&quot;V&quot;</td><td>25.0</td><td>&quot;V&quot;</td><td>55.0</td><td>&quot;V&quot;</td><td>43.0</td><td>&quot;V&quot;</td><td>42.0</td><td>&quot;V&quot;</td><td>35.0</td><td>&quot;V&quot;</td><td>39.0</td><td>&quot;V&quot;</td><td>43.0</td><td>&quot;V&quot;</td><td>52.0</td><td>&quot;V&quot;</td><td>61.0</td><td>&quot;N&quot;</td><td>37.0</td><td>&quot;V&quot;</td><td>28.0</td><td>&quot;V&quot;</td><td>42.0</td><td>&quot;V&quot;</td><td>26.0</td><td>&quot;V&quot;</td><td>13.0</td><td>&quot;V&quot;</td><td>18.0</td><td>&quot;V&quot;</td><td>15.0</td><td>&quot;V&quot;</td><td>11.0</td><td>&quot;V&quot;</td><td>7.0</td><td>&quot;V&quot;</td><td>12.0</td><td>&quot;V&quot;</td><td>12.0</td><td>&quot;V&quot;</td><td>12.0</td><td>&quot;V&quot;</td></tr><tr><td>28</td><td>79</td><td>8</td><td>8</td><td>&quot;28079008_8_8&quot;</td><td>2024</td><td>4</td><td>18.0</td><td>&quot;V&quot;</td><td>28.0</td><td>&quot;V&quot;</td><td>24.0</td><td>&quot;V&quot;</td><td>43.0</td><td>&quot;V&quot;</td><td>43.0</td><td>&quot;V&quot;</td><td>40.0</td><td>&quot;V&quot;</td><td>27.0</td><td>&quot;V&quot;</td><td>16.0</td><td>&quot;V&quot;</td><td>19.0</td><td>&quot;V&quot;</td><td>24.0</td><td>&quot;V&quot;</td><td>26.0</td><td>&quot;V&quot;</td><td>39.0</td><td>&quot;V&quot;</td><td>42.0</td><td>&quot;V&quot;</td><td>31.0</td><td>&quot;V&quot;</td><td>37.0</td><td>&quot;V&quot;</td><td>25.0</td><td>&quot;V&quot;</td><td>16.0</td><td>&quot;V&quot;</td><td>15.0</td><td>&quot;V&quot;</td><td>22.0</td><td>&quot;V&quot;</td><td>19.0</td><td>&quot;V&quot;</td><td>12.0</td><td>&quot;V&quot;</td><td>12.0</td><td>&quot;V&quot;</td><td>15.0</td><td>&quot;V&quot;</td><td>21.0</td><td>&quot;V&quot;</td><td>30.0</td><td>&quot;V&quot;</td><td>22.0</td><td>&quot;V&quot;</td><td>13.0</td><td>&quot;V&quot;</td><td>17.0</td><td>&quot;V&quot;</td><td>17.0</td><td>&quot;V&quot;</td><td>23.0</td><td>&quot;V&quot;</td><td>0.0</td><td>&quot;N&quot;</td></tr><tr><td>28</td><td>79</td><td>8</td><td>8</td><td>&quot;28079008_8_8&quot;</td><td>2024</td><td>5</td><td>9.0</td><td>&quot;V&quot;</td><td>9.0</td><td>&quot;V&quot;</td><td>14.0</td><td>&quot;V&quot;</td><td>13.0</td><td>&quot;V&quot;</td><td>10.0</td><td>&quot;V&quot;</td><td>17.0</td><td>&quot;V&quot;</td><td>18.0</td><td>&quot;V&quot;</td><td>25.0</td><td>&quot;V&quot;</td><td>38.0</td><td>&quot;V&quot;</td><td>36.0</td><td>&quot;V&quot;</td><td>17.0</td><td>&quot;V&quot;</td><td>19.0</td><td>&quot;V&quot;</td><td>26.0</td><td>&quot;V&quot;</td><td>13.0</td><td>&quot;V&quot;</td><td>9.0</td><td>&quot;V&quot;</td><td>17.0</td><td>&quot;V&quot;</td><td>17.0</td><td>&quot;V&quot;</td><td>14.0</td><td>&quot;V&quot;</td><td>12.0</td><td>&quot;V&quot;</td><td>19.0</td><td>&quot;V&quot;</td><td>22.0</td><td>&quot;V&quot;</td><td>17.0</td><td>&quot;V&quot;</td><td>22.0</td><td>&quot;V&quot;</td><td>18.0</td><td>&quot;V&quot;</td><td>21.0</td><td>&quot;V&quot;</td><td>29.0</td><td>&quot;V&quot;</td><td>22.0</td><td>&quot;V&quot;</td><td>19.0</td><td>&quot;V&quot;</td><td>25.0</td><td>&quot;V&quot;</td><td>19.0</td><td>&quot;V&quot;</td><td>13.0</td><td>&quot;V&quot;</td></tr><tr><td>28</td><td>79</td><td>8</td><td>8</td><td>&quot;28079008_8_8&quot;</td><td>2024</td><td>6</td><td>8.0</td><td>&quot;V&quot;</td><td>10.0</td><td>&quot;V&quot;</td><td>13.0</td><td>&quot;V&quot;</td><td>22.0</td><td>&quot;V&quot;</td><td>27.0</td><td>&quot;V&quot;</td><td>36.0</td><td>&quot;V&quot;</td><td>23.0</td><td>&quot;V&quot;</td><td>18.0</td><td>&quot;V&quot;</td><td>12.0</td><td>&quot;V&quot;</td><td>15.0</td><td>&quot;V&quot;</td><td>13.0</td><td>&quot;V&quot;</td><td>13.0</td><td>&quot;V&quot;</td><td>20.0</td><td>&quot;V&quot;</td><td>31.0</td><td>&quot;V&quot;</td><td>12.0</td><td>&quot;V&quot;</td><td>15.0</td><td>&quot;V&quot;</td><td>18.0</td><td>&quot;V&quot;</td><td>25.0</td><td>&quot;V&quot;</td><td>19.0</td><td>&quot;V&quot;</td><td>18.0</td><td>&quot;V&quot;</td><td>21.0</td><td>&quot;V&quot;</td><td>22.0</td><td>&quot;V&quot;</td><td>7.0</td><td>&quot;V&quot;</td><td>15.0</td><td>&quot;V&quot;</td><td>23.0</td><td>&quot;V&quot;</td><td>20.0</td><td>&quot;V&quot;</td><td>23.0</td><td>&quot;V&quot;</td><td>16.0</td><td>&quot;V&quot;</td><td>9.0</td><td>&quot;V&quot;</td><td>9.0</td><td>&quot;V&quot;</td><td>0.0</td><td>&quot;N&quot;</td></tr><tr><td>28</td><td>79</td><td>8</td><td>8</td><td>&quot;28079008_8_8&quot;</td><td>2024</td><td>7</td><td>13.0</td><td>&quot;V&quot;</td><td>11.0</td><td>&quot;V&quot;</td><td>22.0</td><td>&quot;V&quot;</td><td>35.0</td><td>&quot;V&quot;</td><td>29.0</td><td>&quot;V&quot;</td><td>13.0</td><td>&quot;V&quot;</td><td>8.0</td><td>&quot;V&quot;</td><td>20.0</td><td>&quot;V&quot;</td><td>23.0</td><td>&quot;V&quot;</td><td>16.0</td><td>&quot;V&quot;</td><td>23.0</td><td>&quot;V&quot;</td><td>15.0</td><td>&quot;V&quot;</td><td>11.0</td><td>&quot;V&quot;</td><td>11.0</td><td>&quot;V&quot;</td><td>13.0</td><td>&quot;V&quot;</td><td>21.0</td><td>&quot;V&quot;</td><td>30.0</td><td>&quot;V&quot;</td><td>33.0</td><td>&quot;V&quot;</td><td>37.0</td><td>&quot;V&quot;</td><td>22.0</td><td>&quot;V&quot;</td><td>6.0</td><td>&quot;V&quot;</td><td>23.0</td><td>&quot;V&quot;</td><td>25.0</td><td>&quot;V&quot;</td><td>28.0</td><td>&quot;V&quot;</td><td>14.0</td><td>&quot;V&quot;</td><td>16.0</td><td>&quot;V&quot;</td><td>13.0</td><td>&quot;V&quot;</td><td>7.0</td><td>&quot;V&quot;</td><td>18.0</td><td>&quot;V&quot;</td><td>21.0</td><td>&quot;V&quot;</td><td>30.0</td><td>&quot;V&quot;</td></tr><tr><td>28</td><td>79</td><td>8</td><td>8</td><td>&quot;28079008_8_8&quot;</td><td>2024</td><td>8</td><td>27.0</td><td>&quot;V&quot;</td><td>20.0</td><td>&quot;V&quot;</td><td>11.0</td><td>&quot;V&quot;</td><td>13.0</td><td>&quot;V&quot;</td><td>20.0</td><td>&quot;V&quot;</td><td>32.0</td><td>&quot;V&quot;</td><td>28.0</td><td>&quot;V&quot;</td><td>24.0</td><td>&quot;V&quot;</td><td>17.0</td><td>&quot;V&quot;</td><td>5.0</td><td>&quot;V&quot;</td><td>7.0</td><td>&quot;V&quot;</td><td>15.0</td><td>&quot;V&quot;</td><td>17.0</td><td>&quot;V&quot;</td><td>12.0</td><td>&quot;V&quot;</td><td>9.0</td><td>&quot;V&quot;</td><td>13.0</td><td>&quot;V&quot;</td><td>15.0</td><td>&quot;V&quot;</td><td>11.0</td><td>&quot;V&quot;</td><td>14.0</td><td>&quot;V&quot;</td><td>22.0</td><td>&quot;V&quot;</td><td>15.0</td><td>&quot;V&quot;</td><td>23.0</td><td>&quot;V&quot;</td><td>24.0</td><td>&quot;V&quot;</td><td>17.0</td><td>&quot;V&quot;</td><td>13.0</td><td>&quot;V&quot;</td><td>16.0</td><td>&quot;V&quot;</td><td>24.0</td><td>&quot;V&quot;</td><td>33.0</td><td>&quot;V&quot;</td><td>20.0</td><td>&quot;V&quot;</td><td>18.0</td><td>&quot;V&quot;</td><td>15.0</td><td>&quot;V&quot;</td></tr><tr><td>28</td><td>79</td><td>8</td><td>8</td><td>&quot;28079008_8_8&quot;</td><td>2024</td><td>9</td><td>16.0</td><td>&quot;V&quot;</td><td>21.0</td><td>&quot;V&quot;</td><td>20.0</td><td>&quot;V&quot;</td><td>15.0</td><td>&quot;V&quot;</td><td>18.0</td><td>&quot;V&quot;</td><td>23.0</td><td>&quot;V&quot;</td><td>18.0</td><td>&quot;V&quot;</td><td>17.0</td><td>&quot;V&quot;</td><td>33.0</td><td>&quot;V&quot;</td><td>25.0</td><td>&quot;V&quot;</td><td>27.0</td><td>&quot;V&quot;</td><td>22.0</td><td>&quot;V&quot;</td><td>14.0</td><td>&quot;V&quot;</td><td>27.0</td><td>&quot;V&quot;</td><td>27.0</td><td>&quot;V&quot;</td><td>22.0</td><td>&quot;V&quot;</td><td>21.0</td><td>&quot;V&quot;</td><td>22.0</td><td>&quot;V&quot;</td><td>25.0</td><td>&quot;V&quot;</td><td>31.0</td><td>&quot;V&quot;</td><td>22.0</td><td>&quot;V&quot;</td><td>29.0</td><td>&quot;V&quot;</td><td>29.0</td><td>&quot;V&quot;</td><td>37.0</td><td>&quot;V&quot;</td><td>21.0</td><td>&quot;V&quot;</td><td>15.0</td><td>&quot;V&quot;</td><td>20.0</td><td>&quot;V&quot;</td><td>21.0</td><td>&quot;V&quot;</td><td>25.0</td><td>&quot;V&quot;</td><td>58.0</td><td>&quot;V&quot;</td><td>0.0</td><td>&quot;N&quot;</td></tr><tr><td>28</td><td>79</td><td>8</td><td>8</td><td>&quot;28079008_8_8&quot;</td><td>2024</td><td>10</td><td>55.0</td><td>&quot;V&quot;</td><td>25.0</td><td>&quot;V&quot;</td><td>21.0</td><td>&quot;V&quot;</td><td>34.0</td><td>&quot;V&quot;</td><td>27.0</td><td>&quot;V&quot;</td><td>12.0</td><td>&quot;V&quot;</td><td>25.0</td><td>&quot;N&quot;</td><td>22.0</td><td>&quot;V&quot;</td><td>20.0</td><td>&quot;V&quot;</td><td>27.0</td><td>&quot;V&quot;</td><td>37.0</td><td>&quot;V&quot;</td><td>24.0</td><td>&quot;V&quot;</td><td>31.0</td><td>&quot;V&quot;</td><td>43.0</td><td>&quot;V&quot;</td><td>23.0</td><td>&quot;V&quot;</td><td>20.0</td><td>&quot;V&quot;</td><td>20.0</td><td>&quot;V&quot;</td><td>30.0</td><td>&quot;V&quot;</td><td>36.0</td><td>&quot;V&quot;</td><td>32.0</td><td>&quot;V&quot;</td><td>49.0</td><td>&quot;V&quot;</td><td>27.0</td><td>&quot;V&quot;</td><td>31.0</td><td>&quot;V&quot;</td><td>34.0</td><td>&quot;V&quot;</td><td>37.0</td><td>&quot;V&quot;</td><td>18.0</td><td>&quot;V&quot;</td><td>15.0</td><td>&quot;V&quot;</td><td>21.0</td><td>&quot;V&quot;</td><td>21.0</td><td>&quot;V&quot;</td><td>32.0</td><td>&quot;V&quot;</td><td>34.0</td><td>&quot;V&quot;</td></tr></tbody></table></div>"
      ],
      "text/plain": [
       "shape: (10, 69)\n",
       "┌───────────┬───────────┬──────────┬──────────┬───┬──────┬─────┬──────┬─────┐\n",
       "│ PROVINCIA ┆ MUNICIPIO ┆ ESTACION ┆ MAGNITUD ┆ … ┆ D30  ┆ V30 ┆ D31  ┆ V31 │\n",
       "│ ---       ┆ ---       ┆ ---      ┆ ---      ┆   ┆ ---  ┆ --- ┆ ---  ┆ --- │\n",
       "│ i64       ┆ i64       ┆ i64      ┆ i64      ┆   ┆ f64  ┆ str ┆ f64  ┆ str │\n",
       "╞═══════════╪═══════════╪══════════╪══════════╪═══╪══════╪═════╪══════╪═════╡\n",
       "│ 28        ┆ 79        ┆ 8        ┆ 8        ┆ … ┆ 47.0 ┆ V   ┆ 40.0 ┆ V   │\n",
       "│ 28        ┆ 79        ┆ 8        ┆ 8        ┆ … ┆ 0.0  ┆ N   ┆ 0.0  ┆ N   │\n",
       "│ 28        ┆ 79        ┆ 8        ┆ 8        ┆ … ┆ 12.0 ┆ V   ┆ 12.0 ┆ V   │\n",
       "│ 28        ┆ 79        ┆ 8        ┆ 8        ┆ … ┆ 23.0 ┆ V   ┆ 0.0  ┆ N   │\n",
       "│ 28        ┆ 79        ┆ 8        ┆ 8        ┆ … ┆ 19.0 ┆ V   ┆ 13.0 ┆ V   │\n",
       "│ 28        ┆ 79        ┆ 8        ┆ 8        ┆ … ┆ 9.0  ┆ V   ┆ 0.0  ┆ N   │\n",
       "│ 28        ┆ 79        ┆ 8        ┆ 8        ┆ … ┆ 21.0 ┆ V   ┆ 30.0 ┆ V   │\n",
       "│ 28        ┆ 79        ┆ 8        ┆ 8        ┆ … ┆ 18.0 ┆ V   ┆ 15.0 ┆ V   │\n",
       "│ 28        ┆ 79        ┆ 8        ┆ 8        ┆ … ┆ 58.0 ┆ V   ┆ 0.0  ┆ N   │\n",
       "│ 28        ┆ 79        ┆ 8        ┆ 8        ┆ … ┆ 32.0 ┆ V   ┆ 34.0 ┆ V   │\n",
       "└───────────┴───────────┴──────────┴──────────┴───┴──────┴─────┴──────┴─────┘"
      ]
     },
     "execution_count": 5,
     "metadata": {},
     "output_type": "execute_result"
    }
   ],
   "source": [
    "dfp.filter( (pl.col('ESTACION')==8) & (pl.col('MAGNITUD')==8)).head(20)"
   ]
  },
  {
   "cell_type": "code",
   "execution_count": 6,
   "metadata": {},
   "outputs": [
    {
     "data": {
      "text/html": [
       "<div><style>\n",
       ".dataframe > thead > tr,\n",
       ".dataframe > tbody > tr {\n",
       "  text-align: right;\n",
       "  white-space: pre-wrap;\n",
       "}\n",
       "</style>\n",
       "<small>shape: (620, 9)</small><table border=\"1\" class=\"dataframe\"><thead><tr><th>PROVINCIA</th><th>MUNICIPIO</th><th>ESTACION</th><th>MAGNITUD</th><th>PUNTO_MUESTREO</th><th>ANO</th><th>MES</th><th>variable</th><th>value</th></tr><tr><td>i64</td><td>i64</td><td>i64</td><td>i64</td><td>str</td><td>i64</td><td>i64</td><td>str</td><td>str</td></tr></thead><tbody><tr><td>28</td><td>79</td><td>8</td><td>8</td><td>&quot;28079008_8_8&quot;</td><td>2024</td><td>1</td><td>&quot;D01&quot;</td><td>&quot;34.0&quot;</td></tr><tr><td>28</td><td>79</td><td>8</td><td>8</td><td>&quot;28079008_8_8&quot;</td><td>2024</td><td>2</td><td>&quot;D01&quot;</td><td>&quot;46.0&quot;</td></tr><tr><td>28</td><td>79</td><td>8</td><td>8</td><td>&quot;28079008_8_8&quot;</td><td>2024</td><td>3</td><td>&quot;D01&quot;</td><td>&quot;23.0&quot;</td></tr><tr><td>28</td><td>79</td><td>8</td><td>8</td><td>&quot;28079008_8_8&quot;</td><td>2024</td><td>4</td><td>&quot;D01&quot;</td><td>&quot;18.0&quot;</td></tr><tr><td>28</td><td>79</td><td>8</td><td>8</td><td>&quot;28079008_8_8&quot;</td><td>2024</td><td>5</td><td>&quot;D01&quot;</td><td>&quot;9.0&quot;</td></tr><tr><td>&hellip;</td><td>&hellip;</td><td>&hellip;</td><td>&hellip;</td><td>&hellip;</td><td>&hellip;</td><td>&hellip;</td><td>&hellip;</td><td>&hellip;</td></tr><tr><td>28</td><td>79</td><td>8</td><td>8</td><td>&quot;28079008_8_8&quot;</td><td>2024</td><td>6</td><td>&quot;V31&quot;</td><td>&quot;N&quot;</td></tr><tr><td>28</td><td>79</td><td>8</td><td>8</td><td>&quot;28079008_8_8&quot;</td><td>2024</td><td>7</td><td>&quot;V31&quot;</td><td>&quot;V&quot;</td></tr><tr><td>28</td><td>79</td><td>8</td><td>8</td><td>&quot;28079008_8_8&quot;</td><td>2024</td><td>8</td><td>&quot;V31&quot;</td><td>&quot;V&quot;</td></tr><tr><td>28</td><td>79</td><td>8</td><td>8</td><td>&quot;28079008_8_8&quot;</td><td>2024</td><td>9</td><td>&quot;V31&quot;</td><td>&quot;N&quot;</td></tr><tr><td>28</td><td>79</td><td>8</td><td>8</td><td>&quot;28079008_8_8&quot;</td><td>2024</td><td>10</td><td>&quot;V31&quot;</td><td>&quot;V&quot;</td></tr></tbody></table></div>"
      ],
      "text/plain": [
       "shape: (620, 9)\n",
       "┌───────────┬───────────┬──────────┬──────────┬───┬──────┬─────┬──────────┬───────┐\n",
       "│ PROVINCIA ┆ MUNICIPIO ┆ ESTACION ┆ MAGNITUD ┆ … ┆ ANO  ┆ MES ┆ variable ┆ value │\n",
       "│ ---       ┆ ---       ┆ ---      ┆ ---      ┆   ┆ ---  ┆ --- ┆ ---      ┆ ---   │\n",
       "│ i64       ┆ i64       ┆ i64      ┆ i64      ┆   ┆ i64  ┆ i64 ┆ str      ┆ str   │\n",
       "╞═══════════╪═══════════╪══════════╪══════════╪═══╪══════╪═════╪══════════╪═══════╡\n",
       "│ 28        ┆ 79        ┆ 8        ┆ 8        ┆ … ┆ 2024 ┆ 1   ┆ D01      ┆ 34.0  │\n",
       "│ 28        ┆ 79        ┆ 8        ┆ 8        ┆ … ┆ 2024 ┆ 2   ┆ D01      ┆ 46.0  │\n",
       "│ 28        ┆ 79        ┆ 8        ┆ 8        ┆ … ┆ 2024 ┆ 3   ┆ D01      ┆ 23.0  │\n",
       "│ 28        ┆ 79        ┆ 8        ┆ 8        ┆ … ┆ 2024 ┆ 4   ┆ D01      ┆ 18.0  │\n",
       "│ 28        ┆ 79        ┆ 8        ┆ 8        ┆ … ┆ 2024 ┆ 5   ┆ D01      ┆ 9.0   │\n",
       "│ …         ┆ …         ┆ …        ┆ …        ┆ … ┆ …    ┆ …   ┆ …        ┆ …     │\n",
       "│ 28        ┆ 79        ┆ 8        ┆ 8        ┆ … ┆ 2024 ┆ 6   ┆ V31      ┆ N     │\n",
       "│ 28        ┆ 79        ┆ 8        ┆ 8        ┆ … ┆ 2024 ┆ 7   ┆ V31      ┆ V     │\n",
       "│ 28        ┆ 79        ┆ 8        ┆ 8        ┆ … ┆ 2024 ┆ 8   ┆ V31      ┆ V     │\n",
       "│ 28        ┆ 79        ┆ 8        ┆ 8        ┆ … ┆ 2024 ┆ 9   ┆ V31      ┆ N     │\n",
       "│ 28        ┆ 79        ┆ 8        ┆ 8        ┆ … ┆ 2024 ┆ 10  ┆ V31      ┆ V     │\n",
       "└───────────┴───────────┴──────────┴──────────┴───┴──────┴─────┴──────────┴───────┘"
      ]
     },
     "execution_count": 6,
     "metadata": {},
     "output_type": "execute_result"
    }
   ],
   "source": [
    "dfp2 =dfp.filter( (pl.col('ESTACION')==8) & (pl.col('MAGNITUD')==8)).unpivot(index = ['PROVINCIA',\t'MUNICIPIO',\t'ESTACION',\t'MAGNITUD'\t,'PUNTO_MUESTREO',\t'ANO',\t'MES',])\n",
    "\n",
    "dfp2"
   ]
  },
  {
   "cell_type": "code",
   "execution_count": 7,
   "metadata": {},
   "outputs": [
    {
     "data": {
      "text/html": [
       "<div><style>\n",
       ".dataframe > thead > tr,\n",
       ".dataframe > tbody > tr {\n",
       "  text-align: right;\n",
       "  white-space: pre-wrap;\n",
       "}\n",
       "</style>\n",
       "<small>shape: (620, 11)</small><table border=\"1\" class=\"dataframe\"><thead><tr><th>PROVINCIA</th><th>MUNICIPIO</th><th>ESTACION</th><th>MAGNITUD</th><th>PUNTO_MUESTREO</th><th>ANO</th><th>MES</th><th>variable</th><th>value</th><th>NV</th><th>DIA</th></tr><tr><td>i64</td><td>i64</td><td>i64</td><td>i64</td><td>str</td><td>i64</td><td>i64</td><td>str</td><td>str</td><td>str</td><td>str</td></tr></thead><tbody><tr><td>28</td><td>79</td><td>8</td><td>8</td><td>&quot;28079008_8_8&quot;</td><td>2024</td><td>1</td><td>&quot;D01&quot;</td><td>&quot;34.0&quot;</td><td>&quot;D&quot;</td><td>&quot;01&quot;</td></tr><tr><td>28</td><td>79</td><td>8</td><td>8</td><td>&quot;28079008_8_8&quot;</td><td>2024</td><td>2</td><td>&quot;D01&quot;</td><td>&quot;46.0&quot;</td><td>&quot;D&quot;</td><td>&quot;01&quot;</td></tr><tr><td>28</td><td>79</td><td>8</td><td>8</td><td>&quot;28079008_8_8&quot;</td><td>2024</td><td>3</td><td>&quot;D01&quot;</td><td>&quot;23.0&quot;</td><td>&quot;D&quot;</td><td>&quot;01&quot;</td></tr><tr><td>28</td><td>79</td><td>8</td><td>8</td><td>&quot;28079008_8_8&quot;</td><td>2024</td><td>4</td><td>&quot;D01&quot;</td><td>&quot;18.0&quot;</td><td>&quot;D&quot;</td><td>&quot;01&quot;</td></tr><tr><td>28</td><td>79</td><td>8</td><td>8</td><td>&quot;28079008_8_8&quot;</td><td>2024</td><td>5</td><td>&quot;D01&quot;</td><td>&quot;9.0&quot;</td><td>&quot;D&quot;</td><td>&quot;01&quot;</td></tr><tr><td>&hellip;</td><td>&hellip;</td><td>&hellip;</td><td>&hellip;</td><td>&hellip;</td><td>&hellip;</td><td>&hellip;</td><td>&hellip;</td><td>&hellip;</td><td>&hellip;</td><td>&hellip;</td></tr><tr><td>28</td><td>79</td><td>8</td><td>8</td><td>&quot;28079008_8_8&quot;</td><td>2024</td><td>6</td><td>&quot;V31&quot;</td><td>&quot;N&quot;</td><td>&quot;V&quot;</td><td>&quot;31&quot;</td></tr><tr><td>28</td><td>79</td><td>8</td><td>8</td><td>&quot;28079008_8_8&quot;</td><td>2024</td><td>7</td><td>&quot;V31&quot;</td><td>&quot;V&quot;</td><td>&quot;V&quot;</td><td>&quot;31&quot;</td></tr><tr><td>28</td><td>79</td><td>8</td><td>8</td><td>&quot;28079008_8_8&quot;</td><td>2024</td><td>8</td><td>&quot;V31&quot;</td><td>&quot;V&quot;</td><td>&quot;V&quot;</td><td>&quot;31&quot;</td></tr><tr><td>28</td><td>79</td><td>8</td><td>8</td><td>&quot;28079008_8_8&quot;</td><td>2024</td><td>9</td><td>&quot;V31&quot;</td><td>&quot;N&quot;</td><td>&quot;V&quot;</td><td>&quot;31&quot;</td></tr><tr><td>28</td><td>79</td><td>8</td><td>8</td><td>&quot;28079008_8_8&quot;</td><td>2024</td><td>10</td><td>&quot;V31&quot;</td><td>&quot;V&quot;</td><td>&quot;V&quot;</td><td>&quot;31&quot;</td></tr></tbody></table></div>"
      ],
      "text/plain": [
       "shape: (620, 11)\n",
       "┌───────────┬───────────┬──────────┬──────────┬───┬──────────┬───────┬─────┬─────┐\n",
       "│ PROVINCIA ┆ MUNICIPIO ┆ ESTACION ┆ MAGNITUD ┆ … ┆ variable ┆ value ┆ NV  ┆ DIA │\n",
       "│ ---       ┆ ---       ┆ ---      ┆ ---      ┆   ┆ ---      ┆ ---   ┆ --- ┆ --- │\n",
       "│ i64       ┆ i64       ┆ i64      ┆ i64      ┆   ┆ str      ┆ str   ┆ str ┆ str │\n",
       "╞═══════════╪═══════════╪══════════╪══════════╪═══╪══════════╪═══════╪═════╪═════╡\n",
       "│ 28        ┆ 79        ┆ 8        ┆ 8        ┆ … ┆ D01      ┆ 34.0  ┆ D   ┆ 01  │\n",
       "│ 28        ┆ 79        ┆ 8        ┆ 8        ┆ … ┆ D01      ┆ 46.0  ┆ D   ┆ 01  │\n",
       "│ 28        ┆ 79        ┆ 8        ┆ 8        ┆ … ┆ D01      ┆ 23.0  ┆ D   ┆ 01  │\n",
       "│ 28        ┆ 79        ┆ 8        ┆ 8        ┆ … ┆ D01      ┆ 18.0  ┆ D   ┆ 01  │\n",
       "│ 28        ┆ 79        ┆ 8        ┆ 8        ┆ … ┆ D01      ┆ 9.0   ┆ D   ┆ 01  │\n",
       "│ …         ┆ …         ┆ …        ┆ …        ┆ … ┆ …        ┆ …     ┆ …   ┆ …   │\n",
       "│ 28        ┆ 79        ┆ 8        ┆ 8        ┆ … ┆ V31      ┆ N     ┆ V   ┆ 31  │\n",
       "│ 28        ┆ 79        ┆ 8        ┆ 8        ┆ … ┆ V31      ┆ V     ┆ V   ┆ 31  │\n",
       "│ 28        ┆ 79        ┆ 8        ┆ 8        ┆ … ┆ V31      ┆ V     ┆ V   ┆ 31  │\n",
       "│ 28        ┆ 79        ┆ 8        ┆ 8        ┆ … ┆ V31      ┆ N     ┆ V   ┆ 31  │\n",
       "│ 28        ┆ 79        ┆ 8        ┆ 8        ┆ … ┆ V31      ┆ V     ┆ V   ┆ 31  │\n",
       "└───────────┴───────────┴──────────┴──────────┴───┴──────────┴───────┴─────┴─────┘"
      ]
     },
     "execution_count": 7,
     "metadata": {},
     "output_type": "execute_result"
    }
   ],
   "source": [
    "dfp3 = dfp2.with_columns((pl.col('variable').str.slice(0,1)).alias('NV')).with_columns((pl.col('variable').str.slice(1)).alias('DIA'))\n",
    "dfp3"
   ]
  },
  {
   "cell_type": "code",
   "execution_count": 8,
   "metadata": {},
   "outputs": [
    {
     "data": {
      "text/html": [
       "<div><style>\n",
       ".dataframe > thead > tr,\n",
       ".dataframe > tbody > tr {\n",
       "  text-align: right;\n",
       "  white-space: pre-wrap;\n",
       "}\n",
       "</style>\n",
       "<small>shape: (310, 10)</small><table border=\"1\" class=\"dataframe\"><thead><tr><th>PROVINCIA</th><th>MUNICIPIO</th><th>ESTACION</th><th>MAGNITUD</th><th>PUNTO_MUESTREO</th><th>ANO</th><th>MES</th><th>DIA</th><th>D</th><th>V</th></tr><tr><td>i64</td><td>i64</td><td>i64</td><td>i64</td><td>str</td><td>i64</td><td>i64</td><td>str</td><td>str</td><td>str</td></tr></thead><tbody><tr><td>28</td><td>79</td><td>8</td><td>8</td><td>&quot;28079008_8_8&quot;</td><td>2024</td><td>1</td><td>&quot;01&quot;</td><td>&quot;34.0&quot;</td><td>&quot;V&quot;</td></tr><tr><td>28</td><td>79</td><td>8</td><td>8</td><td>&quot;28079008_8_8&quot;</td><td>2024</td><td>2</td><td>&quot;01&quot;</td><td>&quot;46.0&quot;</td><td>&quot;V&quot;</td></tr><tr><td>28</td><td>79</td><td>8</td><td>8</td><td>&quot;28079008_8_8&quot;</td><td>2024</td><td>3</td><td>&quot;01&quot;</td><td>&quot;23.0&quot;</td><td>&quot;V&quot;</td></tr><tr><td>28</td><td>79</td><td>8</td><td>8</td><td>&quot;28079008_8_8&quot;</td><td>2024</td><td>4</td><td>&quot;01&quot;</td><td>&quot;18.0&quot;</td><td>&quot;V&quot;</td></tr><tr><td>28</td><td>79</td><td>8</td><td>8</td><td>&quot;28079008_8_8&quot;</td><td>2024</td><td>5</td><td>&quot;01&quot;</td><td>&quot;9.0&quot;</td><td>&quot;V&quot;</td></tr><tr><td>&hellip;</td><td>&hellip;</td><td>&hellip;</td><td>&hellip;</td><td>&hellip;</td><td>&hellip;</td><td>&hellip;</td><td>&hellip;</td><td>&hellip;</td><td>&hellip;</td></tr><tr><td>28</td><td>79</td><td>8</td><td>8</td><td>&quot;28079008_8_8&quot;</td><td>2024</td><td>6</td><td>&quot;31&quot;</td><td>&quot;0.0&quot;</td><td>&quot;N&quot;</td></tr><tr><td>28</td><td>79</td><td>8</td><td>8</td><td>&quot;28079008_8_8&quot;</td><td>2024</td><td>7</td><td>&quot;31&quot;</td><td>&quot;30.0&quot;</td><td>&quot;V&quot;</td></tr><tr><td>28</td><td>79</td><td>8</td><td>8</td><td>&quot;28079008_8_8&quot;</td><td>2024</td><td>8</td><td>&quot;31&quot;</td><td>&quot;15.0&quot;</td><td>&quot;V&quot;</td></tr><tr><td>28</td><td>79</td><td>8</td><td>8</td><td>&quot;28079008_8_8&quot;</td><td>2024</td><td>9</td><td>&quot;31&quot;</td><td>&quot;0.0&quot;</td><td>&quot;N&quot;</td></tr><tr><td>28</td><td>79</td><td>8</td><td>8</td><td>&quot;28079008_8_8&quot;</td><td>2024</td><td>10</td><td>&quot;31&quot;</td><td>&quot;34.0&quot;</td><td>&quot;V&quot;</td></tr></tbody></table></div>"
      ],
      "text/plain": [
       "shape: (310, 10)\n",
       "┌───────────┬───────────┬──────────┬──────────┬───┬─────┬─────┬──────┬─────┐\n",
       "│ PROVINCIA ┆ MUNICIPIO ┆ ESTACION ┆ MAGNITUD ┆ … ┆ MES ┆ DIA ┆ D    ┆ V   │\n",
       "│ ---       ┆ ---       ┆ ---      ┆ ---      ┆   ┆ --- ┆ --- ┆ ---  ┆ --- │\n",
       "│ i64       ┆ i64       ┆ i64      ┆ i64      ┆   ┆ i64 ┆ str ┆ str  ┆ str │\n",
       "╞═══════════╪═══════════╪══════════╪══════════╪═══╪═════╪═════╪══════╪═════╡\n",
       "│ 28        ┆ 79        ┆ 8        ┆ 8        ┆ … ┆ 1   ┆ 01  ┆ 34.0 ┆ V   │\n",
       "│ 28        ┆ 79        ┆ 8        ┆ 8        ┆ … ┆ 2   ┆ 01  ┆ 46.0 ┆ V   │\n",
       "│ 28        ┆ 79        ┆ 8        ┆ 8        ┆ … ┆ 3   ┆ 01  ┆ 23.0 ┆ V   │\n",
       "│ 28        ┆ 79        ┆ 8        ┆ 8        ┆ … ┆ 4   ┆ 01  ┆ 18.0 ┆ V   │\n",
       "│ 28        ┆ 79        ┆ 8        ┆ 8        ┆ … ┆ 5   ┆ 01  ┆ 9.0  ┆ V   │\n",
       "│ …         ┆ …         ┆ …        ┆ …        ┆ … ┆ …   ┆ …   ┆ …    ┆ …   │\n",
       "│ 28        ┆ 79        ┆ 8        ┆ 8        ┆ … ┆ 6   ┆ 31  ┆ 0.0  ┆ N   │\n",
       "│ 28        ┆ 79        ┆ 8        ┆ 8        ┆ … ┆ 7   ┆ 31  ┆ 30.0 ┆ V   │\n",
       "│ 28        ┆ 79        ┆ 8        ┆ 8        ┆ … ┆ 8   ┆ 31  ┆ 15.0 ┆ V   │\n",
       "│ 28        ┆ 79        ┆ 8        ┆ 8        ┆ … ┆ 9   ┆ 31  ┆ 0.0  ┆ N   │\n",
       "│ 28        ┆ 79        ┆ 8        ┆ 8        ┆ … ┆ 10  ┆ 31  ┆ 34.0 ┆ V   │\n",
       "└───────────┴───────────┴──────────┴──────────┴───┴─────┴─────┴──────┴─────┘"
      ]
     },
     "execution_count": 8,
     "metadata": {},
     "output_type": "execute_result"
    }
   ],
   "source": [
    "dfp4 =(dfp3\n",
    "    .pivot(on='NV', values='value', index = ['PROVINCIA',\t'MUNICIPIO',\t'ESTACION',\t'MAGNITUD'\t,'PUNTO_MUESTREO',\t'ANO',\t'MES',\t'DIA',])\n",
    ")\n",
    "dfp4"
   ]
  },
  {
   "cell_type": "code",
   "execution_count": 9,
   "metadata": {},
   "outputs": [
    {
     "data": {
      "text/html": [
       "<div><style>\n",
       ".dataframe > thead > tr,\n",
       ".dataframe > tbody > tr {\n",
       "  text-align: right;\n",
       "  white-space: pre-wrap;\n",
       "}\n",
       "</style>\n",
       "<small>shape: (310, 10)</small><table border=\"1\" class=\"dataframe\"><thead><tr><th>PROVINCIA</th><th>MUNICIPIO</th><th>ESTACION</th><th>MAGNITUD</th><th>PUNTO_MUESTREO</th><th>ANO</th><th>MES</th><th>DIA</th><th>D</th><th>V</th></tr><tr><td>i64</td><td>i64</td><td>i64</td><td>i64</td><td>str</td><td>i64</td><td>i64</td><td>i64</td><td>f64</td><td>str</td></tr></thead><tbody><tr><td>28</td><td>79</td><td>8</td><td>8</td><td>&quot;28079008_8_8&quot;</td><td>2024</td><td>1</td><td>1</td><td>34.0</td><td>&quot;V&quot;</td></tr><tr><td>28</td><td>79</td><td>8</td><td>8</td><td>&quot;28079008_8_8&quot;</td><td>2024</td><td>2</td><td>1</td><td>46.0</td><td>&quot;V&quot;</td></tr><tr><td>28</td><td>79</td><td>8</td><td>8</td><td>&quot;28079008_8_8&quot;</td><td>2024</td><td>3</td><td>1</td><td>23.0</td><td>&quot;V&quot;</td></tr><tr><td>28</td><td>79</td><td>8</td><td>8</td><td>&quot;28079008_8_8&quot;</td><td>2024</td><td>4</td><td>1</td><td>18.0</td><td>&quot;V&quot;</td></tr><tr><td>28</td><td>79</td><td>8</td><td>8</td><td>&quot;28079008_8_8&quot;</td><td>2024</td><td>5</td><td>1</td><td>9.0</td><td>&quot;V&quot;</td></tr><tr><td>&hellip;</td><td>&hellip;</td><td>&hellip;</td><td>&hellip;</td><td>&hellip;</td><td>&hellip;</td><td>&hellip;</td><td>&hellip;</td><td>&hellip;</td><td>&hellip;</td></tr><tr><td>28</td><td>79</td><td>8</td><td>8</td><td>&quot;28079008_8_8&quot;</td><td>2024</td><td>6</td><td>31</td><td>0.0</td><td>&quot;N&quot;</td></tr><tr><td>28</td><td>79</td><td>8</td><td>8</td><td>&quot;28079008_8_8&quot;</td><td>2024</td><td>7</td><td>31</td><td>30.0</td><td>&quot;V&quot;</td></tr><tr><td>28</td><td>79</td><td>8</td><td>8</td><td>&quot;28079008_8_8&quot;</td><td>2024</td><td>8</td><td>31</td><td>15.0</td><td>&quot;V&quot;</td></tr><tr><td>28</td><td>79</td><td>8</td><td>8</td><td>&quot;28079008_8_8&quot;</td><td>2024</td><td>9</td><td>31</td><td>0.0</td><td>&quot;N&quot;</td></tr><tr><td>28</td><td>79</td><td>8</td><td>8</td><td>&quot;28079008_8_8&quot;</td><td>2024</td><td>10</td><td>31</td><td>34.0</td><td>&quot;V&quot;</td></tr></tbody></table></div>"
      ],
      "text/plain": [
       "shape: (310, 10)\n",
       "┌───────────┬───────────┬──────────┬──────────┬───┬─────┬─────┬──────┬─────┐\n",
       "│ PROVINCIA ┆ MUNICIPIO ┆ ESTACION ┆ MAGNITUD ┆ … ┆ MES ┆ DIA ┆ D    ┆ V   │\n",
       "│ ---       ┆ ---       ┆ ---      ┆ ---      ┆   ┆ --- ┆ --- ┆ ---  ┆ --- │\n",
       "│ i64       ┆ i64       ┆ i64      ┆ i64      ┆   ┆ i64 ┆ i64 ┆ f64  ┆ str │\n",
       "╞═══════════╪═══════════╪══════════╪══════════╪═══╪═════╪═════╪══════╪═════╡\n",
       "│ 28        ┆ 79        ┆ 8        ┆ 8        ┆ … ┆ 1   ┆ 1   ┆ 34.0 ┆ V   │\n",
       "│ 28        ┆ 79        ┆ 8        ┆ 8        ┆ … ┆ 2   ┆ 1   ┆ 46.0 ┆ V   │\n",
       "│ 28        ┆ 79        ┆ 8        ┆ 8        ┆ … ┆ 3   ┆ 1   ┆ 23.0 ┆ V   │\n",
       "│ 28        ┆ 79        ┆ 8        ┆ 8        ┆ … ┆ 4   ┆ 1   ┆ 18.0 ┆ V   │\n",
       "│ 28        ┆ 79        ┆ 8        ┆ 8        ┆ … ┆ 5   ┆ 1   ┆ 9.0  ┆ V   │\n",
       "│ …         ┆ …         ┆ …        ┆ …        ┆ … ┆ …   ┆ …   ┆ …    ┆ …   │\n",
       "│ 28        ┆ 79        ┆ 8        ┆ 8        ┆ … ┆ 6   ┆ 31  ┆ 0.0  ┆ N   │\n",
       "│ 28        ┆ 79        ┆ 8        ┆ 8        ┆ … ┆ 7   ┆ 31  ┆ 30.0 ┆ V   │\n",
       "│ 28        ┆ 79        ┆ 8        ┆ 8        ┆ … ┆ 8   ┆ 31  ┆ 15.0 ┆ V   │\n",
       "│ 28        ┆ 79        ┆ 8        ┆ 8        ┆ … ┆ 9   ┆ 31  ┆ 0.0  ┆ N   │\n",
       "│ 28        ┆ 79        ┆ 8        ┆ 8        ┆ … ┆ 10  ┆ 31  ┆ 34.0 ┆ V   │\n",
       "└───────────┴───────────┴──────────┴──────────┴───┴─────┴─────┴──────┴─────┘"
      ]
     },
     "execution_count": 9,
     "metadata": {},
     "output_type": "execute_result"
    }
   ],
   "source": [
    "dfp5 = dfp4.with_columns(D = dfp4['D'].cast(float) ).with_columns(DIA = dfp4['DIA'].cast(int))\n",
    "dfp5"
   ]
  },
  {
   "cell_type": "code",
   "execution_count": 10,
   "metadata": {},
   "outputs": [
    {
     "data": {
      "text/html": [
       "<script type=\"esms-options\">{\"shimMode\": true}</script><style>*[data-root-id],\n",
       "*[data-root-id] > * {\n",
       "  box-sizing: border-box;\n",
       "  font-family: var(--jp-ui-font-family);\n",
       "  font-size: var(--jp-ui-font-size1);\n",
       "  color: var(--vscode-editor-foreground, var(--jp-ui-font-color1));\n",
       "}\n",
       "\n",
       "/* Override VSCode background color */\n",
       ".cell-output-ipywidget-background:has(\n",
       "    > .cell-output-ipywidget-background > .lm-Widget > *[data-root-id]\n",
       "  ),\n",
       ".cell-output-ipywidget-background:has(> .lm-Widget > *[data-root-id]) {\n",
       "  background-color: transparent !important;\n",
       "}\n",
       "</style>"
      ]
     },
     "metadata": {},
     "output_type": "display_data"
    },
    {
     "data": {
      "application/javascript": "(function(root) {\n  function now() {\n    return new Date();\n  }\n\n  const force = true;\n  const py_version = '3.6.2'.replace('rc', '-rc.').replace('.dev', '-dev.');\n  const reloading = false;\n  const Bokeh = root.Bokeh;\n\n  // Set a timeout for this load but only if we are not already initializing\n  if (typeof (root._bokeh_timeout) === \"undefined\" || (force || !root._bokeh_is_initializing)) {\n    root._bokeh_timeout = Date.now() + 5000;\n    root._bokeh_failed_load = false;\n  }\n\n  function run_callbacks() {\n    try {\n      root._bokeh_onload_callbacks.forEach(function(callback) {\n        if (callback != null)\n          callback();\n      });\n    } finally {\n      delete root._bokeh_onload_callbacks;\n    }\n    console.debug(\"Bokeh: all callbacks have finished\");\n  }\n\n  function load_libs(css_urls, js_urls, js_modules, js_exports, callback) {\n    if (css_urls == null) css_urls = [];\n    if (js_urls == null) js_urls = [];\n    if (js_modules == null) js_modules = [];\n    if (js_exports == null) js_exports = {};\n\n    root._bokeh_onload_callbacks.push(callback);\n\n    if (root._bokeh_is_loading > 0) {\n      // Don't load bokeh if it is still initializing\n      console.debug(\"Bokeh: BokehJS is being loaded, scheduling callback at\", now());\n      return null;\n    } else if (js_urls.length === 0 && js_modules.length === 0 && Object.keys(js_exports).length === 0) {\n      // There is nothing to load\n      run_callbacks();\n      return null;\n    }\n\n    function on_load() {\n      root._bokeh_is_loading--;\n      if (root._bokeh_is_loading === 0) {\n        console.debug(\"Bokeh: all BokehJS libraries/stylesheets loaded\");\n        run_callbacks()\n      }\n    }\n    window._bokeh_on_load = on_load\n\n    function on_error(e) {\n      const src_el = e.srcElement\n      console.error(\"failed to load \" + (src_el.href || src_el.src));\n    }\n\n    const skip = [];\n    if (window.requirejs) {\n      window.requirejs.config({'packages': {}, 'paths': {}, 'shim': {}});\n      root._bokeh_is_loading = css_urls.length + 0;\n    } else {\n      root._bokeh_is_loading = css_urls.length + js_urls.length + js_modules.length + Object.keys(js_exports).length;\n    }\n\n    const existing_stylesheets = []\n    const links = document.getElementsByTagName('link')\n    for (let i = 0; i < links.length; i++) {\n      const link = links[i]\n      if (link.href != null) {\n        existing_stylesheets.push(link.href)\n      }\n    }\n    for (let i = 0; i < css_urls.length; i++) {\n      const url = css_urls[i];\n      const escaped = encodeURI(url)\n      if (existing_stylesheets.indexOf(escaped) !== -1) {\n        on_load()\n        continue;\n      }\n      const element = document.createElement(\"link\");\n      element.onload = on_load;\n      element.onerror = on_error;\n      element.rel = \"stylesheet\";\n      element.type = \"text/css\";\n      element.href = url;\n      console.debug(\"Bokeh: injecting link tag for BokehJS stylesheet: \", url);\n      document.body.appendChild(element);\n    }    var existing_scripts = []\n    const scripts = document.getElementsByTagName('script')\n    for (let i = 0; i < scripts.length; i++) {\n      var script = scripts[i]\n      if (script.src != null) {\n        existing_scripts.push(script.src)\n      }\n    }\n    for (let i = 0; i < js_urls.length; i++) {\n      const url = js_urls[i];\n      const escaped = encodeURI(url)\n      if (skip.indexOf(escaped) !== -1 || existing_scripts.indexOf(escaped) !== -1) {\n        if (!window.requirejs) {\n          on_load();\n        }\n        continue;\n      }\n      const element = document.createElement('script');\n      element.onload = on_load;\n      element.onerror = on_error;\n      element.async = false;\n      element.src = url;\n      console.debug(\"Bokeh: injecting script tag for BokehJS library: \", url);\n      document.head.appendChild(element);\n    }\n    for (let i = 0; i < js_modules.length; i++) {\n      const url = js_modules[i];\n      const escaped = encodeURI(url)\n      if (skip.indexOf(escaped) !== -1 || existing_scripts.indexOf(escaped) !== -1) {\n        if (!window.requirejs) {\n          on_load();\n        }\n        continue;\n      }\n      var element = document.createElement('script');\n      element.onload = on_load;\n      element.onerror = on_error;\n      element.async = false;\n      element.src = url;\n      element.type = \"module\";\n      console.debug(\"Bokeh: injecting script tag for BokehJS library: \", url);\n      document.head.appendChild(element);\n    }\n    for (const name in js_exports) {\n      const url = js_exports[name];\n      const escaped = encodeURI(url)\n      if (skip.indexOf(escaped) >= 0 || root[name] != null) {\n        if (!window.requirejs) {\n          on_load();\n        }\n        continue;\n      }\n      var element = document.createElement('script');\n      element.onerror = on_error;\n      element.async = false;\n      element.type = \"module\";\n      console.debug(\"Bokeh: injecting script tag for BokehJS library: \", url);\n      element.textContent = `\n      import ${name} from \"${url}\"\n      window.${name} = ${name}\n      window._bokeh_on_load()\n      `\n      document.head.appendChild(element);\n    }\n    if (!js_urls.length && !js_modules.length) {\n      on_load()\n    }\n  };\n\n  function inject_raw_css(css) {\n    const element = document.createElement(\"style\");\n    element.appendChild(document.createTextNode(css));\n    document.body.appendChild(element);\n  }\n\n  const js_urls = [\"https://cdn.holoviz.org/panel/1.5.4/dist/bundled/reactiveesm/es-module-shims@^1.10.0/dist/es-module-shims.min.js\", \"https://cdn.bokeh.org/bokeh/release/bokeh-3.6.2.min.js\", \"https://cdn.bokeh.org/bokeh/release/bokeh-gl-3.6.2.min.js\", \"https://cdn.bokeh.org/bokeh/release/bokeh-widgets-3.6.2.min.js\", \"https://cdn.bokeh.org/bokeh/release/bokeh-tables-3.6.2.min.js\", \"https://cdn.holoviz.org/panel/1.5.4/dist/panel.min.js\"];\n  const js_modules = [];\n  const js_exports = {};\n  const css_urls = [];\n  const inline_js = [    function(Bokeh) {\n      Bokeh.set_log_level(\"info\");\n    },\nfunction(Bokeh) {} // ensure no trailing comma for IE\n  ];\n\n  function run_inline_js() {\n    if ((root.Bokeh !== undefined) || (force === true)) {\n      for (let i = 0; i < inline_js.length; i++) {\n        try {\n          inline_js[i].call(root, root.Bokeh);\n        } catch(e) {\n          if (!reloading) {\n            throw e;\n          }\n        }\n      }\n      // Cache old bokeh versions\n      if (Bokeh != undefined && !reloading) {\n        var NewBokeh = root.Bokeh;\n        if (Bokeh.versions === undefined) {\n          Bokeh.versions = new Map();\n        }\n        if (NewBokeh.version !== Bokeh.version) {\n          Bokeh.versions.set(NewBokeh.version, NewBokeh)\n        }\n        root.Bokeh = Bokeh;\n      }\n    } else if (Date.now() < root._bokeh_timeout) {\n      setTimeout(run_inline_js, 100);\n    } else if (!root._bokeh_failed_load) {\n      console.log(\"Bokeh: BokehJS failed to load within specified timeout.\");\n      root._bokeh_failed_load = true;\n    }\n    root._bokeh_is_initializing = false\n  }\n\n  function load_or_wait() {\n    // Implement a backoff loop that tries to ensure we do not load multiple\n    // versions of Bokeh and its dependencies at the same time.\n    // In recent versions we use the root._bokeh_is_initializing flag\n    // to determine whether there is an ongoing attempt to initialize\n    // bokeh, however for backward compatibility we also try to ensure\n    // that we do not start loading a newer (Panel>=1.0 and Bokeh>3) version\n    // before older versions are fully initialized.\n    if (root._bokeh_is_initializing && Date.now() > root._bokeh_timeout) {\n      // If the timeout and bokeh was not successfully loaded we reset\n      // everything and try loading again\n      root._bokeh_timeout = Date.now() + 5000;\n      root._bokeh_is_initializing = false;\n      root._bokeh_onload_callbacks = undefined;\n      root._bokeh_is_loading = 0\n      console.log(\"Bokeh: BokehJS was loaded multiple times but one version failed to initialize.\");\n      load_or_wait();\n    } else if (root._bokeh_is_initializing || (typeof root._bokeh_is_initializing === \"undefined\" && root._bokeh_onload_callbacks !== undefined)) {\n      setTimeout(load_or_wait, 100);\n    } else {\n      root._bokeh_is_initializing = true\n      root._bokeh_onload_callbacks = []\n      const bokeh_loaded = root.Bokeh != null && (root.Bokeh.version === py_version || (root.Bokeh.versions !== undefined && root.Bokeh.versions.has(py_version)));\n      if (!reloading && !bokeh_loaded) {\n        if (root.Bokeh) {\n          root.Bokeh = undefined;\n        }\n        console.debug(\"Bokeh: BokehJS not loaded, scheduling load and callback at\", now());\n      }\n      load_libs(css_urls, js_urls, js_modules, js_exports, function() {\n        console.debug(\"Bokeh: BokehJS plotting callback run at\", now());\n        run_inline_js();\n      });\n    }\n  }\n  // Give older versions of the autoload script a head-start to ensure\n  // they initialize before we start loading newer version.\n  setTimeout(load_or_wait, 100)\n}(window));",
      "application/vnd.holoviews_load.v0+json": ""
     },
     "metadata": {},
     "output_type": "display_data"
    },
    {
     "data": {
      "application/javascript": "\nif ((window.PyViz === undefined) || (window.PyViz instanceof HTMLElement)) {\n  window.PyViz = {comms: {}, comm_status:{}, kernels:{}, receivers: {}, plot_index: []}\n}\n\n\n    function JupyterCommManager() {\n    }\n\n    JupyterCommManager.prototype.register_target = function(plot_id, comm_id, msg_handler) {\n      if (window.comm_manager || ((window.Jupyter !== undefined) && (Jupyter.notebook.kernel != null))) {\n        var comm_manager = window.comm_manager || Jupyter.notebook.kernel.comm_manager;\n        comm_manager.register_target(comm_id, function(comm) {\n          comm.on_msg(msg_handler);\n        });\n      } else if ((plot_id in window.PyViz.kernels) && (window.PyViz.kernels[plot_id])) {\n        window.PyViz.kernels[plot_id].registerCommTarget(comm_id, function(comm) {\n          comm.onMsg = msg_handler;\n        });\n      } else if (typeof google != 'undefined' && google.colab.kernel != null) {\n        google.colab.kernel.comms.registerTarget(comm_id, (comm) => {\n          var messages = comm.messages[Symbol.asyncIterator]();\n          function processIteratorResult(result) {\n            var message = result.value;\n            console.log(message)\n            var content = {data: message.data, comm_id};\n            var buffers = []\n            for (var buffer of message.buffers || []) {\n              buffers.push(new DataView(buffer))\n            }\n            var metadata = message.metadata || {};\n            var msg = {content, buffers, metadata}\n            msg_handler(msg);\n            return messages.next().then(processIteratorResult);\n          }\n          return messages.next().then(processIteratorResult);\n        })\n      }\n    }\n\n    JupyterCommManager.prototype.get_client_comm = function(plot_id, comm_id, msg_handler) {\n      if (comm_id in window.PyViz.comms) {\n        return window.PyViz.comms[comm_id];\n      } else if (window.comm_manager || ((window.Jupyter !== undefined) && (Jupyter.notebook.kernel != null))) {\n        var comm_manager = window.comm_manager || Jupyter.notebook.kernel.comm_manager;\n        var comm = comm_manager.new_comm(comm_id, {}, {}, {}, comm_id);\n        if (msg_handler) {\n          comm.on_msg(msg_handler);\n        }\n      } else if ((plot_id in window.PyViz.kernels) && (window.PyViz.kernels[plot_id])) {\n        var comm = window.PyViz.kernels[plot_id].connectToComm(comm_id);\n        comm.open();\n        if (msg_handler) {\n          comm.onMsg = msg_handler;\n        }\n      } else if (typeof google != 'undefined' && google.colab.kernel != null) {\n        var comm_promise = google.colab.kernel.comms.open(comm_id)\n        comm_promise.then((comm) => {\n          window.PyViz.comms[comm_id] = comm;\n          if (msg_handler) {\n            var messages = comm.messages[Symbol.asyncIterator]();\n            function processIteratorResult(result) {\n              var message = result.value;\n              var content = {data: message.data};\n              var metadata = message.metadata || {comm_id};\n              var msg = {content, metadata}\n              msg_handler(msg);\n              return messages.next().then(processIteratorResult);\n            }\n            return messages.next().then(processIteratorResult);\n          }\n        }) \n        var sendClosure = (data, metadata, buffers, disposeOnDone) => {\n          return comm_promise.then((comm) => {\n            comm.send(data, metadata, buffers, disposeOnDone);\n          });\n        };\n        var comm = {\n          send: sendClosure\n        };\n      }\n      window.PyViz.comms[comm_id] = comm;\n      return comm;\n    }\n    window.PyViz.comm_manager = new JupyterCommManager();\n    \n\n\nvar JS_MIME_TYPE = 'application/javascript';\nvar HTML_MIME_TYPE = 'text/html';\nvar EXEC_MIME_TYPE = 'application/vnd.holoviews_exec.v0+json';\nvar CLASS_NAME = 'output';\n\n/**\n * Render data to the DOM node\n */\nfunction render(props, node) {\n  var div = document.createElement(\"div\");\n  var script = document.createElement(\"script\");\n  node.appendChild(div);\n  node.appendChild(script);\n}\n\n/**\n * Handle when a new output is added\n */\nfunction handle_add_output(event, handle) {\n  var output_area = handle.output_area;\n  var output = handle.output;\n  if ((output.data == undefined) || (!output.data.hasOwnProperty(EXEC_MIME_TYPE))) {\n    return\n  }\n  var id = output.metadata[EXEC_MIME_TYPE][\"id\"];\n  var toinsert = output_area.element.find(\".\" + CLASS_NAME.split(' ')[0]);\n  if (id !== undefined) {\n    var nchildren = toinsert.length;\n    var html_node = toinsert[nchildren-1].children[0];\n    html_node.innerHTML = output.data[HTML_MIME_TYPE];\n    var scripts = [];\n    var nodelist = html_node.querySelectorAll(\"script\");\n    for (var i in nodelist) {\n      if (nodelist.hasOwnProperty(i)) {\n        scripts.push(nodelist[i])\n      }\n    }\n\n    scripts.forEach( function (oldScript) {\n      var newScript = document.createElement(\"script\");\n      var attrs = [];\n      var nodemap = oldScript.attributes;\n      for (var j in nodemap) {\n        if (nodemap.hasOwnProperty(j)) {\n          attrs.push(nodemap[j])\n        }\n      }\n      attrs.forEach(function(attr) { newScript.setAttribute(attr.name, attr.value) });\n      newScript.appendChild(document.createTextNode(oldScript.innerHTML));\n      oldScript.parentNode.replaceChild(newScript, oldScript);\n    });\n    if (JS_MIME_TYPE in output.data) {\n      toinsert[nchildren-1].children[1].textContent = output.data[JS_MIME_TYPE];\n    }\n    output_area._hv_plot_id = id;\n    if ((window.Bokeh !== undefined) && (id in Bokeh.index)) {\n      window.PyViz.plot_index[id] = Bokeh.index[id];\n    } else {\n      window.PyViz.plot_index[id] = null;\n    }\n  } else if (output.metadata[EXEC_MIME_TYPE][\"server_id\"] !== undefined) {\n    var bk_div = document.createElement(\"div\");\n    bk_div.innerHTML = output.data[HTML_MIME_TYPE];\n    var script_attrs = bk_div.children[0].attributes;\n    for (var i = 0; i < script_attrs.length; i++) {\n      toinsert[toinsert.length - 1].childNodes[1].setAttribute(script_attrs[i].name, script_attrs[i].value);\n    }\n    // store reference to server id on output_area\n    output_area._bokeh_server_id = output.metadata[EXEC_MIME_TYPE][\"server_id\"];\n  }\n}\n\n/**\n * Handle when an output is cleared or removed\n */\nfunction handle_clear_output(event, handle) {\n  var id = handle.cell.output_area._hv_plot_id;\n  var server_id = handle.cell.output_area._bokeh_server_id;\n  if (((id === undefined) || !(id in PyViz.plot_index)) && (server_id !== undefined)) { return; }\n  var comm = window.PyViz.comm_manager.get_client_comm(\"hv-extension-comm\", \"hv-extension-comm\", function () {});\n  if (server_id !== null) {\n    comm.send({event_type: 'server_delete', 'id': server_id});\n    return;\n  } else if (comm !== null) {\n    comm.send({event_type: 'delete', 'id': id});\n  }\n  delete PyViz.plot_index[id];\n  if ((window.Bokeh !== undefined) & (id in window.Bokeh.index)) {\n    var doc = window.Bokeh.index[id].model.document\n    doc.clear();\n    const i = window.Bokeh.documents.indexOf(doc);\n    if (i > -1) {\n      window.Bokeh.documents.splice(i, 1);\n    }\n  }\n}\n\n/**\n * Handle kernel restart event\n */\nfunction handle_kernel_cleanup(event, handle) {\n  delete PyViz.comms[\"hv-extension-comm\"];\n  window.PyViz.plot_index = {}\n}\n\n/**\n * Handle update_display_data messages\n */\nfunction handle_update_output(event, handle) {\n  handle_clear_output(event, {cell: {output_area: handle.output_area}})\n  handle_add_output(event, handle)\n}\n\nfunction register_renderer(events, OutputArea) {\n  function append_mime(data, metadata, element) {\n    // create a DOM node to render to\n    var toinsert = this.create_output_subarea(\n    metadata,\n    CLASS_NAME,\n    EXEC_MIME_TYPE\n    );\n    this.keyboard_manager.register_events(toinsert);\n    // Render to node\n    var props = {data: data, metadata: metadata[EXEC_MIME_TYPE]};\n    render(props, toinsert[0]);\n    element.append(toinsert);\n    return toinsert\n  }\n\n  events.on('output_added.OutputArea', handle_add_output);\n  events.on('output_updated.OutputArea', handle_update_output);\n  events.on('clear_output.CodeCell', handle_clear_output);\n  events.on('delete.Cell', handle_clear_output);\n  events.on('kernel_ready.Kernel', handle_kernel_cleanup);\n\n  OutputArea.prototype.register_mime_type(EXEC_MIME_TYPE, append_mime, {\n    safe: true,\n    index: 0\n  });\n}\n\nif (window.Jupyter !== undefined) {\n  try {\n    var events = require('base/js/events');\n    var OutputArea = require('notebook/js/outputarea').OutputArea;\n    if (OutputArea.prototype.mime_types().indexOf(EXEC_MIME_TYPE) == -1) {\n      register_renderer(events, OutputArea);\n    }\n  } catch(err) {\n  }\n}\n",
      "application/vnd.holoviews_load.v0+json": ""
     },
     "metadata": {},
     "output_type": "display_data"
    },
    {
     "data": {
      "application/vnd.holoviews_exec.v0+json": "",
      "text/html": [
       "<div id='e22e4505-afbc-4984-b08f-ac6ca24ea590'>\n",
       "  <div id=\"ed521634-084b-41a5-a203-3119a4780881\" data-root-id=\"e22e4505-afbc-4984-b08f-ac6ca24ea590\" style=\"display: contents;\"></div>\n",
       "</div>\n",
       "<script type=\"application/javascript\">(function(root) {\n",
       "  var docs_json = {\"3223b548-e63f-42d1-9546-dc8e59581aa7\":{\"version\":\"3.6.2\",\"title\":\"Bokeh Application\",\"roots\":[{\"type\":\"object\",\"name\":\"panel.models.browser.BrowserInfo\",\"id\":\"e22e4505-afbc-4984-b08f-ac6ca24ea590\"},{\"type\":\"object\",\"name\":\"panel.models.comm_manager.CommManager\",\"id\":\"10f58e33-7bbd-4bb5-9b8a-abe88f2b77db\",\"attributes\":{\"plot_id\":\"e22e4505-afbc-4984-b08f-ac6ca24ea590\",\"comm_id\":\"6c35114f4c6d4b499b002374c83d0ba0\",\"client_comm_id\":\"1c979c43497943248793a67ab88517cb\"}}],\"defs\":[{\"type\":\"model\",\"name\":\"ReactiveHTML1\"},{\"type\":\"model\",\"name\":\"FlexBox1\",\"properties\":[{\"name\":\"align_content\",\"kind\":\"Any\",\"default\":\"flex-start\"},{\"name\":\"align_items\",\"kind\":\"Any\",\"default\":\"flex-start\"},{\"name\":\"flex_direction\",\"kind\":\"Any\",\"default\":\"row\"},{\"name\":\"flex_wrap\",\"kind\":\"Any\",\"default\":\"wrap\"},{\"name\":\"gap\",\"kind\":\"Any\",\"default\":\"\"},{\"name\":\"justify_content\",\"kind\":\"Any\",\"default\":\"flex-start\"}]},{\"type\":\"model\",\"name\":\"FloatPanel1\",\"properties\":[{\"name\":\"config\",\"kind\":\"Any\",\"default\":{\"type\":\"map\"}},{\"name\":\"contained\",\"kind\":\"Any\",\"default\":true},{\"name\":\"position\",\"kind\":\"Any\",\"default\":\"right-top\"},{\"name\":\"offsetx\",\"kind\":\"Any\",\"default\":null},{\"name\":\"offsety\",\"kind\":\"Any\",\"default\":null},{\"name\":\"theme\",\"kind\":\"Any\",\"default\":\"primary\"},{\"name\":\"status\",\"kind\":\"Any\",\"default\":\"normalized\"}]},{\"type\":\"model\",\"name\":\"GridStack1\",\"properties\":[{\"name\":\"mode\",\"kind\":\"Any\",\"default\":\"warn\"},{\"name\":\"ncols\",\"kind\":\"Any\",\"default\":null},{\"name\":\"nrows\",\"kind\":\"Any\",\"default\":null},{\"name\":\"allow_resize\",\"kind\":\"Any\",\"default\":true},{\"name\":\"allow_drag\",\"kind\":\"Any\",\"default\":true},{\"name\":\"state\",\"kind\":\"Any\",\"default\":[]}]},{\"type\":\"model\",\"name\":\"drag1\",\"properties\":[{\"name\":\"slider_width\",\"kind\":\"Any\",\"default\":5},{\"name\":\"slider_color\",\"kind\":\"Any\",\"default\":\"black\"},{\"name\":\"value\",\"kind\":\"Any\",\"default\":50}]},{\"type\":\"model\",\"name\":\"click1\",\"properties\":[{\"name\":\"terminal_output\",\"kind\":\"Any\",\"default\":\"\"},{\"name\":\"debug_name\",\"kind\":\"Any\",\"default\":\"\"},{\"name\":\"clears\",\"kind\":\"Any\",\"default\":0}]},{\"type\":\"model\",\"name\":\"FastWrapper1\",\"properties\":[{\"name\":\"object\",\"kind\":\"Any\",\"default\":null},{\"name\":\"style\",\"kind\":\"Any\",\"default\":null}]},{\"type\":\"model\",\"name\":\"NotificationAreaBase1\",\"properties\":[{\"name\":\"js_events\",\"kind\":\"Any\",\"default\":{\"type\":\"map\"}},{\"name\":\"position\",\"kind\":\"Any\",\"default\":\"bottom-right\"},{\"name\":\"_clear\",\"kind\":\"Any\",\"default\":0}]},{\"type\":\"model\",\"name\":\"NotificationArea1\",\"properties\":[{\"name\":\"js_events\",\"kind\":\"Any\",\"default\":{\"type\":\"map\"}},{\"name\":\"notifications\",\"kind\":\"Any\",\"default\":[]},{\"name\":\"position\",\"kind\":\"Any\",\"default\":\"bottom-right\"},{\"name\":\"_clear\",\"kind\":\"Any\",\"default\":0},{\"name\":\"types\",\"kind\":\"Any\",\"default\":[{\"type\":\"map\",\"entries\":[[\"type\",\"warning\"],[\"background\",\"#ffc107\"],[\"icon\",{\"type\":\"map\",\"entries\":[[\"className\",\"fas fa-exclamation-triangle\"],[\"tagName\",\"i\"],[\"color\",\"white\"]]}]]},{\"type\":\"map\",\"entries\":[[\"type\",\"info\"],[\"background\",\"#007bff\"],[\"icon\",{\"type\":\"map\",\"entries\":[[\"className\",\"fas fa-info-circle\"],[\"tagName\",\"i\"],[\"color\",\"white\"]]}]]}]}]},{\"type\":\"model\",\"name\":\"Notification\",\"properties\":[{\"name\":\"background\",\"kind\":\"Any\",\"default\":null},{\"name\":\"duration\",\"kind\":\"Any\",\"default\":3000},{\"name\":\"icon\",\"kind\":\"Any\",\"default\":null},{\"name\":\"message\",\"kind\":\"Any\",\"default\":\"\"},{\"name\":\"notification_type\",\"kind\":\"Any\",\"default\":null},{\"name\":\"_destroyed\",\"kind\":\"Any\",\"default\":false}]},{\"type\":\"model\",\"name\":\"TemplateActions1\",\"properties\":[{\"name\":\"open_modal\",\"kind\":\"Any\",\"default\":0},{\"name\":\"close_modal\",\"kind\":\"Any\",\"default\":0}]},{\"type\":\"model\",\"name\":\"BootstrapTemplateActions1\",\"properties\":[{\"name\":\"open_modal\",\"kind\":\"Any\",\"default\":0},{\"name\":\"close_modal\",\"kind\":\"Any\",\"default\":0}]},{\"type\":\"model\",\"name\":\"TemplateEditor1\",\"properties\":[{\"name\":\"layout\",\"kind\":\"Any\",\"default\":[]}]},{\"type\":\"model\",\"name\":\"MaterialTemplateActions1\",\"properties\":[{\"name\":\"open_modal\",\"kind\":\"Any\",\"default\":0},{\"name\":\"close_modal\",\"kind\":\"Any\",\"default\":0}]},{\"type\":\"model\",\"name\":\"ReactiveESM1\",\"properties\":[{\"name\":\"esm_constants\",\"kind\":\"Any\",\"default\":{\"type\":\"map\"}}]},{\"type\":\"model\",\"name\":\"JSComponent1\",\"properties\":[{\"name\":\"esm_constants\",\"kind\":\"Any\",\"default\":{\"type\":\"map\"}}]},{\"type\":\"model\",\"name\":\"ReactComponent1\",\"properties\":[{\"name\":\"esm_constants\",\"kind\":\"Any\",\"default\":{\"type\":\"map\"}}]},{\"type\":\"model\",\"name\":\"AnyWidgetComponent1\",\"properties\":[{\"name\":\"esm_constants\",\"kind\":\"Any\",\"default\":{\"type\":\"map\"}}]},{\"type\":\"model\",\"name\":\"request_value1\",\"properties\":[{\"name\":\"fill\",\"kind\":\"Any\",\"default\":\"none\"},{\"name\":\"_synced\",\"kind\":\"Any\",\"default\":null},{\"name\":\"_request_sync\",\"kind\":\"Any\",\"default\":0}]}]}};\n",
       "  var render_items = [{\"docid\":\"3223b548-e63f-42d1-9546-dc8e59581aa7\",\"roots\":{\"e22e4505-afbc-4984-b08f-ac6ca24ea590\":\"ed521634-084b-41a5-a203-3119a4780881\"},\"root_ids\":[\"e22e4505-afbc-4984-b08f-ac6ca24ea590\"]}];\n",
       "  var docs = Object.values(docs_json)\n",
       "  if (!docs) {\n",
       "    return\n",
       "  }\n",
       "  const py_version = docs[0].version.replace('rc', '-rc.').replace('.dev', '-dev.')\n",
       "  async function embed_document(root) {\n",
       "    var Bokeh = get_bokeh(root)\n",
       "    await Bokeh.embed.embed_items_notebook(docs_json, render_items);\n",
       "    for (const render_item of render_items) {\n",
       "      for (const root_id of render_item.root_ids) {\n",
       "\tconst id_el = document.getElementById(root_id)\n",
       "\tif (id_el.children.length && id_el.children[0].hasAttribute('data-root-id')) {\n",
       "\t  const root_el = id_el.children[0]\n",
       "\t  root_el.id = root_el.id + '-rendered'\n",
       "\t  for (const child of root_el.children) {\n",
       "            // Ensure JupyterLab does not capture keyboard shortcuts\n",
       "            // see: https://jupyterlab.readthedocs.io/en/4.1.x/extension/notebook.html#keyboard-interaction-model\n",
       "\t    child.setAttribute('data-lm-suppress-shortcuts', 'true')\n",
       "\t  }\n",
       "\t}\n",
       "      }\n",
       "    }\n",
       "  }\n",
       "  function get_bokeh(root) {\n",
       "    if (root.Bokeh === undefined) {\n",
       "      return null\n",
       "    } else if (root.Bokeh.version !== py_version) {\n",
       "      if (root.Bokeh.versions === undefined || !root.Bokeh.versions.has(py_version)) {\n",
       "\treturn null\n",
       "      }\n",
       "      return root.Bokeh.versions.get(py_version);\n",
       "    } else if (root.Bokeh.version === py_version) {\n",
       "      return root.Bokeh\n",
       "    }\n",
       "    return null\n",
       "  }\n",
       "  function is_loaded(root) {\n",
       "    var Bokeh = get_bokeh(root)\n",
       "    return (Bokeh != null && Bokeh.Panel !== undefined)\n",
       "  }\n",
       "  if (is_loaded(root)) {\n",
       "    embed_document(root);\n",
       "  } else {\n",
       "    var attempts = 0;\n",
       "    var timer = setInterval(function(root) {\n",
       "      if (is_loaded(root)) {\n",
       "        clearInterval(timer);\n",
       "        embed_document(root);\n",
       "      } else if (document.readyState == \"complete\") {\n",
       "        attempts++;\n",
       "        if (attempts > 200) {\n",
       "          clearInterval(timer);\n",
       "\t  var Bokeh = get_bokeh(root)\n",
       "\t  if (Bokeh == null || Bokeh.Panel == null) {\n",
       "            console.warn(\"Panel: ERROR: Unable to run Panel code because Bokeh or Panel library is missing\");\n",
       "\t  } else {\n",
       "\t    console.warn(\"Panel: WARNING: Attempting to render but not all required libraries could be resolved.\")\n",
       "\t    embed_document(root)\n",
       "\t  }\n",
       "        }\n",
       "      }\n",
       "    }, 25, root)\n",
       "  }\n",
       "})(window);</script>"
      ]
     },
     "metadata": {
      "application/vnd.holoviews_exec.v0+json": {
       "id": "e22e4505-afbc-4984-b08f-ac6ca24ea590"
      }
     },
     "output_type": "display_data"
    },
    {
     "data": {},
     "metadata": {},
     "output_type": "display_data"
    },
    {
     "data": {
      "application/vnd.holoviews_exec.v0+json": "",
      "text/html": [
       "<div id='334e15ac-cb5d-434f-87d9-afe99e34ed12'>\n",
       "  <div id=\"ed277a22-25f6-47c2-8630-f60d1f0c3ac0\" data-root-id=\"334e15ac-cb5d-434f-87d9-afe99e34ed12\" style=\"display: contents;\"></div>\n",
       "</div>\n",
       "<script type=\"application/javascript\">(function(root) {\n",
       "  var docs_json = {\"07c9d905-085b-43f0-8a9f-7dd71741a962\":{\"version\":\"3.6.2\",\"title\":\"Bokeh Application\",\"roots\":[{\"type\":\"object\",\"name\":\"Row\",\"id\":\"334e15ac-cb5d-434f-87d9-afe99e34ed12\",\"attributes\":{\"name\":\"Row00279\",\"tags\":[\"embedded\"],\"stylesheets\":[\"\\n:host(.pn-loading):before, .pn-loading:before {\\n  background-color: #c3c3c3;\\n  mask-size: auto calc(min(50%, 400px));\\n  -webkit-mask-size: auto calc(min(50%, 400px));\\n}\",{\"type\":\"object\",\"name\":\"ImportedStyleSheet\",\"id\":\"4700379f-b825-4b15-ab49-1cf388544539\",\"attributes\":{\"url\":\"https://cdn.holoviz.org/panel/1.5.4/dist/css/loading.css\"}},{\"type\":\"object\",\"name\":\"ImportedStyleSheet\",\"id\":\"34791311-27f9-4d5b-9f1c-04f0742eea95\",\"attributes\":{\"url\":\"https://cdn.holoviz.org/panel/1.5.4/dist/css/listpanel.css\"}},{\"type\":\"object\",\"name\":\"ImportedStyleSheet\",\"id\":\"b875e6b1-425a-4251-8f75-c50b48729cdf\",\"attributes\":{\"url\":\"https://cdn.holoviz.org/panel/1.5.4/dist/bundled/theme/default.css\"}},{\"type\":\"object\",\"name\":\"ImportedStyleSheet\",\"id\":\"3436716a-3a37-4225-a6b2-67f44687766c\",\"attributes\":{\"url\":\"https://cdn.holoviz.org/panel/1.5.4/dist/bundled/theme/native.css\"}}],\"min_width\":700,\"margin\":0,\"sizing_mode\":\"stretch_width\",\"align\":\"start\",\"children\":[{\"type\":\"object\",\"name\":\"Spacer\",\"id\":\"39ebad45-8e19-4fa0-bbb7-ceadc9751a04\",\"attributes\":{\"name\":\"HSpacer00283\",\"stylesheets\":[\"\\n:host(.pn-loading):before, .pn-loading:before {\\n  background-color: #c3c3c3;\\n  mask-size: auto calc(min(50%, 400px));\\n  -webkit-mask-size: auto calc(min(50%, 400px));\\n}\",{\"id\":\"4700379f-b825-4b15-ab49-1cf388544539\"},{\"id\":\"b875e6b1-425a-4251-8f75-c50b48729cdf\"},{\"id\":\"3436716a-3a37-4225-a6b2-67f44687766c\"}],\"margin\":0,\"sizing_mode\":\"stretch_width\",\"align\":\"start\"}},{\"type\":\"object\",\"name\":\"Figure\",\"id\":\"fc4cf081-6b27-4616-a846-27e3c1680331\",\"attributes\":{\"width\":700,\"height\":300,\"margin\":[5,10],\"sizing_mode\":\"fixed\",\"align\":\"start\",\"x_range\":{\"type\":\"object\",\"name\":\"Range1d\",\"id\":\"3b20566e-7ea2-4a91-9027-7557624a8669\",\"attributes\":{\"name\":\"DIA\",\"tags\":[[[\"DIA\",null]],[]],\"start\":1.0,\"end\":31.0,\"reset_start\":1.0,\"reset_end\":31.0}},\"y_range\":{\"type\":\"object\",\"name\":\"Range1d\",\"id\":\"475f369b-aa66-4c96-99c9-d5597b186b42\",\"attributes\":{\"name\":\"D\",\"tags\":[[[\"D\",null]],{\"type\":\"map\",\"entries\":[[\"invert_yaxis\",false],[\"autorange\",false]]}],\"start\":-6.2,\"end\":68.2,\"reset_start\":-6.2,\"reset_end\":68.2}},\"x_scale\":{\"type\":\"object\",\"name\":\"LinearScale\",\"id\":\"04e4354c-d152-4e32-ba4d-ff5794126e3e\"},\"y_scale\":{\"type\":\"object\",\"name\":\"LinearScale\",\"id\":\"61216c5a-af13-432a-836e-18886a9d3505\"},\"title\":{\"type\":\"object\",\"name\":\"Title\",\"id\":\"81453a7c-facf-4972-b1b2-c3d5c2d6cb0d\",\"attributes\":{\"text_color\":\"black\",\"text_font_size\":\"12pt\"}},\"renderers\":[{\"type\":\"object\",\"name\":\"GlyphRenderer\",\"id\":\"dc811306-56e6-4a8f-9a89-1ce42a10a963\",\"attributes\":{\"data_source\":{\"type\":\"object\",\"name\":\"ColumnDataSource\",\"id\":\"e26e0a18-c6aa-4e33-8aac-67b450527f50\",\"attributes\":{\"selected\":{\"type\":\"object\",\"name\":\"Selection\",\"id\":\"53258158-f959-4010-a360-96a3f2d95523\",\"attributes\":{\"indices\":[],\"line_indices\":[]}},\"selection_policy\":{\"type\":\"object\",\"name\":\"UnionRenderers\",\"id\":\"b9efd1cc-618f-4d83-b15c-96415fadb871\"},\"data\":{\"type\":\"map\",\"entries\":[[\"DIA\",{\"type\":\"ndarray\",\"array\":{\"type\":\"bytes\",\"data\":\"AQAAAAEAAAABAAAAAQAAAAEAAAABAAAAAQAAAAEAAAABAAAAAQAAAAIAAAACAAAAAgAAAAIAAAACAAAAAgAAAAIAAAACAAAAAgAAAAIAAAADAAAAAwAAAAMAAAADAAAAAwAAAAMAAAADAAAAAwAAAAMAAAADAAAABAAAAAQAAAAEAAAABAAAAAQAAAAEAAAABAAAAAQAAAAEAAAABAAAAAUAAAAFAAAABQAAAAUAAAAFAAAABQAAAAUAAAAFAAAABQAAAAUAAAAGAAAABgAAAAYAAAAGAAAABgAAAAYAAAAGAAAABgAAAAYAAAAGAAAABwAAAAcAAAAHAAAABwAAAAcAAAAHAAAABwAAAAcAAAAHAAAABwAAAAgAAAAIAAAACAAAAAgAAAAIAAAACAAAAAgAAAAIAAAACAAAAAgAAAAJAAAACQAAAAkAAAAJAAAACQAAAAkAAAAJAAAACQAAAAkAAAAJAAAACgAAAAoAAAAKAAAACgAAAAoAAAAKAAAACgAAAAoAAAAKAAAACgAAAAsAAAALAAAACwAAAAsAAAALAAAACwAAAAsAAAALAAAACwAAAAsAAAAMAAAADAAAAAwAAAAMAAAADAAAAAwAAAAMAAAADAAAAAwAAAAMAAAADQAAAA0AAAANAAAADQAAAA0AAAANAAAADQAAAA0AAAANAAAADQAAAA4AAAAOAAAADgAAAA4AAAAOAAAADgAAAA4AAAAOAAAADgAAAA4AAAAPAAAADwAAAA8AAAAPAAAADwAAAA8AAAAPAAAADwAAAA8AAAAPAAAAEAAAABAAAAAQAAAAEAAAABAAAAAQAAAAEAAAABAAAAAQAAAAEAAAABEAAAARAAAAEQAAABEAAAARAAAAEQAAABEAAAARAAAAEQAAABEAAAASAAAAEgAAABIAAAASAAAAEgAAABIAAAASAAAAEgAAABIAAAASAAAAEwAAABMAAAATAAAAEwAAABMAAAATAAAAEwAAABMAAAATAAAAEwAAABQAAAAUAAAAFAAAABQAAAAUAAAAFAAAABQAAAAUAAAAFAAAABQAAAAVAAAAFQAAABUAAAAVAAAAFQAAABUAAAAVAAAAFQAAABUAAAAVAAAAFgAAABYAAAAWAAAAFgAAABYAAAAWAAAAFgAAABYAAAAWAAAAFgAAABcAAAAXAAAAFwAAABcAAAAXAAAAFwAAABcAAAAXAAAAFwAAABcAAAAYAAAAGAAAABgAAAAYAAAAGAAAABgAAAAYAAAAGAAAABgAAAAYAAAAGQAAABkAAAAZAAAAGQAAABkAAAAZAAAAGQAAABkAAAAZAAAAGQAAABoAAAAaAAAAGgAAABoAAAAaAAAAGgAAABoAAAAaAAAAGgAAABoAAAAbAAAAGwAAABsAAAAbAAAAGwAAABsAAAAbAAAAGwAAABsAAAAbAAAAHAAAABwAAAAcAAAAHAAAABwAAAAcAAAAHAAAABwAAAAcAAAAHAAAAB0AAAAdAAAAHQAAAB0AAAAdAAAAHQAAAB0AAAAdAAAAHQAAAB0AAAAeAAAAHgAAAB4AAAAeAAAAHgAAAB4AAAAeAAAAHgAAAB4AAAAeAAAAHwAAAB8AAAAfAAAAHwAAAB8AAAAfAAAAHwAAAB8AAAAfAAAAHwAAAA==\"},\"shape\":[310],\"dtype\":\"int32\",\"order\":\"little\"}],[\"D\",{\"type\":\"ndarray\",\"array\":{\"type\":\"bytes\",\"data\":\"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\"},\"shape\":[310],\"dtype\":\"float64\",\"order\":\"little\"}]]}}},\"view\":{\"type\":\"object\",\"name\":\"CDSView\",\"id\":\"f4359433-a02d-4cd0-aaa5-dab68de97b47\",\"attributes\":{\"filter\":{\"type\":\"object\",\"name\":\"AllIndices\",\"id\":\"444fe676-5f63-4634-8147-cedc64feb004\"}}},\"glyph\":{\"type\":\"object\",\"name\":\"Line\",\"id\":\"c897d347-4d20-43f5-9c52-eeb1c3125705\",\"attributes\":{\"tags\":[\"apply_ranges\"],\"x\":{\"type\":\"field\",\"field\":\"DIA\"},\"y\":{\"type\":\"field\",\"field\":\"D\"},\"line_color\":\"#30a2da\",\"line_width\":2}},\"selection_glyph\":{\"type\":\"object\",\"name\":\"Line\",\"id\":\"366638b1-309d-4b64-876f-c6be1c97c07b\",\"attributes\":{\"tags\":[\"apply_ranges\"],\"x\":{\"type\":\"field\",\"field\":\"DIA\"},\"y\":{\"type\":\"field\",\"field\":\"D\"},\"line_color\":\"#30a2da\",\"line_width\":2}},\"nonselection_glyph\":{\"type\":\"object\",\"name\":\"Line\",\"id\":\"0c93a990-fdd7-4144-916d-97067d04829e\",\"attributes\":{\"tags\":[\"apply_ranges\"],\"x\":{\"type\":\"field\",\"field\":\"DIA\"},\"y\":{\"type\":\"field\",\"field\":\"D\"},\"line_color\":\"#30a2da\",\"line_alpha\":0.1,\"line_width\":2}},\"muted_glyph\":{\"type\":\"object\",\"name\":\"Line\",\"id\":\"d877fe8a-bb81-4286-b8b3-99f64a30880c\",\"attributes\":{\"tags\":[\"apply_ranges\"],\"x\":{\"type\":\"field\",\"field\":\"DIA\"},\"y\":{\"type\":\"field\",\"field\":\"D\"},\"line_color\":\"#30a2da\",\"line_alpha\":0.2,\"line_width\":2}}}}],\"toolbar\":{\"type\":\"object\",\"name\":\"Toolbar\",\"id\":\"c7aa8813-7277-4ca5-ba57-ae9598531d20\",\"attributes\":{\"tools\":[{\"type\":\"object\",\"name\":\"WheelZoomTool\",\"id\":\"87555b80-ee15-41bc-b2fb-bbc812356268\",\"attributes\":{\"tags\":[\"hv_created\"],\"renderers\":\"auto\",\"zoom_together\":\"none\"}},{\"type\":\"object\",\"name\":\"HoverTool\",\"id\":\"d0621e42-e418-487e-ad42-72005e35a71b\",\"attributes\":{\"tags\":[\"hv_created\"],\"renderers\":[{\"id\":\"dc811306-56e6-4a8f-9a89-1ce42a10a963\"}],\"tooltips\":[[\"DIA\",\"@{DIA}\"],[\"D\",\"@{D}\"]]}},{\"type\":\"object\",\"name\":\"SaveTool\",\"id\":\"cdf5cca5-e1dd-4cfa-992d-26962d0ed978\"},{\"type\":\"object\",\"name\":\"PanTool\",\"id\":\"1535341f-6d79-41b3-b6de-9fa425cf299b\"},{\"type\":\"object\",\"name\":\"BoxZoomTool\",\"id\":\"9c8199ab-4e36-4df5-8d37-9e8d3df3c945\",\"attributes\":{\"overlay\":{\"type\":\"object\",\"name\":\"BoxAnnotation\",\"id\":\"4e7e6d7d-2de6-4c1f-9634-d2b2e769997b\",\"attributes\":{\"syncable\":false,\"line_color\":\"black\",\"line_alpha\":1.0,\"line_width\":2,\"line_dash\":[4,4],\"fill_color\":\"lightgrey\",\"fill_alpha\":0.5,\"level\":\"overlay\",\"visible\":false,\"left\":{\"type\":\"number\",\"value\":\"nan\"},\"right\":{\"type\":\"number\",\"value\":\"nan\"},\"top\":{\"type\":\"number\",\"value\":\"nan\"},\"bottom\":{\"type\":\"number\",\"value\":\"nan\"},\"left_units\":\"canvas\",\"right_units\":\"canvas\",\"top_units\":\"canvas\",\"bottom_units\":\"canvas\",\"handles\":{\"type\":\"object\",\"name\":\"BoxInteractionHandles\",\"id\":\"da4b08fc-647f-4bf8-8ca0-a21aa44d47a6\",\"attributes\":{\"all\":{\"type\":\"object\",\"name\":\"AreaVisuals\",\"id\":\"40bee412-168b-4577-b194-c54a2ab97818\",\"attributes\":{\"fill_color\":\"white\",\"hover_fill_color\":\"lightgray\"}}}}}}}},{\"type\":\"object\",\"name\":\"ResetTool\",\"id\":\"b655540f-e1a0-459e-a404-151ba289a9f8\"}],\"active_drag\":{\"id\":\"1535341f-6d79-41b3-b6de-9fa425cf299b\"},\"active_scroll\":{\"id\":\"87555b80-ee15-41bc-b2fb-bbc812356268\"}}},\"left\":[{\"type\":\"object\",\"name\":\"LinearAxis\",\"id\":\"aa4ede50-0a4f-465f-ab2b-7c3b3018605c\",\"attributes\":{\"ticker\":{\"type\":\"object\",\"name\":\"BasicTicker\",\"id\":\"a2e2f585-529e-468d-8d1f-60df82a72f28\",\"attributes\":{\"mantissas\":[1,2,5]}},\"formatter\":{\"type\":\"object\",\"name\":\"BasicTickFormatter\",\"id\":\"5c9b6789-bcbd-4609-a20c-7167ce6da181\"},\"axis_label\":\"D\",\"major_label_policy\":{\"type\":\"object\",\"name\":\"AllLabels\",\"id\":\"82d1ecb4-c088-44f5-aefc-d158891b7fe1\"}}}],\"below\":[{\"type\":\"object\",\"name\":\"LinearAxis\",\"id\":\"540fd8bc-de22-48b3-8c0d-7ce87233c243\",\"attributes\":{\"ticker\":{\"type\":\"object\",\"name\":\"BasicTicker\",\"id\":\"a767c901-0b3b-49a9-9521-8b29380cae12\",\"attributes\":{\"mantissas\":[1,2,5]}},\"formatter\":{\"type\":\"object\",\"name\":\"BasicTickFormatter\",\"id\":\"d11fddb5-c374-4c77-b74c-bcee2d47c13d\"},\"axis_label\":\"DIA\",\"major_label_policy\":{\"type\":\"object\",\"name\":\"AllLabels\",\"id\":\"b6d69efb-e1e4-4b07-926e-6480d88a2333\"}}}],\"center\":[{\"type\":\"object\",\"name\":\"Grid\",\"id\":\"b89a8a62-4c5b-411e-aa01-98d4e52a0348\",\"attributes\":{\"axis\":{\"id\":\"540fd8bc-de22-48b3-8c0d-7ce87233c243\"},\"grid_line_color\":null}},{\"type\":\"object\",\"name\":\"Grid\",\"id\":\"af811d9e-f5ab-49c4-889f-d3489723f4ea\",\"attributes\":{\"dimension\":1,\"axis\":{\"id\":\"aa4ede50-0a4f-465f-ab2b-7c3b3018605c\"},\"grid_line_color\":null}}],\"min_border_top\":10,\"min_border_bottom\":10,\"min_border_left\":10,\"min_border_right\":10,\"output_backend\":\"webgl\"}},{\"type\":\"object\",\"name\":\"Spacer\",\"id\":\"87973928-29de-486d-99c4-b79ccbc9998e\",\"attributes\":{\"name\":\"HSpacer00284\",\"stylesheets\":[\"\\n:host(.pn-loading):before, .pn-loading:before {\\n  background-color: #c3c3c3;\\n  mask-size: auto calc(min(50%, 400px));\\n  -webkit-mask-size: auto calc(min(50%, 400px));\\n}\",{\"id\":\"4700379f-b825-4b15-ab49-1cf388544539\"},{\"id\":\"b875e6b1-425a-4251-8f75-c50b48729cdf\"},{\"id\":\"3436716a-3a37-4225-a6b2-67f44687766c\"}],\"margin\":0,\"sizing_mode\":\"stretch_width\",\"align\":\"start\"}}]}}],\"defs\":[{\"type\":\"model\",\"name\":\"ReactiveHTML1\"},{\"type\":\"model\",\"name\":\"FlexBox1\",\"properties\":[{\"name\":\"align_content\",\"kind\":\"Any\",\"default\":\"flex-start\"},{\"name\":\"align_items\",\"kind\":\"Any\",\"default\":\"flex-start\"},{\"name\":\"flex_direction\",\"kind\":\"Any\",\"default\":\"row\"},{\"name\":\"flex_wrap\",\"kind\":\"Any\",\"default\":\"wrap\"},{\"name\":\"gap\",\"kind\":\"Any\",\"default\":\"\"},{\"name\":\"justify_content\",\"kind\":\"Any\",\"default\":\"flex-start\"}]},{\"type\":\"model\",\"name\":\"FloatPanel1\",\"properties\":[{\"name\":\"config\",\"kind\":\"Any\",\"default\":{\"type\":\"map\"}},{\"name\":\"contained\",\"kind\":\"Any\",\"default\":true},{\"name\":\"position\",\"kind\":\"Any\",\"default\":\"right-top\"},{\"name\":\"offsetx\",\"kind\":\"Any\",\"default\":null},{\"name\":\"offsety\",\"kind\":\"Any\",\"default\":null},{\"name\":\"theme\",\"kind\":\"Any\",\"default\":\"primary\"},{\"name\":\"status\",\"kind\":\"Any\",\"default\":\"normalized\"}]},{\"type\":\"model\",\"name\":\"GridStack1\",\"properties\":[{\"name\":\"mode\",\"kind\":\"Any\",\"default\":\"warn\"},{\"name\":\"ncols\",\"kind\":\"Any\",\"default\":null},{\"name\":\"nrows\",\"kind\":\"Any\",\"default\":null},{\"name\":\"allow_resize\",\"kind\":\"Any\",\"default\":true},{\"name\":\"allow_drag\",\"kind\":\"Any\",\"default\":true},{\"name\":\"state\",\"kind\":\"Any\",\"default\":[]}]},{\"type\":\"model\",\"name\":\"drag1\",\"properties\":[{\"name\":\"slider_width\",\"kind\":\"Any\",\"default\":5},{\"name\":\"slider_color\",\"kind\":\"Any\",\"default\":\"black\"},{\"name\":\"value\",\"kind\":\"Any\",\"default\":50}]},{\"type\":\"model\",\"name\":\"click1\",\"properties\":[{\"name\":\"terminal_output\",\"kind\":\"Any\",\"default\":\"\"},{\"name\":\"debug_name\",\"kind\":\"Any\",\"default\":\"\"},{\"name\":\"clears\",\"kind\":\"Any\",\"default\":0}]},{\"type\":\"model\",\"name\":\"FastWrapper1\",\"properties\":[{\"name\":\"object\",\"kind\":\"Any\",\"default\":null},{\"name\":\"style\",\"kind\":\"Any\",\"default\":null}]},{\"type\":\"model\",\"name\":\"NotificationAreaBase1\",\"properties\":[{\"name\":\"js_events\",\"kind\":\"Any\",\"default\":{\"type\":\"map\"}},{\"name\":\"position\",\"kind\":\"Any\",\"default\":\"bottom-right\"},{\"name\":\"_clear\",\"kind\":\"Any\",\"default\":0}]},{\"type\":\"model\",\"name\":\"NotificationArea1\",\"properties\":[{\"name\":\"js_events\",\"kind\":\"Any\",\"default\":{\"type\":\"map\"}},{\"name\":\"notifications\",\"kind\":\"Any\",\"default\":[]},{\"name\":\"position\",\"kind\":\"Any\",\"default\":\"bottom-right\"},{\"name\":\"_clear\",\"kind\":\"Any\",\"default\":0},{\"name\":\"types\",\"kind\":\"Any\",\"default\":[{\"type\":\"map\",\"entries\":[[\"type\",\"warning\"],[\"background\",\"#ffc107\"],[\"icon\",{\"type\":\"map\",\"entries\":[[\"className\",\"fas fa-exclamation-triangle\"],[\"tagName\",\"i\"],[\"color\",\"white\"]]}]]},{\"type\":\"map\",\"entries\":[[\"type\",\"info\"],[\"background\",\"#007bff\"],[\"icon\",{\"type\":\"map\",\"entries\":[[\"className\",\"fas fa-info-circle\"],[\"tagName\",\"i\"],[\"color\",\"white\"]]}]]}]}]},{\"type\":\"model\",\"name\":\"Notification\",\"properties\":[{\"name\":\"background\",\"kind\":\"Any\",\"default\":null},{\"name\":\"duration\",\"kind\":\"Any\",\"default\":3000},{\"name\":\"icon\",\"kind\":\"Any\",\"default\":null},{\"name\":\"message\",\"kind\":\"Any\",\"default\":\"\"},{\"name\":\"notification_type\",\"kind\":\"Any\",\"default\":null},{\"name\":\"_destroyed\",\"kind\":\"Any\",\"default\":false}]},{\"type\":\"model\",\"name\":\"TemplateActions1\",\"properties\":[{\"name\":\"open_modal\",\"kind\":\"Any\",\"default\":0},{\"name\":\"close_modal\",\"kind\":\"Any\",\"default\":0}]},{\"type\":\"model\",\"name\":\"BootstrapTemplateActions1\",\"properties\":[{\"name\":\"open_modal\",\"kind\":\"Any\",\"default\":0},{\"name\":\"close_modal\",\"kind\":\"Any\",\"default\":0}]},{\"type\":\"model\",\"name\":\"TemplateEditor1\",\"properties\":[{\"name\":\"layout\",\"kind\":\"Any\",\"default\":[]}]},{\"type\":\"model\",\"name\":\"MaterialTemplateActions1\",\"properties\":[{\"name\":\"open_modal\",\"kind\":\"Any\",\"default\":0},{\"name\":\"close_modal\",\"kind\":\"Any\",\"default\":0}]},{\"type\":\"model\",\"name\":\"ReactiveESM1\",\"properties\":[{\"name\":\"esm_constants\",\"kind\":\"Any\",\"default\":{\"type\":\"map\"}}]},{\"type\":\"model\",\"name\":\"JSComponent1\",\"properties\":[{\"name\":\"esm_constants\",\"kind\":\"Any\",\"default\":{\"type\":\"map\"}}]},{\"type\":\"model\",\"name\":\"ReactComponent1\",\"properties\":[{\"name\":\"esm_constants\",\"kind\":\"Any\",\"default\":{\"type\":\"map\"}}]},{\"type\":\"model\",\"name\":\"AnyWidgetComponent1\",\"properties\":[{\"name\":\"esm_constants\",\"kind\":\"Any\",\"default\":{\"type\":\"map\"}}]},{\"type\":\"model\",\"name\":\"request_value1\",\"properties\":[{\"name\":\"fill\",\"kind\":\"Any\",\"default\":\"none\"},{\"name\":\"_synced\",\"kind\":\"Any\",\"default\":null},{\"name\":\"_request_sync\",\"kind\":\"Any\",\"default\":0}]}]}};\n",
       "  var render_items = [{\"docid\":\"07c9d905-085b-43f0-8a9f-7dd71741a962\",\"roots\":{\"334e15ac-cb5d-434f-87d9-afe99e34ed12\":\"ed277a22-25f6-47c2-8630-f60d1f0c3ac0\"},\"root_ids\":[\"334e15ac-cb5d-434f-87d9-afe99e34ed12\"]}];\n",
       "  var docs = Object.values(docs_json)\n",
       "  if (!docs) {\n",
       "    return\n",
       "  }\n",
       "  const py_version = docs[0].version.replace('rc', '-rc.').replace('.dev', '-dev.')\n",
       "  async function embed_document(root) {\n",
       "    var Bokeh = get_bokeh(root)\n",
       "    await Bokeh.embed.embed_items_notebook(docs_json, render_items);\n",
       "    for (const render_item of render_items) {\n",
       "      for (const root_id of render_item.root_ids) {\n",
       "\tconst id_el = document.getElementById(root_id)\n",
       "\tif (id_el.children.length && id_el.children[0].hasAttribute('data-root-id')) {\n",
       "\t  const root_el = id_el.children[0]\n",
       "\t  root_el.id = root_el.id + '-rendered'\n",
       "\t  for (const child of root_el.children) {\n",
       "            // Ensure JupyterLab does not capture keyboard shortcuts\n",
       "            // see: https://jupyterlab.readthedocs.io/en/4.1.x/extension/notebook.html#keyboard-interaction-model\n",
       "\t    child.setAttribute('data-lm-suppress-shortcuts', 'true')\n",
       "\t  }\n",
       "\t}\n",
       "      }\n",
       "    }\n",
       "  }\n",
       "  function get_bokeh(root) {\n",
       "    if (root.Bokeh === undefined) {\n",
       "      return null\n",
       "    } else if (root.Bokeh.version !== py_version) {\n",
       "      if (root.Bokeh.versions === undefined || !root.Bokeh.versions.has(py_version)) {\n",
       "\treturn null\n",
       "      }\n",
       "      return root.Bokeh.versions.get(py_version);\n",
       "    } else if (root.Bokeh.version === py_version) {\n",
       "      return root.Bokeh\n",
       "    }\n",
       "    return null\n",
       "  }\n",
       "  function is_loaded(root) {\n",
       "    var Bokeh = get_bokeh(root)\n",
       "    return (Bokeh != null && Bokeh.Panel !== undefined)\n",
       "  }\n",
       "  if (is_loaded(root)) {\n",
       "    embed_document(root);\n",
       "  } else {\n",
       "    var attempts = 0;\n",
       "    var timer = setInterval(function(root) {\n",
       "      if (is_loaded(root)) {\n",
       "        clearInterval(timer);\n",
       "        embed_document(root);\n",
       "      } else if (document.readyState == \"complete\") {\n",
       "        attempts++;\n",
       "        if (attempts > 200) {\n",
       "          clearInterval(timer);\n",
       "\t  var Bokeh = get_bokeh(root)\n",
       "\t  if (Bokeh == null || Bokeh.Panel == null) {\n",
       "            console.warn(\"Panel: ERROR: Unable to run Panel code because Bokeh or Panel library is missing\");\n",
       "\t  } else {\n",
       "\t    console.warn(\"Panel: WARNING: Attempting to render but not all required libraries could be resolved.\")\n",
       "\t    embed_document(root)\n",
       "\t  }\n",
       "        }\n",
       "      }\n",
       "    }, 25, root)\n",
       "  }\n",
       "})(window);</script>"
      ],
      "text/plain": [
       ":Curve   [DIA]   (D)"
      ]
     },
     "execution_count": 10,
     "metadata": {
      "application/vnd.holoviews_exec.v0+json": {
       "id": "334e15ac-cb5d-434f-87d9-afe99e34ed12"
      }
     },
     "output_type": "execute_result"
    }
   ],
   "source": [
    "import hvplot.polars\n",
    "\n",
    "dfp5.hvplot.line(x=\"DIA\", y =\"D\")"
   ]
  },
  {
   "cell_type": "code",
   "execution_count": 11,
   "metadata": {},
   "outputs": [
    {
     "data": {},
     "metadata": {},
     "output_type": "display_data"
    },
    {
     "data": {
      "application/vnd.holoviews_exec.v0+json": "",
      "text/html": [
       "<div id='38baa40b-cca5-473a-8aa3-c44c16fd961c'>\n",
       "  <div id=\"ec85f564-2c24-474b-831a-3527ca565429\" data-root-id=\"38baa40b-cca5-473a-8aa3-c44c16fd961c\" style=\"display: contents;\"></div>\n",
       "</div>\n",
       "<script type=\"application/javascript\">(function(root) {\n",
       "  var docs_json = {\"c32145b9-ab68-419a-8678-56a46571fc87\":{\"version\":\"3.6.2\",\"title\":\"Bokeh Application\",\"roots\":[{\"type\":\"object\",\"name\":\"Row\",\"id\":\"38baa40b-cca5-473a-8aa3-c44c16fd961c\",\"attributes\":{\"name\":\"Row00323\",\"tags\":[\"embedded\"],\"stylesheets\":[\"\\n:host(.pn-loading):before, .pn-loading:before {\\n  background-color: #c3c3c3;\\n  mask-size: auto calc(min(50%, 400px));\\n  -webkit-mask-size: auto calc(min(50%, 400px));\\n}\",{\"type\":\"object\",\"name\":\"ImportedStyleSheet\",\"id\":\"d6b8eb83-4b06-49e0-9ec6-021a4233ff92\",\"attributes\":{\"url\":\"https://cdn.holoviz.org/panel/1.5.4/dist/css/loading.css\"}},{\"type\":\"object\",\"name\":\"ImportedStyleSheet\",\"id\":\"bbe2ed5d-271f-47da-a595-a204011b8336\",\"attributes\":{\"url\":\"https://cdn.holoviz.org/panel/1.5.4/dist/css/listpanel.css\"}},{\"type\":\"object\",\"name\":\"ImportedStyleSheet\",\"id\":\"7c89b7ee-988e-4a1e-900a-29f17418c54f\",\"attributes\":{\"url\":\"https://cdn.holoviz.org/panel/1.5.4/dist/bundled/theme/default.css\"}},{\"type\":\"object\",\"name\":\"ImportedStyleSheet\",\"id\":\"8737498c-28e9-46a2-8817-9feb83f2ea51\",\"attributes\":{\"url\":\"https://cdn.holoviz.org/panel/1.5.4/dist/bundled/theme/native.css\"}}],\"min_width\":700,\"margin\":0,\"sizing_mode\":\"stretch_width\",\"align\":\"start\",\"children\":[{\"type\":\"object\",\"name\":\"Spacer\",\"id\":\"5f9e0120-28f0-430e-9360-e0321179c40c\",\"attributes\":{\"name\":\"HSpacer00327\",\"stylesheets\":[\"\\n:host(.pn-loading):before, .pn-loading:before {\\n  background-color: #c3c3c3;\\n  mask-size: auto calc(min(50%, 400px));\\n  -webkit-mask-size: auto calc(min(50%, 400px));\\n}\",{\"id\":\"d6b8eb83-4b06-49e0-9ec6-021a4233ff92\"},{\"id\":\"7c89b7ee-988e-4a1e-900a-29f17418c54f\"},{\"id\":\"8737498c-28e9-46a2-8817-9feb83f2ea51\"}],\"margin\":0,\"sizing_mode\":\"stretch_width\",\"align\":\"start\"}},{\"type\":\"object\",\"name\":\"Figure\",\"id\":\"d95d9f50-5f6d-4a3d-b65a-03e383147d12\",\"attributes\":{\"width\":700,\"height\":300,\"margin\":[5,10],\"sizing_mode\":\"fixed\",\"align\":\"start\",\"x_range\":{\"type\":\"object\",\"name\":\"Range1d\",\"id\":\"5a663631-b5b7-4696-b2c2-ef77acb8a3fd\",\"attributes\":{\"name\":\"DIA\",\"tags\":[[[\"DIA\",null]],[]],\"start\":1.0,\"end\":31.0,\"reset_start\":1.0,\"reset_end\":31.0}},\"y_range\":{\"type\":\"object\",\"name\":\"Range1d\",\"id\":\"3ed28a09-73f6-4738-90c1-45c1549edafe\",\"attributes\":{\"name\":\"D\",\"tags\":[[[\"D\",null]],{\"type\":\"map\",\"entries\":[[\"invert_yaxis\",false],[\"autorange\",false]]}],\"start\":7.7,\"end\":59.3,\"reset_start\":7.7,\"reset_end\":59.3}},\"x_scale\":{\"type\":\"object\",\"name\":\"LinearScale\",\"id\":\"ec79eae9-9708-4e19-8437-aa3ca3579184\"},\"y_scale\":{\"type\":\"object\",\"name\":\"LinearScale\",\"id\":\"e35bcf9b-9a77-4dcc-a4ff-2c7a30630808\"},\"title\":{\"type\":\"object\",\"name\":\"Title\",\"id\":\"89b7d677-44c1-472d-b745-3a9c1cab85d6\",\"attributes\":{\"text_color\":\"black\",\"text_font_size\":\"12pt\"}},\"renderers\":[{\"type\":\"object\",\"name\":\"GlyphRenderer\",\"id\":\"714f95b1-a6c6-4c85-bfcb-360624702341\",\"attributes\":{\"data_source\":{\"type\":\"object\",\"name\":\"ColumnDataSource\",\"id\":\"5f6e121d-aa56-4793-9153-59da4318e559\",\"attributes\":{\"selected\":{\"type\":\"object\",\"name\":\"Selection\",\"id\":\"9cd991d3-7cfa-4b76-8c2d-7187f0d77bae\",\"attributes\":{\"indices\":[],\"line_indices\":[]}},\"selection_policy\":{\"type\":\"object\",\"name\":\"UnionRenderers\",\"id\":\"2b220541-6610-46f0-9d0c-bf419201b41d\"},\"data\":{\"type\":\"map\",\"entries\":[[\"DIA\",{\"type\":\"ndarray\",\"array\":{\"type\":\"bytes\",\"data\":\"AQAAAAIAAAADAAAABAAAAAUAAAAGAAAABwAAAAgAAAAJAAAACgAAAAsAAAAMAAAADQAAAA4AAAAPAAAAEAAAABEAAAASAAAAEwAAABQAAAAVAAAAFgAAABcAAAAYAAAAGQAAABoAAAAbAAAAHAAAAB0AAAAeAAAAHwAAAA==\"},\"shape\":[31],\"dtype\":\"int32\",\"order\":\"little\"}],[\"D\",{\"type\":\"ndarray\",\"array\":{\"type\":\"bytes\",\"data\":\"AAAAAACAS0AAAAAAAAA5QAAAAAAAADVAAAAAAAAAQUAAAAAAAAA7QAAAAAAAAChAAAAAAAAAOUAAAAAAAAA2QAAAAAAAADRAAAAAAAAAO0AAAAAAAIBCQAAAAAAAADhAAAAAAAAAP0AAAAAAAIBFQAAAAAAAADdAAAAAAAAANEAAAAAAAAA0QAAAAAAAAD5AAAAAAAAAQkAAAAAAAABAQAAAAAAAgEhAAAAAAAAAO0AAAAAAAAA/QAAAAAAAAEFAAAAAAACAQkAAAAAAAAAyQAAAAAAAAC5AAAAAAAAANUAAAAAAAAA1QAAAAAAAAEBAAAAAAAAAQUA=\"},\"shape\":[31],\"dtype\":\"float64\",\"order\":\"little\"}]]}}},\"view\":{\"type\":\"object\",\"name\":\"CDSView\",\"id\":\"8b1852c2-a7e8-4b96-8661-d40187318785\",\"attributes\":{\"filter\":{\"type\":\"object\",\"name\":\"AllIndices\",\"id\":\"4492c22f-318b-45ba-ba75-9fd24c014162\"}}},\"glyph\":{\"type\":\"object\",\"name\":\"Line\",\"id\":\"9c9ea2b4-51b5-45b0-aa9c-1c6e065c9f6d\",\"attributes\":{\"tags\":[\"apply_ranges\"],\"x\":{\"type\":\"field\",\"field\":\"DIA\"},\"y\":{\"type\":\"field\",\"field\":\"D\"},\"line_color\":\"#30a2da\",\"line_width\":2}},\"selection_glyph\":{\"type\":\"object\",\"name\":\"Line\",\"id\":\"d4212bec-c8ea-48f9-89e6-856977cf6b0c\",\"attributes\":{\"tags\":[\"apply_ranges\"],\"x\":{\"type\":\"field\",\"field\":\"DIA\"},\"y\":{\"type\":\"field\",\"field\":\"D\"},\"line_color\":\"#30a2da\",\"line_width\":2}},\"nonselection_glyph\":{\"type\":\"object\",\"name\":\"Line\",\"id\":\"ae3b864d-d941-44b8-a308-f2a9d5927f65\",\"attributes\":{\"tags\":[\"apply_ranges\"],\"x\":{\"type\":\"field\",\"field\":\"DIA\"},\"y\":{\"type\":\"field\",\"field\":\"D\"},\"line_color\":\"#30a2da\",\"line_alpha\":0.1,\"line_width\":2}},\"muted_glyph\":{\"type\":\"object\",\"name\":\"Line\",\"id\":\"8a6be64f-4fd2-454b-bade-be80b07270d5\",\"attributes\":{\"tags\":[\"apply_ranges\"],\"x\":{\"type\":\"field\",\"field\":\"DIA\"},\"y\":{\"type\":\"field\",\"field\":\"D\"},\"line_color\":\"#30a2da\",\"line_alpha\":0.2,\"line_width\":2}}}}],\"toolbar\":{\"type\":\"object\",\"name\":\"Toolbar\",\"id\":\"6bfc82fa-e33f-483e-b739-02d2c16bffa7\",\"attributes\":{\"tools\":[{\"type\":\"object\",\"name\":\"WheelZoomTool\",\"id\":\"63092235-0e64-41e4-abbd-f681b42c3d28\",\"attributes\":{\"tags\":[\"hv_created\"],\"renderers\":\"auto\",\"zoom_together\":\"none\"}},{\"type\":\"object\",\"name\":\"HoverTool\",\"id\":\"a5aada4f-d869-4d0a-886c-ff6c2bf3a0bc\",\"attributes\":{\"tags\":[\"hv_created\"],\"renderers\":[{\"id\":\"714f95b1-a6c6-4c85-bfcb-360624702341\"}],\"tooltips\":[[\"DIA\",\"@{DIA}\"],[\"D\",\"@{D}\"]]}},{\"type\":\"object\",\"name\":\"SaveTool\",\"id\":\"4b24464d-d07f-43af-8e78-ad092ca86a7c\"},{\"type\":\"object\",\"name\":\"PanTool\",\"id\":\"ffe2df35-170d-42ab-a6f3-ddba245ad56d\"},{\"type\":\"object\",\"name\":\"BoxZoomTool\",\"id\":\"6f8fa7d9-b22a-4fb6-9a71-b676d72b45b8\",\"attributes\":{\"overlay\":{\"type\":\"object\",\"name\":\"BoxAnnotation\",\"id\":\"81110a66-c3d5-477a-b4ce-95544ea4dcdd\",\"attributes\":{\"syncable\":false,\"line_color\":\"black\",\"line_alpha\":1.0,\"line_width\":2,\"line_dash\":[4,4],\"fill_color\":\"lightgrey\",\"fill_alpha\":0.5,\"level\":\"overlay\",\"visible\":false,\"left\":{\"type\":\"number\",\"value\":\"nan\"},\"right\":{\"type\":\"number\",\"value\":\"nan\"},\"top\":{\"type\":\"number\",\"value\":\"nan\"},\"bottom\":{\"type\":\"number\",\"value\":\"nan\"},\"left_units\":\"canvas\",\"right_units\":\"canvas\",\"top_units\":\"canvas\",\"bottom_units\":\"canvas\",\"handles\":{\"type\":\"object\",\"name\":\"BoxInteractionHandles\",\"id\":\"bfbee62d-7dee-4a55-a706-3ff0e417d80b\",\"attributes\":{\"all\":{\"type\":\"object\",\"name\":\"AreaVisuals\",\"id\":\"e58d0d92-9447-4535-8391-d1088810757e\",\"attributes\":{\"fill_color\":\"white\",\"hover_fill_color\":\"lightgray\"}}}}}}}},{\"type\":\"object\",\"name\":\"ResetTool\",\"id\":\"5281be27-ed63-4904-9399-da4e2b2ea3e7\"}],\"active_drag\":{\"id\":\"ffe2df35-170d-42ab-a6f3-ddba245ad56d\"},\"active_scroll\":{\"id\":\"63092235-0e64-41e4-abbd-f681b42c3d28\"}}},\"left\":[{\"type\":\"object\",\"name\":\"LinearAxis\",\"id\":\"5a140e70-032c-4dbb-b2bc-4032302de7ff\",\"attributes\":{\"ticker\":{\"type\":\"object\",\"name\":\"BasicTicker\",\"id\":\"5701a840-aa7e-47e2-858d-d8aceeab011e\",\"attributes\":{\"mantissas\":[1,2,5]}},\"formatter\":{\"type\":\"object\",\"name\":\"BasicTickFormatter\",\"id\":\"888f7c3c-c71c-49d8-a483-ad7cb541fc2f\"},\"axis_label\":\"D\",\"major_label_policy\":{\"type\":\"object\",\"name\":\"AllLabels\",\"id\":\"af320eab-0315-4a02-a5df-331e0770d779\"}}}],\"below\":[{\"type\":\"object\",\"name\":\"LinearAxis\",\"id\":\"b103d2d7-f1dd-4915-b5ec-e21f27a55cbc\",\"attributes\":{\"ticker\":{\"type\":\"object\",\"name\":\"BasicTicker\",\"id\":\"3153db15-ef68-4151-a536-da0f38143572\",\"attributes\":{\"mantissas\":[1,2,5]}},\"formatter\":{\"type\":\"object\",\"name\":\"BasicTickFormatter\",\"id\":\"24b9c93d-7d3a-4a16-b21f-fc307ce35922\"},\"axis_label\":\"DIA\",\"major_label_policy\":{\"type\":\"object\",\"name\":\"AllLabels\",\"id\":\"8b02b289-6069-4940-b582-27aec813d5e0\"}}}],\"center\":[{\"type\":\"object\",\"name\":\"Grid\",\"id\":\"b0e400f9-452b-4217-9f39-377099987cf9\",\"attributes\":{\"axis\":{\"id\":\"b103d2d7-f1dd-4915-b5ec-e21f27a55cbc\"},\"grid_line_color\":null}},{\"type\":\"object\",\"name\":\"Grid\",\"id\":\"56a8ce3d-e06f-45cd-9106-db12c941c2c3\",\"attributes\":{\"dimension\":1,\"axis\":{\"id\":\"5a140e70-032c-4dbb-b2bc-4032302de7ff\"},\"grid_line_color\":null}}],\"min_border_top\":10,\"min_border_bottom\":10,\"min_border_left\":10,\"min_border_right\":10,\"output_backend\":\"webgl\"}},{\"type\":\"object\",\"name\":\"Spacer\",\"id\":\"c4aad969-1daf-432c-aa06-4f08fee96162\",\"attributes\":{\"name\":\"HSpacer00328\",\"stylesheets\":[\"\\n:host(.pn-loading):before, .pn-loading:before {\\n  background-color: #c3c3c3;\\n  mask-size: auto calc(min(50%, 400px));\\n  -webkit-mask-size: auto calc(min(50%, 400px));\\n}\",{\"id\":\"d6b8eb83-4b06-49e0-9ec6-021a4233ff92\"},{\"id\":\"7c89b7ee-988e-4a1e-900a-29f17418c54f\"},{\"id\":\"8737498c-28e9-46a2-8817-9feb83f2ea51\"}],\"margin\":0,\"sizing_mode\":\"stretch_width\",\"align\":\"start\"}}]}}],\"defs\":[{\"type\":\"model\",\"name\":\"ReactiveHTML1\"},{\"type\":\"model\",\"name\":\"FlexBox1\",\"properties\":[{\"name\":\"align_content\",\"kind\":\"Any\",\"default\":\"flex-start\"},{\"name\":\"align_items\",\"kind\":\"Any\",\"default\":\"flex-start\"},{\"name\":\"flex_direction\",\"kind\":\"Any\",\"default\":\"row\"},{\"name\":\"flex_wrap\",\"kind\":\"Any\",\"default\":\"wrap\"},{\"name\":\"gap\",\"kind\":\"Any\",\"default\":\"\"},{\"name\":\"justify_content\",\"kind\":\"Any\",\"default\":\"flex-start\"}]},{\"type\":\"model\",\"name\":\"FloatPanel1\",\"properties\":[{\"name\":\"config\",\"kind\":\"Any\",\"default\":{\"type\":\"map\"}},{\"name\":\"contained\",\"kind\":\"Any\",\"default\":true},{\"name\":\"position\",\"kind\":\"Any\",\"default\":\"right-top\"},{\"name\":\"offsetx\",\"kind\":\"Any\",\"default\":null},{\"name\":\"offsety\",\"kind\":\"Any\",\"default\":null},{\"name\":\"theme\",\"kind\":\"Any\",\"default\":\"primary\"},{\"name\":\"status\",\"kind\":\"Any\",\"default\":\"normalized\"}]},{\"type\":\"model\",\"name\":\"GridStack1\",\"properties\":[{\"name\":\"mode\",\"kind\":\"Any\",\"default\":\"warn\"},{\"name\":\"ncols\",\"kind\":\"Any\",\"default\":null},{\"name\":\"nrows\",\"kind\":\"Any\",\"default\":null},{\"name\":\"allow_resize\",\"kind\":\"Any\",\"default\":true},{\"name\":\"allow_drag\",\"kind\":\"Any\",\"default\":true},{\"name\":\"state\",\"kind\":\"Any\",\"default\":[]}]},{\"type\":\"model\",\"name\":\"drag1\",\"properties\":[{\"name\":\"slider_width\",\"kind\":\"Any\",\"default\":5},{\"name\":\"slider_color\",\"kind\":\"Any\",\"default\":\"black\"},{\"name\":\"value\",\"kind\":\"Any\",\"default\":50}]},{\"type\":\"model\",\"name\":\"click1\",\"properties\":[{\"name\":\"terminal_output\",\"kind\":\"Any\",\"default\":\"\"},{\"name\":\"debug_name\",\"kind\":\"Any\",\"default\":\"\"},{\"name\":\"clears\",\"kind\":\"Any\",\"default\":0}]},{\"type\":\"model\",\"name\":\"FastWrapper1\",\"properties\":[{\"name\":\"object\",\"kind\":\"Any\",\"default\":null},{\"name\":\"style\",\"kind\":\"Any\",\"default\":null}]},{\"type\":\"model\",\"name\":\"NotificationAreaBase1\",\"properties\":[{\"name\":\"js_events\",\"kind\":\"Any\",\"default\":{\"type\":\"map\"}},{\"name\":\"position\",\"kind\":\"Any\",\"default\":\"bottom-right\"},{\"name\":\"_clear\",\"kind\":\"Any\",\"default\":0}]},{\"type\":\"model\",\"name\":\"NotificationArea1\",\"properties\":[{\"name\":\"js_events\",\"kind\":\"Any\",\"default\":{\"type\":\"map\"}},{\"name\":\"notifications\",\"kind\":\"Any\",\"default\":[]},{\"name\":\"position\",\"kind\":\"Any\",\"default\":\"bottom-right\"},{\"name\":\"_clear\",\"kind\":\"Any\",\"default\":0},{\"name\":\"types\",\"kind\":\"Any\",\"default\":[{\"type\":\"map\",\"entries\":[[\"type\",\"warning\"],[\"background\",\"#ffc107\"],[\"icon\",{\"type\":\"map\",\"entries\":[[\"className\",\"fas fa-exclamation-triangle\"],[\"tagName\",\"i\"],[\"color\",\"white\"]]}]]},{\"type\":\"map\",\"entries\":[[\"type\",\"info\"],[\"background\",\"#007bff\"],[\"icon\",{\"type\":\"map\",\"entries\":[[\"className\",\"fas fa-info-circle\"],[\"tagName\",\"i\"],[\"color\",\"white\"]]}]]}]}]},{\"type\":\"model\",\"name\":\"Notification\",\"properties\":[{\"name\":\"background\",\"kind\":\"Any\",\"default\":null},{\"name\":\"duration\",\"kind\":\"Any\",\"default\":3000},{\"name\":\"icon\",\"kind\":\"Any\",\"default\":null},{\"name\":\"message\",\"kind\":\"Any\",\"default\":\"\"},{\"name\":\"notification_type\",\"kind\":\"Any\",\"default\":null},{\"name\":\"_destroyed\",\"kind\":\"Any\",\"default\":false}]},{\"type\":\"model\",\"name\":\"TemplateActions1\",\"properties\":[{\"name\":\"open_modal\",\"kind\":\"Any\",\"default\":0},{\"name\":\"close_modal\",\"kind\":\"Any\",\"default\":0}]},{\"type\":\"model\",\"name\":\"BootstrapTemplateActions1\",\"properties\":[{\"name\":\"open_modal\",\"kind\":\"Any\",\"default\":0},{\"name\":\"close_modal\",\"kind\":\"Any\",\"default\":0}]},{\"type\":\"model\",\"name\":\"TemplateEditor1\",\"properties\":[{\"name\":\"layout\",\"kind\":\"Any\",\"default\":[]}]},{\"type\":\"model\",\"name\":\"MaterialTemplateActions1\",\"properties\":[{\"name\":\"open_modal\",\"kind\":\"Any\",\"default\":0},{\"name\":\"close_modal\",\"kind\":\"Any\",\"default\":0}]},{\"type\":\"model\",\"name\":\"ReactiveESM1\",\"properties\":[{\"name\":\"esm_constants\",\"kind\":\"Any\",\"default\":{\"type\":\"map\"}}]},{\"type\":\"model\",\"name\":\"JSComponent1\",\"properties\":[{\"name\":\"esm_constants\",\"kind\":\"Any\",\"default\":{\"type\":\"map\"}}]},{\"type\":\"model\",\"name\":\"ReactComponent1\",\"properties\":[{\"name\":\"esm_constants\",\"kind\":\"Any\",\"default\":{\"type\":\"map\"}}]},{\"type\":\"model\",\"name\":\"AnyWidgetComponent1\",\"properties\":[{\"name\":\"esm_constants\",\"kind\":\"Any\",\"default\":{\"type\":\"map\"}}]},{\"type\":\"model\",\"name\":\"request_value1\",\"properties\":[{\"name\":\"fill\",\"kind\":\"Any\",\"default\":\"none\"},{\"name\":\"_synced\",\"kind\":\"Any\",\"default\":null},{\"name\":\"_request_sync\",\"kind\":\"Any\",\"default\":0}]}]}};\n",
       "  var render_items = [{\"docid\":\"c32145b9-ab68-419a-8678-56a46571fc87\",\"roots\":{\"38baa40b-cca5-473a-8aa3-c44c16fd961c\":\"ec85f564-2c24-474b-831a-3527ca565429\"},\"root_ids\":[\"38baa40b-cca5-473a-8aa3-c44c16fd961c\"]}];\n",
       "  var docs = Object.values(docs_json)\n",
       "  if (!docs) {\n",
       "    return\n",
       "  }\n",
       "  const py_version = docs[0].version.replace('rc', '-rc.').replace('.dev', '-dev.')\n",
       "  async function embed_document(root) {\n",
       "    var Bokeh = get_bokeh(root)\n",
       "    await Bokeh.embed.embed_items_notebook(docs_json, render_items);\n",
       "    for (const render_item of render_items) {\n",
       "      for (const root_id of render_item.root_ids) {\n",
       "\tconst id_el = document.getElementById(root_id)\n",
       "\tif (id_el.children.length && id_el.children[0].hasAttribute('data-root-id')) {\n",
       "\t  const root_el = id_el.children[0]\n",
       "\t  root_el.id = root_el.id + '-rendered'\n",
       "\t  for (const child of root_el.children) {\n",
       "            // Ensure JupyterLab does not capture keyboard shortcuts\n",
       "            // see: https://jupyterlab.readthedocs.io/en/4.1.x/extension/notebook.html#keyboard-interaction-model\n",
       "\t    child.setAttribute('data-lm-suppress-shortcuts', 'true')\n",
       "\t  }\n",
       "\t}\n",
       "      }\n",
       "    }\n",
       "  }\n",
       "  function get_bokeh(root) {\n",
       "    if (root.Bokeh === undefined) {\n",
       "      return null\n",
       "    } else if (root.Bokeh.version !== py_version) {\n",
       "      if (root.Bokeh.versions === undefined || !root.Bokeh.versions.has(py_version)) {\n",
       "\treturn null\n",
       "      }\n",
       "      return root.Bokeh.versions.get(py_version);\n",
       "    } else if (root.Bokeh.version === py_version) {\n",
       "      return root.Bokeh\n",
       "    }\n",
       "    return null\n",
       "  }\n",
       "  function is_loaded(root) {\n",
       "    var Bokeh = get_bokeh(root)\n",
       "    return (Bokeh != null && Bokeh.Panel !== undefined)\n",
       "  }\n",
       "  if (is_loaded(root)) {\n",
       "    embed_document(root);\n",
       "  } else {\n",
       "    var attempts = 0;\n",
       "    var timer = setInterval(function(root) {\n",
       "      if (is_loaded(root)) {\n",
       "        clearInterval(timer);\n",
       "        embed_document(root);\n",
       "      } else if (document.readyState == \"complete\") {\n",
       "        attempts++;\n",
       "        if (attempts > 200) {\n",
       "          clearInterval(timer);\n",
       "\t  var Bokeh = get_bokeh(root)\n",
       "\t  if (Bokeh == null || Bokeh.Panel == null) {\n",
       "            console.warn(\"Panel: ERROR: Unable to run Panel code because Bokeh or Panel library is missing\");\n",
       "\t  } else {\n",
       "\t    console.warn(\"Panel: WARNING: Attempting to render but not all required libraries could be resolved.\")\n",
       "\t    embed_document(root)\n",
       "\t  }\n",
       "        }\n",
       "      }\n",
       "    }, 25, root)\n",
       "  }\n",
       "})(window);</script>"
      ],
      "text/plain": [
       ":Curve   [DIA]   (D)"
      ]
     },
     "execution_count": 11,
     "metadata": {
      "application/vnd.holoviews_exec.v0+json": {
       "id": "38baa40b-cca5-473a-8aa3-c44c16fd961c"
      }
     },
     "output_type": "execute_result"
    }
   ],
   "source": [
    "dfp5.filter((pl.col.D > 0) , (pl.col.MES==10)).hvplot.line(x=\"DIA\", y =\"D\") \n"
   ]
  },
  {
   "cell_type": "code",
   "execution_count": 22,
   "metadata": {},
   "outputs": [
    {
     "data": {
      "text/html": [
       "<div><style>\n",
       ".dataframe > thead > tr,\n",
       ".dataframe > tbody > tr {\n",
       "  text-align: right;\n",
       "  white-space: pre-wrap;\n",
       "}\n",
       "</style>\n",
       "<small>shape: (310, 11)</small><table border=\"1\" class=\"dataframe\"><thead><tr><th>PROVINCIA</th><th>MUNICIPIO</th><th>ESTACION</th><th>MAGNITUD</th><th>PUNTO_MUESTREO</th><th>ANO</th><th>MES</th><th>DIA</th><th>D</th><th>V</th><th>DATE</th></tr><tr><td>i64</td><td>i64</td><td>i64</td><td>i64</td><td>str</td><td>i64</td><td>i64</td><td>i64</td><td>f64</td><td>str</td><td>date</td></tr></thead><tbody><tr><td>28</td><td>79</td><td>8</td><td>8</td><td>&quot;28079008_8_8&quot;</td><td>2024</td><td>1</td><td>1</td><td>34.0</td><td>&quot;V&quot;</td><td>2024-01-01</td></tr><tr><td>28</td><td>79</td><td>8</td><td>8</td><td>&quot;28079008_8_8&quot;</td><td>2024</td><td>2</td><td>1</td><td>46.0</td><td>&quot;V&quot;</td><td>2024-02-01</td></tr><tr><td>28</td><td>79</td><td>8</td><td>8</td><td>&quot;28079008_8_8&quot;</td><td>2024</td><td>3</td><td>1</td><td>23.0</td><td>&quot;V&quot;</td><td>2024-03-01</td></tr><tr><td>28</td><td>79</td><td>8</td><td>8</td><td>&quot;28079008_8_8&quot;</td><td>2024</td><td>4</td><td>1</td><td>18.0</td><td>&quot;V&quot;</td><td>2024-04-01</td></tr><tr><td>28</td><td>79</td><td>8</td><td>8</td><td>&quot;28079008_8_8&quot;</td><td>2024</td><td>5</td><td>1</td><td>9.0</td><td>&quot;V&quot;</td><td>2024-05-01</td></tr><tr><td>&hellip;</td><td>&hellip;</td><td>&hellip;</td><td>&hellip;</td><td>&hellip;</td><td>&hellip;</td><td>&hellip;</td><td>&hellip;</td><td>&hellip;</td><td>&hellip;</td><td>&hellip;</td></tr><tr><td>28</td><td>79</td><td>8</td><td>8</td><td>&quot;28079008_8_8&quot;</td><td>2024</td><td>6</td><td>31</td><td>0.0</td><td>&quot;N&quot;</td><td>null</td></tr><tr><td>28</td><td>79</td><td>8</td><td>8</td><td>&quot;28079008_8_8&quot;</td><td>2024</td><td>7</td><td>31</td><td>30.0</td><td>&quot;V&quot;</td><td>2024-07-31</td></tr><tr><td>28</td><td>79</td><td>8</td><td>8</td><td>&quot;28079008_8_8&quot;</td><td>2024</td><td>8</td><td>31</td><td>15.0</td><td>&quot;V&quot;</td><td>2024-08-31</td></tr><tr><td>28</td><td>79</td><td>8</td><td>8</td><td>&quot;28079008_8_8&quot;</td><td>2024</td><td>9</td><td>31</td><td>0.0</td><td>&quot;N&quot;</td><td>null</td></tr><tr><td>28</td><td>79</td><td>8</td><td>8</td><td>&quot;28079008_8_8&quot;</td><td>2024</td><td>10</td><td>31</td><td>34.0</td><td>&quot;V&quot;</td><td>2024-10-31</td></tr></tbody></table></div>"
      ],
      "text/plain": [
       "shape: (310, 11)\n",
       "┌───────────┬───────────┬──────────┬──────────┬───┬─────┬──────┬─────┬────────────┐\n",
       "│ PROVINCIA ┆ MUNICIPIO ┆ ESTACION ┆ MAGNITUD ┆ … ┆ DIA ┆ D    ┆ V   ┆ DATE       │\n",
       "│ ---       ┆ ---       ┆ ---      ┆ ---      ┆   ┆ --- ┆ ---  ┆ --- ┆ ---        │\n",
       "│ i64       ┆ i64       ┆ i64      ┆ i64      ┆   ┆ i64 ┆ f64  ┆ str ┆ date       │\n",
       "╞═══════════╪═══════════╪══════════╪══════════╪═══╪═════╪══════╪═════╪════════════╡\n",
       "│ 28        ┆ 79        ┆ 8        ┆ 8        ┆ … ┆ 1   ┆ 34.0 ┆ V   ┆ 2024-01-01 │\n",
       "│ 28        ┆ 79        ┆ 8        ┆ 8        ┆ … ┆ 1   ┆ 46.0 ┆ V   ┆ 2024-02-01 │\n",
       "│ 28        ┆ 79        ┆ 8        ┆ 8        ┆ … ┆ 1   ┆ 23.0 ┆ V   ┆ 2024-03-01 │\n",
       "│ 28        ┆ 79        ┆ 8        ┆ 8        ┆ … ┆ 1   ┆ 18.0 ┆ V   ┆ 2024-04-01 │\n",
       "│ 28        ┆ 79        ┆ 8        ┆ 8        ┆ … ┆ 1   ┆ 9.0  ┆ V   ┆ 2024-05-01 │\n",
       "│ …         ┆ …         ┆ …        ┆ …        ┆ … ┆ …   ┆ …    ┆ …   ┆ …          │\n",
       "│ 28        ┆ 79        ┆ 8        ┆ 8        ┆ … ┆ 31  ┆ 0.0  ┆ N   ┆ null       │\n",
       "│ 28        ┆ 79        ┆ 8        ┆ 8        ┆ … ┆ 31  ┆ 30.0 ┆ V   ┆ 2024-07-31 │\n",
       "│ 28        ┆ 79        ┆ 8        ┆ 8        ┆ … ┆ 31  ┆ 15.0 ┆ V   ┆ 2024-08-31 │\n",
       "│ 28        ┆ 79        ┆ 8        ┆ 8        ┆ … ┆ 31  ┆ 0.0  ┆ N   ┆ null       │\n",
       "│ 28        ┆ 79        ┆ 8        ┆ 8        ┆ … ┆ 31  ┆ 34.0 ┆ V   ┆ 2024-10-31 │\n",
       "└───────────┴───────────┴──────────┴──────────┴───┴─────┴──────┴─────┴────────────┘"
      ]
     },
     "execution_count": 22,
     "metadata": {},
     "output_type": "execute_result"
    }
   ],
   "source": [
    "from datetime import date\n",
    "dfp6 = dfp5.with_columns( (pl.date(pl.col('ANO'),pl.col('MES'),pl.col('DIA') )).alias('DATE'))\n",
    "dfp6"
   ]
  },
  {
   "cell_type": "code",
   "execution_count": 23,
   "metadata": {},
   "outputs": [
    {
     "data": {},
     "metadata": {},
     "output_type": "display_data"
    },
    {
     "data": {
      "application/vnd.holoviews_exec.v0+json": "",
      "text/html": [
       "<div id='bea92e8b-ffbf-4106-97a9-91961d2a63c4'>\n",
       "  <div id=\"fe70bfae-454f-46fe-9a2d-7552b0d11cef\" data-root-id=\"bea92e8b-ffbf-4106-97a9-91961d2a63c4\" style=\"display: contents;\"></div>\n",
       "</div>\n",
       "<script type=\"application/javascript\">(function(root) {\n",
       "  var docs_json = {\"e3123f07-e6e2-4264-bf9d-741a386ebd5f\":{\"version\":\"3.6.2\",\"title\":\"Bokeh Application\",\"roots\":[{\"type\":\"object\",\"name\":\"Row\",\"id\":\"bea92e8b-ffbf-4106-97a9-91961d2a63c4\",\"attributes\":{\"name\":\"Row00411\",\"tags\":[\"embedded\"],\"stylesheets\":[\"\\n:host(.pn-loading):before, .pn-loading:before {\\n  background-color: #c3c3c3;\\n  mask-size: auto calc(min(50%, 400px));\\n  -webkit-mask-size: auto calc(min(50%, 400px));\\n}\",{\"type\":\"object\",\"name\":\"ImportedStyleSheet\",\"id\":\"4459b261-29ba-4b13-9b7b-0b8f2d30f6f1\",\"attributes\":{\"url\":\"https://cdn.holoviz.org/panel/1.5.4/dist/css/loading.css\"}},{\"type\":\"object\",\"name\":\"ImportedStyleSheet\",\"id\":\"63b90a77-7754-4b2f-a104-78590924a527\",\"attributes\":{\"url\":\"https://cdn.holoviz.org/panel/1.5.4/dist/css/listpanel.css\"}},{\"type\":\"object\",\"name\":\"ImportedStyleSheet\",\"id\":\"99c077f5-6dbb-4d90-b4c4-75cdb6688df6\",\"attributes\":{\"url\":\"https://cdn.holoviz.org/panel/1.5.4/dist/bundled/theme/default.css\"}},{\"type\":\"object\",\"name\":\"ImportedStyleSheet\",\"id\":\"c52b7b12-1ffb-4564-9418-7eeb961e38ec\",\"attributes\":{\"url\":\"https://cdn.holoviz.org/panel/1.5.4/dist/bundled/theme/native.css\"}}],\"min_width\":700,\"margin\":0,\"sizing_mode\":\"stretch_width\",\"align\":\"start\",\"children\":[{\"type\":\"object\",\"name\":\"Spacer\",\"id\":\"7ed73264-e0d8-4782-b0a6-898b36223163\",\"attributes\":{\"name\":\"HSpacer00415\",\"stylesheets\":[\"\\n:host(.pn-loading):before, .pn-loading:before {\\n  background-color: #c3c3c3;\\n  mask-size: auto calc(min(50%, 400px));\\n  -webkit-mask-size: auto calc(min(50%, 400px));\\n}\",{\"id\":\"4459b261-29ba-4b13-9b7b-0b8f2d30f6f1\"},{\"id\":\"99c077f5-6dbb-4d90-b4c4-75cdb6688df6\"},{\"id\":\"c52b7b12-1ffb-4564-9418-7eeb961e38ec\"}],\"margin\":0,\"sizing_mode\":\"stretch_width\",\"align\":\"start\"}},{\"type\":\"object\",\"name\":\"Figure\",\"id\":\"6a73041a-cd4f-462b-ac5d-e46eecccf7b8\",\"attributes\":{\"width\":700,\"height\":300,\"margin\":[5,10],\"sizing_mode\":\"fixed\",\"align\":\"start\",\"x_range\":{\"type\":\"object\",\"name\":\"Range1d\",\"id\":\"bd1670d5-6222-4bb4-a202-9b1a7d6ed183\",\"attributes\":{\"name\":\"DATE\",\"tags\":[[[\"DATE\",null]],[]],\"start\":1704067200000.0,\"end\":1730332800000.0,\"reset_start\":1704067200000.0,\"reset_end\":1730332800000.0}},\"y_range\":{\"type\":\"object\",\"name\":\"Range1d\",\"id\":\"c1298807-307d-4cfd-84cb-67703477d571\",\"attributes\":{\"name\":\"D\",\"tags\":[[[\"D\",null]],{\"type\":\"map\",\"entries\":[[\"invert_yaxis\",false],[\"autorange\",false]]}],\"start\":-6.2,\"end\":68.2,\"reset_start\":-6.2,\"reset_end\":68.2}},\"x_scale\":{\"type\":\"object\",\"name\":\"LinearScale\",\"id\":\"0b92fc28-c85b-46ca-a229-c289f0cb5cb4\"},\"y_scale\":{\"type\":\"object\",\"name\":\"LinearScale\",\"id\":\"75e7bda9-476f-4531-870b-7e6a84649b54\"},\"title\":{\"type\":\"object\",\"name\":\"Title\",\"id\":\"fe54b68c-c998-4086-9376-091c3223f0a4\",\"attributes\":{\"text_color\":\"black\",\"text_font_size\":\"12pt\"}},\"renderers\":[{\"type\":\"object\",\"name\":\"GlyphRenderer\",\"id\":\"d38fb555-a03e-438c-9a24-80a46f89de92\",\"attributes\":{\"data_source\":{\"type\":\"object\",\"name\":\"ColumnDataSource\",\"id\":\"25ae4a91-5130-4158-a822-a998f715d581\",\"attributes\":{\"selected\":{\"type\":\"object\",\"name\":\"Selection\",\"id\":\"6b728810-a636-4101-a695-8544e0c89f11\",\"attributes\":{\"indices\":[],\"line_indices\":[]}},\"selection_policy\":{\"type\":\"object\",\"name\":\"UnionRenderers\",\"id\":\"59a4fbdc-5c6e-4290-a1c3-05bdbfa898bc\"},\"data\":{\"type\":\"map\",\"entries\":[[\"DATE\",{\"type\":\"ndarray\",\"array\":{\"type\":\"bytes\",\"data\":\"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\"},\"shape\":[310],\"dtype\":\"float64\",\"order\":\"little\"}],[\"D\",{\"type\":\"ndarray\",\"array\":{\"type\":\"bytes\",\"data\":\"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\"},\"shape\":[310],\"dtype\":\"float64\",\"order\":\"little\"}]]}}},\"view\":{\"type\":\"object\",\"name\":\"CDSView\",\"id\":\"291ed242-c20e-409f-a15c-a5d7b53d4016\",\"attributes\":{\"filter\":{\"type\":\"object\",\"name\":\"AllIndices\",\"id\":\"d21100aa-f5bc-4b6a-8f98-3c8f84779f25\"}}},\"glyph\":{\"type\":\"object\",\"name\":\"Line\",\"id\":\"16c2c0e4-6cf4-4863-8700-e6bab0445a4d\",\"attributes\":{\"tags\":[\"apply_ranges\"],\"x\":{\"type\":\"field\",\"field\":\"DATE\"},\"y\":{\"type\":\"field\",\"field\":\"D\"},\"line_color\":\"#30a2da\",\"line_width\":2}},\"selection_glyph\":{\"type\":\"object\",\"name\":\"Line\",\"id\":\"45414e16-aa49-44e3-add9-951a053ea7a4\",\"attributes\":{\"tags\":[\"apply_ranges\"],\"x\":{\"type\":\"field\",\"field\":\"DATE\"},\"y\":{\"type\":\"field\",\"field\":\"D\"},\"line_color\":\"#30a2da\",\"line_width\":2}},\"nonselection_glyph\":{\"type\":\"object\",\"name\":\"Line\",\"id\":\"c3717ce4-f612-42f3-9904-5b8ff950b0d8\",\"attributes\":{\"tags\":[\"apply_ranges\"],\"x\":{\"type\":\"field\",\"field\":\"DATE\"},\"y\":{\"type\":\"field\",\"field\":\"D\"},\"line_color\":\"#30a2da\",\"line_alpha\":0.1,\"line_width\":2}},\"muted_glyph\":{\"type\":\"object\",\"name\":\"Line\",\"id\":\"7719eb7b-8921-4318-83e9-727ddafe0ce0\",\"attributes\":{\"tags\":[\"apply_ranges\"],\"x\":{\"type\":\"field\",\"field\":\"DATE\"},\"y\":{\"type\":\"field\",\"field\":\"D\"},\"line_color\":\"#30a2da\",\"line_alpha\":0.2,\"line_width\":2}}}}],\"toolbar\":{\"type\":\"object\",\"name\":\"Toolbar\",\"id\":\"1807d0f5-cb36-4ff0-9377-ec8b8d367545\",\"attributes\":{\"tools\":[{\"type\":\"object\",\"name\":\"WheelZoomTool\",\"id\":\"4b13ed0e-8524-4c0d-b03e-abf6ac5c50f0\",\"attributes\":{\"tags\":[\"hv_created\"],\"renderers\":\"auto\",\"zoom_together\":\"none\"}},{\"type\":\"object\",\"name\":\"HoverTool\",\"id\":\"3c51eaae-1d12-4896-90e4-b975d2e9ee78\",\"attributes\":{\"tags\":[\"hv_created\"],\"renderers\":[{\"id\":\"d38fb555-a03e-438c-9a24-80a46f89de92\"}],\"tooltips\":[[\"DATE\",\"@{DATE}{%F %T}\"],[\"D\",\"@{D}\"]],\"formatters\":{\"type\":\"map\",\"entries\":[[\"@{DATE}\",\"datetime\"]]}}},{\"type\":\"object\",\"name\":\"SaveTool\",\"id\":\"ff24ee57-a16f-417c-99db-95c051180871\"},{\"type\":\"object\",\"name\":\"PanTool\",\"id\":\"f16409a4-5ab8-4e39-8ce7-95b5eb6f2b57\"},{\"type\":\"object\",\"name\":\"BoxZoomTool\",\"id\":\"1dc98a99-d752-42ba-8a42-d4802fffefc2\",\"attributes\":{\"overlay\":{\"type\":\"object\",\"name\":\"BoxAnnotation\",\"id\":\"bdf7301b-a753-49a2-bf4f-e1263b9b61e5\",\"attributes\":{\"syncable\":false,\"line_color\":\"black\",\"line_alpha\":1.0,\"line_width\":2,\"line_dash\":[4,4],\"fill_color\":\"lightgrey\",\"fill_alpha\":0.5,\"level\":\"overlay\",\"visible\":false,\"left\":{\"type\":\"number\",\"value\":\"nan\"},\"right\":{\"type\":\"number\",\"value\":\"nan\"},\"top\":{\"type\":\"number\",\"value\":\"nan\"},\"bottom\":{\"type\":\"number\",\"value\":\"nan\"},\"left_units\":\"canvas\",\"right_units\":\"canvas\",\"top_units\":\"canvas\",\"bottom_units\":\"canvas\",\"handles\":{\"type\":\"object\",\"name\":\"BoxInteractionHandles\",\"id\":\"237a2fe7-a33b-497d-8619-ae63a69929b8\",\"attributes\":{\"all\":{\"type\":\"object\",\"name\":\"AreaVisuals\",\"id\":\"fcc8a441-ef99-4a4f-bff2-9774f8004aac\",\"attributes\":{\"fill_color\":\"white\",\"hover_fill_color\":\"lightgray\"}}}}}}}},{\"type\":\"object\",\"name\":\"ResetTool\",\"id\":\"82eb135e-40d4-41f0-b559-a89bcb0949f8\"}],\"active_drag\":{\"id\":\"f16409a4-5ab8-4e39-8ce7-95b5eb6f2b57\"},\"active_scroll\":{\"id\":\"4b13ed0e-8524-4c0d-b03e-abf6ac5c50f0\"}}},\"left\":[{\"type\":\"object\",\"name\":\"LinearAxis\",\"id\":\"e0151f03-6ab3-42ad-8d72-33cb053659d6\",\"attributes\":{\"ticker\":{\"type\":\"object\",\"name\":\"BasicTicker\",\"id\":\"73a70077-8c5e-4e47-ae4f-8d5a1712e07d\",\"attributes\":{\"mantissas\":[1,2,5]}},\"formatter\":{\"type\":\"object\",\"name\":\"BasicTickFormatter\",\"id\":\"aff31348-9910-4930-aba5-636b6c672404\"},\"axis_label\":\"D\",\"major_label_policy\":{\"type\":\"object\",\"name\":\"AllLabels\",\"id\":\"259793d6-2054-4cca-a3bf-9cf48688f4b3\"}}}],\"below\":[{\"type\":\"object\",\"name\":\"DatetimeAxis\",\"id\":\"04793f28-92eb-4b37-a0c8-755177ed6df4\",\"attributes\":{\"ticker\":{\"type\":\"object\",\"name\":\"DatetimeTicker\",\"id\":\"90805917-120d-4486-a1ab-4f817e2ca9e7\",\"attributes\":{\"num_minor_ticks\":5,\"tickers\":[{\"type\":\"object\",\"name\":\"AdaptiveTicker\",\"id\":\"386e12dd-b96e-4389-9e0c-c370a6aa8f9e\",\"attributes\":{\"num_minor_ticks\":0,\"mantissas\":[1,2,5],\"max_interval\":500.0}},{\"type\":\"object\",\"name\":\"AdaptiveTicker\",\"id\":\"566d3f11-ffd1-4f48-9fc3-a10966bb07ab\",\"attributes\":{\"num_minor_ticks\":0,\"base\":60,\"mantissas\":[1,2,5,10,15,20,30],\"min_interval\":1000.0,\"max_interval\":1800000.0}},{\"type\":\"object\",\"name\":\"AdaptiveTicker\",\"id\":\"d23a87d6-00d0-4af1-9918-90b78401b299\",\"attributes\":{\"num_minor_ticks\":0,\"base\":24,\"mantissas\":[1,2,4,6,8,12],\"min_interval\":3600000.0,\"max_interval\":43200000.0}},{\"type\":\"object\",\"name\":\"DaysTicker\",\"id\":\"89c77bab-20e0-4a92-a04d-ac8e9169a2bc\",\"attributes\":{\"days\":[1,2,3,4,5,6,7,8,9,10,11,12,13,14,15,16,17,18,19,20,21,22,23,24,25,26,27,28,29,30,31]}},{\"type\":\"object\",\"name\":\"DaysTicker\",\"id\":\"f2652e57-cc0f-47f6-8e6f-0afd1f59c19f\",\"attributes\":{\"days\":[1,4,7,10,13,16,19,22,25,28]}},{\"type\":\"object\",\"name\":\"DaysTicker\",\"id\":\"00a6a476-6894-4160-89af-3623ccb3b784\",\"attributes\":{\"days\":[1,8,15,22]}},{\"type\":\"object\",\"name\":\"DaysTicker\",\"id\":\"64508886-ab74-4125-86b1-c2f64db601d2\",\"attributes\":{\"days\":[1,15]}},{\"type\":\"object\",\"name\":\"MonthsTicker\",\"id\":\"e363ccb3-504c-45bb-989a-980266a97064\",\"attributes\":{\"months\":[0,1,2,3,4,5,6,7,8,9,10,11]}},{\"type\":\"object\",\"name\":\"MonthsTicker\",\"id\":\"9bdaa909-79bc-4f27-814f-c52c2f1a6eef\",\"attributes\":{\"months\":[0,2,4,6,8,10]}},{\"type\":\"object\",\"name\":\"MonthsTicker\",\"id\":\"dea081d5-577a-41e7-ae97-b7360ffad9cd\",\"attributes\":{\"months\":[0,4,8]}},{\"type\":\"object\",\"name\":\"MonthsTicker\",\"id\":\"b0447b27-1797-4955-bbd1-bc1abf7af4aa\",\"attributes\":{\"months\":[0,6]}},{\"type\":\"object\",\"name\":\"YearsTicker\",\"id\":\"0df5d148-e177-4c1e-b91e-f1e393f61371\"}]}},\"formatter\":{\"type\":\"object\",\"name\":\"DatetimeTickFormatter\",\"id\":\"2e470acf-83bd-450b-8053-8ae7d437c6c0\"},\"axis_label\":\"DATE\",\"major_label_policy\":{\"type\":\"object\",\"name\":\"AllLabels\",\"id\":\"d1b5fc99-e15d-41c4-810c-ebf470df6067\"}}}],\"center\":[{\"type\":\"object\",\"name\":\"Grid\",\"id\":\"db754222-0a97-4276-99e8-6fcb97462f12\",\"attributes\":{\"axis\":{\"id\":\"04793f28-92eb-4b37-a0c8-755177ed6df4\"},\"grid_line_color\":null}},{\"type\":\"object\",\"name\":\"Grid\",\"id\":\"62879657-7f3b-4d30-bcc8-a539a73e27a4\",\"attributes\":{\"dimension\":1,\"axis\":{\"id\":\"e0151f03-6ab3-42ad-8d72-33cb053659d6\"},\"grid_line_color\":null}}],\"min_border_top\":10,\"min_border_bottom\":10,\"min_border_left\":10,\"min_border_right\":10,\"output_backend\":\"webgl\"}},{\"type\":\"object\",\"name\":\"Spacer\",\"id\":\"aafd4357-ee39-499b-be83-9f61928097ef\",\"attributes\":{\"name\":\"HSpacer00416\",\"stylesheets\":[\"\\n:host(.pn-loading):before, .pn-loading:before {\\n  background-color: #c3c3c3;\\n  mask-size: auto calc(min(50%, 400px));\\n  -webkit-mask-size: auto calc(min(50%, 400px));\\n}\",{\"id\":\"4459b261-29ba-4b13-9b7b-0b8f2d30f6f1\"},{\"id\":\"99c077f5-6dbb-4d90-b4c4-75cdb6688df6\"},{\"id\":\"c52b7b12-1ffb-4564-9418-7eeb961e38ec\"}],\"margin\":0,\"sizing_mode\":\"stretch_width\",\"align\":\"start\"}}]}}],\"defs\":[{\"type\":\"model\",\"name\":\"ReactiveHTML1\"},{\"type\":\"model\",\"name\":\"FlexBox1\",\"properties\":[{\"name\":\"align_content\",\"kind\":\"Any\",\"default\":\"flex-start\"},{\"name\":\"align_items\",\"kind\":\"Any\",\"default\":\"flex-start\"},{\"name\":\"flex_direction\",\"kind\":\"Any\",\"default\":\"row\"},{\"name\":\"flex_wrap\",\"kind\":\"Any\",\"default\":\"wrap\"},{\"name\":\"gap\",\"kind\":\"Any\",\"default\":\"\"},{\"name\":\"justify_content\",\"kind\":\"Any\",\"default\":\"flex-start\"}]},{\"type\":\"model\",\"name\":\"FloatPanel1\",\"properties\":[{\"name\":\"config\",\"kind\":\"Any\",\"default\":{\"type\":\"map\"}},{\"name\":\"contained\",\"kind\":\"Any\",\"default\":true},{\"name\":\"position\",\"kind\":\"Any\",\"default\":\"right-top\"},{\"name\":\"offsetx\",\"kind\":\"Any\",\"default\":null},{\"name\":\"offsety\",\"kind\":\"Any\",\"default\":null},{\"name\":\"theme\",\"kind\":\"Any\",\"default\":\"primary\"},{\"name\":\"status\",\"kind\":\"Any\",\"default\":\"normalized\"}]},{\"type\":\"model\",\"name\":\"GridStack1\",\"properties\":[{\"name\":\"mode\",\"kind\":\"Any\",\"default\":\"warn\"},{\"name\":\"ncols\",\"kind\":\"Any\",\"default\":null},{\"name\":\"nrows\",\"kind\":\"Any\",\"default\":null},{\"name\":\"allow_resize\",\"kind\":\"Any\",\"default\":true},{\"name\":\"allow_drag\",\"kind\":\"Any\",\"default\":true},{\"name\":\"state\",\"kind\":\"Any\",\"default\":[]}]},{\"type\":\"model\",\"name\":\"drag1\",\"properties\":[{\"name\":\"slider_width\",\"kind\":\"Any\",\"default\":5},{\"name\":\"slider_color\",\"kind\":\"Any\",\"default\":\"black\"},{\"name\":\"value\",\"kind\":\"Any\",\"default\":50}]},{\"type\":\"model\",\"name\":\"click1\",\"properties\":[{\"name\":\"terminal_output\",\"kind\":\"Any\",\"default\":\"\"},{\"name\":\"debug_name\",\"kind\":\"Any\",\"default\":\"\"},{\"name\":\"clears\",\"kind\":\"Any\",\"default\":0}]},{\"type\":\"model\",\"name\":\"FastWrapper1\",\"properties\":[{\"name\":\"object\",\"kind\":\"Any\",\"default\":null},{\"name\":\"style\",\"kind\":\"Any\",\"default\":null}]},{\"type\":\"model\",\"name\":\"NotificationAreaBase1\",\"properties\":[{\"name\":\"js_events\",\"kind\":\"Any\",\"default\":{\"type\":\"map\"}},{\"name\":\"position\",\"kind\":\"Any\",\"default\":\"bottom-right\"},{\"name\":\"_clear\",\"kind\":\"Any\",\"default\":0}]},{\"type\":\"model\",\"name\":\"NotificationArea1\",\"properties\":[{\"name\":\"js_events\",\"kind\":\"Any\",\"default\":{\"type\":\"map\"}},{\"name\":\"notifications\",\"kind\":\"Any\",\"default\":[]},{\"name\":\"position\",\"kind\":\"Any\",\"default\":\"bottom-right\"},{\"name\":\"_clear\",\"kind\":\"Any\",\"default\":0},{\"name\":\"types\",\"kind\":\"Any\",\"default\":[{\"type\":\"map\",\"entries\":[[\"type\",\"warning\"],[\"background\",\"#ffc107\"],[\"icon\",{\"type\":\"map\",\"entries\":[[\"className\",\"fas fa-exclamation-triangle\"],[\"tagName\",\"i\"],[\"color\",\"white\"]]}]]},{\"type\":\"map\",\"entries\":[[\"type\",\"info\"],[\"background\",\"#007bff\"],[\"icon\",{\"type\":\"map\",\"entries\":[[\"className\",\"fas fa-info-circle\"],[\"tagName\",\"i\"],[\"color\",\"white\"]]}]]}]}]},{\"type\":\"model\",\"name\":\"Notification\",\"properties\":[{\"name\":\"background\",\"kind\":\"Any\",\"default\":null},{\"name\":\"duration\",\"kind\":\"Any\",\"default\":3000},{\"name\":\"icon\",\"kind\":\"Any\",\"default\":null},{\"name\":\"message\",\"kind\":\"Any\",\"default\":\"\"},{\"name\":\"notification_type\",\"kind\":\"Any\",\"default\":null},{\"name\":\"_destroyed\",\"kind\":\"Any\",\"default\":false}]},{\"type\":\"model\",\"name\":\"TemplateActions1\",\"properties\":[{\"name\":\"open_modal\",\"kind\":\"Any\",\"default\":0},{\"name\":\"close_modal\",\"kind\":\"Any\",\"default\":0}]},{\"type\":\"model\",\"name\":\"BootstrapTemplateActions1\",\"properties\":[{\"name\":\"open_modal\",\"kind\":\"Any\",\"default\":0},{\"name\":\"close_modal\",\"kind\":\"Any\",\"default\":0}]},{\"type\":\"model\",\"name\":\"TemplateEditor1\",\"properties\":[{\"name\":\"layout\",\"kind\":\"Any\",\"default\":[]}]},{\"type\":\"model\",\"name\":\"MaterialTemplateActions1\",\"properties\":[{\"name\":\"open_modal\",\"kind\":\"Any\",\"default\":0},{\"name\":\"close_modal\",\"kind\":\"Any\",\"default\":0}]},{\"type\":\"model\",\"name\":\"ReactiveESM1\",\"properties\":[{\"name\":\"esm_constants\",\"kind\":\"Any\",\"default\":{\"type\":\"map\"}}]},{\"type\":\"model\",\"name\":\"JSComponent1\",\"properties\":[{\"name\":\"esm_constants\",\"kind\":\"Any\",\"default\":{\"type\":\"map\"}}]},{\"type\":\"model\",\"name\":\"ReactComponent1\",\"properties\":[{\"name\":\"esm_constants\",\"kind\":\"Any\",\"default\":{\"type\":\"map\"}}]},{\"type\":\"model\",\"name\":\"AnyWidgetComponent1\",\"properties\":[{\"name\":\"esm_constants\",\"kind\":\"Any\",\"default\":{\"type\":\"map\"}}]},{\"type\":\"model\",\"name\":\"request_value1\",\"properties\":[{\"name\":\"fill\",\"kind\":\"Any\",\"default\":\"none\"},{\"name\":\"_synced\",\"kind\":\"Any\",\"default\":null},{\"name\":\"_request_sync\",\"kind\":\"Any\",\"default\":0}]}]}};\n",
       "  var render_items = [{\"docid\":\"e3123f07-e6e2-4264-bf9d-741a386ebd5f\",\"roots\":{\"bea92e8b-ffbf-4106-97a9-91961d2a63c4\":\"fe70bfae-454f-46fe-9a2d-7552b0d11cef\"},\"root_ids\":[\"bea92e8b-ffbf-4106-97a9-91961d2a63c4\"]}];\n",
       "  var docs = Object.values(docs_json)\n",
       "  if (!docs) {\n",
       "    return\n",
       "  }\n",
       "  const py_version = docs[0].version.replace('rc', '-rc.').replace('.dev', '-dev.')\n",
       "  async function embed_document(root) {\n",
       "    var Bokeh = get_bokeh(root)\n",
       "    await Bokeh.embed.embed_items_notebook(docs_json, render_items);\n",
       "    for (const render_item of render_items) {\n",
       "      for (const root_id of render_item.root_ids) {\n",
       "\tconst id_el = document.getElementById(root_id)\n",
       "\tif (id_el.children.length && id_el.children[0].hasAttribute('data-root-id')) {\n",
       "\t  const root_el = id_el.children[0]\n",
       "\t  root_el.id = root_el.id + '-rendered'\n",
       "\t  for (const child of root_el.children) {\n",
       "            // Ensure JupyterLab does not capture keyboard shortcuts\n",
       "            // see: https://jupyterlab.readthedocs.io/en/4.1.x/extension/notebook.html#keyboard-interaction-model\n",
       "\t    child.setAttribute('data-lm-suppress-shortcuts', 'true')\n",
       "\t  }\n",
       "\t}\n",
       "      }\n",
       "    }\n",
       "  }\n",
       "  function get_bokeh(root) {\n",
       "    if (root.Bokeh === undefined) {\n",
       "      return null\n",
       "    } else if (root.Bokeh.version !== py_version) {\n",
       "      if (root.Bokeh.versions === undefined || !root.Bokeh.versions.has(py_version)) {\n",
       "\treturn null\n",
       "      }\n",
       "      return root.Bokeh.versions.get(py_version);\n",
       "    } else if (root.Bokeh.version === py_version) {\n",
       "      return root.Bokeh\n",
       "    }\n",
       "    return null\n",
       "  }\n",
       "  function is_loaded(root) {\n",
       "    var Bokeh = get_bokeh(root)\n",
       "    return (Bokeh != null && Bokeh.Panel !== undefined)\n",
       "  }\n",
       "  if (is_loaded(root)) {\n",
       "    embed_document(root);\n",
       "  } else {\n",
       "    var attempts = 0;\n",
       "    var timer = setInterval(function(root) {\n",
       "      if (is_loaded(root)) {\n",
       "        clearInterval(timer);\n",
       "        embed_document(root);\n",
       "      } else if (document.readyState == \"complete\") {\n",
       "        attempts++;\n",
       "        if (attempts > 200) {\n",
       "          clearInterval(timer);\n",
       "\t  var Bokeh = get_bokeh(root)\n",
       "\t  if (Bokeh == null || Bokeh.Panel == null) {\n",
       "            console.warn(\"Panel: ERROR: Unable to run Panel code because Bokeh or Panel library is missing\");\n",
       "\t  } else {\n",
       "\t    console.warn(\"Panel: WARNING: Attempting to render but not all required libraries could be resolved.\")\n",
       "\t    embed_document(root)\n",
       "\t  }\n",
       "        }\n",
       "      }\n",
       "    }, 25, root)\n",
       "  }\n",
       "})(window);</script>"
      ],
      "text/plain": [
       ":Curve   [DATE]   (D)"
      ]
     },
     "execution_count": 23,
     "metadata": {
      "application/vnd.holoviews_exec.v0+json": {
       "id": "bea92e8b-ffbf-4106-97a9-91961d2a63c4"
      }
     },
     "output_type": "execute_result"
    }
   ],
   "source": [
    "dfp6.hvplot.line(x='DATE', y = 'D')"
   ]
  }
 ],
 "metadata": {
  "kernelspec": {
   "display_name": ".venv",
   "language": "python",
   "name": "python3"
  },
  "language_info": {
   "codemirror_mode": {
    "name": "ipython",
    "version": 3
   },
   "file_extension": ".py",
   "mimetype": "text/x-python",
   "name": "python",
   "nbconvert_exporter": "python",
   "pygments_lexer": "ipython3",
   "version": "3.12.1"
  }
 },
 "nbformat": 4,
 "nbformat_minor": 2
}
