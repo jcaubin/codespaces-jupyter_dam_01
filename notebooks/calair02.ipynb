{
 "cells": [
  {
   "cell_type": "code",
   "execution_count": 1,
   "metadata": {},
   "outputs": [],
   "source": [
    "import polars as pl\n",
    "import requests"
   ]
  },
  {
   "cell_type": "code",
   "execution_count": 2,
   "metadata": {},
   "outputs": [
    {
     "data": {
      "text/plain": [
       "(1293, 69)"
      ]
     },
     "execution_count": 2,
     "metadata": {},
     "output_type": "execute_result"
    }
   ],
   "source": [
    "calidad_aire_rt = \"https://datos.madrid.es/egob/catalogo/201410-10306621-calidad-aire-diario.csv\"\n",
    "\n",
    "\n",
    "resp = requests.get(calidad_aire_rt, allow_redirects=True)\n",
    "dfp = pl.read_csv(resp.content, separator=';', encoding='utf8')\n",
    "\n",
    "dfp.shape"
   ]
  },
  {
   "cell_type": "code",
   "execution_count": 3,
   "metadata": {},
   "outputs": [
    {
     "data": {
      "text/html": [
       "<div><style>\n",
       ".dataframe > thead > tr,\n",
       ".dataframe > tbody > tr {\n",
       "  text-align: right;\n",
       "  white-space: pre-wrap;\n",
       "}\n",
       "</style>\n",
       "<small>shape: (5, 69)</small><table border=\"1\" class=\"dataframe\"><thead><tr><th>PROVINCIA</th><th>MUNICIPIO</th><th>ESTACION</th><th>MAGNITUD</th><th>PUNTO_MUESTREO</th><th>ANO</th><th>MES</th><th>D01</th><th>V01</th><th>D02</th><th>V02</th><th>D03</th><th>V03</th><th>D04</th><th>V04</th><th>D05</th><th>V05</th><th>D06</th><th>V06</th><th>D07</th><th>V07</th><th>D08</th><th>V08</th><th>D09</th><th>V09</th><th>D10</th><th>V10</th><th>D11</th><th>V11</th><th>D12</th><th>V12</th><th>D13</th><th>V13</th><th>D14</th><th>V14</th><th>D15</th><th>V15</th><th>D16</th><th>V16</th><th>D17</th><th>V17</th><th>D18</th><th>V18</th><th>D19</th><th>V19</th><th>D20</th><th>V20</th><th>D21</th><th>V21</th><th>D22</th><th>V22</th><th>D23</th><th>V23</th><th>D24</th><th>V24</th><th>D25</th><th>V25</th><th>D26</th><th>V26</th><th>D27</th><th>V27</th><th>D28</th><th>V28</th><th>D29</th><th>V29</th><th>D30</th><th>V30</th><th>D31</th><th>V31</th></tr><tr><td>i64</td><td>i64</td><td>i64</td><td>i64</td><td>str</td><td>i64</td><td>i64</td><td>f64</td><td>str</td><td>f64</td><td>str</td><td>f64</td><td>str</td><td>f64</td><td>str</td><td>f64</td><td>str</td><td>f64</td><td>str</td><td>f64</td><td>str</td><td>f64</td><td>str</td><td>f64</td><td>str</td><td>f64</td><td>str</td><td>f64</td><td>str</td><td>f64</td><td>str</td><td>f64</td><td>str</td><td>f64</td><td>str</td><td>f64</td><td>str</td><td>f64</td><td>str</td><td>f64</td><td>str</td><td>f64</td><td>str</td><td>f64</td><td>str</td><td>f64</td><td>str</td><td>f64</td><td>str</td><td>f64</td><td>str</td><td>f64</td><td>str</td><td>f64</td><td>str</td><td>f64</td><td>str</td><td>f64</td><td>str</td><td>f64</td><td>str</td><td>f64</td><td>str</td><td>f64</td><td>str</td><td>f64</td><td>str</td><td>f64</td><td>str</td></tr></thead><tbody><tr><td>28</td><td>79</td><td>4</td><td>1</td><td>&quot;28079004_1_38&quot;</td><td>2024</td><td>1</td><td>2.0</td><td>&quot;V&quot;</td><td>3.0</td><td>&quot;V&quot;</td><td>2.0</td><td>&quot;V&quot;</td><td>2.0</td><td>&quot;V&quot;</td><td>2.0</td><td>&quot;V&quot;</td><td>2.0</td><td>&quot;V&quot;</td><td>2.0</td><td>&quot;V&quot;</td><td>2.0</td><td>&quot;V&quot;</td><td>2.0</td><td>&quot;V&quot;</td><td>2.0</td><td>&quot;V&quot;</td><td>2.0</td><td>&quot;V&quot;</td><td>2.0</td><td>&quot;V&quot;</td><td>3.0</td><td>&quot;V&quot;</td><td>3.0</td><td>&quot;V&quot;</td><td>2.0</td><td>&quot;V&quot;</td><td>2.0</td><td>&quot;V&quot;</td><td>2.0</td><td>&quot;V&quot;</td><td>2.0</td><td>&quot;V&quot;</td><td>2.0</td><td>&quot;V&quot;</td><td>2.0</td><td>&quot;V&quot;</td><td>3.0</td><td>&quot;V&quot;</td><td>3.0</td><td>&quot;V&quot;</td><td>5.0</td><td>&quot;V&quot;</td><td>6.0</td><td>&quot;V&quot;</td><td>6.0</td><td>&quot;V&quot;</td><td>5.0</td><td>&quot;V&quot;</td><td>3.0</td><td>&quot;V&quot;</td><td>2.0</td><td>&quot;V&quot;</td><td>3.0</td><td>&quot;V&quot;</td><td>3.0</td><td>&quot;V&quot;</td><td>3.0</td><td>&quot;V&quot;</td></tr><tr><td>28</td><td>79</td><td>4</td><td>1</td><td>&quot;28079004_1_38&quot;</td><td>2024</td><td>2</td><td>3.0</td><td>&quot;V&quot;</td><td>2.0</td><td>&quot;V&quot;</td><td>2.0</td><td>&quot;V&quot;</td><td>2.0</td><td>&quot;V&quot;</td><td>4.0</td><td>&quot;V&quot;</td><td>3.0</td><td>&quot;V&quot;</td><td>1.0</td><td>&quot;V&quot;</td><td>2.0</td><td>&quot;V&quot;</td><td>1.0</td><td>&quot;V&quot;</td><td>2.0</td><td>&quot;V&quot;</td><td>1.0</td><td>&quot;V&quot;</td><td>1.0</td><td>&quot;V&quot;</td><td>2.0</td><td>&quot;V&quot;</td><td>3.0</td><td>&quot;V&quot;</td><td>3.0</td><td>&quot;V&quot;</td><td>2.0</td><td>&quot;V&quot;</td><td>2.0</td><td>&quot;V&quot;</td><td>2.0</td><td>&quot;V&quot;</td><td>3.0</td><td>&quot;V&quot;</td><td>3.0</td><td>&quot;V&quot;</td><td>3.0</td><td>&quot;V&quot;</td><td>2.0</td><td>&quot;V&quot;</td><td>1.0</td><td>&quot;V&quot;</td><td>1.0</td><td>&quot;V&quot;</td><td>1.0</td><td>&quot;V&quot;</td><td>2.0</td><td>&quot;V&quot;</td><td>2.0</td><td>&quot;V&quot;</td><td>2.0</td><td>&quot;V&quot;</td><td>2.0</td><td>&quot;V&quot;</td><td>0.0</td><td>&quot;N&quot;</td><td>0.0</td><td>&quot;N&quot;</td></tr><tr><td>28</td><td>79</td><td>4</td><td>1</td><td>&quot;28079004_1_38&quot;</td><td>2024</td><td>3</td><td>2.0</td><td>&quot;V&quot;</td><td>1.0</td><td>&quot;V&quot;</td><td>1.0</td><td>&quot;V&quot;</td><td>1.0</td><td>&quot;V&quot;</td><td>2.0</td><td>&quot;V&quot;</td><td>2.0</td><td>&quot;V&quot;</td><td>2.0</td><td>&quot;V&quot;</td><td>1.0</td><td>&quot;V&quot;</td><td>1.0</td><td>&quot;V&quot;</td><td>1.0</td><td>&quot;V&quot;</td><td>2.0</td><td>&quot;V&quot;</td><td>3.0</td><td>&quot;V&quot;</td><td>3.0</td><td>&quot;V&quot;</td><td>2.0</td><td>&quot;V&quot;</td><td>3.0</td><td>&quot;V&quot;</td><td>2.0</td><td>&quot;V&quot;</td><td>3.0</td><td>&quot;V&quot;</td><td>3.0</td><td>&quot;V&quot;</td><td>3.0</td><td>&quot;V&quot;</td><td>3.0</td><td>&quot;V&quot;</td><td>2.0</td><td>&quot;N&quot;</td><td>3.0</td><td>&quot;V&quot;</td><td>2.0</td><td>&quot;V&quot;</td><td>2.0</td><td>&quot;V&quot;</td><td>2.0</td><td>&quot;V&quot;</td><td>1.0</td><td>&quot;V&quot;</td><td>1.0</td><td>&quot;V&quot;</td><td>1.0</td><td>&quot;V&quot;</td><td>1.0</td><td>&quot;V&quot;</td><td>1.0</td><td>&quot;V&quot;</td><td>1.0</td><td>&quot;V&quot;</td></tr><tr><td>28</td><td>79</td><td>4</td><td>1</td><td>&quot;28079004_1_38&quot;</td><td>2024</td><td>4</td><td>1.0</td><td>&quot;V&quot;</td><td>2.0</td><td>&quot;V&quot;</td><td>2.0</td><td>&quot;V&quot;</td><td>3.0</td><td>&quot;V&quot;</td><td>3.0</td><td>&quot;V&quot;</td><td>3.0</td><td>&quot;V&quot;</td><td>2.0</td><td>&quot;V&quot;</td><td>2.0</td><td>&quot;V&quot;</td><td>2.0</td><td>&quot;V&quot;</td><td>2.0</td><td>&quot;V&quot;</td><td>2.0</td><td>&quot;V&quot;</td><td>3.0</td><td>&quot;V&quot;</td><td>2.0</td><td>&quot;V&quot;</td><td>1.0</td><td>&quot;N&quot;</td><td>3.0</td><td>&quot;N&quot;</td><td>2.0</td><td>&quot;V&quot;</td><td>2.0</td><td>&quot;V&quot;</td><td>2.0</td><td>&quot;V&quot;</td><td>2.0</td><td>&quot;V&quot;</td><td>2.0</td><td>&quot;V&quot;</td><td>2.0</td><td>&quot;V&quot;</td><td>2.0</td><td>&quot;V&quot;</td><td>2.0</td><td>&quot;V&quot;</td><td>2.0</td><td>&quot;V&quot;</td><td>3.0</td><td>&quot;V&quot;</td><td>2.0</td><td>&quot;V&quot;</td><td>2.0</td><td>&quot;V&quot;</td><td>2.0</td><td>&quot;V&quot;</td><td>2.0</td><td>&quot;V&quot;</td><td>2.0</td><td>&quot;V&quot;</td><td>0.0</td><td>&quot;N&quot;</td></tr><tr><td>28</td><td>79</td><td>4</td><td>1</td><td>&quot;28079004_1_38&quot;</td><td>2024</td><td>5</td><td>2.0</td><td>&quot;V&quot;</td><td>2.0</td><td>&quot;V&quot;</td><td>2.0</td><td>&quot;V&quot;</td><td>2.0</td><td>&quot;V&quot;</td><td>2.0</td><td>&quot;V&quot;</td><td>2.0</td><td>&quot;V&quot;</td><td>2.0</td><td>&quot;V&quot;</td><td>2.0</td><td>&quot;V&quot;</td><td>3.0</td><td>&quot;V&quot;</td><td>3.0</td><td>&quot;V&quot;</td><td>3.0</td><td>&quot;V&quot;</td><td>3.0</td><td>&quot;V&quot;</td><td>3.0</td><td>&quot;V&quot;</td><td>2.0</td><td>&quot;V&quot;</td><td>2.0</td><td>&quot;V&quot;</td><td>2.0</td><td>&quot;V&quot;</td><td>2.0</td><td>&quot;V&quot;</td><td>2.0</td><td>&quot;V&quot;</td><td>2.0</td><td>&quot;V&quot;</td><td>2.0</td><td>&quot;V&quot;</td><td>2.0</td><td>&quot;V&quot;</td><td>2.0</td><td>&quot;V&quot;</td><td>2.0</td><td>&quot;V&quot;</td><td>2.0</td><td>&quot;V&quot;</td><td>2.0</td><td>&quot;V&quot;</td><td>3.0</td><td>&quot;V&quot;</td><td>2.0</td><td>&quot;V&quot;</td><td>2.0</td><td>&quot;V&quot;</td><td>2.0</td><td>&quot;V&quot;</td><td>1.0</td><td>&quot;V&quot;</td><td>1.0</td><td>&quot;V&quot;</td></tr></tbody></table></div>"
      ],
      "text/plain": [
       "shape: (5, 69)\n",
       "┌───────────┬───────────┬──────────┬──────────┬───┬─────┬─────┬─────┬─────┐\n",
       "│ PROVINCIA ┆ MUNICIPIO ┆ ESTACION ┆ MAGNITUD ┆ … ┆ D30 ┆ V30 ┆ D31 ┆ V31 │\n",
       "│ ---       ┆ ---       ┆ ---      ┆ ---      ┆   ┆ --- ┆ --- ┆ --- ┆ --- │\n",
       "│ i64       ┆ i64       ┆ i64      ┆ i64      ┆   ┆ f64 ┆ str ┆ f64 ┆ str │\n",
       "╞═══════════╪═══════════╪══════════╪══════════╪═══╪═════╪═════╪═════╪═════╡\n",
       "│ 28        ┆ 79        ┆ 4        ┆ 1        ┆ … ┆ 3.0 ┆ V   ┆ 3.0 ┆ V   │\n",
       "│ 28        ┆ 79        ┆ 4        ┆ 1        ┆ … ┆ 0.0 ┆ N   ┆ 0.0 ┆ N   │\n",
       "│ 28        ┆ 79        ┆ 4        ┆ 1        ┆ … ┆ 1.0 ┆ V   ┆ 1.0 ┆ V   │\n",
       "│ 28        ┆ 79        ┆ 4        ┆ 1        ┆ … ┆ 2.0 ┆ V   ┆ 0.0 ┆ N   │\n",
       "│ 28        ┆ 79        ┆ 4        ┆ 1        ┆ … ┆ 1.0 ┆ V   ┆ 1.0 ┆ V   │\n",
       "└───────────┴───────────┴──────────┴──────────┴───┴─────┴─────┴─────┴─────┘"
      ]
     },
     "execution_count": 3,
     "metadata": {},
     "output_type": "execute_result"
    }
   ],
   "source": [
    "dfp.head()"
   ]
  },
  {
   "cell_type": "code",
   "execution_count": 6,
   "metadata": {},
   "outputs": [
    {
     "data": {
      "text/html": [
       "<div><style>\n",
       ".dataframe > thead > tr,\n",
       ".dataframe > tbody > tr {\n",
       "  text-align: right;\n",
       "  white-space: pre-wrap;\n",
       "}\n",
       "</style>\n",
       "<small>shape: (10, 69)</small><table border=\"1\" class=\"dataframe\"><thead><tr><th>PROVINCIA</th><th>MUNICIPIO</th><th>ESTACION</th><th>MAGNITUD</th><th>PUNTO_MUESTREO</th><th>ANO</th><th>MES</th><th>D01</th><th>V01</th><th>D02</th><th>V02</th><th>D03</th><th>V03</th><th>D04</th><th>V04</th><th>D05</th><th>V05</th><th>D06</th><th>V06</th><th>D07</th><th>V07</th><th>D08</th><th>V08</th><th>D09</th><th>V09</th><th>D10</th><th>V10</th><th>D11</th><th>V11</th><th>D12</th><th>V12</th><th>D13</th><th>V13</th><th>D14</th><th>V14</th><th>D15</th><th>V15</th><th>D16</th><th>V16</th><th>D17</th><th>V17</th><th>D18</th><th>V18</th><th>D19</th><th>V19</th><th>D20</th><th>V20</th><th>D21</th><th>V21</th><th>D22</th><th>V22</th><th>D23</th><th>V23</th><th>D24</th><th>V24</th><th>D25</th><th>V25</th><th>D26</th><th>V26</th><th>D27</th><th>V27</th><th>D28</th><th>V28</th><th>D29</th><th>V29</th><th>D30</th><th>V30</th><th>D31</th><th>V31</th></tr><tr><td>i64</td><td>i64</td><td>i64</td><td>i64</td><td>str</td><td>i64</td><td>i64</td><td>f64</td><td>str</td><td>f64</td><td>str</td><td>f64</td><td>str</td><td>f64</td><td>str</td><td>f64</td><td>str</td><td>f64</td><td>str</td><td>f64</td><td>str</td><td>f64</td><td>str</td><td>f64</td><td>str</td><td>f64</td><td>str</td><td>f64</td><td>str</td><td>f64</td><td>str</td><td>f64</td><td>str</td><td>f64</td><td>str</td><td>f64</td><td>str</td><td>f64</td><td>str</td><td>f64</td><td>str</td><td>f64</td><td>str</td><td>f64</td><td>str</td><td>f64</td><td>str</td><td>f64</td><td>str</td><td>f64</td><td>str</td><td>f64</td><td>str</td><td>f64</td><td>str</td><td>f64</td><td>str</td><td>f64</td><td>str</td><td>f64</td><td>str</td><td>f64</td><td>str</td><td>f64</td><td>str</td><td>f64</td><td>str</td><td>f64</td><td>str</td></tr></thead><tbody><tr><td>28</td><td>79</td><td>8</td><td>8</td><td>&quot;28079008_8_8&quot;</td><td>2024</td><td>1</td><td>34.0</td><td>&quot;V&quot;</td><td>45.0</td><td>&quot;V&quot;</td><td>32.0</td><td>&quot;V&quot;</td><td>34.0</td><td>&quot;V&quot;</td><td>21.0</td><td>&quot;V&quot;</td><td>19.0</td><td>&quot;V&quot;</td><td>30.0</td><td>&quot;V&quot;</td><td>50.0</td><td>&quot;V&quot;</td><td>42.0</td><td>&quot;V&quot;</td><td>37.0</td><td>&quot;V&quot;</td><td>31.0</td><td>&quot;V&quot;</td><td>39.0</td><td>&quot;V&quot;</td><td>48.0</td><td>&quot;V&quot;</td><td>40.0</td><td>&quot;V&quot;</td><td>24.0</td><td>&quot;V&quot;</td><td>25.0</td><td>&quot;V&quot;</td><td>17.0</td><td>&quot;V&quot;</td><td>21.0</td><td>&quot;V&quot;</td><td>23.0</td><td>&quot;V&quot;</td><td>20.0</td><td>&quot;V&quot;</td><td>30.0</td><td>&quot;V&quot;</td><td>53.0</td><td>&quot;V&quot;</td><td>54.0</td><td>&quot;V&quot;</td><td>53.0</td><td>&quot;V&quot;</td><td>53.0</td><td>&quot;V&quot;</td><td>51.0</td><td>&quot;V&quot;</td><td>41.0</td><td>&quot;V&quot;</td><td>37.0</td><td>&quot;V&quot;</td><td>35.0</td><td>&quot;V&quot;</td><td>47.0</td><td>&quot;V&quot;</td><td>40.0</td><td>&quot;V&quot;</td></tr><tr><td>28</td><td>79</td><td>8</td><td>8</td><td>&quot;28079008_8_8&quot;</td><td>2024</td><td>2</td><td>46.0</td><td>&quot;V&quot;</td><td>47.0</td><td>&quot;V&quot;</td><td>38.0</td><td>&quot;V&quot;</td><td>42.0</td><td>&quot;V&quot;</td><td>62.0</td><td>&quot;V&quot;</td><td>50.0</td><td>&quot;V&quot;</td><td>26.0</td><td>&quot;V&quot;</td><td>28.0</td><td>&quot;V&quot;</td><td>23.0</td><td>&quot;V&quot;</td><td>14.0</td><td>&quot;V&quot;</td><td>15.0</td><td>&quot;V&quot;</td><td>21.0</td><td>&quot;V&quot;</td><td>30.0</td><td>&quot;V&quot;</td><td>38.0</td><td>&quot;V&quot;</td><td>35.0</td><td>&quot;V&quot;</td><td>32.0</td><td>&quot;V&quot;</td><td>46.0</td><td>&quot;V&quot;</td><td>38.0</td><td>&quot;V&quot;</td><td>43.0</td><td>&quot;V&quot;</td><td>44.0</td><td>&quot;V&quot;</td><td>49.0</td><td>&quot;V&quot;</td><td>17.0</td><td>&quot;V&quot;</td><td>18.0</td><td>&quot;V&quot;</td><td>16.0</td><td>&quot;V&quot;</td><td>8.0</td><td>&quot;V&quot;</td><td>16.0</td><td>&quot;N&quot;</td><td>22.0</td><td>&quot;V&quot;</td><td>38.0</td><td>&quot;V&quot;</td><td>40.0</td><td>&quot;V&quot;</td><td>0.0</td><td>&quot;N&quot;</td><td>0.0</td><td>&quot;N&quot;</td></tr><tr><td>28</td><td>79</td><td>8</td><td>8</td><td>&quot;28079008_8_8&quot;</td><td>2024</td><td>3</td><td>23.0</td><td>&quot;V&quot;</td><td>17.0</td><td>&quot;V&quot;</td><td>14.0</td><td>&quot;V&quot;</td><td>21.0</td><td>&quot;V&quot;</td><td>26.0</td><td>&quot;V&quot;</td><td>41.0</td><td>&quot;V&quot;</td><td>32.0</td><td>&quot;V&quot;</td><td>17.0</td><td>&quot;V&quot;</td><td>13.0</td><td>&quot;V&quot;</td><td>13.0</td><td>&quot;V&quot;</td><td>25.0</td><td>&quot;V&quot;</td><td>55.0</td><td>&quot;V&quot;</td><td>43.0</td><td>&quot;V&quot;</td><td>42.0</td><td>&quot;V&quot;</td><td>35.0</td><td>&quot;V&quot;</td><td>39.0</td><td>&quot;V&quot;</td><td>43.0</td><td>&quot;V&quot;</td><td>52.0</td><td>&quot;V&quot;</td><td>61.0</td><td>&quot;N&quot;</td><td>37.0</td><td>&quot;V&quot;</td><td>28.0</td><td>&quot;V&quot;</td><td>42.0</td><td>&quot;V&quot;</td><td>26.0</td><td>&quot;V&quot;</td><td>13.0</td><td>&quot;V&quot;</td><td>18.0</td><td>&quot;V&quot;</td><td>15.0</td><td>&quot;V&quot;</td><td>11.0</td><td>&quot;V&quot;</td><td>7.0</td><td>&quot;V&quot;</td><td>12.0</td><td>&quot;V&quot;</td><td>12.0</td><td>&quot;V&quot;</td><td>12.0</td><td>&quot;V&quot;</td></tr><tr><td>28</td><td>79</td><td>8</td><td>8</td><td>&quot;28079008_8_8&quot;</td><td>2024</td><td>4</td><td>18.0</td><td>&quot;V&quot;</td><td>28.0</td><td>&quot;V&quot;</td><td>24.0</td><td>&quot;V&quot;</td><td>43.0</td><td>&quot;V&quot;</td><td>43.0</td><td>&quot;V&quot;</td><td>40.0</td><td>&quot;V&quot;</td><td>27.0</td><td>&quot;V&quot;</td><td>16.0</td><td>&quot;V&quot;</td><td>19.0</td><td>&quot;V&quot;</td><td>24.0</td><td>&quot;V&quot;</td><td>26.0</td><td>&quot;V&quot;</td><td>39.0</td><td>&quot;V&quot;</td><td>42.0</td><td>&quot;V&quot;</td><td>31.0</td><td>&quot;V&quot;</td><td>37.0</td><td>&quot;V&quot;</td><td>25.0</td><td>&quot;V&quot;</td><td>16.0</td><td>&quot;V&quot;</td><td>15.0</td><td>&quot;V&quot;</td><td>22.0</td><td>&quot;V&quot;</td><td>19.0</td><td>&quot;V&quot;</td><td>12.0</td><td>&quot;V&quot;</td><td>12.0</td><td>&quot;V&quot;</td><td>15.0</td><td>&quot;V&quot;</td><td>21.0</td><td>&quot;V&quot;</td><td>30.0</td><td>&quot;V&quot;</td><td>22.0</td><td>&quot;V&quot;</td><td>13.0</td><td>&quot;V&quot;</td><td>17.0</td><td>&quot;V&quot;</td><td>17.0</td><td>&quot;V&quot;</td><td>23.0</td><td>&quot;V&quot;</td><td>0.0</td><td>&quot;N&quot;</td></tr><tr><td>28</td><td>79</td><td>8</td><td>8</td><td>&quot;28079008_8_8&quot;</td><td>2024</td><td>5</td><td>9.0</td><td>&quot;V&quot;</td><td>9.0</td><td>&quot;V&quot;</td><td>14.0</td><td>&quot;V&quot;</td><td>13.0</td><td>&quot;V&quot;</td><td>10.0</td><td>&quot;V&quot;</td><td>17.0</td><td>&quot;V&quot;</td><td>18.0</td><td>&quot;V&quot;</td><td>25.0</td><td>&quot;V&quot;</td><td>38.0</td><td>&quot;V&quot;</td><td>36.0</td><td>&quot;V&quot;</td><td>17.0</td><td>&quot;V&quot;</td><td>19.0</td><td>&quot;V&quot;</td><td>26.0</td><td>&quot;V&quot;</td><td>13.0</td><td>&quot;V&quot;</td><td>9.0</td><td>&quot;V&quot;</td><td>17.0</td><td>&quot;V&quot;</td><td>17.0</td><td>&quot;V&quot;</td><td>14.0</td><td>&quot;V&quot;</td><td>12.0</td><td>&quot;V&quot;</td><td>19.0</td><td>&quot;V&quot;</td><td>22.0</td><td>&quot;V&quot;</td><td>17.0</td><td>&quot;V&quot;</td><td>22.0</td><td>&quot;V&quot;</td><td>18.0</td><td>&quot;V&quot;</td><td>21.0</td><td>&quot;V&quot;</td><td>29.0</td><td>&quot;V&quot;</td><td>22.0</td><td>&quot;V&quot;</td><td>19.0</td><td>&quot;V&quot;</td><td>25.0</td><td>&quot;V&quot;</td><td>19.0</td><td>&quot;V&quot;</td><td>13.0</td><td>&quot;V&quot;</td></tr><tr><td>28</td><td>79</td><td>8</td><td>8</td><td>&quot;28079008_8_8&quot;</td><td>2024</td><td>6</td><td>8.0</td><td>&quot;V&quot;</td><td>10.0</td><td>&quot;V&quot;</td><td>13.0</td><td>&quot;V&quot;</td><td>22.0</td><td>&quot;V&quot;</td><td>27.0</td><td>&quot;V&quot;</td><td>36.0</td><td>&quot;V&quot;</td><td>23.0</td><td>&quot;V&quot;</td><td>18.0</td><td>&quot;V&quot;</td><td>12.0</td><td>&quot;V&quot;</td><td>15.0</td><td>&quot;V&quot;</td><td>13.0</td><td>&quot;V&quot;</td><td>13.0</td><td>&quot;V&quot;</td><td>20.0</td><td>&quot;V&quot;</td><td>31.0</td><td>&quot;V&quot;</td><td>12.0</td><td>&quot;V&quot;</td><td>15.0</td><td>&quot;V&quot;</td><td>18.0</td><td>&quot;V&quot;</td><td>25.0</td><td>&quot;V&quot;</td><td>19.0</td><td>&quot;V&quot;</td><td>18.0</td><td>&quot;V&quot;</td><td>21.0</td><td>&quot;V&quot;</td><td>22.0</td><td>&quot;V&quot;</td><td>7.0</td><td>&quot;V&quot;</td><td>15.0</td><td>&quot;V&quot;</td><td>23.0</td><td>&quot;V&quot;</td><td>20.0</td><td>&quot;V&quot;</td><td>23.0</td><td>&quot;V&quot;</td><td>16.0</td><td>&quot;V&quot;</td><td>9.0</td><td>&quot;V&quot;</td><td>9.0</td><td>&quot;V&quot;</td><td>0.0</td><td>&quot;N&quot;</td></tr><tr><td>28</td><td>79</td><td>8</td><td>8</td><td>&quot;28079008_8_8&quot;</td><td>2024</td><td>7</td><td>13.0</td><td>&quot;V&quot;</td><td>11.0</td><td>&quot;V&quot;</td><td>22.0</td><td>&quot;V&quot;</td><td>35.0</td><td>&quot;V&quot;</td><td>29.0</td><td>&quot;V&quot;</td><td>13.0</td><td>&quot;V&quot;</td><td>8.0</td><td>&quot;V&quot;</td><td>20.0</td><td>&quot;V&quot;</td><td>23.0</td><td>&quot;V&quot;</td><td>16.0</td><td>&quot;V&quot;</td><td>23.0</td><td>&quot;V&quot;</td><td>15.0</td><td>&quot;V&quot;</td><td>11.0</td><td>&quot;V&quot;</td><td>11.0</td><td>&quot;V&quot;</td><td>13.0</td><td>&quot;V&quot;</td><td>21.0</td><td>&quot;V&quot;</td><td>30.0</td><td>&quot;V&quot;</td><td>33.0</td><td>&quot;V&quot;</td><td>37.0</td><td>&quot;V&quot;</td><td>22.0</td><td>&quot;V&quot;</td><td>6.0</td><td>&quot;V&quot;</td><td>23.0</td><td>&quot;V&quot;</td><td>25.0</td><td>&quot;V&quot;</td><td>28.0</td><td>&quot;V&quot;</td><td>14.0</td><td>&quot;V&quot;</td><td>16.0</td><td>&quot;V&quot;</td><td>13.0</td><td>&quot;V&quot;</td><td>7.0</td><td>&quot;V&quot;</td><td>18.0</td><td>&quot;V&quot;</td><td>21.0</td><td>&quot;V&quot;</td><td>30.0</td><td>&quot;V&quot;</td></tr><tr><td>28</td><td>79</td><td>8</td><td>8</td><td>&quot;28079008_8_8&quot;</td><td>2024</td><td>8</td><td>27.0</td><td>&quot;V&quot;</td><td>20.0</td><td>&quot;V&quot;</td><td>11.0</td><td>&quot;V&quot;</td><td>13.0</td><td>&quot;V&quot;</td><td>20.0</td><td>&quot;V&quot;</td><td>32.0</td><td>&quot;V&quot;</td><td>28.0</td><td>&quot;V&quot;</td><td>24.0</td><td>&quot;V&quot;</td><td>17.0</td><td>&quot;V&quot;</td><td>5.0</td><td>&quot;V&quot;</td><td>7.0</td><td>&quot;V&quot;</td><td>15.0</td><td>&quot;V&quot;</td><td>17.0</td><td>&quot;V&quot;</td><td>12.0</td><td>&quot;V&quot;</td><td>9.0</td><td>&quot;V&quot;</td><td>13.0</td><td>&quot;V&quot;</td><td>15.0</td><td>&quot;V&quot;</td><td>11.0</td><td>&quot;V&quot;</td><td>14.0</td><td>&quot;V&quot;</td><td>22.0</td><td>&quot;V&quot;</td><td>15.0</td><td>&quot;V&quot;</td><td>23.0</td><td>&quot;V&quot;</td><td>24.0</td><td>&quot;V&quot;</td><td>17.0</td><td>&quot;V&quot;</td><td>13.0</td><td>&quot;V&quot;</td><td>16.0</td><td>&quot;V&quot;</td><td>24.0</td><td>&quot;V&quot;</td><td>33.0</td><td>&quot;V&quot;</td><td>20.0</td><td>&quot;V&quot;</td><td>18.0</td><td>&quot;V&quot;</td><td>15.0</td><td>&quot;V&quot;</td></tr><tr><td>28</td><td>79</td><td>8</td><td>8</td><td>&quot;28079008_8_8&quot;</td><td>2024</td><td>9</td><td>16.0</td><td>&quot;V&quot;</td><td>21.0</td><td>&quot;V&quot;</td><td>20.0</td><td>&quot;V&quot;</td><td>15.0</td><td>&quot;V&quot;</td><td>18.0</td><td>&quot;V&quot;</td><td>23.0</td><td>&quot;V&quot;</td><td>18.0</td><td>&quot;V&quot;</td><td>17.0</td><td>&quot;V&quot;</td><td>33.0</td><td>&quot;V&quot;</td><td>25.0</td><td>&quot;V&quot;</td><td>27.0</td><td>&quot;V&quot;</td><td>22.0</td><td>&quot;V&quot;</td><td>14.0</td><td>&quot;V&quot;</td><td>27.0</td><td>&quot;V&quot;</td><td>27.0</td><td>&quot;V&quot;</td><td>22.0</td><td>&quot;V&quot;</td><td>21.0</td><td>&quot;V&quot;</td><td>22.0</td><td>&quot;V&quot;</td><td>25.0</td><td>&quot;V&quot;</td><td>31.0</td><td>&quot;V&quot;</td><td>22.0</td><td>&quot;V&quot;</td><td>29.0</td><td>&quot;V&quot;</td><td>29.0</td><td>&quot;V&quot;</td><td>37.0</td><td>&quot;V&quot;</td><td>21.0</td><td>&quot;V&quot;</td><td>15.0</td><td>&quot;V&quot;</td><td>20.0</td><td>&quot;V&quot;</td><td>21.0</td><td>&quot;V&quot;</td><td>25.0</td><td>&quot;V&quot;</td><td>58.0</td><td>&quot;V&quot;</td><td>0.0</td><td>&quot;N&quot;</td></tr><tr><td>28</td><td>79</td><td>8</td><td>8</td><td>&quot;28079008_8_8&quot;</td><td>2024</td><td>10</td><td>55.0</td><td>&quot;V&quot;</td><td>25.0</td><td>&quot;V&quot;</td><td>21.0</td><td>&quot;V&quot;</td><td>34.0</td><td>&quot;V&quot;</td><td>27.0</td><td>&quot;V&quot;</td><td>12.0</td><td>&quot;V&quot;</td><td>25.0</td><td>&quot;N&quot;</td><td>22.0</td><td>&quot;V&quot;</td><td>20.0</td><td>&quot;V&quot;</td><td>27.0</td><td>&quot;V&quot;</td><td>37.0</td><td>&quot;V&quot;</td><td>24.0</td><td>&quot;V&quot;</td><td>31.0</td><td>&quot;V&quot;</td><td>43.0</td><td>&quot;V&quot;</td><td>23.0</td><td>&quot;V&quot;</td><td>20.0</td><td>&quot;V&quot;</td><td>20.0</td><td>&quot;V&quot;</td><td>30.0</td><td>&quot;V&quot;</td><td>36.0</td><td>&quot;V&quot;</td><td>32.0</td><td>&quot;V&quot;</td><td>49.0</td><td>&quot;V&quot;</td><td>27.0</td><td>&quot;V&quot;</td><td>31.0</td><td>&quot;V&quot;</td><td>34.0</td><td>&quot;V&quot;</td><td>37.0</td><td>&quot;V&quot;</td><td>18.0</td><td>&quot;V&quot;</td><td>15.0</td><td>&quot;V&quot;</td><td>21.0</td><td>&quot;V&quot;</td><td>21.0</td><td>&quot;V&quot;</td><td>32.0</td><td>&quot;V&quot;</td><td>34.0</td><td>&quot;V&quot;</td></tr></tbody></table></div>"
      ],
      "text/plain": [
       "shape: (10, 69)\n",
       "┌───────────┬───────────┬──────────┬──────────┬───┬──────┬─────┬──────┬─────┐\n",
       "│ PROVINCIA ┆ MUNICIPIO ┆ ESTACION ┆ MAGNITUD ┆ … ┆ D30  ┆ V30 ┆ D31  ┆ V31 │\n",
       "│ ---       ┆ ---       ┆ ---      ┆ ---      ┆   ┆ ---  ┆ --- ┆ ---  ┆ --- │\n",
       "│ i64       ┆ i64       ┆ i64      ┆ i64      ┆   ┆ f64  ┆ str ┆ f64  ┆ str │\n",
       "╞═══════════╪═══════════╪══════════╪══════════╪═══╪══════╪═════╪══════╪═════╡\n",
       "│ 28        ┆ 79        ┆ 8        ┆ 8        ┆ … ┆ 47.0 ┆ V   ┆ 40.0 ┆ V   │\n",
       "│ 28        ┆ 79        ┆ 8        ┆ 8        ┆ … ┆ 0.0  ┆ N   ┆ 0.0  ┆ N   │\n",
       "│ 28        ┆ 79        ┆ 8        ┆ 8        ┆ … ┆ 12.0 ┆ V   ┆ 12.0 ┆ V   │\n",
       "│ 28        ┆ 79        ┆ 8        ┆ 8        ┆ … ┆ 23.0 ┆ V   ┆ 0.0  ┆ N   │\n",
       "│ 28        ┆ 79        ┆ 8        ┆ 8        ┆ … ┆ 19.0 ┆ V   ┆ 13.0 ┆ V   │\n",
       "│ 28        ┆ 79        ┆ 8        ┆ 8        ┆ … ┆ 9.0  ┆ V   ┆ 0.0  ┆ N   │\n",
       "│ 28        ┆ 79        ┆ 8        ┆ 8        ┆ … ┆ 21.0 ┆ V   ┆ 30.0 ┆ V   │\n",
       "│ 28        ┆ 79        ┆ 8        ┆ 8        ┆ … ┆ 18.0 ┆ V   ┆ 15.0 ┆ V   │\n",
       "│ 28        ┆ 79        ┆ 8        ┆ 8        ┆ … ┆ 58.0 ┆ V   ┆ 0.0  ┆ N   │\n",
       "│ 28        ┆ 79        ┆ 8        ┆ 8        ┆ … ┆ 32.0 ┆ V   ┆ 34.0 ┆ V   │\n",
       "└───────────┴───────────┴──────────┴──────────┴───┴──────┴─────┴──────┴─────┘"
      ]
     },
     "execution_count": 6,
     "metadata": {},
     "output_type": "execute_result"
    }
   ],
   "source": [
    "dfp.filter(ESTACION=8, MAGNITUD = 8 ).head(20)"
   ]
  },
  {
   "cell_type": "code",
   "execution_count": 8,
   "metadata": {},
   "outputs": [
    {
     "data": {
      "text/html": [
       "<div><style>\n",
       ".dataframe > thead > tr,\n",
       ".dataframe > tbody > tr {\n",
       "  text-align: right;\n",
       "  white-space: pre-wrap;\n",
       "}\n",
       "</style>\n",
       "<small>shape: (10, 69)</small><table border=\"1\" class=\"dataframe\"><thead><tr><th>PROVINCIA</th><th>MUNICIPIO</th><th>ESTACION</th><th>MAGNITUD</th><th>PUNTO_MUESTREO</th><th>ANO</th><th>MES</th><th>D01</th><th>V01</th><th>D02</th><th>V02</th><th>D03</th><th>V03</th><th>D04</th><th>V04</th><th>D05</th><th>V05</th><th>D06</th><th>V06</th><th>D07</th><th>V07</th><th>D08</th><th>V08</th><th>D09</th><th>V09</th><th>D10</th><th>V10</th><th>D11</th><th>V11</th><th>D12</th><th>V12</th><th>D13</th><th>V13</th><th>D14</th><th>V14</th><th>D15</th><th>V15</th><th>D16</th><th>V16</th><th>D17</th><th>V17</th><th>D18</th><th>V18</th><th>D19</th><th>V19</th><th>D20</th><th>V20</th><th>D21</th><th>V21</th><th>D22</th><th>V22</th><th>D23</th><th>V23</th><th>D24</th><th>V24</th><th>D25</th><th>V25</th><th>D26</th><th>V26</th><th>D27</th><th>V27</th><th>D28</th><th>V28</th><th>D29</th><th>V29</th><th>D30</th><th>V30</th><th>D31</th><th>V31</th></tr><tr><td>i64</td><td>i64</td><td>i64</td><td>i64</td><td>str</td><td>i64</td><td>i64</td><td>f64</td><td>str</td><td>f64</td><td>str</td><td>f64</td><td>str</td><td>f64</td><td>str</td><td>f64</td><td>str</td><td>f64</td><td>str</td><td>f64</td><td>str</td><td>f64</td><td>str</td><td>f64</td><td>str</td><td>f64</td><td>str</td><td>f64</td><td>str</td><td>f64</td><td>str</td><td>f64</td><td>str</td><td>f64</td><td>str</td><td>f64</td><td>str</td><td>f64</td><td>str</td><td>f64</td><td>str</td><td>f64</td><td>str</td><td>f64</td><td>str</td><td>f64</td><td>str</td><td>f64</td><td>str</td><td>f64</td><td>str</td><td>f64</td><td>str</td><td>f64</td><td>str</td><td>f64</td><td>str</td><td>f64</td><td>str</td><td>f64</td><td>str</td><td>f64</td><td>str</td><td>f64</td><td>str</td><td>f64</td><td>str</td><td>f64</td><td>str</td></tr></thead><tbody><tr><td>28</td><td>79</td><td>8</td><td>8</td><td>&quot;28079008_8_8&quot;</td><td>2024</td><td>1</td><td>34.0</td><td>&quot;V&quot;</td><td>45.0</td><td>&quot;V&quot;</td><td>32.0</td><td>&quot;V&quot;</td><td>34.0</td><td>&quot;V&quot;</td><td>21.0</td><td>&quot;V&quot;</td><td>19.0</td><td>&quot;V&quot;</td><td>30.0</td><td>&quot;V&quot;</td><td>50.0</td><td>&quot;V&quot;</td><td>42.0</td><td>&quot;V&quot;</td><td>37.0</td><td>&quot;V&quot;</td><td>31.0</td><td>&quot;V&quot;</td><td>39.0</td><td>&quot;V&quot;</td><td>48.0</td><td>&quot;V&quot;</td><td>40.0</td><td>&quot;V&quot;</td><td>24.0</td><td>&quot;V&quot;</td><td>25.0</td><td>&quot;V&quot;</td><td>17.0</td><td>&quot;V&quot;</td><td>21.0</td><td>&quot;V&quot;</td><td>23.0</td><td>&quot;V&quot;</td><td>20.0</td><td>&quot;V&quot;</td><td>30.0</td><td>&quot;V&quot;</td><td>53.0</td><td>&quot;V&quot;</td><td>54.0</td><td>&quot;V&quot;</td><td>53.0</td><td>&quot;V&quot;</td><td>53.0</td><td>&quot;V&quot;</td><td>51.0</td><td>&quot;V&quot;</td><td>41.0</td><td>&quot;V&quot;</td><td>37.0</td><td>&quot;V&quot;</td><td>35.0</td><td>&quot;V&quot;</td><td>47.0</td><td>&quot;V&quot;</td><td>40.0</td><td>&quot;V&quot;</td></tr><tr><td>28</td><td>79</td><td>8</td><td>8</td><td>&quot;28079008_8_8&quot;</td><td>2024</td><td>2</td><td>46.0</td><td>&quot;V&quot;</td><td>47.0</td><td>&quot;V&quot;</td><td>38.0</td><td>&quot;V&quot;</td><td>42.0</td><td>&quot;V&quot;</td><td>62.0</td><td>&quot;V&quot;</td><td>50.0</td><td>&quot;V&quot;</td><td>26.0</td><td>&quot;V&quot;</td><td>28.0</td><td>&quot;V&quot;</td><td>23.0</td><td>&quot;V&quot;</td><td>14.0</td><td>&quot;V&quot;</td><td>15.0</td><td>&quot;V&quot;</td><td>21.0</td><td>&quot;V&quot;</td><td>30.0</td><td>&quot;V&quot;</td><td>38.0</td><td>&quot;V&quot;</td><td>35.0</td><td>&quot;V&quot;</td><td>32.0</td><td>&quot;V&quot;</td><td>46.0</td><td>&quot;V&quot;</td><td>38.0</td><td>&quot;V&quot;</td><td>43.0</td><td>&quot;V&quot;</td><td>44.0</td><td>&quot;V&quot;</td><td>49.0</td><td>&quot;V&quot;</td><td>17.0</td><td>&quot;V&quot;</td><td>18.0</td><td>&quot;V&quot;</td><td>16.0</td><td>&quot;V&quot;</td><td>8.0</td><td>&quot;V&quot;</td><td>16.0</td><td>&quot;N&quot;</td><td>22.0</td><td>&quot;V&quot;</td><td>38.0</td><td>&quot;V&quot;</td><td>40.0</td><td>&quot;V&quot;</td><td>0.0</td><td>&quot;N&quot;</td><td>0.0</td><td>&quot;N&quot;</td></tr><tr><td>28</td><td>79</td><td>8</td><td>8</td><td>&quot;28079008_8_8&quot;</td><td>2024</td><td>3</td><td>23.0</td><td>&quot;V&quot;</td><td>17.0</td><td>&quot;V&quot;</td><td>14.0</td><td>&quot;V&quot;</td><td>21.0</td><td>&quot;V&quot;</td><td>26.0</td><td>&quot;V&quot;</td><td>41.0</td><td>&quot;V&quot;</td><td>32.0</td><td>&quot;V&quot;</td><td>17.0</td><td>&quot;V&quot;</td><td>13.0</td><td>&quot;V&quot;</td><td>13.0</td><td>&quot;V&quot;</td><td>25.0</td><td>&quot;V&quot;</td><td>55.0</td><td>&quot;V&quot;</td><td>43.0</td><td>&quot;V&quot;</td><td>42.0</td><td>&quot;V&quot;</td><td>35.0</td><td>&quot;V&quot;</td><td>39.0</td><td>&quot;V&quot;</td><td>43.0</td><td>&quot;V&quot;</td><td>52.0</td><td>&quot;V&quot;</td><td>61.0</td><td>&quot;N&quot;</td><td>37.0</td><td>&quot;V&quot;</td><td>28.0</td><td>&quot;V&quot;</td><td>42.0</td><td>&quot;V&quot;</td><td>26.0</td><td>&quot;V&quot;</td><td>13.0</td><td>&quot;V&quot;</td><td>18.0</td><td>&quot;V&quot;</td><td>15.0</td><td>&quot;V&quot;</td><td>11.0</td><td>&quot;V&quot;</td><td>7.0</td><td>&quot;V&quot;</td><td>12.0</td><td>&quot;V&quot;</td><td>12.0</td><td>&quot;V&quot;</td><td>12.0</td><td>&quot;V&quot;</td></tr><tr><td>28</td><td>79</td><td>8</td><td>8</td><td>&quot;28079008_8_8&quot;</td><td>2024</td><td>4</td><td>18.0</td><td>&quot;V&quot;</td><td>28.0</td><td>&quot;V&quot;</td><td>24.0</td><td>&quot;V&quot;</td><td>43.0</td><td>&quot;V&quot;</td><td>43.0</td><td>&quot;V&quot;</td><td>40.0</td><td>&quot;V&quot;</td><td>27.0</td><td>&quot;V&quot;</td><td>16.0</td><td>&quot;V&quot;</td><td>19.0</td><td>&quot;V&quot;</td><td>24.0</td><td>&quot;V&quot;</td><td>26.0</td><td>&quot;V&quot;</td><td>39.0</td><td>&quot;V&quot;</td><td>42.0</td><td>&quot;V&quot;</td><td>31.0</td><td>&quot;V&quot;</td><td>37.0</td><td>&quot;V&quot;</td><td>25.0</td><td>&quot;V&quot;</td><td>16.0</td><td>&quot;V&quot;</td><td>15.0</td><td>&quot;V&quot;</td><td>22.0</td><td>&quot;V&quot;</td><td>19.0</td><td>&quot;V&quot;</td><td>12.0</td><td>&quot;V&quot;</td><td>12.0</td><td>&quot;V&quot;</td><td>15.0</td><td>&quot;V&quot;</td><td>21.0</td><td>&quot;V&quot;</td><td>30.0</td><td>&quot;V&quot;</td><td>22.0</td><td>&quot;V&quot;</td><td>13.0</td><td>&quot;V&quot;</td><td>17.0</td><td>&quot;V&quot;</td><td>17.0</td><td>&quot;V&quot;</td><td>23.0</td><td>&quot;V&quot;</td><td>0.0</td><td>&quot;N&quot;</td></tr><tr><td>28</td><td>79</td><td>8</td><td>8</td><td>&quot;28079008_8_8&quot;</td><td>2024</td><td>5</td><td>9.0</td><td>&quot;V&quot;</td><td>9.0</td><td>&quot;V&quot;</td><td>14.0</td><td>&quot;V&quot;</td><td>13.0</td><td>&quot;V&quot;</td><td>10.0</td><td>&quot;V&quot;</td><td>17.0</td><td>&quot;V&quot;</td><td>18.0</td><td>&quot;V&quot;</td><td>25.0</td><td>&quot;V&quot;</td><td>38.0</td><td>&quot;V&quot;</td><td>36.0</td><td>&quot;V&quot;</td><td>17.0</td><td>&quot;V&quot;</td><td>19.0</td><td>&quot;V&quot;</td><td>26.0</td><td>&quot;V&quot;</td><td>13.0</td><td>&quot;V&quot;</td><td>9.0</td><td>&quot;V&quot;</td><td>17.0</td><td>&quot;V&quot;</td><td>17.0</td><td>&quot;V&quot;</td><td>14.0</td><td>&quot;V&quot;</td><td>12.0</td><td>&quot;V&quot;</td><td>19.0</td><td>&quot;V&quot;</td><td>22.0</td><td>&quot;V&quot;</td><td>17.0</td><td>&quot;V&quot;</td><td>22.0</td><td>&quot;V&quot;</td><td>18.0</td><td>&quot;V&quot;</td><td>21.0</td><td>&quot;V&quot;</td><td>29.0</td><td>&quot;V&quot;</td><td>22.0</td><td>&quot;V&quot;</td><td>19.0</td><td>&quot;V&quot;</td><td>25.0</td><td>&quot;V&quot;</td><td>19.0</td><td>&quot;V&quot;</td><td>13.0</td><td>&quot;V&quot;</td></tr><tr><td>28</td><td>79</td><td>8</td><td>8</td><td>&quot;28079008_8_8&quot;</td><td>2024</td><td>6</td><td>8.0</td><td>&quot;V&quot;</td><td>10.0</td><td>&quot;V&quot;</td><td>13.0</td><td>&quot;V&quot;</td><td>22.0</td><td>&quot;V&quot;</td><td>27.0</td><td>&quot;V&quot;</td><td>36.0</td><td>&quot;V&quot;</td><td>23.0</td><td>&quot;V&quot;</td><td>18.0</td><td>&quot;V&quot;</td><td>12.0</td><td>&quot;V&quot;</td><td>15.0</td><td>&quot;V&quot;</td><td>13.0</td><td>&quot;V&quot;</td><td>13.0</td><td>&quot;V&quot;</td><td>20.0</td><td>&quot;V&quot;</td><td>31.0</td><td>&quot;V&quot;</td><td>12.0</td><td>&quot;V&quot;</td><td>15.0</td><td>&quot;V&quot;</td><td>18.0</td><td>&quot;V&quot;</td><td>25.0</td><td>&quot;V&quot;</td><td>19.0</td><td>&quot;V&quot;</td><td>18.0</td><td>&quot;V&quot;</td><td>21.0</td><td>&quot;V&quot;</td><td>22.0</td><td>&quot;V&quot;</td><td>7.0</td><td>&quot;V&quot;</td><td>15.0</td><td>&quot;V&quot;</td><td>23.0</td><td>&quot;V&quot;</td><td>20.0</td><td>&quot;V&quot;</td><td>23.0</td><td>&quot;V&quot;</td><td>16.0</td><td>&quot;V&quot;</td><td>9.0</td><td>&quot;V&quot;</td><td>9.0</td><td>&quot;V&quot;</td><td>0.0</td><td>&quot;N&quot;</td></tr><tr><td>28</td><td>79</td><td>8</td><td>8</td><td>&quot;28079008_8_8&quot;</td><td>2024</td><td>7</td><td>13.0</td><td>&quot;V&quot;</td><td>11.0</td><td>&quot;V&quot;</td><td>22.0</td><td>&quot;V&quot;</td><td>35.0</td><td>&quot;V&quot;</td><td>29.0</td><td>&quot;V&quot;</td><td>13.0</td><td>&quot;V&quot;</td><td>8.0</td><td>&quot;V&quot;</td><td>20.0</td><td>&quot;V&quot;</td><td>23.0</td><td>&quot;V&quot;</td><td>16.0</td><td>&quot;V&quot;</td><td>23.0</td><td>&quot;V&quot;</td><td>15.0</td><td>&quot;V&quot;</td><td>11.0</td><td>&quot;V&quot;</td><td>11.0</td><td>&quot;V&quot;</td><td>13.0</td><td>&quot;V&quot;</td><td>21.0</td><td>&quot;V&quot;</td><td>30.0</td><td>&quot;V&quot;</td><td>33.0</td><td>&quot;V&quot;</td><td>37.0</td><td>&quot;V&quot;</td><td>22.0</td><td>&quot;V&quot;</td><td>6.0</td><td>&quot;V&quot;</td><td>23.0</td><td>&quot;V&quot;</td><td>25.0</td><td>&quot;V&quot;</td><td>28.0</td><td>&quot;V&quot;</td><td>14.0</td><td>&quot;V&quot;</td><td>16.0</td><td>&quot;V&quot;</td><td>13.0</td><td>&quot;V&quot;</td><td>7.0</td><td>&quot;V&quot;</td><td>18.0</td><td>&quot;V&quot;</td><td>21.0</td><td>&quot;V&quot;</td><td>30.0</td><td>&quot;V&quot;</td></tr><tr><td>28</td><td>79</td><td>8</td><td>8</td><td>&quot;28079008_8_8&quot;</td><td>2024</td><td>8</td><td>27.0</td><td>&quot;V&quot;</td><td>20.0</td><td>&quot;V&quot;</td><td>11.0</td><td>&quot;V&quot;</td><td>13.0</td><td>&quot;V&quot;</td><td>20.0</td><td>&quot;V&quot;</td><td>32.0</td><td>&quot;V&quot;</td><td>28.0</td><td>&quot;V&quot;</td><td>24.0</td><td>&quot;V&quot;</td><td>17.0</td><td>&quot;V&quot;</td><td>5.0</td><td>&quot;V&quot;</td><td>7.0</td><td>&quot;V&quot;</td><td>15.0</td><td>&quot;V&quot;</td><td>17.0</td><td>&quot;V&quot;</td><td>12.0</td><td>&quot;V&quot;</td><td>9.0</td><td>&quot;V&quot;</td><td>13.0</td><td>&quot;V&quot;</td><td>15.0</td><td>&quot;V&quot;</td><td>11.0</td><td>&quot;V&quot;</td><td>14.0</td><td>&quot;V&quot;</td><td>22.0</td><td>&quot;V&quot;</td><td>15.0</td><td>&quot;V&quot;</td><td>23.0</td><td>&quot;V&quot;</td><td>24.0</td><td>&quot;V&quot;</td><td>17.0</td><td>&quot;V&quot;</td><td>13.0</td><td>&quot;V&quot;</td><td>16.0</td><td>&quot;V&quot;</td><td>24.0</td><td>&quot;V&quot;</td><td>33.0</td><td>&quot;V&quot;</td><td>20.0</td><td>&quot;V&quot;</td><td>18.0</td><td>&quot;V&quot;</td><td>15.0</td><td>&quot;V&quot;</td></tr><tr><td>28</td><td>79</td><td>8</td><td>8</td><td>&quot;28079008_8_8&quot;</td><td>2024</td><td>9</td><td>16.0</td><td>&quot;V&quot;</td><td>21.0</td><td>&quot;V&quot;</td><td>20.0</td><td>&quot;V&quot;</td><td>15.0</td><td>&quot;V&quot;</td><td>18.0</td><td>&quot;V&quot;</td><td>23.0</td><td>&quot;V&quot;</td><td>18.0</td><td>&quot;V&quot;</td><td>17.0</td><td>&quot;V&quot;</td><td>33.0</td><td>&quot;V&quot;</td><td>25.0</td><td>&quot;V&quot;</td><td>27.0</td><td>&quot;V&quot;</td><td>22.0</td><td>&quot;V&quot;</td><td>14.0</td><td>&quot;V&quot;</td><td>27.0</td><td>&quot;V&quot;</td><td>27.0</td><td>&quot;V&quot;</td><td>22.0</td><td>&quot;V&quot;</td><td>21.0</td><td>&quot;V&quot;</td><td>22.0</td><td>&quot;V&quot;</td><td>25.0</td><td>&quot;V&quot;</td><td>31.0</td><td>&quot;V&quot;</td><td>22.0</td><td>&quot;V&quot;</td><td>29.0</td><td>&quot;V&quot;</td><td>29.0</td><td>&quot;V&quot;</td><td>37.0</td><td>&quot;V&quot;</td><td>21.0</td><td>&quot;V&quot;</td><td>15.0</td><td>&quot;V&quot;</td><td>20.0</td><td>&quot;V&quot;</td><td>21.0</td><td>&quot;V&quot;</td><td>25.0</td><td>&quot;V&quot;</td><td>58.0</td><td>&quot;V&quot;</td><td>0.0</td><td>&quot;N&quot;</td></tr><tr><td>28</td><td>79</td><td>8</td><td>8</td><td>&quot;28079008_8_8&quot;</td><td>2024</td><td>10</td><td>55.0</td><td>&quot;V&quot;</td><td>25.0</td><td>&quot;V&quot;</td><td>21.0</td><td>&quot;V&quot;</td><td>34.0</td><td>&quot;V&quot;</td><td>27.0</td><td>&quot;V&quot;</td><td>12.0</td><td>&quot;V&quot;</td><td>25.0</td><td>&quot;N&quot;</td><td>22.0</td><td>&quot;V&quot;</td><td>20.0</td><td>&quot;V&quot;</td><td>27.0</td><td>&quot;V&quot;</td><td>37.0</td><td>&quot;V&quot;</td><td>24.0</td><td>&quot;V&quot;</td><td>31.0</td><td>&quot;V&quot;</td><td>43.0</td><td>&quot;V&quot;</td><td>23.0</td><td>&quot;V&quot;</td><td>20.0</td><td>&quot;V&quot;</td><td>20.0</td><td>&quot;V&quot;</td><td>30.0</td><td>&quot;V&quot;</td><td>36.0</td><td>&quot;V&quot;</td><td>32.0</td><td>&quot;V&quot;</td><td>49.0</td><td>&quot;V&quot;</td><td>27.0</td><td>&quot;V&quot;</td><td>31.0</td><td>&quot;V&quot;</td><td>34.0</td><td>&quot;V&quot;</td><td>37.0</td><td>&quot;V&quot;</td><td>18.0</td><td>&quot;V&quot;</td><td>15.0</td><td>&quot;V&quot;</td><td>21.0</td><td>&quot;V&quot;</td><td>21.0</td><td>&quot;V&quot;</td><td>32.0</td><td>&quot;V&quot;</td><td>34.0</td><td>&quot;V&quot;</td></tr></tbody></table></div>"
      ],
      "text/plain": [
       "shape: (10, 69)\n",
       "┌───────────┬───────────┬──────────┬──────────┬───┬──────┬─────┬──────┬─────┐\n",
       "│ PROVINCIA ┆ MUNICIPIO ┆ ESTACION ┆ MAGNITUD ┆ … ┆ D30  ┆ V30 ┆ D31  ┆ V31 │\n",
       "│ ---       ┆ ---       ┆ ---      ┆ ---      ┆   ┆ ---  ┆ --- ┆ ---  ┆ --- │\n",
       "│ i64       ┆ i64       ┆ i64      ┆ i64      ┆   ┆ f64  ┆ str ┆ f64  ┆ str │\n",
       "╞═══════════╪═══════════╪══════════╪══════════╪═══╪══════╪═════╪══════╪═════╡\n",
       "│ 28        ┆ 79        ┆ 8        ┆ 8        ┆ … ┆ 47.0 ┆ V   ┆ 40.0 ┆ V   │\n",
       "│ 28        ┆ 79        ┆ 8        ┆ 8        ┆ … ┆ 0.0  ┆ N   ┆ 0.0  ┆ N   │\n",
       "│ 28        ┆ 79        ┆ 8        ┆ 8        ┆ … ┆ 12.0 ┆ V   ┆ 12.0 ┆ V   │\n",
       "│ 28        ┆ 79        ┆ 8        ┆ 8        ┆ … ┆ 23.0 ┆ V   ┆ 0.0  ┆ N   │\n",
       "│ 28        ┆ 79        ┆ 8        ┆ 8        ┆ … ┆ 19.0 ┆ V   ┆ 13.0 ┆ V   │\n",
       "│ 28        ┆ 79        ┆ 8        ┆ 8        ┆ … ┆ 9.0  ┆ V   ┆ 0.0  ┆ N   │\n",
       "│ 28        ┆ 79        ┆ 8        ┆ 8        ┆ … ┆ 21.0 ┆ V   ┆ 30.0 ┆ V   │\n",
       "│ 28        ┆ 79        ┆ 8        ┆ 8        ┆ … ┆ 18.0 ┆ V   ┆ 15.0 ┆ V   │\n",
       "│ 28        ┆ 79        ┆ 8        ┆ 8        ┆ … ┆ 58.0 ┆ V   ┆ 0.0  ┆ N   │\n",
       "│ 28        ┆ 79        ┆ 8        ┆ 8        ┆ … ┆ 32.0 ┆ V   ┆ 34.0 ┆ V   │\n",
       "└───────────┴───────────┴──────────┴──────────┴───┴──────┴─────┴──────┴─────┘"
      ]
     },
     "execution_count": 8,
     "metadata": {},
     "output_type": "execute_result"
    }
   ],
   "source": [
    "dfp.filter( (pl.col('ESTACION')==8) & (pl.col('MAGNITUD')==8)).head(20)"
   ]
  },
  {
   "cell_type": "code",
   "execution_count": 9,
   "metadata": {},
   "outputs": [
    {
     "data": {
      "text/html": [
       "<div><style>\n",
       ".dataframe > thead > tr,\n",
       ".dataframe > tbody > tr {\n",
       "  text-align: right;\n",
       "  white-space: pre-wrap;\n",
       "}\n",
       "</style>\n",
       "<small>shape: (620, 9)</small><table border=\"1\" class=\"dataframe\"><thead><tr><th>PROVINCIA</th><th>MUNICIPIO</th><th>ESTACION</th><th>MAGNITUD</th><th>PUNTO_MUESTREO</th><th>ANO</th><th>MES</th><th>variable</th><th>value</th></tr><tr><td>i64</td><td>i64</td><td>i64</td><td>i64</td><td>str</td><td>i64</td><td>i64</td><td>str</td><td>str</td></tr></thead><tbody><tr><td>28</td><td>79</td><td>8</td><td>8</td><td>&quot;28079008_8_8&quot;</td><td>2024</td><td>1</td><td>&quot;D01&quot;</td><td>&quot;34.0&quot;</td></tr><tr><td>28</td><td>79</td><td>8</td><td>8</td><td>&quot;28079008_8_8&quot;</td><td>2024</td><td>2</td><td>&quot;D01&quot;</td><td>&quot;46.0&quot;</td></tr><tr><td>28</td><td>79</td><td>8</td><td>8</td><td>&quot;28079008_8_8&quot;</td><td>2024</td><td>3</td><td>&quot;D01&quot;</td><td>&quot;23.0&quot;</td></tr><tr><td>28</td><td>79</td><td>8</td><td>8</td><td>&quot;28079008_8_8&quot;</td><td>2024</td><td>4</td><td>&quot;D01&quot;</td><td>&quot;18.0&quot;</td></tr><tr><td>28</td><td>79</td><td>8</td><td>8</td><td>&quot;28079008_8_8&quot;</td><td>2024</td><td>5</td><td>&quot;D01&quot;</td><td>&quot;9.0&quot;</td></tr><tr><td>&hellip;</td><td>&hellip;</td><td>&hellip;</td><td>&hellip;</td><td>&hellip;</td><td>&hellip;</td><td>&hellip;</td><td>&hellip;</td><td>&hellip;</td></tr><tr><td>28</td><td>79</td><td>8</td><td>8</td><td>&quot;28079008_8_8&quot;</td><td>2024</td><td>6</td><td>&quot;V31&quot;</td><td>&quot;N&quot;</td></tr><tr><td>28</td><td>79</td><td>8</td><td>8</td><td>&quot;28079008_8_8&quot;</td><td>2024</td><td>7</td><td>&quot;V31&quot;</td><td>&quot;V&quot;</td></tr><tr><td>28</td><td>79</td><td>8</td><td>8</td><td>&quot;28079008_8_8&quot;</td><td>2024</td><td>8</td><td>&quot;V31&quot;</td><td>&quot;V&quot;</td></tr><tr><td>28</td><td>79</td><td>8</td><td>8</td><td>&quot;28079008_8_8&quot;</td><td>2024</td><td>9</td><td>&quot;V31&quot;</td><td>&quot;N&quot;</td></tr><tr><td>28</td><td>79</td><td>8</td><td>8</td><td>&quot;28079008_8_8&quot;</td><td>2024</td><td>10</td><td>&quot;V31&quot;</td><td>&quot;V&quot;</td></tr></tbody></table></div>"
      ],
      "text/plain": [
       "shape: (620, 9)\n",
       "┌───────────┬───────────┬──────────┬──────────┬───┬──────┬─────┬──────────┬───────┐\n",
       "│ PROVINCIA ┆ MUNICIPIO ┆ ESTACION ┆ MAGNITUD ┆ … ┆ ANO  ┆ MES ┆ variable ┆ value │\n",
       "│ ---       ┆ ---       ┆ ---      ┆ ---      ┆   ┆ ---  ┆ --- ┆ ---      ┆ ---   │\n",
       "│ i64       ┆ i64       ┆ i64      ┆ i64      ┆   ┆ i64  ┆ i64 ┆ str      ┆ str   │\n",
       "╞═══════════╪═══════════╪══════════╪══════════╪═══╪══════╪═════╪══════════╪═══════╡\n",
       "│ 28        ┆ 79        ┆ 8        ┆ 8        ┆ … ┆ 2024 ┆ 1   ┆ D01      ┆ 34.0  │\n",
       "│ 28        ┆ 79        ┆ 8        ┆ 8        ┆ … ┆ 2024 ┆ 2   ┆ D01      ┆ 46.0  │\n",
       "│ 28        ┆ 79        ┆ 8        ┆ 8        ┆ … ┆ 2024 ┆ 3   ┆ D01      ┆ 23.0  │\n",
       "│ 28        ┆ 79        ┆ 8        ┆ 8        ┆ … ┆ 2024 ┆ 4   ┆ D01      ┆ 18.0  │\n",
       "│ 28        ┆ 79        ┆ 8        ┆ 8        ┆ … ┆ 2024 ┆ 5   ┆ D01      ┆ 9.0   │\n",
       "│ …         ┆ …         ┆ …        ┆ …        ┆ … ┆ …    ┆ …   ┆ …        ┆ …     │\n",
       "│ 28        ┆ 79        ┆ 8        ┆ 8        ┆ … ┆ 2024 ┆ 6   ┆ V31      ┆ N     │\n",
       "│ 28        ┆ 79        ┆ 8        ┆ 8        ┆ … ┆ 2024 ┆ 7   ┆ V31      ┆ V     │\n",
       "│ 28        ┆ 79        ┆ 8        ┆ 8        ┆ … ┆ 2024 ┆ 8   ┆ V31      ┆ V     │\n",
       "│ 28        ┆ 79        ┆ 8        ┆ 8        ┆ … ┆ 2024 ┆ 9   ┆ V31      ┆ N     │\n",
       "│ 28        ┆ 79        ┆ 8        ┆ 8        ┆ … ┆ 2024 ┆ 10  ┆ V31      ┆ V     │\n",
       "└───────────┴───────────┴──────────┴──────────┴───┴──────┴─────┴──────────┴───────┘"
      ]
     },
     "execution_count": 9,
     "metadata": {},
     "output_type": "execute_result"
    }
   ],
   "source": [
    "dfp2 =dfp.filter( (pl.col('ESTACION')==8) & (pl.col('MAGNITUD')==8)).unpivot(index = ['PROVINCIA',\t'MUNICIPIO',\t'ESTACION',\t'MAGNITUD'\t,'PUNTO_MUESTREO',\t'ANO',\t'MES',])\n",
    "\n",
    "dfp2"
   ]
  },
  {
   "cell_type": "code",
   "execution_count": 10,
   "metadata": {},
   "outputs": [
    {
     "data": {
      "text/html": [
       "<div><style>\n",
       ".dataframe > thead > tr,\n",
       ".dataframe > tbody > tr {\n",
       "  text-align: right;\n",
       "  white-space: pre-wrap;\n",
       "}\n",
       "</style>\n",
       "<small>shape: (620, 11)</small><table border=\"1\" class=\"dataframe\"><thead><tr><th>PROVINCIA</th><th>MUNICIPIO</th><th>ESTACION</th><th>MAGNITUD</th><th>PUNTO_MUESTREO</th><th>ANO</th><th>MES</th><th>variable</th><th>value</th><th>NV</th><th>DIA</th></tr><tr><td>i64</td><td>i64</td><td>i64</td><td>i64</td><td>str</td><td>i64</td><td>i64</td><td>str</td><td>str</td><td>str</td><td>str</td></tr></thead><tbody><tr><td>28</td><td>79</td><td>8</td><td>8</td><td>&quot;28079008_8_8&quot;</td><td>2024</td><td>1</td><td>&quot;D01&quot;</td><td>&quot;34.0&quot;</td><td>&quot;D&quot;</td><td>&quot;01&quot;</td></tr><tr><td>28</td><td>79</td><td>8</td><td>8</td><td>&quot;28079008_8_8&quot;</td><td>2024</td><td>2</td><td>&quot;D01&quot;</td><td>&quot;46.0&quot;</td><td>&quot;D&quot;</td><td>&quot;01&quot;</td></tr><tr><td>28</td><td>79</td><td>8</td><td>8</td><td>&quot;28079008_8_8&quot;</td><td>2024</td><td>3</td><td>&quot;D01&quot;</td><td>&quot;23.0&quot;</td><td>&quot;D&quot;</td><td>&quot;01&quot;</td></tr><tr><td>28</td><td>79</td><td>8</td><td>8</td><td>&quot;28079008_8_8&quot;</td><td>2024</td><td>4</td><td>&quot;D01&quot;</td><td>&quot;18.0&quot;</td><td>&quot;D&quot;</td><td>&quot;01&quot;</td></tr><tr><td>28</td><td>79</td><td>8</td><td>8</td><td>&quot;28079008_8_8&quot;</td><td>2024</td><td>5</td><td>&quot;D01&quot;</td><td>&quot;9.0&quot;</td><td>&quot;D&quot;</td><td>&quot;01&quot;</td></tr><tr><td>&hellip;</td><td>&hellip;</td><td>&hellip;</td><td>&hellip;</td><td>&hellip;</td><td>&hellip;</td><td>&hellip;</td><td>&hellip;</td><td>&hellip;</td><td>&hellip;</td><td>&hellip;</td></tr><tr><td>28</td><td>79</td><td>8</td><td>8</td><td>&quot;28079008_8_8&quot;</td><td>2024</td><td>6</td><td>&quot;V31&quot;</td><td>&quot;N&quot;</td><td>&quot;V&quot;</td><td>&quot;31&quot;</td></tr><tr><td>28</td><td>79</td><td>8</td><td>8</td><td>&quot;28079008_8_8&quot;</td><td>2024</td><td>7</td><td>&quot;V31&quot;</td><td>&quot;V&quot;</td><td>&quot;V&quot;</td><td>&quot;31&quot;</td></tr><tr><td>28</td><td>79</td><td>8</td><td>8</td><td>&quot;28079008_8_8&quot;</td><td>2024</td><td>8</td><td>&quot;V31&quot;</td><td>&quot;V&quot;</td><td>&quot;V&quot;</td><td>&quot;31&quot;</td></tr><tr><td>28</td><td>79</td><td>8</td><td>8</td><td>&quot;28079008_8_8&quot;</td><td>2024</td><td>9</td><td>&quot;V31&quot;</td><td>&quot;N&quot;</td><td>&quot;V&quot;</td><td>&quot;31&quot;</td></tr><tr><td>28</td><td>79</td><td>8</td><td>8</td><td>&quot;28079008_8_8&quot;</td><td>2024</td><td>10</td><td>&quot;V31&quot;</td><td>&quot;V&quot;</td><td>&quot;V&quot;</td><td>&quot;31&quot;</td></tr></tbody></table></div>"
      ],
      "text/plain": [
       "shape: (620, 11)\n",
       "┌───────────┬───────────┬──────────┬──────────┬───┬──────────┬───────┬─────┬─────┐\n",
       "│ PROVINCIA ┆ MUNICIPIO ┆ ESTACION ┆ MAGNITUD ┆ … ┆ variable ┆ value ┆ NV  ┆ DIA │\n",
       "│ ---       ┆ ---       ┆ ---      ┆ ---      ┆   ┆ ---      ┆ ---   ┆ --- ┆ --- │\n",
       "│ i64       ┆ i64       ┆ i64      ┆ i64      ┆   ┆ str      ┆ str   ┆ str ┆ str │\n",
       "╞═══════════╪═══════════╪══════════╪══════════╪═══╪══════════╪═══════╪═════╪═════╡\n",
       "│ 28        ┆ 79        ┆ 8        ┆ 8        ┆ … ┆ D01      ┆ 34.0  ┆ D   ┆ 01  │\n",
       "│ 28        ┆ 79        ┆ 8        ┆ 8        ┆ … ┆ D01      ┆ 46.0  ┆ D   ┆ 01  │\n",
       "│ 28        ┆ 79        ┆ 8        ┆ 8        ┆ … ┆ D01      ┆ 23.0  ┆ D   ┆ 01  │\n",
       "│ 28        ┆ 79        ┆ 8        ┆ 8        ┆ … ┆ D01      ┆ 18.0  ┆ D   ┆ 01  │\n",
       "│ 28        ┆ 79        ┆ 8        ┆ 8        ┆ … ┆ D01      ┆ 9.0   ┆ D   ┆ 01  │\n",
       "│ …         ┆ …         ┆ …        ┆ …        ┆ … ┆ …        ┆ …     ┆ …   ┆ …   │\n",
       "│ 28        ┆ 79        ┆ 8        ┆ 8        ┆ … ┆ V31      ┆ N     ┆ V   ┆ 31  │\n",
       "│ 28        ┆ 79        ┆ 8        ┆ 8        ┆ … ┆ V31      ┆ V     ┆ V   ┆ 31  │\n",
       "│ 28        ┆ 79        ┆ 8        ┆ 8        ┆ … ┆ V31      ┆ V     ┆ V   ┆ 31  │\n",
       "│ 28        ┆ 79        ┆ 8        ┆ 8        ┆ … ┆ V31      ┆ N     ┆ V   ┆ 31  │\n",
       "│ 28        ┆ 79        ┆ 8        ┆ 8        ┆ … ┆ V31      ┆ V     ┆ V   ┆ 31  │\n",
       "└───────────┴───────────┴──────────┴──────────┴───┴──────────┴───────┴─────┴─────┘"
      ]
     },
     "execution_count": 10,
     "metadata": {},
     "output_type": "execute_result"
    }
   ],
   "source": [
    "dfp3 = dfp2.with_columns((pl.col('variable').str.slice(0,1)).alias('NV')).with_columns((pl.col('variable').str.slice(1)).alias('DIA'))\n",
    "dfp3"
   ]
  },
  {
   "cell_type": "code",
   "execution_count": 11,
   "metadata": {},
   "outputs": [
    {
     "data": {
      "text/html": [
       "<div><style>\n",
       ".dataframe > thead > tr,\n",
       ".dataframe > tbody > tr {\n",
       "  text-align: right;\n",
       "  white-space: pre-wrap;\n",
       "}\n",
       "</style>\n",
       "<small>shape: (310, 10)</small><table border=\"1\" class=\"dataframe\"><thead><tr><th>PROVINCIA</th><th>MUNICIPIO</th><th>ESTACION</th><th>MAGNITUD</th><th>PUNTO_MUESTREO</th><th>ANO</th><th>MES</th><th>DIA</th><th>D</th><th>V</th></tr><tr><td>i64</td><td>i64</td><td>i64</td><td>i64</td><td>str</td><td>i64</td><td>i64</td><td>str</td><td>str</td><td>str</td></tr></thead><tbody><tr><td>28</td><td>79</td><td>8</td><td>8</td><td>&quot;28079008_8_8&quot;</td><td>2024</td><td>1</td><td>&quot;01&quot;</td><td>&quot;34.0&quot;</td><td>&quot;V&quot;</td></tr><tr><td>28</td><td>79</td><td>8</td><td>8</td><td>&quot;28079008_8_8&quot;</td><td>2024</td><td>2</td><td>&quot;01&quot;</td><td>&quot;46.0&quot;</td><td>&quot;V&quot;</td></tr><tr><td>28</td><td>79</td><td>8</td><td>8</td><td>&quot;28079008_8_8&quot;</td><td>2024</td><td>3</td><td>&quot;01&quot;</td><td>&quot;23.0&quot;</td><td>&quot;V&quot;</td></tr><tr><td>28</td><td>79</td><td>8</td><td>8</td><td>&quot;28079008_8_8&quot;</td><td>2024</td><td>4</td><td>&quot;01&quot;</td><td>&quot;18.0&quot;</td><td>&quot;V&quot;</td></tr><tr><td>28</td><td>79</td><td>8</td><td>8</td><td>&quot;28079008_8_8&quot;</td><td>2024</td><td>5</td><td>&quot;01&quot;</td><td>&quot;9.0&quot;</td><td>&quot;V&quot;</td></tr><tr><td>&hellip;</td><td>&hellip;</td><td>&hellip;</td><td>&hellip;</td><td>&hellip;</td><td>&hellip;</td><td>&hellip;</td><td>&hellip;</td><td>&hellip;</td><td>&hellip;</td></tr><tr><td>28</td><td>79</td><td>8</td><td>8</td><td>&quot;28079008_8_8&quot;</td><td>2024</td><td>6</td><td>&quot;31&quot;</td><td>&quot;0.0&quot;</td><td>&quot;N&quot;</td></tr><tr><td>28</td><td>79</td><td>8</td><td>8</td><td>&quot;28079008_8_8&quot;</td><td>2024</td><td>7</td><td>&quot;31&quot;</td><td>&quot;30.0&quot;</td><td>&quot;V&quot;</td></tr><tr><td>28</td><td>79</td><td>8</td><td>8</td><td>&quot;28079008_8_8&quot;</td><td>2024</td><td>8</td><td>&quot;31&quot;</td><td>&quot;15.0&quot;</td><td>&quot;V&quot;</td></tr><tr><td>28</td><td>79</td><td>8</td><td>8</td><td>&quot;28079008_8_8&quot;</td><td>2024</td><td>9</td><td>&quot;31&quot;</td><td>&quot;0.0&quot;</td><td>&quot;N&quot;</td></tr><tr><td>28</td><td>79</td><td>8</td><td>8</td><td>&quot;28079008_8_8&quot;</td><td>2024</td><td>10</td><td>&quot;31&quot;</td><td>&quot;34.0&quot;</td><td>&quot;V&quot;</td></tr></tbody></table></div>"
      ],
      "text/plain": [
       "shape: (310, 10)\n",
       "┌───────────┬───────────┬──────────┬──────────┬───┬─────┬─────┬──────┬─────┐\n",
       "│ PROVINCIA ┆ MUNICIPIO ┆ ESTACION ┆ MAGNITUD ┆ … ┆ MES ┆ DIA ┆ D    ┆ V   │\n",
       "│ ---       ┆ ---       ┆ ---      ┆ ---      ┆   ┆ --- ┆ --- ┆ ---  ┆ --- │\n",
       "│ i64       ┆ i64       ┆ i64      ┆ i64      ┆   ┆ i64 ┆ str ┆ str  ┆ str │\n",
       "╞═══════════╪═══════════╪══════════╪══════════╪═══╪═════╪═════╪══════╪═════╡\n",
       "│ 28        ┆ 79        ┆ 8        ┆ 8        ┆ … ┆ 1   ┆ 01  ┆ 34.0 ┆ V   │\n",
       "│ 28        ┆ 79        ┆ 8        ┆ 8        ┆ … ┆ 2   ┆ 01  ┆ 46.0 ┆ V   │\n",
       "│ 28        ┆ 79        ┆ 8        ┆ 8        ┆ … ┆ 3   ┆ 01  ┆ 23.0 ┆ V   │\n",
       "│ 28        ┆ 79        ┆ 8        ┆ 8        ┆ … ┆ 4   ┆ 01  ┆ 18.0 ┆ V   │\n",
       "│ 28        ┆ 79        ┆ 8        ┆ 8        ┆ … ┆ 5   ┆ 01  ┆ 9.0  ┆ V   │\n",
       "│ …         ┆ …         ┆ …        ┆ …        ┆ … ┆ …   ┆ …   ┆ …    ┆ …   │\n",
       "│ 28        ┆ 79        ┆ 8        ┆ 8        ┆ … ┆ 6   ┆ 31  ┆ 0.0  ┆ N   │\n",
       "│ 28        ┆ 79        ┆ 8        ┆ 8        ┆ … ┆ 7   ┆ 31  ┆ 30.0 ┆ V   │\n",
       "│ 28        ┆ 79        ┆ 8        ┆ 8        ┆ … ┆ 8   ┆ 31  ┆ 15.0 ┆ V   │\n",
       "│ 28        ┆ 79        ┆ 8        ┆ 8        ┆ … ┆ 9   ┆ 31  ┆ 0.0  ┆ N   │\n",
       "│ 28        ┆ 79        ┆ 8        ┆ 8        ┆ … ┆ 10  ┆ 31  ┆ 34.0 ┆ V   │\n",
       "└───────────┴───────────┴──────────┴──────────┴───┴─────┴─────┴──────┴─────┘"
      ]
     },
     "execution_count": 11,
     "metadata": {},
     "output_type": "execute_result"
    }
   ],
   "source": [
    "dfp4 =(dfp3\n",
    "    .pivot(on='NV', values='value', index = ['PROVINCIA',\t'MUNICIPIO',\t'ESTACION',\t'MAGNITUD'\t,'PUNTO_MUESTREO',\t'ANO',\t'MES',\t'DIA',])\n",
    ")\n",
    "dfp4"
   ]
  },
  {
   "cell_type": "code",
   "execution_count": 12,
   "metadata": {},
   "outputs": [
    {
     "data": {
      "text/html": [
       "<div><style>\n",
       ".dataframe > thead > tr,\n",
       ".dataframe > tbody > tr {\n",
       "  text-align: right;\n",
       "  white-space: pre-wrap;\n",
       "}\n",
       "</style>\n",
       "<small>shape: (310, 10)</small><table border=\"1\" class=\"dataframe\"><thead><tr><th>PROVINCIA</th><th>MUNICIPIO</th><th>ESTACION</th><th>MAGNITUD</th><th>PUNTO_MUESTREO</th><th>ANO</th><th>MES</th><th>DIA</th><th>D</th><th>V</th></tr><tr><td>i64</td><td>i64</td><td>i64</td><td>i64</td><td>str</td><td>i64</td><td>i64</td><td>i64</td><td>f64</td><td>str</td></tr></thead><tbody><tr><td>28</td><td>79</td><td>8</td><td>8</td><td>&quot;28079008_8_8&quot;</td><td>2024</td><td>1</td><td>1</td><td>34.0</td><td>&quot;V&quot;</td></tr><tr><td>28</td><td>79</td><td>8</td><td>8</td><td>&quot;28079008_8_8&quot;</td><td>2024</td><td>2</td><td>1</td><td>46.0</td><td>&quot;V&quot;</td></tr><tr><td>28</td><td>79</td><td>8</td><td>8</td><td>&quot;28079008_8_8&quot;</td><td>2024</td><td>3</td><td>1</td><td>23.0</td><td>&quot;V&quot;</td></tr><tr><td>28</td><td>79</td><td>8</td><td>8</td><td>&quot;28079008_8_8&quot;</td><td>2024</td><td>4</td><td>1</td><td>18.0</td><td>&quot;V&quot;</td></tr><tr><td>28</td><td>79</td><td>8</td><td>8</td><td>&quot;28079008_8_8&quot;</td><td>2024</td><td>5</td><td>1</td><td>9.0</td><td>&quot;V&quot;</td></tr><tr><td>&hellip;</td><td>&hellip;</td><td>&hellip;</td><td>&hellip;</td><td>&hellip;</td><td>&hellip;</td><td>&hellip;</td><td>&hellip;</td><td>&hellip;</td><td>&hellip;</td></tr><tr><td>28</td><td>79</td><td>8</td><td>8</td><td>&quot;28079008_8_8&quot;</td><td>2024</td><td>6</td><td>31</td><td>0.0</td><td>&quot;N&quot;</td></tr><tr><td>28</td><td>79</td><td>8</td><td>8</td><td>&quot;28079008_8_8&quot;</td><td>2024</td><td>7</td><td>31</td><td>30.0</td><td>&quot;V&quot;</td></tr><tr><td>28</td><td>79</td><td>8</td><td>8</td><td>&quot;28079008_8_8&quot;</td><td>2024</td><td>8</td><td>31</td><td>15.0</td><td>&quot;V&quot;</td></tr><tr><td>28</td><td>79</td><td>8</td><td>8</td><td>&quot;28079008_8_8&quot;</td><td>2024</td><td>9</td><td>31</td><td>0.0</td><td>&quot;N&quot;</td></tr><tr><td>28</td><td>79</td><td>8</td><td>8</td><td>&quot;28079008_8_8&quot;</td><td>2024</td><td>10</td><td>31</td><td>34.0</td><td>&quot;V&quot;</td></tr></tbody></table></div>"
      ],
      "text/plain": [
       "shape: (310, 10)\n",
       "┌───────────┬───────────┬──────────┬──────────┬───┬─────┬─────┬──────┬─────┐\n",
       "│ PROVINCIA ┆ MUNICIPIO ┆ ESTACION ┆ MAGNITUD ┆ … ┆ MES ┆ DIA ┆ D    ┆ V   │\n",
       "│ ---       ┆ ---       ┆ ---      ┆ ---      ┆   ┆ --- ┆ --- ┆ ---  ┆ --- │\n",
       "│ i64       ┆ i64       ┆ i64      ┆ i64      ┆   ┆ i64 ┆ i64 ┆ f64  ┆ str │\n",
       "╞═══════════╪═══════════╪══════════╪══════════╪═══╪═════╪═════╪══════╪═════╡\n",
       "│ 28        ┆ 79        ┆ 8        ┆ 8        ┆ … ┆ 1   ┆ 1   ┆ 34.0 ┆ V   │\n",
       "│ 28        ┆ 79        ┆ 8        ┆ 8        ┆ … ┆ 2   ┆ 1   ┆ 46.0 ┆ V   │\n",
       "│ 28        ┆ 79        ┆ 8        ┆ 8        ┆ … ┆ 3   ┆ 1   ┆ 23.0 ┆ V   │\n",
       "│ 28        ┆ 79        ┆ 8        ┆ 8        ┆ … ┆ 4   ┆ 1   ┆ 18.0 ┆ V   │\n",
       "│ 28        ┆ 79        ┆ 8        ┆ 8        ┆ … ┆ 5   ┆ 1   ┆ 9.0  ┆ V   │\n",
       "│ …         ┆ …         ┆ …        ┆ …        ┆ … ┆ …   ┆ …   ┆ …    ┆ …   │\n",
       "│ 28        ┆ 79        ┆ 8        ┆ 8        ┆ … ┆ 6   ┆ 31  ┆ 0.0  ┆ N   │\n",
       "│ 28        ┆ 79        ┆ 8        ┆ 8        ┆ … ┆ 7   ┆ 31  ┆ 30.0 ┆ V   │\n",
       "│ 28        ┆ 79        ┆ 8        ┆ 8        ┆ … ┆ 8   ┆ 31  ┆ 15.0 ┆ V   │\n",
       "│ 28        ┆ 79        ┆ 8        ┆ 8        ┆ … ┆ 9   ┆ 31  ┆ 0.0  ┆ N   │\n",
       "│ 28        ┆ 79        ┆ 8        ┆ 8        ┆ … ┆ 10  ┆ 31  ┆ 34.0 ┆ V   │\n",
       "└───────────┴───────────┴──────────┴──────────┴───┴─────┴─────┴──────┴─────┘"
      ]
     },
     "execution_count": 12,
     "metadata": {},
     "output_type": "execute_result"
    }
   ],
   "source": [
    "dfp5 = dfp4.with_columns(D = dfp4['D'].cast(float) ).with_columns(DIA = dfp4['DIA'].cast(int))\n",
    "dfp5"
   ]
  },
  {
   "cell_type": "code",
   "execution_count": 13,
   "metadata": {},
   "outputs": [
    {
     "data": {
      "text/html": [
       "<script type=\"esms-options\">{\"shimMode\": true}</script><style>*[data-root-id],\n",
       "*[data-root-id] > * {\n",
       "  box-sizing: border-box;\n",
       "  font-family: var(--jp-ui-font-family);\n",
       "  font-size: var(--jp-ui-font-size1);\n",
       "  color: var(--vscode-editor-foreground, var(--jp-ui-font-color1));\n",
       "}\n",
       "\n",
       "/* Override VSCode background color */\n",
       ".cell-output-ipywidget-background:has(\n",
       "    > .cell-output-ipywidget-background > .lm-Widget > *[data-root-id]\n",
       "  ),\n",
       ".cell-output-ipywidget-background:has(> .lm-Widget > *[data-root-id]) {\n",
       "  background-color: transparent !important;\n",
       "}\n",
       "</style>"
      ]
     },
     "metadata": {},
     "output_type": "display_data"
    },
    {
     "data": {
      "application/javascript": "(function(root) {\n  function now() {\n    return new Date();\n  }\n\n  const force = true;\n  const py_version = '3.6.2'.replace('rc', '-rc.').replace('.dev', '-dev.');\n  const reloading = false;\n  const Bokeh = root.Bokeh;\n\n  // Set a timeout for this load but only if we are not already initializing\n  if (typeof (root._bokeh_timeout) === \"undefined\" || (force || !root._bokeh_is_initializing)) {\n    root._bokeh_timeout = Date.now() + 5000;\n    root._bokeh_failed_load = false;\n  }\n\n  function run_callbacks() {\n    try {\n      root._bokeh_onload_callbacks.forEach(function(callback) {\n        if (callback != null)\n          callback();\n      });\n    } finally {\n      delete root._bokeh_onload_callbacks;\n    }\n    console.debug(\"Bokeh: all callbacks have finished\");\n  }\n\n  function load_libs(css_urls, js_urls, js_modules, js_exports, callback) {\n    if (css_urls == null) css_urls = [];\n    if (js_urls == null) js_urls = [];\n    if (js_modules == null) js_modules = [];\n    if (js_exports == null) js_exports = {};\n\n    root._bokeh_onload_callbacks.push(callback);\n\n    if (root._bokeh_is_loading > 0) {\n      // Don't load bokeh if it is still initializing\n      console.debug(\"Bokeh: BokehJS is being loaded, scheduling callback at\", now());\n      return null;\n    } else if (js_urls.length === 0 && js_modules.length === 0 && Object.keys(js_exports).length === 0) {\n      // There is nothing to load\n      run_callbacks();\n      return null;\n    }\n\n    function on_load() {\n      root._bokeh_is_loading--;\n      if (root._bokeh_is_loading === 0) {\n        console.debug(\"Bokeh: all BokehJS libraries/stylesheets loaded\");\n        run_callbacks()\n      }\n    }\n    window._bokeh_on_load = on_load\n\n    function on_error(e) {\n      const src_el = e.srcElement\n      console.error(\"failed to load \" + (src_el.href || src_el.src));\n    }\n\n    const skip = [];\n    if (window.requirejs) {\n      window.requirejs.config({'packages': {}, 'paths': {}, 'shim': {}});\n      root._bokeh_is_loading = css_urls.length + 0;\n    } else {\n      root._bokeh_is_loading = css_urls.length + js_urls.length + js_modules.length + Object.keys(js_exports).length;\n    }\n\n    const existing_stylesheets = []\n    const links = document.getElementsByTagName('link')\n    for (let i = 0; i < links.length; i++) {\n      const link = links[i]\n      if (link.href != null) {\n        existing_stylesheets.push(link.href)\n      }\n    }\n    for (let i = 0; i < css_urls.length; i++) {\n      const url = css_urls[i];\n      const escaped = encodeURI(url)\n      if (existing_stylesheets.indexOf(escaped) !== -1) {\n        on_load()\n        continue;\n      }\n      const element = document.createElement(\"link\");\n      element.onload = on_load;\n      element.onerror = on_error;\n      element.rel = \"stylesheet\";\n      element.type = \"text/css\";\n      element.href = url;\n      console.debug(\"Bokeh: injecting link tag for BokehJS stylesheet: \", url);\n      document.body.appendChild(element);\n    }    var existing_scripts = []\n    const scripts = document.getElementsByTagName('script')\n    for (let i = 0; i < scripts.length; i++) {\n      var script = scripts[i]\n      if (script.src != null) {\n        existing_scripts.push(script.src)\n      }\n    }\n    for (let i = 0; i < js_urls.length; i++) {\n      const url = js_urls[i];\n      const escaped = encodeURI(url)\n      if (skip.indexOf(escaped) !== -1 || existing_scripts.indexOf(escaped) !== -1) {\n        if (!window.requirejs) {\n          on_load();\n        }\n        continue;\n      }\n      const element = document.createElement('script');\n      element.onload = on_load;\n      element.onerror = on_error;\n      element.async = false;\n      element.src = url;\n      console.debug(\"Bokeh: injecting script tag for BokehJS library: \", url);\n      document.head.appendChild(element);\n    }\n    for (let i = 0; i < js_modules.length; i++) {\n      const url = js_modules[i];\n      const escaped = encodeURI(url)\n      if (skip.indexOf(escaped) !== -1 || existing_scripts.indexOf(escaped) !== -1) {\n        if (!window.requirejs) {\n          on_load();\n        }\n        continue;\n      }\n      var element = document.createElement('script');\n      element.onload = on_load;\n      element.onerror = on_error;\n      element.async = false;\n      element.src = url;\n      element.type = \"module\";\n      console.debug(\"Bokeh: injecting script tag for BokehJS library: \", url);\n      document.head.appendChild(element);\n    }\n    for (const name in js_exports) {\n      const url = js_exports[name];\n      const escaped = encodeURI(url)\n      if (skip.indexOf(escaped) >= 0 || root[name] != null) {\n        if (!window.requirejs) {\n          on_load();\n        }\n        continue;\n      }\n      var element = document.createElement('script');\n      element.onerror = on_error;\n      element.async = false;\n      element.type = \"module\";\n      console.debug(\"Bokeh: injecting script tag for BokehJS library: \", url);\n      element.textContent = `\n      import ${name} from \"${url}\"\n      window.${name} = ${name}\n      window._bokeh_on_load()\n      `\n      document.head.appendChild(element);\n    }\n    if (!js_urls.length && !js_modules.length) {\n      on_load()\n    }\n  };\n\n  function inject_raw_css(css) {\n    const element = document.createElement(\"style\");\n    element.appendChild(document.createTextNode(css));\n    document.body.appendChild(element);\n  }\n\n  const js_urls = [\"https://cdn.holoviz.org/panel/1.5.4/dist/bundled/reactiveesm/es-module-shims@^1.10.0/dist/es-module-shims.min.js\", \"https://cdn.bokeh.org/bokeh/release/bokeh-3.6.2.min.js\", \"https://cdn.bokeh.org/bokeh/release/bokeh-gl-3.6.2.min.js\", \"https://cdn.bokeh.org/bokeh/release/bokeh-widgets-3.6.2.min.js\", \"https://cdn.bokeh.org/bokeh/release/bokeh-tables-3.6.2.min.js\", \"https://cdn.holoviz.org/panel/1.5.4/dist/panel.min.js\"];\n  const js_modules = [];\n  const js_exports = {};\n  const css_urls = [];\n  const inline_js = [    function(Bokeh) {\n      Bokeh.set_log_level(\"info\");\n    },\nfunction(Bokeh) {} // ensure no trailing comma for IE\n  ];\n\n  function run_inline_js() {\n    if ((root.Bokeh !== undefined) || (force === true)) {\n      for (let i = 0; i < inline_js.length; i++) {\n        try {\n          inline_js[i].call(root, root.Bokeh);\n        } catch(e) {\n          if (!reloading) {\n            throw e;\n          }\n        }\n      }\n      // Cache old bokeh versions\n      if (Bokeh != undefined && !reloading) {\n        var NewBokeh = root.Bokeh;\n        if (Bokeh.versions === undefined) {\n          Bokeh.versions = new Map();\n        }\n        if (NewBokeh.version !== Bokeh.version) {\n          Bokeh.versions.set(NewBokeh.version, NewBokeh)\n        }\n        root.Bokeh = Bokeh;\n      }\n    } else if (Date.now() < root._bokeh_timeout) {\n      setTimeout(run_inline_js, 100);\n    } else if (!root._bokeh_failed_load) {\n      console.log(\"Bokeh: BokehJS failed to load within specified timeout.\");\n      root._bokeh_failed_load = true;\n    }\n    root._bokeh_is_initializing = false\n  }\n\n  function load_or_wait() {\n    // Implement a backoff loop that tries to ensure we do not load multiple\n    // versions of Bokeh and its dependencies at the same time.\n    // In recent versions we use the root._bokeh_is_initializing flag\n    // to determine whether there is an ongoing attempt to initialize\n    // bokeh, however for backward compatibility we also try to ensure\n    // that we do not start loading a newer (Panel>=1.0 and Bokeh>3) version\n    // before older versions are fully initialized.\n    if (root._bokeh_is_initializing && Date.now() > root._bokeh_timeout) {\n      // If the timeout and bokeh was not successfully loaded we reset\n      // everything and try loading again\n      root._bokeh_timeout = Date.now() + 5000;\n      root._bokeh_is_initializing = false;\n      root._bokeh_onload_callbacks = undefined;\n      root._bokeh_is_loading = 0\n      console.log(\"Bokeh: BokehJS was loaded multiple times but one version failed to initialize.\");\n      load_or_wait();\n    } else if (root._bokeh_is_initializing || (typeof root._bokeh_is_initializing === \"undefined\" && root._bokeh_onload_callbacks !== undefined)) {\n      setTimeout(load_or_wait, 100);\n    } else {\n      root._bokeh_is_initializing = true\n      root._bokeh_onload_callbacks = []\n      const bokeh_loaded = root.Bokeh != null && (root.Bokeh.version === py_version || (root.Bokeh.versions !== undefined && root.Bokeh.versions.has(py_version)));\n      if (!reloading && !bokeh_loaded) {\n        if (root.Bokeh) {\n          root.Bokeh = undefined;\n        }\n        console.debug(\"Bokeh: BokehJS not loaded, scheduling load and callback at\", now());\n      }\n      load_libs(css_urls, js_urls, js_modules, js_exports, function() {\n        console.debug(\"Bokeh: BokehJS plotting callback run at\", now());\n        run_inline_js();\n      });\n    }\n  }\n  // Give older versions of the autoload script a head-start to ensure\n  // they initialize before we start loading newer version.\n  setTimeout(load_or_wait, 100)\n}(window));",
      "application/vnd.holoviews_load.v0+json": ""
     },
     "metadata": {},
     "output_type": "display_data"
    },
    {
     "data": {
      "application/javascript": "\nif ((window.PyViz === undefined) || (window.PyViz instanceof HTMLElement)) {\n  window.PyViz = {comms: {}, comm_status:{}, kernels:{}, receivers: {}, plot_index: []}\n}\n\n\n    function JupyterCommManager() {\n    }\n\n    JupyterCommManager.prototype.register_target = function(plot_id, comm_id, msg_handler) {\n      if (window.comm_manager || ((window.Jupyter !== undefined) && (Jupyter.notebook.kernel != null))) {\n        var comm_manager = window.comm_manager || Jupyter.notebook.kernel.comm_manager;\n        comm_manager.register_target(comm_id, function(comm) {\n          comm.on_msg(msg_handler);\n        });\n      } else if ((plot_id in window.PyViz.kernels) && (window.PyViz.kernels[plot_id])) {\n        window.PyViz.kernels[plot_id].registerCommTarget(comm_id, function(comm) {\n          comm.onMsg = msg_handler;\n        });\n      } else if (typeof google != 'undefined' && google.colab.kernel != null) {\n        google.colab.kernel.comms.registerTarget(comm_id, (comm) => {\n          var messages = comm.messages[Symbol.asyncIterator]();\n          function processIteratorResult(result) {\n            var message = result.value;\n            console.log(message)\n            var content = {data: message.data, comm_id};\n            var buffers = []\n            for (var buffer of message.buffers || []) {\n              buffers.push(new DataView(buffer))\n            }\n            var metadata = message.metadata || {};\n            var msg = {content, buffers, metadata}\n            msg_handler(msg);\n            return messages.next().then(processIteratorResult);\n          }\n          return messages.next().then(processIteratorResult);\n        })\n      }\n    }\n\n    JupyterCommManager.prototype.get_client_comm = function(plot_id, comm_id, msg_handler) {\n      if (comm_id in window.PyViz.comms) {\n        return window.PyViz.comms[comm_id];\n      } else if (window.comm_manager || ((window.Jupyter !== undefined) && (Jupyter.notebook.kernel != null))) {\n        var comm_manager = window.comm_manager || Jupyter.notebook.kernel.comm_manager;\n        var comm = comm_manager.new_comm(comm_id, {}, {}, {}, comm_id);\n        if (msg_handler) {\n          comm.on_msg(msg_handler);\n        }\n      } else if ((plot_id in window.PyViz.kernels) && (window.PyViz.kernels[plot_id])) {\n        var comm = window.PyViz.kernels[plot_id].connectToComm(comm_id);\n        comm.open();\n        if (msg_handler) {\n          comm.onMsg = msg_handler;\n        }\n      } else if (typeof google != 'undefined' && google.colab.kernel != null) {\n        var comm_promise = google.colab.kernel.comms.open(comm_id)\n        comm_promise.then((comm) => {\n          window.PyViz.comms[comm_id] = comm;\n          if (msg_handler) {\n            var messages = comm.messages[Symbol.asyncIterator]();\n            function processIteratorResult(result) {\n              var message = result.value;\n              var content = {data: message.data};\n              var metadata = message.metadata || {comm_id};\n              var msg = {content, metadata}\n              msg_handler(msg);\n              return messages.next().then(processIteratorResult);\n            }\n            return messages.next().then(processIteratorResult);\n          }\n        }) \n        var sendClosure = (data, metadata, buffers, disposeOnDone) => {\n          return comm_promise.then((comm) => {\n            comm.send(data, metadata, buffers, disposeOnDone);\n          });\n        };\n        var comm = {\n          send: sendClosure\n        };\n      }\n      window.PyViz.comms[comm_id] = comm;\n      return comm;\n    }\n    window.PyViz.comm_manager = new JupyterCommManager();\n    \n\n\nvar JS_MIME_TYPE = 'application/javascript';\nvar HTML_MIME_TYPE = 'text/html';\nvar EXEC_MIME_TYPE = 'application/vnd.holoviews_exec.v0+json';\nvar CLASS_NAME = 'output';\n\n/**\n * Render data to the DOM node\n */\nfunction render(props, node) {\n  var div = document.createElement(\"div\");\n  var script = document.createElement(\"script\");\n  node.appendChild(div);\n  node.appendChild(script);\n}\n\n/**\n * Handle when a new output is added\n */\nfunction handle_add_output(event, handle) {\n  var output_area = handle.output_area;\n  var output = handle.output;\n  if ((output.data == undefined) || (!output.data.hasOwnProperty(EXEC_MIME_TYPE))) {\n    return\n  }\n  var id = output.metadata[EXEC_MIME_TYPE][\"id\"];\n  var toinsert = output_area.element.find(\".\" + CLASS_NAME.split(' ')[0]);\n  if (id !== undefined) {\n    var nchildren = toinsert.length;\n    var html_node = toinsert[nchildren-1].children[0];\n    html_node.innerHTML = output.data[HTML_MIME_TYPE];\n    var scripts = [];\n    var nodelist = html_node.querySelectorAll(\"script\");\n    for (var i in nodelist) {\n      if (nodelist.hasOwnProperty(i)) {\n        scripts.push(nodelist[i])\n      }\n    }\n\n    scripts.forEach( function (oldScript) {\n      var newScript = document.createElement(\"script\");\n      var attrs = [];\n      var nodemap = oldScript.attributes;\n      for (var j in nodemap) {\n        if (nodemap.hasOwnProperty(j)) {\n          attrs.push(nodemap[j])\n        }\n      }\n      attrs.forEach(function(attr) { newScript.setAttribute(attr.name, attr.value) });\n      newScript.appendChild(document.createTextNode(oldScript.innerHTML));\n      oldScript.parentNode.replaceChild(newScript, oldScript);\n    });\n    if (JS_MIME_TYPE in output.data) {\n      toinsert[nchildren-1].children[1].textContent = output.data[JS_MIME_TYPE];\n    }\n    output_area._hv_plot_id = id;\n    if ((window.Bokeh !== undefined) && (id in Bokeh.index)) {\n      window.PyViz.plot_index[id] = Bokeh.index[id];\n    } else {\n      window.PyViz.plot_index[id] = null;\n    }\n  } else if (output.metadata[EXEC_MIME_TYPE][\"server_id\"] !== undefined) {\n    var bk_div = document.createElement(\"div\");\n    bk_div.innerHTML = output.data[HTML_MIME_TYPE];\n    var script_attrs = bk_div.children[0].attributes;\n    for (var i = 0; i < script_attrs.length; i++) {\n      toinsert[toinsert.length - 1].childNodes[1].setAttribute(script_attrs[i].name, script_attrs[i].value);\n    }\n    // store reference to server id on output_area\n    output_area._bokeh_server_id = output.metadata[EXEC_MIME_TYPE][\"server_id\"];\n  }\n}\n\n/**\n * Handle when an output is cleared or removed\n */\nfunction handle_clear_output(event, handle) {\n  var id = handle.cell.output_area._hv_plot_id;\n  var server_id = handle.cell.output_area._bokeh_server_id;\n  if (((id === undefined) || !(id in PyViz.plot_index)) && (server_id !== undefined)) { return; }\n  var comm = window.PyViz.comm_manager.get_client_comm(\"hv-extension-comm\", \"hv-extension-comm\", function () {});\n  if (server_id !== null) {\n    comm.send({event_type: 'server_delete', 'id': server_id});\n    return;\n  } else if (comm !== null) {\n    comm.send({event_type: 'delete', 'id': id});\n  }\n  delete PyViz.plot_index[id];\n  if ((window.Bokeh !== undefined) & (id in window.Bokeh.index)) {\n    var doc = window.Bokeh.index[id].model.document\n    doc.clear();\n    const i = window.Bokeh.documents.indexOf(doc);\n    if (i > -1) {\n      window.Bokeh.documents.splice(i, 1);\n    }\n  }\n}\n\n/**\n * Handle kernel restart event\n */\nfunction handle_kernel_cleanup(event, handle) {\n  delete PyViz.comms[\"hv-extension-comm\"];\n  window.PyViz.plot_index = {}\n}\n\n/**\n * Handle update_display_data messages\n */\nfunction handle_update_output(event, handle) {\n  handle_clear_output(event, {cell: {output_area: handle.output_area}})\n  handle_add_output(event, handle)\n}\n\nfunction register_renderer(events, OutputArea) {\n  function append_mime(data, metadata, element) {\n    // create a DOM node to render to\n    var toinsert = this.create_output_subarea(\n    metadata,\n    CLASS_NAME,\n    EXEC_MIME_TYPE\n    );\n    this.keyboard_manager.register_events(toinsert);\n    // Render to node\n    var props = {data: data, metadata: metadata[EXEC_MIME_TYPE]};\n    render(props, toinsert[0]);\n    element.append(toinsert);\n    return toinsert\n  }\n\n  events.on('output_added.OutputArea', handle_add_output);\n  events.on('output_updated.OutputArea', handle_update_output);\n  events.on('clear_output.CodeCell', handle_clear_output);\n  events.on('delete.Cell', handle_clear_output);\n  events.on('kernel_ready.Kernel', handle_kernel_cleanup);\n\n  OutputArea.prototype.register_mime_type(EXEC_MIME_TYPE, append_mime, {\n    safe: true,\n    index: 0\n  });\n}\n\nif (window.Jupyter !== undefined) {\n  try {\n    var events = require('base/js/events');\n    var OutputArea = require('notebook/js/outputarea').OutputArea;\n    if (OutputArea.prototype.mime_types().indexOf(EXEC_MIME_TYPE) == -1) {\n      register_renderer(events, OutputArea);\n    }\n  } catch(err) {\n  }\n}\n",
      "application/vnd.holoviews_load.v0+json": ""
     },
     "metadata": {},
     "output_type": "display_data"
    },
    {
     "data": {
      "application/vnd.holoviews_exec.v0+json": "",
      "text/html": [
       "<div id='aa0221db-0465-4c49-ac16-ae57dbb4b51f'>\n",
       "  <div id=\"b38457f4-e8d2-40ed-9941-8c2347f747f4\" data-root-id=\"aa0221db-0465-4c49-ac16-ae57dbb4b51f\" style=\"display: contents;\"></div>\n",
       "</div>\n",
       "<script type=\"application/javascript\">(function(root) {\n",
       "  var docs_json = {\"b4eeeedf-bc93-415e-b6a5-f621f8315d05\":{\"version\":\"3.6.2\",\"title\":\"Bokeh Application\",\"roots\":[{\"type\":\"object\",\"name\":\"panel.models.browser.BrowserInfo\",\"id\":\"aa0221db-0465-4c49-ac16-ae57dbb4b51f\"},{\"type\":\"object\",\"name\":\"panel.models.comm_manager.CommManager\",\"id\":\"8fceb6fe-6bf2-4690-bb4e-d1153b1a6b40\",\"attributes\":{\"plot_id\":\"aa0221db-0465-4c49-ac16-ae57dbb4b51f\",\"comm_id\":\"42e25c6a5ebd46c2b536e88f9884ec30\",\"client_comm_id\":\"97646ccf89f541a8826461b75c1135ae\"}}],\"defs\":[{\"type\":\"model\",\"name\":\"ReactiveHTML1\"},{\"type\":\"model\",\"name\":\"FlexBox1\",\"properties\":[{\"name\":\"align_content\",\"kind\":\"Any\",\"default\":\"flex-start\"},{\"name\":\"align_items\",\"kind\":\"Any\",\"default\":\"flex-start\"},{\"name\":\"flex_direction\",\"kind\":\"Any\",\"default\":\"row\"},{\"name\":\"flex_wrap\",\"kind\":\"Any\",\"default\":\"wrap\"},{\"name\":\"gap\",\"kind\":\"Any\",\"default\":\"\"},{\"name\":\"justify_content\",\"kind\":\"Any\",\"default\":\"flex-start\"}]},{\"type\":\"model\",\"name\":\"FloatPanel1\",\"properties\":[{\"name\":\"config\",\"kind\":\"Any\",\"default\":{\"type\":\"map\"}},{\"name\":\"contained\",\"kind\":\"Any\",\"default\":true},{\"name\":\"position\",\"kind\":\"Any\",\"default\":\"right-top\"},{\"name\":\"offsetx\",\"kind\":\"Any\",\"default\":null},{\"name\":\"offsety\",\"kind\":\"Any\",\"default\":null},{\"name\":\"theme\",\"kind\":\"Any\",\"default\":\"primary\"},{\"name\":\"status\",\"kind\":\"Any\",\"default\":\"normalized\"}]},{\"type\":\"model\",\"name\":\"GridStack1\",\"properties\":[{\"name\":\"mode\",\"kind\":\"Any\",\"default\":\"warn\"},{\"name\":\"ncols\",\"kind\":\"Any\",\"default\":null},{\"name\":\"nrows\",\"kind\":\"Any\",\"default\":null},{\"name\":\"allow_resize\",\"kind\":\"Any\",\"default\":true},{\"name\":\"allow_drag\",\"kind\":\"Any\",\"default\":true},{\"name\":\"state\",\"kind\":\"Any\",\"default\":[]}]},{\"type\":\"model\",\"name\":\"drag1\",\"properties\":[{\"name\":\"slider_width\",\"kind\":\"Any\",\"default\":5},{\"name\":\"slider_color\",\"kind\":\"Any\",\"default\":\"black\"},{\"name\":\"value\",\"kind\":\"Any\",\"default\":50}]},{\"type\":\"model\",\"name\":\"click1\",\"properties\":[{\"name\":\"terminal_output\",\"kind\":\"Any\",\"default\":\"\"},{\"name\":\"debug_name\",\"kind\":\"Any\",\"default\":\"\"},{\"name\":\"clears\",\"kind\":\"Any\",\"default\":0}]},{\"type\":\"model\",\"name\":\"FastWrapper1\",\"properties\":[{\"name\":\"object\",\"kind\":\"Any\",\"default\":null},{\"name\":\"style\",\"kind\":\"Any\",\"default\":null}]},{\"type\":\"model\",\"name\":\"NotificationAreaBase1\",\"properties\":[{\"name\":\"js_events\",\"kind\":\"Any\",\"default\":{\"type\":\"map\"}},{\"name\":\"position\",\"kind\":\"Any\",\"default\":\"bottom-right\"},{\"name\":\"_clear\",\"kind\":\"Any\",\"default\":0}]},{\"type\":\"model\",\"name\":\"NotificationArea1\",\"properties\":[{\"name\":\"js_events\",\"kind\":\"Any\",\"default\":{\"type\":\"map\"}},{\"name\":\"notifications\",\"kind\":\"Any\",\"default\":[]},{\"name\":\"position\",\"kind\":\"Any\",\"default\":\"bottom-right\"},{\"name\":\"_clear\",\"kind\":\"Any\",\"default\":0},{\"name\":\"types\",\"kind\":\"Any\",\"default\":[{\"type\":\"map\",\"entries\":[[\"type\",\"warning\"],[\"background\",\"#ffc107\"],[\"icon\",{\"type\":\"map\",\"entries\":[[\"className\",\"fas fa-exclamation-triangle\"],[\"tagName\",\"i\"],[\"color\",\"white\"]]}]]},{\"type\":\"map\",\"entries\":[[\"type\",\"info\"],[\"background\",\"#007bff\"],[\"icon\",{\"type\":\"map\",\"entries\":[[\"className\",\"fas fa-info-circle\"],[\"tagName\",\"i\"],[\"color\",\"white\"]]}]]}]}]},{\"type\":\"model\",\"name\":\"Notification\",\"properties\":[{\"name\":\"background\",\"kind\":\"Any\",\"default\":null},{\"name\":\"duration\",\"kind\":\"Any\",\"default\":3000},{\"name\":\"icon\",\"kind\":\"Any\",\"default\":null},{\"name\":\"message\",\"kind\":\"Any\",\"default\":\"\"},{\"name\":\"notification_type\",\"kind\":\"Any\",\"default\":null},{\"name\":\"_destroyed\",\"kind\":\"Any\",\"default\":false}]},{\"type\":\"model\",\"name\":\"TemplateActions1\",\"properties\":[{\"name\":\"open_modal\",\"kind\":\"Any\",\"default\":0},{\"name\":\"close_modal\",\"kind\":\"Any\",\"default\":0}]},{\"type\":\"model\",\"name\":\"BootstrapTemplateActions1\",\"properties\":[{\"name\":\"open_modal\",\"kind\":\"Any\",\"default\":0},{\"name\":\"close_modal\",\"kind\":\"Any\",\"default\":0}]},{\"type\":\"model\",\"name\":\"TemplateEditor1\",\"properties\":[{\"name\":\"layout\",\"kind\":\"Any\",\"default\":[]}]},{\"type\":\"model\",\"name\":\"MaterialTemplateActions1\",\"properties\":[{\"name\":\"open_modal\",\"kind\":\"Any\",\"default\":0},{\"name\":\"close_modal\",\"kind\":\"Any\",\"default\":0}]},{\"type\":\"model\",\"name\":\"ReactiveESM1\",\"properties\":[{\"name\":\"esm_constants\",\"kind\":\"Any\",\"default\":{\"type\":\"map\"}}]},{\"type\":\"model\",\"name\":\"JSComponent1\",\"properties\":[{\"name\":\"esm_constants\",\"kind\":\"Any\",\"default\":{\"type\":\"map\"}}]},{\"type\":\"model\",\"name\":\"ReactComponent1\",\"properties\":[{\"name\":\"esm_constants\",\"kind\":\"Any\",\"default\":{\"type\":\"map\"}}]},{\"type\":\"model\",\"name\":\"AnyWidgetComponent1\",\"properties\":[{\"name\":\"esm_constants\",\"kind\":\"Any\",\"default\":{\"type\":\"map\"}}]},{\"type\":\"model\",\"name\":\"request_value1\",\"properties\":[{\"name\":\"fill\",\"kind\":\"Any\",\"default\":\"none\"},{\"name\":\"_synced\",\"kind\":\"Any\",\"default\":null},{\"name\":\"_request_sync\",\"kind\":\"Any\",\"default\":0}]}]}};\n",
       "  var render_items = [{\"docid\":\"b4eeeedf-bc93-415e-b6a5-f621f8315d05\",\"roots\":{\"aa0221db-0465-4c49-ac16-ae57dbb4b51f\":\"b38457f4-e8d2-40ed-9941-8c2347f747f4\"},\"root_ids\":[\"aa0221db-0465-4c49-ac16-ae57dbb4b51f\"]}];\n",
       "  var docs = Object.values(docs_json)\n",
       "  if (!docs) {\n",
       "    return\n",
       "  }\n",
       "  const py_version = docs[0].version.replace('rc', '-rc.').replace('.dev', '-dev.')\n",
       "  async function embed_document(root) {\n",
       "    var Bokeh = get_bokeh(root)\n",
       "    await Bokeh.embed.embed_items_notebook(docs_json, render_items);\n",
       "    for (const render_item of render_items) {\n",
       "      for (const root_id of render_item.root_ids) {\n",
       "\tconst id_el = document.getElementById(root_id)\n",
       "\tif (id_el.children.length && id_el.children[0].hasAttribute('data-root-id')) {\n",
       "\t  const root_el = id_el.children[0]\n",
       "\t  root_el.id = root_el.id + '-rendered'\n",
       "\t  for (const child of root_el.children) {\n",
       "            // Ensure JupyterLab does not capture keyboard shortcuts\n",
       "            // see: https://jupyterlab.readthedocs.io/en/4.1.x/extension/notebook.html#keyboard-interaction-model\n",
       "\t    child.setAttribute('data-lm-suppress-shortcuts', 'true')\n",
       "\t  }\n",
       "\t}\n",
       "      }\n",
       "    }\n",
       "  }\n",
       "  function get_bokeh(root) {\n",
       "    if (root.Bokeh === undefined) {\n",
       "      return null\n",
       "    } else if (root.Bokeh.version !== py_version) {\n",
       "      if (root.Bokeh.versions === undefined || !root.Bokeh.versions.has(py_version)) {\n",
       "\treturn null\n",
       "      }\n",
       "      return root.Bokeh.versions.get(py_version);\n",
       "    } else if (root.Bokeh.version === py_version) {\n",
       "      return root.Bokeh\n",
       "    }\n",
       "    return null\n",
       "  }\n",
       "  function is_loaded(root) {\n",
       "    var Bokeh = get_bokeh(root)\n",
       "    return (Bokeh != null && Bokeh.Panel !== undefined)\n",
       "  }\n",
       "  if (is_loaded(root)) {\n",
       "    embed_document(root);\n",
       "  } else {\n",
       "    var attempts = 0;\n",
       "    var timer = setInterval(function(root) {\n",
       "      if (is_loaded(root)) {\n",
       "        clearInterval(timer);\n",
       "        embed_document(root);\n",
       "      } else if (document.readyState == \"complete\") {\n",
       "        attempts++;\n",
       "        if (attempts > 200) {\n",
       "          clearInterval(timer);\n",
       "\t  var Bokeh = get_bokeh(root)\n",
       "\t  if (Bokeh == null || Bokeh.Panel == null) {\n",
       "            console.warn(\"Panel: ERROR: Unable to run Panel code because Bokeh or Panel library is missing\");\n",
       "\t  } else {\n",
       "\t    console.warn(\"Panel: WARNING: Attempting to render but not all required libraries could be resolved.\")\n",
       "\t    embed_document(root)\n",
       "\t  }\n",
       "        }\n",
       "      }\n",
       "    }, 25, root)\n",
       "  }\n",
       "})(window);</script>"
      ]
     },
     "metadata": {
      "application/vnd.holoviews_exec.v0+json": {
       "id": "aa0221db-0465-4c49-ac16-ae57dbb4b51f"
      }
     },
     "output_type": "display_data"
    },
    {
     "data": {},
     "metadata": {},
     "output_type": "display_data"
    },
    {
     "data": {
      "application/vnd.holoviews_exec.v0+json": "",
      "text/html": [
       "<div id='278f5866-4937-4977-98ea-959609b9d72b'>\n",
       "  <div id=\"ce8cacff-76cc-4cc5-9c00-c489e837cad9\" data-root-id=\"278f5866-4937-4977-98ea-959609b9d72b\" style=\"display: contents;\"></div>\n",
       "</div>\n",
       "<script type=\"application/javascript\">(function(root) {\n",
       "  var docs_json = {\"f8463112-01a9-4f3b-9cad-d70dea724762\":{\"version\":\"3.6.2\",\"title\":\"Bokeh Application\",\"roots\":[{\"type\":\"object\",\"name\":\"Row\",\"id\":\"278f5866-4937-4977-98ea-959609b9d72b\",\"attributes\":{\"name\":\"Row00279\",\"tags\":[\"embedded\"],\"stylesheets\":[\"\\n:host(.pn-loading):before, .pn-loading:before {\\n  background-color: #c3c3c3;\\n  mask-size: auto calc(min(50%, 400px));\\n  -webkit-mask-size: auto calc(min(50%, 400px));\\n}\",{\"type\":\"object\",\"name\":\"ImportedStyleSheet\",\"id\":\"65a00138-f783-4b50-85e4-937360b6201b\",\"attributes\":{\"url\":\"https://cdn.holoviz.org/panel/1.5.4/dist/css/loading.css\"}},{\"type\":\"object\",\"name\":\"ImportedStyleSheet\",\"id\":\"aefda25c-5206-423f-ae9c-6b1092acefb1\",\"attributes\":{\"url\":\"https://cdn.holoviz.org/panel/1.5.4/dist/css/listpanel.css\"}},{\"type\":\"object\",\"name\":\"ImportedStyleSheet\",\"id\":\"f33d2c42-d849-49ef-8050-7c6379d93238\",\"attributes\":{\"url\":\"https://cdn.holoviz.org/panel/1.5.4/dist/bundled/theme/default.css\"}},{\"type\":\"object\",\"name\":\"ImportedStyleSheet\",\"id\":\"f51ee6fb-0e64-4056-8c28-f02a6a464fc6\",\"attributes\":{\"url\":\"https://cdn.holoviz.org/panel/1.5.4/dist/bundled/theme/native.css\"}}],\"min_width\":700,\"margin\":0,\"sizing_mode\":\"stretch_width\",\"align\":\"start\",\"children\":[{\"type\":\"object\",\"name\":\"Spacer\",\"id\":\"07d27468-519d-40ba-8836-86dc8f85a58a\",\"attributes\":{\"name\":\"HSpacer00283\",\"stylesheets\":[\"\\n:host(.pn-loading):before, .pn-loading:before {\\n  background-color: #c3c3c3;\\n  mask-size: auto calc(min(50%, 400px));\\n  -webkit-mask-size: auto calc(min(50%, 400px));\\n}\",{\"id\":\"65a00138-f783-4b50-85e4-937360b6201b\"},{\"id\":\"f33d2c42-d849-49ef-8050-7c6379d93238\"},{\"id\":\"f51ee6fb-0e64-4056-8c28-f02a6a464fc6\"}],\"margin\":0,\"sizing_mode\":\"stretch_width\",\"align\":\"start\"}},{\"type\":\"object\",\"name\":\"Figure\",\"id\":\"d8bf0850-316e-496f-99ef-86592d735d84\",\"attributes\":{\"width\":700,\"height\":300,\"margin\":[5,10],\"sizing_mode\":\"fixed\",\"align\":\"start\",\"x_range\":{\"type\":\"object\",\"name\":\"Range1d\",\"id\":\"03da4d03-4b74-43de-9986-1aa428a7bbf1\",\"attributes\":{\"name\":\"DIA\",\"tags\":[[[\"DIA\",null]],[]],\"start\":1.0,\"end\":31.0,\"reset_start\":1.0,\"reset_end\":31.0}},\"y_range\":{\"type\":\"object\",\"name\":\"Range1d\",\"id\":\"81df7ffc-872c-45e6-acdf-10d361bad96f\",\"attributes\":{\"name\":\"D\",\"tags\":[[[\"D\",null]],{\"type\":\"map\",\"entries\":[[\"invert_yaxis\",false],[\"autorange\",false]]}],\"start\":-6.2,\"end\":68.2,\"reset_start\":-6.2,\"reset_end\":68.2}},\"x_scale\":{\"type\":\"object\",\"name\":\"LinearScale\",\"id\":\"7031be62-62b4-4a73-af93-ef10228b64f5\"},\"y_scale\":{\"type\":\"object\",\"name\":\"LinearScale\",\"id\":\"19f363a2-68d5-4df7-98d8-3ba9793e83a7\"},\"title\":{\"type\":\"object\",\"name\":\"Title\",\"id\":\"4ce991f2-e50f-47ad-841a-5821e4cf3f02\",\"attributes\":{\"text_color\":\"black\",\"text_font_size\":\"12pt\"}},\"renderers\":[{\"type\":\"object\",\"name\":\"GlyphRenderer\",\"id\":\"bfd3c4b6-bf40-417b-b88f-90a6b7eabc0b\",\"attributes\":{\"data_source\":{\"type\":\"object\",\"name\":\"ColumnDataSource\",\"id\":\"d2dae855-9db6-4f8e-b6bd-c6f5814bcf0a\",\"attributes\":{\"selected\":{\"type\":\"object\",\"name\":\"Selection\",\"id\":\"2ec63cd7-0794-4006-893f-0ca18490584b\",\"attributes\":{\"indices\":[],\"line_indices\":[]}},\"selection_policy\":{\"type\":\"object\",\"name\":\"UnionRenderers\",\"id\":\"c7c94b79-ca73-4315-a3ce-a34043c488b5\"},\"data\":{\"type\":\"map\",\"entries\":[[\"DIA\",{\"type\":\"ndarray\",\"array\":{\"type\":\"bytes\",\"data\":\"AQAAAAEAAAABAAAAAQAAAAEAAAABAAAAAQAAAAEAAAABAAAAAQAAAAIAAAACAAAAAgAAAAIAAAACAAAAAgAAAAIAAAACAAAAAgAAAAIAAAADAAAAAwAAAAMAAAADAAAAAwAAAAMAAAADAAAAAwAAAAMAAAADAAAABAAAAAQAAAAEAAAABAAAAAQAAAAEAAAABAAAAAQAAAAEAAAABAAAAAUAAAAFAAAABQAAAAUAAAAFAAAABQAAAAUAAAAFAAAABQAAAAUAAAAGAAAABgAAAAYAAAAGAAAABgAAAAYAAAAGAAAABgAAAAYAAAAGAAAABwAAAAcAAAAHAAAABwAAAAcAAAAHAAAABwAAAAcAAAAHAAAABwAAAAgAAAAIAAAACAAAAAgAAAAIAAAACAAAAAgAAAAIAAAACAAAAAgAAAAJAAAACQAAAAkAAAAJAAAACQAAAAkAAAAJAAAACQAAAAkAAAAJAAAACgAAAAoAAAAKAAAACgAAAAoAAAAKAAAACgAAAAoAAAAKAAAACgAAAAsAAAALAAAACwAAAAsAAAALAAAACwAAAAsAAAALAAAACwAAAAsAAAAMAAAADAAAAAwAAAAMAAAADAAAAAwAAAAMAAAADAAAAAwAAAAMAAAADQAAAA0AAAANAAAADQAAAA0AAAANAAAADQAAAA0AAAANAAAADQAAAA4AAAAOAAAADgAAAA4AAAAOAAAADgAAAA4AAAAOAAAADgAAAA4AAAAPAAAADwAAAA8AAAAPAAAADwAAAA8AAAAPAAAADwAAAA8AAAAPAAAAEAAAABAAAAAQAAAAEAAAABAAAAAQAAAAEAAAABAAAAAQAAAAEAAAABEAAAARAAAAEQAAABEAAAARAAAAEQAAABEAAAARAAAAEQAAABEAAAASAAAAEgAAABIAAAASAAAAEgAAABIAAAASAAAAEgAAABIAAAASAAAAEwAAABMAAAATAAAAEwAAABMAAAATAAAAEwAAABMAAAATAAAAEwAAABQAAAAUAAAAFAAAABQAAAAUAAAAFAAAABQAAAAUAAAAFAAAABQAAAAVAAAAFQAAABUAAAAVAAAAFQAAABUAAAAVAAAAFQAAABUAAAAVAAAAFgAAABYAAAAWAAAAFgAAABYAAAAWAAAAFgAAABYAAAAWAAAAFgAAABcAAAAXAAAAFwAAABcAAAAXAAAAFwAAABcAAAAXAAAAFwAAABcAAAAYAAAAGAAAABgAAAAYAAAAGAAAABgAAAAYAAAAGAAAABgAAAAYAAAAGQAAABkAAAAZAAAAGQAAABkAAAAZAAAAGQAAABkAAAAZAAAAGQAAABoAAAAaAAAAGgAAABoAAAAaAAAAGgAAABoAAAAaAAAAGgAAABoAAAAbAAAAGwAAABsAAAAbAAAAGwAAABsAAAAbAAAAGwAAABsAAAAbAAAAHAAAABwAAAAcAAAAHAAAABwAAAAcAAAAHAAAABwAAAAcAAAAHAAAAB0AAAAdAAAAHQAAAB0AAAAdAAAAHQAAAB0AAAAdAAAAHQAAAB0AAAAeAAAAHgAAAB4AAAAeAAAAHgAAAB4AAAAeAAAAHgAAAB4AAAAeAAAAHwAAAB8AAAAfAAAAHwAAAB8AAAAfAAAAHwAAAB8AAAAfAAAAHwAAAA==\"},\"shape\":[310],\"dtype\":\"int32\",\"order\":\"little\"}],[\"D\",{\"type\":\"ndarray\",\"array\":{\"type\":\"bytes\",\"data\":\"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\"},\"shape\":[310],\"dtype\":\"float64\",\"order\":\"little\"}]]}}},\"view\":{\"type\":\"object\",\"name\":\"CDSView\",\"id\":\"41d8e130-44f5-42a6-adbd-2ceb9d803973\",\"attributes\":{\"filter\":{\"type\":\"object\",\"name\":\"AllIndices\",\"id\":\"a55a801c-f460-4bad-9f4c-d8ec7786d264\"}}},\"glyph\":{\"type\":\"object\",\"name\":\"Line\",\"id\":\"fbef2778-4ac0-4c4f-ba00-ac702d0b0965\",\"attributes\":{\"tags\":[\"apply_ranges\"],\"x\":{\"type\":\"field\",\"field\":\"DIA\"},\"y\":{\"type\":\"field\",\"field\":\"D\"},\"line_color\":\"#30a2da\",\"line_width\":2}},\"selection_glyph\":{\"type\":\"object\",\"name\":\"Line\",\"id\":\"45052332-e579-4e23-a39d-88a7628f8588\",\"attributes\":{\"tags\":[\"apply_ranges\"],\"x\":{\"type\":\"field\",\"field\":\"DIA\"},\"y\":{\"type\":\"field\",\"field\":\"D\"},\"line_color\":\"#30a2da\",\"line_width\":2}},\"nonselection_glyph\":{\"type\":\"object\",\"name\":\"Line\",\"id\":\"262b3bd6-c0d1-4cc9-9907-e789648b09dd\",\"attributes\":{\"tags\":[\"apply_ranges\"],\"x\":{\"type\":\"field\",\"field\":\"DIA\"},\"y\":{\"type\":\"field\",\"field\":\"D\"},\"line_color\":\"#30a2da\",\"line_alpha\":0.1,\"line_width\":2}},\"muted_glyph\":{\"type\":\"object\",\"name\":\"Line\",\"id\":\"41506e26-c693-4065-b145-11fe42a18815\",\"attributes\":{\"tags\":[\"apply_ranges\"],\"x\":{\"type\":\"field\",\"field\":\"DIA\"},\"y\":{\"type\":\"field\",\"field\":\"D\"},\"line_color\":\"#30a2da\",\"line_alpha\":0.2,\"line_width\":2}}}}],\"toolbar\":{\"type\":\"object\",\"name\":\"Toolbar\",\"id\":\"1690ed79-f22c-47e7-b93a-52da007ab3d7\",\"attributes\":{\"tools\":[{\"type\":\"object\",\"name\":\"WheelZoomTool\",\"id\":\"9dc62edf-1333-4c87-958a-0e29beea4eeb\",\"attributes\":{\"tags\":[\"hv_created\"],\"renderers\":\"auto\",\"zoom_together\":\"none\"}},{\"type\":\"object\",\"name\":\"HoverTool\",\"id\":\"89b316b4-55a5-4a29-b4c8-ec29a1a76119\",\"attributes\":{\"tags\":[\"hv_created\"],\"renderers\":[{\"id\":\"bfd3c4b6-bf40-417b-b88f-90a6b7eabc0b\"}],\"tooltips\":[[\"DIA\",\"@{DIA}\"],[\"D\",\"@{D}\"]]}},{\"type\":\"object\",\"name\":\"SaveTool\",\"id\":\"6bfbb2e3-ae11-4be2-9f4d-013099e64ee9\"},{\"type\":\"object\",\"name\":\"PanTool\",\"id\":\"a1069b80-af6a-4bbc-9dd2-74d6fb66c41a\"},{\"type\":\"object\",\"name\":\"BoxZoomTool\",\"id\":\"4ddc9536-c88f-4378-b345-5373282c61b8\",\"attributes\":{\"overlay\":{\"type\":\"object\",\"name\":\"BoxAnnotation\",\"id\":\"64eff6c3-3711-4649-a9b5-4f7cc9faf300\",\"attributes\":{\"syncable\":false,\"line_color\":\"black\",\"line_alpha\":1.0,\"line_width\":2,\"line_dash\":[4,4],\"fill_color\":\"lightgrey\",\"fill_alpha\":0.5,\"level\":\"overlay\",\"visible\":false,\"left\":{\"type\":\"number\",\"value\":\"nan\"},\"right\":{\"type\":\"number\",\"value\":\"nan\"},\"top\":{\"type\":\"number\",\"value\":\"nan\"},\"bottom\":{\"type\":\"number\",\"value\":\"nan\"},\"left_units\":\"canvas\",\"right_units\":\"canvas\",\"top_units\":\"canvas\",\"bottom_units\":\"canvas\",\"handles\":{\"type\":\"object\",\"name\":\"BoxInteractionHandles\",\"id\":\"85f058c6-788a-4ead-9a8d-99d815a94fb3\",\"attributes\":{\"all\":{\"type\":\"object\",\"name\":\"AreaVisuals\",\"id\":\"655bbebf-3151-45a6-80a8-ba8f9357ff3f\",\"attributes\":{\"fill_color\":\"white\",\"hover_fill_color\":\"lightgray\"}}}}}}}},{\"type\":\"object\",\"name\":\"ResetTool\",\"id\":\"3c84ae22-a909-4855-8388-7b892aa349d2\"}],\"active_drag\":{\"id\":\"a1069b80-af6a-4bbc-9dd2-74d6fb66c41a\"},\"active_scroll\":{\"id\":\"9dc62edf-1333-4c87-958a-0e29beea4eeb\"}}},\"left\":[{\"type\":\"object\",\"name\":\"LinearAxis\",\"id\":\"97b63071-3e4f-4a52-be10-a8c4bf230ceb\",\"attributes\":{\"ticker\":{\"type\":\"object\",\"name\":\"BasicTicker\",\"id\":\"9791876c-9f60-427e-af63-bdf0a8d2ce51\",\"attributes\":{\"mantissas\":[1,2,5]}},\"formatter\":{\"type\":\"object\",\"name\":\"BasicTickFormatter\",\"id\":\"0faa14b6-3162-4539-bd1a-45bbd9349e4a\"},\"axis_label\":\"D\",\"major_label_policy\":{\"type\":\"object\",\"name\":\"AllLabels\",\"id\":\"bb9853a9-d6b3-4fac-85b0-09816abbe545\"}}}],\"below\":[{\"type\":\"object\",\"name\":\"LinearAxis\",\"id\":\"09e6e830-426d-4c91-af2b-4957bccd9332\",\"attributes\":{\"ticker\":{\"type\":\"object\",\"name\":\"BasicTicker\",\"id\":\"4e27c505-9856-495c-8330-096601f43b87\",\"attributes\":{\"mantissas\":[1,2,5]}},\"formatter\":{\"type\":\"object\",\"name\":\"BasicTickFormatter\",\"id\":\"4a99a254-9818-4f1a-8916-4e41e98ab746\"},\"axis_label\":\"DIA\",\"major_label_policy\":{\"type\":\"object\",\"name\":\"AllLabels\",\"id\":\"b0f9e0b9-84b7-4efc-ad81-bbd523383187\"}}}],\"center\":[{\"type\":\"object\",\"name\":\"Grid\",\"id\":\"8d640859-4c9a-4d10-b50c-13b7d978e55a\",\"attributes\":{\"axis\":{\"id\":\"09e6e830-426d-4c91-af2b-4957bccd9332\"},\"grid_line_color\":null}},{\"type\":\"object\",\"name\":\"Grid\",\"id\":\"6c561143-9c67-421e-bb35-38aa11c2872e\",\"attributes\":{\"dimension\":1,\"axis\":{\"id\":\"97b63071-3e4f-4a52-be10-a8c4bf230ceb\"},\"grid_line_color\":null}}],\"min_border_top\":10,\"min_border_bottom\":10,\"min_border_left\":10,\"min_border_right\":10,\"output_backend\":\"webgl\"}},{\"type\":\"object\",\"name\":\"Spacer\",\"id\":\"2bfcbcef-4cc3-44c9-a6a7-7d9121a2ca1b\",\"attributes\":{\"name\":\"HSpacer00284\",\"stylesheets\":[\"\\n:host(.pn-loading):before, .pn-loading:before {\\n  background-color: #c3c3c3;\\n  mask-size: auto calc(min(50%, 400px));\\n  -webkit-mask-size: auto calc(min(50%, 400px));\\n}\",{\"id\":\"65a00138-f783-4b50-85e4-937360b6201b\"},{\"id\":\"f33d2c42-d849-49ef-8050-7c6379d93238\"},{\"id\":\"f51ee6fb-0e64-4056-8c28-f02a6a464fc6\"}],\"margin\":0,\"sizing_mode\":\"stretch_width\",\"align\":\"start\"}}]}}],\"defs\":[{\"type\":\"model\",\"name\":\"ReactiveHTML1\"},{\"type\":\"model\",\"name\":\"FlexBox1\",\"properties\":[{\"name\":\"align_content\",\"kind\":\"Any\",\"default\":\"flex-start\"},{\"name\":\"align_items\",\"kind\":\"Any\",\"default\":\"flex-start\"},{\"name\":\"flex_direction\",\"kind\":\"Any\",\"default\":\"row\"},{\"name\":\"flex_wrap\",\"kind\":\"Any\",\"default\":\"wrap\"},{\"name\":\"gap\",\"kind\":\"Any\",\"default\":\"\"},{\"name\":\"justify_content\",\"kind\":\"Any\",\"default\":\"flex-start\"}]},{\"type\":\"model\",\"name\":\"FloatPanel1\",\"properties\":[{\"name\":\"config\",\"kind\":\"Any\",\"default\":{\"type\":\"map\"}},{\"name\":\"contained\",\"kind\":\"Any\",\"default\":true},{\"name\":\"position\",\"kind\":\"Any\",\"default\":\"right-top\"},{\"name\":\"offsetx\",\"kind\":\"Any\",\"default\":null},{\"name\":\"offsety\",\"kind\":\"Any\",\"default\":null},{\"name\":\"theme\",\"kind\":\"Any\",\"default\":\"primary\"},{\"name\":\"status\",\"kind\":\"Any\",\"default\":\"normalized\"}]},{\"type\":\"model\",\"name\":\"GridStack1\",\"properties\":[{\"name\":\"mode\",\"kind\":\"Any\",\"default\":\"warn\"},{\"name\":\"ncols\",\"kind\":\"Any\",\"default\":null},{\"name\":\"nrows\",\"kind\":\"Any\",\"default\":null},{\"name\":\"allow_resize\",\"kind\":\"Any\",\"default\":true},{\"name\":\"allow_drag\",\"kind\":\"Any\",\"default\":true},{\"name\":\"state\",\"kind\":\"Any\",\"default\":[]}]},{\"type\":\"model\",\"name\":\"drag1\",\"properties\":[{\"name\":\"slider_width\",\"kind\":\"Any\",\"default\":5},{\"name\":\"slider_color\",\"kind\":\"Any\",\"default\":\"black\"},{\"name\":\"value\",\"kind\":\"Any\",\"default\":50}]},{\"type\":\"model\",\"name\":\"click1\",\"properties\":[{\"name\":\"terminal_output\",\"kind\":\"Any\",\"default\":\"\"},{\"name\":\"debug_name\",\"kind\":\"Any\",\"default\":\"\"},{\"name\":\"clears\",\"kind\":\"Any\",\"default\":0}]},{\"type\":\"model\",\"name\":\"FastWrapper1\",\"properties\":[{\"name\":\"object\",\"kind\":\"Any\",\"default\":null},{\"name\":\"style\",\"kind\":\"Any\",\"default\":null}]},{\"type\":\"model\",\"name\":\"NotificationAreaBase1\",\"properties\":[{\"name\":\"js_events\",\"kind\":\"Any\",\"default\":{\"type\":\"map\"}},{\"name\":\"position\",\"kind\":\"Any\",\"default\":\"bottom-right\"},{\"name\":\"_clear\",\"kind\":\"Any\",\"default\":0}]},{\"type\":\"model\",\"name\":\"NotificationArea1\",\"properties\":[{\"name\":\"js_events\",\"kind\":\"Any\",\"default\":{\"type\":\"map\"}},{\"name\":\"notifications\",\"kind\":\"Any\",\"default\":[]},{\"name\":\"position\",\"kind\":\"Any\",\"default\":\"bottom-right\"},{\"name\":\"_clear\",\"kind\":\"Any\",\"default\":0},{\"name\":\"types\",\"kind\":\"Any\",\"default\":[{\"type\":\"map\",\"entries\":[[\"type\",\"warning\"],[\"background\",\"#ffc107\"],[\"icon\",{\"type\":\"map\",\"entries\":[[\"className\",\"fas fa-exclamation-triangle\"],[\"tagName\",\"i\"],[\"color\",\"white\"]]}]]},{\"type\":\"map\",\"entries\":[[\"type\",\"info\"],[\"background\",\"#007bff\"],[\"icon\",{\"type\":\"map\",\"entries\":[[\"className\",\"fas fa-info-circle\"],[\"tagName\",\"i\"],[\"color\",\"white\"]]}]]}]}]},{\"type\":\"model\",\"name\":\"Notification\",\"properties\":[{\"name\":\"background\",\"kind\":\"Any\",\"default\":null},{\"name\":\"duration\",\"kind\":\"Any\",\"default\":3000},{\"name\":\"icon\",\"kind\":\"Any\",\"default\":null},{\"name\":\"message\",\"kind\":\"Any\",\"default\":\"\"},{\"name\":\"notification_type\",\"kind\":\"Any\",\"default\":null},{\"name\":\"_destroyed\",\"kind\":\"Any\",\"default\":false}]},{\"type\":\"model\",\"name\":\"TemplateActions1\",\"properties\":[{\"name\":\"open_modal\",\"kind\":\"Any\",\"default\":0},{\"name\":\"close_modal\",\"kind\":\"Any\",\"default\":0}]},{\"type\":\"model\",\"name\":\"BootstrapTemplateActions1\",\"properties\":[{\"name\":\"open_modal\",\"kind\":\"Any\",\"default\":0},{\"name\":\"close_modal\",\"kind\":\"Any\",\"default\":0}]},{\"type\":\"model\",\"name\":\"TemplateEditor1\",\"properties\":[{\"name\":\"layout\",\"kind\":\"Any\",\"default\":[]}]},{\"type\":\"model\",\"name\":\"MaterialTemplateActions1\",\"properties\":[{\"name\":\"open_modal\",\"kind\":\"Any\",\"default\":0},{\"name\":\"close_modal\",\"kind\":\"Any\",\"default\":0}]},{\"type\":\"model\",\"name\":\"ReactiveESM1\",\"properties\":[{\"name\":\"esm_constants\",\"kind\":\"Any\",\"default\":{\"type\":\"map\"}}]},{\"type\":\"model\",\"name\":\"JSComponent1\",\"properties\":[{\"name\":\"esm_constants\",\"kind\":\"Any\",\"default\":{\"type\":\"map\"}}]},{\"type\":\"model\",\"name\":\"ReactComponent1\",\"properties\":[{\"name\":\"esm_constants\",\"kind\":\"Any\",\"default\":{\"type\":\"map\"}}]},{\"type\":\"model\",\"name\":\"AnyWidgetComponent1\",\"properties\":[{\"name\":\"esm_constants\",\"kind\":\"Any\",\"default\":{\"type\":\"map\"}}]},{\"type\":\"model\",\"name\":\"request_value1\",\"properties\":[{\"name\":\"fill\",\"kind\":\"Any\",\"default\":\"none\"},{\"name\":\"_synced\",\"kind\":\"Any\",\"default\":null},{\"name\":\"_request_sync\",\"kind\":\"Any\",\"default\":0}]}]}};\n",
       "  var render_items = [{\"docid\":\"f8463112-01a9-4f3b-9cad-d70dea724762\",\"roots\":{\"278f5866-4937-4977-98ea-959609b9d72b\":\"ce8cacff-76cc-4cc5-9c00-c489e837cad9\"},\"root_ids\":[\"278f5866-4937-4977-98ea-959609b9d72b\"]}];\n",
       "  var docs = Object.values(docs_json)\n",
       "  if (!docs) {\n",
       "    return\n",
       "  }\n",
       "  const py_version = docs[0].version.replace('rc', '-rc.').replace('.dev', '-dev.')\n",
       "  async function embed_document(root) {\n",
       "    var Bokeh = get_bokeh(root)\n",
       "    await Bokeh.embed.embed_items_notebook(docs_json, render_items);\n",
       "    for (const render_item of render_items) {\n",
       "      for (const root_id of render_item.root_ids) {\n",
       "\tconst id_el = document.getElementById(root_id)\n",
       "\tif (id_el.children.length && id_el.children[0].hasAttribute('data-root-id')) {\n",
       "\t  const root_el = id_el.children[0]\n",
       "\t  root_el.id = root_el.id + '-rendered'\n",
       "\t  for (const child of root_el.children) {\n",
       "            // Ensure JupyterLab does not capture keyboard shortcuts\n",
       "            // see: https://jupyterlab.readthedocs.io/en/4.1.x/extension/notebook.html#keyboard-interaction-model\n",
       "\t    child.setAttribute('data-lm-suppress-shortcuts', 'true')\n",
       "\t  }\n",
       "\t}\n",
       "      }\n",
       "    }\n",
       "  }\n",
       "  function get_bokeh(root) {\n",
       "    if (root.Bokeh === undefined) {\n",
       "      return null\n",
       "    } else if (root.Bokeh.version !== py_version) {\n",
       "      if (root.Bokeh.versions === undefined || !root.Bokeh.versions.has(py_version)) {\n",
       "\treturn null\n",
       "      }\n",
       "      return root.Bokeh.versions.get(py_version);\n",
       "    } else if (root.Bokeh.version === py_version) {\n",
       "      return root.Bokeh\n",
       "    }\n",
       "    return null\n",
       "  }\n",
       "  function is_loaded(root) {\n",
       "    var Bokeh = get_bokeh(root)\n",
       "    return (Bokeh != null && Bokeh.Panel !== undefined)\n",
       "  }\n",
       "  if (is_loaded(root)) {\n",
       "    embed_document(root);\n",
       "  } else {\n",
       "    var attempts = 0;\n",
       "    var timer = setInterval(function(root) {\n",
       "      if (is_loaded(root)) {\n",
       "        clearInterval(timer);\n",
       "        embed_document(root);\n",
       "      } else if (document.readyState == \"complete\") {\n",
       "        attempts++;\n",
       "        if (attempts > 200) {\n",
       "          clearInterval(timer);\n",
       "\t  var Bokeh = get_bokeh(root)\n",
       "\t  if (Bokeh == null || Bokeh.Panel == null) {\n",
       "            console.warn(\"Panel: ERROR: Unable to run Panel code because Bokeh or Panel library is missing\");\n",
       "\t  } else {\n",
       "\t    console.warn(\"Panel: WARNING: Attempting to render but not all required libraries could be resolved.\")\n",
       "\t    embed_document(root)\n",
       "\t  }\n",
       "        }\n",
       "      }\n",
       "    }, 25, root)\n",
       "  }\n",
       "})(window);</script>"
      ],
      "text/plain": [
       ":Curve   [DIA]   (D)"
      ]
     },
     "execution_count": 13,
     "metadata": {
      "application/vnd.holoviews_exec.v0+json": {
       "id": "278f5866-4937-4977-98ea-959609b9d72b"
      }
     },
     "output_type": "execute_result"
    }
   ],
   "source": [
    "import hvplot.polars\n",
    "\n",
    "dfp5.hvplot.line(x=\"DIA\", y =\"D\")"
   ]
  }
 ],
 "metadata": {
  "kernelspec": {
   "display_name": ".venv",
   "language": "python",
   "name": "python3"
  },
  "language_info": {
   "codemirror_mode": {
    "name": "ipython",
    "version": 3
   },
   "file_extension": ".py",
   "mimetype": "text/x-python",
   "name": "python",
   "nbconvert_exporter": "python",
   "pygments_lexer": "ipython3",
   "version": "3.12.1"
  }
 },
 "nbformat": 4,
 "nbformat_minor": 2
}
