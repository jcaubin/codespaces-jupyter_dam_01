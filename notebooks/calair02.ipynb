{
 "cells": [
  {
   "cell_type": "code",
   "execution_count": 2,
   "metadata": {},
   "outputs": [],
   "source": [
    "import polars as pl\n",
    "import requests"
   ]
  },
  {
   "cell_type": "code",
   "execution_count": 3,
   "metadata": {},
   "outputs": [
    {
     "data": {
      "text/plain": [
       "(1293, 69)"
      ]
     },
     "execution_count": 3,
     "metadata": {},
     "output_type": "execute_result"
    }
   ],
   "source": [
    "calidad_aire_rt = \"https://datos.madrid.es/egob/catalogo/201410-10306621-calidad-aire-diario.csv\"\n",
    "\n",
    "\n",
    "resp = requests.get(calidad_aire_rt, allow_redirects=True)\n",
    "dfp = pl.read_csv(resp.content, separator=';', encoding='utf8')\n",
    "\n",
    "dfp.shape"
   ]
  },
  {
   "cell_type": "code",
   "execution_count": 4,
   "metadata": {},
   "outputs": [
    {
     "data": {
      "text/html": [
       "<div><style>\n",
       ".dataframe > thead > tr,\n",
       ".dataframe > tbody > tr {\n",
       "  text-align: right;\n",
       "  white-space: pre-wrap;\n",
       "}\n",
       "</style>\n",
       "<small>shape: (5, 69)</small><table border=\"1\" class=\"dataframe\"><thead><tr><th>PROVINCIA</th><th>MUNICIPIO</th><th>ESTACION</th><th>MAGNITUD</th><th>PUNTO_MUESTREO</th><th>ANO</th><th>MES</th><th>D01</th><th>V01</th><th>D02</th><th>V02</th><th>D03</th><th>V03</th><th>D04</th><th>V04</th><th>D05</th><th>V05</th><th>D06</th><th>V06</th><th>D07</th><th>V07</th><th>D08</th><th>V08</th><th>D09</th><th>V09</th><th>D10</th><th>V10</th><th>D11</th><th>V11</th><th>D12</th><th>V12</th><th>D13</th><th>V13</th><th>D14</th><th>V14</th><th>D15</th><th>V15</th><th>D16</th><th>V16</th><th>D17</th><th>V17</th><th>D18</th><th>V18</th><th>D19</th><th>V19</th><th>D20</th><th>V20</th><th>D21</th><th>V21</th><th>D22</th><th>V22</th><th>D23</th><th>V23</th><th>D24</th><th>V24</th><th>D25</th><th>V25</th><th>D26</th><th>V26</th><th>D27</th><th>V27</th><th>D28</th><th>V28</th><th>D29</th><th>V29</th><th>D30</th><th>V30</th><th>D31</th><th>V31</th></tr><tr><td>i64</td><td>i64</td><td>i64</td><td>i64</td><td>str</td><td>i64</td><td>i64</td><td>f64</td><td>str</td><td>f64</td><td>str</td><td>f64</td><td>str</td><td>f64</td><td>str</td><td>f64</td><td>str</td><td>f64</td><td>str</td><td>f64</td><td>str</td><td>f64</td><td>str</td><td>f64</td><td>str</td><td>f64</td><td>str</td><td>f64</td><td>str</td><td>f64</td><td>str</td><td>f64</td><td>str</td><td>f64</td><td>str</td><td>f64</td><td>str</td><td>f64</td><td>str</td><td>f64</td><td>str</td><td>f64</td><td>str</td><td>f64</td><td>str</td><td>f64</td><td>str</td><td>f64</td><td>str</td><td>f64</td><td>str</td><td>f64</td><td>str</td><td>f64</td><td>str</td><td>f64</td><td>str</td><td>f64</td><td>str</td><td>f64</td><td>str</td><td>f64</td><td>str</td><td>f64</td><td>str</td><td>f64</td><td>str</td><td>f64</td><td>str</td></tr></thead><tbody><tr><td>28</td><td>79</td><td>4</td><td>1</td><td>&quot;28079004_1_38&quot;</td><td>2024</td><td>1</td><td>2.0</td><td>&quot;V&quot;</td><td>3.0</td><td>&quot;V&quot;</td><td>2.0</td><td>&quot;V&quot;</td><td>2.0</td><td>&quot;V&quot;</td><td>2.0</td><td>&quot;V&quot;</td><td>2.0</td><td>&quot;V&quot;</td><td>2.0</td><td>&quot;V&quot;</td><td>2.0</td><td>&quot;V&quot;</td><td>2.0</td><td>&quot;V&quot;</td><td>2.0</td><td>&quot;V&quot;</td><td>2.0</td><td>&quot;V&quot;</td><td>2.0</td><td>&quot;V&quot;</td><td>3.0</td><td>&quot;V&quot;</td><td>3.0</td><td>&quot;V&quot;</td><td>2.0</td><td>&quot;V&quot;</td><td>2.0</td><td>&quot;V&quot;</td><td>2.0</td><td>&quot;V&quot;</td><td>2.0</td><td>&quot;V&quot;</td><td>2.0</td><td>&quot;V&quot;</td><td>2.0</td><td>&quot;V&quot;</td><td>3.0</td><td>&quot;V&quot;</td><td>3.0</td><td>&quot;V&quot;</td><td>5.0</td><td>&quot;V&quot;</td><td>6.0</td><td>&quot;V&quot;</td><td>6.0</td><td>&quot;V&quot;</td><td>5.0</td><td>&quot;V&quot;</td><td>3.0</td><td>&quot;V&quot;</td><td>2.0</td><td>&quot;V&quot;</td><td>3.0</td><td>&quot;V&quot;</td><td>3.0</td><td>&quot;V&quot;</td><td>3.0</td><td>&quot;V&quot;</td></tr><tr><td>28</td><td>79</td><td>4</td><td>1</td><td>&quot;28079004_1_38&quot;</td><td>2024</td><td>2</td><td>3.0</td><td>&quot;V&quot;</td><td>2.0</td><td>&quot;V&quot;</td><td>2.0</td><td>&quot;V&quot;</td><td>2.0</td><td>&quot;V&quot;</td><td>4.0</td><td>&quot;V&quot;</td><td>3.0</td><td>&quot;V&quot;</td><td>1.0</td><td>&quot;V&quot;</td><td>2.0</td><td>&quot;V&quot;</td><td>1.0</td><td>&quot;V&quot;</td><td>2.0</td><td>&quot;V&quot;</td><td>1.0</td><td>&quot;V&quot;</td><td>1.0</td><td>&quot;V&quot;</td><td>2.0</td><td>&quot;V&quot;</td><td>3.0</td><td>&quot;V&quot;</td><td>3.0</td><td>&quot;V&quot;</td><td>2.0</td><td>&quot;V&quot;</td><td>2.0</td><td>&quot;V&quot;</td><td>2.0</td><td>&quot;V&quot;</td><td>3.0</td><td>&quot;V&quot;</td><td>3.0</td><td>&quot;V&quot;</td><td>3.0</td><td>&quot;V&quot;</td><td>2.0</td><td>&quot;V&quot;</td><td>1.0</td><td>&quot;V&quot;</td><td>1.0</td><td>&quot;V&quot;</td><td>1.0</td><td>&quot;V&quot;</td><td>2.0</td><td>&quot;V&quot;</td><td>2.0</td><td>&quot;V&quot;</td><td>2.0</td><td>&quot;V&quot;</td><td>2.0</td><td>&quot;V&quot;</td><td>0.0</td><td>&quot;N&quot;</td><td>0.0</td><td>&quot;N&quot;</td></tr><tr><td>28</td><td>79</td><td>4</td><td>1</td><td>&quot;28079004_1_38&quot;</td><td>2024</td><td>3</td><td>2.0</td><td>&quot;V&quot;</td><td>1.0</td><td>&quot;V&quot;</td><td>1.0</td><td>&quot;V&quot;</td><td>1.0</td><td>&quot;V&quot;</td><td>2.0</td><td>&quot;V&quot;</td><td>2.0</td><td>&quot;V&quot;</td><td>2.0</td><td>&quot;V&quot;</td><td>1.0</td><td>&quot;V&quot;</td><td>1.0</td><td>&quot;V&quot;</td><td>1.0</td><td>&quot;V&quot;</td><td>2.0</td><td>&quot;V&quot;</td><td>3.0</td><td>&quot;V&quot;</td><td>3.0</td><td>&quot;V&quot;</td><td>2.0</td><td>&quot;V&quot;</td><td>3.0</td><td>&quot;V&quot;</td><td>2.0</td><td>&quot;V&quot;</td><td>3.0</td><td>&quot;V&quot;</td><td>3.0</td><td>&quot;V&quot;</td><td>3.0</td><td>&quot;V&quot;</td><td>3.0</td><td>&quot;V&quot;</td><td>2.0</td><td>&quot;N&quot;</td><td>3.0</td><td>&quot;V&quot;</td><td>2.0</td><td>&quot;V&quot;</td><td>2.0</td><td>&quot;V&quot;</td><td>2.0</td><td>&quot;V&quot;</td><td>1.0</td><td>&quot;V&quot;</td><td>1.0</td><td>&quot;V&quot;</td><td>1.0</td><td>&quot;V&quot;</td><td>1.0</td><td>&quot;V&quot;</td><td>1.0</td><td>&quot;V&quot;</td><td>1.0</td><td>&quot;V&quot;</td></tr><tr><td>28</td><td>79</td><td>4</td><td>1</td><td>&quot;28079004_1_38&quot;</td><td>2024</td><td>4</td><td>1.0</td><td>&quot;V&quot;</td><td>2.0</td><td>&quot;V&quot;</td><td>2.0</td><td>&quot;V&quot;</td><td>3.0</td><td>&quot;V&quot;</td><td>3.0</td><td>&quot;V&quot;</td><td>3.0</td><td>&quot;V&quot;</td><td>2.0</td><td>&quot;V&quot;</td><td>2.0</td><td>&quot;V&quot;</td><td>2.0</td><td>&quot;V&quot;</td><td>2.0</td><td>&quot;V&quot;</td><td>2.0</td><td>&quot;V&quot;</td><td>3.0</td><td>&quot;V&quot;</td><td>2.0</td><td>&quot;V&quot;</td><td>1.0</td><td>&quot;N&quot;</td><td>3.0</td><td>&quot;N&quot;</td><td>2.0</td><td>&quot;V&quot;</td><td>2.0</td><td>&quot;V&quot;</td><td>2.0</td><td>&quot;V&quot;</td><td>2.0</td><td>&quot;V&quot;</td><td>2.0</td><td>&quot;V&quot;</td><td>2.0</td><td>&quot;V&quot;</td><td>2.0</td><td>&quot;V&quot;</td><td>2.0</td><td>&quot;V&quot;</td><td>2.0</td><td>&quot;V&quot;</td><td>3.0</td><td>&quot;V&quot;</td><td>2.0</td><td>&quot;V&quot;</td><td>2.0</td><td>&quot;V&quot;</td><td>2.0</td><td>&quot;V&quot;</td><td>2.0</td><td>&quot;V&quot;</td><td>2.0</td><td>&quot;V&quot;</td><td>0.0</td><td>&quot;N&quot;</td></tr><tr><td>28</td><td>79</td><td>4</td><td>1</td><td>&quot;28079004_1_38&quot;</td><td>2024</td><td>5</td><td>2.0</td><td>&quot;V&quot;</td><td>2.0</td><td>&quot;V&quot;</td><td>2.0</td><td>&quot;V&quot;</td><td>2.0</td><td>&quot;V&quot;</td><td>2.0</td><td>&quot;V&quot;</td><td>2.0</td><td>&quot;V&quot;</td><td>2.0</td><td>&quot;V&quot;</td><td>2.0</td><td>&quot;V&quot;</td><td>3.0</td><td>&quot;V&quot;</td><td>3.0</td><td>&quot;V&quot;</td><td>3.0</td><td>&quot;V&quot;</td><td>3.0</td><td>&quot;V&quot;</td><td>3.0</td><td>&quot;V&quot;</td><td>2.0</td><td>&quot;V&quot;</td><td>2.0</td><td>&quot;V&quot;</td><td>2.0</td><td>&quot;V&quot;</td><td>2.0</td><td>&quot;V&quot;</td><td>2.0</td><td>&quot;V&quot;</td><td>2.0</td><td>&quot;V&quot;</td><td>2.0</td><td>&quot;V&quot;</td><td>2.0</td><td>&quot;V&quot;</td><td>2.0</td><td>&quot;V&quot;</td><td>2.0</td><td>&quot;V&quot;</td><td>2.0</td><td>&quot;V&quot;</td><td>2.0</td><td>&quot;V&quot;</td><td>3.0</td><td>&quot;V&quot;</td><td>2.0</td><td>&quot;V&quot;</td><td>2.0</td><td>&quot;V&quot;</td><td>2.0</td><td>&quot;V&quot;</td><td>1.0</td><td>&quot;V&quot;</td><td>1.0</td><td>&quot;V&quot;</td></tr></tbody></table></div>"
      ],
      "text/plain": [
       "shape: (5, 69)\n",
       "┌───────────┬───────────┬──────────┬──────────┬───┬─────┬─────┬─────┬─────┐\n",
       "│ PROVINCIA ┆ MUNICIPIO ┆ ESTACION ┆ MAGNITUD ┆ … ┆ D30 ┆ V30 ┆ D31 ┆ V31 │\n",
       "│ ---       ┆ ---       ┆ ---      ┆ ---      ┆   ┆ --- ┆ --- ┆ --- ┆ --- │\n",
       "│ i64       ┆ i64       ┆ i64      ┆ i64      ┆   ┆ f64 ┆ str ┆ f64 ┆ str │\n",
       "╞═══════════╪═══════════╪══════════╪══════════╪═══╪═════╪═════╪═════╪═════╡\n",
       "│ 28        ┆ 79        ┆ 4        ┆ 1        ┆ … ┆ 3.0 ┆ V   ┆ 3.0 ┆ V   │\n",
       "│ 28        ┆ 79        ┆ 4        ┆ 1        ┆ … ┆ 0.0 ┆ N   ┆ 0.0 ┆ N   │\n",
       "│ 28        ┆ 79        ┆ 4        ┆ 1        ┆ … ┆ 1.0 ┆ V   ┆ 1.0 ┆ V   │\n",
       "│ 28        ┆ 79        ┆ 4        ┆ 1        ┆ … ┆ 2.0 ┆ V   ┆ 0.0 ┆ N   │\n",
       "│ 28        ┆ 79        ┆ 4        ┆ 1        ┆ … ┆ 1.0 ┆ V   ┆ 1.0 ┆ V   │\n",
       "└───────────┴───────────┴──────────┴──────────┴───┴─────┴─────┴─────┴─────┘"
      ]
     },
     "execution_count": 4,
     "metadata": {},
     "output_type": "execute_result"
    }
   ],
   "source": [
    "dfp.head()"
   ]
  },
  {
   "cell_type": "code",
   "execution_count": 5,
   "metadata": {},
   "outputs": [
    {
     "data": {
      "text/html": [
       "<div><style>\n",
       ".dataframe > thead > tr,\n",
       ".dataframe > tbody > tr {\n",
       "  text-align: right;\n",
       "  white-space: pre-wrap;\n",
       "}\n",
       "</style>\n",
       "<small>shape: (10, 69)</small><table border=\"1\" class=\"dataframe\"><thead><tr><th>PROVINCIA</th><th>MUNICIPIO</th><th>ESTACION</th><th>MAGNITUD</th><th>PUNTO_MUESTREO</th><th>ANO</th><th>MES</th><th>D01</th><th>V01</th><th>D02</th><th>V02</th><th>D03</th><th>V03</th><th>D04</th><th>V04</th><th>D05</th><th>V05</th><th>D06</th><th>V06</th><th>D07</th><th>V07</th><th>D08</th><th>V08</th><th>D09</th><th>V09</th><th>D10</th><th>V10</th><th>D11</th><th>V11</th><th>D12</th><th>V12</th><th>D13</th><th>V13</th><th>D14</th><th>V14</th><th>D15</th><th>V15</th><th>D16</th><th>V16</th><th>D17</th><th>V17</th><th>D18</th><th>V18</th><th>D19</th><th>V19</th><th>D20</th><th>V20</th><th>D21</th><th>V21</th><th>D22</th><th>V22</th><th>D23</th><th>V23</th><th>D24</th><th>V24</th><th>D25</th><th>V25</th><th>D26</th><th>V26</th><th>D27</th><th>V27</th><th>D28</th><th>V28</th><th>D29</th><th>V29</th><th>D30</th><th>V30</th><th>D31</th><th>V31</th></tr><tr><td>i64</td><td>i64</td><td>i64</td><td>i64</td><td>str</td><td>i64</td><td>i64</td><td>f64</td><td>str</td><td>f64</td><td>str</td><td>f64</td><td>str</td><td>f64</td><td>str</td><td>f64</td><td>str</td><td>f64</td><td>str</td><td>f64</td><td>str</td><td>f64</td><td>str</td><td>f64</td><td>str</td><td>f64</td><td>str</td><td>f64</td><td>str</td><td>f64</td><td>str</td><td>f64</td><td>str</td><td>f64</td><td>str</td><td>f64</td><td>str</td><td>f64</td><td>str</td><td>f64</td><td>str</td><td>f64</td><td>str</td><td>f64</td><td>str</td><td>f64</td><td>str</td><td>f64</td><td>str</td><td>f64</td><td>str</td><td>f64</td><td>str</td><td>f64</td><td>str</td><td>f64</td><td>str</td><td>f64</td><td>str</td><td>f64</td><td>str</td><td>f64</td><td>str</td><td>f64</td><td>str</td><td>f64</td><td>str</td><td>f64</td><td>str</td></tr></thead><tbody><tr><td>28</td><td>79</td><td>8</td><td>8</td><td>&quot;28079008_8_8&quot;</td><td>2024</td><td>1</td><td>34.0</td><td>&quot;V&quot;</td><td>45.0</td><td>&quot;V&quot;</td><td>32.0</td><td>&quot;V&quot;</td><td>34.0</td><td>&quot;V&quot;</td><td>21.0</td><td>&quot;V&quot;</td><td>19.0</td><td>&quot;V&quot;</td><td>30.0</td><td>&quot;V&quot;</td><td>50.0</td><td>&quot;V&quot;</td><td>42.0</td><td>&quot;V&quot;</td><td>37.0</td><td>&quot;V&quot;</td><td>31.0</td><td>&quot;V&quot;</td><td>39.0</td><td>&quot;V&quot;</td><td>48.0</td><td>&quot;V&quot;</td><td>40.0</td><td>&quot;V&quot;</td><td>24.0</td><td>&quot;V&quot;</td><td>25.0</td><td>&quot;V&quot;</td><td>17.0</td><td>&quot;V&quot;</td><td>21.0</td><td>&quot;V&quot;</td><td>23.0</td><td>&quot;V&quot;</td><td>20.0</td><td>&quot;V&quot;</td><td>30.0</td><td>&quot;V&quot;</td><td>53.0</td><td>&quot;V&quot;</td><td>54.0</td><td>&quot;V&quot;</td><td>53.0</td><td>&quot;V&quot;</td><td>53.0</td><td>&quot;V&quot;</td><td>51.0</td><td>&quot;V&quot;</td><td>41.0</td><td>&quot;V&quot;</td><td>37.0</td><td>&quot;V&quot;</td><td>35.0</td><td>&quot;V&quot;</td><td>47.0</td><td>&quot;V&quot;</td><td>40.0</td><td>&quot;V&quot;</td></tr><tr><td>28</td><td>79</td><td>8</td><td>8</td><td>&quot;28079008_8_8&quot;</td><td>2024</td><td>2</td><td>46.0</td><td>&quot;V&quot;</td><td>47.0</td><td>&quot;V&quot;</td><td>38.0</td><td>&quot;V&quot;</td><td>42.0</td><td>&quot;V&quot;</td><td>62.0</td><td>&quot;V&quot;</td><td>50.0</td><td>&quot;V&quot;</td><td>26.0</td><td>&quot;V&quot;</td><td>28.0</td><td>&quot;V&quot;</td><td>23.0</td><td>&quot;V&quot;</td><td>14.0</td><td>&quot;V&quot;</td><td>15.0</td><td>&quot;V&quot;</td><td>21.0</td><td>&quot;V&quot;</td><td>30.0</td><td>&quot;V&quot;</td><td>38.0</td><td>&quot;V&quot;</td><td>35.0</td><td>&quot;V&quot;</td><td>32.0</td><td>&quot;V&quot;</td><td>46.0</td><td>&quot;V&quot;</td><td>38.0</td><td>&quot;V&quot;</td><td>43.0</td><td>&quot;V&quot;</td><td>44.0</td><td>&quot;V&quot;</td><td>49.0</td><td>&quot;V&quot;</td><td>17.0</td><td>&quot;V&quot;</td><td>18.0</td><td>&quot;V&quot;</td><td>16.0</td><td>&quot;V&quot;</td><td>8.0</td><td>&quot;V&quot;</td><td>16.0</td><td>&quot;N&quot;</td><td>22.0</td><td>&quot;V&quot;</td><td>38.0</td><td>&quot;V&quot;</td><td>40.0</td><td>&quot;V&quot;</td><td>0.0</td><td>&quot;N&quot;</td><td>0.0</td><td>&quot;N&quot;</td></tr><tr><td>28</td><td>79</td><td>8</td><td>8</td><td>&quot;28079008_8_8&quot;</td><td>2024</td><td>3</td><td>23.0</td><td>&quot;V&quot;</td><td>17.0</td><td>&quot;V&quot;</td><td>14.0</td><td>&quot;V&quot;</td><td>21.0</td><td>&quot;V&quot;</td><td>26.0</td><td>&quot;V&quot;</td><td>41.0</td><td>&quot;V&quot;</td><td>32.0</td><td>&quot;V&quot;</td><td>17.0</td><td>&quot;V&quot;</td><td>13.0</td><td>&quot;V&quot;</td><td>13.0</td><td>&quot;V&quot;</td><td>25.0</td><td>&quot;V&quot;</td><td>55.0</td><td>&quot;V&quot;</td><td>43.0</td><td>&quot;V&quot;</td><td>42.0</td><td>&quot;V&quot;</td><td>35.0</td><td>&quot;V&quot;</td><td>39.0</td><td>&quot;V&quot;</td><td>43.0</td><td>&quot;V&quot;</td><td>52.0</td><td>&quot;V&quot;</td><td>61.0</td><td>&quot;N&quot;</td><td>37.0</td><td>&quot;V&quot;</td><td>28.0</td><td>&quot;V&quot;</td><td>42.0</td><td>&quot;V&quot;</td><td>26.0</td><td>&quot;V&quot;</td><td>13.0</td><td>&quot;V&quot;</td><td>18.0</td><td>&quot;V&quot;</td><td>15.0</td><td>&quot;V&quot;</td><td>11.0</td><td>&quot;V&quot;</td><td>7.0</td><td>&quot;V&quot;</td><td>12.0</td><td>&quot;V&quot;</td><td>12.0</td><td>&quot;V&quot;</td><td>12.0</td><td>&quot;V&quot;</td></tr><tr><td>28</td><td>79</td><td>8</td><td>8</td><td>&quot;28079008_8_8&quot;</td><td>2024</td><td>4</td><td>18.0</td><td>&quot;V&quot;</td><td>28.0</td><td>&quot;V&quot;</td><td>24.0</td><td>&quot;V&quot;</td><td>43.0</td><td>&quot;V&quot;</td><td>43.0</td><td>&quot;V&quot;</td><td>40.0</td><td>&quot;V&quot;</td><td>27.0</td><td>&quot;V&quot;</td><td>16.0</td><td>&quot;V&quot;</td><td>19.0</td><td>&quot;V&quot;</td><td>24.0</td><td>&quot;V&quot;</td><td>26.0</td><td>&quot;V&quot;</td><td>39.0</td><td>&quot;V&quot;</td><td>42.0</td><td>&quot;V&quot;</td><td>31.0</td><td>&quot;V&quot;</td><td>37.0</td><td>&quot;V&quot;</td><td>25.0</td><td>&quot;V&quot;</td><td>16.0</td><td>&quot;V&quot;</td><td>15.0</td><td>&quot;V&quot;</td><td>22.0</td><td>&quot;V&quot;</td><td>19.0</td><td>&quot;V&quot;</td><td>12.0</td><td>&quot;V&quot;</td><td>12.0</td><td>&quot;V&quot;</td><td>15.0</td><td>&quot;V&quot;</td><td>21.0</td><td>&quot;V&quot;</td><td>30.0</td><td>&quot;V&quot;</td><td>22.0</td><td>&quot;V&quot;</td><td>13.0</td><td>&quot;V&quot;</td><td>17.0</td><td>&quot;V&quot;</td><td>17.0</td><td>&quot;V&quot;</td><td>23.0</td><td>&quot;V&quot;</td><td>0.0</td><td>&quot;N&quot;</td></tr><tr><td>28</td><td>79</td><td>8</td><td>8</td><td>&quot;28079008_8_8&quot;</td><td>2024</td><td>5</td><td>9.0</td><td>&quot;V&quot;</td><td>9.0</td><td>&quot;V&quot;</td><td>14.0</td><td>&quot;V&quot;</td><td>13.0</td><td>&quot;V&quot;</td><td>10.0</td><td>&quot;V&quot;</td><td>17.0</td><td>&quot;V&quot;</td><td>18.0</td><td>&quot;V&quot;</td><td>25.0</td><td>&quot;V&quot;</td><td>38.0</td><td>&quot;V&quot;</td><td>36.0</td><td>&quot;V&quot;</td><td>17.0</td><td>&quot;V&quot;</td><td>19.0</td><td>&quot;V&quot;</td><td>26.0</td><td>&quot;V&quot;</td><td>13.0</td><td>&quot;V&quot;</td><td>9.0</td><td>&quot;V&quot;</td><td>17.0</td><td>&quot;V&quot;</td><td>17.0</td><td>&quot;V&quot;</td><td>14.0</td><td>&quot;V&quot;</td><td>12.0</td><td>&quot;V&quot;</td><td>19.0</td><td>&quot;V&quot;</td><td>22.0</td><td>&quot;V&quot;</td><td>17.0</td><td>&quot;V&quot;</td><td>22.0</td><td>&quot;V&quot;</td><td>18.0</td><td>&quot;V&quot;</td><td>21.0</td><td>&quot;V&quot;</td><td>29.0</td><td>&quot;V&quot;</td><td>22.0</td><td>&quot;V&quot;</td><td>19.0</td><td>&quot;V&quot;</td><td>25.0</td><td>&quot;V&quot;</td><td>19.0</td><td>&quot;V&quot;</td><td>13.0</td><td>&quot;V&quot;</td></tr><tr><td>28</td><td>79</td><td>8</td><td>8</td><td>&quot;28079008_8_8&quot;</td><td>2024</td><td>6</td><td>8.0</td><td>&quot;V&quot;</td><td>10.0</td><td>&quot;V&quot;</td><td>13.0</td><td>&quot;V&quot;</td><td>22.0</td><td>&quot;V&quot;</td><td>27.0</td><td>&quot;V&quot;</td><td>36.0</td><td>&quot;V&quot;</td><td>23.0</td><td>&quot;V&quot;</td><td>18.0</td><td>&quot;V&quot;</td><td>12.0</td><td>&quot;V&quot;</td><td>15.0</td><td>&quot;V&quot;</td><td>13.0</td><td>&quot;V&quot;</td><td>13.0</td><td>&quot;V&quot;</td><td>20.0</td><td>&quot;V&quot;</td><td>31.0</td><td>&quot;V&quot;</td><td>12.0</td><td>&quot;V&quot;</td><td>15.0</td><td>&quot;V&quot;</td><td>18.0</td><td>&quot;V&quot;</td><td>25.0</td><td>&quot;V&quot;</td><td>19.0</td><td>&quot;V&quot;</td><td>18.0</td><td>&quot;V&quot;</td><td>21.0</td><td>&quot;V&quot;</td><td>22.0</td><td>&quot;V&quot;</td><td>7.0</td><td>&quot;V&quot;</td><td>15.0</td><td>&quot;V&quot;</td><td>23.0</td><td>&quot;V&quot;</td><td>20.0</td><td>&quot;V&quot;</td><td>23.0</td><td>&quot;V&quot;</td><td>16.0</td><td>&quot;V&quot;</td><td>9.0</td><td>&quot;V&quot;</td><td>9.0</td><td>&quot;V&quot;</td><td>0.0</td><td>&quot;N&quot;</td></tr><tr><td>28</td><td>79</td><td>8</td><td>8</td><td>&quot;28079008_8_8&quot;</td><td>2024</td><td>7</td><td>13.0</td><td>&quot;V&quot;</td><td>11.0</td><td>&quot;V&quot;</td><td>22.0</td><td>&quot;V&quot;</td><td>35.0</td><td>&quot;V&quot;</td><td>29.0</td><td>&quot;V&quot;</td><td>13.0</td><td>&quot;V&quot;</td><td>8.0</td><td>&quot;V&quot;</td><td>20.0</td><td>&quot;V&quot;</td><td>23.0</td><td>&quot;V&quot;</td><td>16.0</td><td>&quot;V&quot;</td><td>23.0</td><td>&quot;V&quot;</td><td>15.0</td><td>&quot;V&quot;</td><td>11.0</td><td>&quot;V&quot;</td><td>11.0</td><td>&quot;V&quot;</td><td>13.0</td><td>&quot;V&quot;</td><td>21.0</td><td>&quot;V&quot;</td><td>30.0</td><td>&quot;V&quot;</td><td>33.0</td><td>&quot;V&quot;</td><td>37.0</td><td>&quot;V&quot;</td><td>22.0</td><td>&quot;V&quot;</td><td>6.0</td><td>&quot;V&quot;</td><td>23.0</td><td>&quot;V&quot;</td><td>25.0</td><td>&quot;V&quot;</td><td>28.0</td><td>&quot;V&quot;</td><td>14.0</td><td>&quot;V&quot;</td><td>16.0</td><td>&quot;V&quot;</td><td>13.0</td><td>&quot;V&quot;</td><td>7.0</td><td>&quot;V&quot;</td><td>18.0</td><td>&quot;V&quot;</td><td>21.0</td><td>&quot;V&quot;</td><td>30.0</td><td>&quot;V&quot;</td></tr><tr><td>28</td><td>79</td><td>8</td><td>8</td><td>&quot;28079008_8_8&quot;</td><td>2024</td><td>8</td><td>27.0</td><td>&quot;V&quot;</td><td>20.0</td><td>&quot;V&quot;</td><td>11.0</td><td>&quot;V&quot;</td><td>13.0</td><td>&quot;V&quot;</td><td>20.0</td><td>&quot;V&quot;</td><td>32.0</td><td>&quot;V&quot;</td><td>28.0</td><td>&quot;V&quot;</td><td>24.0</td><td>&quot;V&quot;</td><td>17.0</td><td>&quot;V&quot;</td><td>5.0</td><td>&quot;V&quot;</td><td>7.0</td><td>&quot;V&quot;</td><td>15.0</td><td>&quot;V&quot;</td><td>17.0</td><td>&quot;V&quot;</td><td>12.0</td><td>&quot;V&quot;</td><td>9.0</td><td>&quot;V&quot;</td><td>13.0</td><td>&quot;V&quot;</td><td>15.0</td><td>&quot;V&quot;</td><td>11.0</td><td>&quot;V&quot;</td><td>14.0</td><td>&quot;V&quot;</td><td>22.0</td><td>&quot;V&quot;</td><td>15.0</td><td>&quot;V&quot;</td><td>23.0</td><td>&quot;V&quot;</td><td>24.0</td><td>&quot;V&quot;</td><td>17.0</td><td>&quot;V&quot;</td><td>13.0</td><td>&quot;V&quot;</td><td>16.0</td><td>&quot;V&quot;</td><td>24.0</td><td>&quot;V&quot;</td><td>33.0</td><td>&quot;V&quot;</td><td>20.0</td><td>&quot;V&quot;</td><td>18.0</td><td>&quot;V&quot;</td><td>15.0</td><td>&quot;V&quot;</td></tr><tr><td>28</td><td>79</td><td>8</td><td>8</td><td>&quot;28079008_8_8&quot;</td><td>2024</td><td>9</td><td>16.0</td><td>&quot;V&quot;</td><td>21.0</td><td>&quot;V&quot;</td><td>20.0</td><td>&quot;V&quot;</td><td>15.0</td><td>&quot;V&quot;</td><td>18.0</td><td>&quot;V&quot;</td><td>23.0</td><td>&quot;V&quot;</td><td>18.0</td><td>&quot;V&quot;</td><td>17.0</td><td>&quot;V&quot;</td><td>33.0</td><td>&quot;V&quot;</td><td>25.0</td><td>&quot;V&quot;</td><td>27.0</td><td>&quot;V&quot;</td><td>22.0</td><td>&quot;V&quot;</td><td>14.0</td><td>&quot;V&quot;</td><td>27.0</td><td>&quot;V&quot;</td><td>27.0</td><td>&quot;V&quot;</td><td>22.0</td><td>&quot;V&quot;</td><td>21.0</td><td>&quot;V&quot;</td><td>22.0</td><td>&quot;V&quot;</td><td>25.0</td><td>&quot;V&quot;</td><td>31.0</td><td>&quot;V&quot;</td><td>22.0</td><td>&quot;V&quot;</td><td>29.0</td><td>&quot;V&quot;</td><td>29.0</td><td>&quot;V&quot;</td><td>37.0</td><td>&quot;V&quot;</td><td>21.0</td><td>&quot;V&quot;</td><td>15.0</td><td>&quot;V&quot;</td><td>20.0</td><td>&quot;V&quot;</td><td>21.0</td><td>&quot;V&quot;</td><td>25.0</td><td>&quot;V&quot;</td><td>58.0</td><td>&quot;V&quot;</td><td>0.0</td><td>&quot;N&quot;</td></tr><tr><td>28</td><td>79</td><td>8</td><td>8</td><td>&quot;28079008_8_8&quot;</td><td>2024</td><td>10</td><td>55.0</td><td>&quot;V&quot;</td><td>25.0</td><td>&quot;V&quot;</td><td>21.0</td><td>&quot;V&quot;</td><td>34.0</td><td>&quot;V&quot;</td><td>27.0</td><td>&quot;V&quot;</td><td>12.0</td><td>&quot;V&quot;</td><td>25.0</td><td>&quot;N&quot;</td><td>22.0</td><td>&quot;V&quot;</td><td>20.0</td><td>&quot;V&quot;</td><td>27.0</td><td>&quot;V&quot;</td><td>37.0</td><td>&quot;V&quot;</td><td>24.0</td><td>&quot;V&quot;</td><td>31.0</td><td>&quot;V&quot;</td><td>43.0</td><td>&quot;V&quot;</td><td>23.0</td><td>&quot;V&quot;</td><td>20.0</td><td>&quot;V&quot;</td><td>20.0</td><td>&quot;V&quot;</td><td>30.0</td><td>&quot;V&quot;</td><td>36.0</td><td>&quot;V&quot;</td><td>32.0</td><td>&quot;V&quot;</td><td>49.0</td><td>&quot;V&quot;</td><td>27.0</td><td>&quot;V&quot;</td><td>31.0</td><td>&quot;V&quot;</td><td>34.0</td><td>&quot;V&quot;</td><td>37.0</td><td>&quot;V&quot;</td><td>18.0</td><td>&quot;V&quot;</td><td>15.0</td><td>&quot;V&quot;</td><td>21.0</td><td>&quot;V&quot;</td><td>21.0</td><td>&quot;V&quot;</td><td>32.0</td><td>&quot;V&quot;</td><td>34.0</td><td>&quot;V&quot;</td></tr></tbody></table></div>"
      ],
      "text/plain": [
       "shape: (10, 69)\n",
       "┌───────────┬───────────┬──────────┬──────────┬───┬──────┬─────┬──────┬─────┐\n",
       "│ PROVINCIA ┆ MUNICIPIO ┆ ESTACION ┆ MAGNITUD ┆ … ┆ D30  ┆ V30 ┆ D31  ┆ V31 │\n",
       "│ ---       ┆ ---       ┆ ---      ┆ ---      ┆   ┆ ---  ┆ --- ┆ ---  ┆ --- │\n",
       "│ i64       ┆ i64       ┆ i64      ┆ i64      ┆   ┆ f64  ┆ str ┆ f64  ┆ str │\n",
       "╞═══════════╪═══════════╪══════════╪══════════╪═══╪══════╪═════╪══════╪═════╡\n",
       "│ 28        ┆ 79        ┆ 8        ┆ 8        ┆ … ┆ 47.0 ┆ V   ┆ 40.0 ┆ V   │\n",
       "│ 28        ┆ 79        ┆ 8        ┆ 8        ┆ … ┆ 0.0  ┆ N   ┆ 0.0  ┆ N   │\n",
       "│ 28        ┆ 79        ┆ 8        ┆ 8        ┆ … ┆ 12.0 ┆ V   ┆ 12.0 ┆ V   │\n",
       "│ 28        ┆ 79        ┆ 8        ┆ 8        ┆ … ┆ 23.0 ┆ V   ┆ 0.0  ┆ N   │\n",
       "│ 28        ┆ 79        ┆ 8        ┆ 8        ┆ … ┆ 19.0 ┆ V   ┆ 13.0 ┆ V   │\n",
       "│ 28        ┆ 79        ┆ 8        ┆ 8        ┆ … ┆ 9.0  ┆ V   ┆ 0.0  ┆ N   │\n",
       "│ 28        ┆ 79        ┆ 8        ┆ 8        ┆ … ┆ 21.0 ┆ V   ┆ 30.0 ┆ V   │\n",
       "│ 28        ┆ 79        ┆ 8        ┆ 8        ┆ … ┆ 18.0 ┆ V   ┆ 15.0 ┆ V   │\n",
       "│ 28        ┆ 79        ┆ 8        ┆ 8        ┆ … ┆ 58.0 ┆ V   ┆ 0.0  ┆ N   │\n",
       "│ 28        ┆ 79        ┆ 8        ┆ 8        ┆ … ┆ 32.0 ┆ V   ┆ 34.0 ┆ V   │\n",
       "└───────────┴───────────┴──────────┴──────────┴───┴──────┴─────┴──────┴─────┘"
      ]
     },
     "execution_count": 5,
     "metadata": {},
     "output_type": "execute_result"
    }
   ],
   "source": [
    "dfp.filter(ESTACION=8, MAGNITUD = 8 ).head(20)"
   ]
  },
  {
   "cell_type": "code",
   "execution_count": 6,
   "metadata": {},
   "outputs": [
    {
     "data": {
      "text/html": [
       "<div><style>\n",
       ".dataframe > thead > tr,\n",
       ".dataframe > tbody > tr {\n",
       "  text-align: right;\n",
       "  white-space: pre-wrap;\n",
       "}\n",
       "</style>\n",
       "<small>shape: (10, 69)</small><table border=\"1\" class=\"dataframe\"><thead><tr><th>PROVINCIA</th><th>MUNICIPIO</th><th>ESTACION</th><th>MAGNITUD</th><th>PUNTO_MUESTREO</th><th>ANO</th><th>MES</th><th>D01</th><th>V01</th><th>D02</th><th>V02</th><th>D03</th><th>V03</th><th>D04</th><th>V04</th><th>D05</th><th>V05</th><th>D06</th><th>V06</th><th>D07</th><th>V07</th><th>D08</th><th>V08</th><th>D09</th><th>V09</th><th>D10</th><th>V10</th><th>D11</th><th>V11</th><th>D12</th><th>V12</th><th>D13</th><th>V13</th><th>D14</th><th>V14</th><th>D15</th><th>V15</th><th>D16</th><th>V16</th><th>D17</th><th>V17</th><th>D18</th><th>V18</th><th>D19</th><th>V19</th><th>D20</th><th>V20</th><th>D21</th><th>V21</th><th>D22</th><th>V22</th><th>D23</th><th>V23</th><th>D24</th><th>V24</th><th>D25</th><th>V25</th><th>D26</th><th>V26</th><th>D27</th><th>V27</th><th>D28</th><th>V28</th><th>D29</th><th>V29</th><th>D30</th><th>V30</th><th>D31</th><th>V31</th></tr><tr><td>i64</td><td>i64</td><td>i64</td><td>i64</td><td>str</td><td>i64</td><td>i64</td><td>f64</td><td>str</td><td>f64</td><td>str</td><td>f64</td><td>str</td><td>f64</td><td>str</td><td>f64</td><td>str</td><td>f64</td><td>str</td><td>f64</td><td>str</td><td>f64</td><td>str</td><td>f64</td><td>str</td><td>f64</td><td>str</td><td>f64</td><td>str</td><td>f64</td><td>str</td><td>f64</td><td>str</td><td>f64</td><td>str</td><td>f64</td><td>str</td><td>f64</td><td>str</td><td>f64</td><td>str</td><td>f64</td><td>str</td><td>f64</td><td>str</td><td>f64</td><td>str</td><td>f64</td><td>str</td><td>f64</td><td>str</td><td>f64</td><td>str</td><td>f64</td><td>str</td><td>f64</td><td>str</td><td>f64</td><td>str</td><td>f64</td><td>str</td><td>f64</td><td>str</td><td>f64</td><td>str</td><td>f64</td><td>str</td><td>f64</td><td>str</td></tr></thead><tbody><tr><td>28</td><td>79</td><td>8</td><td>8</td><td>&quot;28079008_8_8&quot;</td><td>2024</td><td>1</td><td>34.0</td><td>&quot;V&quot;</td><td>45.0</td><td>&quot;V&quot;</td><td>32.0</td><td>&quot;V&quot;</td><td>34.0</td><td>&quot;V&quot;</td><td>21.0</td><td>&quot;V&quot;</td><td>19.0</td><td>&quot;V&quot;</td><td>30.0</td><td>&quot;V&quot;</td><td>50.0</td><td>&quot;V&quot;</td><td>42.0</td><td>&quot;V&quot;</td><td>37.0</td><td>&quot;V&quot;</td><td>31.0</td><td>&quot;V&quot;</td><td>39.0</td><td>&quot;V&quot;</td><td>48.0</td><td>&quot;V&quot;</td><td>40.0</td><td>&quot;V&quot;</td><td>24.0</td><td>&quot;V&quot;</td><td>25.0</td><td>&quot;V&quot;</td><td>17.0</td><td>&quot;V&quot;</td><td>21.0</td><td>&quot;V&quot;</td><td>23.0</td><td>&quot;V&quot;</td><td>20.0</td><td>&quot;V&quot;</td><td>30.0</td><td>&quot;V&quot;</td><td>53.0</td><td>&quot;V&quot;</td><td>54.0</td><td>&quot;V&quot;</td><td>53.0</td><td>&quot;V&quot;</td><td>53.0</td><td>&quot;V&quot;</td><td>51.0</td><td>&quot;V&quot;</td><td>41.0</td><td>&quot;V&quot;</td><td>37.0</td><td>&quot;V&quot;</td><td>35.0</td><td>&quot;V&quot;</td><td>47.0</td><td>&quot;V&quot;</td><td>40.0</td><td>&quot;V&quot;</td></tr><tr><td>28</td><td>79</td><td>8</td><td>8</td><td>&quot;28079008_8_8&quot;</td><td>2024</td><td>2</td><td>46.0</td><td>&quot;V&quot;</td><td>47.0</td><td>&quot;V&quot;</td><td>38.0</td><td>&quot;V&quot;</td><td>42.0</td><td>&quot;V&quot;</td><td>62.0</td><td>&quot;V&quot;</td><td>50.0</td><td>&quot;V&quot;</td><td>26.0</td><td>&quot;V&quot;</td><td>28.0</td><td>&quot;V&quot;</td><td>23.0</td><td>&quot;V&quot;</td><td>14.0</td><td>&quot;V&quot;</td><td>15.0</td><td>&quot;V&quot;</td><td>21.0</td><td>&quot;V&quot;</td><td>30.0</td><td>&quot;V&quot;</td><td>38.0</td><td>&quot;V&quot;</td><td>35.0</td><td>&quot;V&quot;</td><td>32.0</td><td>&quot;V&quot;</td><td>46.0</td><td>&quot;V&quot;</td><td>38.0</td><td>&quot;V&quot;</td><td>43.0</td><td>&quot;V&quot;</td><td>44.0</td><td>&quot;V&quot;</td><td>49.0</td><td>&quot;V&quot;</td><td>17.0</td><td>&quot;V&quot;</td><td>18.0</td><td>&quot;V&quot;</td><td>16.0</td><td>&quot;V&quot;</td><td>8.0</td><td>&quot;V&quot;</td><td>16.0</td><td>&quot;N&quot;</td><td>22.0</td><td>&quot;V&quot;</td><td>38.0</td><td>&quot;V&quot;</td><td>40.0</td><td>&quot;V&quot;</td><td>0.0</td><td>&quot;N&quot;</td><td>0.0</td><td>&quot;N&quot;</td></tr><tr><td>28</td><td>79</td><td>8</td><td>8</td><td>&quot;28079008_8_8&quot;</td><td>2024</td><td>3</td><td>23.0</td><td>&quot;V&quot;</td><td>17.0</td><td>&quot;V&quot;</td><td>14.0</td><td>&quot;V&quot;</td><td>21.0</td><td>&quot;V&quot;</td><td>26.0</td><td>&quot;V&quot;</td><td>41.0</td><td>&quot;V&quot;</td><td>32.0</td><td>&quot;V&quot;</td><td>17.0</td><td>&quot;V&quot;</td><td>13.0</td><td>&quot;V&quot;</td><td>13.0</td><td>&quot;V&quot;</td><td>25.0</td><td>&quot;V&quot;</td><td>55.0</td><td>&quot;V&quot;</td><td>43.0</td><td>&quot;V&quot;</td><td>42.0</td><td>&quot;V&quot;</td><td>35.0</td><td>&quot;V&quot;</td><td>39.0</td><td>&quot;V&quot;</td><td>43.0</td><td>&quot;V&quot;</td><td>52.0</td><td>&quot;V&quot;</td><td>61.0</td><td>&quot;N&quot;</td><td>37.0</td><td>&quot;V&quot;</td><td>28.0</td><td>&quot;V&quot;</td><td>42.0</td><td>&quot;V&quot;</td><td>26.0</td><td>&quot;V&quot;</td><td>13.0</td><td>&quot;V&quot;</td><td>18.0</td><td>&quot;V&quot;</td><td>15.0</td><td>&quot;V&quot;</td><td>11.0</td><td>&quot;V&quot;</td><td>7.0</td><td>&quot;V&quot;</td><td>12.0</td><td>&quot;V&quot;</td><td>12.0</td><td>&quot;V&quot;</td><td>12.0</td><td>&quot;V&quot;</td></tr><tr><td>28</td><td>79</td><td>8</td><td>8</td><td>&quot;28079008_8_8&quot;</td><td>2024</td><td>4</td><td>18.0</td><td>&quot;V&quot;</td><td>28.0</td><td>&quot;V&quot;</td><td>24.0</td><td>&quot;V&quot;</td><td>43.0</td><td>&quot;V&quot;</td><td>43.0</td><td>&quot;V&quot;</td><td>40.0</td><td>&quot;V&quot;</td><td>27.0</td><td>&quot;V&quot;</td><td>16.0</td><td>&quot;V&quot;</td><td>19.0</td><td>&quot;V&quot;</td><td>24.0</td><td>&quot;V&quot;</td><td>26.0</td><td>&quot;V&quot;</td><td>39.0</td><td>&quot;V&quot;</td><td>42.0</td><td>&quot;V&quot;</td><td>31.0</td><td>&quot;V&quot;</td><td>37.0</td><td>&quot;V&quot;</td><td>25.0</td><td>&quot;V&quot;</td><td>16.0</td><td>&quot;V&quot;</td><td>15.0</td><td>&quot;V&quot;</td><td>22.0</td><td>&quot;V&quot;</td><td>19.0</td><td>&quot;V&quot;</td><td>12.0</td><td>&quot;V&quot;</td><td>12.0</td><td>&quot;V&quot;</td><td>15.0</td><td>&quot;V&quot;</td><td>21.0</td><td>&quot;V&quot;</td><td>30.0</td><td>&quot;V&quot;</td><td>22.0</td><td>&quot;V&quot;</td><td>13.0</td><td>&quot;V&quot;</td><td>17.0</td><td>&quot;V&quot;</td><td>17.0</td><td>&quot;V&quot;</td><td>23.0</td><td>&quot;V&quot;</td><td>0.0</td><td>&quot;N&quot;</td></tr><tr><td>28</td><td>79</td><td>8</td><td>8</td><td>&quot;28079008_8_8&quot;</td><td>2024</td><td>5</td><td>9.0</td><td>&quot;V&quot;</td><td>9.0</td><td>&quot;V&quot;</td><td>14.0</td><td>&quot;V&quot;</td><td>13.0</td><td>&quot;V&quot;</td><td>10.0</td><td>&quot;V&quot;</td><td>17.0</td><td>&quot;V&quot;</td><td>18.0</td><td>&quot;V&quot;</td><td>25.0</td><td>&quot;V&quot;</td><td>38.0</td><td>&quot;V&quot;</td><td>36.0</td><td>&quot;V&quot;</td><td>17.0</td><td>&quot;V&quot;</td><td>19.0</td><td>&quot;V&quot;</td><td>26.0</td><td>&quot;V&quot;</td><td>13.0</td><td>&quot;V&quot;</td><td>9.0</td><td>&quot;V&quot;</td><td>17.0</td><td>&quot;V&quot;</td><td>17.0</td><td>&quot;V&quot;</td><td>14.0</td><td>&quot;V&quot;</td><td>12.0</td><td>&quot;V&quot;</td><td>19.0</td><td>&quot;V&quot;</td><td>22.0</td><td>&quot;V&quot;</td><td>17.0</td><td>&quot;V&quot;</td><td>22.0</td><td>&quot;V&quot;</td><td>18.0</td><td>&quot;V&quot;</td><td>21.0</td><td>&quot;V&quot;</td><td>29.0</td><td>&quot;V&quot;</td><td>22.0</td><td>&quot;V&quot;</td><td>19.0</td><td>&quot;V&quot;</td><td>25.0</td><td>&quot;V&quot;</td><td>19.0</td><td>&quot;V&quot;</td><td>13.0</td><td>&quot;V&quot;</td></tr><tr><td>28</td><td>79</td><td>8</td><td>8</td><td>&quot;28079008_8_8&quot;</td><td>2024</td><td>6</td><td>8.0</td><td>&quot;V&quot;</td><td>10.0</td><td>&quot;V&quot;</td><td>13.0</td><td>&quot;V&quot;</td><td>22.0</td><td>&quot;V&quot;</td><td>27.0</td><td>&quot;V&quot;</td><td>36.0</td><td>&quot;V&quot;</td><td>23.0</td><td>&quot;V&quot;</td><td>18.0</td><td>&quot;V&quot;</td><td>12.0</td><td>&quot;V&quot;</td><td>15.0</td><td>&quot;V&quot;</td><td>13.0</td><td>&quot;V&quot;</td><td>13.0</td><td>&quot;V&quot;</td><td>20.0</td><td>&quot;V&quot;</td><td>31.0</td><td>&quot;V&quot;</td><td>12.0</td><td>&quot;V&quot;</td><td>15.0</td><td>&quot;V&quot;</td><td>18.0</td><td>&quot;V&quot;</td><td>25.0</td><td>&quot;V&quot;</td><td>19.0</td><td>&quot;V&quot;</td><td>18.0</td><td>&quot;V&quot;</td><td>21.0</td><td>&quot;V&quot;</td><td>22.0</td><td>&quot;V&quot;</td><td>7.0</td><td>&quot;V&quot;</td><td>15.0</td><td>&quot;V&quot;</td><td>23.0</td><td>&quot;V&quot;</td><td>20.0</td><td>&quot;V&quot;</td><td>23.0</td><td>&quot;V&quot;</td><td>16.0</td><td>&quot;V&quot;</td><td>9.0</td><td>&quot;V&quot;</td><td>9.0</td><td>&quot;V&quot;</td><td>0.0</td><td>&quot;N&quot;</td></tr><tr><td>28</td><td>79</td><td>8</td><td>8</td><td>&quot;28079008_8_8&quot;</td><td>2024</td><td>7</td><td>13.0</td><td>&quot;V&quot;</td><td>11.0</td><td>&quot;V&quot;</td><td>22.0</td><td>&quot;V&quot;</td><td>35.0</td><td>&quot;V&quot;</td><td>29.0</td><td>&quot;V&quot;</td><td>13.0</td><td>&quot;V&quot;</td><td>8.0</td><td>&quot;V&quot;</td><td>20.0</td><td>&quot;V&quot;</td><td>23.0</td><td>&quot;V&quot;</td><td>16.0</td><td>&quot;V&quot;</td><td>23.0</td><td>&quot;V&quot;</td><td>15.0</td><td>&quot;V&quot;</td><td>11.0</td><td>&quot;V&quot;</td><td>11.0</td><td>&quot;V&quot;</td><td>13.0</td><td>&quot;V&quot;</td><td>21.0</td><td>&quot;V&quot;</td><td>30.0</td><td>&quot;V&quot;</td><td>33.0</td><td>&quot;V&quot;</td><td>37.0</td><td>&quot;V&quot;</td><td>22.0</td><td>&quot;V&quot;</td><td>6.0</td><td>&quot;V&quot;</td><td>23.0</td><td>&quot;V&quot;</td><td>25.0</td><td>&quot;V&quot;</td><td>28.0</td><td>&quot;V&quot;</td><td>14.0</td><td>&quot;V&quot;</td><td>16.0</td><td>&quot;V&quot;</td><td>13.0</td><td>&quot;V&quot;</td><td>7.0</td><td>&quot;V&quot;</td><td>18.0</td><td>&quot;V&quot;</td><td>21.0</td><td>&quot;V&quot;</td><td>30.0</td><td>&quot;V&quot;</td></tr><tr><td>28</td><td>79</td><td>8</td><td>8</td><td>&quot;28079008_8_8&quot;</td><td>2024</td><td>8</td><td>27.0</td><td>&quot;V&quot;</td><td>20.0</td><td>&quot;V&quot;</td><td>11.0</td><td>&quot;V&quot;</td><td>13.0</td><td>&quot;V&quot;</td><td>20.0</td><td>&quot;V&quot;</td><td>32.0</td><td>&quot;V&quot;</td><td>28.0</td><td>&quot;V&quot;</td><td>24.0</td><td>&quot;V&quot;</td><td>17.0</td><td>&quot;V&quot;</td><td>5.0</td><td>&quot;V&quot;</td><td>7.0</td><td>&quot;V&quot;</td><td>15.0</td><td>&quot;V&quot;</td><td>17.0</td><td>&quot;V&quot;</td><td>12.0</td><td>&quot;V&quot;</td><td>9.0</td><td>&quot;V&quot;</td><td>13.0</td><td>&quot;V&quot;</td><td>15.0</td><td>&quot;V&quot;</td><td>11.0</td><td>&quot;V&quot;</td><td>14.0</td><td>&quot;V&quot;</td><td>22.0</td><td>&quot;V&quot;</td><td>15.0</td><td>&quot;V&quot;</td><td>23.0</td><td>&quot;V&quot;</td><td>24.0</td><td>&quot;V&quot;</td><td>17.0</td><td>&quot;V&quot;</td><td>13.0</td><td>&quot;V&quot;</td><td>16.0</td><td>&quot;V&quot;</td><td>24.0</td><td>&quot;V&quot;</td><td>33.0</td><td>&quot;V&quot;</td><td>20.0</td><td>&quot;V&quot;</td><td>18.0</td><td>&quot;V&quot;</td><td>15.0</td><td>&quot;V&quot;</td></tr><tr><td>28</td><td>79</td><td>8</td><td>8</td><td>&quot;28079008_8_8&quot;</td><td>2024</td><td>9</td><td>16.0</td><td>&quot;V&quot;</td><td>21.0</td><td>&quot;V&quot;</td><td>20.0</td><td>&quot;V&quot;</td><td>15.0</td><td>&quot;V&quot;</td><td>18.0</td><td>&quot;V&quot;</td><td>23.0</td><td>&quot;V&quot;</td><td>18.0</td><td>&quot;V&quot;</td><td>17.0</td><td>&quot;V&quot;</td><td>33.0</td><td>&quot;V&quot;</td><td>25.0</td><td>&quot;V&quot;</td><td>27.0</td><td>&quot;V&quot;</td><td>22.0</td><td>&quot;V&quot;</td><td>14.0</td><td>&quot;V&quot;</td><td>27.0</td><td>&quot;V&quot;</td><td>27.0</td><td>&quot;V&quot;</td><td>22.0</td><td>&quot;V&quot;</td><td>21.0</td><td>&quot;V&quot;</td><td>22.0</td><td>&quot;V&quot;</td><td>25.0</td><td>&quot;V&quot;</td><td>31.0</td><td>&quot;V&quot;</td><td>22.0</td><td>&quot;V&quot;</td><td>29.0</td><td>&quot;V&quot;</td><td>29.0</td><td>&quot;V&quot;</td><td>37.0</td><td>&quot;V&quot;</td><td>21.0</td><td>&quot;V&quot;</td><td>15.0</td><td>&quot;V&quot;</td><td>20.0</td><td>&quot;V&quot;</td><td>21.0</td><td>&quot;V&quot;</td><td>25.0</td><td>&quot;V&quot;</td><td>58.0</td><td>&quot;V&quot;</td><td>0.0</td><td>&quot;N&quot;</td></tr><tr><td>28</td><td>79</td><td>8</td><td>8</td><td>&quot;28079008_8_8&quot;</td><td>2024</td><td>10</td><td>55.0</td><td>&quot;V&quot;</td><td>25.0</td><td>&quot;V&quot;</td><td>21.0</td><td>&quot;V&quot;</td><td>34.0</td><td>&quot;V&quot;</td><td>27.0</td><td>&quot;V&quot;</td><td>12.0</td><td>&quot;V&quot;</td><td>25.0</td><td>&quot;N&quot;</td><td>22.0</td><td>&quot;V&quot;</td><td>20.0</td><td>&quot;V&quot;</td><td>27.0</td><td>&quot;V&quot;</td><td>37.0</td><td>&quot;V&quot;</td><td>24.0</td><td>&quot;V&quot;</td><td>31.0</td><td>&quot;V&quot;</td><td>43.0</td><td>&quot;V&quot;</td><td>23.0</td><td>&quot;V&quot;</td><td>20.0</td><td>&quot;V&quot;</td><td>20.0</td><td>&quot;V&quot;</td><td>30.0</td><td>&quot;V&quot;</td><td>36.0</td><td>&quot;V&quot;</td><td>32.0</td><td>&quot;V&quot;</td><td>49.0</td><td>&quot;V&quot;</td><td>27.0</td><td>&quot;V&quot;</td><td>31.0</td><td>&quot;V&quot;</td><td>34.0</td><td>&quot;V&quot;</td><td>37.0</td><td>&quot;V&quot;</td><td>18.0</td><td>&quot;V&quot;</td><td>15.0</td><td>&quot;V&quot;</td><td>21.0</td><td>&quot;V&quot;</td><td>21.0</td><td>&quot;V&quot;</td><td>32.0</td><td>&quot;V&quot;</td><td>34.0</td><td>&quot;V&quot;</td></tr></tbody></table></div>"
      ],
      "text/plain": [
       "shape: (10, 69)\n",
       "┌───────────┬───────────┬──────────┬──────────┬───┬──────┬─────┬──────┬─────┐\n",
       "│ PROVINCIA ┆ MUNICIPIO ┆ ESTACION ┆ MAGNITUD ┆ … ┆ D30  ┆ V30 ┆ D31  ┆ V31 │\n",
       "│ ---       ┆ ---       ┆ ---      ┆ ---      ┆   ┆ ---  ┆ --- ┆ ---  ┆ --- │\n",
       "│ i64       ┆ i64       ┆ i64      ┆ i64      ┆   ┆ f64  ┆ str ┆ f64  ┆ str │\n",
       "╞═══════════╪═══════════╪══════════╪══════════╪═══╪══════╪═════╪══════╪═════╡\n",
       "│ 28        ┆ 79        ┆ 8        ┆ 8        ┆ … ┆ 47.0 ┆ V   ┆ 40.0 ┆ V   │\n",
       "│ 28        ┆ 79        ┆ 8        ┆ 8        ┆ … ┆ 0.0  ┆ N   ┆ 0.0  ┆ N   │\n",
       "│ 28        ┆ 79        ┆ 8        ┆ 8        ┆ … ┆ 12.0 ┆ V   ┆ 12.0 ┆ V   │\n",
       "│ 28        ┆ 79        ┆ 8        ┆ 8        ┆ … ┆ 23.0 ┆ V   ┆ 0.0  ┆ N   │\n",
       "│ 28        ┆ 79        ┆ 8        ┆ 8        ┆ … ┆ 19.0 ┆ V   ┆ 13.0 ┆ V   │\n",
       "│ 28        ┆ 79        ┆ 8        ┆ 8        ┆ … ┆ 9.0  ┆ V   ┆ 0.0  ┆ N   │\n",
       "│ 28        ┆ 79        ┆ 8        ┆ 8        ┆ … ┆ 21.0 ┆ V   ┆ 30.0 ┆ V   │\n",
       "│ 28        ┆ 79        ┆ 8        ┆ 8        ┆ … ┆ 18.0 ┆ V   ┆ 15.0 ┆ V   │\n",
       "│ 28        ┆ 79        ┆ 8        ┆ 8        ┆ … ┆ 58.0 ┆ V   ┆ 0.0  ┆ N   │\n",
       "│ 28        ┆ 79        ┆ 8        ┆ 8        ┆ … ┆ 32.0 ┆ V   ┆ 34.0 ┆ V   │\n",
       "└───────────┴───────────┴──────────┴──────────┴───┴──────┴─────┴──────┴─────┘"
      ]
     },
     "execution_count": 6,
     "metadata": {},
     "output_type": "execute_result"
    }
   ],
   "source": [
    "dfp.filter( (pl.col('ESTACION')==8) & (pl.col('MAGNITUD')==8)).head(20)"
   ]
  },
  {
   "cell_type": "code",
   "execution_count": 7,
   "metadata": {},
   "outputs": [
    {
     "data": {
      "text/html": [
       "<div><style>\n",
       ".dataframe > thead > tr,\n",
       ".dataframe > tbody > tr {\n",
       "  text-align: right;\n",
       "  white-space: pre-wrap;\n",
       "}\n",
       "</style>\n",
       "<small>shape: (620, 9)</small><table border=\"1\" class=\"dataframe\"><thead><tr><th>PROVINCIA</th><th>MUNICIPIO</th><th>ESTACION</th><th>MAGNITUD</th><th>PUNTO_MUESTREO</th><th>ANO</th><th>MES</th><th>variable</th><th>value</th></tr><tr><td>i64</td><td>i64</td><td>i64</td><td>i64</td><td>str</td><td>i64</td><td>i64</td><td>str</td><td>str</td></tr></thead><tbody><tr><td>28</td><td>79</td><td>8</td><td>8</td><td>&quot;28079008_8_8&quot;</td><td>2024</td><td>1</td><td>&quot;D01&quot;</td><td>&quot;34.0&quot;</td></tr><tr><td>28</td><td>79</td><td>8</td><td>8</td><td>&quot;28079008_8_8&quot;</td><td>2024</td><td>2</td><td>&quot;D01&quot;</td><td>&quot;46.0&quot;</td></tr><tr><td>28</td><td>79</td><td>8</td><td>8</td><td>&quot;28079008_8_8&quot;</td><td>2024</td><td>3</td><td>&quot;D01&quot;</td><td>&quot;23.0&quot;</td></tr><tr><td>28</td><td>79</td><td>8</td><td>8</td><td>&quot;28079008_8_8&quot;</td><td>2024</td><td>4</td><td>&quot;D01&quot;</td><td>&quot;18.0&quot;</td></tr><tr><td>28</td><td>79</td><td>8</td><td>8</td><td>&quot;28079008_8_8&quot;</td><td>2024</td><td>5</td><td>&quot;D01&quot;</td><td>&quot;9.0&quot;</td></tr><tr><td>&hellip;</td><td>&hellip;</td><td>&hellip;</td><td>&hellip;</td><td>&hellip;</td><td>&hellip;</td><td>&hellip;</td><td>&hellip;</td><td>&hellip;</td></tr><tr><td>28</td><td>79</td><td>8</td><td>8</td><td>&quot;28079008_8_8&quot;</td><td>2024</td><td>6</td><td>&quot;V31&quot;</td><td>&quot;N&quot;</td></tr><tr><td>28</td><td>79</td><td>8</td><td>8</td><td>&quot;28079008_8_8&quot;</td><td>2024</td><td>7</td><td>&quot;V31&quot;</td><td>&quot;V&quot;</td></tr><tr><td>28</td><td>79</td><td>8</td><td>8</td><td>&quot;28079008_8_8&quot;</td><td>2024</td><td>8</td><td>&quot;V31&quot;</td><td>&quot;V&quot;</td></tr><tr><td>28</td><td>79</td><td>8</td><td>8</td><td>&quot;28079008_8_8&quot;</td><td>2024</td><td>9</td><td>&quot;V31&quot;</td><td>&quot;N&quot;</td></tr><tr><td>28</td><td>79</td><td>8</td><td>8</td><td>&quot;28079008_8_8&quot;</td><td>2024</td><td>10</td><td>&quot;V31&quot;</td><td>&quot;V&quot;</td></tr></tbody></table></div>"
      ],
      "text/plain": [
       "shape: (620, 9)\n",
       "┌───────────┬───────────┬──────────┬──────────┬───┬──────┬─────┬──────────┬───────┐\n",
       "│ PROVINCIA ┆ MUNICIPIO ┆ ESTACION ┆ MAGNITUD ┆ … ┆ ANO  ┆ MES ┆ variable ┆ value │\n",
       "│ ---       ┆ ---       ┆ ---      ┆ ---      ┆   ┆ ---  ┆ --- ┆ ---      ┆ ---   │\n",
       "│ i64       ┆ i64       ┆ i64      ┆ i64      ┆   ┆ i64  ┆ i64 ┆ str      ┆ str   │\n",
       "╞═══════════╪═══════════╪══════════╪══════════╪═══╪══════╪═════╪══════════╪═══════╡\n",
       "│ 28        ┆ 79        ┆ 8        ┆ 8        ┆ … ┆ 2024 ┆ 1   ┆ D01      ┆ 34.0  │\n",
       "│ 28        ┆ 79        ┆ 8        ┆ 8        ┆ … ┆ 2024 ┆ 2   ┆ D01      ┆ 46.0  │\n",
       "│ 28        ┆ 79        ┆ 8        ┆ 8        ┆ … ┆ 2024 ┆ 3   ┆ D01      ┆ 23.0  │\n",
       "│ 28        ┆ 79        ┆ 8        ┆ 8        ┆ … ┆ 2024 ┆ 4   ┆ D01      ┆ 18.0  │\n",
       "│ 28        ┆ 79        ┆ 8        ┆ 8        ┆ … ┆ 2024 ┆ 5   ┆ D01      ┆ 9.0   │\n",
       "│ …         ┆ …         ┆ …        ┆ …        ┆ … ┆ …    ┆ …   ┆ …        ┆ …     │\n",
       "│ 28        ┆ 79        ┆ 8        ┆ 8        ┆ … ┆ 2024 ┆ 6   ┆ V31      ┆ N     │\n",
       "│ 28        ┆ 79        ┆ 8        ┆ 8        ┆ … ┆ 2024 ┆ 7   ┆ V31      ┆ V     │\n",
       "│ 28        ┆ 79        ┆ 8        ┆ 8        ┆ … ┆ 2024 ┆ 8   ┆ V31      ┆ V     │\n",
       "│ 28        ┆ 79        ┆ 8        ┆ 8        ┆ … ┆ 2024 ┆ 9   ┆ V31      ┆ N     │\n",
       "│ 28        ┆ 79        ┆ 8        ┆ 8        ┆ … ┆ 2024 ┆ 10  ┆ V31      ┆ V     │\n",
       "└───────────┴───────────┴──────────┴──────────┴───┴──────┴─────┴──────────┴───────┘"
      ]
     },
     "execution_count": 7,
     "metadata": {},
     "output_type": "execute_result"
    }
   ],
   "source": [
    "dfp2 =dfp.filter( (pl.col('ESTACION')==8) & (pl.col('MAGNITUD')==8)).unpivot(index = ['PROVINCIA',\t'MUNICIPIO',\t'ESTACION',\t'MAGNITUD'\t,'PUNTO_MUESTREO',\t'ANO',\t'MES',])\n",
    "\n",
    "dfp2"
   ]
  },
  {
   "cell_type": "code",
   "execution_count": 8,
   "metadata": {},
   "outputs": [
    {
     "data": {
      "text/html": [
       "<div><style>\n",
       ".dataframe > thead > tr,\n",
       ".dataframe > tbody > tr {\n",
       "  text-align: right;\n",
       "  white-space: pre-wrap;\n",
       "}\n",
       "</style>\n",
       "<small>shape: (620, 11)</small><table border=\"1\" class=\"dataframe\"><thead><tr><th>PROVINCIA</th><th>MUNICIPIO</th><th>ESTACION</th><th>MAGNITUD</th><th>PUNTO_MUESTREO</th><th>ANO</th><th>MES</th><th>variable</th><th>value</th><th>NV</th><th>DIA</th></tr><tr><td>i64</td><td>i64</td><td>i64</td><td>i64</td><td>str</td><td>i64</td><td>i64</td><td>str</td><td>str</td><td>str</td><td>str</td></tr></thead><tbody><tr><td>28</td><td>79</td><td>8</td><td>8</td><td>&quot;28079008_8_8&quot;</td><td>2024</td><td>1</td><td>&quot;D01&quot;</td><td>&quot;34.0&quot;</td><td>&quot;D&quot;</td><td>&quot;01&quot;</td></tr><tr><td>28</td><td>79</td><td>8</td><td>8</td><td>&quot;28079008_8_8&quot;</td><td>2024</td><td>2</td><td>&quot;D01&quot;</td><td>&quot;46.0&quot;</td><td>&quot;D&quot;</td><td>&quot;01&quot;</td></tr><tr><td>28</td><td>79</td><td>8</td><td>8</td><td>&quot;28079008_8_8&quot;</td><td>2024</td><td>3</td><td>&quot;D01&quot;</td><td>&quot;23.0&quot;</td><td>&quot;D&quot;</td><td>&quot;01&quot;</td></tr><tr><td>28</td><td>79</td><td>8</td><td>8</td><td>&quot;28079008_8_8&quot;</td><td>2024</td><td>4</td><td>&quot;D01&quot;</td><td>&quot;18.0&quot;</td><td>&quot;D&quot;</td><td>&quot;01&quot;</td></tr><tr><td>28</td><td>79</td><td>8</td><td>8</td><td>&quot;28079008_8_8&quot;</td><td>2024</td><td>5</td><td>&quot;D01&quot;</td><td>&quot;9.0&quot;</td><td>&quot;D&quot;</td><td>&quot;01&quot;</td></tr><tr><td>&hellip;</td><td>&hellip;</td><td>&hellip;</td><td>&hellip;</td><td>&hellip;</td><td>&hellip;</td><td>&hellip;</td><td>&hellip;</td><td>&hellip;</td><td>&hellip;</td><td>&hellip;</td></tr><tr><td>28</td><td>79</td><td>8</td><td>8</td><td>&quot;28079008_8_8&quot;</td><td>2024</td><td>6</td><td>&quot;V31&quot;</td><td>&quot;N&quot;</td><td>&quot;V&quot;</td><td>&quot;31&quot;</td></tr><tr><td>28</td><td>79</td><td>8</td><td>8</td><td>&quot;28079008_8_8&quot;</td><td>2024</td><td>7</td><td>&quot;V31&quot;</td><td>&quot;V&quot;</td><td>&quot;V&quot;</td><td>&quot;31&quot;</td></tr><tr><td>28</td><td>79</td><td>8</td><td>8</td><td>&quot;28079008_8_8&quot;</td><td>2024</td><td>8</td><td>&quot;V31&quot;</td><td>&quot;V&quot;</td><td>&quot;V&quot;</td><td>&quot;31&quot;</td></tr><tr><td>28</td><td>79</td><td>8</td><td>8</td><td>&quot;28079008_8_8&quot;</td><td>2024</td><td>9</td><td>&quot;V31&quot;</td><td>&quot;N&quot;</td><td>&quot;V&quot;</td><td>&quot;31&quot;</td></tr><tr><td>28</td><td>79</td><td>8</td><td>8</td><td>&quot;28079008_8_8&quot;</td><td>2024</td><td>10</td><td>&quot;V31&quot;</td><td>&quot;V&quot;</td><td>&quot;V&quot;</td><td>&quot;31&quot;</td></tr></tbody></table></div>"
      ],
      "text/plain": [
       "shape: (620, 11)\n",
       "┌───────────┬───────────┬──────────┬──────────┬───┬──────────┬───────┬─────┬─────┐\n",
       "│ PROVINCIA ┆ MUNICIPIO ┆ ESTACION ┆ MAGNITUD ┆ … ┆ variable ┆ value ┆ NV  ┆ DIA │\n",
       "│ ---       ┆ ---       ┆ ---      ┆ ---      ┆   ┆ ---      ┆ ---   ┆ --- ┆ --- │\n",
       "│ i64       ┆ i64       ┆ i64      ┆ i64      ┆   ┆ str      ┆ str   ┆ str ┆ str │\n",
       "╞═══════════╪═══════════╪══════════╪══════════╪═══╪══════════╪═══════╪═════╪═════╡\n",
       "│ 28        ┆ 79        ┆ 8        ┆ 8        ┆ … ┆ D01      ┆ 34.0  ┆ D   ┆ 01  │\n",
       "│ 28        ┆ 79        ┆ 8        ┆ 8        ┆ … ┆ D01      ┆ 46.0  ┆ D   ┆ 01  │\n",
       "│ 28        ┆ 79        ┆ 8        ┆ 8        ┆ … ┆ D01      ┆ 23.0  ┆ D   ┆ 01  │\n",
       "│ 28        ┆ 79        ┆ 8        ┆ 8        ┆ … ┆ D01      ┆ 18.0  ┆ D   ┆ 01  │\n",
       "│ 28        ┆ 79        ┆ 8        ┆ 8        ┆ … ┆ D01      ┆ 9.0   ┆ D   ┆ 01  │\n",
       "│ …         ┆ …         ┆ …        ┆ …        ┆ … ┆ …        ┆ …     ┆ …   ┆ …   │\n",
       "│ 28        ┆ 79        ┆ 8        ┆ 8        ┆ … ┆ V31      ┆ N     ┆ V   ┆ 31  │\n",
       "│ 28        ┆ 79        ┆ 8        ┆ 8        ┆ … ┆ V31      ┆ V     ┆ V   ┆ 31  │\n",
       "│ 28        ┆ 79        ┆ 8        ┆ 8        ┆ … ┆ V31      ┆ V     ┆ V   ┆ 31  │\n",
       "│ 28        ┆ 79        ┆ 8        ┆ 8        ┆ … ┆ V31      ┆ N     ┆ V   ┆ 31  │\n",
       "│ 28        ┆ 79        ┆ 8        ┆ 8        ┆ … ┆ V31      ┆ V     ┆ V   ┆ 31  │\n",
       "└───────────┴───────────┴──────────┴──────────┴───┴──────────┴───────┴─────┴─────┘"
      ]
     },
     "execution_count": 8,
     "metadata": {},
     "output_type": "execute_result"
    }
   ],
   "source": [
    "dfp3 = dfp2.with_columns((pl.col('variable').str.slice(0,1)).alias('NV')).with_columns((pl.col('variable').str.slice(1)).alias('DIA'))\n",
    "dfp3"
   ]
  },
  {
   "cell_type": "code",
   "execution_count": 9,
   "metadata": {},
   "outputs": [
    {
     "data": {
      "text/html": [
       "<div><style>\n",
       ".dataframe > thead > tr,\n",
       ".dataframe > tbody > tr {\n",
       "  text-align: right;\n",
       "  white-space: pre-wrap;\n",
       "}\n",
       "</style>\n",
       "<small>shape: (310, 10)</small><table border=\"1\" class=\"dataframe\"><thead><tr><th>PROVINCIA</th><th>MUNICIPIO</th><th>ESTACION</th><th>MAGNITUD</th><th>PUNTO_MUESTREO</th><th>ANO</th><th>MES</th><th>DIA</th><th>D</th><th>V</th></tr><tr><td>i64</td><td>i64</td><td>i64</td><td>i64</td><td>str</td><td>i64</td><td>i64</td><td>str</td><td>str</td><td>str</td></tr></thead><tbody><tr><td>28</td><td>79</td><td>8</td><td>8</td><td>&quot;28079008_8_8&quot;</td><td>2024</td><td>1</td><td>&quot;01&quot;</td><td>&quot;34.0&quot;</td><td>&quot;V&quot;</td></tr><tr><td>28</td><td>79</td><td>8</td><td>8</td><td>&quot;28079008_8_8&quot;</td><td>2024</td><td>2</td><td>&quot;01&quot;</td><td>&quot;46.0&quot;</td><td>&quot;V&quot;</td></tr><tr><td>28</td><td>79</td><td>8</td><td>8</td><td>&quot;28079008_8_8&quot;</td><td>2024</td><td>3</td><td>&quot;01&quot;</td><td>&quot;23.0&quot;</td><td>&quot;V&quot;</td></tr><tr><td>28</td><td>79</td><td>8</td><td>8</td><td>&quot;28079008_8_8&quot;</td><td>2024</td><td>4</td><td>&quot;01&quot;</td><td>&quot;18.0&quot;</td><td>&quot;V&quot;</td></tr><tr><td>28</td><td>79</td><td>8</td><td>8</td><td>&quot;28079008_8_8&quot;</td><td>2024</td><td>5</td><td>&quot;01&quot;</td><td>&quot;9.0&quot;</td><td>&quot;V&quot;</td></tr><tr><td>&hellip;</td><td>&hellip;</td><td>&hellip;</td><td>&hellip;</td><td>&hellip;</td><td>&hellip;</td><td>&hellip;</td><td>&hellip;</td><td>&hellip;</td><td>&hellip;</td></tr><tr><td>28</td><td>79</td><td>8</td><td>8</td><td>&quot;28079008_8_8&quot;</td><td>2024</td><td>6</td><td>&quot;31&quot;</td><td>&quot;0.0&quot;</td><td>&quot;N&quot;</td></tr><tr><td>28</td><td>79</td><td>8</td><td>8</td><td>&quot;28079008_8_8&quot;</td><td>2024</td><td>7</td><td>&quot;31&quot;</td><td>&quot;30.0&quot;</td><td>&quot;V&quot;</td></tr><tr><td>28</td><td>79</td><td>8</td><td>8</td><td>&quot;28079008_8_8&quot;</td><td>2024</td><td>8</td><td>&quot;31&quot;</td><td>&quot;15.0&quot;</td><td>&quot;V&quot;</td></tr><tr><td>28</td><td>79</td><td>8</td><td>8</td><td>&quot;28079008_8_8&quot;</td><td>2024</td><td>9</td><td>&quot;31&quot;</td><td>&quot;0.0&quot;</td><td>&quot;N&quot;</td></tr><tr><td>28</td><td>79</td><td>8</td><td>8</td><td>&quot;28079008_8_8&quot;</td><td>2024</td><td>10</td><td>&quot;31&quot;</td><td>&quot;34.0&quot;</td><td>&quot;V&quot;</td></tr></tbody></table></div>"
      ],
      "text/plain": [
       "shape: (310, 10)\n",
       "┌───────────┬───────────┬──────────┬──────────┬───┬─────┬─────┬──────┬─────┐\n",
       "│ PROVINCIA ┆ MUNICIPIO ┆ ESTACION ┆ MAGNITUD ┆ … ┆ MES ┆ DIA ┆ D    ┆ V   │\n",
       "│ ---       ┆ ---       ┆ ---      ┆ ---      ┆   ┆ --- ┆ --- ┆ ---  ┆ --- │\n",
       "│ i64       ┆ i64       ┆ i64      ┆ i64      ┆   ┆ i64 ┆ str ┆ str  ┆ str │\n",
       "╞═══════════╪═══════════╪══════════╪══════════╪═══╪═════╪═════╪══════╪═════╡\n",
       "│ 28        ┆ 79        ┆ 8        ┆ 8        ┆ … ┆ 1   ┆ 01  ┆ 34.0 ┆ V   │\n",
       "│ 28        ┆ 79        ┆ 8        ┆ 8        ┆ … ┆ 2   ┆ 01  ┆ 46.0 ┆ V   │\n",
       "│ 28        ┆ 79        ┆ 8        ┆ 8        ┆ … ┆ 3   ┆ 01  ┆ 23.0 ┆ V   │\n",
       "│ 28        ┆ 79        ┆ 8        ┆ 8        ┆ … ┆ 4   ┆ 01  ┆ 18.0 ┆ V   │\n",
       "│ 28        ┆ 79        ┆ 8        ┆ 8        ┆ … ┆ 5   ┆ 01  ┆ 9.0  ┆ V   │\n",
       "│ …         ┆ …         ┆ …        ┆ …        ┆ … ┆ …   ┆ …   ┆ …    ┆ …   │\n",
       "│ 28        ┆ 79        ┆ 8        ┆ 8        ┆ … ┆ 6   ┆ 31  ┆ 0.0  ┆ N   │\n",
       "│ 28        ┆ 79        ┆ 8        ┆ 8        ┆ … ┆ 7   ┆ 31  ┆ 30.0 ┆ V   │\n",
       "│ 28        ┆ 79        ┆ 8        ┆ 8        ┆ … ┆ 8   ┆ 31  ┆ 15.0 ┆ V   │\n",
       "│ 28        ┆ 79        ┆ 8        ┆ 8        ┆ … ┆ 9   ┆ 31  ┆ 0.0  ┆ N   │\n",
       "│ 28        ┆ 79        ┆ 8        ┆ 8        ┆ … ┆ 10  ┆ 31  ┆ 34.0 ┆ V   │\n",
       "└───────────┴───────────┴──────────┴──────────┴───┴─────┴─────┴──────┴─────┘"
      ]
     },
     "execution_count": 9,
     "metadata": {},
     "output_type": "execute_result"
    }
   ],
   "source": [
    "dfp4 =(dfp3\n",
    "    .pivot(on='NV', values='value', index = ['PROVINCIA',\t'MUNICIPIO',\t'ESTACION',\t'MAGNITUD'\t,'PUNTO_MUESTREO',\t'ANO',\t'MES',\t'DIA',])\n",
    ")\n",
    "dfp4"
   ]
  },
  {
   "cell_type": "code",
   "execution_count": 10,
   "metadata": {},
   "outputs": [
    {
     "data": {
      "text/html": [
       "<div><style>\n",
       ".dataframe > thead > tr,\n",
       ".dataframe > tbody > tr {\n",
       "  text-align: right;\n",
       "  white-space: pre-wrap;\n",
       "}\n",
       "</style>\n",
       "<small>shape: (310, 10)</small><table border=\"1\" class=\"dataframe\"><thead><tr><th>PROVINCIA</th><th>MUNICIPIO</th><th>ESTACION</th><th>MAGNITUD</th><th>PUNTO_MUESTREO</th><th>ANO</th><th>MES</th><th>DIA</th><th>D</th><th>V</th></tr><tr><td>i64</td><td>i64</td><td>i64</td><td>i64</td><td>str</td><td>i64</td><td>i64</td><td>i64</td><td>f64</td><td>str</td></tr></thead><tbody><tr><td>28</td><td>79</td><td>8</td><td>8</td><td>&quot;28079008_8_8&quot;</td><td>2024</td><td>1</td><td>1</td><td>34.0</td><td>&quot;V&quot;</td></tr><tr><td>28</td><td>79</td><td>8</td><td>8</td><td>&quot;28079008_8_8&quot;</td><td>2024</td><td>2</td><td>1</td><td>46.0</td><td>&quot;V&quot;</td></tr><tr><td>28</td><td>79</td><td>8</td><td>8</td><td>&quot;28079008_8_8&quot;</td><td>2024</td><td>3</td><td>1</td><td>23.0</td><td>&quot;V&quot;</td></tr><tr><td>28</td><td>79</td><td>8</td><td>8</td><td>&quot;28079008_8_8&quot;</td><td>2024</td><td>4</td><td>1</td><td>18.0</td><td>&quot;V&quot;</td></tr><tr><td>28</td><td>79</td><td>8</td><td>8</td><td>&quot;28079008_8_8&quot;</td><td>2024</td><td>5</td><td>1</td><td>9.0</td><td>&quot;V&quot;</td></tr><tr><td>&hellip;</td><td>&hellip;</td><td>&hellip;</td><td>&hellip;</td><td>&hellip;</td><td>&hellip;</td><td>&hellip;</td><td>&hellip;</td><td>&hellip;</td><td>&hellip;</td></tr><tr><td>28</td><td>79</td><td>8</td><td>8</td><td>&quot;28079008_8_8&quot;</td><td>2024</td><td>6</td><td>31</td><td>0.0</td><td>&quot;N&quot;</td></tr><tr><td>28</td><td>79</td><td>8</td><td>8</td><td>&quot;28079008_8_8&quot;</td><td>2024</td><td>7</td><td>31</td><td>30.0</td><td>&quot;V&quot;</td></tr><tr><td>28</td><td>79</td><td>8</td><td>8</td><td>&quot;28079008_8_8&quot;</td><td>2024</td><td>8</td><td>31</td><td>15.0</td><td>&quot;V&quot;</td></tr><tr><td>28</td><td>79</td><td>8</td><td>8</td><td>&quot;28079008_8_8&quot;</td><td>2024</td><td>9</td><td>31</td><td>0.0</td><td>&quot;N&quot;</td></tr><tr><td>28</td><td>79</td><td>8</td><td>8</td><td>&quot;28079008_8_8&quot;</td><td>2024</td><td>10</td><td>31</td><td>34.0</td><td>&quot;V&quot;</td></tr></tbody></table></div>"
      ],
      "text/plain": [
       "shape: (310, 10)\n",
       "┌───────────┬───────────┬──────────┬──────────┬───┬─────┬─────┬──────┬─────┐\n",
       "│ PROVINCIA ┆ MUNICIPIO ┆ ESTACION ┆ MAGNITUD ┆ … ┆ MES ┆ DIA ┆ D    ┆ V   │\n",
       "│ ---       ┆ ---       ┆ ---      ┆ ---      ┆   ┆ --- ┆ --- ┆ ---  ┆ --- │\n",
       "│ i64       ┆ i64       ┆ i64      ┆ i64      ┆   ┆ i64 ┆ i64 ┆ f64  ┆ str │\n",
       "╞═══════════╪═══════════╪══════════╪══════════╪═══╪═════╪═════╪══════╪═════╡\n",
       "│ 28        ┆ 79        ┆ 8        ┆ 8        ┆ … ┆ 1   ┆ 1   ┆ 34.0 ┆ V   │\n",
       "│ 28        ┆ 79        ┆ 8        ┆ 8        ┆ … ┆ 2   ┆ 1   ┆ 46.0 ┆ V   │\n",
       "│ 28        ┆ 79        ┆ 8        ┆ 8        ┆ … ┆ 3   ┆ 1   ┆ 23.0 ┆ V   │\n",
       "│ 28        ┆ 79        ┆ 8        ┆ 8        ┆ … ┆ 4   ┆ 1   ┆ 18.0 ┆ V   │\n",
       "│ 28        ┆ 79        ┆ 8        ┆ 8        ┆ … ┆ 5   ┆ 1   ┆ 9.0  ┆ V   │\n",
       "│ …         ┆ …         ┆ …        ┆ …        ┆ … ┆ …   ┆ …   ┆ …    ┆ …   │\n",
       "│ 28        ┆ 79        ┆ 8        ┆ 8        ┆ … ┆ 6   ┆ 31  ┆ 0.0  ┆ N   │\n",
       "│ 28        ┆ 79        ┆ 8        ┆ 8        ┆ … ┆ 7   ┆ 31  ┆ 30.0 ┆ V   │\n",
       "│ 28        ┆ 79        ┆ 8        ┆ 8        ┆ … ┆ 8   ┆ 31  ┆ 15.0 ┆ V   │\n",
       "│ 28        ┆ 79        ┆ 8        ┆ 8        ┆ … ┆ 9   ┆ 31  ┆ 0.0  ┆ N   │\n",
       "│ 28        ┆ 79        ┆ 8        ┆ 8        ┆ … ┆ 10  ┆ 31  ┆ 34.0 ┆ V   │\n",
       "└───────────┴───────────┴──────────┴──────────┴───┴─────┴─────┴──────┴─────┘"
      ]
     },
     "execution_count": 10,
     "metadata": {},
     "output_type": "execute_result"
    }
   ],
   "source": [
    "dfp5 = dfp4.with_columns(D = dfp4['D'].cast(float) ).with_columns(DIA = dfp4['DIA'].cast(int))\n",
    "dfp5"
   ]
  },
  {
   "cell_type": "code",
   "execution_count": 11,
   "metadata": {},
   "outputs": [
    {
     "data": {
      "text/html": [
       "<script type=\"esms-options\">{\"shimMode\": true}</script><style>*[data-root-id],\n",
       "*[data-root-id] > * {\n",
       "  box-sizing: border-box;\n",
       "  font-family: var(--jp-ui-font-family);\n",
       "  font-size: var(--jp-ui-font-size1);\n",
       "  color: var(--vscode-editor-foreground, var(--jp-ui-font-color1));\n",
       "}\n",
       "\n",
       "/* Override VSCode background color */\n",
       ".cell-output-ipywidget-background:has(\n",
       "    > .cell-output-ipywidget-background > .lm-Widget > *[data-root-id]\n",
       "  ),\n",
       ".cell-output-ipywidget-background:has(> .lm-Widget > *[data-root-id]) {\n",
       "  background-color: transparent !important;\n",
       "}\n",
       "</style>"
      ]
     },
     "metadata": {},
     "output_type": "display_data"
    },
    {
     "data": {
      "application/javascript": "(function(root) {\n  function now() {\n    return new Date();\n  }\n\n  const force = true;\n  const py_version = '3.6.2'.replace('rc', '-rc.').replace('.dev', '-dev.');\n  const reloading = false;\n  const Bokeh = root.Bokeh;\n\n  // Set a timeout for this load but only if we are not already initializing\n  if (typeof (root._bokeh_timeout) === \"undefined\" || (force || !root._bokeh_is_initializing)) {\n    root._bokeh_timeout = Date.now() + 5000;\n    root._bokeh_failed_load = false;\n  }\n\n  function run_callbacks() {\n    try {\n      root._bokeh_onload_callbacks.forEach(function(callback) {\n        if (callback != null)\n          callback();\n      });\n    } finally {\n      delete root._bokeh_onload_callbacks;\n    }\n    console.debug(\"Bokeh: all callbacks have finished\");\n  }\n\n  function load_libs(css_urls, js_urls, js_modules, js_exports, callback) {\n    if (css_urls == null) css_urls = [];\n    if (js_urls == null) js_urls = [];\n    if (js_modules == null) js_modules = [];\n    if (js_exports == null) js_exports = {};\n\n    root._bokeh_onload_callbacks.push(callback);\n\n    if (root._bokeh_is_loading > 0) {\n      // Don't load bokeh if it is still initializing\n      console.debug(\"Bokeh: BokehJS is being loaded, scheduling callback at\", now());\n      return null;\n    } else if (js_urls.length === 0 && js_modules.length === 0 && Object.keys(js_exports).length === 0) {\n      // There is nothing to load\n      run_callbacks();\n      return null;\n    }\n\n    function on_load() {\n      root._bokeh_is_loading--;\n      if (root._bokeh_is_loading === 0) {\n        console.debug(\"Bokeh: all BokehJS libraries/stylesheets loaded\");\n        run_callbacks()\n      }\n    }\n    window._bokeh_on_load = on_load\n\n    function on_error(e) {\n      const src_el = e.srcElement\n      console.error(\"failed to load \" + (src_el.href || src_el.src));\n    }\n\n    const skip = [];\n    if (window.requirejs) {\n      window.requirejs.config({'packages': {}, 'paths': {}, 'shim': {}});\n      root._bokeh_is_loading = css_urls.length + 0;\n    } else {\n      root._bokeh_is_loading = css_urls.length + js_urls.length + js_modules.length + Object.keys(js_exports).length;\n    }\n\n    const existing_stylesheets = []\n    const links = document.getElementsByTagName('link')\n    for (let i = 0; i < links.length; i++) {\n      const link = links[i]\n      if (link.href != null) {\n        existing_stylesheets.push(link.href)\n      }\n    }\n    for (let i = 0; i < css_urls.length; i++) {\n      const url = css_urls[i];\n      const escaped = encodeURI(url)\n      if (existing_stylesheets.indexOf(escaped) !== -1) {\n        on_load()\n        continue;\n      }\n      const element = document.createElement(\"link\");\n      element.onload = on_load;\n      element.onerror = on_error;\n      element.rel = \"stylesheet\";\n      element.type = \"text/css\";\n      element.href = url;\n      console.debug(\"Bokeh: injecting link tag for BokehJS stylesheet: \", url);\n      document.body.appendChild(element);\n    }    var existing_scripts = []\n    const scripts = document.getElementsByTagName('script')\n    for (let i = 0; i < scripts.length; i++) {\n      var script = scripts[i]\n      if (script.src != null) {\n        existing_scripts.push(script.src)\n      }\n    }\n    for (let i = 0; i < js_urls.length; i++) {\n      const url = js_urls[i];\n      const escaped = encodeURI(url)\n      if (skip.indexOf(escaped) !== -1 || existing_scripts.indexOf(escaped) !== -1) {\n        if (!window.requirejs) {\n          on_load();\n        }\n        continue;\n      }\n      const element = document.createElement('script');\n      element.onload = on_load;\n      element.onerror = on_error;\n      element.async = false;\n      element.src = url;\n      console.debug(\"Bokeh: injecting script tag for BokehJS library: \", url);\n      document.head.appendChild(element);\n    }\n    for (let i = 0; i < js_modules.length; i++) {\n      const url = js_modules[i];\n      const escaped = encodeURI(url)\n      if (skip.indexOf(escaped) !== -1 || existing_scripts.indexOf(escaped) !== -1) {\n        if (!window.requirejs) {\n          on_load();\n        }\n        continue;\n      }\n      var element = document.createElement('script');\n      element.onload = on_load;\n      element.onerror = on_error;\n      element.async = false;\n      element.src = url;\n      element.type = \"module\";\n      console.debug(\"Bokeh: injecting script tag for BokehJS library: \", url);\n      document.head.appendChild(element);\n    }\n    for (const name in js_exports) {\n      const url = js_exports[name];\n      const escaped = encodeURI(url)\n      if (skip.indexOf(escaped) >= 0 || root[name] != null) {\n        if (!window.requirejs) {\n          on_load();\n        }\n        continue;\n      }\n      var element = document.createElement('script');\n      element.onerror = on_error;\n      element.async = false;\n      element.type = \"module\";\n      console.debug(\"Bokeh: injecting script tag for BokehJS library: \", url);\n      element.textContent = `\n      import ${name} from \"${url}\"\n      window.${name} = ${name}\n      window._bokeh_on_load()\n      `\n      document.head.appendChild(element);\n    }\n    if (!js_urls.length && !js_modules.length) {\n      on_load()\n    }\n  };\n\n  function inject_raw_css(css) {\n    const element = document.createElement(\"style\");\n    element.appendChild(document.createTextNode(css));\n    document.body.appendChild(element);\n  }\n\n  const js_urls = [\"https://cdn.holoviz.org/panel/1.5.4/dist/bundled/reactiveesm/es-module-shims@^1.10.0/dist/es-module-shims.min.js\", \"https://cdn.bokeh.org/bokeh/release/bokeh-3.6.2.min.js\", \"https://cdn.bokeh.org/bokeh/release/bokeh-gl-3.6.2.min.js\", \"https://cdn.bokeh.org/bokeh/release/bokeh-widgets-3.6.2.min.js\", \"https://cdn.bokeh.org/bokeh/release/bokeh-tables-3.6.2.min.js\", \"https://cdn.holoviz.org/panel/1.5.4/dist/panel.min.js\"];\n  const js_modules = [];\n  const js_exports = {};\n  const css_urls = [];\n  const inline_js = [    function(Bokeh) {\n      Bokeh.set_log_level(\"info\");\n    },\nfunction(Bokeh) {} // ensure no trailing comma for IE\n  ];\n\n  function run_inline_js() {\n    if ((root.Bokeh !== undefined) || (force === true)) {\n      for (let i = 0; i < inline_js.length; i++) {\n        try {\n          inline_js[i].call(root, root.Bokeh);\n        } catch(e) {\n          if (!reloading) {\n            throw e;\n          }\n        }\n      }\n      // Cache old bokeh versions\n      if (Bokeh != undefined && !reloading) {\n        var NewBokeh = root.Bokeh;\n        if (Bokeh.versions === undefined) {\n          Bokeh.versions = new Map();\n        }\n        if (NewBokeh.version !== Bokeh.version) {\n          Bokeh.versions.set(NewBokeh.version, NewBokeh)\n        }\n        root.Bokeh = Bokeh;\n      }\n    } else if (Date.now() < root._bokeh_timeout) {\n      setTimeout(run_inline_js, 100);\n    } else if (!root._bokeh_failed_load) {\n      console.log(\"Bokeh: BokehJS failed to load within specified timeout.\");\n      root._bokeh_failed_load = true;\n    }\n    root._bokeh_is_initializing = false\n  }\n\n  function load_or_wait() {\n    // Implement a backoff loop that tries to ensure we do not load multiple\n    // versions of Bokeh and its dependencies at the same time.\n    // In recent versions we use the root._bokeh_is_initializing flag\n    // to determine whether there is an ongoing attempt to initialize\n    // bokeh, however for backward compatibility we also try to ensure\n    // that we do not start loading a newer (Panel>=1.0 and Bokeh>3) version\n    // before older versions are fully initialized.\n    if (root._bokeh_is_initializing && Date.now() > root._bokeh_timeout) {\n      // If the timeout and bokeh was not successfully loaded we reset\n      // everything and try loading again\n      root._bokeh_timeout = Date.now() + 5000;\n      root._bokeh_is_initializing = false;\n      root._bokeh_onload_callbacks = undefined;\n      root._bokeh_is_loading = 0\n      console.log(\"Bokeh: BokehJS was loaded multiple times but one version failed to initialize.\");\n      load_or_wait();\n    } else if (root._bokeh_is_initializing || (typeof root._bokeh_is_initializing === \"undefined\" && root._bokeh_onload_callbacks !== undefined)) {\n      setTimeout(load_or_wait, 100);\n    } else {\n      root._bokeh_is_initializing = true\n      root._bokeh_onload_callbacks = []\n      const bokeh_loaded = root.Bokeh != null && (root.Bokeh.version === py_version || (root.Bokeh.versions !== undefined && root.Bokeh.versions.has(py_version)));\n      if (!reloading && !bokeh_loaded) {\n        if (root.Bokeh) {\n          root.Bokeh = undefined;\n        }\n        console.debug(\"Bokeh: BokehJS not loaded, scheduling load and callback at\", now());\n      }\n      load_libs(css_urls, js_urls, js_modules, js_exports, function() {\n        console.debug(\"Bokeh: BokehJS plotting callback run at\", now());\n        run_inline_js();\n      });\n    }\n  }\n  // Give older versions of the autoload script a head-start to ensure\n  // they initialize before we start loading newer version.\n  setTimeout(load_or_wait, 100)\n}(window));",
      "application/vnd.holoviews_load.v0+json": ""
     },
     "metadata": {},
     "output_type": "display_data"
    },
    {
     "data": {
      "application/javascript": "\nif ((window.PyViz === undefined) || (window.PyViz instanceof HTMLElement)) {\n  window.PyViz = {comms: {}, comm_status:{}, kernels:{}, receivers: {}, plot_index: []}\n}\n\n\n    function JupyterCommManager() {\n    }\n\n    JupyterCommManager.prototype.register_target = function(plot_id, comm_id, msg_handler) {\n      if (window.comm_manager || ((window.Jupyter !== undefined) && (Jupyter.notebook.kernel != null))) {\n        var comm_manager = window.comm_manager || Jupyter.notebook.kernel.comm_manager;\n        comm_manager.register_target(comm_id, function(comm) {\n          comm.on_msg(msg_handler);\n        });\n      } else if ((plot_id in window.PyViz.kernels) && (window.PyViz.kernels[plot_id])) {\n        window.PyViz.kernels[plot_id].registerCommTarget(comm_id, function(comm) {\n          comm.onMsg = msg_handler;\n        });\n      } else if (typeof google != 'undefined' && google.colab.kernel != null) {\n        google.colab.kernel.comms.registerTarget(comm_id, (comm) => {\n          var messages = comm.messages[Symbol.asyncIterator]();\n          function processIteratorResult(result) {\n            var message = result.value;\n            console.log(message)\n            var content = {data: message.data, comm_id};\n            var buffers = []\n            for (var buffer of message.buffers || []) {\n              buffers.push(new DataView(buffer))\n            }\n            var metadata = message.metadata || {};\n            var msg = {content, buffers, metadata}\n            msg_handler(msg);\n            return messages.next().then(processIteratorResult);\n          }\n          return messages.next().then(processIteratorResult);\n        })\n      }\n    }\n\n    JupyterCommManager.prototype.get_client_comm = function(plot_id, comm_id, msg_handler) {\n      if (comm_id in window.PyViz.comms) {\n        return window.PyViz.comms[comm_id];\n      } else if (window.comm_manager || ((window.Jupyter !== undefined) && (Jupyter.notebook.kernel != null))) {\n        var comm_manager = window.comm_manager || Jupyter.notebook.kernel.comm_manager;\n        var comm = comm_manager.new_comm(comm_id, {}, {}, {}, comm_id);\n        if (msg_handler) {\n          comm.on_msg(msg_handler);\n        }\n      } else if ((plot_id in window.PyViz.kernels) && (window.PyViz.kernels[plot_id])) {\n        var comm = window.PyViz.kernels[plot_id].connectToComm(comm_id);\n        comm.open();\n        if (msg_handler) {\n          comm.onMsg = msg_handler;\n        }\n      } else if (typeof google != 'undefined' && google.colab.kernel != null) {\n        var comm_promise = google.colab.kernel.comms.open(comm_id)\n        comm_promise.then((comm) => {\n          window.PyViz.comms[comm_id] = comm;\n          if (msg_handler) {\n            var messages = comm.messages[Symbol.asyncIterator]();\n            function processIteratorResult(result) {\n              var message = result.value;\n              var content = {data: message.data};\n              var metadata = message.metadata || {comm_id};\n              var msg = {content, metadata}\n              msg_handler(msg);\n              return messages.next().then(processIteratorResult);\n            }\n            return messages.next().then(processIteratorResult);\n          }\n        }) \n        var sendClosure = (data, metadata, buffers, disposeOnDone) => {\n          return comm_promise.then((comm) => {\n            comm.send(data, metadata, buffers, disposeOnDone);\n          });\n        };\n        var comm = {\n          send: sendClosure\n        };\n      }\n      window.PyViz.comms[comm_id] = comm;\n      return comm;\n    }\n    window.PyViz.comm_manager = new JupyterCommManager();\n    \n\n\nvar JS_MIME_TYPE = 'application/javascript';\nvar HTML_MIME_TYPE = 'text/html';\nvar EXEC_MIME_TYPE = 'application/vnd.holoviews_exec.v0+json';\nvar CLASS_NAME = 'output';\n\n/**\n * Render data to the DOM node\n */\nfunction render(props, node) {\n  var div = document.createElement(\"div\");\n  var script = document.createElement(\"script\");\n  node.appendChild(div);\n  node.appendChild(script);\n}\n\n/**\n * Handle when a new output is added\n */\nfunction handle_add_output(event, handle) {\n  var output_area = handle.output_area;\n  var output = handle.output;\n  if ((output.data == undefined) || (!output.data.hasOwnProperty(EXEC_MIME_TYPE))) {\n    return\n  }\n  var id = output.metadata[EXEC_MIME_TYPE][\"id\"];\n  var toinsert = output_area.element.find(\".\" + CLASS_NAME.split(' ')[0]);\n  if (id !== undefined) {\n    var nchildren = toinsert.length;\n    var html_node = toinsert[nchildren-1].children[0];\n    html_node.innerHTML = output.data[HTML_MIME_TYPE];\n    var scripts = [];\n    var nodelist = html_node.querySelectorAll(\"script\");\n    for (var i in nodelist) {\n      if (nodelist.hasOwnProperty(i)) {\n        scripts.push(nodelist[i])\n      }\n    }\n\n    scripts.forEach( function (oldScript) {\n      var newScript = document.createElement(\"script\");\n      var attrs = [];\n      var nodemap = oldScript.attributes;\n      for (var j in nodemap) {\n        if (nodemap.hasOwnProperty(j)) {\n          attrs.push(nodemap[j])\n        }\n      }\n      attrs.forEach(function(attr) { newScript.setAttribute(attr.name, attr.value) });\n      newScript.appendChild(document.createTextNode(oldScript.innerHTML));\n      oldScript.parentNode.replaceChild(newScript, oldScript);\n    });\n    if (JS_MIME_TYPE in output.data) {\n      toinsert[nchildren-1].children[1].textContent = output.data[JS_MIME_TYPE];\n    }\n    output_area._hv_plot_id = id;\n    if ((window.Bokeh !== undefined) && (id in Bokeh.index)) {\n      window.PyViz.plot_index[id] = Bokeh.index[id];\n    } else {\n      window.PyViz.plot_index[id] = null;\n    }\n  } else if (output.metadata[EXEC_MIME_TYPE][\"server_id\"] !== undefined) {\n    var bk_div = document.createElement(\"div\");\n    bk_div.innerHTML = output.data[HTML_MIME_TYPE];\n    var script_attrs = bk_div.children[0].attributes;\n    for (var i = 0; i < script_attrs.length; i++) {\n      toinsert[toinsert.length - 1].childNodes[1].setAttribute(script_attrs[i].name, script_attrs[i].value);\n    }\n    // store reference to server id on output_area\n    output_area._bokeh_server_id = output.metadata[EXEC_MIME_TYPE][\"server_id\"];\n  }\n}\n\n/**\n * Handle when an output is cleared or removed\n */\nfunction handle_clear_output(event, handle) {\n  var id = handle.cell.output_area._hv_plot_id;\n  var server_id = handle.cell.output_area._bokeh_server_id;\n  if (((id === undefined) || !(id in PyViz.plot_index)) && (server_id !== undefined)) { return; }\n  var comm = window.PyViz.comm_manager.get_client_comm(\"hv-extension-comm\", \"hv-extension-comm\", function () {});\n  if (server_id !== null) {\n    comm.send({event_type: 'server_delete', 'id': server_id});\n    return;\n  } else if (comm !== null) {\n    comm.send({event_type: 'delete', 'id': id});\n  }\n  delete PyViz.plot_index[id];\n  if ((window.Bokeh !== undefined) & (id in window.Bokeh.index)) {\n    var doc = window.Bokeh.index[id].model.document\n    doc.clear();\n    const i = window.Bokeh.documents.indexOf(doc);\n    if (i > -1) {\n      window.Bokeh.documents.splice(i, 1);\n    }\n  }\n}\n\n/**\n * Handle kernel restart event\n */\nfunction handle_kernel_cleanup(event, handle) {\n  delete PyViz.comms[\"hv-extension-comm\"];\n  window.PyViz.plot_index = {}\n}\n\n/**\n * Handle update_display_data messages\n */\nfunction handle_update_output(event, handle) {\n  handle_clear_output(event, {cell: {output_area: handle.output_area}})\n  handle_add_output(event, handle)\n}\n\nfunction register_renderer(events, OutputArea) {\n  function append_mime(data, metadata, element) {\n    // create a DOM node to render to\n    var toinsert = this.create_output_subarea(\n    metadata,\n    CLASS_NAME,\n    EXEC_MIME_TYPE\n    );\n    this.keyboard_manager.register_events(toinsert);\n    // Render to node\n    var props = {data: data, metadata: metadata[EXEC_MIME_TYPE]};\n    render(props, toinsert[0]);\n    element.append(toinsert);\n    return toinsert\n  }\n\n  events.on('output_added.OutputArea', handle_add_output);\n  events.on('output_updated.OutputArea', handle_update_output);\n  events.on('clear_output.CodeCell', handle_clear_output);\n  events.on('delete.Cell', handle_clear_output);\n  events.on('kernel_ready.Kernel', handle_kernel_cleanup);\n\n  OutputArea.prototype.register_mime_type(EXEC_MIME_TYPE, append_mime, {\n    safe: true,\n    index: 0\n  });\n}\n\nif (window.Jupyter !== undefined) {\n  try {\n    var events = require('base/js/events');\n    var OutputArea = require('notebook/js/outputarea').OutputArea;\n    if (OutputArea.prototype.mime_types().indexOf(EXEC_MIME_TYPE) == -1) {\n      register_renderer(events, OutputArea);\n    }\n  } catch(err) {\n  }\n}\n",
      "application/vnd.holoviews_load.v0+json": ""
     },
     "metadata": {},
     "output_type": "display_data"
    },
    {
     "data": {
      "application/vnd.holoviews_exec.v0+json": "",
      "text/html": [
       "<div id='d456d3e3-dfaa-4cf6-b3b4-917caad23484'>\n",
       "  <div id=\"f0e60bdb-75f1-4fda-8fdd-00d186c4ee3d\" data-root-id=\"d456d3e3-dfaa-4cf6-b3b4-917caad23484\" style=\"display: contents;\"></div>\n",
       "</div>\n",
       "<script type=\"application/javascript\">(function(root) {\n",
       "  var docs_json = {\"0a70d77e-1296-4e5e-9b52-bd60dee11f23\":{\"version\":\"3.6.2\",\"title\":\"Bokeh Application\",\"roots\":[{\"type\":\"object\",\"name\":\"panel.models.browser.BrowserInfo\",\"id\":\"d456d3e3-dfaa-4cf6-b3b4-917caad23484\"},{\"type\":\"object\",\"name\":\"panel.models.comm_manager.CommManager\",\"id\":\"4f3ea2eb-66aa-40d8-82e5-25a52643bca3\",\"attributes\":{\"plot_id\":\"d456d3e3-dfaa-4cf6-b3b4-917caad23484\",\"comm_id\":\"20921cd88ab44d05a2e564a72d7297bb\",\"client_comm_id\":\"fdadac8fd5c841f19a611881e09f94b5\"}}],\"defs\":[{\"type\":\"model\",\"name\":\"ReactiveHTML1\"},{\"type\":\"model\",\"name\":\"FlexBox1\",\"properties\":[{\"name\":\"align_content\",\"kind\":\"Any\",\"default\":\"flex-start\"},{\"name\":\"align_items\",\"kind\":\"Any\",\"default\":\"flex-start\"},{\"name\":\"flex_direction\",\"kind\":\"Any\",\"default\":\"row\"},{\"name\":\"flex_wrap\",\"kind\":\"Any\",\"default\":\"wrap\"},{\"name\":\"gap\",\"kind\":\"Any\",\"default\":\"\"},{\"name\":\"justify_content\",\"kind\":\"Any\",\"default\":\"flex-start\"}]},{\"type\":\"model\",\"name\":\"FloatPanel1\",\"properties\":[{\"name\":\"config\",\"kind\":\"Any\",\"default\":{\"type\":\"map\"}},{\"name\":\"contained\",\"kind\":\"Any\",\"default\":true},{\"name\":\"position\",\"kind\":\"Any\",\"default\":\"right-top\"},{\"name\":\"offsetx\",\"kind\":\"Any\",\"default\":null},{\"name\":\"offsety\",\"kind\":\"Any\",\"default\":null},{\"name\":\"theme\",\"kind\":\"Any\",\"default\":\"primary\"},{\"name\":\"status\",\"kind\":\"Any\",\"default\":\"normalized\"}]},{\"type\":\"model\",\"name\":\"GridStack1\",\"properties\":[{\"name\":\"mode\",\"kind\":\"Any\",\"default\":\"warn\"},{\"name\":\"ncols\",\"kind\":\"Any\",\"default\":null},{\"name\":\"nrows\",\"kind\":\"Any\",\"default\":null},{\"name\":\"allow_resize\",\"kind\":\"Any\",\"default\":true},{\"name\":\"allow_drag\",\"kind\":\"Any\",\"default\":true},{\"name\":\"state\",\"kind\":\"Any\",\"default\":[]}]},{\"type\":\"model\",\"name\":\"drag1\",\"properties\":[{\"name\":\"slider_width\",\"kind\":\"Any\",\"default\":5},{\"name\":\"slider_color\",\"kind\":\"Any\",\"default\":\"black\"},{\"name\":\"value\",\"kind\":\"Any\",\"default\":50}]},{\"type\":\"model\",\"name\":\"click1\",\"properties\":[{\"name\":\"terminal_output\",\"kind\":\"Any\",\"default\":\"\"},{\"name\":\"debug_name\",\"kind\":\"Any\",\"default\":\"\"},{\"name\":\"clears\",\"kind\":\"Any\",\"default\":0}]},{\"type\":\"model\",\"name\":\"FastWrapper1\",\"properties\":[{\"name\":\"object\",\"kind\":\"Any\",\"default\":null},{\"name\":\"style\",\"kind\":\"Any\",\"default\":null}]},{\"type\":\"model\",\"name\":\"NotificationAreaBase1\",\"properties\":[{\"name\":\"js_events\",\"kind\":\"Any\",\"default\":{\"type\":\"map\"}},{\"name\":\"position\",\"kind\":\"Any\",\"default\":\"bottom-right\"},{\"name\":\"_clear\",\"kind\":\"Any\",\"default\":0}]},{\"type\":\"model\",\"name\":\"NotificationArea1\",\"properties\":[{\"name\":\"js_events\",\"kind\":\"Any\",\"default\":{\"type\":\"map\"}},{\"name\":\"notifications\",\"kind\":\"Any\",\"default\":[]},{\"name\":\"position\",\"kind\":\"Any\",\"default\":\"bottom-right\"},{\"name\":\"_clear\",\"kind\":\"Any\",\"default\":0},{\"name\":\"types\",\"kind\":\"Any\",\"default\":[{\"type\":\"map\",\"entries\":[[\"type\",\"warning\"],[\"background\",\"#ffc107\"],[\"icon\",{\"type\":\"map\",\"entries\":[[\"className\",\"fas fa-exclamation-triangle\"],[\"tagName\",\"i\"],[\"color\",\"white\"]]}]]},{\"type\":\"map\",\"entries\":[[\"type\",\"info\"],[\"background\",\"#007bff\"],[\"icon\",{\"type\":\"map\",\"entries\":[[\"className\",\"fas fa-info-circle\"],[\"tagName\",\"i\"],[\"color\",\"white\"]]}]]}]}]},{\"type\":\"model\",\"name\":\"Notification\",\"properties\":[{\"name\":\"background\",\"kind\":\"Any\",\"default\":null},{\"name\":\"duration\",\"kind\":\"Any\",\"default\":3000},{\"name\":\"icon\",\"kind\":\"Any\",\"default\":null},{\"name\":\"message\",\"kind\":\"Any\",\"default\":\"\"},{\"name\":\"notification_type\",\"kind\":\"Any\",\"default\":null},{\"name\":\"_destroyed\",\"kind\":\"Any\",\"default\":false}]},{\"type\":\"model\",\"name\":\"TemplateActions1\",\"properties\":[{\"name\":\"open_modal\",\"kind\":\"Any\",\"default\":0},{\"name\":\"close_modal\",\"kind\":\"Any\",\"default\":0}]},{\"type\":\"model\",\"name\":\"BootstrapTemplateActions1\",\"properties\":[{\"name\":\"open_modal\",\"kind\":\"Any\",\"default\":0},{\"name\":\"close_modal\",\"kind\":\"Any\",\"default\":0}]},{\"type\":\"model\",\"name\":\"TemplateEditor1\",\"properties\":[{\"name\":\"layout\",\"kind\":\"Any\",\"default\":[]}]},{\"type\":\"model\",\"name\":\"MaterialTemplateActions1\",\"properties\":[{\"name\":\"open_modal\",\"kind\":\"Any\",\"default\":0},{\"name\":\"close_modal\",\"kind\":\"Any\",\"default\":0}]},{\"type\":\"model\",\"name\":\"ReactiveESM1\",\"properties\":[{\"name\":\"esm_constants\",\"kind\":\"Any\",\"default\":{\"type\":\"map\"}}]},{\"type\":\"model\",\"name\":\"JSComponent1\",\"properties\":[{\"name\":\"esm_constants\",\"kind\":\"Any\",\"default\":{\"type\":\"map\"}}]},{\"type\":\"model\",\"name\":\"ReactComponent1\",\"properties\":[{\"name\":\"esm_constants\",\"kind\":\"Any\",\"default\":{\"type\":\"map\"}}]},{\"type\":\"model\",\"name\":\"AnyWidgetComponent1\",\"properties\":[{\"name\":\"esm_constants\",\"kind\":\"Any\",\"default\":{\"type\":\"map\"}}]},{\"type\":\"model\",\"name\":\"request_value1\",\"properties\":[{\"name\":\"fill\",\"kind\":\"Any\",\"default\":\"none\"},{\"name\":\"_synced\",\"kind\":\"Any\",\"default\":null},{\"name\":\"_request_sync\",\"kind\":\"Any\",\"default\":0}]}]}};\n",
       "  var render_items = [{\"docid\":\"0a70d77e-1296-4e5e-9b52-bd60dee11f23\",\"roots\":{\"d456d3e3-dfaa-4cf6-b3b4-917caad23484\":\"f0e60bdb-75f1-4fda-8fdd-00d186c4ee3d\"},\"root_ids\":[\"d456d3e3-dfaa-4cf6-b3b4-917caad23484\"]}];\n",
       "  var docs = Object.values(docs_json)\n",
       "  if (!docs) {\n",
       "    return\n",
       "  }\n",
       "  const py_version = docs[0].version.replace('rc', '-rc.').replace('.dev', '-dev.')\n",
       "  async function embed_document(root) {\n",
       "    var Bokeh = get_bokeh(root)\n",
       "    await Bokeh.embed.embed_items_notebook(docs_json, render_items);\n",
       "    for (const render_item of render_items) {\n",
       "      for (const root_id of render_item.root_ids) {\n",
       "\tconst id_el = document.getElementById(root_id)\n",
       "\tif (id_el.children.length && id_el.children[0].hasAttribute('data-root-id')) {\n",
       "\t  const root_el = id_el.children[0]\n",
       "\t  root_el.id = root_el.id + '-rendered'\n",
       "\t  for (const child of root_el.children) {\n",
       "            // Ensure JupyterLab does not capture keyboard shortcuts\n",
       "            // see: https://jupyterlab.readthedocs.io/en/4.1.x/extension/notebook.html#keyboard-interaction-model\n",
       "\t    child.setAttribute('data-lm-suppress-shortcuts', 'true')\n",
       "\t  }\n",
       "\t}\n",
       "      }\n",
       "    }\n",
       "  }\n",
       "  function get_bokeh(root) {\n",
       "    if (root.Bokeh === undefined) {\n",
       "      return null\n",
       "    } else if (root.Bokeh.version !== py_version) {\n",
       "      if (root.Bokeh.versions === undefined || !root.Bokeh.versions.has(py_version)) {\n",
       "\treturn null\n",
       "      }\n",
       "      return root.Bokeh.versions.get(py_version);\n",
       "    } else if (root.Bokeh.version === py_version) {\n",
       "      return root.Bokeh\n",
       "    }\n",
       "    return null\n",
       "  }\n",
       "  function is_loaded(root) {\n",
       "    var Bokeh = get_bokeh(root)\n",
       "    return (Bokeh != null && Bokeh.Panel !== undefined)\n",
       "  }\n",
       "  if (is_loaded(root)) {\n",
       "    embed_document(root);\n",
       "  } else {\n",
       "    var attempts = 0;\n",
       "    var timer = setInterval(function(root) {\n",
       "      if (is_loaded(root)) {\n",
       "        clearInterval(timer);\n",
       "        embed_document(root);\n",
       "      } else if (document.readyState == \"complete\") {\n",
       "        attempts++;\n",
       "        if (attempts > 200) {\n",
       "          clearInterval(timer);\n",
       "\t  var Bokeh = get_bokeh(root)\n",
       "\t  if (Bokeh == null || Bokeh.Panel == null) {\n",
       "            console.warn(\"Panel: ERROR: Unable to run Panel code because Bokeh or Panel library is missing\");\n",
       "\t  } else {\n",
       "\t    console.warn(\"Panel: WARNING: Attempting to render but not all required libraries could be resolved.\")\n",
       "\t    embed_document(root)\n",
       "\t  }\n",
       "        }\n",
       "      }\n",
       "    }, 25, root)\n",
       "  }\n",
       "})(window);</script>"
      ]
     },
     "metadata": {
      "application/vnd.holoviews_exec.v0+json": {
       "id": "d456d3e3-dfaa-4cf6-b3b4-917caad23484"
      }
     },
     "output_type": "display_data"
    },
    {
     "data": {},
     "metadata": {},
     "output_type": "display_data"
    },
    {
     "data": {
      "application/vnd.holoviews_exec.v0+json": "",
      "text/html": [
       "<div id='9281f1d3-24c3-43a2-869c-e3519f0600b9'>\n",
       "  <div id=\"fe1d3e21-17e2-4032-a0e8-3f5b01b37d69\" data-root-id=\"9281f1d3-24c3-43a2-869c-e3519f0600b9\" style=\"display: contents;\"></div>\n",
       "</div>\n",
       "<script type=\"application/javascript\">(function(root) {\n",
       "  var docs_json = {\"35c8bbab-9b62-4ad9-9515-e294723826c4\":{\"version\":\"3.6.2\",\"title\":\"Bokeh Application\",\"roots\":[{\"type\":\"object\",\"name\":\"Row\",\"id\":\"9281f1d3-24c3-43a2-869c-e3519f0600b9\",\"attributes\":{\"name\":\"Row00279\",\"tags\":[\"embedded\"],\"stylesheets\":[\"\\n:host(.pn-loading):before, .pn-loading:before {\\n  background-color: #c3c3c3;\\n  mask-size: auto calc(min(50%, 400px));\\n  -webkit-mask-size: auto calc(min(50%, 400px));\\n}\",{\"type\":\"object\",\"name\":\"ImportedStyleSheet\",\"id\":\"5da887e9-1430-475d-8a8d-48cbbb5c9ef3\",\"attributes\":{\"url\":\"https://cdn.holoviz.org/panel/1.5.4/dist/css/loading.css\"}},{\"type\":\"object\",\"name\":\"ImportedStyleSheet\",\"id\":\"69a7207f-df34-4178-9e6c-e91d49b565b0\",\"attributes\":{\"url\":\"https://cdn.holoviz.org/panel/1.5.4/dist/css/listpanel.css\"}},{\"type\":\"object\",\"name\":\"ImportedStyleSheet\",\"id\":\"172a8863-8812-411a-93d5-3c7d80e6e028\",\"attributes\":{\"url\":\"https://cdn.holoviz.org/panel/1.5.4/dist/bundled/theme/default.css\"}},{\"type\":\"object\",\"name\":\"ImportedStyleSheet\",\"id\":\"c318c283-b6dd-49b4-81f2-9495b622f314\",\"attributes\":{\"url\":\"https://cdn.holoviz.org/panel/1.5.4/dist/bundled/theme/native.css\"}}],\"min_width\":700,\"margin\":0,\"sizing_mode\":\"stretch_width\",\"align\":\"start\",\"children\":[{\"type\":\"object\",\"name\":\"Spacer\",\"id\":\"34e5c87e-dcdd-464c-9dbd-065a87d4933e\",\"attributes\":{\"name\":\"HSpacer00283\",\"stylesheets\":[\"\\n:host(.pn-loading):before, .pn-loading:before {\\n  background-color: #c3c3c3;\\n  mask-size: auto calc(min(50%, 400px));\\n  -webkit-mask-size: auto calc(min(50%, 400px));\\n}\",{\"id\":\"5da887e9-1430-475d-8a8d-48cbbb5c9ef3\"},{\"id\":\"172a8863-8812-411a-93d5-3c7d80e6e028\"},{\"id\":\"c318c283-b6dd-49b4-81f2-9495b622f314\"}],\"margin\":0,\"sizing_mode\":\"stretch_width\",\"align\":\"start\"}},{\"type\":\"object\",\"name\":\"Figure\",\"id\":\"6d4e19db-15f9-4f82-96cb-b88760e4e518\",\"attributes\":{\"width\":700,\"height\":300,\"margin\":[5,10],\"sizing_mode\":\"fixed\",\"align\":\"start\",\"x_range\":{\"type\":\"object\",\"name\":\"Range1d\",\"id\":\"b44a981f-8d09-4c58-9f81-60a98d8d8a4d\",\"attributes\":{\"name\":\"DIA\",\"tags\":[[[\"DIA\",null]],[]],\"start\":1.0,\"end\":31.0,\"reset_start\":1.0,\"reset_end\":31.0}},\"y_range\":{\"type\":\"object\",\"name\":\"Range1d\",\"id\":\"0c8ef944-3ef4-4f37-b433-b6ac9e8303a2\",\"attributes\":{\"name\":\"D\",\"tags\":[[[\"D\",null]],{\"type\":\"map\",\"entries\":[[\"invert_yaxis\",false],[\"autorange\",false]]}],\"start\":-6.2,\"end\":68.2,\"reset_start\":-6.2,\"reset_end\":68.2}},\"x_scale\":{\"type\":\"object\",\"name\":\"LinearScale\",\"id\":\"971a320a-cb20-49f5-8684-1110322cdc41\"},\"y_scale\":{\"type\":\"object\",\"name\":\"LinearScale\",\"id\":\"72d49b75-219f-404e-965a-7ccec6ea38b6\"},\"title\":{\"type\":\"object\",\"name\":\"Title\",\"id\":\"4daec9af-b3ff-43ec-8939-09202c5b41fc\",\"attributes\":{\"text_color\":\"black\",\"text_font_size\":\"12pt\"}},\"renderers\":[{\"type\":\"object\",\"name\":\"GlyphRenderer\",\"id\":\"71b2d7cb-b429-4f74-8589-7946d0d99d7b\",\"attributes\":{\"data_source\":{\"type\":\"object\",\"name\":\"ColumnDataSource\",\"id\":\"d04f0d0b-f8f5-4b6f-80f9-c4d3ad6b5e61\",\"attributes\":{\"selected\":{\"type\":\"object\",\"name\":\"Selection\",\"id\":\"813343af-2a0d-4bf5-8af2-99393158f417\",\"attributes\":{\"indices\":[],\"line_indices\":[]}},\"selection_policy\":{\"type\":\"object\",\"name\":\"UnionRenderers\",\"id\":\"3368b15b-d397-44e3-8aa3-020e6b7abbca\"},\"data\":{\"type\":\"map\",\"entries\":[[\"DIA\",{\"type\":\"ndarray\",\"array\":{\"type\":\"bytes\",\"data\":\"AQAAAAEAAAABAAAAAQAAAAEAAAABAAAAAQAAAAEAAAABAAAAAQAAAAIAAAACAAAAAgAAAAIAAAACAAAAAgAAAAIAAAACAAAAAgAAAAIAAAADAAAAAwAAAAMAAAADAAAAAwAAAAMAAAADAAAAAwAAAAMAAAADAAAABAAAAAQAAAAEAAAABAAAAAQAAAAEAAAABAAAAAQAAAAEAAAABAAAAAUAAAAFAAAABQAAAAUAAAAFAAAABQAAAAUAAAAFAAAABQAAAAUAAAAGAAAABgAAAAYAAAAGAAAABgAAAAYAAAAGAAAABgAAAAYAAAAGAAAABwAAAAcAAAAHAAAABwAAAAcAAAAHAAAABwAAAAcAAAAHAAAABwAAAAgAAAAIAAAACAAAAAgAAAAIAAAACAAAAAgAAAAIAAAACAAAAAgAAAAJAAAACQAAAAkAAAAJAAAACQAAAAkAAAAJAAAACQAAAAkAAAAJAAAACgAAAAoAAAAKAAAACgAAAAoAAAAKAAAACgAAAAoAAAAKAAAACgAAAAsAAAALAAAACwAAAAsAAAALAAAACwAAAAsAAAALAAAACwAAAAsAAAAMAAAADAAAAAwAAAAMAAAADAAAAAwAAAAMAAAADAAAAAwAAAAMAAAADQAAAA0AAAANAAAADQAAAA0AAAANAAAADQAAAA0AAAANAAAADQAAAA4AAAAOAAAADgAAAA4AAAAOAAAADgAAAA4AAAAOAAAADgAAAA4AAAAPAAAADwAAAA8AAAAPAAAADwAAAA8AAAAPAAAADwAAAA8AAAAPAAAAEAAAABAAAAAQAAAAEAAAABAAAAAQAAAAEAAAABAAAAAQAAAAEAAAABEAAAARAAAAEQAAABEAAAARAAAAEQAAABEAAAARAAAAEQAAABEAAAASAAAAEgAAABIAAAASAAAAEgAAABIAAAASAAAAEgAAABIAAAASAAAAEwAAABMAAAATAAAAEwAAABMAAAATAAAAEwAAABMAAAATAAAAEwAAABQAAAAUAAAAFAAAABQAAAAUAAAAFAAAABQAAAAUAAAAFAAAABQAAAAVAAAAFQAAABUAAAAVAAAAFQAAABUAAAAVAAAAFQAAABUAAAAVAAAAFgAAABYAAAAWAAAAFgAAABYAAAAWAAAAFgAAABYAAAAWAAAAFgAAABcAAAAXAAAAFwAAABcAAAAXAAAAFwAAABcAAAAXAAAAFwAAABcAAAAYAAAAGAAAABgAAAAYAAAAGAAAABgAAAAYAAAAGAAAABgAAAAYAAAAGQAAABkAAAAZAAAAGQAAABkAAAAZAAAAGQAAABkAAAAZAAAAGQAAABoAAAAaAAAAGgAAABoAAAAaAAAAGgAAABoAAAAaAAAAGgAAABoAAAAbAAAAGwAAABsAAAAbAAAAGwAAABsAAAAbAAAAGwAAABsAAAAbAAAAHAAAABwAAAAcAAAAHAAAABwAAAAcAAAAHAAAABwAAAAcAAAAHAAAAB0AAAAdAAAAHQAAAB0AAAAdAAAAHQAAAB0AAAAdAAAAHQAAAB0AAAAeAAAAHgAAAB4AAAAeAAAAHgAAAB4AAAAeAAAAHgAAAB4AAAAeAAAAHwAAAB8AAAAfAAAAHwAAAB8AAAAfAAAAHwAAAB8AAAAfAAAAHwAAAA==\"},\"shape\":[310],\"dtype\":\"int32\",\"order\":\"little\"}],[\"D\",{\"type\":\"ndarray\",\"array\":{\"type\":\"bytes\",\"data\":\"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\"},\"shape\":[310],\"dtype\":\"float64\",\"order\":\"little\"}]]}}},\"view\":{\"type\":\"object\",\"name\":\"CDSView\",\"id\":\"7ee038ca-fb49-4797-9ed1-628381a1d652\",\"attributes\":{\"filter\":{\"type\":\"object\",\"name\":\"AllIndices\",\"id\":\"4822398d-83e7-4116-b6f7-29c29a6a2a4d\"}}},\"glyph\":{\"type\":\"object\",\"name\":\"Line\",\"id\":\"ef8a2fb5-c60c-454a-bf7d-432073dbd4aa\",\"attributes\":{\"tags\":[\"apply_ranges\"],\"x\":{\"type\":\"field\",\"field\":\"DIA\"},\"y\":{\"type\":\"field\",\"field\":\"D\"},\"line_color\":\"#30a2da\",\"line_width\":2}},\"selection_glyph\":{\"type\":\"object\",\"name\":\"Line\",\"id\":\"fae311eb-1b6e-43a7-94f5-1056d866b4f2\",\"attributes\":{\"tags\":[\"apply_ranges\"],\"x\":{\"type\":\"field\",\"field\":\"DIA\"},\"y\":{\"type\":\"field\",\"field\":\"D\"},\"line_color\":\"#30a2da\",\"line_width\":2}},\"nonselection_glyph\":{\"type\":\"object\",\"name\":\"Line\",\"id\":\"e650712b-23bb-40e7-bd7f-9d9f5981c8e9\",\"attributes\":{\"tags\":[\"apply_ranges\"],\"x\":{\"type\":\"field\",\"field\":\"DIA\"},\"y\":{\"type\":\"field\",\"field\":\"D\"},\"line_color\":\"#30a2da\",\"line_alpha\":0.1,\"line_width\":2}},\"muted_glyph\":{\"type\":\"object\",\"name\":\"Line\",\"id\":\"8a63c69f-19c4-49d4-af45-fcc0aae3fe35\",\"attributes\":{\"tags\":[\"apply_ranges\"],\"x\":{\"type\":\"field\",\"field\":\"DIA\"},\"y\":{\"type\":\"field\",\"field\":\"D\"},\"line_color\":\"#30a2da\",\"line_alpha\":0.2,\"line_width\":2}}}}],\"toolbar\":{\"type\":\"object\",\"name\":\"Toolbar\",\"id\":\"dc5e9a88-1b21-413a-a3c7-f4454b4de833\",\"attributes\":{\"tools\":[{\"type\":\"object\",\"name\":\"WheelZoomTool\",\"id\":\"3950676f-8a5c-4a3e-81fd-785bf03d0d49\",\"attributes\":{\"tags\":[\"hv_created\"],\"renderers\":\"auto\",\"zoom_together\":\"none\"}},{\"type\":\"object\",\"name\":\"HoverTool\",\"id\":\"cbd8ca9c-c02d-4e58-982a-6968bf58967d\",\"attributes\":{\"tags\":[\"hv_created\"],\"renderers\":[{\"id\":\"71b2d7cb-b429-4f74-8589-7946d0d99d7b\"}],\"tooltips\":[[\"DIA\",\"@{DIA}\"],[\"D\",\"@{D}\"]]}},{\"type\":\"object\",\"name\":\"SaveTool\",\"id\":\"ac50baca-c2ea-4201-af55-6ff602436340\"},{\"type\":\"object\",\"name\":\"PanTool\",\"id\":\"cec9c41d-2527-4185-a2f4-e085917f8f64\"},{\"type\":\"object\",\"name\":\"BoxZoomTool\",\"id\":\"09a42665-fb96-4a49-8e9f-0442ae392ccd\",\"attributes\":{\"overlay\":{\"type\":\"object\",\"name\":\"BoxAnnotation\",\"id\":\"d0ef9f3c-b34e-480f-87d0-431205200c55\",\"attributes\":{\"syncable\":false,\"line_color\":\"black\",\"line_alpha\":1.0,\"line_width\":2,\"line_dash\":[4,4],\"fill_color\":\"lightgrey\",\"fill_alpha\":0.5,\"level\":\"overlay\",\"visible\":false,\"left\":{\"type\":\"number\",\"value\":\"nan\"},\"right\":{\"type\":\"number\",\"value\":\"nan\"},\"top\":{\"type\":\"number\",\"value\":\"nan\"},\"bottom\":{\"type\":\"number\",\"value\":\"nan\"},\"left_units\":\"canvas\",\"right_units\":\"canvas\",\"top_units\":\"canvas\",\"bottom_units\":\"canvas\",\"handles\":{\"type\":\"object\",\"name\":\"BoxInteractionHandles\",\"id\":\"ecb9a722-0b93-4e23-b30c-52558eaf37ee\",\"attributes\":{\"all\":{\"type\":\"object\",\"name\":\"AreaVisuals\",\"id\":\"b30b82c7-d236-45e1-a272-a24fbd94e919\",\"attributes\":{\"fill_color\":\"white\",\"hover_fill_color\":\"lightgray\"}}}}}}}},{\"type\":\"object\",\"name\":\"ResetTool\",\"id\":\"1dea0d30-7371-4ff8-815b-696d20f64da6\"}],\"active_drag\":{\"id\":\"cec9c41d-2527-4185-a2f4-e085917f8f64\"},\"active_scroll\":{\"id\":\"3950676f-8a5c-4a3e-81fd-785bf03d0d49\"}}},\"left\":[{\"type\":\"object\",\"name\":\"LinearAxis\",\"id\":\"c46c611e-2bac-44c9-9d62-1240d0bb161b\",\"attributes\":{\"ticker\":{\"type\":\"object\",\"name\":\"BasicTicker\",\"id\":\"c8f5bbd6-f302-47eb-85af-fde628789dc1\",\"attributes\":{\"mantissas\":[1,2,5]}},\"formatter\":{\"type\":\"object\",\"name\":\"BasicTickFormatter\",\"id\":\"fdd12d09-a191-4ae4-a003-9e079aca75c5\"},\"axis_label\":\"D\",\"major_label_policy\":{\"type\":\"object\",\"name\":\"AllLabels\",\"id\":\"8323e798-0ddc-4b59-8a09-1e8dc9ee34d8\"}}}],\"below\":[{\"type\":\"object\",\"name\":\"LinearAxis\",\"id\":\"49d9ce32-7e29-40f9-b5e7-ead133812c1f\",\"attributes\":{\"ticker\":{\"type\":\"object\",\"name\":\"BasicTicker\",\"id\":\"740276d7-7a27-445c-a643-ac26a5d5d404\",\"attributes\":{\"mantissas\":[1,2,5]}},\"formatter\":{\"type\":\"object\",\"name\":\"BasicTickFormatter\",\"id\":\"a3183220-cc8b-407b-b350-f0caacd403aa\"},\"axis_label\":\"DIA\",\"major_label_policy\":{\"type\":\"object\",\"name\":\"AllLabels\",\"id\":\"baf1783d-c74e-468f-92a7-906bdfefc32d\"}}}],\"center\":[{\"type\":\"object\",\"name\":\"Grid\",\"id\":\"3e2aecac-a2eb-4d2a-9051-e60de3f1f0d9\",\"attributes\":{\"axis\":{\"id\":\"49d9ce32-7e29-40f9-b5e7-ead133812c1f\"},\"grid_line_color\":null}},{\"type\":\"object\",\"name\":\"Grid\",\"id\":\"fea0f714-a4d2-4614-9d8b-bad161211269\",\"attributes\":{\"dimension\":1,\"axis\":{\"id\":\"c46c611e-2bac-44c9-9d62-1240d0bb161b\"},\"grid_line_color\":null}}],\"min_border_top\":10,\"min_border_bottom\":10,\"min_border_left\":10,\"min_border_right\":10,\"output_backend\":\"webgl\"}},{\"type\":\"object\",\"name\":\"Spacer\",\"id\":\"0a743f1e-c4c4-42fd-8f4e-4b11716ad219\",\"attributes\":{\"name\":\"HSpacer00284\",\"stylesheets\":[\"\\n:host(.pn-loading):before, .pn-loading:before {\\n  background-color: #c3c3c3;\\n  mask-size: auto calc(min(50%, 400px));\\n  -webkit-mask-size: auto calc(min(50%, 400px));\\n}\",{\"id\":\"5da887e9-1430-475d-8a8d-48cbbb5c9ef3\"},{\"id\":\"172a8863-8812-411a-93d5-3c7d80e6e028\"},{\"id\":\"c318c283-b6dd-49b4-81f2-9495b622f314\"}],\"margin\":0,\"sizing_mode\":\"stretch_width\",\"align\":\"start\"}}]}}],\"defs\":[{\"type\":\"model\",\"name\":\"ReactiveHTML1\"},{\"type\":\"model\",\"name\":\"FlexBox1\",\"properties\":[{\"name\":\"align_content\",\"kind\":\"Any\",\"default\":\"flex-start\"},{\"name\":\"align_items\",\"kind\":\"Any\",\"default\":\"flex-start\"},{\"name\":\"flex_direction\",\"kind\":\"Any\",\"default\":\"row\"},{\"name\":\"flex_wrap\",\"kind\":\"Any\",\"default\":\"wrap\"},{\"name\":\"gap\",\"kind\":\"Any\",\"default\":\"\"},{\"name\":\"justify_content\",\"kind\":\"Any\",\"default\":\"flex-start\"}]},{\"type\":\"model\",\"name\":\"FloatPanel1\",\"properties\":[{\"name\":\"config\",\"kind\":\"Any\",\"default\":{\"type\":\"map\"}},{\"name\":\"contained\",\"kind\":\"Any\",\"default\":true},{\"name\":\"position\",\"kind\":\"Any\",\"default\":\"right-top\"},{\"name\":\"offsetx\",\"kind\":\"Any\",\"default\":null},{\"name\":\"offsety\",\"kind\":\"Any\",\"default\":null},{\"name\":\"theme\",\"kind\":\"Any\",\"default\":\"primary\"},{\"name\":\"status\",\"kind\":\"Any\",\"default\":\"normalized\"}]},{\"type\":\"model\",\"name\":\"GridStack1\",\"properties\":[{\"name\":\"mode\",\"kind\":\"Any\",\"default\":\"warn\"},{\"name\":\"ncols\",\"kind\":\"Any\",\"default\":null},{\"name\":\"nrows\",\"kind\":\"Any\",\"default\":null},{\"name\":\"allow_resize\",\"kind\":\"Any\",\"default\":true},{\"name\":\"allow_drag\",\"kind\":\"Any\",\"default\":true},{\"name\":\"state\",\"kind\":\"Any\",\"default\":[]}]},{\"type\":\"model\",\"name\":\"drag1\",\"properties\":[{\"name\":\"slider_width\",\"kind\":\"Any\",\"default\":5},{\"name\":\"slider_color\",\"kind\":\"Any\",\"default\":\"black\"},{\"name\":\"value\",\"kind\":\"Any\",\"default\":50}]},{\"type\":\"model\",\"name\":\"click1\",\"properties\":[{\"name\":\"terminal_output\",\"kind\":\"Any\",\"default\":\"\"},{\"name\":\"debug_name\",\"kind\":\"Any\",\"default\":\"\"},{\"name\":\"clears\",\"kind\":\"Any\",\"default\":0}]},{\"type\":\"model\",\"name\":\"FastWrapper1\",\"properties\":[{\"name\":\"object\",\"kind\":\"Any\",\"default\":null},{\"name\":\"style\",\"kind\":\"Any\",\"default\":null}]},{\"type\":\"model\",\"name\":\"NotificationAreaBase1\",\"properties\":[{\"name\":\"js_events\",\"kind\":\"Any\",\"default\":{\"type\":\"map\"}},{\"name\":\"position\",\"kind\":\"Any\",\"default\":\"bottom-right\"},{\"name\":\"_clear\",\"kind\":\"Any\",\"default\":0}]},{\"type\":\"model\",\"name\":\"NotificationArea1\",\"properties\":[{\"name\":\"js_events\",\"kind\":\"Any\",\"default\":{\"type\":\"map\"}},{\"name\":\"notifications\",\"kind\":\"Any\",\"default\":[]},{\"name\":\"position\",\"kind\":\"Any\",\"default\":\"bottom-right\"},{\"name\":\"_clear\",\"kind\":\"Any\",\"default\":0},{\"name\":\"types\",\"kind\":\"Any\",\"default\":[{\"type\":\"map\",\"entries\":[[\"type\",\"warning\"],[\"background\",\"#ffc107\"],[\"icon\",{\"type\":\"map\",\"entries\":[[\"className\",\"fas fa-exclamation-triangle\"],[\"tagName\",\"i\"],[\"color\",\"white\"]]}]]},{\"type\":\"map\",\"entries\":[[\"type\",\"info\"],[\"background\",\"#007bff\"],[\"icon\",{\"type\":\"map\",\"entries\":[[\"className\",\"fas fa-info-circle\"],[\"tagName\",\"i\"],[\"color\",\"white\"]]}]]}]}]},{\"type\":\"model\",\"name\":\"Notification\",\"properties\":[{\"name\":\"background\",\"kind\":\"Any\",\"default\":null},{\"name\":\"duration\",\"kind\":\"Any\",\"default\":3000},{\"name\":\"icon\",\"kind\":\"Any\",\"default\":null},{\"name\":\"message\",\"kind\":\"Any\",\"default\":\"\"},{\"name\":\"notification_type\",\"kind\":\"Any\",\"default\":null},{\"name\":\"_destroyed\",\"kind\":\"Any\",\"default\":false}]},{\"type\":\"model\",\"name\":\"TemplateActions1\",\"properties\":[{\"name\":\"open_modal\",\"kind\":\"Any\",\"default\":0},{\"name\":\"close_modal\",\"kind\":\"Any\",\"default\":0}]},{\"type\":\"model\",\"name\":\"BootstrapTemplateActions1\",\"properties\":[{\"name\":\"open_modal\",\"kind\":\"Any\",\"default\":0},{\"name\":\"close_modal\",\"kind\":\"Any\",\"default\":0}]},{\"type\":\"model\",\"name\":\"TemplateEditor1\",\"properties\":[{\"name\":\"layout\",\"kind\":\"Any\",\"default\":[]}]},{\"type\":\"model\",\"name\":\"MaterialTemplateActions1\",\"properties\":[{\"name\":\"open_modal\",\"kind\":\"Any\",\"default\":0},{\"name\":\"close_modal\",\"kind\":\"Any\",\"default\":0}]},{\"type\":\"model\",\"name\":\"ReactiveESM1\",\"properties\":[{\"name\":\"esm_constants\",\"kind\":\"Any\",\"default\":{\"type\":\"map\"}}]},{\"type\":\"model\",\"name\":\"JSComponent1\",\"properties\":[{\"name\":\"esm_constants\",\"kind\":\"Any\",\"default\":{\"type\":\"map\"}}]},{\"type\":\"model\",\"name\":\"ReactComponent1\",\"properties\":[{\"name\":\"esm_constants\",\"kind\":\"Any\",\"default\":{\"type\":\"map\"}}]},{\"type\":\"model\",\"name\":\"AnyWidgetComponent1\",\"properties\":[{\"name\":\"esm_constants\",\"kind\":\"Any\",\"default\":{\"type\":\"map\"}}]},{\"type\":\"model\",\"name\":\"request_value1\",\"properties\":[{\"name\":\"fill\",\"kind\":\"Any\",\"default\":\"none\"},{\"name\":\"_synced\",\"kind\":\"Any\",\"default\":null},{\"name\":\"_request_sync\",\"kind\":\"Any\",\"default\":0}]}]}};\n",
       "  var render_items = [{\"docid\":\"35c8bbab-9b62-4ad9-9515-e294723826c4\",\"roots\":{\"9281f1d3-24c3-43a2-869c-e3519f0600b9\":\"fe1d3e21-17e2-4032-a0e8-3f5b01b37d69\"},\"root_ids\":[\"9281f1d3-24c3-43a2-869c-e3519f0600b9\"]}];\n",
       "  var docs = Object.values(docs_json)\n",
       "  if (!docs) {\n",
       "    return\n",
       "  }\n",
       "  const py_version = docs[0].version.replace('rc', '-rc.').replace('.dev', '-dev.')\n",
       "  async function embed_document(root) {\n",
       "    var Bokeh = get_bokeh(root)\n",
       "    await Bokeh.embed.embed_items_notebook(docs_json, render_items);\n",
       "    for (const render_item of render_items) {\n",
       "      for (const root_id of render_item.root_ids) {\n",
       "\tconst id_el = document.getElementById(root_id)\n",
       "\tif (id_el.children.length && id_el.children[0].hasAttribute('data-root-id')) {\n",
       "\t  const root_el = id_el.children[0]\n",
       "\t  root_el.id = root_el.id + '-rendered'\n",
       "\t  for (const child of root_el.children) {\n",
       "            // Ensure JupyterLab does not capture keyboard shortcuts\n",
       "            // see: https://jupyterlab.readthedocs.io/en/4.1.x/extension/notebook.html#keyboard-interaction-model\n",
       "\t    child.setAttribute('data-lm-suppress-shortcuts', 'true')\n",
       "\t  }\n",
       "\t}\n",
       "      }\n",
       "    }\n",
       "  }\n",
       "  function get_bokeh(root) {\n",
       "    if (root.Bokeh === undefined) {\n",
       "      return null\n",
       "    } else if (root.Bokeh.version !== py_version) {\n",
       "      if (root.Bokeh.versions === undefined || !root.Bokeh.versions.has(py_version)) {\n",
       "\treturn null\n",
       "      }\n",
       "      return root.Bokeh.versions.get(py_version);\n",
       "    } else if (root.Bokeh.version === py_version) {\n",
       "      return root.Bokeh\n",
       "    }\n",
       "    return null\n",
       "  }\n",
       "  function is_loaded(root) {\n",
       "    var Bokeh = get_bokeh(root)\n",
       "    return (Bokeh != null && Bokeh.Panel !== undefined)\n",
       "  }\n",
       "  if (is_loaded(root)) {\n",
       "    embed_document(root);\n",
       "  } else {\n",
       "    var attempts = 0;\n",
       "    var timer = setInterval(function(root) {\n",
       "      if (is_loaded(root)) {\n",
       "        clearInterval(timer);\n",
       "        embed_document(root);\n",
       "      } else if (document.readyState == \"complete\") {\n",
       "        attempts++;\n",
       "        if (attempts > 200) {\n",
       "          clearInterval(timer);\n",
       "\t  var Bokeh = get_bokeh(root)\n",
       "\t  if (Bokeh == null || Bokeh.Panel == null) {\n",
       "            console.warn(\"Panel: ERROR: Unable to run Panel code because Bokeh or Panel library is missing\");\n",
       "\t  } else {\n",
       "\t    console.warn(\"Panel: WARNING: Attempting to render but not all required libraries could be resolved.\")\n",
       "\t    embed_document(root)\n",
       "\t  }\n",
       "        }\n",
       "      }\n",
       "    }, 25, root)\n",
       "  }\n",
       "})(window);</script>"
      ],
      "text/plain": [
       ":Curve   [DIA]   (D)"
      ]
     },
     "execution_count": 11,
     "metadata": {
      "application/vnd.holoviews_exec.v0+json": {
       "id": "9281f1d3-24c3-43a2-869c-e3519f0600b9"
      }
     },
     "output_type": "execute_result"
    }
   ],
   "source": [
    "import hvplot.polars\n",
    "\n",
    "dfp5.hvplot.line(x=\"DIA\", y =\"D\")"
   ]
  },
  {
   "cell_type": "code",
   "execution_count": 23,
   "metadata": {},
   "outputs": [
    {
     "data": {},
     "metadata": {},
     "output_type": "display_data"
    },
    {
     "data": {
      "application/vnd.holoviews_exec.v0+json": "",
      "text/html": [
       "<div id='917fd028-8b55-4c80-9543-cc494f4bf7ba'>\n",
       "  <div id=\"b21ee633-471b-4fd2-a4c3-ba6facc468e8\" data-root-id=\"917fd028-8b55-4c80-9543-cc494f4bf7ba\" style=\"display: contents;\"></div>\n",
       "</div>\n",
       "<script type=\"application/javascript\">(function(root) {\n",
       "  var docs_json = {\"0defbca6-4050-4829-a3ff-6a47efa7b846\":{\"version\":\"3.6.2\",\"title\":\"Bokeh Application\",\"roots\":[{\"type\":\"object\",\"name\":\"Row\",\"id\":\"917fd028-8b55-4c80-9543-cc494f4bf7ba\",\"attributes\":{\"name\":\"Row00587\",\"tags\":[\"embedded\"],\"stylesheets\":[\"\\n:host(.pn-loading):before, .pn-loading:before {\\n  background-color: #c3c3c3;\\n  mask-size: auto calc(min(50%, 400px));\\n  -webkit-mask-size: auto calc(min(50%, 400px));\\n}\",{\"type\":\"object\",\"name\":\"ImportedStyleSheet\",\"id\":\"8aa0a876-42d2-48d7-bc09-d83591db6bf1\",\"attributes\":{\"url\":\"https://cdn.holoviz.org/panel/1.5.4/dist/css/loading.css\"}},{\"type\":\"object\",\"name\":\"ImportedStyleSheet\",\"id\":\"d8a835c9-bb37-4f69-9249-667cd4b26851\",\"attributes\":{\"url\":\"https://cdn.holoviz.org/panel/1.5.4/dist/css/listpanel.css\"}},{\"type\":\"object\",\"name\":\"ImportedStyleSheet\",\"id\":\"6602c4b6-7aa5-4ae1-aa29-b4417422c0d7\",\"attributes\":{\"url\":\"https://cdn.holoviz.org/panel/1.5.4/dist/bundled/theme/default.css\"}},{\"type\":\"object\",\"name\":\"ImportedStyleSheet\",\"id\":\"69fceae9-223c-4d9d-8afd-36f645323ad5\",\"attributes\":{\"url\":\"https://cdn.holoviz.org/panel/1.5.4/dist/bundled/theme/native.css\"}}],\"min_width\":700,\"margin\":0,\"sizing_mode\":\"stretch_width\",\"align\":\"start\",\"children\":[{\"type\":\"object\",\"name\":\"Spacer\",\"id\":\"0fa9fece-3b6a-4489-9a0d-7c5601a8e528\",\"attributes\":{\"name\":\"HSpacer00591\",\"stylesheets\":[\"\\n:host(.pn-loading):before, .pn-loading:before {\\n  background-color: #c3c3c3;\\n  mask-size: auto calc(min(50%, 400px));\\n  -webkit-mask-size: auto calc(min(50%, 400px));\\n}\",{\"id\":\"8aa0a876-42d2-48d7-bc09-d83591db6bf1\"},{\"id\":\"6602c4b6-7aa5-4ae1-aa29-b4417422c0d7\"},{\"id\":\"69fceae9-223c-4d9d-8afd-36f645323ad5\"}],\"margin\":0,\"sizing_mode\":\"stretch_width\",\"align\":\"start\"}},{\"type\":\"object\",\"name\":\"Figure\",\"id\":\"06d1eaa8-61c6-4384-ab59-2bdf1f357001\",\"attributes\":{\"width\":700,\"height\":300,\"margin\":[5,10],\"sizing_mode\":\"fixed\",\"align\":\"start\",\"x_range\":{\"type\":\"object\",\"name\":\"Range1d\",\"id\":\"b5e055c8-0042-439a-aaf4-5e97202575f8\",\"attributes\":{\"name\":\"DIA\",\"tags\":[[[\"DIA\",null]],[]],\"start\":1.0,\"end\":31.0,\"reset_start\":1.0,\"reset_end\":31.0}},\"y_range\":{\"type\":\"object\",\"name\":\"Range1d\",\"id\":\"3bc72201-d23c-46b3-b86a-691b175cd2f4\",\"attributes\":{\"name\":\"D\",\"tags\":[[[\"D\",null]],{\"type\":\"map\",\"entries\":[[\"invert_yaxis\",false],[\"autorange\",false]]}],\"start\":7.7,\"end\":59.3,\"reset_start\":7.7,\"reset_end\":59.3}},\"x_scale\":{\"type\":\"object\",\"name\":\"LinearScale\",\"id\":\"1d750a95-e358-4eaa-8878-acb8fb6e9234\"},\"y_scale\":{\"type\":\"object\",\"name\":\"LinearScale\",\"id\":\"7a744c5c-80ee-4662-a039-5fad0c646a95\"},\"title\":{\"type\":\"object\",\"name\":\"Title\",\"id\":\"d9acf4d4-61e2-4b13-9dfe-fb2370a2d558\",\"attributes\":{\"text_color\":\"black\",\"text_font_size\":\"12pt\"}},\"renderers\":[{\"type\":\"object\",\"name\":\"GlyphRenderer\",\"id\":\"25e560c3-0d9f-45cf-bb31-ed75215c0858\",\"attributes\":{\"data_source\":{\"type\":\"object\",\"name\":\"ColumnDataSource\",\"id\":\"0b1e199c-2f7d-4909-9f64-4d6957f86695\",\"attributes\":{\"selected\":{\"type\":\"object\",\"name\":\"Selection\",\"id\":\"bd1fccad-3672-4f7d-a0a1-b95544a488b9\",\"attributes\":{\"indices\":[],\"line_indices\":[]}},\"selection_policy\":{\"type\":\"object\",\"name\":\"UnionRenderers\",\"id\":\"31e7633f-06b6-41e8-8bf5-7cebab3932cf\"},\"data\":{\"type\":\"map\",\"entries\":[[\"DIA\",{\"type\":\"ndarray\",\"array\":{\"type\":\"bytes\",\"data\":\"AQAAAAIAAAADAAAABAAAAAUAAAAGAAAABwAAAAgAAAAJAAAACgAAAAsAAAAMAAAADQAAAA4AAAAPAAAAEAAAABEAAAASAAAAEwAAABQAAAAVAAAAFgAAABcAAAAYAAAAGQAAABoAAAAbAAAAHAAAAB0AAAAeAAAAHwAAAA==\"},\"shape\":[31],\"dtype\":\"int32\",\"order\":\"little\"}],[\"D\",{\"type\":\"ndarray\",\"array\":{\"type\":\"bytes\",\"data\":\"AAAAAACAS0AAAAAAAAA5QAAAAAAAADVAAAAAAAAAQUAAAAAAAAA7QAAAAAAAAChAAAAAAAAAOUAAAAAAAAA2QAAAAAAAADRAAAAAAAAAO0AAAAAAAIBCQAAAAAAAADhAAAAAAAAAP0AAAAAAAIBFQAAAAAAAADdAAAAAAAAANEAAAAAAAAA0QAAAAAAAAD5AAAAAAAAAQkAAAAAAAABAQAAAAAAAgEhAAAAAAAAAO0AAAAAAAAA/QAAAAAAAAEFAAAAAAACAQkAAAAAAAAAyQAAAAAAAAC5AAAAAAAAANUAAAAAAAAA1QAAAAAAAAEBAAAAAAAAAQUA=\"},\"shape\":[31],\"dtype\":\"float64\",\"order\":\"little\"}]]}}},\"view\":{\"type\":\"object\",\"name\":\"CDSView\",\"id\":\"713dd7f8-5531-422b-8375-4268fa194ca0\",\"attributes\":{\"filter\":{\"type\":\"object\",\"name\":\"AllIndices\",\"id\":\"3b7a1250-5bf0-45d4-8814-900b28d52545\"}}},\"glyph\":{\"type\":\"object\",\"name\":\"Line\",\"id\":\"27f302ba-62a9-4586-a2b1-1786ffea4bf3\",\"attributes\":{\"tags\":[\"apply_ranges\"],\"x\":{\"type\":\"field\",\"field\":\"DIA\"},\"y\":{\"type\":\"field\",\"field\":\"D\"},\"line_color\":\"#30a2da\",\"line_width\":2}},\"selection_glyph\":{\"type\":\"object\",\"name\":\"Line\",\"id\":\"0f5cadc6-8752-47e7-b9b3-c94ed40ab4f6\",\"attributes\":{\"tags\":[\"apply_ranges\"],\"x\":{\"type\":\"field\",\"field\":\"DIA\"},\"y\":{\"type\":\"field\",\"field\":\"D\"},\"line_color\":\"#30a2da\",\"line_width\":2}},\"nonselection_glyph\":{\"type\":\"object\",\"name\":\"Line\",\"id\":\"29fe2721-65b8-42fb-829e-dc21fd2771b4\",\"attributes\":{\"tags\":[\"apply_ranges\"],\"x\":{\"type\":\"field\",\"field\":\"DIA\"},\"y\":{\"type\":\"field\",\"field\":\"D\"},\"line_color\":\"#30a2da\",\"line_alpha\":0.1,\"line_width\":2}},\"muted_glyph\":{\"type\":\"object\",\"name\":\"Line\",\"id\":\"0143efd2-7d62-4cc9-af8e-227289263483\",\"attributes\":{\"tags\":[\"apply_ranges\"],\"x\":{\"type\":\"field\",\"field\":\"DIA\"},\"y\":{\"type\":\"field\",\"field\":\"D\"},\"line_color\":\"#30a2da\",\"line_alpha\":0.2,\"line_width\":2}}}}],\"toolbar\":{\"type\":\"object\",\"name\":\"Toolbar\",\"id\":\"0a5ba763-0c4f-413b-ae2d-c26f43c358cd\",\"attributes\":{\"tools\":[{\"type\":\"object\",\"name\":\"WheelZoomTool\",\"id\":\"76f74f53-9c39-48d0-84bf-6e48155dd8da\",\"attributes\":{\"tags\":[\"hv_created\"],\"renderers\":\"auto\",\"zoom_together\":\"none\"}},{\"type\":\"object\",\"name\":\"HoverTool\",\"id\":\"de543a48-bfe4-41e8-89c2-9cf0a723e544\",\"attributes\":{\"tags\":[\"hv_created\"],\"renderers\":[{\"id\":\"25e560c3-0d9f-45cf-bb31-ed75215c0858\"}],\"tooltips\":[[\"DIA\",\"@{DIA}\"],[\"D\",\"@{D}\"]]}},{\"type\":\"object\",\"name\":\"SaveTool\",\"id\":\"a37610e4-f0f3-413c-9b64-327a37d36e06\"},{\"type\":\"object\",\"name\":\"PanTool\",\"id\":\"a06cf337-b780-4a6a-867d-818423955717\"},{\"type\":\"object\",\"name\":\"BoxZoomTool\",\"id\":\"48b9255d-73ec-44a3-9fd3-a650c1a52176\",\"attributes\":{\"overlay\":{\"type\":\"object\",\"name\":\"BoxAnnotation\",\"id\":\"4dfe9895-8039-4983-9b43-872c00254ce5\",\"attributes\":{\"syncable\":false,\"line_color\":\"black\",\"line_alpha\":1.0,\"line_width\":2,\"line_dash\":[4,4],\"fill_color\":\"lightgrey\",\"fill_alpha\":0.5,\"level\":\"overlay\",\"visible\":false,\"left\":{\"type\":\"number\",\"value\":\"nan\"},\"right\":{\"type\":\"number\",\"value\":\"nan\"},\"top\":{\"type\":\"number\",\"value\":\"nan\"},\"bottom\":{\"type\":\"number\",\"value\":\"nan\"},\"left_units\":\"canvas\",\"right_units\":\"canvas\",\"top_units\":\"canvas\",\"bottom_units\":\"canvas\",\"handles\":{\"type\":\"object\",\"name\":\"BoxInteractionHandles\",\"id\":\"f1690e03-07b9-4c05-be2c-2d55025edcd2\",\"attributes\":{\"all\":{\"type\":\"object\",\"name\":\"AreaVisuals\",\"id\":\"a201eed8-4867-44b2-8212-3d27dcac6e41\",\"attributes\":{\"fill_color\":\"white\",\"hover_fill_color\":\"lightgray\"}}}}}}}},{\"type\":\"object\",\"name\":\"ResetTool\",\"id\":\"bae3717f-0a39-4ae8-aca5-13b36183aa0e\"}],\"active_drag\":{\"id\":\"a06cf337-b780-4a6a-867d-818423955717\"},\"active_scroll\":{\"id\":\"76f74f53-9c39-48d0-84bf-6e48155dd8da\"}}},\"left\":[{\"type\":\"object\",\"name\":\"LinearAxis\",\"id\":\"df397446-96b0-4d4f-ac27-90d38e7c7448\",\"attributes\":{\"ticker\":{\"type\":\"object\",\"name\":\"BasicTicker\",\"id\":\"b25ea22d-7d70-494c-9f5c-0fefb494f1b6\",\"attributes\":{\"mantissas\":[1,2,5]}},\"formatter\":{\"type\":\"object\",\"name\":\"BasicTickFormatter\",\"id\":\"4e2dd754-435d-4d82-bc02-c6d9b785915c\"},\"axis_label\":\"D\",\"major_label_policy\":{\"type\":\"object\",\"name\":\"AllLabels\",\"id\":\"58a845b6-6621-4282-851e-6c13d70f9f7a\"}}}],\"below\":[{\"type\":\"object\",\"name\":\"LinearAxis\",\"id\":\"668c0540-f30e-40a1-abe9-d16a281736d6\",\"attributes\":{\"ticker\":{\"type\":\"object\",\"name\":\"BasicTicker\",\"id\":\"c61d03b2-7ba8-4804-8ca7-d8eed9de1d19\",\"attributes\":{\"mantissas\":[1,2,5]}},\"formatter\":{\"type\":\"object\",\"name\":\"BasicTickFormatter\",\"id\":\"5b85f21d-33bd-4c4e-82ad-cf012d91ec71\"},\"axis_label\":\"DIA\",\"major_label_policy\":{\"type\":\"object\",\"name\":\"AllLabels\",\"id\":\"0e362709-07e0-427e-9718-c62d74df0637\"}}}],\"center\":[{\"type\":\"object\",\"name\":\"Grid\",\"id\":\"d1c30002-46f5-49ec-b2df-9043ffbb1a6a\",\"attributes\":{\"axis\":{\"id\":\"668c0540-f30e-40a1-abe9-d16a281736d6\"},\"grid_line_color\":null}},{\"type\":\"object\",\"name\":\"Grid\",\"id\":\"1f876f8b-808d-4901-b699-97918e0f4cb6\",\"attributes\":{\"dimension\":1,\"axis\":{\"id\":\"df397446-96b0-4d4f-ac27-90d38e7c7448\"},\"grid_line_color\":null}}],\"min_border_top\":10,\"min_border_bottom\":10,\"min_border_left\":10,\"min_border_right\":10,\"output_backend\":\"webgl\"}},{\"type\":\"object\",\"name\":\"Spacer\",\"id\":\"031c0447-e90c-4ed9-ba8a-8b752a64fc7a\",\"attributes\":{\"name\":\"HSpacer00592\",\"stylesheets\":[\"\\n:host(.pn-loading):before, .pn-loading:before {\\n  background-color: #c3c3c3;\\n  mask-size: auto calc(min(50%, 400px));\\n  -webkit-mask-size: auto calc(min(50%, 400px));\\n}\",{\"id\":\"8aa0a876-42d2-48d7-bc09-d83591db6bf1\"},{\"id\":\"6602c4b6-7aa5-4ae1-aa29-b4417422c0d7\"},{\"id\":\"69fceae9-223c-4d9d-8afd-36f645323ad5\"}],\"margin\":0,\"sizing_mode\":\"stretch_width\",\"align\":\"start\"}}]}}],\"defs\":[{\"type\":\"model\",\"name\":\"ReactiveHTML1\"},{\"type\":\"model\",\"name\":\"FlexBox1\",\"properties\":[{\"name\":\"align_content\",\"kind\":\"Any\",\"default\":\"flex-start\"},{\"name\":\"align_items\",\"kind\":\"Any\",\"default\":\"flex-start\"},{\"name\":\"flex_direction\",\"kind\":\"Any\",\"default\":\"row\"},{\"name\":\"flex_wrap\",\"kind\":\"Any\",\"default\":\"wrap\"},{\"name\":\"gap\",\"kind\":\"Any\",\"default\":\"\"},{\"name\":\"justify_content\",\"kind\":\"Any\",\"default\":\"flex-start\"}]},{\"type\":\"model\",\"name\":\"FloatPanel1\",\"properties\":[{\"name\":\"config\",\"kind\":\"Any\",\"default\":{\"type\":\"map\"}},{\"name\":\"contained\",\"kind\":\"Any\",\"default\":true},{\"name\":\"position\",\"kind\":\"Any\",\"default\":\"right-top\"},{\"name\":\"offsetx\",\"kind\":\"Any\",\"default\":null},{\"name\":\"offsety\",\"kind\":\"Any\",\"default\":null},{\"name\":\"theme\",\"kind\":\"Any\",\"default\":\"primary\"},{\"name\":\"status\",\"kind\":\"Any\",\"default\":\"normalized\"}]},{\"type\":\"model\",\"name\":\"GridStack1\",\"properties\":[{\"name\":\"mode\",\"kind\":\"Any\",\"default\":\"warn\"},{\"name\":\"ncols\",\"kind\":\"Any\",\"default\":null},{\"name\":\"nrows\",\"kind\":\"Any\",\"default\":null},{\"name\":\"allow_resize\",\"kind\":\"Any\",\"default\":true},{\"name\":\"allow_drag\",\"kind\":\"Any\",\"default\":true},{\"name\":\"state\",\"kind\":\"Any\",\"default\":[]}]},{\"type\":\"model\",\"name\":\"drag1\",\"properties\":[{\"name\":\"slider_width\",\"kind\":\"Any\",\"default\":5},{\"name\":\"slider_color\",\"kind\":\"Any\",\"default\":\"black\"},{\"name\":\"value\",\"kind\":\"Any\",\"default\":50}]},{\"type\":\"model\",\"name\":\"click1\",\"properties\":[{\"name\":\"terminal_output\",\"kind\":\"Any\",\"default\":\"\"},{\"name\":\"debug_name\",\"kind\":\"Any\",\"default\":\"\"},{\"name\":\"clears\",\"kind\":\"Any\",\"default\":0}]},{\"type\":\"model\",\"name\":\"FastWrapper1\",\"properties\":[{\"name\":\"object\",\"kind\":\"Any\",\"default\":null},{\"name\":\"style\",\"kind\":\"Any\",\"default\":null}]},{\"type\":\"model\",\"name\":\"NotificationAreaBase1\",\"properties\":[{\"name\":\"js_events\",\"kind\":\"Any\",\"default\":{\"type\":\"map\"}},{\"name\":\"position\",\"kind\":\"Any\",\"default\":\"bottom-right\"},{\"name\":\"_clear\",\"kind\":\"Any\",\"default\":0}]},{\"type\":\"model\",\"name\":\"NotificationArea1\",\"properties\":[{\"name\":\"js_events\",\"kind\":\"Any\",\"default\":{\"type\":\"map\"}},{\"name\":\"notifications\",\"kind\":\"Any\",\"default\":[]},{\"name\":\"position\",\"kind\":\"Any\",\"default\":\"bottom-right\"},{\"name\":\"_clear\",\"kind\":\"Any\",\"default\":0},{\"name\":\"types\",\"kind\":\"Any\",\"default\":[{\"type\":\"map\",\"entries\":[[\"type\",\"warning\"],[\"background\",\"#ffc107\"],[\"icon\",{\"type\":\"map\",\"entries\":[[\"className\",\"fas fa-exclamation-triangle\"],[\"tagName\",\"i\"],[\"color\",\"white\"]]}]]},{\"type\":\"map\",\"entries\":[[\"type\",\"info\"],[\"background\",\"#007bff\"],[\"icon\",{\"type\":\"map\",\"entries\":[[\"className\",\"fas fa-info-circle\"],[\"tagName\",\"i\"],[\"color\",\"white\"]]}]]}]}]},{\"type\":\"model\",\"name\":\"Notification\",\"properties\":[{\"name\":\"background\",\"kind\":\"Any\",\"default\":null},{\"name\":\"duration\",\"kind\":\"Any\",\"default\":3000},{\"name\":\"icon\",\"kind\":\"Any\",\"default\":null},{\"name\":\"message\",\"kind\":\"Any\",\"default\":\"\"},{\"name\":\"notification_type\",\"kind\":\"Any\",\"default\":null},{\"name\":\"_destroyed\",\"kind\":\"Any\",\"default\":false}]},{\"type\":\"model\",\"name\":\"TemplateActions1\",\"properties\":[{\"name\":\"open_modal\",\"kind\":\"Any\",\"default\":0},{\"name\":\"close_modal\",\"kind\":\"Any\",\"default\":0}]},{\"type\":\"model\",\"name\":\"BootstrapTemplateActions1\",\"properties\":[{\"name\":\"open_modal\",\"kind\":\"Any\",\"default\":0},{\"name\":\"close_modal\",\"kind\":\"Any\",\"default\":0}]},{\"type\":\"model\",\"name\":\"TemplateEditor1\",\"properties\":[{\"name\":\"layout\",\"kind\":\"Any\",\"default\":[]}]},{\"type\":\"model\",\"name\":\"MaterialTemplateActions1\",\"properties\":[{\"name\":\"open_modal\",\"kind\":\"Any\",\"default\":0},{\"name\":\"close_modal\",\"kind\":\"Any\",\"default\":0}]},{\"type\":\"model\",\"name\":\"ReactiveESM1\",\"properties\":[{\"name\":\"esm_constants\",\"kind\":\"Any\",\"default\":{\"type\":\"map\"}}]},{\"type\":\"model\",\"name\":\"JSComponent1\",\"properties\":[{\"name\":\"esm_constants\",\"kind\":\"Any\",\"default\":{\"type\":\"map\"}}]},{\"type\":\"model\",\"name\":\"ReactComponent1\",\"properties\":[{\"name\":\"esm_constants\",\"kind\":\"Any\",\"default\":{\"type\":\"map\"}}]},{\"type\":\"model\",\"name\":\"AnyWidgetComponent1\",\"properties\":[{\"name\":\"esm_constants\",\"kind\":\"Any\",\"default\":{\"type\":\"map\"}}]},{\"type\":\"model\",\"name\":\"request_value1\",\"properties\":[{\"name\":\"fill\",\"kind\":\"Any\",\"default\":\"none\"},{\"name\":\"_synced\",\"kind\":\"Any\",\"default\":null},{\"name\":\"_request_sync\",\"kind\":\"Any\",\"default\":0}]}]}};\n",
       "  var render_items = [{\"docid\":\"0defbca6-4050-4829-a3ff-6a47efa7b846\",\"roots\":{\"917fd028-8b55-4c80-9543-cc494f4bf7ba\":\"b21ee633-471b-4fd2-a4c3-ba6facc468e8\"},\"root_ids\":[\"917fd028-8b55-4c80-9543-cc494f4bf7ba\"]}];\n",
       "  var docs = Object.values(docs_json)\n",
       "  if (!docs) {\n",
       "    return\n",
       "  }\n",
       "  const py_version = docs[0].version.replace('rc', '-rc.').replace('.dev', '-dev.')\n",
       "  async function embed_document(root) {\n",
       "    var Bokeh = get_bokeh(root)\n",
       "    await Bokeh.embed.embed_items_notebook(docs_json, render_items);\n",
       "    for (const render_item of render_items) {\n",
       "      for (const root_id of render_item.root_ids) {\n",
       "\tconst id_el = document.getElementById(root_id)\n",
       "\tif (id_el.children.length && id_el.children[0].hasAttribute('data-root-id')) {\n",
       "\t  const root_el = id_el.children[0]\n",
       "\t  root_el.id = root_el.id + '-rendered'\n",
       "\t  for (const child of root_el.children) {\n",
       "            // Ensure JupyterLab does not capture keyboard shortcuts\n",
       "            // see: https://jupyterlab.readthedocs.io/en/4.1.x/extension/notebook.html#keyboard-interaction-model\n",
       "\t    child.setAttribute('data-lm-suppress-shortcuts', 'true')\n",
       "\t  }\n",
       "\t}\n",
       "      }\n",
       "    }\n",
       "  }\n",
       "  function get_bokeh(root) {\n",
       "    if (root.Bokeh === undefined) {\n",
       "      return null\n",
       "    } else if (root.Bokeh.version !== py_version) {\n",
       "      if (root.Bokeh.versions === undefined || !root.Bokeh.versions.has(py_version)) {\n",
       "\treturn null\n",
       "      }\n",
       "      return root.Bokeh.versions.get(py_version);\n",
       "    } else if (root.Bokeh.version === py_version) {\n",
       "      return root.Bokeh\n",
       "    }\n",
       "    return null\n",
       "  }\n",
       "  function is_loaded(root) {\n",
       "    var Bokeh = get_bokeh(root)\n",
       "    return (Bokeh != null && Bokeh.Panel !== undefined)\n",
       "  }\n",
       "  if (is_loaded(root)) {\n",
       "    embed_document(root);\n",
       "  } else {\n",
       "    var attempts = 0;\n",
       "    var timer = setInterval(function(root) {\n",
       "      if (is_loaded(root)) {\n",
       "        clearInterval(timer);\n",
       "        embed_document(root);\n",
       "      } else if (document.readyState == \"complete\") {\n",
       "        attempts++;\n",
       "        if (attempts > 200) {\n",
       "          clearInterval(timer);\n",
       "\t  var Bokeh = get_bokeh(root)\n",
       "\t  if (Bokeh == null || Bokeh.Panel == null) {\n",
       "            console.warn(\"Panel: ERROR: Unable to run Panel code because Bokeh or Panel library is missing\");\n",
       "\t  } else {\n",
       "\t    console.warn(\"Panel: WARNING: Attempting to render but not all required libraries could be resolved.\")\n",
       "\t    embed_document(root)\n",
       "\t  }\n",
       "        }\n",
       "      }\n",
       "    }, 25, root)\n",
       "  }\n",
       "})(window);</script>"
      ],
      "text/plain": [
       ":Curve   [DIA]   (D)"
      ]
     },
     "execution_count": 23,
     "metadata": {
      "application/vnd.holoviews_exec.v0+json": {
       "id": "917fd028-8b55-4c80-9543-cc494f4bf7ba"
      }
     },
     "output_type": "execute_result"
    }
   ],
   "source": [
    "dfp5.filter((pl.col.D > 0) , (pl.col.MES==10)).hvplot.line(x=\"DIA\", y =\"D\") \n"
   ]
  }
 ],
 "metadata": {
  "kernelspec": {
   "display_name": ".venv",
   "language": "python",
   "name": "python3"
  },
  "language_info": {
   "codemirror_mode": {
    "name": "ipython",
    "version": 3
   },
   "file_extension": ".py",
   "mimetype": "text/x-python",
   "name": "python",
   "nbconvert_exporter": "python",
   "pygments_lexer": "ipython3",
   "version": "3.12.1"
  }
 },
 "nbformat": 4,
 "nbformat_minor": 2
}
