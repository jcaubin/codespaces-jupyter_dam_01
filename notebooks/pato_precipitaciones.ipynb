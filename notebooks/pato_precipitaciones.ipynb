{
 "cells": [
  {
   "cell_type": "markdown",
   "metadata": {},
   "source": [
    "# Precipitaciones\n",
    "## datos de precipitaciones en la red de estaciones de Madrid"
   ]
  },
  {
   "cell_type": "code",
   "execution_count": 164,
   "metadata": {},
   "outputs": [
    {
     "data": {
      "text/html": [
       "    <!-- Google tag (gtag.js) --> \n",
       "    \n",
       "    <script async src=\"https://www.googletagmanager.com/gtag/js?id=G-BCBM9LRTT2\">\n",
       "    </script> \n",
       "    <script> \n",
       "      window.dataLayer = window.dataLayer || []; function gtag(){dataLayer.push(arguments);} gtag('js', new Date()); gtag('config', 'G-BCBM9LRTT2'); \n",
       "      </script>\n"
      ],
      "text/plain": [
       "<IPython.core.display.HTML object>"
      ]
     },
     "metadata": {},
     "output_type": "display_data"
    }
   ],
   "source": [
    "%%html\n",
    "    <!-- Google tag (gtag.js) --> \n",
    "    \n",
    "    <script async src=\"https://www.googletagmanager.com/gtag/js?id=G-BCBM9LRTT2\">\n",
    "    </script> \n",
    "    <script> \n",
    "      window.dataLayer = window.dataLayer || []; function gtag(){dataLayer.push(arguments);} gtag('js', new Date()); gtag('config', 'G-BCBM9LRTT2'); \n",
    "      </script>"
   ]
  },
  {
   "cell_type": "code",
   "execution_count": 147,
   "metadata": {},
   "outputs": [],
   "source": [
    "import duckdb\n",
    "import plotly.express as px"
   ]
  },
  {
   "cell_type": "code",
   "execution_count": 166,
   "metadata": {},
   "outputs": [],
   "source": [
    "%%capture\n",
    "conn = duckdb.connect('/home/jcaubin/duck_test.db') \n",
    "\n",
    "%load_ext sql\n",
    "%sql conn --alias duckdb\n",
    "\n",
    "%config SqlMagic.displaylimit = 5 #conf de jupysql limite de filas a mostrar"
   ]
  },
  {
   "cell_type": "code",
   "execution_count": 167,
   "metadata": {},
   "outputs": [
    {
     "data": {
      "text/html": [
       "<span style=\"None\">Running query in &#x27;duckdb&#x27;</span>"
      ],
      "text/plain": [
       "Running query in 'duckdb'"
      ]
     },
     "metadata": {},
     "output_type": "display_data"
    },
    {
     "data": {
      "text/html": [
       "<table>\n",
       "    <thead>\n",
       "        <tr>\n",
       "            <th>PROVINCIA</th>\n",
       "            <th>MUNICIPIO</th>\n",
       "            <th>ESTACION</th>\n",
       "            <th>MAGNITUD</th>\n",
       "            <th>PUNTO_MUESTREO</th>\n",
       "            <th>ANO</th>\n",
       "            <th>MES</th>\n",
       "            <th>DIA</th>\n",
       "            <th>H</th>\n",
       "            <th>VALOR</th>\n",
       "            <th>VALIDEZ</th>\n",
       "            <th>ESTACION_DESC</th>\n",
       "            <th>ALTITUD</th>\n",
       "            <th>PARAMETRO</th>\n",
       "            <th>FX_DATA</th>\n",
       "            <th>TS</th>\n",
       "        </tr>\n",
       "    </thead>\n",
       "    <tbody>\n",
       "        <tr>\n",
       "            <td>28</td>\n",
       "            <td>079</td>\n",
       "            <td>102</td>\n",
       "            <td>81</td>\n",
       "            <td>28079102_81_98</td>\n",
       "            <td>2025</td>\n",
       "            <td>01</td>\n",
       "            <td>13</td>\n",
       "            <td>1</td>\n",
       "            <td>1.3</td>\n",
       "            <td>V</td>\n",
       "            <td>J.M.D. Moratalaz</td>\n",
       "            <td>686</td>\n",
       "            <td>VELOCIDAD VIENTO</td>\n",
       "            <td>2025-01-13 13:31:19.379000</td>\n",
       "            <td>2025-01-13 01:00:00</td>\n",
       "        </tr>\n",
       "        <tr>\n",
       "            <td>28</td>\n",
       "            <td>079</td>\n",
       "            <td>102</td>\n",
       "            <td>81</td>\n",
       "            <td>28079102_81_98</td>\n",
       "            <td>2025</td>\n",
       "            <td>01</td>\n",
       "            <td>13</td>\n",
       "            <td>2</td>\n",
       "            <td>2.0</td>\n",
       "            <td>V</td>\n",
       "            <td>J.M.D. Moratalaz</td>\n",
       "            <td>686</td>\n",
       "            <td>VELOCIDAD VIENTO</td>\n",
       "            <td>2025-01-13 13:31:19.379000</td>\n",
       "            <td>2025-01-13 02:00:00</td>\n",
       "        </tr>\n",
       "        <tr>\n",
       "            <td>28</td>\n",
       "            <td>079</td>\n",
       "            <td>102</td>\n",
       "            <td>81</td>\n",
       "            <td>28079102_81_98</td>\n",
       "            <td>2025</td>\n",
       "            <td>01</td>\n",
       "            <td>13</td>\n",
       "            <td>3</td>\n",
       "            <td>1.45</td>\n",
       "            <td>V</td>\n",
       "            <td>J.M.D. Moratalaz</td>\n",
       "            <td>686</td>\n",
       "            <td>VELOCIDAD VIENTO</td>\n",
       "            <td>2025-01-13 13:31:19.379000</td>\n",
       "            <td>2025-01-13 03:00:00</td>\n",
       "        </tr>\n",
       "        <tr>\n",
       "            <td>28</td>\n",
       "            <td>079</td>\n",
       "            <td>102</td>\n",
       "            <td>81</td>\n",
       "            <td>28079102_81_98</td>\n",
       "            <td>2025</td>\n",
       "            <td>01</td>\n",
       "            <td>13</td>\n",
       "            <td>4</td>\n",
       "            <td>0.47</td>\n",
       "            <td>V</td>\n",
       "            <td>J.M.D. Moratalaz</td>\n",
       "            <td>686</td>\n",
       "            <td>VELOCIDAD VIENTO</td>\n",
       "            <td>2025-01-13 13:31:19.379000</td>\n",
       "            <td>2025-01-13 04:00:00</td>\n",
       "        </tr>\n",
       "        <tr>\n",
       "            <td>28</td>\n",
       "            <td>079</td>\n",
       "            <td>102</td>\n",
       "            <td>81</td>\n",
       "            <td>28079102_81_98</td>\n",
       "            <td>2025</td>\n",
       "            <td>01</td>\n",
       "            <td>13</td>\n",
       "            <td>6</td>\n",
       "            <td>0.47</td>\n",
       "            <td>V</td>\n",
       "            <td>J.M.D. Moratalaz</td>\n",
       "            <td>686</td>\n",
       "            <td>VELOCIDAD VIENTO</td>\n",
       "            <td>2025-01-13 13:31:19.379000</td>\n",
       "            <td>2025-01-13 06:00:00</td>\n",
       "        </tr>\n",
       "    </tbody>\n",
       "</table>\n",
       "<span style=\"font-style:italic;text-align:center;\">Truncated to <a href=\"https://jupysql.ploomber.io/en/latest/api/configuration.html#displaylimit\">displaylimit</a> of 5.</span>"
      ],
      "text/plain": [
       "+-----------+-----------+----------+----------+----------------+------+-----+-----+---+-------+---------+------------------+---------+------------------+----------------------------+---------------------+\n",
       "| PROVINCIA | MUNICIPIO | ESTACION | MAGNITUD | PUNTO_MUESTREO | ANO  | MES | DIA | H | VALOR | VALIDEZ |  ESTACION_DESC   | ALTITUD |    PARAMETRO     |          FX_DATA           |          TS         |\n",
       "+-----------+-----------+----------+----------+----------------+------+-----+-----+---+-------+---------+------------------+---------+------------------+----------------------------+---------------------+\n",
       "|     28    |    079    |   102    |    81    | 28079102_81_98 | 2025 |  01 |  13 | 1 |  1.3  |    V    | J.M.D. Moratalaz |   686   | VELOCIDAD VIENTO | 2025-01-13 13:31:19.379000 | 2025-01-13 01:00:00 |\n",
       "|     28    |    079    |   102    |    81    | 28079102_81_98 | 2025 |  01 |  13 | 2 |  2.0  |    V    | J.M.D. Moratalaz |   686   | VELOCIDAD VIENTO | 2025-01-13 13:31:19.379000 | 2025-01-13 02:00:00 |\n",
       "|     28    |    079    |   102    |    81    | 28079102_81_98 | 2025 |  01 |  13 | 3 |  1.45 |    V    | J.M.D. Moratalaz |   686   | VELOCIDAD VIENTO | 2025-01-13 13:31:19.379000 | 2025-01-13 03:00:00 |\n",
       "|     28    |    079    |   102    |    81    | 28079102_81_98 | 2025 |  01 |  13 | 4 |  0.47 |    V    | J.M.D. Moratalaz |   686   | VELOCIDAD VIENTO | 2025-01-13 13:31:19.379000 | 2025-01-13 04:00:00 |\n",
       "|     28    |    079    |   102    |    81    | 28079102_81_98 | 2025 |  01 |  13 | 6 |  0.47 |    V    | J.M.D. Moratalaz |   686   | VELOCIDAD VIENTO | 2025-01-13 13:31:19.379000 | 2025-01-13 06:00:00 |\n",
       "+-----------+-----------+----------+----------+----------------+------+-----+-----+---+-------+---------+------------------+---------+------------------+----------------------------+---------------------+\n",
       "Truncated to displaylimit of 5."
      ]
     },
     "execution_count": 167,
     "metadata": {},
     "output_type": "execute_result"
    }
   ],
   "source": [
    "%%sql \n",
    "\n",
    "select *\n",
    "from v_calair\n",
    "limit 5"
   ]
  },
  {
   "cell_type": "code",
   "execution_count": 168,
   "metadata": {
    "vscode": {
     "languageId": "sql"
    }
   },
   "outputs": [
    {
     "data": {
      "text/html": [
       "<span style=\"None\">Running query in &#x27;duckdb&#x27;</span>"
      ],
      "text/plain": [
       "Running query in 'duckdb'"
      ]
     },
     "metadata": {},
     "output_type": "display_data"
    }
   ],
   "source": [
    "%%sql --save precip_total_estacion\n",
    "\n",
    "pte2<<\n",
    "select ano, mes, dia, make_date(ano, cast(mes as int), dia) fecha , estacion,estacion_desc, sum(valor) total\n",
    "from v_CALAIR \n",
    "where magnitud = 89 --precipitacion \n",
    "and validez = 'V'\n",
    "--and estacion_desc in ['Casa de Campo'] --, 'Juan Carlos I', 'El Pardo','Peñagrande', 'Plaza Elíptica']\n",
    "and date_diff ('day',TS, current_date()) < (30)\n",
    "group by all\n",
    "order by all\n"
   ]
  },
  {
   "cell_type": "code",
   "execution_count": 151,
   "metadata": {},
   "outputs": [
    {
     "data": {
      "text/html": [
       "<span style=\"None\">Generating CTE with stored snippets: &#x27;precip_total_estacion&#x27;</span>"
      ],
      "text/plain": [
       "Generating CTE with stored snippets: 'precip_total_estacion'"
      ]
     },
     "metadata": {},
     "output_type": "display_data"
    },
    {
     "data": {
      "text/html": [
       "<span style=\"None\">Running query in &#x27;duckdb&#x27;</span>"
      ],
      "text/plain": [
       "Running query in 'duckdb'"
      ]
     },
     "metadata": {},
     "output_type": "display_data"
    },
    {
     "data": {
      "text/html": [
       "<table>\n",
       "    <thead>\n",
       "        <tr>\n",
       "            <th>ANO</th>\n",
       "            <th>MES</th>\n",
       "            <th>DIA</th>\n",
       "            <th>precip_media</th>\n",
       "            <th>precip_max</th>\n",
       "            <th>precip_min</th>\n",
       "            <th>precipt_mediana</th>\n",
       "            <th>desviacion</th>\n",
       "            <th>n</th>\n",
       "        </tr>\n",
       "    </thead>\n",
       "    <tbody>\n",
       "        <tr>\n",
       "            <td>2025</td>\n",
       "            <td>02</td>\n",
       "            <td>6</td>\n",
       "            <td>0.0</td>\n",
       "            <td>0.0</td>\n",
       "            <td>0.0</td>\n",
       "            <td>0.0</td>\n",
       "            <td>0.0</td>\n",
       "            <td>5</td>\n",
       "        </tr>\n",
       "        <tr>\n",
       "            <td>2025</td>\n",
       "            <td>02</td>\n",
       "            <td>7</td>\n",
       "            <td>4.404999999999999</td>\n",
       "            <td>6.65</td>\n",
       "            <td>1.8000000000000003</td>\n",
       "            <td>4.45</td>\n",
       "            <td>1.7018698866573527</td>\n",
       "            <td>10</td>\n",
       "        </tr>\n",
       "        <tr>\n",
       "            <td>2025</td>\n",
       "            <td>02</td>\n",
       "            <td>8</td>\n",
       "            <td>0.018</td>\n",
       "            <td>0.1</td>\n",
       "            <td>0.0</td>\n",
       "            <td>0.0</td>\n",
       "            <td>0.03359894178227774</td>\n",
       "            <td>10</td>\n",
       "        </tr>\n",
       "        <tr>\n",
       "            <td>2025</td>\n",
       "            <td>02</td>\n",
       "            <td>9</td>\n",
       "            <td>0.0</td>\n",
       "            <td>0.0</td>\n",
       "            <td>0.0</td>\n",
       "            <td>0.0</td>\n",
       "            <td>0.0</td>\n",
       "            <td>10</td>\n",
       "        </tr>\n",
       "        <tr>\n",
       "            <td>2025</td>\n",
       "            <td>02</td>\n",
       "            <td>10</td>\n",
       "            <td>0.0</td>\n",
       "            <td>0.0</td>\n",
       "            <td>0.0</td>\n",
       "            <td>0.0</td>\n",
       "            <td>0.0</td>\n",
       "            <td>10</td>\n",
       "        </tr>\n",
       "    </tbody>\n",
       "</table>\n",
       "<span style=\"font-style:italic;text-align:center;\">Truncated to <a href=\"https://jupysql.ploomber.io/en/latest/api/configuration.html#displaylimit\">displaylimit</a> of 5.</span>"
      ],
      "text/plain": [
       "+------+-----+-----+-------------------+------------+--------------------+-----------------+---------------------+----+\n",
       "| ANO  | MES | DIA |    precip_media   | precip_max |     precip_min     | precipt_mediana |      desviacion     | n  |\n",
       "+------+-----+-----+-------------------+------------+--------------------+-----------------+---------------------+----+\n",
       "| 2025 |  02 |  6  |        0.0        |    0.0     |        0.0         |       0.0       |         0.0         | 5  |\n",
       "| 2025 |  02 |  7  | 4.404999999999999 |    6.65    | 1.8000000000000003 |       4.45      |  1.7018698866573527 | 10 |\n",
       "| 2025 |  02 |  8  |       0.018       |    0.1     |        0.0         |       0.0       | 0.03359894178227774 | 10 |\n",
       "| 2025 |  02 |  9  |        0.0        |    0.0     |        0.0         |       0.0       |         0.0         | 10 |\n",
       "| 2025 |  02 |  10 |        0.0        |    0.0     |        0.0         |       0.0       |         0.0         | 10 |\n",
       "+------+-----+-----+-------------------+------------+--------------------+-----------------+---------------------+----+\n",
       "Truncated to displaylimit of 5."
      ]
     },
     "execution_count": 151,
     "metadata": {},
     "output_type": "execute_result"
    }
   ],
   "source": [
    "%%sql \n",
    "\n",
    "select ano, mes, dia, avg(total) precip_media, max(total) precip_max, min(total) precip_min, median(total) precipt_mediana, stddev(total) desviacion, count(total) n\n",
    "from precip_total_estacion\n",
    "group by all\n",
    "order by all"
   ]
  },
  {
   "cell_type": "code",
   "execution_count": 152,
   "metadata": {},
   "outputs": [
    {
     "data": {
      "text/html": [
       "<span style=\"None\">Generating CTE with stored snippets: &#x27;precip_total_estacion&#x27;</span>"
      ],
      "text/plain": [
       "Generating CTE with stored snippets: 'precip_total_estacion'"
      ]
     },
     "metadata": {},
     "output_type": "display_data"
    },
    {
     "data": {
      "text/html": [
       "<span style=\"None\">Running query in &#x27;duckdb&#x27;</span>"
      ],
      "text/plain": [
       "Running query in 'duckdb'"
      ]
     },
     "metadata": {},
     "output_type": "display_data"
    },
    {
     "data": {
      "text/html": [
       "<table>\n",
       "    <thead>\n",
       "        <tr>\n",
       "            <th>ANO</th>\n",
       "            <th>MES</th>\n",
       "            <th>DIA</th>\n",
       "            <th>fecha</th>\n",
       "            <th>ESTACION</th>\n",
       "            <th>ESTACION_DESC</th>\n",
       "            <th>total</th>\n",
       "            <th>r</th>\n",
       "            <th>c</th>\n",
       "        </tr>\n",
       "    </thead>\n",
       "    <tbody>\n",
       "        <tr>\n",
       "            <td>2025</td>\n",
       "            <td>02</td>\n",
       "            <td>6</td>\n",
       "            <td>2025-02-06</td>\n",
       "            <td>24</td>\n",
       "            <td>Casa de Campo</td>\n",
       "            <td>0.0</td>\n",
       "            <td>1</td>\n",
       "            <td>5</td>\n",
       "        </tr>\n",
       "        <tr>\n",
       "            <td>2025</td>\n",
       "            <td>02</td>\n",
       "            <td>6</td>\n",
       "            <td>2025-02-06</td>\n",
       "            <td>39</td>\n",
       "            <td>Barrio del Pilar</td>\n",
       "            <td>0.0</td>\n",
       "            <td>2</td>\n",
       "            <td>5</td>\n",
       "        </tr>\n",
       "        <tr>\n",
       "            <td>2025</td>\n",
       "            <td>02</td>\n",
       "            <td>6</td>\n",
       "            <td>2025-02-06</td>\n",
       "            <td>54</td>\n",
       "            <td>Ensanche de Vallecas</td>\n",
       "            <td>0.0</td>\n",
       "            <td>3</td>\n",
       "            <td>5</td>\n",
       "        </tr>\n",
       "        <tr>\n",
       "            <td>2025</td>\n",
       "            <td>02</td>\n",
       "            <td>6</td>\n",
       "            <td>2025-02-06</td>\n",
       "            <td>56</td>\n",
       "            <td>Plaza Elíptica</td>\n",
       "            <td>0.0</td>\n",
       "            <td>4</td>\n",
       "            <td>5</td>\n",
       "        </tr>\n",
       "        <tr>\n",
       "            <td>2025</td>\n",
       "            <td>02</td>\n",
       "            <td>6</td>\n",
       "            <td>2025-02-06</td>\n",
       "            <td>59</td>\n",
       "            <td>Juan Carlos I</td>\n",
       "            <td>0.0</td>\n",
       "            <td>5</td>\n",
       "            <td>5</td>\n",
       "        </tr>\n",
       "    </tbody>\n",
       "</table>\n",
       "<span style=\"font-style:italic;text-align:center;\">Truncated to <a href=\"https://jupysql.ploomber.io/en/latest/api/configuration.html#displaylimit\">displaylimit</a> of 5.</span>"
      ],
      "text/plain": [
       "+------+-----+-----+------------+----------+----------------------+-------+---+---+\n",
       "| ANO  | MES | DIA |   fecha    | ESTACION |    ESTACION_DESC     | total | r | c |\n",
       "+------+-----+-----+------------+----------+----------------------+-------+---+---+\n",
       "| 2025 |  02 |  6  | 2025-02-06 |    24    |    Casa de Campo     |  0.0  | 1 | 5 |\n",
       "| 2025 |  02 |  6  | 2025-02-06 |    39    |   Barrio del Pilar   |  0.0  | 2 | 5 |\n",
       "| 2025 |  02 |  6  | 2025-02-06 |    54    | Ensanche de Vallecas |  0.0  | 3 | 5 |\n",
       "| 2025 |  02 |  6  | 2025-02-06 |    56    |    Plaza Elíptica    |  0.0  | 4 | 5 |\n",
       "| 2025 |  02 |  6  | 2025-02-06 |    59    |    Juan Carlos I     |  0.0  | 5 | 5 |\n",
       "+------+-----+-----+------------+----------+----------------------+-------+---+---+\n",
       "Truncated to displaylimit of 5."
      ]
     },
     "execution_count": 152,
     "metadata": {},
     "output_type": "execute_result"
    }
   ],
   "source": [
    "%%sql --save precip_total_estacion2\n",
    "\n",
    "select * , row_number() over (PARTITION BY ano, mes, dia ORDER BY total, estacion) r, count() over (PARTITION BY ano, mes, dia ) c\n",
    "from precip_total_estacion\n",
    "order by ano, mes, dia, total, estacion"
   ]
  },
  {
   "cell_type": "code",
   "execution_count": 153,
   "metadata": {},
   "outputs": [
    {
     "data": {
      "text/html": [
       "<span style=\"None\">Generating CTE with stored snippets: &#x27;precip_total_estacion2&#x27;</span>"
      ],
      "text/plain": [
       "Generating CTE with stored snippets: 'precip_total_estacion2'"
      ]
     },
     "metadata": {},
     "output_type": "display_data"
    },
    {
     "data": {
      "text/html": [
       "<span style=\"None\">Running query in &#x27;duckdb&#x27;</span>"
      ],
      "text/plain": [
       "Running query in 'duckdb'"
      ]
     },
     "metadata": {},
     "output_type": "display_data"
    },
    {
     "data": {
      "text/html": [
       "<table>\n",
       "    <thead>\n",
       "        <tr>\n",
       "            <th>ANO</th>\n",
       "            <th>MES</th>\n",
       "            <th>DIA</th>\n",
       "            <th>precip_media</th>\n",
       "            <th>precip_max</th>\n",
       "            <th>precip_min</th>\n",
       "            <th>precipt_mediana</th>\n",
       "            <th>desviacion</th>\n",
       "            <th>n</th>\n",
       "        </tr>\n",
       "    </thead>\n",
       "    <tbody>\n",
       "        <tr>\n",
       "            <td>2025</td>\n",
       "            <td>02</td>\n",
       "            <td>6</td>\n",
       "            <td>0.0</td>\n",
       "            <td>0.0</td>\n",
       "            <td>0.0</td>\n",
       "            <td>0.0</td>\n",
       "            <td>0.0</td>\n",
       "            <td>3</td>\n",
       "        </tr>\n",
       "        <tr>\n",
       "            <td>2025</td>\n",
       "            <td>02</td>\n",
       "            <td>7</td>\n",
       "            <td>4.449999999999999</td>\n",
       "            <td>6.3</td>\n",
       "            <td>2.75</td>\n",
       "            <td>4.45</td>\n",
       "            <td>1.4255324819669517</td>\n",
       "            <td>8</td>\n",
       "        </tr>\n",
       "        <tr>\n",
       "            <td>2025</td>\n",
       "            <td>02</td>\n",
       "            <td>8</td>\n",
       "            <td>0.01</td>\n",
       "            <td>0.05</td>\n",
       "            <td>0.0</td>\n",
       "            <td>0.0</td>\n",
       "            <td>0.019272482233188632</td>\n",
       "            <td>8</td>\n",
       "        </tr>\n",
       "        <tr>\n",
       "            <td>2025</td>\n",
       "            <td>02</td>\n",
       "            <td>9</td>\n",
       "            <td>0.0</td>\n",
       "            <td>0.0</td>\n",
       "            <td>0.0</td>\n",
       "            <td>0.0</td>\n",
       "            <td>0.0</td>\n",
       "            <td>8</td>\n",
       "        </tr>\n",
       "        <tr>\n",
       "            <td>2025</td>\n",
       "            <td>02</td>\n",
       "            <td>10</td>\n",
       "            <td>0.0</td>\n",
       "            <td>0.0</td>\n",
       "            <td>0.0</td>\n",
       "            <td>0.0</td>\n",
       "            <td>0.0</td>\n",
       "            <td>8</td>\n",
       "        </tr>\n",
       "    </tbody>\n",
       "</table>\n",
       "<span style=\"font-style:italic;text-align:center;\">Truncated to <a href=\"https://jupysql.ploomber.io/en/latest/api/configuration.html#displaylimit\">displaylimit</a> of 5.</span>"
      ],
      "text/plain": [
       "+------+-----+-----+-------------------+------------+------------+-----------------+----------------------+---+\n",
       "| ANO  | MES | DIA |    precip_media   | precip_max | precip_min | precipt_mediana |      desviacion      | n |\n",
       "+------+-----+-----+-------------------+------------+------------+-----------------+----------------------+---+\n",
       "| 2025 |  02 |  6  |        0.0        |    0.0     |    0.0     |       0.0       |         0.0          | 3 |\n",
       "| 2025 |  02 |  7  | 4.449999999999999 |    6.3     |    2.75    |       4.45      |  1.4255324819669517  | 8 |\n",
       "| 2025 |  02 |  8  |        0.01       |    0.05    |    0.0     |       0.0       | 0.019272482233188632 | 8 |\n",
       "| 2025 |  02 |  9  |        0.0        |    0.0     |    0.0     |       0.0       |         0.0          | 8 |\n",
       "| 2025 |  02 |  10 |        0.0        |    0.0     |    0.0     |       0.0       |         0.0          | 8 |\n",
       "+------+-----+-----+-------------------+------------+------------+-----------------+----------------------+---+\n",
       "Truncated to displaylimit of 5."
      ]
     },
     "execution_count": 153,
     "metadata": {},
     "output_type": "execute_result"
    }
   ],
   "source": [
    "%%sql \n",
    "\n",
    "select ano, mes, dia, avg(total) precip_media, max(total) precip_max, min(total) precip_min, median(total) precipt_mediana, stddev(total) desviacion, count(total) n\n",
    "from precip_total_estacion2\n",
    "where r > 1 and r < c\n",
    "group by all\n",
    "order by all"
   ]
  },
  {
   "cell_type": "code",
   "execution_count": 154,
   "metadata": {
    "vscode": {
     "languageId": "sql"
    }
   },
   "outputs": [
    {
     "data": {
      "text/html": [
       "<span style=\"None\">Generating CTE with stored snippets: &#x27;precip_total_estacion&#x27;</span>"
      ],
      "text/plain": [
       "Generating CTE with stored snippets: 'precip_total_estacion'"
      ]
     },
     "metadata": {},
     "output_type": "display_data"
    },
    {
     "data": {
      "text/html": [
       "<span style=\"None\">Running query in &#x27;duckdb&#x27;</span>"
      ],
      "text/plain": [
       "Running query in 'duckdb'"
      ]
     },
     "metadata": {},
     "output_type": "display_data"
    },
    {
     "data": {
      "text/html": [
       "<table>\n",
       "    <thead>\n",
       "        <tr>\n",
       "            <th>ANO</th>\n",
       "            <th>MES</th>\n",
       "            <th>DIA</th>\n",
       "            <th>precip_media</th>\n",
       "            <th>r</th>\n",
       "        </tr>\n",
       "    </thead>\n",
       "    <tbody>\n",
       "        <tr>\n",
       "            <td>2025</td>\n",
       "            <td>02</td>\n",
       "            <td>6</td>\n",
       "            <td>0.0</td>\n",
       "            <td>4</td>\n",
       "        </tr>\n",
       "        <tr>\n",
       "            <td>2025</td>\n",
       "            <td>02</td>\n",
       "            <td>6</td>\n",
       "            <td>0.0</td>\n",
       "            <td>5</td>\n",
       "        </tr>\n",
       "        <tr>\n",
       "            <td>2025</td>\n",
       "            <td>02</td>\n",
       "            <td>7</td>\n",
       "            <td>4.404999999999999</td>\n",
       "            <td>4</td>\n",
       "        </tr>\n",
       "        <tr>\n",
       "            <td>2025</td>\n",
       "            <td>02</td>\n",
       "            <td>7</td>\n",
       "            <td>4.404999999999999</td>\n",
       "            <td>5</td>\n",
       "        </tr>\n",
       "        <tr>\n",
       "            <td>2025</td>\n",
       "            <td>02</td>\n",
       "            <td>7</td>\n",
       "            <td>4.404999999999999</td>\n",
       "            <td>6</td>\n",
       "        </tr>\n",
       "    </tbody>\n",
       "</table>\n",
       "<span style=\"font-style:italic;text-align:center;\">Truncated to <a href=\"https://jupysql.ploomber.io/en/latest/api/configuration.html#displaylimit\">displaylimit</a> of 5.</span>"
      ],
      "text/plain": [
       "+------+-----+-----+-------------------+---+\n",
       "| ANO  | MES | DIA |    precip_media   | r |\n",
       "+------+-----+-----+-------------------+---+\n",
       "| 2025 |  02 |  6  |        0.0        | 4 |\n",
       "| 2025 |  02 |  6  |        0.0        | 5 |\n",
       "| 2025 |  02 |  7  | 4.404999999999999 | 4 |\n",
       "| 2025 |  02 |  7  | 4.404999999999999 | 5 |\n",
       "| 2025 |  02 |  7  | 4.404999999999999 | 6 |\n",
       "+------+-----+-----+-------------------+---+\n",
       "Truncated to displaylimit of 5."
      ]
     },
     "execution_count": 154,
     "metadata": {},
     "output_type": "execute_result"
    }
   ],
   "source": [
    "%%sql --save cuali\n",
    "\n",
    "SELECT \n",
    "    ano, mes, dia, avg(total) over (PARTITION BY ano, mes, dia) precip_media, row_number() over (PARTITION BY ano, mes, dia ORDER BY total) r\n",
    "FROM precip_total_estacion\n",
    "QUALIFY \n",
    "   row_number() over (PARTITION BY ano, mes, dia ORDER BY total) >3 \n",
    "   AND row_number() over (PARTITION BY ano, mes, dia ORDER BY total) < 7\n",
    "order by ano, mes, dia, r\n",
    "--GROUP BY ano, mes, dia;"
   ]
  },
  {
   "cell_type": "code",
   "execution_count": 155,
   "metadata": {
    "vscode": {
     "languageId": "sql"
    }
   },
   "outputs": [
    {
     "data": {
      "text/html": [
       "<span style=\"None\">Generating CTE with stored snippets: &#x27;cuali&#x27;</span>"
      ],
      "text/plain": [
       "Generating CTE with stored snippets: 'cuali'"
      ]
     },
     "metadata": {},
     "output_type": "display_data"
    },
    {
     "data": {
      "text/html": [
       "<span style=\"None\">Running query in &#x27;duckdb&#x27;</span>"
      ],
      "text/plain": [
       "Running query in 'duckdb'"
      ]
     },
     "metadata": {},
     "output_type": "display_data"
    },
    {
     "data": {
      "text/html": [
       "<table>\n",
       "    <thead>\n",
       "        <tr>\n",
       "            <th>ANO</th>\n",
       "            <th>MES</th>\n",
       "            <th>DIA</th>\n",
       "            <th>precip_media</th>\n",
       "        </tr>\n",
       "    </thead>\n",
       "    <tbody>\n",
       "        <tr>\n",
       "            <td>2025</td>\n",
       "            <td>02</td>\n",
       "            <td>6</td>\n",
       "            <td>0.0</td>\n",
       "        </tr>\n",
       "        <tr>\n",
       "            <td>2025</td>\n",
       "            <td>02</td>\n",
       "            <td>7</td>\n",
       "            <td>4.404999999999999</td>\n",
       "        </tr>\n",
       "        <tr>\n",
       "            <td>2025</td>\n",
       "            <td>02</td>\n",
       "            <td>8</td>\n",
       "            <td>0.018</td>\n",
       "        </tr>\n",
       "        <tr>\n",
       "            <td>2025</td>\n",
       "            <td>02</td>\n",
       "            <td>9</td>\n",
       "            <td>0.0</td>\n",
       "        </tr>\n",
       "        <tr>\n",
       "            <td>2025</td>\n",
       "            <td>02</td>\n",
       "            <td>10</td>\n",
       "            <td>0.0</td>\n",
       "        </tr>\n",
       "    </tbody>\n",
       "</table>\n",
       "<span style=\"font-style:italic;text-align:center;\">Truncated to <a href=\"https://jupysql.ploomber.io/en/latest/api/configuration.html#displaylimit\">displaylimit</a> of 5.</span>"
      ],
      "text/plain": [
       "+------+-----+-----+-------------------+\n",
       "| ANO  | MES | DIA |    precip_media   |\n",
       "+------+-----+-----+-------------------+\n",
       "| 2025 |  02 |  6  |        0.0        |\n",
       "| 2025 |  02 |  7  | 4.404999999999999 |\n",
       "| 2025 |  02 |  8  |       0.018       |\n",
       "| 2025 |  02 |  9  |        0.0        |\n",
       "| 2025 |  02 |  10 |        0.0        |\n",
       "+------+-----+-----+-------------------+\n",
       "Truncated to displaylimit of 5."
      ]
     },
     "execution_count": 155,
     "metadata": {},
     "output_type": "execute_result"
    }
   ],
   "source": [
    "%%sql\n",
    "\n",
    "select distinct ano, mes, dia, precip_media\n",
    "from cuali\n",
    "order by ano, mes, dia"
   ]
  },
  {
   "cell_type": "code",
   "execution_count": 156,
   "metadata": {
    "vscode": {
     "languageId": "sql"
    }
   },
   "outputs": [
    {
     "data": {
      "text/html": [
       "<span style=\"None\">Generating CTE with stored snippets: &#x27;precip_total_estacion&#x27;</span>"
      ],
      "text/plain": [
       "Generating CTE with stored snippets: 'precip_total_estacion'"
      ]
     },
     "metadata": {},
     "output_type": "display_data"
    },
    {
     "data": {
      "text/html": [
       "<span style=\"None\">Running query in &#x27;duckdb&#x27;</span>"
      ],
      "text/plain": [
       "Running query in 'duckdb'"
      ]
     },
     "metadata": {},
     "output_type": "display_data"
    }
   ],
   "source": [
    "%%sql \n",
    "pm<<\n",
    "select  fecha \n",
    ",avg(total) precip_media, max(total) precip_max, min(total) precip_min, median(total) precipt_mediana\n",
    ", stddev(total) desviacion, count(total) n\n",
    "from precip_total_estacion\n",
    "group by all\n",
    "order by all\n"
   ]
  },
  {
   "cell_type": "code",
   "execution_count": 157,
   "metadata": {},
   "outputs": [
    {
     "data": {
      "application/vnd.plotly.v1+json": {
       "config": {
        "plotlyServerURL": "https://plot.ly"
       },
       "data": [
        {
         "alignmentgroup": "True",
         "hovertemplate": "fecha=%{x}<br>precip_media=%{y}<extra></extra>",
         "legendgroup": "",
         "marker": {
          "color": "#636efa",
          "pattern": {
           "shape": ""
          }
         },
         "name": "",
         "offsetgroup": "",
         "orientation": "v",
         "showlegend": false,
         "textposition": "auto",
         "type": "bar",
         "x": [
          "2025-02-06T00:00:00",
          "2025-02-07T00:00:00",
          "2025-02-08T00:00:00",
          "2025-02-09T00:00:00",
          "2025-02-10T00:00:00",
          "2025-02-11T00:00:00",
          "2025-02-12T00:00:00",
          "2025-02-13T00:00:00",
          "2025-02-14T00:00:00",
          "2025-02-15T00:00:00",
          "2025-02-16T00:00:00",
          "2025-02-17T00:00:00",
          "2025-02-18T00:00:00",
          "2025-02-19T00:00:00",
          "2025-02-20T00:00:00",
          "2025-02-21T00:00:00",
          "2025-02-22T00:00:00",
          "2025-02-23T00:00:00",
          "2025-02-24T00:00:00",
          "2025-02-25T00:00:00",
          "2025-02-26T00:00:00",
          "2025-02-27T00:00:00",
          "2025-02-28T00:00:00",
          "2025-03-01T00:00:00",
          "2025-03-02T00:00:00",
          "2025-03-03T00:00:00",
          "2025-03-04T00:00:00",
          "2025-03-05T00:00:00",
          "2025-03-06T00:00:00",
          "2025-03-07T00:00:00",
          "2025-03-08T00:00:00"
         ],
         "xaxis": "x",
         "y": [
          0,
          4.404999999999999,
          0.018,
          0,
          0,
          6.49,
          2.0900000000000003,
          0,
          0,
          0,
          0,
          0,
          0,
          0,
          0,
          0.21000000000000002,
          0.33999999999999997,
          0,
          0,
          0,
          0,
          0.9,
          0.015000000000000003,
          5.965,
          11.318999999999999,
          5.220999999999999,
          8.276666666666666,
          1.488,
          11.261,
          12.84,
          2.599
         ],
         "yaxis": "y"
        }
       ],
       "layout": {
        "barmode": "relative",
        "legend": {
         "tracegroupgap": 0
        },
        "template": {
         "data": {
          "bar": [
           {
            "error_x": {
             "color": "#2a3f5f"
            },
            "error_y": {
             "color": "#2a3f5f"
            },
            "marker": {
             "line": {
              "color": "#E5ECF6",
              "width": 0.5
             },
             "pattern": {
              "fillmode": "overlay",
              "size": 10,
              "solidity": 0.2
             }
            },
            "type": "bar"
           }
          ],
          "barpolar": [
           {
            "marker": {
             "line": {
              "color": "#E5ECF6",
              "width": 0.5
             },
             "pattern": {
              "fillmode": "overlay",
              "size": 10,
              "solidity": 0.2
             }
            },
            "type": "barpolar"
           }
          ],
          "carpet": [
           {
            "aaxis": {
             "endlinecolor": "#2a3f5f",
             "gridcolor": "white",
             "linecolor": "white",
             "minorgridcolor": "white",
             "startlinecolor": "#2a3f5f"
            },
            "baxis": {
             "endlinecolor": "#2a3f5f",
             "gridcolor": "white",
             "linecolor": "white",
             "minorgridcolor": "white",
             "startlinecolor": "#2a3f5f"
            },
            "type": "carpet"
           }
          ],
          "choropleth": [
           {
            "colorbar": {
             "outlinewidth": 0,
             "ticks": ""
            },
            "type": "choropleth"
           }
          ],
          "contour": [
           {
            "colorbar": {
             "outlinewidth": 0,
             "ticks": ""
            },
            "colorscale": [
             [
              0,
              "#0d0887"
             ],
             [
              0.1111111111111111,
              "#46039f"
             ],
             [
              0.2222222222222222,
              "#7201a8"
             ],
             [
              0.3333333333333333,
              "#9c179e"
             ],
             [
              0.4444444444444444,
              "#bd3786"
             ],
             [
              0.5555555555555556,
              "#d8576b"
             ],
             [
              0.6666666666666666,
              "#ed7953"
             ],
             [
              0.7777777777777778,
              "#fb9f3a"
             ],
             [
              0.8888888888888888,
              "#fdca26"
             ],
             [
              1,
              "#f0f921"
             ]
            ],
            "type": "contour"
           }
          ],
          "contourcarpet": [
           {
            "colorbar": {
             "outlinewidth": 0,
             "ticks": ""
            },
            "type": "contourcarpet"
           }
          ],
          "heatmap": [
           {
            "colorbar": {
             "outlinewidth": 0,
             "ticks": ""
            },
            "colorscale": [
             [
              0,
              "#0d0887"
             ],
             [
              0.1111111111111111,
              "#46039f"
             ],
             [
              0.2222222222222222,
              "#7201a8"
             ],
             [
              0.3333333333333333,
              "#9c179e"
             ],
             [
              0.4444444444444444,
              "#bd3786"
             ],
             [
              0.5555555555555556,
              "#d8576b"
             ],
             [
              0.6666666666666666,
              "#ed7953"
             ],
             [
              0.7777777777777778,
              "#fb9f3a"
             ],
             [
              0.8888888888888888,
              "#fdca26"
             ],
             [
              1,
              "#f0f921"
             ]
            ],
            "type": "heatmap"
           }
          ],
          "heatmapgl": [
           {
            "colorbar": {
             "outlinewidth": 0,
             "ticks": ""
            },
            "colorscale": [
             [
              0,
              "#0d0887"
             ],
             [
              0.1111111111111111,
              "#46039f"
             ],
             [
              0.2222222222222222,
              "#7201a8"
             ],
             [
              0.3333333333333333,
              "#9c179e"
             ],
             [
              0.4444444444444444,
              "#bd3786"
             ],
             [
              0.5555555555555556,
              "#d8576b"
             ],
             [
              0.6666666666666666,
              "#ed7953"
             ],
             [
              0.7777777777777778,
              "#fb9f3a"
             ],
             [
              0.8888888888888888,
              "#fdca26"
             ],
             [
              1,
              "#f0f921"
             ]
            ],
            "type": "heatmapgl"
           }
          ],
          "histogram": [
           {
            "marker": {
             "pattern": {
              "fillmode": "overlay",
              "size": 10,
              "solidity": 0.2
             }
            },
            "type": "histogram"
           }
          ],
          "histogram2d": [
           {
            "colorbar": {
             "outlinewidth": 0,
             "ticks": ""
            },
            "colorscale": [
             [
              0,
              "#0d0887"
             ],
             [
              0.1111111111111111,
              "#46039f"
             ],
             [
              0.2222222222222222,
              "#7201a8"
             ],
             [
              0.3333333333333333,
              "#9c179e"
             ],
             [
              0.4444444444444444,
              "#bd3786"
             ],
             [
              0.5555555555555556,
              "#d8576b"
             ],
             [
              0.6666666666666666,
              "#ed7953"
             ],
             [
              0.7777777777777778,
              "#fb9f3a"
             ],
             [
              0.8888888888888888,
              "#fdca26"
             ],
             [
              1,
              "#f0f921"
             ]
            ],
            "type": "histogram2d"
           }
          ],
          "histogram2dcontour": [
           {
            "colorbar": {
             "outlinewidth": 0,
             "ticks": ""
            },
            "colorscale": [
             [
              0,
              "#0d0887"
             ],
             [
              0.1111111111111111,
              "#46039f"
             ],
             [
              0.2222222222222222,
              "#7201a8"
             ],
             [
              0.3333333333333333,
              "#9c179e"
             ],
             [
              0.4444444444444444,
              "#bd3786"
             ],
             [
              0.5555555555555556,
              "#d8576b"
             ],
             [
              0.6666666666666666,
              "#ed7953"
             ],
             [
              0.7777777777777778,
              "#fb9f3a"
             ],
             [
              0.8888888888888888,
              "#fdca26"
             ],
             [
              1,
              "#f0f921"
             ]
            ],
            "type": "histogram2dcontour"
           }
          ],
          "mesh3d": [
           {
            "colorbar": {
             "outlinewidth": 0,
             "ticks": ""
            },
            "type": "mesh3d"
           }
          ],
          "parcoords": [
           {
            "line": {
             "colorbar": {
              "outlinewidth": 0,
              "ticks": ""
             }
            },
            "type": "parcoords"
           }
          ],
          "pie": [
           {
            "automargin": true,
            "type": "pie"
           }
          ],
          "scatter": [
           {
            "fillpattern": {
             "fillmode": "overlay",
             "size": 10,
             "solidity": 0.2
            },
            "type": "scatter"
           }
          ],
          "scatter3d": [
           {
            "line": {
             "colorbar": {
              "outlinewidth": 0,
              "ticks": ""
             }
            },
            "marker": {
             "colorbar": {
              "outlinewidth": 0,
              "ticks": ""
             }
            },
            "type": "scatter3d"
           }
          ],
          "scattercarpet": [
           {
            "marker": {
             "colorbar": {
              "outlinewidth": 0,
              "ticks": ""
             }
            },
            "type": "scattercarpet"
           }
          ],
          "scattergeo": [
           {
            "marker": {
             "colorbar": {
              "outlinewidth": 0,
              "ticks": ""
             }
            },
            "type": "scattergeo"
           }
          ],
          "scattergl": [
           {
            "marker": {
             "colorbar": {
              "outlinewidth": 0,
              "ticks": ""
             }
            },
            "type": "scattergl"
           }
          ],
          "scattermapbox": [
           {
            "marker": {
             "colorbar": {
              "outlinewidth": 0,
              "ticks": ""
             }
            },
            "type": "scattermapbox"
           }
          ],
          "scatterpolar": [
           {
            "marker": {
             "colorbar": {
              "outlinewidth": 0,
              "ticks": ""
             }
            },
            "type": "scatterpolar"
           }
          ],
          "scatterpolargl": [
           {
            "marker": {
             "colorbar": {
              "outlinewidth": 0,
              "ticks": ""
             }
            },
            "type": "scatterpolargl"
           }
          ],
          "scatterternary": [
           {
            "marker": {
             "colorbar": {
              "outlinewidth": 0,
              "ticks": ""
             }
            },
            "type": "scatterternary"
           }
          ],
          "surface": [
           {
            "colorbar": {
             "outlinewidth": 0,
             "ticks": ""
            },
            "colorscale": [
             [
              0,
              "#0d0887"
             ],
             [
              0.1111111111111111,
              "#46039f"
             ],
             [
              0.2222222222222222,
              "#7201a8"
             ],
             [
              0.3333333333333333,
              "#9c179e"
             ],
             [
              0.4444444444444444,
              "#bd3786"
             ],
             [
              0.5555555555555556,
              "#d8576b"
             ],
             [
              0.6666666666666666,
              "#ed7953"
             ],
             [
              0.7777777777777778,
              "#fb9f3a"
             ],
             [
              0.8888888888888888,
              "#fdca26"
             ],
             [
              1,
              "#f0f921"
             ]
            ],
            "type": "surface"
           }
          ],
          "table": [
           {
            "cells": {
             "fill": {
              "color": "#EBF0F8"
             },
             "line": {
              "color": "white"
             }
            },
            "header": {
             "fill": {
              "color": "#C8D4E3"
             },
             "line": {
              "color": "white"
             }
            },
            "type": "table"
           }
          ]
         },
         "layout": {
          "annotationdefaults": {
           "arrowcolor": "#2a3f5f",
           "arrowhead": 0,
           "arrowwidth": 1
          },
          "autotypenumbers": "strict",
          "coloraxis": {
           "colorbar": {
            "outlinewidth": 0,
            "ticks": ""
           }
          },
          "colorscale": {
           "diverging": [
            [
             0,
             "#8e0152"
            ],
            [
             0.1,
             "#c51b7d"
            ],
            [
             0.2,
             "#de77ae"
            ],
            [
             0.3,
             "#f1b6da"
            ],
            [
             0.4,
             "#fde0ef"
            ],
            [
             0.5,
             "#f7f7f7"
            ],
            [
             0.6,
             "#e6f5d0"
            ],
            [
             0.7,
             "#b8e186"
            ],
            [
             0.8,
             "#7fbc41"
            ],
            [
             0.9,
             "#4d9221"
            ],
            [
             1,
             "#276419"
            ]
           ],
           "sequential": [
            [
             0,
             "#0d0887"
            ],
            [
             0.1111111111111111,
             "#46039f"
            ],
            [
             0.2222222222222222,
             "#7201a8"
            ],
            [
             0.3333333333333333,
             "#9c179e"
            ],
            [
             0.4444444444444444,
             "#bd3786"
            ],
            [
             0.5555555555555556,
             "#d8576b"
            ],
            [
             0.6666666666666666,
             "#ed7953"
            ],
            [
             0.7777777777777778,
             "#fb9f3a"
            ],
            [
             0.8888888888888888,
             "#fdca26"
            ],
            [
             1,
             "#f0f921"
            ]
           ],
           "sequentialminus": [
            [
             0,
             "#0d0887"
            ],
            [
             0.1111111111111111,
             "#46039f"
            ],
            [
             0.2222222222222222,
             "#7201a8"
            ],
            [
             0.3333333333333333,
             "#9c179e"
            ],
            [
             0.4444444444444444,
             "#bd3786"
            ],
            [
             0.5555555555555556,
             "#d8576b"
            ],
            [
             0.6666666666666666,
             "#ed7953"
            ],
            [
             0.7777777777777778,
             "#fb9f3a"
            ],
            [
             0.8888888888888888,
             "#fdca26"
            ],
            [
             1,
             "#f0f921"
            ]
           ]
          },
          "colorway": [
           "#636efa",
           "#EF553B",
           "#00cc96",
           "#ab63fa",
           "#FFA15A",
           "#19d3f3",
           "#FF6692",
           "#B6E880",
           "#FF97FF",
           "#FECB52"
          ],
          "font": {
           "color": "#2a3f5f"
          },
          "geo": {
           "bgcolor": "white",
           "lakecolor": "white",
           "landcolor": "#E5ECF6",
           "showlakes": true,
           "showland": true,
           "subunitcolor": "white"
          },
          "hoverlabel": {
           "align": "left"
          },
          "hovermode": "closest",
          "mapbox": {
           "style": "light"
          },
          "paper_bgcolor": "white",
          "plot_bgcolor": "#E5ECF6",
          "polar": {
           "angularaxis": {
            "gridcolor": "white",
            "linecolor": "white",
            "ticks": ""
           },
           "bgcolor": "#E5ECF6",
           "radialaxis": {
            "gridcolor": "white",
            "linecolor": "white",
            "ticks": ""
           }
          },
          "scene": {
           "xaxis": {
            "backgroundcolor": "#E5ECF6",
            "gridcolor": "white",
            "gridwidth": 2,
            "linecolor": "white",
            "showbackground": true,
            "ticks": "",
            "zerolinecolor": "white"
           },
           "yaxis": {
            "backgroundcolor": "#E5ECF6",
            "gridcolor": "white",
            "gridwidth": 2,
            "linecolor": "white",
            "showbackground": true,
            "ticks": "",
            "zerolinecolor": "white"
           },
           "zaxis": {
            "backgroundcolor": "#E5ECF6",
            "gridcolor": "white",
            "gridwidth": 2,
            "linecolor": "white",
            "showbackground": true,
            "ticks": "",
            "zerolinecolor": "white"
           }
          },
          "shapedefaults": {
           "line": {
            "color": "#2a3f5f"
           }
          },
          "ternary": {
           "aaxis": {
            "gridcolor": "white",
            "linecolor": "white",
            "ticks": ""
           },
           "baxis": {
            "gridcolor": "white",
            "linecolor": "white",
            "ticks": ""
           },
           "bgcolor": "#E5ECF6",
           "caxis": {
            "gridcolor": "white",
            "linecolor": "white",
            "ticks": ""
           }
          },
          "title": {
           "x": 0.05
          },
          "xaxis": {
           "automargin": true,
           "gridcolor": "white",
           "linecolor": "white",
           "ticks": "",
           "title": {
            "standoff": 15
           },
           "zerolinecolor": "white",
           "zerolinewidth": 2
          },
          "yaxis": {
           "automargin": true,
           "gridcolor": "white",
           "linecolor": "white",
           "ticks": "",
           "title": {
            "standoff": 15
           },
           "zerolinecolor": "white",
           "zerolinewidth": 2
          }
         }
        },
        "title": {
         "text": "Precipitación media"
        },
        "xaxis": {
         "anchor": "y",
         "domain": [
          0,
          1
         ],
         "title": {
          "text": "fecha"
         }
        },
        "yaxis": {
         "anchor": "x",
         "domain": [
          0,
          1
         ],
         "title": {
          "text": "precip_media"
         }
        }
       }
      },
      "text/html": [
       "<div>                            <div id=\"b25b5a14-8358-469d-aac9-64339ab9dff9\" class=\"plotly-graph-div\" style=\"height:525px; width:100%;\"></div>            <script type=\"text/javascript\">                require([\"plotly\"], function(Plotly) {                    window.PLOTLYENV=window.PLOTLYENV || {};                                    if (document.getElementById(\"b25b5a14-8358-469d-aac9-64339ab9dff9\")) {                    Plotly.newPlot(                        \"b25b5a14-8358-469d-aac9-64339ab9dff9\",                        [{\"alignmentgroup\":\"True\",\"hovertemplate\":\"fecha=%{x}\\u003cbr\\u003eprecip_media=%{y}\\u003cextra\\u003e\\u003c\\u002fextra\\u003e\",\"legendgroup\":\"\",\"marker\":{\"color\":\"#636efa\",\"pattern\":{\"shape\":\"\"}},\"name\":\"\",\"offsetgroup\":\"\",\"orientation\":\"v\",\"showlegend\":false,\"textposition\":\"auto\",\"x\":[\"2025-02-06T00:00:00\",\"2025-02-07T00:00:00\",\"2025-02-08T00:00:00\",\"2025-02-09T00:00:00\",\"2025-02-10T00:00:00\",\"2025-02-11T00:00:00\",\"2025-02-12T00:00:00\",\"2025-02-13T00:00:00\",\"2025-02-14T00:00:00\",\"2025-02-15T00:00:00\",\"2025-02-16T00:00:00\",\"2025-02-17T00:00:00\",\"2025-02-18T00:00:00\",\"2025-02-19T00:00:00\",\"2025-02-20T00:00:00\",\"2025-02-21T00:00:00\",\"2025-02-22T00:00:00\",\"2025-02-23T00:00:00\",\"2025-02-24T00:00:00\",\"2025-02-25T00:00:00\",\"2025-02-26T00:00:00\",\"2025-02-27T00:00:00\",\"2025-02-28T00:00:00\",\"2025-03-01T00:00:00\",\"2025-03-02T00:00:00\",\"2025-03-03T00:00:00\",\"2025-03-04T00:00:00\",\"2025-03-05T00:00:00\",\"2025-03-06T00:00:00\",\"2025-03-07T00:00:00\",\"2025-03-08T00:00:00\"],\"xaxis\":\"x\",\"y\":[0.0,4.404999999999999,0.018,0.0,0.0,6.49,2.0900000000000003,0.0,0.0,0.0,0.0,0.0,0.0,0.0,0.0,0.21000000000000002,0.33999999999999997,0.0,0.0,0.0,0.0,0.9,0.015000000000000003,5.965,11.318999999999999,5.220999999999999,8.276666666666666,1.488,11.261,12.84,2.599],\"yaxis\":\"y\",\"type\":\"bar\"}],                        {\"template\":{\"data\":{\"histogram2dcontour\":[{\"type\":\"histogram2dcontour\",\"colorbar\":{\"outlinewidth\":0,\"ticks\":\"\"},\"colorscale\":[[0.0,\"#0d0887\"],[0.1111111111111111,\"#46039f\"],[0.2222222222222222,\"#7201a8\"],[0.3333333333333333,\"#9c179e\"],[0.4444444444444444,\"#bd3786\"],[0.5555555555555556,\"#d8576b\"],[0.6666666666666666,\"#ed7953\"],[0.7777777777777778,\"#fb9f3a\"],[0.8888888888888888,\"#fdca26\"],[1.0,\"#f0f921\"]]}],\"choropleth\":[{\"type\":\"choropleth\",\"colorbar\":{\"outlinewidth\":0,\"ticks\":\"\"}}],\"histogram2d\":[{\"type\":\"histogram2d\",\"colorbar\":{\"outlinewidth\":0,\"ticks\":\"\"},\"colorscale\":[[0.0,\"#0d0887\"],[0.1111111111111111,\"#46039f\"],[0.2222222222222222,\"#7201a8\"],[0.3333333333333333,\"#9c179e\"],[0.4444444444444444,\"#bd3786\"],[0.5555555555555556,\"#d8576b\"],[0.6666666666666666,\"#ed7953\"],[0.7777777777777778,\"#fb9f3a\"],[0.8888888888888888,\"#fdca26\"],[1.0,\"#f0f921\"]]}],\"heatmap\":[{\"type\":\"heatmap\",\"colorbar\":{\"outlinewidth\":0,\"ticks\":\"\"},\"colorscale\":[[0.0,\"#0d0887\"],[0.1111111111111111,\"#46039f\"],[0.2222222222222222,\"#7201a8\"],[0.3333333333333333,\"#9c179e\"],[0.4444444444444444,\"#bd3786\"],[0.5555555555555556,\"#d8576b\"],[0.6666666666666666,\"#ed7953\"],[0.7777777777777778,\"#fb9f3a\"],[0.8888888888888888,\"#fdca26\"],[1.0,\"#f0f921\"]]}],\"heatmapgl\":[{\"type\":\"heatmapgl\",\"colorbar\":{\"outlinewidth\":0,\"ticks\":\"\"},\"colorscale\":[[0.0,\"#0d0887\"],[0.1111111111111111,\"#46039f\"],[0.2222222222222222,\"#7201a8\"],[0.3333333333333333,\"#9c179e\"],[0.4444444444444444,\"#bd3786\"],[0.5555555555555556,\"#d8576b\"],[0.6666666666666666,\"#ed7953\"],[0.7777777777777778,\"#fb9f3a\"],[0.8888888888888888,\"#fdca26\"],[1.0,\"#f0f921\"]]}],\"contourcarpet\":[{\"type\":\"contourcarpet\",\"colorbar\":{\"outlinewidth\":0,\"ticks\":\"\"}}],\"contour\":[{\"type\":\"contour\",\"colorbar\":{\"outlinewidth\":0,\"ticks\":\"\"},\"colorscale\":[[0.0,\"#0d0887\"],[0.1111111111111111,\"#46039f\"],[0.2222222222222222,\"#7201a8\"],[0.3333333333333333,\"#9c179e\"],[0.4444444444444444,\"#bd3786\"],[0.5555555555555556,\"#d8576b\"],[0.6666666666666666,\"#ed7953\"],[0.7777777777777778,\"#fb9f3a\"],[0.8888888888888888,\"#fdca26\"],[1.0,\"#f0f921\"]]}],\"surface\":[{\"type\":\"surface\",\"colorbar\":{\"outlinewidth\":0,\"ticks\":\"\"},\"colorscale\":[[0.0,\"#0d0887\"],[0.1111111111111111,\"#46039f\"],[0.2222222222222222,\"#7201a8\"],[0.3333333333333333,\"#9c179e\"],[0.4444444444444444,\"#bd3786\"],[0.5555555555555556,\"#d8576b\"],[0.6666666666666666,\"#ed7953\"],[0.7777777777777778,\"#fb9f3a\"],[0.8888888888888888,\"#fdca26\"],[1.0,\"#f0f921\"]]}],\"mesh3d\":[{\"type\":\"mesh3d\",\"colorbar\":{\"outlinewidth\":0,\"ticks\":\"\"}}],\"scatter\":[{\"fillpattern\":{\"fillmode\":\"overlay\",\"size\":10,\"solidity\":0.2},\"type\":\"scatter\"}],\"parcoords\":[{\"type\":\"parcoords\",\"line\":{\"colorbar\":{\"outlinewidth\":0,\"ticks\":\"\"}}}],\"scatterpolargl\":[{\"type\":\"scatterpolargl\",\"marker\":{\"colorbar\":{\"outlinewidth\":0,\"ticks\":\"\"}}}],\"bar\":[{\"error_x\":{\"color\":\"#2a3f5f\"},\"error_y\":{\"color\":\"#2a3f5f\"},\"marker\":{\"line\":{\"color\":\"#E5ECF6\",\"width\":0.5},\"pattern\":{\"fillmode\":\"overlay\",\"size\":10,\"solidity\":0.2}},\"type\":\"bar\"}],\"scattergeo\":[{\"type\":\"scattergeo\",\"marker\":{\"colorbar\":{\"outlinewidth\":0,\"ticks\":\"\"}}}],\"scatterpolar\":[{\"type\":\"scatterpolar\",\"marker\":{\"colorbar\":{\"outlinewidth\":0,\"ticks\":\"\"}}}],\"histogram\":[{\"marker\":{\"pattern\":{\"fillmode\":\"overlay\",\"size\":10,\"solidity\":0.2}},\"type\":\"histogram\"}],\"scattergl\":[{\"type\":\"scattergl\",\"marker\":{\"colorbar\":{\"outlinewidth\":0,\"ticks\":\"\"}}}],\"scatter3d\":[{\"type\":\"scatter3d\",\"line\":{\"colorbar\":{\"outlinewidth\":0,\"ticks\":\"\"}},\"marker\":{\"colorbar\":{\"outlinewidth\":0,\"ticks\":\"\"}}}],\"scattermapbox\":[{\"type\":\"scattermapbox\",\"marker\":{\"colorbar\":{\"outlinewidth\":0,\"ticks\":\"\"}}}],\"scatterternary\":[{\"type\":\"scatterternary\",\"marker\":{\"colorbar\":{\"outlinewidth\":0,\"ticks\":\"\"}}}],\"scattercarpet\":[{\"type\":\"scattercarpet\",\"marker\":{\"colorbar\":{\"outlinewidth\":0,\"ticks\":\"\"}}}],\"carpet\":[{\"aaxis\":{\"endlinecolor\":\"#2a3f5f\",\"gridcolor\":\"white\",\"linecolor\":\"white\",\"minorgridcolor\":\"white\",\"startlinecolor\":\"#2a3f5f\"},\"baxis\":{\"endlinecolor\":\"#2a3f5f\",\"gridcolor\":\"white\",\"linecolor\":\"white\",\"minorgridcolor\":\"white\",\"startlinecolor\":\"#2a3f5f\"},\"type\":\"carpet\"}],\"table\":[{\"cells\":{\"fill\":{\"color\":\"#EBF0F8\"},\"line\":{\"color\":\"white\"}},\"header\":{\"fill\":{\"color\":\"#C8D4E3\"},\"line\":{\"color\":\"white\"}},\"type\":\"table\"}],\"barpolar\":[{\"marker\":{\"line\":{\"color\":\"#E5ECF6\",\"width\":0.5},\"pattern\":{\"fillmode\":\"overlay\",\"size\":10,\"solidity\":0.2}},\"type\":\"barpolar\"}],\"pie\":[{\"automargin\":true,\"type\":\"pie\"}]},\"layout\":{\"autotypenumbers\":\"strict\",\"colorway\":[\"#636efa\",\"#EF553B\",\"#00cc96\",\"#ab63fa\",\"#FFA15A\",\"#19d3f3\",\"#FF6692\",\"#B6E880\",\"#FF97FF\",\"#FECB52\"],\"font\":{\"color\":\"#2a3f5f\"},\"hovermode\":\"closest\",\"hoverlabel\":{\"align\":\"left\"},\"paper_bgcolor\":\"white\",\"plot_bgcolor\":\"#E5ECF6\",\"polar\":{\"bgcolor\":\"#E5ECF6\",\"angularaxis\":{\"gridcolor\":\"white\",\"linecolor\":\"white\",\"ticks\":\"\"},\"radialaxis\":{\"gridcolor\":\"white\",\"linecolor\":\"white\",\"ticks\":\"\"}},\"ternary\":{\"bgcolor\":\"#E5ECF6\",\"aaxis\":{\"gridcolor\":\"white\",\"linecolor\":\"white\",\"ticks\":\"\"},\"baxis\":{\"gridcolor\":\"white\",\"linecolor\":\"white\",\"ticks\":\"\"},\"caxis\":{\"gridcolor\":\"white\",\"linecolor\":\"white\",\"ticks\":\"\"}},\"coloraxis\":{\"colorbar\":{\"outlinewidth\":0,\"ticks\":\"\"}},\"colorscale\":{\"sequential\":[[0.0,\"#0d0887\"],[0.1111111111111111,\"#46039f\"],[0.2222222222222222,\"#7201a8\"],[0.3333333333333333,\"#9c179e\"],[0.4444444444444444,\"#bd3786\"],[0.5555555555555556,\"#d8576b\"],[0.6666666666666666,\"#ed7953\"],[0.7777777777777778,\"#fb9f3a\"],[0.8888888888888888,\"#fdca26\"],[1.0,\"#f0f921\"]],\"sequentialminus\":[[0.0,\"#0d0887\"],[0.1111111111111111,\"#46039f\"],[0.2222222222222222,\"#7201a8\"],[0.3333333333333333,\"#9c179e\"],[0.4444444444444444,\"#bd3786\"],[0.5555555555555556,\"#d8576b\"],[0.6666666666666666,\"#ed7953\"],[0.7777777777777778,\"#fb9f3a\"],[0.8888888888888888,\"#fdca26\"],[1.0,\"#f0f921\"]],\"diverging\":[[0,\"#8e0152\"],[0.1,\"#c51b7d\"],[0.2,\"#de77ae\"],[0.3,\"#f1b6da\"],[0.4,\"#fde0ef\"],[0.5,\"#f7f7f7\"],[0.6,\"#e6f5d0\"],[0.7,\"#b8e186\"],[0.8,\"#7fbc41\"],[0.9,\"#4d9221\"],[1,\"#276419\"]]},\"xaxis\":{\"gridcolor\":\"white\",\"linecolor\":\"white\",\"ticks\":\"\",\"title\":{\"standoff\":15},\"zerolinecolor\":\"white\",\"automargin\":true,\"zerolinewidth\":2},\"yaxis\":{\"gridcolor\":\"white\",\"linecolor\":\"white\",\"ticks\":\"\",\"title\":{\"standoff\":15},\"zerolinecolor\":\"white\",\"automargin\":true,\"zerolinewidth\":2},\"scene\":{\"xaxis\":{\"backgroundcolor\":\"#E5ECF6\",\"gridcolor\":\"white\",\"linecolor\":\"white\",\"showbackground\":true,\"ticks\":\"\",\"zerolinecolor\":\"white\",\"gridwidth\":2},\"yaxis\":{\"backgroundcolor\":\"#E5ECF6\",\"gridcolor\":\"white\",\"linecolor\":\"white\",\"showbackground\":true,\"ticks\":\"\",\"zerolinecolor\":\"white\",\"gridwidth\":2},\"zaxis\":{\"backgroundcolor\":\"#E5ECF6\",\"gridcolor\":\"white\",\"linecolor\":\"white\",\"showbackground\":true,\"ticks\":\"\",\"zerolinecolor\":\"white\",\"gridwidth\":2}},\"shapedefaults\":{\"line\":{\"color\":\"#2a3f5f\"}},\"annotationdefaults\":{\"arrowcolor\":\"#2a3f5f\",\"arrowhead\":0,\"arrowwidth\":1},\"geo\":{\"bgcolor\":\"white\",\"landcolor\":\"#E5ECF6\",\"subunitcolor\":\"white\",\"showland\":true,\"showlakes\":true,\"lakecolor\":\"white\"},\"title\":{\"x\":0.05},\"mapbox\":{\"style\":\"light\"}}},\"xaxis\":{\"anchor\":\"y\",\"domain\":[0.0,1.0],\"title\":{\"text\":\"fecha\"}},\"yaxis\":{\"anchor\":\"x\",\"domain\":[0.0,1.0],\"title\":{\"text\":\"precip_media\"}},\"legend\":{\"tracegroupgap\":0},\"title\":{\"text\":\"Precipitaci\\u00f3n media\"},\"barmode\":\"relative\"},                        {\"responsive\": true}                    ).then(function(){\n",
       "                            \n",
       "var gd = document.getElementById('b25b5a14-8358-469d-aac9-64339ab9dff9');\n",
       "var x = new MutationObserver(function (mutations, observer) {{\n",
       "        var display = window.getComputedStyle(gd).display;\n",
       "        if (!display || display === 'none') {{\n",
       "            console.log([gd, 'removed!']);\n",
       "            Plotly.purge(gd);\n",
       "            observer.disconnect();\n",
       "        }}\n",
       "}});\n",
       "\n",
       "// Listen for the removal of the full notebook cells\n",
       "var notebookContainer = gd.closest('#notebook-container');\n",
       "if (notebookContainer) {{\n",
       "    x.observe(notebookContainer, {childList: true});\n",
       "}}\n",
       "\n",
       "// Listen for the clearing of the current output cell\n",
       "var outputEl = gd.closest('.output');\n",
       "if (outputEl) {{\n",
       "    x.observe(outputEl, {childList: true});\n",
       "}}\n",
       "\n",
       "                        })                };                });            </script>        </div>"
      ]
     },
     "metadata": {},
     "output_type": "display_data"
    }
   ],
   "source": [
    "#grafico de precipitaciones\n",
    "import plotly.express as px\n",
    "\n",
    "df = pm.DataFrame()\n",
    "fig = px.bar(df, x=\"fecha\", y=\"precip_media\", title = 'Precipitación media')\n",
    "fig.show()"
   ]
  },
  {
   "cell_type": "code",
   "execution_count": 158,
   "metadata": {},
   "outputs": [
    {
     "data": {
      "application/vnd.plotly.v1+json": {
       "config": {
        "plotlyServerURL": "https://plot.ly"
       },
       "data": [
        {
         "alignmentgroup": "True",
         "hovertemplate": "<b>%{hovertext}</b><br><br>fecha=%{x}<br>total=%{y}<extra></extra>",
         "hovertext": [
          "Casa de Campo",
          "Barrio del Pilar",
          "Ensanche de Vallecas",
          "Plaza Elíptica",
          "Juan Carlos I",
          "Casa de Campo",
          "Barrio del Pilar",
          "Ensanche de Vallecas",
          "Plaza Elíptica",
          "Juan Carlos I",
          "J.M.D. Moratalaz",
          "J.M.D. Villaverde",
          "Centro Mpal. De Acústica",
          "J.M.D. Hortaleza",
          "Peñagrande",
          "Casa de Campo",
          "Barrio del Pilar",
          "Ensanche de Vallecas",
          "Plaza Elíptica",
          "Juan Carlos I",
          "J.M.D. Moratalaz",
          "J.M.D. Villaverde",
          "Centro Mpal. De Acústica",
          "J.M.D. Hortaleza",
          "Peñagrande",
          "Casa de Campo",
          "Barrio del Pilar",
          "Ensanche de Vallecas",
          "Plaza Elíptica",
          "Juan Carlos I",
          "J.M.D. Moratalaz",
          "J.M.D. Villaverde",
          "Centro Mpal. De Acústica",
          "J.M.D. Hortaleza",
          "Peñagrande",
          "Casa de Campo",
          "Barrio del Pilar",
          "Ensanche de Vallecas",
          "Plaza Elíptica",
          "Juan Carlos I",
          "J.M.D. Moratalaz",
          "J.M.D. Villaverde",
          "Centro Mpal. De Acústica",
          "J.M.D. Hortaleza",
          "Peñagrande",
          "Casa de Campo",
          "Barrio del Pilar",
          "Ensanche de Vallecas",
          "Plaza Elíptica",
          "Juan Carlos I",
          "J.M.D. Moratalaz",
          "J.M.D. Villaverde",
          "Centro Mpal. De Acústica",
          "J.M.D. Hortaleza",
          "Peñagrande",
          "Casa de Campo",
          "Barrio del Pilar",
          "Ensanche de Vallecas",
          "Plaza Elíptica",
          "Juan Carlos I",
          "J.M.D. Moratalaz",
          "J.M.D. Villaverde",
          "Centro Mpal. De Acústica",
          "J.M.D. Hortaleza",
          "Peñagrande",
          "Casa de Campo",
          "Barrio del Pilar",
          "Ensanche de Vallecas",
          "Plaza Elíptica",
          "Juan Carlos I",
          "J.M.D. Moratalaz",
          "J.M.D. Villaverde",
          "Centro Mpal. De Acústica",
          "J.M.D. Hortaleza",
          "Peñagrande",
          "Casa de Campo",
          "Barrio del Pilar",
          "Ensanche de Vallecas",
          "Plaza Elíptica",
          "Juan Carlos I",
          "J.M.D. Moratalaz",
          "J.M.D. Villaverde",
          "Centro Mpal. De Acústica",
          "J.M.D. Hortaleza",
          "Peñagrande",
          "Casa de Campo",
          "Barrio del Pilar",
          "Ensanche de Vallecas",
          "Plaza Elíptica",
          "Juan Carlos I",
          "J.M.D. Moratalaz",
          "Centro Mpal. De Acústica",
          "J.M.D. Hortaleza",
          "Peñagrande",
          "Casa de Campo",
          "Barrio del Pilar",
          "Ensanche de Vallecas",
          "Plaza Elíptica",
          "Juan Carlos I",
          "J.M.D. Moratalaz",
          "J.M.D. Villaverde",
          "Centro Mpal. De Acústica",
          "J.M.D. Hortaleza",
          "Peñagrande",
          "Casa de Campo",
          "Barrio del Pilar",
          "Ensanche de Vallecas",
          "Plaza Elíptica",
          "Juan Carlos I",
          "J.M.D. Moratalaz",
          "J.M.D. Villaverde",
          "Centro Mpal. De Acústica",
          "J.M.D. Hortaleza",
          "Peñagrande",
          "Casa de Campo",
          "Barrio del Pilar",
          "Ensanche de Vallecas",
          "Plaza Elíptica",
          "Juan Carlos I",
          "J.M.D. Moratalaz",
          "Centro Mpal. De Acústica",
          "J.M.D. Hortaleza",
          "Peñagrande",
          "Casa de Campo",
          "Barrio del Pilar",
          "Ensanche de Vallecas",
          "Plaza Elíptica",
          "Juan Carlos I",
          "J.M.D. Moratalaz",
          "J.M.D. Villaverde",
          "Centro Mpal. De Acústica",
          "J.M.D. Hortaleza",
          "Peñagrande",
          "Casa de Campo",
          "Barrio del Pilar",
          "Ensanche de Vallecas",
          "Plaza Elíptica",
          "Juan Carlos I",
          "J.M.D. Moratalaz",
          "J.M.D. Villaverde",
          "Centro Mpal. De Acústica",
          "J.M.D. Hortaleza",
          "Peñagrande",
          "Casa de Campo",
          "Barrio del Pilar",
          "Ensanche de Vallecas",
          "Plaza Elíptica",
          "Juan Carlos I",
          "J.M.D. Moratalaz",
          "J.M.D. Villaverde",
          "Centro Mpal. De Acústica",
          "J.M.D. Hortaleza",
          "Peñagrande",
          "Casa de Campo",
          "Barrio del Pilar",
          "Ensanche de Vallecas",
          "Plaza Elíptica",
          "Juan Carlos I",
          "J.M.D. Moratalaz",
          "J.M.D. Villaverde",
          "Centro Mpal. De Acústica",
          "J.M.D. Hortaleza",
          "Peñagrande",
          "Casa de Campo",
          "Barrio del Pilar",
          "Ensanche de Vallecas",
          "Plaza Elíptica",
          "Juan Carlos I",
          "J.M.D. Moratalaz",
          "J.M.D. Villaverde",
          "Centro Mpal. De Acústica",
          "J.M.D. Hortaleza",
          "Peñagrande",
          "Casa de Campo",
          "Barrio del Pilar",
          "Ensanche de Vallecas",
          "Plaza Elíptica",
          "Juan Carlos I",
          "J.M.D. Moratalaz",
          "J.M.D. Villaverde",
          "Centro Mpal. De Acústica",
          "J.M.D. Hortaleza",
          "Peñagrande",
          "Casa de Campo",
          "Barrio del Pilar",
          "Ensanche de Vallecas",
          "Plaza Elíptica",
          "Juan Carlos I",
          "J.M.D. Moratalaz",
          "J.M.D. Villaverde",
          "Centro Mpal. De Acústica",
          "J.M.D. Hortaleza",
          "Peñagrande",
          "Casa de Campo",
          "Barrio del Pilar",
          "Ensanche de Vallecas",
          "Plaza Elíptica",
          "Juan Carlos I",
          "J.M.D. Moratalaz",
          "J.M.D. Villaverde",
          "Centro Mpal. De Acústica",
          "J.M.D. Hortaleza",
          "Peñagrande",
          "Casa de Campo",
          "Barrio del Pilar",
          "Ensanche de Vallecas",
          "Plaza Elíptica",
          "Juan Carlos I",
          "J.M.D. Moratalaz",
          "J.M.D. Villaverde",
          "Centro Mpal. De Acústica",
          "J.M.D. Hortaleza",
          "Peñagrande",
          "Casa de Campo",
          "Barrio del Pilar",
          "Ensanche de Vallecas",
          "Plaza Elíptica",
          "Juan Carlos I",
          "J.M.D. Moratalaz",
          "J.M.D. Villaverde",
          "Centro Mpal. De Acústica",
          "J.M.D. Hortaleza",
          "Peñagrande",
          "Casa de Campo",
          "Barrio del Pilar",
          "Ensanche de Vallecas",
          "Plaza Elíptica",
          "Juan Carlos I",
          "J.M.D. Moratalaz",
          "J.M.D. Villaverde",
          "Centro Mpal. De Acústica",
          "J.M.D. Hortaleza",
          "Peñagrande",
          "Casa de Campo",
          "Barrio del Pilar",
          "Ensanche de Vallecas",
          "Plaza Elíptica",
          "Juan Carlos I",
          "J.M.D. Moratalaz",
          "J.M.D. Villaverde",
          "Centro Mpal. De Acústica",
          "J.M.D. Hortaleza",
          "Peñagrande",
          "Casa de Campo",
          "Barrio del Pilar",
          "Ensanche de Vallecas",
          "Plaza Elíptica",
          "Juan Carlos I",
          "J.M.D. Moratalaz",
          "J.M.D. Villaverde",
          "Centro Mpal. De Acústica",
          "J.M.D. Hortaleza",
          "Peñagrande",
          "Casa de Campo",
          "Barrio del Pilar",
          "Ensanche de Vallecas",
          "Plaza Elíptica",
          "Juan Carlos I",
          "J.M.D. Moratalaz",
          "Centro Mpal. De Acústica",
          "J.M.D. Hortaleza",
          "Peñagrande",
          "Casa de Campo",
          "Barrio del Pilar",
          "Ensanche de Vallecas",
          "Plaza Elíptica",
          "Juan Carlos I",
          "J.M.D. Moratalaz",
          "J.M.D. Villaverde",
          "Centro Mpal. De Acústica",
          "J.M.D. Hortaleza",
          "Peñagrande",
          "Casa de Campo",
          "Barrio del Pilar",
          "Ensanche de Vallecas",
          "Plaza Elíptica",
          "Juan Carlos I",
          "J.M.D. Moratalaz",
          "J.M.D. Villaverde",
          "Centro Mpal. De Acústica",
          "J.M.D. Hortaleza",
          "Peñagrande",
          "Casa de Campo",
          "Barrio del Pilar",
          "Ensanche de Vallecas",
          "Plaza Elíptica",
          "Juan Carlos I",
          "J.M.D. Moratalaz",
          "J.M.D. Villaverde",
          "Centro Mpal. De Acústica",
          "J.M.D. Hortaleza",
          "Peñagrande",
          "Casa de Campo",
          "Barrio del Pilar",
          "Ensanche de Vallecas",
          "Plaza Elíptica",
          "Juan Carlos I",
          "J.M.D. Moratalaz",
          "J.M.D. Villaverde",
          "Centro Mpal. De Acústica",
          "J.M.D. Hortaleza",
          "Peñagrande"
         ],
         "legendgroup": "",
         "marker": {
          "color": "#636efa"
         },
         "name": "",
         "notched": false,
         "offsetgroup": "",
         "orientation": "v",
         "showlegend": false,
         "type": "box",
         "x": [
          "2025-02-06T00:00:00",
          "2025-02-06T00:00:00",
          "2025-02-06T00:00:00",
          "2025-02-06T00:00:00",
          "2025-02-06T00:00:00",
          "2025-02-07T00:00:00",
          "2025-02-07T00:00:00",
          "2025-02-07T00:00:00",
          "2025-02-07T00:00:00",
          "2025-02-07T00:00:00",
          "2025-02-07T00:00:00",
          "2025-02-07T00:00:00",
          "2025-02-07T00:00:00",
          "2025-02-07T00:00:00",
          "2025-02-07T00:00:00",
          "2025-02-08T00:00:00",
          "2025-02-08T00:00:00",
          "2025-02-08T00:00:00",
          "2025-02-08T00:00:00",
          "2025-02-08T00:00:00",
          "2025-02-08T00:00:00",
          "2025-02-08T00:00:00",
          "2025-02-08T00:00:00",
          "2025-02-08T00:00:00",
          "2025-02-08T00:00:00",
          "2025-02-09T00:00:00",
          "2025-02-09T00:00:00",
          "2025-02-09T00:00:00",
          "2025-02-09T00:00:00",
          "2025-02-09T00:00:00",
          "2025-02-09T00:00:00",
          "2025-02-09T00:00:00",
          "2025-02-09T00:00:00",
          "2025-02-09T00:00:00",
          "2025-02-09T00:00:00",
          "2025-02-10T00:00:00",
          "2025-02-10T00:00:00",
          "2025-02-10T00:00:00",
          "2025-02-10T00:00:00",
          "2025-02-10T00:00:00",
          "2025-02-10T00:00:00",
          "2025-02-10T00:00:00",
          "2025-02-10T00:00:00",
          "2025-02-10T00:00:00",
          "2025-02-10T00:00:00",
          "2025-02-11T00:00:00",
          "2025-02-11T00:00:00",
          "2025-02-11T00:00:00",
          "2025-02-11T00:00:00",
          "2025-02-11T00:00:00",
          "2025-02-11T00:00:00",
          "2025-02-11T00:00:00",
          "2025-02-11T00:00:00",
          "2025-02-11T00:00:00",
          "2025-02-11T00:00:00",
          "2025-02-12T00:00:00",
          "2025-02-12T00:00:00",
          "2025-02-12T00:00:00",
          "2025-02-12T00:00:00",
          "2025-02-12T00:00:00",
          "2025-02-12T00:00:00",
          "2025-02-12T00:00:00",
          "2025-02-12T00:00:00",
          "2025-02-12T00:00:00",
          "2025-02-12T00:00:00",
          "2025-02-13T00:00:00",
          "2025-02-13T00:00:00",
          "2025-02-13T00:00:00",
          "2025-02-13T00:00:00",
          "2025-02-13T00:00:00",
          "2025-02-13T00:00:00",
          "2025-02-13T00:00:00",
          "2025-02-13T00:00:00",
          "2025-02-13T00:00:00",
          "2025-02-13T00:00:00",
          "2025-02-14T00:00:00",
          "2025-02-14T00:00:00",
          "2025-02-14T00:00:00",
          "2025-02-14T00:00:00",
          "2025-02-14T00:00:00",
          "2025-02-14T00:00:00",
          "2025-02-14T00:00:00",
          "2025-02-14T00:00:00",
          "2025-02-14T00:00:00",
          "2025-02-14T00:00:00",
          "2025-02-15T00:00:00",
          "2025-02-15T00:00:00",
          "2025-02-15T00:00:00",
          "2025-02-15T00:00:00",
          "2025-02-15T00:00:00",
          "2025-02-15T00:00:00",
          "2025-02-15T00:00:00",
          "2025-02-15T00:00:00",
          "2025-02-15T00:00:00",
          "2025-02-16T00:00:00",
          "2025-02-16T00:00:00",
          "2025-02-16T00:00:00",
          "2025-02-16T00:00:00",
          "2025-02-16T00:00:00",
          "2025-02-16T00:00:00",
          "2025-02-16T00:00:00",
          "2025-02-16T00:00:00",
          "2025-02-16T00:00:00",
          "2025-02-16T00:00:00",
          "2025-02-17T00:00:00",
          "2025-02-17T00:00:00",
          "2025-02-17T00:00:00",
          "2025-02-17T00:00:00",
          "2025-02-17T00:00:00",
          "2025-02-17T00:00:00",
          "2025-02-17T00:00:00",
          "2025-02-17T00:00:00",
          "2025-02-17T00:00:00",
          "2025-02-17T00:00:00",
          "2025-02-18T00:00:00",
          "2025-02-18T00:00:00",
          "2025-02-18T00:00:00",
          "2025-02-18T00:00:00",
          "2025-02-18T00:00:00",
          "2025-02-18T00:00:00",
          "2025-02-18T00:00:00",
          "2025-02-18T00:00:00",
          "2025-02-18T00:00:00",
          "2025-02-19T00:00:00",
          "2025-02-19T00:00:00",
          "2025-02-19T00:00:00",
          "2025-02-19T00:00:00",
          "2025-02-19T00:00:00",
          "2025-02-19T00:00:00",
          "2025-02-19T00:00:00",
          "2025-02-19T00:00:00",
          "2025-02-19T00:00:00",
          "2025-02-19T00:00:00",
          "2025-02-20T00:00:00",
          "2025-02-20T00:00:00",
          "2025-02-20T00:00:00",
          "2025-02-20T00:00:00",
          "2025-02-20T00:00:00",
          "2025-02-20T00:00:00",
          "2025-02-20T00:00:00",
          "2025-02-20T00:00:00",
          "2025-02-20T00:00:00",
          "2025-02-20T00:00:00",
          "2025-02-21T00:00:00",
          "2025-02-21T00:00:00",
          "2025-02-21T00:00:00",
          "2025-02-21T00:00:00",
          "2025-02-21T00:00:00",
          "2025-02-21T00:00:00",
          "2025-02-21T00:00:00",
          "2025-02-21T00:00:00",
          "2025-02-21T00:00:00",
          "2025-02-21T00:00:00",
          "2025-02-22T00:00:00",
          "2025-02-22T00:00:00",
          "2025-02-22T00:00:00",
          "2025-02-22T00:00:00",
          "2025-02-22T00:00:00",
          "2025-02-22T00:00:00",
          "2025-02-22T00:00:00",
          "2025-02-22T00:00:00",
          "2025-02-22T00:00:00",
          "2025-02-22T00:00:00",
          "2025-02-23T00:00:00",
          "2025-02-23T00:00:00",
          "2025-02-23T00:00:00",
          "2025-02-23T00:00:00",
          "2025-02-23T00:00:00",
          "2025-02-23T00:00:00",
          "2025-02-23T00:00:00",
          "2025-02-23T00:00:00",
          "2025-02-23T00:00:00",
          "2025-02-23T00:00:00",
          "2025-02-24T00:00:00",
          "2025-02-24T00:00:00",
          "2025-02-24T00:00:00",
          "2025-02-24T00:00:00",
          "2025-02-24T00:00:00",
          "2025-02-24T00:00:00",
          "2025-02-24T00:00:00",
          "2025-02-24T00:00:00",
          "2025-02-24T00:00:00",
          "2025-02-24T00:00:00",
          "2025-02-25T00:00:00",
          "2025-02-25T00:00:00",
          "2025-02-25T00:00:00",
          "2025-02-25T00:00:00",
          "2025-02-25T00:00:00",
          "2025-02-25T00:00:00",
          "2025-02-25T00:00:00",
          "2025-02-25T00:00:00",
          "2025-02-25T00:00:00",
          "2025-02-25T00:00:00",
          "2025-02-26T00:00:00",
          "2025-02-26T00:00:00",
          "2025-02-26T00:00:00",
          "2025-02-26T00:00:00",
          "2025-02-26T00:00:00",
          "2025-02-26T00:00:00",
          "2025-02-26T00:00:00",
          "2025-02-26T00:00:00",
          "2025-02-26T00:00:00",
          "2025-02-26T00:00:00",
          "2025-02-27T00:00:00",
          "2025-02-27T00:00:00",
          "2025-02-27T00:00:00",
          "2025-02-27T00:00:00",
          "2025-02-27T00:00:00",
          "2025-02-27T00:00:00",
          "2025-02-27T00:00:00",
          "2025-02-27T00:00:00",
          "2025-02-27T00:00:00",
          "2025-02-27T00:00:00",
          "2025-02-28T00:00:00",
          "2025-02-28T00:00:00",
          "2025-02-28T00:00:00",
          "2025-02-28T00:00:00",
          "2025-02-28T00:00:00",
          "2025-02-28T00:00:00",
          "2025-02-28T00:00:00",
          "2025-02-28T00:00:00",
          "2025-02-28T00:00:00",
          "2025-02-28T00:00:00",
          "2025-03-01T00:00:00",
          "2025-03-01T00:00:00",
          "2025-03-01T00:00:00",
          "2025-03-01T00:00:00",
          "2025-03-01T00:00:00",
          "2025-03-01T00:00:00",
          "2025-03-01T00:00:00",
          "2025-03-01T00:00:00",
          "2025-03-01T00:00:00",
          "2025-03-01T00:00:00",
          "2025-03-02T00:00:00",
          "2025-03-02T00:00:00",
          "2025-03-02T00:00:00",
          "2025-03-02T00:00:00",
          "2025-03-02T00:00:00",
          "2025-03-02T00:00:00",
          "2025-03-02T00:00:00",
          "2025-03-02T00:00:00",
          "2025-03-02T00:00:00",
          "2025-03-02T00:00:00",
          "2025-03-03T00:00:00",
          "2025-03-03T00:00:00",
          "2025-03-03T00:00:00",
          "2025-03-03T00:00:00",
          "2025-03-03T00:00:00",
          "2025-03-03T00:00:00",
          "2025-03-03T00:00:00",
          "2025-03-03T00:00:00",
          "2025-03-03T00:00:00",
          "2025-03-03T00:00:00",
          "2025-03-04T00:00:00",
          "2025-03-04T00:00:00",
          "2025-03-04T00:00:00",
          "2025-03-04T00:00:00",
          "2025-03-04T00:00:00",
          "2025-03-04T00:00:00",
          "2025-03-04T00:00:00",
          "2025-03-04T00:00:00",
          "2025-03-04T00:00:00",
          "2025-03-05T00:00:00",
          "2025-03-05T00:00:00",
          "2025-03-05T00:00:00",
          "2025-03-05T00:00:00",
          "2025-03-05T00:00:00",
          "2025-03-05T00:00:00",
          "2025-03-05T00:00:00",
          "2025-03-05T00:00:00",
          "2025-03-05T00:00:00",
          "2025-03-05T00:00:00",
          "2025-03-06T00:00:00",
          "2025-03-06T00:00:00",
          "2025-03-06T00:00:00",
          "2025-03-06T00:00:00",
          "2025-03-06T00:00:00",
          "2025-03-06T00:00:00",
          "2025-03-06T00:00:00",
          "2025-03-06T00:00:00",
          "2025-03-06T00:00:00",
          "2025-03-06T00:00:00",
          "2025-03-07T00:00:00",
          "2025-03-07T00:00:00",
          "2025-03-07T00:00:00",
          "2025-03-07T00:00:00",
          "2025-03-07T00:00:00",
          "2025-03-07T00:00:00",
          "2025-03-07T00:00:00",
          "2025-03-07T00:00:00",
          "2025-03-07T00:00:00",
          "2025-03-07T00:00:00",
          "2025-03-08T00:00:00",
          "2025-03-08T00:00:00",
          "2025-03-08T00:00:00",
          "2025-03-08T00:00:00",
          "2025-03-08T00:00:00",
          "2025-03-08T00:00:00",
          "2025-03-08T00:00:00",
          "2025-03-08T00:00:00",
          "2025-03-08T00:00:00",
          "2025-03-08T00:00:00"
         ],
         "x0": " ",
         "xaxis": "x",
         "y": [
          0,
          0,
          0,
          0,
          0,
          2.8499999999999996,
          1.8000000000000003,
          3.9999999999999996,
          6.65,
          2.75,
          4.9,
          3.3,
          5.3999999999999995,
          6.1,
          6.3,
          0.05,
          0.03,
          0,
          0,
          0,
          0,
          0,
          0.1,
          0,
          0,
          0,
          0,
          0,
          0,
          0,
          0,
          0,
          0,
          0,
          0,
          0,
          0,
          0,
          0,
          0,
          0,
          0,
          0,
          0,
          0,
          5.8,
          0,
          0.5,
          12.350000000000001,
          5.05,
          3.9000000000000004,
          9.500000000000002,
          6.8,
          9.1,
          11.9,
          1.3,
          0,
          0,
          3.7,
          1.7999999999999998,
          2.8000000000000003,
          3.2,
          2.3000000000000003,
          2.6999999999999997,
          3.1,
          0,
          0,
          0,
          0,
          0,
          0,
          0,
          0,
          0,
          0,
          0,
          0,
          0,
          0,
          0,
          0,
          0,
          0,
          0,
          0,
          0,
          0,
          0,
          0,
          0,
          0,
          0,
          0,
          0,
          0,
          0,
          0,
          0,
          0,
          0,
          0,
          0,
          0,
          0,
          0,
          0,
          0,
          0,
          0,
          0,
          0,
          0,
          0,
          0,
          0,
          0,
          0,
          0,
          0,
          0,
          0,
          0,
          0,
          0,
          0,
          0,
          0,
          0,
          0,
          0,
          0,
          0,
          0,
          0,
          0,
          0,
          0,
          0,
          0,
          0,
          0,
          0,
          0,
          0.4,
          0,
          0.1,
          0.2,
          0.3,
          0,
          1.1,
          0,
          0,
          0,
          0.05,
          0,
          0,
          2.4000000000000004,
          0.05,
          0,
          0.7999999999999999,
          0,
          0,
          0.1,
          0,
          0,
          0,
          0,
          0,
          0,
          0,
          0,
          0,
          0,
          0,
          0,
          0,
          0,
          0,
          0,
          0,
          0,
          0,
          0,
          0,
          0,
          0,
          0,
          0,
          0,
          0,
          0,
          0,
          0,
          0,
          0,
          0,
          0,
          0,
          0,
          0,
          0,
          0,
          0,
          0.8,
          0.45,
          0,
          1.2,
          0.65,
          1.7999999999999998,
          0.9,
          0,
          1.6,
          1.6,
          0.15000000000000002,
          0,
          0,
          0,
          0,
          0,
          0,
          0,
          0,
          0,
          4.8,
          0,
          0,
          10.350000000000001,
          6.699999999999999,
          10.900000000000002,
          10.099999999999998,
          6.6000000000000005,
          8,
          2.2,
          5,
          9.54,
          21.749999999999996,
          10.3,
          6.7,
          13.299999999999999,
          10.5,
          9.7,
          13.600000000000001,
          12.799999999999995,
          5.649999999999999,
          1.86,
          3.5,
          9.599999999999998,
          1.8,
          3.9,
          7.3999999999999995,
          7.999999999999998,
          4.500000000000001,
          5.999999999999999,
          5.85,
          3.4399999999999995,
          2.45,
          18.2,
          7.55,
          7.7,
          12.2,
          6.899999999999998,
          10.199999999999998,
          1.05,
          1.38,
          1.1,
          1.7500000000000002,
          1.2,
          1.2,
          0.8,
          1.8,
          1.5000000000000002,
          3.1,
          6.3999999999999995,
          6.16,
          10.05,
          13.4,
          5.500000000000001,
          14.2,
          11,
          15.5,
          15.7,
          14.699999999999998,
          4.1499999999999995,
          2.65,
          15.150000000000002,
          11.05,
          8.600000000000001,
          15.999999999999998,
          40.300000000000004,
          6.3,
          13.2,
          11,
          1.7500000000000002,
          1.04,
          3.9000000000000004,
          3.8,
          2,
          2.9999999999999996,
          2.1,
          1.9000000000000004,
          3.6,
          2.9000000000000004
         ],
         "y0": " ",
         "yaxis": "y"
        }
       ],
       "layout": {
        "boxmode": "group",
        "legend": {
         "tracegroupgap": 0
        },
        "template": {
         "data": {
          "bar": [
           {
            "error_x": {
             "color": "#2a3f5f"
            },
            "error_y": {
             "color": "#2a3f5f"
            },
            "marker": {
             "line": {
              "color": "#E5ECF6",
              "width": 0.5
             },
             "pattern": {
              "fillmode": "overlay",
              "size": 10,
              "solidity": 0.2
             }
            },
            "type": "bar"
           }
          ],
          "barpolar": [
           {
            "marker": {
             "line": {
              "color": "#E5ECF6",
              "width": 0.5
             },
             "pattern": {
              "fillmode": "overlay",
              "size": 10,
              "solidity": 0.2
             }
            },
            "type": "barpolar"
           }
          ],
          "carpet": [
           {
            "aaxis": {
             "endlinecolor": "#2a3f5f",
             "gridcolor": "white",
             "linecolor": "white",
             "minorgridcolor": "white",
             "startlinecolor": "#2a3f5f"
            },
            "baxis": {
             "endlinecolor": "#2a3f5f",
             "gridcolor": "white",
             "linecolor": "white",
             "minorgridcolor": "white",
             "startlinecolor": "#2a3f5f"
            },
            "type": "carpet"
           }
          ],
          "choropleth": [
           {
            "colorbar": {
             "outlinewidth": 0,
             "ticks": ""
            },
            "type": "choropleth"
           }
          ],
          "contour": [
           {
            "colorbar": {
             "outlinewidth": 0,
             "ticks": ""
            },
            "colorscale": [
             [
              0,
              "#0d0887"
             ],
             [
              0.1111111111111111,
              "#46039f"
             ],
             [
              0.2222222222222222,
              "#7201a8"
             ],
             [
              0.3333333333333333,
              "#9c179e"
             ],
             [
              0.4444444444444444,
              "#bd3786"
             ],
             [
              0.5555555555555556,
              "#d8576b"
             ],
             [
              0.6666666666666666,
              "#ed7953"
             ],
             [
              0.7777777777777778,
              "#fb9f3a"
             ],
             [
              0.8888888888888888,
              "#fdca26"
             ],
             [
              1,
              "#f0f921"
             ]
            ],
            "type": "contour"
           }
          ],
          "contourcarpet": [
           {
            "colorbar": {
             "outlinewidth": 0,
             "ticks": ""
            },
            "type": "contourcarpet"
           }
          ],
          "heatmap": [
           {
            "colorbar": {
             "outlinewidth": 0,
             "ticks": ""
            },
            "colorscale": [
             [
              0,
              "#0d0887"
             ],
             [
              0.1111111111111111,
              "#46039f"
             ],
             [
              0.2222222222222222,
              "#7201a8"
             ],
             [
              0.3333333333333333,
              "#9c179e"
             ],
             [
              0.4444444444444444,
              "#bd3786"
             ],
             [
              0.5555555555555556,
              "#d8576b"
             ],
             [
              0.6666666666666666,
              "#ed7953"
             ],
             [
              0.7777777777777778,
              "#fb9f3a"
             ],
             [
              0.8888888888888888,
              "#fdca26"
             ],
             [
              1,
              "#f0f921"
             ]
            ],
            "type": "heatmap"
           }
          ],
          "heatmapgl": [
           {
            "colorbar": {
             "outlinewidth": 0,
             "ticks": ""
            },
            "colorscale": [
             [
              0,
              "#0d0887"
             ],
             [
              0.1111111111111111,
              "#46039f"
             ],
             [
              0.2222222222222222,
              "#7201a8"
             ],
             [
              0.3333333333333333,
              "#9c179e"
             ],
             [
              0.4444444444444444,
              "#bd3786"
             ],
             [
              0.5555555555555556,
              "#d8576b"
             ],
             [
              0.6666666666666666,
              "#ed7953"
             ],
             [
              0.7777777777777778,
              "#fb9f3a"
             ],
             [
              0.8888888888888888,
              "#fdca26"
             ],
             [
              1,
              "#f0f921"
             ]
            ],
            "type": "heatmapgl"
           }
          ],
          "histogram": [
           {
            "marker": {
             "pattern": {
              "fillmode": "overlay",
              "size": 10,
              "solidity": 0.2
             }
            },
            "type": "histogram"
           }
          ],
          "histogram2d": [
           {
            "colorbar": {
             "outlinewidth": 0,
             "ticks": ""
            },
            "colorscale": [
             [
              0,
              "#0d0887"
             ],
             [
              0.1111111111111111,
              "#46039f"
             ],
             [
              0.2222222222222222,
              "#7201a8"
             ],
             [
              0.3333333333333333,
              "#9c179e"
             ],
             [
              0.4444444444444444,
              "#bd3786"
             ],
             [
              0.5555555555555556,
              "#d8576b"
             ],
             [
              0.6666666666666666,
              "#ed7953"
             ],
             [
              0.7777777777777778,
              "#fb9f3a"
             ],
             [
              0.8888888888888888,
              "#fdca26"
             ],
             [
              1,
              "#f0f921"
             ]
            ],
            "type": "histogram2d"
           }
          ],
          "histogram2dcontour": [
           {
            "colorbar": {
             "outlinewidth": 0,
             "ticks": ""
            },
            "colorscale": [
             [
              0,
              "#0d0887"
             ],
             [
              0.1111111111111111,
              "#46039f"
             ],
             [
              0.2222222222222222,
              "#7201a8"
             ],
             [
              0.3333333333333333,
              "#9c179e"
             ],
             [
              0.4444444444444444,
              "#bd3786"
             ],
             [
              0.5555555555555556,
              "#d8576b"
             ],
             [
              0.6666666666666666,
              "#ed7953"
             ],
             [
              0.7777777777777778,
              "#fb9f3a"
             ],
             [
              0.8888888888888888,
              "#fdca26"
             ],
             [
              1,
              "#f0f921"
             ]
            ],
            "type": "histogram2dcontour"
           }
          ],
          "mesh3d": [
           {
            "colorbar": {
             "outlinewidth": 0,
             "ticks": ""
            },
            "type": "mesh3d"
           }
          ],
          "parcoords": [
           {
            "line": {
             "colorbar": {
              "outlinewidth": 0,
              "ticks": ""
             }
            },
            "type": "parcoords"
           }
          ],
          "pie": [
           {
            "automargin": true,
            "type": "pie"
           }
          ],
          "scatter": [
           {
            "fillpattern": {
             "fillmode": "overlay",
             "size": 10,
             "solidity": 0.2
            },
            "type": "scatter"
           }
          ],
          "scatter3d": [
           {
            "line": {
             "colorbar": {
              "outlinewidth": 0,
              "ticks": ""
             }
            },
            "marker": {
             "colorbar": {
              "outlinewidth": 0,
              "ticks": ""
             }
            },
            "type": "scatter3d"
           }
          ],
          "scattercarpet": [
           {
            "marker": {
             "colorbar": {
              "outlinewidth": 0,
              "ticks": ""
             }
            },
            "type": "scattercarpet"
           }
          ],
          "scattergeo": [
           {
            "marker": {
             "colorbar": {
              "outlinewidth": 0,
              "ticks": ""
             }
            },
            "type": "scattergeo"
           }
          ],
          "scattergl": [
           {
            "marker": {
             "colorbar": {
              "outlinewidth": 0,
              "ticks": ""
             }
            },
            "type": "scattergl"
           }
          ],
          "scattermapbox": [
           {
            "marker": {
             "colorbar": {
              "outlinewidth": 0,
              "ticks": ""
             }
            },
            "type": "scattermapbox"
           }
          ],
          "scatterpolar": [
           {
            "marker": {
             "colorbar": {
              "outlinewidth": 0,
              "ticks": ""
             }
            },
            "type": "scatterpolar"
           }
          ],
          "scatterpolargl": [
           {
            "marker": {
             "colorbar": {
              "outlinewidth": 0,
              "ticks": ""
             }
            },
            "type": "scatterpolargl"
           }
          ],
          "scatterternary": [
           {
            "marker": {
             "colorbar": {
              "outlinewidth": 0,
              "ticks": ""
             }
            },
            "type": "scatterternary"
           }
          ],
          "surface": [
           {
            "colorbar": {
             "outlinewidth": 0,
             "ticks": ""
            },
            "colorscale": [
             [
              0,
              "#0d0887"
             ],
             [
              0.1111111111111111,
              "#46039f"
             ],
             [
              0.2222222222222222,
              "#7201a8"
             ],
             [
              0.3333333333333333,
              "#9c179e"
             ],
             [
              0.4444444444444444,
              "#bd3786"
             ],
             [
              0.5555555555555556,
              "#d8576b"
             ],
             [
              0.6666666666666666,
              "#ed7953"
             ],
             [
              0.7777777777777778,
              "#fb9f3a"
             ],
             [
              0.8888888888888888,
              "#fdca26"
             ],
             [
              1,
              "#f0f921"
             ]
            ],
            "type": "surface"
           }
          ],
          "table": [
           {
            "cells": {
             "fill": {
              "color": "#EBF0F8"
             },
             "line": {
              "color": "white"
             }
            },
            "header": {
             "fill": {
              "color": "#C8D4E3"
             },
             "line": {
              "color": "white"
             }
            },
            "type": "table"
           }
          ]
         },
         "layout": {
          "annotationdefaults": {
           "arrowcolor": "#2a3f5f",
           "arrowhead": 0,
           "arrowwidth": 1
          },
          "autotypenumbers": "strict",
          "coloraxis": {
           "colorbar": {
            "outlinewidth": 0,
            "ticks": ""
           }
          },
          "colorscale": {
           "diverging": [
            [
             0,
             "#8e0152"
            ],
            [
             0.1,
             "#c51b7d"
            ],
            [
             0.2,
             "#de77ae"
            ],
            [
             0.3,
             "#f1b6da"
            ],
            [
             0.4,
             "#fde0ef"
            ],
            [
             0.5,
             "#f7f7f7"
            ],
            [
             0.6,
             "#e6f5d0"
            ],
            [
             0.7,
             "#b8e186"
            ],
            [
             0.8,
             "#7fbc41"
            ],
            [
             0.9,
             "#4d9221"
            ],
            [
             1,
             "#276419"
            ]
           ],
           "sequential": [
            [
             0,
             "#0d0887"
            ],
            [
             0.1111111111111111,
             "#46039f"
            ],
            [
             0.2222222222222222,
             "#7201a8"
            ],
            [
             0.3333333333333333,
             "#9c179e"
            ],
            [
             0.4444444444444444,
             "#bd3786"
            ],
            [
             0.5555555555555556,
             "#d8576b"
            ],
            [
             0.6666666666666666,
             "#ed7953"
            ],
            [
             0.7777777777777778,
             "#fb9f3a"
            ],
            [
             0.8888888888888888,
             "#fdca26"
            ],
            [
             1,
             "#f0f921"
            ]
           ],
           "sequentialminus": [
            [
             0,
             "#0d0887"
            ],
            [
             0.1111111111111111,
             "#46039f"
            ],
            [
             0.2222222222222222,
             "#7201a8"
            ],
            [
             0.3333333333333333,
             "#9c179e"
            ],
            [
             0.4444444444444444,
             "#bd3786"
            ],
            [
             0.5555555555555556,
             "#d8576b"
            ],
            [
             0.6666666666666666,
             "#ed7953"
            ],
            [
             0.7777777777777778,
             "#fb9f3a"
            ],
            [
             0.8888888888888888,
             "#fdca26"
            ],
            [
             1,
             "#f0f921"
            ]
           ]
          },
          "colorway": [
           "#636efa",
           "#EF553B",
           "#00cc96",
           "#ab63fa",
           "#FFA15A",
           "#19d3f3",
           "#FF6692",
           "#B6E880",
           "#FF97FF",
           "#FECB52"
          ],
          "font": {
           "color": "#2a3f5f"
          },
          "geo": {
           "bgcolor": "white",
           "lakecolor": "white",
           "landcolor": "#E5ECF6",
           "showlakes": true,
           "showland": true,
           "subunitcolor": "white"
          },
          "hoverlabel": {
           "align": "left"
          },
          "hovermode": "closest",
          "mapbox": {
           "style": "light"
          },
          "paper_bgcolor": "white",
          "plot_bgcolor": "#E5ECF6",
          "polar": {
           "angularaxis": {
            "gridcolor": "white",
            "linecolor": "white",
            "ticks": ""
           },
           "bgcolor": "#E5ECF6",
           "radialaxis": {
            "gridcolor": "white",
            "linecolor": "white",
            "ticks": ""
           }
          },
          "scene": {
           "xaxis": {
            "backgroundcolor": "#E5ECF6",
            "gridcolor": "white",
            "gridwidth": 2,
            "linecolor": "white",
            "showbackground": true,
            "ticks": "",
            "zerolinecolor": "white"
           },
           "yaxis": {
            "backgroundcolor": "#E5ECF6",
            "gridcolor": "white",
            "gridwidth": 2,
            "linecolor": "white",
            "showbackground": true,
            "ticks": "",
            "zerolinecolor": "white"
           },
           "zaxis": {
            "backgroundcolor": "#E5ECF6",
            "gridcolor": "white",
            "gridwidth": 2,
            "linecolor": "white",
            "showbackground": true,
            "ticks": "",
            "zerolinecolor": "white"
           }
          },
          "shapedefaults": {
           "line": {
            "color": "#2a3f5f"
           }
          },
          "ternary": {
           "aaxis": {
            "gridcolor": "white",
            "linecolor": "white",
            "ticks": ""
           },
           "baxis": {
            "gridcolor": "white",
            "linecolor": "white",
            "ticks": ""
           },
           "bgcolor": "#E5ECF6",
           "caxis": {
            "gridcolor": "white",
            "linecolor": "white",
            "ticks": ""
           }
          },
          "title": {
           "x": 0.05
          },
          "xaxis": {
           "automargin": true,
           "gridcolor": "white",
           "linecolor": "white",
           "ticks": "",
           "title": {
            "standoff": 15
           },
           "zerolinecolor": "white",
           "zerolinewidth": 2
          },
          "yaxis": {
           "automargin": true,
           "gridcolor": "white",
           "linecolor": "white",
           "ticks": "",
           "title": {
            "standoff": 15
           },
           "zerolinecolor": "white",
           "zerolinewidth": 2
          }
         }
        },
        "title": {
         "text": "Distribución precipitaciones"
        },
        "xaxis": {
         "anchor": "y",
         "domain": [
          0,
          1
         ],
         "title": {
          "text": "fecha"
         }
        },
        "yaxis": {
         "anchor": "x",
         "domain": [
          0,
          1
         ],
         "title": {
          "text": "total"
         }
        }
       }
      },
      "text/html": [
       "<div>                            <div id=\"89f3747a-c717-4ade-bc9e-934913d4b287\" class=\"plotly-graph-div\" style=\"height:525px; width:100%;\"></div>            <script type=\"text/javascript\">                require([\"plotly\"], function(Plotly) {                    window.PLOTLYENV=window.PLOTLYENV || {};                                    if (document.getElementById(\"89f3747a-c717-4ade-bc9e-934913d4b287\")) {                    Plotly.newPlot(                        \"89f3747a-c717-4ade-bc9e-934913d4b287\",                        [{\"alignmentgroup\":\"True\",\"hovertemplate\":\"\\u003cb\\u003e%{hovertext}\\u003c\\u002fb\\u003e\\u003cbr\\u003e\\u003cbr\\u003efecha=%{x}\\u003cbr\\u003etotal=%{y}\\u003cextra\\u003e\\u003c\\u002fextra\\u003e\",\"hovertext\":[\"Casa de Campo\",\"Barrio del Pilar\",\"Ensanche de Vallecas\",\"Plaza El\\u00edptica\",\"Juan Carlos I\",\"Casa de Campo\",\"Barrio del Pilar\",\"Ensanche de Vallecas\",\"Plaza El\\u00edptica\",\"Juan Carlos I\",\"J.M.D. Moratalaz\",\"J.M.D. Villaverde\",\"Centro Mpal. De Ac\\u00fastica\",\"J.M.D. Hortaleza\",\"Pe\\u00f1agrande\",\"Casa de Campo\",\"Barrio del Pilar\",\"Ensanche de Vallecas\",\"Plaza El\\u00edptica\",\"Juan Carlos I\",\"J.M.D. Moratalaz\",\"J.M.D. Villaverde\",\"Centro Mpal. De Ac\\u00fastica\",\"J.M.D. Hortaleza\",\"Pe\\u00f1agrande\",\"Casa de Campo\",\"Barrio del Pilar\",\"Ensanche de Vallecas\",\"Plaza El\\u00edptica\",\"Juan Carlos I\",\"J.M.D. Moratalaz\",\"J.M.D. Villaverde\",\"Centro Mpal. De Ac\\u00fastica\",\"J.M.D. Hortaleza\",\"Pe\\u00f1agrande\",\"Casa de Campo\",\"Barrio del Pilar\",\"Ensanche de Vallecas\",\"Plaza El\\u00edptica\",\"Juan Carlos I\",\"J.M.D. Moratalaz\",\"J.M.D. Villaverde\",\"Centro Mpal. De Ac\\u00fastica\",\"J.M.D. Hortaleza\",\"Pe\\u00f1agrande\",\"Casa de Campo\",\"Barrio del Pilar\",\"Ensanche de Vallecas\",\"Plaza El\\u00edptica\",\"Juan Carlos I\",\"J.M.D. Moratalaz\",\"J.M.D. Villaverde\",\"Centro Mpal. De Ac\\u00fastica\",\"J.M.D. Hortaleza\",\"Pe\\u00f1agrande\",\"Casa de Campo\",\"Barrio del Pilar\",\"Ensanche de Vallecas\",\"Plaza El\\u00edptica\",\"Juan Carlos I\",\"J.M.D. Moratalaz\",\"J.M.D. Villaverde\",\"Centro Mpal. De Ac\\u00fastica\",\"J.M.D. Hortaleza\",\"Pe\\u00f1agrande\",\"Casa de Campo\",\"Barrio del Pilar\",\"Ensanche de Vallecas\",\"Plaza El\\u00edptica\",\"Juan Carlos I\",\"J.M.D. Moratalaz\",\"J.M.D. Villaverde\",\"Centro Mpal. De Ac\\u00fastica\",\"J.M.D. Hortaleza\",\"Pe\\u00f1agrande\",\"Casa de Campo\",\"Barrio del Pilar\",\"Ensanche de Vallecas\",\"Plaza El\\u00edptica\",\"Juan Carlos I\",\"J.M.D. Moratalaz\",\"J.M.D. Villaverde\",\"Centro Mpal. De Ac\\u00fastica\",\"J.M.D. Hortaleza\",\"Pe\\u00f1agrande\",\"Casa de Campo\",\"Barrio del Pilar\",\"Ensanche de Vallecas\",\"Plaza El\\u00edptica\",\"Juan Carlos I\",\"J.M.D. Moratalaz\",\"Centro Mpal. De Ac\\u00fastica\",\"J.M.D. Hortaleza\",\"Pe\\u00f1agrande\",\"Casa de Campo\",\"Barrio del Pilar\",\"Ensanche de Vallecas\",\"Plaza El\\u00edptica\",\"Juan Carlos I\",\"J.M.D. Moratalaz\",\"J.M.D. Villaverde\",\"Centro Mpal. De Ac\\u00fastica\",\"J.M.D. Hortaleza\",\"Pe\\u00f1agrande\",\"Casa de Campo\",\"Barrio del Pilar\",\"Ensanche de Vallecas\",\"Plaza El\\u00edptica\",\"Juan Carlos I\",\"J.M.D. Moratalaz\",\"J.M.D. Villaverde\",\"Centro Mpal. De Ac\\u00fastica\",\"J.M.D. Hortaleza\",\"Pe\\u00f1agrande\",\"Casa de Campo\",\"Barrio del Pilar\",\"Ensanche de Vallecas\",\"Plaza El\\u00edptica\",\"Juan Carlos I\",\"J.M.D. Moratalaz\",\"Centro Mpal. De Ac\\u00fastica\",\"J.M.D. Hortaleza\",\"Pe\\u00f1agrande\",\"Casa de Campo\",\"Barrio del Pilar\",\"Ensanche de Vallecas\",\"Plaza El\\u00edptica\",\"Juan Carlos I\",\"J.M.D. Moratalaz\",\"J.M.D. Villaverde\",\"Centro Mpal. De Ac\\u00fastica\",\"J.M.D. Hortaleza\",\"Pe\\u00f1agrande\",\"Casa de Campo\",\"Barrio del Pilar\",\"Ensanche de Vallecas\",\"Plaza El\\u00edptica\",\"Juan Carlos I\",\"J.M.D. Moratalaz\",\"J.M.D. Villaverde\",\"Centro Mpal. De Ac\\u00fastica\",\"J.M.D. Hortaleza\",\"Pe\\u00f1agrande\",\"Casa de Campo\",\"Barrio del Pilar\",\"Ensanche de Vallecas\",\"Plaza El\\u00edptica\",\"Juan Carlos I\",\"J.M.D. Moratalaz\",\"J.M.D. Villaverde\",\"Centro Mpal. De Ac\\u00fastica\",\"J.M.D. Hortaleza\",\"Pe\\u00f1agrande\",\"Casa de Campo\",\"Barrio del Pilar\",\"Ensanche de Vallecas\",\"Plaza El\\u00edptica\",\"Juan Carlos I\",\"J.M.D. Moratalaz\",\"J.M.D. Villaverde\",\"Centro Mpal. De Ac\\u00fastica\",\"J.M.D. Hortaleza\",\"Pe\\u00f1agrande\",\"Casa de Campo\",\"Barrio del Pilar\",\"Ensanche de Vallecas\",\"Plaza El\\u00edptica\",\"Juan Carlos I\",\"J.M.D. Moratalaz\",\"J.M.D. Villaverde\",\"Centro Mpal. De Ac\\u00fastica\",\"J.M.D. Hortaleza\",\"Pe\\u00f1agrande\",\"Casa de Campo\",\"Barrio del Pilar\",\"Ensanche de Vallecas\",\"Plaza El\\u00edptica\",\"Juan Carlos I\",\"J.M.D. Moratalaz\",\"J.M.D. Villaverde\",\"Centro Mpal. De Ac\\u00fastica\",\"J.M.D. Hortaleza\",\"Pe\\u00f1agrande\",\"Casa de Campo\",\"Barrio del Pilar\",\"Ensanche de Vallecas\",\"Plaza El\\u00edptica\",\"Juan Carlos I\",\"J.M.D. Moratalaz\",\"J.M.D. Villaverde\",\"Centro Mpal. De Ac\\u00fastica\",\"J.M.D. Hortaleza\",\"Pe\\u00f1agrande\",\"Casa de Campo\",\"Barrio del Pilar\",\"Ensanche de Vallecas\",\"Plaza El\\u00edptica\",\"Juan Carlos I\",\"J.M.D. Moratalaz\",\"J.M.D. Villaverde\",\"Centro Mpal. De Ac\\u00fastica\",\"J.M.D. Hortaleza\",\"Pe\\u00f1agrande\",\"Casa de Campo\",\"Barrio del Pilar\",\"Ensanche de Vallecas\",\"Plaza El\\u00edptica\",\"Juan Carlos I\",\"J.M.D. Moratalaz\",\"J.M.D. Villaverde\",\"Centro Mpal. De Ac\\u00fastica\",\"J.M.D. Hortaleza\",\"Pe\\u00f1agrande\",\"Casa de Campo\",\"Barrio del Pilar\",\"Ensanche de Vallecas\",\"Plaza El\\u00edptica\",\"Juan Carlos I\",\"J.M.D. Moratalaz\",\"J.M.D. Villaverde\",\"Centro Mpal. De Ac\\u00fastica\",\"J.M.D. Hortaleza\",\"Pe\\u00f1agrande\",\"Casa de Campo\",\"Barrio del Pilar\",\"Ensanche de Vallecas\",\"Plaza El\\u00edptica\",\"Juan Carlos I\",\"J.M.D. Moratalaz\",\"J.M.D. Villaverde\",\"Centro Mpal. De Ac\\u00fastica\",\"J.M.D. Hortaleza\",\"Pe\\u00f1agrande\",\"Casa de Campo\",\"Barrio del Pilar\",\"Ensanche de Vallecas\",\"Plaza El\\u00edptica\",\"Juan Carlos I\",\"J.M.D. Moratalaz\",\"J.M.D. Villaverde\",\"Centro Mpal. De Ac\\u00fastica\",\"J.M.D. Hortaleza\",\"Pe\\u00f1agrande\",\"Casa de Campo\",\"Barrio del Pilar\",\"Ensanche de Vallecas\",\"Plaza El\\u00edptica\",\"Juan Carlos I\",\"J.M.D. Moratalaz\",\"J.M.D. Villaverde\",\"Centro Mpal. De Ac\\u00fastica\",\"J.M.D. Hortaleza\",\"Pe\\u00f1agrande\",\"Casa de Campo\",\"Barrio del Pilar\",\"Ensanche de Vallecas\",\"Plaza El\\u00edptica\",\"Juan Carlos I\",\"J.M.D. Moratalaz\",\"Centro Mpal. De Ac\\u00fastica\",\"J.M.D. Hortaleza\",\"Pe\\u00f1agrande\",\"Casa de Campo\",\"Barrio del Pilar\",\"Ensanche de Vallecas\",\"Plaza El\\u00edptica\",\"Juan Carlos I\",\"J.M.D. Moratalaz\",\"J.M.D. Villaverde\",\"Centro Mpal. De Ac\\u00fastica\",\"J.M.D. Hortaleza\",\"Pe\\u00f1agrande\",\"Casa de Campo\",\"Barrio del Pilar\",\"Ensanche de Vallecas\",\"Plaza El\\u00edptica\",\"Juan Carlos I\",\"J.M.D. Moratalaz\",\"J.M.D. Villaverde\",\"Centro Mpal. De Ac\\u00fastica\",\"J.M.D. Hortaleza\",\"Pe\\u00f1agrande\",\"Casa de Campo\",\"Barrio del Pilar\",\"Ensanche de Vallecas\",\"Plaza El\\u00edptica\",\"Juan Carlos I\",\"J.M.D. Moratalaz\",\"J.M.D. Villaverde\",\"Centro Mpal. De Ac\\u00fastica\",\"J.M.D. Hortaleza\",\"Pe\\u00f1agrande\",\"Casa de Campo\",\"Barrio del Pilar\",\"Ensanche de Vallecas\",\"Plaza El\\u00edptica\",\"Juan Carlos I\",\"J.M.D. Moratalaz\",\"J.M.D. Villaverde\",\"Centro Mpal. De Ac\\u00fastica\",\"J.M.D. Hortaleza\",\"Pe\\u00f1agrande\"],\"legendgroup\":\"\",\"marker\":{\"color\":\"#636efa\"},\"name\":\"\",\"notched\":false,\"offsetgroup\":\"\",\"orientation\":\"v\",\"showlegend\":false,\"x\":[\"2025-02-06T00:00:00\",\"2025-02-06T00:00:00\",\"2025-02-06T00:00:00\",\"2025-02-06T00:00:00\",\"2025-02-06T00:00:00\",\"2025-02-07T00:00:00\",\"2025-02-07T00:00:00\",\"2025-02-07T00:00:00\",\"2025-02-07T00:00:00\",\"2025-02-07T00:00:00\",\"2025-02-07T00:00:00\",\"2025-02-07T00:00:00\",\"2025-02-07T00:00:00\",\"2025-02-07T00:00:00\",\"2025-02-07T00:00:00\",\"2025-02-08T00:00:00\",\"2025-02-08T00:00:00\",\"2025-02-08T00:00:00\",\"2025-02-08T00:00:00\",\"2025-02-08T00:00:00\",\"2025-02-08T00:00:00\",\"2025-02-08T00:00:00\",\"2025-02-08T00:00:00\",\"2025-02-08T00:00:00\",\"2025-02-08T00:00:00\",\"2025-02-09T00:00:00\",\"2025-02-09T00:00:00\",\"2025-02-09T00:00:00\",\"2025-02-09T00:00:00\",\"2025-02-09T00:00:00\",\"2025-02-09T00:00:00\",\"2025-02-09T00:00:00\",\"2025-02-09T00:00:00\",\"2025-02-09T00:00:00\",\"2025-02-09T00:00:00\",\"2025-02-10T00:00:00\",\"2025-02-10T00:00:00\",\"2025-02-10T00:00:00\",\"2025-02-10T00:00:00\",\"2025-02-10T00:00:00\",\"2025-02-10T00:00:00\",\"2025-02-10T00:00:00\",\"2025-02-10T00:00:00\",\"2025-02-10T00:00:00\",\"2025-02-10T00:00:00\",\"2025-02-11T00:00:00\",\"2025-02-11T00:00:00\",\"2025-02-11T00:00:00\",\"2025-02-11T00:00:00\",\"2025-02-11T00:00:00\",\"2025-02-11T00:00:00\",\"2025-02-11T00:00:00\",\"2025-02-11T00:00:00\",\"2025-02-11T00:00:00\",\"2025-02-11T00:00:00\",\"2025-02-12T00:00:00\",\"2025-02-12T00:00:00\",\"2025-02-12T00:00:00\",\"2025-02-12T00:00:00\",\"2025-02-12T00:00:00\",\"2025-02-12T00:00:00\",\"2025-02-12T00:00:00\",\"2025-02-12T00:00:00\",\"2025-02-12T00:00:00\",\"2025-02-12T00:00:00\",\"2025-02-13T00:00:00\",\"2025-02-13T00:00:00\",\"2025-02-13T00:00:00\",\"2025-02-13T00:00:00\",\"2025-02-13T00:00:00\",\"2025-02-13T00:00:00\",\"2025-02-13T00:00:00\",\"2025-02-13T00:00:00\",\"2025-02-13T00:00:00\",\"2025-02-13T00:00:00\",\"2025-02-14T00:00:00\",\"2025-02-14T00:00:00\",\"2025-02-14T00:00:00\",\"2025-02-14T00:00:00\",\"2025-02-14T00:00:00\",\"2025-02-14T00:00:00\",\"2025-02-14T00:00:00\",\"2025-02-14T00:00:00\",\"2025-02-14T00:00:00\",\"2025-02-14T00:00:00\",\"2025-02-15T00:00:00\",\"2025-02-15T00:00:00\",\"2025-02-15T00:00:00\",\"2025-02-15T00:00:00\",\"2025-02-15T00:00:00\",\"2025-02-15T00:00:00\",\"2025-02-15T00:00:00\",\"2025-02-15T00:00:00\",\"2025-02-15T00:00:00\",\"2025-02-16T00:00:00\",\"2025-02-16T00:00:00\",\"2025-02-16T00:00:00\",\"2025-02-16T00:00:00\",\"2025-02-16T00:00:00\",\"2025-02-16T00:00:00\",\"2025-02-16T00:00:00\",\"2025-02-16T00:00:00\",\"2025-02-16T00:00:00\",\"2025-02-16T00:00:00\",\"2025-02-17T00:00:00\",\"2025-02-17T00:00:00\",\"2025-02-17T00:00:00\",\"2025-02-17T00:00:00\",\"2025-02-17T00:00:00\",\"2025-02-17T00:00:00\",\"2025-02-17T00:00:00\",\"2025-02-17T00:00:00\",\"2025-02-17T00:00:00\",\"2025-02-17T00:00:00\",\"2025-02-18T00:00:00\",\"2025-02-18T00:00:00\",\"2025-02-18T00:00:00\",\"2025-02-18T00:00:00\",\"2025-02-18T00:00:00\",\"2025-02-18T00:00:00\",\"2025-02-18T00:00:00\",\"2025-02-18T00:00:00\",\"2025-02-18T00:00:00\",\"2025-02-19T00:00:00\",\"2025-02-19T00:00:00\",\"2025-02-19T00:00:00\",\"2025-02-19T00:00:00\",\"2025-02-19T00:00:00\",\"2025-02-19T00:00:00\",\"2025-02-19T00:00:00\",\"2025-02-19T00:00:00\",\"2025-02-19T00:00:00\",\"2025-02-19T00:00:00\",\"2025-02-20T00:00:00\",\"2025-02-20T00:00:00\",\"2025-02-20T00:00:00\",\"2025-02-20T00:00:00\",\"2025-02-20T00:00:00\",\"2025-02-20T00:00:00\",\"2025-02-20T00:00:00\",\"2025-02-20T00:00:00\",\"2025-02-20T00:00:00\",\"2025-02-20T00:00:00\",\"2025-02-21T00:00:00\",\"2025-02-21T00:00:00\",\"2025-02-21T00:00:00\",\"2025-02-21T00:00:00\",\"2025-02-21T00:00:00\",\"2025-02-21T00:00:00\",\"2025-02-21T00:00:00\",\"2025-02-21T00:00:00\",\"2025-02-21T00:00:00\",\"2025-02-21T00:00:00\",\"2025-02-22T00:00:00\",\"2025-02-22T00:00:00\",\"2025-02-22T00:00:00\",\"2025-02-22T00:00:00\",\"2025-02-22T00:00:00\",\"2025-02-22T00:00:00\",\"2025-02-22T00:00:00\",\"2025-02-22T00:00:00\",\"2025-02-22T00:00:00\",\"2025-02-22T00:00:00\",\"2025-02-23T00:00:00\",\"2025-02-23T00:00:00\",\"2025-02-23T00:00:00\",\"2025-02-23T00:00:00\",\"2025-02-23T00:00:00\",\"2025-02-23T00:00:00\",\"2025-02-23T00:00:00\",\"2025-02-23T00:00:00\",\"2025-02-23T00:00:00\",\"2025-02-23T00:00:00\",\"2025-02-24T00:00:00\",\"2025-02-24T00:00:00\",\"2025-02-24T00:00:00\",\"2025-02-24T00:00:00\",\"2025-02-24T00:00:00\",\"2025-02-24T00:00:00\",\"2025-02-24T00:00:00\",\"2025-02-24T00:00:00\",\"2025-02-24T00:00:00\",\"2025-02-24T00:00:00\",\"2025-02-25T00:00:00\",\"2025-02-25T00:00:00\",\"2025-02-25T00:00:00\",\"2025-02-25T00:00:00\",\"2025-02-25T00:00:00\",\"2025-02-25T00:00:00\",\"2025-02-25T00:00:00\",\"2025-02-25T00:00:00\",\"2025-02-25T00:00:00\",\"2025-02-25T00:00:00\",\"2025-02-26T00:00:00\",\"2025-02-26T00:00:00\",\"2025-02-26T00:00:00\",\"2025-02-26T00:00:00\",\"2025-02-26T00:00:00\",\"2025-02-26T00:00:00\",\"2025-02-26T00:00:00\",\"2025-02-26T00:00:00\",\"2025-02-26T00:00:00\",\"2025-02-26T00:00:00\",\"2025-02-27T00:00:00\",\"2025-02-27T00:00:00\",\"2025-02-27T00:00:00\",\"2025-02-27T00:00:00\",\"2025-02-27T00:00:00\",\"2025-02-27T00:00:00\",\"2025-02-27T00:00:00\",\"2025-02-27T00:00:00\",\"2025-02-27T00:00:00\",\"2025-02-27T00:00:00\",\"2025-02-28T00:00:00\",\"2025-02-28T00:00:00\",\"2025-02-28T00:00:00\",\"2025-02-28T00:00:00\",\"2025-02-28T00:00:00\",\"2025-02-28T00:00:00\",\"2025-02-28T00:00:00\",\"2025-02-28T00:00:00\",\"2025-02-28T00:00:00\",\"2025-02-28T00:00:00\",\"2025-03-01T00:00:00\",\"2025-03-01T00:00:00\",\"2025-03-01T00:00:00\",\"2025-03-01T00:00:00\",\"2025-03-01T00:00:00\",\"2025-03-01T00:00:00\",\"2025-03-01T00:00:00\",\"2025-03-01T00:00:00\",\"2025-03-01T00:00:00\",\"2025-03-01T00:00:00\",\"2025-03-02T00:00:00\",\"2025-03-02T00:00:00\",\"2025-03-02T00:00:00\",\"2025-03-02T00:00:00\",\"2025-03-02T00:00:00\",\"2025-03-02T00:00:00\",\"2025-03-02T00:00:00\",\"2025-03-02T00:00:00\",\"2025-03-02T00:00:00\",\"2025-03-02T00:00:00\",\"2025-03-03T00:00:00\",\"2025-03-03T00:00:00\",\"2025-03-03T00:00:00\",\"2025-03-03T00:00:00\",\"2025-03-03T00:00:00\",\"2025-03-03T00:00:00\",\"2025-03-03T00:00:00\",\"2025-03-03T00:00:00\",\"2025-03-03T00:00:00\",\"2025-03-03T00:00:00\",\"2025-03-04T00:00:00\",\"2025-03-04T00:00:00\",\"2025-03-04T00:00:00\",\"2025-03-04T00:00:00\",\"2025-03-04T00:00:00\",\"2025-03-04T00:00:00\",\"2025-03-04T00:00:00\",\"2025-03-04T00:00:00\",\"2025-03-04T00:00:00\",\"2025-03-05T00:00:00\",\"2025-03-05T00:00:00\",\"2025-03-05T00:00:00\",\"2025-03-05T00:00:00\",\"2025-03-05T00:00:00\",\"2025-03-05T00:00:00\",\"2025-03-05T00:00:00\",\"2025-03-05T00:00:00\",\"2025-03-05T00:00:00\",\"2025-03-05T00:00:00\",\"2025-03-06T00:00:00\",\"2025-03-06T00:00:00\",\"2025-03-06T00:00:00\",\"2025-03-06T00:00:00\",\"2025-03-06T00:00:00\",\"2025-03-06T00:00:00\",\"2025-03-06T00:00:00\",\"2025-03-06T00:00:00\",\"2025-03-06T00:00:00\",\"2025-03-06T00:00:00\",\"2025-03-07T00:00:00\",\"2025-03-07T00:00:00\",\"2025-03-07T00:00:00\",\"2025-03-07T00:00:00\",\"2025-03-07T00:00:00\",\"2025-03-07T00:00:00\",\"2025-03-07T00:00:00\",\"2025-03-07T00:00:00\",\"2025-03-07T00:00:00\",\"2025-03-07T00:00:00\",\"2025-03-08T00:00:00\",\"2025-03-08T00:00:00\",\"2025-03-08T00:00:00\",\"2025-03-08T00:00:00\",\"2025-03-08T00:00:00\",\"2025-03-08T00:00:00\",\"2025-03-08T00:00:00\",\"2025-03-08T00:00:00\",\"2025-03-08T00:00:00\",\"2025-03-08T00:00:00\"],\"x0\":\" \",\"xaxis\":\"x\",\"y\":[0.0,0.0,0.0,0.0,0.0,2.8499999999999996,1.8000000000000003,3.9999999999999996,6.65,2.75,4.9,3.3,5.3999999999999995,6.1,6.3,0.05,0.03,0.0,0.0,0.0,0.0,0.0,0.1,0.0,0.0,0.0,0.0,0.0,0.0,0.0,0.0,0.0,0.0,0.0,0.0,0.0,0.0,0.0,0.0,0.0,0.0,0.0,0.0,0.0,0.0,5.8,0.0,0.5,12.350000000000001,5.05,3.9000000000000004,9.500000000000002,6.8,9.1,11.9,1.3,0.0,0.0,3.7,1.7999999999999998,2.8000000000000003,3.2,2.3000000000000003,2.6999999999999997,3.1,0.0,0.0,0.0,0.0,0.0,0.0,0.0,0.0,0.0,0.0,0.0,0.0,0.0,0.0,0.0,0.0,0.0,0.0,0.0,0.0,0.0,0.0,0.0,0.0,0.0,0.0,0.0,0.0,0.0,0.0,0.0,0.0,0.0,0.0,0.0,0.0,0.0,0.0,0.0,0.0,0.0,0.0,0.0,0.0,0.0,0.0,0.0,0.0,0.0,0.0,0.0,0.0,0.0,0.0,0.0,0.0,0.0,0.0,0.0,0.0,0.0,0.0,0.0,0.0,0.0,0.0,0.0,0.0,0.0,0.0,0.0,0.0,0.0,0.0,0.0,0.0,0.0,0.0,0.4,0.0,0.1,0.2,0.3,0.0,1.1,0.0,0.0,0.0,0.05,0.0,0.0,2.4000000000000004,0.05,0.0,0.7999999999999999,0.0,0.0,0.1,0.0,0.0,0.0,0.0,0.0,0.0,0.0,0.0,0.0,0.0,0.0,0.0,0.0,0.0,0.0,0.0,0.0,0.0,0.0,0.0,0.0,0.0,0.0,0.0,0.0,0.0,0.0,0.0,0.0,0.0,0.0,0.0,0.0,0.0,0.0,0.0,0.0,0.0,0.0,0.0,0.8,0.45,0.0,1.2,0.65,1.7999999999999998,0.9,0.0,1.6,1.6,0.15000000000000002,0.0,0.0,0.0,0.0,0.0,0.0,0.0,0.0,0.0,4.8,0.0,0.0,10.350000000000001,6.699999999999999,10.900000000000002,10.099999999999998,6.6000000000000005,8.0,2.2,5.0,9.54,21.749999999999996,10.3,6.7,13.299999999999999,10.5,9.7,13.600000000000001,12.799999999999995,5.649999999999999,1.86,3.5,9.599999999999998,1.8,3.9,7.3999999999999995,7.999999999999998,4.500000000000001,5.999999999999999,5.85,3.4399999999999995,2.45,18.2,7.55,7.7,12.2,6.899999999999998,10.199999999999998,1.05,1.38,1.1,1.7500000000000002,1.2,1.2,0.8,1.8,1.5000000000000002,3.1,6.3999999999999995,6.16,10.05,13.4,5.500000000000001,14.2,11.0,15.5,15.7,14.699999999999998,4.1499999999999995,2.65,15.150000000000002,11.05,8.600000000000001,15.999999999999998,40.300000000000004,6.3,13.2,11.0,1.7500000000000002,1.04,3.9000000000000004,3.8,2.0,2.9999999999999996,2.1,1.9000000000000004,3.6,2.9000000000000004],\"y0\":\" \",\"yaxis\":\"y\",\"type\":\"box\"}],                        {\"template\":{\"data\":{\"histogram2dcontour\":[{\"type\":\"histogram2dcontour\",\"colorbar\":{\"outlinewidth\":0,\"ticks\":\"\"},\"colorscale\":[[0.0,\"#0d0887\"],[0.1111111111111111,\"#46039f\"],[0.2222222222222222,\"#7201a8\"],[0.3333333333333333,\"#9c179e\"],[0.4444444444444444,\"#bd3786\"],[0.5555555555555556,\"#d8576b\"],[0.6666666666666666,\"#ed7953\"],[0.7777777777777778,\"#fb9f3a\"],[0.8888888888888888,\"#fdca26\"],[1.0,\"#f0f921\"]]}],\"choropleth\":[{\"type\":\"choropleth\",\"colorbar\":{\"outlinewidth\":0,\"ticks\":\"\"}}],\"histogram2d\":[{\"type\":\"histogram2d\",\"colorbar\":{\"outlinewidth\":0,\"ticks\":\"\"},\"colorscale\":[[0.0,\"#0d0887\"],[0.1111111111111111,\"#46039f\"],[0.2222222222222222,\"#7201a8\"],[0.3333333333333333,\"#9c179e\"],[0.4444444444444444,\"#bd3786\"],[0.5555555555555556,\"#d8576b\"],[0.6666666666666666,\"#ed7953\"],[0.7777777777777778,\"#fb9f3a\"],[0.8888888888888888,\"#fdca26\"],[1.0,\"#f0f921\"]]}],\"heatmap\":[{\"type\":\"heatmap\",\"colorbar\":{\"outlinewidth\":0,\"ticks\":\"\"},\"colorscale\":[[0.0,\"#0d0887\"],[0.1111111111111111,\"#46039f\"],[0.2222222222222222,\"#7201a8\"],[0.3333333333333333,\"#9c179e\"],[0.4444444444444444,\"#bd3786\"],[0.5555555555555556,\"#d8576b\"],[0.6666666666666666,\"#ed7953\"],[0.7777777777777778,\"#fb9f3a\"],[0.8888888888888888,\"#fdca26\"],[1.0,\"#f0f921\"]]}],\"heatmapgl\":[{\"type\":\"heatmapgl\",\"colorbar\":{\"outlinewidth\":0,\"ticks\":\"\"},\"colorscale\":[[0.0,\"#0d0887\"],[0.1111111111111111,\"#46039f\"],[0.2222222222222222,\"#7201a8\"],[0.3333333333333333,\"#9c179e\"],[0.4444444444444444,\"#bd3786\"],[0.5555555555555556,\"#d8576b\"],[0.6666666666666666,\"#ed7953\"],[0.7777777777777778,\"#fb9f3a\"],[0.8888888888888888,\"#fdca26\"],[1.0,\"#f0f921\"]]}],\"contourcarpet\":[{\"type\":\"contourcarpet\",\"colorbar\":{\"outlinewidth\":0,\"ticks\":\"\"}}],\"contour\":[{\"type\":\"contour\",\"colorbar\":{\"outlinewidth\":0,\"ticks\":\"\"},\"colorscale\":[[0.0,\"#0d0887\"],[0.1111111111111111,\"#46039f\"],[0.2222222222222222,\"#7201a8\"],[0.3333333333333333,\"#9c179e\"],[0.4444444444444444,\"#bd3786\"],[0.5555555555555556,\"#d8576b\"],[0.6666666666666666,\"#ed7953\"],[0.7777777777777778,\"#fb9f3a\"],[0.8888888888888888,\"#fdca26\"],[1.0,\"#f0f921\"]]}],\"surface\":[{\"type\":\"surface\",\"colorbar\":{\"outlinewidth\":0,\"ticks\":\"\"},\"colorscale\":[[0.0,\"#0d0887\"],[0.1111111111111111,\"#46039f\"],[0.2222222222222222,\"#7201a8\"],[0.3333333333333333,\"#9c179e\"],[0.4444444444444444,\"#bd3786\"],[0.5555555555555556,\"#d8576b\"],[0.6666666666666666,\"#ed7953\"],[0.7777777777777778,\"#fb9f3a\"],[0.8888888888888888,\"#fdca26\"],[1.0,\"#f0f921\"]]}],\"mesh3d\":[{\"type\":\"mesh3d\",\"colorbar\":{\"outlinewidth\":0,\"ticks\":\"\"}}],\"scatter\":[{\"fillpattern\":{\"fillmode\":\"overlay\",\"size\":10,\"solidity\":0.2},\"type\":\"scatter\"}],\"parcoords\":[{\"type\":\"parcoords\",\"line\":{\"colorbar\":{\"outlinewidth\":0,\"ticks\":\"\"}}}],\"scatterpolargl\":[{\"type\":\"scatterpolargl\",\"marker\":{\"colorbar\":{\"outlinewidth\":0,\"ticks\":\"\"}}}],\"bar\":[{\"error_x\":{\"color\":\"#2a3f5f\"},\"error_y\":{\"color\":\"#2a3f5f\"},\"marker\":{\"line\":{\"color\":\"#E5ECF6\",\"width\":0.5},\"pattern\":{\"fillmode\":\"overlay\",\"size\":10,\"solidity\":0.2}},\"type\":\"bar\"}],\"scattergeo\":[{\"type\":\"scattergeo\",\"marker\":{\"colorbar\":{\"outlinewidth\":0,\"ticks\":\"\"}}}],\"scatterpolar\":[{\"type\":\"scatterpolar\",\"marker\":{\"colorbar\":{\"outlinewidth\":0,\"ticks\":\"\"}}}],\"histogram\":[{\"marker\":{\"pattern\":{\"fillmode\":\"overlay\",\"size\":10,\"solidity\":0.2}},\"type\":\"histogram\"}],\"scattergl\":[{\"type\":\"scattergl\",\"marker\":{\"colorbar\":{\"outlinewidth\":0,\"ticks\":\"\"}}}],\"scatter3d\":[{\"type\":\"scatter3d\",\"line\":{\"colorbar\":{\"outlinewidth\":0,\"ticks\":\"\"}},\"marker\":{\"colorbar\":{\"outlinewidth\":0,\"ticks\":\"\"}}}],\"scattermapbox\":[{\"type\":\"scattermapbox\",\"marker\":{\"colorbar\":{\"outlinewidth\":0,\"ticks\":\"\"}}}],\"scatterternary\":[{\"type\":\"scatterternary\",\"marker\":{\"colorbar\":{\"outlinewidth\":0,\"ticks\":\"\"}}}],\"scattercarpet\":[{\"type\":\"scattercarpet\",\"marker\":{\"colorbar\":{\"outlinewidth\":0,\"ticks\":\"\"}}}],\"carpet\":[{\"aaxis\":{\"endlinecolor\":\"#2a3f5f\",\"gridcolor\":\"white\",\"linecolor\":\"white\",\"minorgridcolor\":\"white\",\"startlinecolor\":\"#2a3f5f\"},\"baxis\":{\"endlinecolor\":\"#2a3f5f\",\"gridcolor\":\"white\",\"linecolor\":\"white\",\"minorgridcolor\":\"white\",\"startlinecolor\":\"#2a3f5f\"},\"type\":\"carpet\"}],\"table\":[{\"cells\":{\"fill\":{\"color\":\"#EBF0F8\"},\"line\":{\"color\":\"white\"}},\"header\":{\"fill\":{\"color\":\"#C8D4E3\"},\"line\":{\"color\":\"white\"}},\"type\":\"table\"}],\"barpolar\":[{\"marker\":{\"line\":{\"color\":\"#E5ECF6\",\"width\":0.5},\"pattern\":{\"fillmode\":\"overlay\",\"size\":10,\"solidity\":0.2}},\"type\":\"barpolar\"}],\"pie\":[{\"automargin\":true,\"type\":\"pie\"}]},\"layout\":{\"autotypenumbers\":\"strict\",\"colorway\":[\"#636efa\",\"#EF553B\",\"#00cc96\",\"#ab63fa\",\"#FFA15A\",\"#19d3f3\",\"#FF6692\",\"#B6E880\",\"#FF97FF\",\"#FECB52\"],\"font\":{\"color\":\"#2a3f5f\"},\"hovermode\":\"closest\",\"hoverlabel\":{\"align\":\"left\"},\"paper_bgcolor\":\"white\",\"plot_bgcolor\":\"#E5ECF6\",\"polar\":{\"bgcolor\":\"#E5ECF6\",\"angularaxis\":{\"gridcolor\":\"white\",\"linecolor\":\"white\",\"ticks\":\"\"},\"radialaxis\":{\"gridcolor\":\"white\",\"linecolor\":\"white\",\"ticks\":\"\"}},\"ternary\":{\"bgcolor\":\"#E5ECF6\",\"aaxis\":{\"gridcolor\":\"white\",\"linecolor\":\"white\",\"ticks\":\"\"},\"baxis\":{\"gridcolor\":\"white\",\"linecolor\":\"white\",\"ticks\":\"\"},\"caxis\":{\"gridcolor\":\"white\",\"linecolor\":\"white\",\"ticks\":\"\"}},\"coloraxis\":{\"colorbar\":{\"outlinewidth\":0,\"ticks\":\"\"}},\"colorscale\":{\"sequential\":[[0.0,\"#0d0887\"],[0.1111111111111111,\"#46039f\"],[0.2222222222222222,\"#7201a8\"],[0.3333333333333333,\"#9c179e\"],[0.4444444444444444,\"#bd3786\"],[0.5555555555555556,\"#d8576b\"],[0.6666666666666666,\"#ed7953\"],[0.7777777777777778,\"#fb9f3a\"],[0.8888888888888888,\"#fdca26\"],[1.0,\"#f0f921\"]],\"sequentialminus\":[[0.0,\"#0d0887\"],[0.1111111111111111,\"#46039f\"],[0.2222222222222222,\"#7201a8\"],[0.3333333333333333,\"#9c179e\"],[0.4444444444444444,\"#bd3786\"],[0.5555555555555556,\"#d8576b\"],[0.6666666666666666,\"#ed7953\"],[0.7777777777777778,\"#fb9f3a\"],[0.8888888888888888,\"#fdca26\"],[1.0,\"#f0f921\"]],\"diverging\":[[0,\"#8e0152\"],[0.1,\"#c51b7d\"],[0.2,\"#de77ae\"],[0.3,\"#f1b6da\"],[0.4,\"#fde0ef\"],[0.5,\"#f7f7f7\"],[0.6,\"#e6f5d0\"],[0.7,\"#b8e186\"],[0.8,\"#7fbc41\"],[0.9,\"#4d9221\"],[1,\"#276419\"]]},\"xaxis\":{\"gridcolor\":\"white\",\"linecolor\":\"white\",\"ticks\":\"\",\"title\":{\"standoff\":15},\"zerolinecolor\":\"white\",\"automargin\":true,\"zerolinewidth\":2},\"yaxis\":{\"gridcolor\":\"white\",\"linecolor\":\"white\",\"ticks\":\"\",\"title\":{\"standoff\":15},\"zerolinecolor\":\"white\",\"automargin\":true,\"zerolinewidth\":2},\"scene\":{\"xaxis\":{\"backgroundcolor\":\"#E5ECF6\",\"gridcolor\":\"white\",\"linecolor\":\"white\",\"showbackground\":true,\"ticks\":\"\",\"zerolinecolor\":\"white\",\"gridwidth\":2},\"yaxis\":{\"backgroundcolor\":\"#E5ECF6\",\"gridcolor\":\"white\",\"linecolor\":\"white\",\"showbackground\":true,\"ticks\":\"\",\"zerolinecolor\":\"white\",\"gridwidth\":2},\"zaxis\":{\"backgroundcolor\":\"#E5ECF6\",\"gridcolor\":\"white\",\"linecolor\":\"white\",\"showbackground\":true,\"ticks\":\"\",\"zerolinecolor\":\"white\",\"gridwidth\":2}},\"shapedefaults\":{\"line\":{\"color\":\"#2a3f5f\"}},\"annotationdefaults\":{\"arrowcolor\":\"#2a3f5f\",\"arrowhead\":0,\"arrowwidth\":1},\"geo\":{\"bgcolor\":\"white\",\"landcolor\":\"#E5ECF6\",\"subunitcolor\":\"white\",\"showland\":true,\"showlakes\":true,\"lakecolor\":\"white\"},\"title\":{\"x\":0.05},\"mapbox\":{\"style\":\"light\"}}},\"xaxis\":{\"anchor\":\"y\",\"domain\":[0.0,1.0],\"title\":{\"text\":\"fecha\"}},\"yaxis\":{\"anchor\":\"x\",\"domain\":[0.0,1.0],\"title\":{\"text\":\"total\"}},\"legend\":{\"tracegroupgap\":0},\"title\":{\"text\":\"Distribuci\\u00f3n precipitaciones\"},\"boxmode\":\"group\"},                        {\"responsive\": true}                    ).then(function(){\n",
       "                            \n",
       "var gd = document.getElementById('89f3747a-c717-4ade-bc9e-934913d4b287');\n",
       "var x = new MutationObserver(function (mutations, observer) {{\n",
       "        var display = window.getComputedStyle(gd).display;\n",
       "        if (!display || display === 'none') {{\n",
       "            console.log([gd, 'removed!']);\n",
       "            Plotly.purge(gd);\n",
       "            observer.disconnect();\n",
       "        }}\n",
       "}});\n",
       "\n",
       "// Listen for the removal of the full notebook cells\n",
       "var notebookContainer = gd.closest('#notebook-container');\n",
       "if (notebookContainer) {{\n",
       "    x.observe(notebookContainer, {childList: true});\n",
       "}}\n",
       "\n",
       "// Listen for the clearing of the current output cell\n",
       "var outputEl = gd.closest('.output');\n",
       "if (outputEl) {{\n",
       "    x.observe(outputEl, {childList: true});\n",
       "}}\n",
       "\n",
       "                        })                };                });            </script>        </div>"
      ]
     },
     "metadata": {},
     "output_type": "display_data"
    }
   ],
   "source": [
    "#boxplot\n",
    "df = pte2.DataFrame()\n",
    "\n",
    "fig = px.box(df, x= 'fecha', y = 'total', title = 'Distribución precipitaciones', hover_name='ESTACION_DESC')\n",
    "fig.show()\n"
   ]
  },
  {
   "cell_type": "code",
   "execution_count": 159,
   "metadata": {
    "vscode": {
     "languageId": "sql"
    }
   },
   "outputs": [],
   "source": [
    "%sql --close duckdb"
   ]
  }
 ],
 "metadata": {
  "kernelspec": {
   "display_name": ".venv",
   "language": "python",
   "name": "python3"
  },
  "language_info": {
   "codemirror_mode": {
    "name": "ipython",
    "version": 3
   },
   "file_extension": ".py",
   "mimetype": "text/x-python",
   "name": "python",
   "nbconvert_exporter": "python",
   "pygments_lexer": "ipython3",
   "version": "3.11.2"
  }
 },
 "nbformat": 4,
 "nbformat_minor": 2
}
