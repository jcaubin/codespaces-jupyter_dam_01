{
 "cells": [
  {
   "cell_type": "code",
   "execution_count": null,
   "metadata": {},
   "outputs": [],
   "source": [
    "import duckdb\n",
    "\n",
    "#conexion a bbdd en memoria o en fichero\n",
    "#conn = duckdb.connect() \n",
    "conn = duckdb.connect('/home/jcaubin/duck_rpt.db') \n",
    "\n",
    "%load_ext sql\n",
    "%sql conn --alias duckdb\n",
    "\n",
    "#limite de filas a mostrar\n",
    "%config SqlMagic.displaylimit = 100 "
   ]
  },
  {
   "cell_type": "code",
   "execution_count": null,
   "metadata": {},
   "outputs": [],
   "source": [
    "import requests\n",
    "import io\n",
    "import tempfile\n",
    "\n",
    "r = requests.get('https://datos.madrid.es/egob/catalogo/300678-6-personal-rpt-2024.csv')\n",
    "\n",
    "tf2 = tempfile.NamedTemporaryFile(mode='wt') \n",
    "tf2.write(r.text)\n",
    "\n",
    "\n",
    "\n",
    "r.status_code\n",
    "fn = tf2.name\n",
    "fn"
   ]
  },
  {
   "cell_type": "code",
   "execution_count": 36,
   "metadata": {},
   "outputs": [],
   "source": [
    "res = conn.execute(\"\"\"create or replace table rpt24 as\n",
    "select * from read_csv($param1);\"\"\", {'param1':tf2.name})"
   ]
  },
  {
   "cell_type": "code",
   "execution_count": null,
   "metadata": {
    "vscode": {
     "languageId": "sql"
    }
   },
   "outputs": [],
   "source": [
    "%%sql\n",
    "\n",
    "select list_aggregate(string_split(\"Área de gobierno/JM distrito/Org.aut.\", ' ')[3:],'string_agg', ' '  )as AREA  , \"Denominación unidad adscripción puesto\" UNIDAD, \"Denominación de puesto\" PUESTO, \"Nombre y apellidos\" EMPLEADO\n",
    "from rpt24\n",
    "where \"Nombre y apellidos\" is not null"
   ]
  }
 ],
 "metadata": {
  "kernelspec": {
   "display_name": ".venv",
   "language": "python",
   "name": "python3"
  },
  "language_info": {
   "codemirror_mode": {
    "name": "ipython",
    "version": 3
   },
   "file_extension": ".py",
   "mimetype": "text/x-python",
   "name": "python",
   "nbconvert_exporter": "python",
   "pygments_lexer": "ipython3",
   "version": "3.12.4"
  }
 },
 "nbformat": 4,
 "nbformat_minor": 2
}
