{
 "cells": [
  {
   "cell_type": "code",
   "execution_count": null,
   "metadata": {},
   "outputs": [],
   "source": [
    "import duckdb\n",
    "%load_ext sql\n",
    "\n",
    "#conexion a bbdd en memoria o en fichero\n",
    "#conn = duckdb.connect() \n",
    "conn = duckdb.connect('/home/jcaubin/duck_test.db') \n",
    "\n",
    "\n",
    "%sql conn --alias duckdb\n",
    "\n",
    "#limite de filas a mostrar\n",
    "%config SqlMagic.displaylimit = 10 "
   ]
  },
  {
   "cell_type": "code",
   "execution_count": null,
   "metadata": {
    "vscode": {
     "languageId": "sql"
    }
   },
   "outputs": [],
   "source": [
    "%%sql\n",
    "\n",
    "CREATE OR REPLACE VIEW V_CALAIR AS\n",
    "SELECT PROVINCIA, MUNICIPIO, ESTACION, MAGNITUD, PUNTO_MUESTREO, ANO, MES, DIA, H, VALOR, VALIDEZ, ESTACION_DESC, ALTITUD, PARAMETRO, FX_DATA\n",
    ",make_timestamp(ANO, CAST(MES AS INT), DIA, H, 0, 0.0) AS TS\n",
    "FROM CALAIR;"
   ]
  },
  {
   "cell_type": "code",
   "execution_count": null,
   "metadata": {
    "vscode": {
     "languageId": "sql"
    }
   },
   "outputs": [],
   "source": [
    "%%sql\n",
    "\n",
    "select *\n",
    "from V_CALAIR"
   ]
  },
  {
   "cell_type": "code",
   "execution_count": 7,
   "metadata": {
    "vscode": {
     "languageId": "sql"
    }
   },
   "outputs": [],
   "source": [
    "%sql --close duckdb"
   ]
  }
 ],
 "metadata": {
  "kernelspec": {
   "display_name": ".venv",
   "language": "python",
   "name": "python3"
  },
  "language_info": {
   "codemirror_mode": {
    "name": "ipython",
    "version": 3
   },
   "file_extension": ".py",
   "mimetype": "text/x-python",
   "name": "python",
   "nbconvert_exporter": "python",
   "pygments_lexer": "ipython3",
   "version": "3.11.2"
  }
 },
 "nbformat": 4,
 "nbformat_minor": 2
}
