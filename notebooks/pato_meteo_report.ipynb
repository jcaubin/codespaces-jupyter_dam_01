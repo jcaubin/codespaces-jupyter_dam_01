{
 "cells": [
  {
   "cell_type": "markdown",
   "metadata": {},
   "source": [
    "# Meteo con el pato\n",
    "\n",
    "### Este informe muestra los datos diarios de temperatura recogidos en el portal de datos abiertos del ayuntamiento.\n",
    "* dataset: **meteorologia-tiempo-real** "
   ]
  },
  {
   "cell_type": "code",
   "execution_count": 1,
   "metadata": {},
   "outputs": [],
   "source": [
    "%%capture\n",
    "import duckdb\n",
    "import hvplot.duckdb\n",
    "import panel as pn\n",
    "import hvplot.duckdb\n"
   ]
  },
  {
   "cell_type": "code",
   "execution_count": 2,
   "metadata": {},
   "outputs": [],
   "source": [
    "\n",
    "\n",
    "%load_ext sql\n",
    "#conexion a bbdd en memoria o en fichero\n",
    "conn = duckdb.connect() \n",
    "#conn = duckdb.connect('/home/jcaubin/duck_test.db') \n",
    "\n",
    "%sql conn --alias duckdb"
   ]
  },
  {
   "cell_type": "code",
   "execution_count": 3,
   "metadata": {
    "vscode": {
     "languageId": "sql"
    }
   },
   "outputs": [],
   "source": [
    "%%capture\n",
    "%%sql \n",
    "\n",
    "create or replace table meteo_today as\n",
    "select * from read_csv('https://datos.madrid.es/egob/catalogo/300392-11041819-meteorologia-tiempo-real.csv');"
   ]
  },
  {
   "cell_type": "code",
   "execution_count": 4,
   "metadata": {
    "vscode": {
     "languageId": "sql"
    }
   },
   "outputs": [],
   "source": [
    "%%capture\n",
    "%%sql\n",
    "\n",
    "create or replace table estaciones as\n",
    "select * from read_csv('https://datos.madrid.es/egob/catalogo/300360-1-meteorologicos-estaciones.csv')"
   ]
  },
  {
   "cell_type": "code",
   "execution_count": 5,
   "metadata": {
    "vscode": {
     "languageId": "sql"
    }
   },
   "outputs": [],
   "source": [
    "%%capture\n",
    "%%sql\n",
    "\n",
    "create or replace table magnitudes as\n",
    "select cast(CODIGO as int) CODIGO, PARAMETRO, UNIDAD, cast(COD_TECNICA as int) COD_TECNICA, TECNICA \n",
    "from read_csv('../maestras/parametros_meteo.csv')"
   ]
  },
  {
   "cell_type": "code",
   "execution_count": 6,
   "metadata": {
    "vscode": {
     "languageId": "sql"
    }
   },
   "outputs": [],
   "source": [
    "%%capture\n",
    "%%sql\n",
    "\n",
    "create or replace table td as\n",
    "select PROVINCIA, MUNICIPIO, ESTACION, MAGNITUD, PUNTO_MUESTREO,ANO, MES, DIA, cast(right(HORA,2) as int) H, VALOR\t from (\n",
    "from meteo_today\n",
    "unpivot (\n",
    "    (VALOR)\n",
    "for HORA in (\n",
    "    H01, \n",
    "    H02, \n",
    "    H03, \n",
    "    H04, \n",
    "    H05, \n",
    "    H06, \n",
    "    H07, \n",
    "    H08, \n",
    "    H09, \n",
    "    H10, \n",
    "    H11, \n",
    "    H12, \n",
    "    H13, \n",
    "    H14, \n",
    "    H15, \n",
    "    H16, \n",
    "    H17, \n",
    "    H18, \n",
    "    H19, \n",
    "    H20, \n",
    "    H21, \n",
    "    H22, \n",
    "    H23, \n",
    "    H24 \n",
    "    ) \n",
    ")\n",
    ");"
   ]
  },
  {
   "cell_type": "code",
   "execution_count": 7,
   "metadata": {
    "vscode": {
     "languageId": "sql"
    }
   },
   "outputs": [],
   "source": [
    "%%capture\n",
    "%%sql \n",
    "\n",
    "create or replace  table tv as\n",
    "select PROVINCIA, MUNICIPIO, ESTACION, MAGNITUD, PUNTO_MUESTREO,ANO, MES, DIA, cast(right(HORA,2) as int) H, VALIDEZ\t \n",
    "from (\n",
    "from meteo_today\n",
    "unpivot (\n",
    "    (VALIDEZ)\n",
    "for HORA in (\n",
    "    V01, \n",
    "    V02, \n",
    "    V03, \n",
    "    V04, \n",
    "    V05, \n",
    "    V06, \n",
    "    V07, \n",
    "    V08, \n",
    "    V09, \n",
    "    V10, \n",
    "    V11, \n",
    "    V12, \n",
    "    V13, \n",
    "    V14, \n",
    "    V15, \n",
    "    V16, \n",
    "    V17, \n",
    "    V18, \n",
    "    V19, \n",
    "    V20, \n",
    "    V21, \n",
    "    V22, \n",
    "    V23, \n",
    "    V24, \n",
    "    ) \n",
    " ))\n",
    " ;\n"
   ]
  },
  {
   "cell_type": "code",
   "execution_count": 8,
   "metadata": {
    "vscode": {
     "languageId": "sql"
    }
   },
   "outputs": [],
   "source": [
    "%%capture\n",
    "%%sql\n",
    "\n",
    "create or replace table meteo_madrid24 as\n",
    "select td.*, tv.VALIDEZ, e.ESTACION ESTACION_DESC, e.ALTITUD, m.PARAMETRO\n",
    "from td \n",
    "inner join tv on td.PROVINCIA=tv.PROVINCIA and \ttd.MUNICIPIO=tv.MUNICIPIO and td.ESTACION=tv.ESTACION and \ttd.MAGNITUD = tv.MAGNITUD\n",
    "    and \ttd.PUNTO_MUESTREO = tv.PUNTO_MUESTREO and td.ANO= tv.ANO and td.MES = tv.MES and TD.DIA = tv.DIA and td.H=tv.H\n",
    "inner join estaciones e on td.estacion = e.CÓDIGO_CORTO\n",
    "inner join magnitudes m on m.CODIGO = tv.MAGNITUD    "
   ]
  },
  {
   "cell_type": "markdown",
   "metadata": {},
   "source": [
    "## Temperatura"
   ]
  },
  {
   "cell_type": "code",
   "execution_count": 9,
   "metadata": {},
   "outputs": [],
   "source": [
    "query  = conn.sql(\"\"\"\n",
    "select estacion_desc, count(1)\n",
    "from  meteo_madrid24\n",
    "where\n",
    "magnitud = 83 --temperatura\n",
    "and validez = 'V'\n",
    "group by all;\n",
    "\"\"\")\n",
    "\n",
    "estaciones = query.fetchall()\n",
    "\n",
    "estaciones_list = sorted([e[0] for e in estaciones])\n",
    "\n"
   ]
  },
  {
   "cell_type": "code",
   "execution_count": null,
   "metadata": {},
   "outputs": [],
   "source": [
    "relation = conn.sql(\n",
    "    \"\"\"PIVOT(\n",
    "select estacion_desc, h, valor\n",
    "from meteo_madrid24\n",
    "where\n",
    "magnitud = 83 --temperatura\n",
    "and validez = 'V'\n",
    ")\n",
    "on ESTACION_DESC\n",
    "USING sum(VALOR)\n",
    "group by h\"\"\"\n",
    ")\n",
    "el = [\"El Pardo\", \"Escuelas Aguirre\", \"Casa de Campo\", \"Plaza España\", 'Peñagrande']\n",
    "\n",
    "plot = relation.hvplot.line(\n",
    "    y=el, x=\"h\"\n",
    ")\n",
    "\n",
    "pn.extension()  # for notebook\n",
    "pn.Column(plot)"
   ]
  },
  {
   "cell_type": "markdown",
   "metadata": {},
   "source": [
    "## Presion"
   ]
  },
  {
   "cell_type": "code",
   "execution_count": null,
   "metadata": {},
   "outputs": [],
   "source": [
    "relation2 = conn.sql(\n",
    "    \"\"\"PIVOT(\n",
    "select estacion_desc, h, valor\n",
    "from meteo_madrid24\n",
    "where\n",
    "magnitud = 87\n",
    "and validez = 'V'\n",
    ")\n",
    "on ESTACION_DESC\n",
    "USING sum(VALOR)\n",
    "group by h\"\"\"\n",
    ")\n",
    "\n",
    "plot2 = relation2.hvplot.line(\n",
    "    y=[\"Casa de Campo\", \"Juan Carlos I\"], x=\"H\"\n",
    ")\n",
    "\n",
    "pn.extension()  # for notebook\n",
    "pn.Column(plot2)"
   ]
  },
  {
   "cell_type": "code",
   "execution_count": null,
   "metadata": {},
   "outputs": [],
   "source": [
    "# imprime la hora de ejecución\n",
    "from datetime import datetime\n",
    "from IPython.display import display, Markdown\n",
    "\n",
    "t = datetime.now()\n",
    "display(Markdown(f\"### hora de ejecución: {t}\"))"
   ]
  }
 ],
 "metadata": {
  "kernelspec": {
   "display_name": ".venv",
   "language": "python",
   "name": "python3"
  },
  "language_info": {
   "codemirror_mode": {
    "name": "ipython",
    "version": 3
   },
   "file_extension": ".py",
   "mimetype": "text/x-python",
   "name": "python",
   "nbconvert_exporter": "python",
   "pygments_lexer": "ipython3",
   "version": "3.10.12"
  }
 },
 "nbformat": 4,
 "nbformat_minor": 2
}
