{
 "cells": [
  {
   "cell_type": "markdown",
   "metadata": {},
   "source": [
    "### catalogo de datos madrid"
   ]
  },
  {
   "cell_type": "code",
   "execution_count": 1,
   "metadata": {},
   "outputs": [],
   "source": [
    "#parse dcat xml\n",
    "import xml.etree.ElementTree as ET\n",
    "import urllib.request\n",
    "\n",
    "ns = {\n",
    "    'foaf': \"http://xmlns.com/foaf/0.1/\",\n",
    "    'skos': \"http://datos.gob.es/kos/sector-publico/sector/\",\n",
    "    'dcat': \"http://www.w3.org/ns/dcat#\",\n",
    "    'rdfs': \"http://www.w3.org/2000/01/rdf-schema#\",\n",
    "    'rdf': \"http://www.w3.org/1999/02/22-rdf-syntax-ns#\",\n",
    "    'dct': \"http://purl.org/dc/terms/\",\n",
    "    'dc': \"http://purl.org/dc/elements/1.1/\",\n",
    "    'time': \"http://www.w3.org/2006/time#\",\n",
    "    'xsd': \"http://www.w3.org/2001/XMLSchema#\",\n",
    "    'j.0': \"http://www.w3.org/1999/xhtml/vocab#\",\n",
    "    'j.1': \"http://a9.com/-/spec/opensearch/1.1/\",\n",
    "    'api': \"http://purl.org/linked-data/api/vocab#\",\n",
    "}\n",
    "\n",
    "\n",
    "\n"
   ]
  },
  {
   "cell_type": "code",
   "execution_count": 2,
   "metadata": {},
   "outputs": [
    {
     "data": {
      "text/plain": [
       "'{http://www.w3.org/1999/02/22-rdf-syntax-ns#}RDF'"
      ]
     },
     "execution_count": 2,
     "metadata": {},
     "output_type": "execute_result"
    }
   ],
   "source": [
    "with urllib.request.urlopen('https://datos.madrid.es/egob/catalogo.rdf') as f:\n",
    "    tree = ET.parse(f)\n",
    "    root = tree.getroot()\n",
    "\n",
    "root.tag"
   ]
  },
  {
   "cell_type": "code",
   "execution_count": 3,
   "metadata": {},
   "outputs": [
    {
     "data": {
      "text/plain": [
       "8906"
      ]
     },
     "execution_count": 3,
     "metadata": {},
     "output_type": "execute_result"
    }
   ],
   "source": [
    "from datetime import datetime\n",
    "ds_list = [{'indentifier': dataset.find('dct:identifier', ns).text,\n",
    "            'dataset_title': dataset.find('dct:title', ns).text\n",
    "            , 'theme': dataset.find('dcat:theme', ns).attrib.get('{http://www.w3.org/1999/02/22-rdf-syntax-ns#}resource')\n",
    "            , 'keywords': dataset.find('dcat:keyword', ns).text\n",
    "            , 'issued':  datetime.strptime(dataset.find('dct:issued', ns).text, '%Y-%m-%dT%H:%M:%S')\n",
    "            , 'modified': datetime.strptime(dataset.find('dct:modified', ns).text, '%Y-%m-%dT%H:%M:%S')\n",
    "            , 'frequency': dataset.find('dct:accrualPeriodicity/dct:Frequency/rdfs:label', ns).text if  dataset.find('dct:accrualPeriodicity/dct:Frequency/rdfs:label', ns) is not None else None\n",
    "            , 'distribution_title': distribution.find('dct:title', ns).text if distribution.find('dct:title', ns) is not None else None\n",
    "            , 'mediaType': distribution.find('dcat:mediaType', ns).text\n",
    "            , 'accessURL': distribution.find('dcat:accessURL', ns).text\n",
    "            }\n",
    "           for dataset\n",
    "           in root.findall('./dcat:Catalog/dcat:dataset/dcat:Dataset', ns)\n",
    "           for distribution\n",
    "           in dataset.findall('dcat:distribution/dcat:Distribution', ns)\n",
    "\n",
    "           ]\n",
    "\n",
    "len(ds_list)"
   ]
  },
  {
   "cell_type": "code",
   "execution_count": 4,
   "metadata": {},
   "outputs": [],
   "source": [
    "import polars as pl\n",
    "from datetime import datetime\n",
    "\n",
    "dfp = pl.DataFrame(ds_list)\n",
    "\n",
    "#dt = datetime.today().strftime('%Y%m%d')\n",
    "#dfp.write_csv(f'../data/catalogo_{dt}.csv', separator=';')"
   ]
  },
  {
   "cell_type": "markdown",
   "metadata": {},
   "source": [
    "### consultas con duckdb"
   ]
  },
  {
   "cell_type": "code",
   "execution_count": 5,
   "metadata": {},
   "outputs": [],
   "source": [
    "\n",
    "\n",
    "import duckdb\n",
    "conn = duckdb.connect()\n",
    "\n",
    "\n",
    "%load_ext sql\n",
    "%sql conn --alias duckdb\n",
    "%config SqlMagic.displaylimit = 100\n"
   ]
  },
  {
   "cell_type": "code",
   "execution_count": 6,
   "metadata": {},
   "outputs": [
    {
     "data": {
      "text/html": [
       "<span style=\"None\">Running query in &#x27;duckdb&#x27;</span>"
      ],
      "text/plain": [
       "Running query in 'duckdb'"
      ]
     },
     "metadata": {},
     "output_type": "display_data"
    },
    {
     "data": {
      "text/html": [
       "<table>\n",
       "    <thead>\n",
       "        <tr>\n",
       "            <th>Count</th>\n",
       "        </tr>\n",
       "    </thead>\n",
       "    <tbody>\n",
       "        <tr>\n",
       "            <td>8906</td>\n",
       "        </tr>\n",
       "    </tbody>\n",
       "</table>"
      ],
      "text/plain": [
       "+-------+\n",
       "| Count |\n",
       "+-------+\n",
       "|  8906 |\n",
       "+-------+"
      ]
     },
     "execution_count": 6,
     "metadata": {},
     "output_type": "execute_result"
    }
   ],
   "source": [
    "%%sql\n",
    "\n",
    "copy(\n",
    "select indentifier,\tdataset_title,\ttheme,\tkeywords,\tissued,\tmodified,\tfrequency, distribution_title, mediaType, accessURL, current_date() as fx_data\n",
    "from dfp\n",
    "group by all\n",
    "order by modified desc\n",
    "--limit 20\n",
    ") to '../data/catalogo_distribuciones_.csv' (HEADER, DELIMITER ';');"
   ]
  },
  {
   "cell_type": "code",
   "execution_count": 7,
   "metadata": {
    "vscode": {
     "languageId": "sql"
    }
   },
   "outputs": [
    {
     "data": {
      "text/html": [
       "<span style=\"None\">Running query in &#x27;duckdb&#x27;</span>"
      ],
      "text/plain": [
       "Running query in 'duckdb'"
      ]
     },
     "metadata": {},
     "output_type": "display_data"
    },
    {
     "data": {
      "text/html": [
       "<table>\n",
       "    <thead>\n",
       "        <tr>\n",
       "            <th>Count</th>\n",
       "        </tr>\n",
       "    </thead>\n",
       "    <tbody>\n",
       "        <tr>\n",
       "            <td>616</td>\n",
       "        </tr>\n",
       "    </tbody>\n",
       "</table>"
      ],
      "text/plain": [
       "+-------+\n",
       "| Count |\n",
       "+-------+\n",
       "|  616  |\n",
       "+-------+"
      ]
     },
     "execution_count": 7,
     "metadata": {},
     "output_type": "execute_result"
    }
   ],
   "source": [
    "%%sql\n",
    "\n",
    "copy(\n",
    "select indentifier,\tdataset_title,\ttheme,\tkeywords,\tissued,\tmodified,\tfrequency, count(*) n_dist\n",
    "from dfp\n",
    "group by all\n",
    "order by modified desc\n",
    "--limit 20\n",
    ") to '../data/catalogo_datasets_.csv' (HEADER, DELIMITER ';');\n"
   ]
  }
 ],
 "metadata": {
  "kernelspec": {
   "display_name": ".venv",
   "language": "python",
   "name": "python3"
  },
  "language_info": {
   "codemirror_mode": {
    "name": "ipython",
    "version": 3
   },
   "file_extension": ".py",
   "mimetype": "text/x-python",
   "name": "python",
   "nbconvert_exporter": "python",
   "pygments_lexer": "ipython3",
   "version": "3.10.4"
  }
 },
 "nbformat": 4,
 "nbformat_minor": 2
}
