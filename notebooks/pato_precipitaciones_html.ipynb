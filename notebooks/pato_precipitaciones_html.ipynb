{
 "cells": [
  {
   "cell_type": "markdown",
   "metadata": {},
   "source": [
    "# Precipitaciones\n",
    "## datos de precipitaciones en la red de estaciones de Madrid"
   ]
  },
  {
   "cell_type": "code",
   "execution_count": null,
   "metadata": {},
   "outputs": [],
   "source": [
    "%%html\n",
    "<!-- Google tag (gtag.js) --> \n",
    "\n",
    "<script async src=\"https://www.googletagmanager.com/gtag/js?id=G-BCBM9LRTT2\">\n",
    "</script> \n",
    "<script> \n",
    "  window.dataLayer = window.dataLayer || []; \n",
    "  function gtag(){\n",
    "    dataLayer.push(arguments);\n",
    "    } \n",
    "  gtag('js', new Date()); \n",
    "  gtag('config', 'G-BCBM9LRTT2'); \n",
    "</script>"
   ]
  },
  {
   "cell_type": "code",
   "execution_count": null,
   "metadata": {},
   "outputs": [],
   "source": [
    "%%html\n",
    "\n",
    "<a href=\"index.html\">General</a>"
   ]
  },
  {
   "cell_type": "code",
   "execution_count": null,
   "metadata": {},
   "outputs": [],
   "source": [
    "import duckdb\n",
    "import plotly.express as px"
   ]
  },
  {
   "cell_type": "code",
   "execution_count": null,
   "metadata": {},
   "outputs": [],
   "source": [
    "%%capture\n",
    "conn = duckdb.connect('/home/jcaubin/duck_test.db') \n",
    "\n",
    "%load_ext sql\n",
    "%sql conn --alias duckdb\n",
    "\n",
    "%config SqlMagic.displaylimit = 5 #conf de jupysql limite de filas a mostrar"
   ]
  },
  {
   "cell_type": "code",
   "execution_count": null,
   "metadata": {
    "vscode": {
     "languageId": "sql"
    }
   },
   "outputs": [],
   "source": [
    "%%sql --save precip_total_estacion\n",
    "\n",
    "\n",
    "pte2<<\n",
    "select ano, mes, dia, make_date(ano, cast(mes as int), dia) fecha , estacion,estacion_desc, sum(valor) total\n",
    "from v_CALAIR \n",
    "where magnitud = 89 --precipitacion \n",
    "and validez = 'V'\n",
    "--and estacion_desc in ['Casa de Campo'] --, 'Juan Carlos I', 'El Pardo','Peñagrande', 'Plaza Elíptica']\n",
    "and date_diff ('day',TS, current_date()) < (30)\n",
    "group by all\n",
    "order by all\n"
   ]
  },
  {
   "cell_type": "code",
   "execution_count": null,
   "metadata": {
    "vscode": {
     "languageId": "sql"
    }
   },
   "outputs": [],
   "source": [
    "%%sql \n",
    "pm<<\n",
    "select  fecha \n",
    ",avg(total) precip_media, max(total) precip_max, min(total) precip_min, median(total) precipt_mediana\n",
    ", stddev(total) desviacion, count(total) n\n",
    "from precip_total_estacion\n",
    "group by all\n",
    "order by all\n"
   ]
  },
  {
   "cell_type": "code",
   "execution_count": null,
   "metadata": {},
   "outputs": [],
   "source": [
    "#grafico de precipitaciones\n",
    "import plotly.express as px\n",
    "\n",
    "df = pm.DataFrame()\n",
    "fig = px.bar(df, x=\"fecha\", y=\"precip_media\", title = 'Precipitación media')\n",
    "fig.show()"
   ]
  },
  {
   "cell_type": "code",
   "execution_count": null,
   "metadata": {},
   "outputs": [],
   "source": [
    "#boxplot\n",
    "df = pte2.DataFrame()\n",
    "\n",
    "fig = px.box(df, x= 'fecha', y = 'total', title = 'Distribución precipitaciones', hover_name='ESTACION_DESC')\n",
    "fig.show()\n"
   ]
  },
  {
   "cell_type": "code",
   "execution_count": null,
   "metadata": {
    "vscode": {
     "languageId": "sql"
    }
   },
   "outputs": [],
   "source": [
    "%sql --close duckdb"
   ]
  }
 ],
 "metadata": {
  "kernelspec": {
   "display_name": ".venv",
   "language": "python",
   "name": "python3"
  },
  "language_info": {
   "codemirror_mode": {
    "name": "ipython",
    "version": 3
   },
   "file_extension": ".py",
   "mimetype": "text/x-python",
   "name": "python",
   "nbconvert_exporter": "python",
   "pygments_lexer": "ipython3",
   "version": "3.11.2"
  }
 },
 "nbformat": 4,
 "nbformat_minor": 2
}
