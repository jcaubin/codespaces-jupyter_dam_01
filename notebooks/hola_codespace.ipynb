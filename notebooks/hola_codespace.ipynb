{
 "cells": [
  {
   "cell_type": "code",
   "execution_count": 1,
   "metadata": {},
   "outputs": [
    {
     "name": "stdout",
     "output_type": "stream",
     "text": [
      "(614, 15)\n",
      "<class 'pandas.core.frame.DataFrame'>\n",
      "RangeIndex: 614 entries, 0 to 613\n",
      "Data columns (total 15 columns):\n",
      " #   Column                               Non-Null Count  Dtype \n",
      "---  ------                               --------------  ----- \n",
      " 0   Nombre                               614 non-null    object\n",
      " 1   Sector                               614 non-null    object\n",
      " 2   Palabras clave:                      612 non-null    object\n",
      " 3   Fecha de incorporación al catálogo:  614 non-null    object\n",
      " 4   Fecha de actualización:              438 non-null    object\n",
      " 5   Fecha de obtención de datos desde:   175 non-null    object\n",
      " 6   Fecha de obtención de datos hasta:   275 non-null    object\n",
      " 7   Frecuencia de actualización:         614 non-null    object\n",
      " 8   Responsable del conjunto de datos:   614 non-null    object\n",
      " 9   Editor:                              614 non-null    object\n",
      " 10  Licencia:                            614 non-null    object\n",
      " 11  Lugar:                               614 non-null    object\n",
      " 12  Formatos                             614 non-null    object\n",
      " 13  Descargas                            614 non-null    int64 \n",
      " 14  URL                                  614 non-null    object\n",
      "dtypes: int64(1), object(14)\n",
      "memory usage: 72.1+ KB\n",
      "None\n"
     ]
    }
   ],
   "source": [
    "#datos abiertos de AM\n",
    "\n",
    "import pandas as pd\n",
    "\n",
    "df = pd.read_csv('https://datos.madrid.es/egob/catalogo.csv', delimiter=';', encoding='iso-8859-1')\n",
    "print (df.shape)\n",
    "\n",
    "print(df.info())"
   ]
  },
  {
   "cell_type": "code",
   "execution_count": null,
   "metadata": {},
   "outputs": [],
   "source": [
    "df.head()"
   ]
  }
 ],
 "metadata": {
  "kernelspec": {
   "display_name": ".venv",
   "language": "python",
   "name": "python3"
  },
  "language_info": {
   "codemirror_mode": {
    "name": "ipython",
    "version": 3
   },
   "file_extension": ".py",
   "mimetype": "text/x-python",
   "name": "python",
   "nbconvert_exporter": "python",
   "pygments_lexer": "ipython3",
   "version": "3.12.1"
  }
 },
 "nbformat": 4,
 "nbformat_minor": 2
}
