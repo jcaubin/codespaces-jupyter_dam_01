{
 "cells": [
  {
   "cell_type": "code",
   "execution_count": 1,
   "metadata": {},
   "outputs": [],
   "source": [
    "#parse dcat xml\n",
    "import xml.etree.ElementTree as ET\n",
    "\n",
    "ns = {\n",
    "    'foaf': \"http://xmlns.com/foaf/0.1/\",\n",
    "    'skos': \"http://datos.gob.es/kos/sector-publico/sector/\",\n",
    "    'dcat': \"http://www.w3.org/ns/dcat#\",\n",
    "    'rdfs': \"http://www.w3.org/2000/01/rdf-schema#\",\n",
    "    'rdf': \"http://www.w3.org/1999/02/22-rdf-syntax-ns#\",\n",
    "    'dct': \"http://purl.org/dc/terms/\",\n",
    "    'dc': \"http://purl.org/dc/elements/1.1/\",\n",
    "    'time': \"http://www.w3.org/2006/time#\",\n",
    "    'xsd': \"http://www.w3.org/2001/XMLSchema#\",\n",
    "    'j.0': \"http://www.w3.org/1999/xhtml/vocab#\",\n",
    "    'j.1': \"http://a9.com/-/spec/opensearch/1.1/\",\n",
    "    'api': \"http://purl.org/linked-data/api/vocab#\",\n",
    "}\n",
    "\n",
    "\n",
    "\n"
   ]
  },
  {
   "cell_type": "code",
   "execution_count": 8,
   "metadata": {},
   "outputs": [],
   "source": [
    "#desde fichero\n",
    "with open('../data/catalog.rdf') as rdf:\n",
    "    tree = ET.parse(rdf)\n",
    "    root = tree.getroot()"
   ]
  },
  {
   "cell_type": "code",
   "execution_count": 2,
   "metadata": {},
   "outputs": [],
   "source": [
    "#desde url\n",
    "import urllib.request\n",
    "\n",
    "with urllib.request.urlopen('https://datos.madrid.es/egob/catalogo.rdf') as f:\n",
    "    tree = ET.parse(f)\n",
    "    root = tree.getroot()"
   ]
  },
  {
   "cell_type": "code",
   "execution_count": null,
   "metadata": {},
   "outputs": [],
   "source": [
    "for child in root:\n",
    "    print(child.tag)"
   ]
  },
  {
   "cell_type": "code",
   "execution_count": null,
   "metadata": {},
   "outputs": [],
   "source": [
    "catalog =root.find('dcat:Catalog', ns)\n",
    "print(catalog.tag)\n",
    "\n",
    "for dataset in catalog.findall('dcat:dataset', ns):\n",
    "    print(dataset.tag)"
   ]
  },
  {
   "cell_type": "code",
   "execution_count": null,
   "metadata": {},
   "outputs": [],
   "source": [
    "for dataset in root.findall('./dcat:Catalog/dcat:dataset/dcat:Dataset/dct:identifier', ns):\n",
    "    print(dataset.text)\n",
    "\n",
    "len(root.findall('./dcat:Catalog/dcat:dataset/dcat:Dataset/dct:identifier', ns))"
   ]
  },
  {
   "cell_type": "code",
   "execution_count": null,
   "metadata": {},
   "outputs": [],
   "source": [
    "for dataset in root.findall('./dcat:Catalog/dcat:dataset/dcat:Dataset', ns):\n",
    "    #print(dataset.find('dct:identifier',ns).text, dataset.find('dct:title',ns).text)\n",
    "    for distribution in dataset.findall('dcat:distribution/dcat:Distribution', ns):\n",
    "        print( dataset.find('dct:identifier',ns).text, \n",
    "              dataset.find('dct:title',ns).text,\n",
    "              distribution.find('dct:title', ns).text if distribution.find('dct:title', ns) else '', \n",
    "              distribution.find('dcat:mediaType', ns).text, \n",
    "              distribution.find('dcat:accessURL', ns).text,\n",
    "              sep='; ')\n",
    "\n",
    "    "
   ]
  },
  {
   "cell_type": "code",
   "execution_count": null,
   "metadata": {},
   "outputs": [],
   "source": [
    "ds_list = [{'indentifier': dataset.find('dct:identifier', ns).text,\n",
    "            'dataset_title': dataset.find('dct:title', ns).text\n",
    "            , 'theme': dataset.find('dcat:theme', ns).attrib.get('{http://www.w3.org/1999/02/22-rdf-syntax-ns#}resource')\n",
    "            , 'keywords': dataset.find('dcat:keyword', ns).text\n",
    "            , 'issued': dataset.find('dct:issued', ns).text\n",
    "            , 'modified': dataset.find('dct:modified', ns).text\n",
    "            , 'frequency': dataset.find('dct:accrualPeriodicity/dct:Frequency/rdfs:label', ns).text if  dataset.find('dct:accrualPeriodicity/dct:Frequency/rdfs:label', ns) is not None else None\n",
    "            , 'distribution_title': distribution.find('dct:title', ns).text if distribution.find('dct:title', ns) is not None else None\n",
    "            , 'mediaType': distribution.find('dcat:mediaType', ns).text\n",
    "            , 'accessURL': distribution.find('dcat:accessURL', ns).text\n",
    "            }\n",
    "           for dataset\n",
    "           in root.findall('./dcat:Catalog/dcat:dataset/dcat:Dataset', ns)\n",
    "           for distribution\n",
    "           in dataset.findall('dcat:distribution/dcat:Distribution', ns)\n",
    "\n",
    "           ]\n",
    "\n",
    "ds_list"
   ]
  },
  {
   "cell_type": "code",
   "execution_count": 6,
   "metadata": {},
   "outputs": [],
   "source": [
    "import polars as pl\n",
    "\n",
    "dfp = pl.DataFrame(ds_list)\n",
    "dfp.write_csv('../data/catalogo2.csv', separator=';', include_bom=True)"
   ]
  }
 ],
 "metadata": {
  "kernelspec": {
   "display_name": ".venv",
   "language": "python",
   "name": "python3"
  },
  "language_info": {
   "codemirror_mode": {
    "name": "ipython",
    "version": 3
   },
   "file_extension": ".py",
   "mimetype": "text/x-python",
   "name": "python",
   "nbconvert_exporter": "python",
   "pygments_lexer": "ipython3",
   "version": "3.12.1"
  }
 },
 "nbformat": 4,
 "nbformat_minor": 2
}
