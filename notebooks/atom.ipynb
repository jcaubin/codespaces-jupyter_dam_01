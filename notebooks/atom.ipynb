{
 "cells": [
  {
   "cell_type": "code",
   "execution_count": 1,
   "metadata": {},
   "outputs": [
    {
     "name": "stdout",
     "output_type": "stream",
     "text": [
      "Collecting atoma\n",
      "  Downloading atoma-0.0.17-py3-none-any.whl.metadata (4.9 kB)\n",
      "Collecting defusedxml (from atoma)\n",
      "  Downloading defusedxml-0.7.1-py2.py3-none-any.whl.metadata (32 kB)\n",
      "Requirement already satisfied: attrs in /workspaces/codespaces-jupyter/.venv/lib/python3.12/site-packages (from atoma) (24.2.0)\n",
      "Requirement already satisfied: python-dateutil in /workspaces/codespaces-jupyter/.venv/lib/python3.12/site-packages (from atoma) (2.9.0.post0)\n",
      "Requirement already satisfied: six>=1.5 in /workspaces/codespaces-jupyter/.venv/lib/python3.12/site-packages (from python-dateutil->atoma) (1.16.0)\n",
      "Downloading atoma-0.0.17-py3-none-any.whl (13 kB)\n",
      "Downloading defusedxml-0.7.1-py2.py3-none-any.whl (25 kB)\n",
      "Installing collected packages: defusedxml, atoma\n",
      "Successfully installed atoma-0.0.17 defusedxml-0.7.1\n",
      "Note: you may need to restart the kernel to use updated packages.\n"
     ]
    }
   ],
   "source": [
    "%pip install atoma"
   ]
  },
  {
   "cell_type": "code",
   "execution_count": 2,
   "metadata": {},
   "outputs": [
    {
     "data": {
      "text/plain": [
       "\"Armin Ronacher's Thoughts and Writings\""
      ]
     },
     "execution_count": 2,
     "metadata": {},
     "output_type": "execute_result"
    }
   ],
   "source": [
    "import atoma, requests\n",
    "\n",
    "response = requests.get('http://lucumr.pocoo.org/feed.atom')\n",
    "feed = atoma.parse_atom_bytes(response.content)\n",
    "feed.title.value"
   ]
  },
  {
   "cell_type": "code",
   "execution_count": null,
   "metadata": {},
   "outputs": [],
   "source": [
    "import atoma\n",
    "\n",
    "feed = atoma.parse_rss_file('rss-feed.xml')\n",
    "\n",
    "display(feed.description)\n",
    "display(len(feed.items))\n"
   ]
  }
 ],
 "metadata": {
  "kernelspec": {
   "display_name": ".venv",
   "language": "python",
   "name": "python3"
  },
  "language_info": {
   "codemirror_mode": {
    "name": "ipython",
    "version": 3
   },
   "file_extension": ".py",
   "mimetype": "text/x-python",
   "name": "python",
   "nbconvert_exporter": "python",
   "pygments_lexer": "ipython3",
   "version": "3.12.1"
  }
 },
 "nbformat": 4,
 "nbformat_minor": 2
}
