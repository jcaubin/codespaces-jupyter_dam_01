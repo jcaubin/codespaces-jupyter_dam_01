{
 "cells": [
  {
   "cell_type": "markdown",
   "metadata": {},
   "source": [
    "# Meteo con el pato\n",
    "\n",
    "### Craga de datos en el pato\n",
    "* dataset: **meteorologia-tiempo-real** "
   ]
  },
  {
   "cell_type": "code",
   "execution_count": null,
   "metadata": {},
   "outputs": [],
   "source": [
    "%%capture\n",
    "import duckdb\n",
    "\n",
    "#conexion a bbdd en memoria o en fichero\n",
    "#conn = duckdb.connect() \n",
    "conn = duckdb.connect('/home/jcaubin/duck_test.db') \n",
    "\n",
    "%load_ext sql\n",
    "%sql conn --alias duckdb\n",
    "\n",
    "#limite de filas a mostrar\n",
    "%config SqlMagic.displaylimit = 100 "
   ]
  },
  {
   "cell_type": "code",
   "execution_count": null,
   "metadata": {},
   "outputs": [],
   "source": [
    "# imprime la hora de ejecución\n",
    "from datetime import datetime\n",
    "from IPython.display import display, Markdown\n",
    "\n",
    "t = datetime.now()\n",
    "display(Markdown(f\"### hora de ejecución: {t}\"))"
   ]
  },
  {
   "cell_type": "code",
   "execution_count": null,
   "metadata": {},
   "outputs": [],
   "source": [
    "import requests\n",
    "\n",
    "response = requests.get('https://datos.madrid.es/egob/catalogo/300392-11041819-meteorologia-tiempo-real.csv')\n",
    "if response.status_code==200:\n",
    "    with open('../data/300392-11041819-meteorologia-tiempo-real.csv', 'wb') as tmp_file:\n",
    "        tmp_file.write(response.content)\n"
   ]
  },
  {
   "cell_type": "code",
   "execution_count": null,
   "metadata": {
    "vscode": {
     "languageId": "sql"
    }
   },
   "outputs": [],
   "source": [
    "%%sql \n",
    "\n",
    "create or replace table meteo_today as\n",
    "select * from read_csv('../data/300392-11041819-meteorologia-tiempo-real.csv');"
   ]
  },
  {
   "cell_type": "code",
   "execution_count": null,
   "metadata": {
    "vscode": {
     "languageId": "sql"
    }
   },
   "outputs": [],
   "source": [
    "\n",
    "%%sql\n",
    "\n",
    "create or replace table estaciones as\n",
    "select * from read_csv('https://datos.madrid.es/egob/catalogo/300360-1-meteorologicos-estaciones.csv')"
   ]
  },
  {
   "cell_type": "code",
   "execution_count": null,
   "metadata": {
    "vscode": {
     "languageId": "sql"
    }
   },
   "outputs": [],
   "source": [
    "\n",
    "%%sql\n",
    "\n",
    "create or replace table magnitudes as\n",
    "select cast(CODIGO as int) CODIGO, PARAMETRO, UNIDAD, cast(COD_TECNICA as int) COD_TECNICA, TECNICA \n",
    "from read_csv('../maestras/parametros_meteo.csv')"
   ]
  },
  {
   "cell_type": "code",
   "execution_count": null,
   "metadata": {
    "vscode": {
     "languageId": "sql"
    }
   },
   "outputs": [],
   "source": [
    "%%sql \n",
    "\n",
    "create or replace table td as\n",
    "select PROVINCIA, MUNICIPIO, ESTACION, MAGNITUD, PUNTO_MUESTREO,ANO, MES, DIA, cast(right(HORA,2) as int) H, VALOR\t from (\n",
    "from meteo_today\n",
    "unpivot (\n",
    "    (VALOR)\n",
    "for HORA in (\n",
    "    H01, \n",
    "    H02, \n",
    "    H03, \n",
    "    H04, \n",
    "    H05, \n",
    "    H06, \n",
    "    H07, \n",
    "    H08, \n",
    "    H09, \n",
    "    H10, \n",
    "    H11, \n",
    "    H12, \n",
    "    H13, \n",
    "    H14, \n",
    "    H15, \n",
    "    H16, \n",
    "    H17, \n",
    "    H18, \n",
    "    H19, \n",
    "    H20, \n",
    "    H21, \n",
    "    H22, \n",
    "    H23, \n",
    "    H24 \n",
    "    ) \n",
    ")\n",
    ");"
   ]
  },
  {
   "cell_type": "code",
   "execution_count": null,
   "metadata": {
    "vscode": {
     "languageId": "sql"
    }
   },
   "outputs": [],
   "source": [
    "%%sql \n",
    "\n",
    "create or replace  table tv as\n",
    "select PROVINCIA, MUNICIPIO, ESTACION, MAGNITUD, PUNTO_MUESTREO,ANO, MES, DIA, cast(right(HORA,2) as int) H, VALIDEZ\t \n",
    "from (\n",
    "from meteo_today\n",
    "unpivot (\n",
    "    (VALIDEZ)\n",
    "for HORA in (\n",
    "    V01, \n",
    "    V02, \n",
    "    V03, \n",
    "    V04, \n",
    "    V05, \n",
    "    V06, \n",
    "    V07, \n",
    "    V08, \n",
    "    V09, \n",
    "    V10, \n",
    "    V11, \n",
    "    V12, \n",
    "    V13, \n",
    "    V14, \n",
    "    V15, \n",
    "    V16, \n",
    "    V17, \n",
    "    V18, \n",
    "    V19, \n",
    "    V20, \n",
    "    V21, \n",
    "    V22, \n",
    "    V23, \n",
    "    V24, \n",
    "    ) \n",
    " ))\n",
    " ;\n"
   ]
  },
  {
   "cell_type": "code",
   "execution_count": null,
   "metadata": {
    "vscode": {
     "languageId": "sql"
    }
   },
   "outputs": [],
   "source": [
    "%%sql\n",
    "\n",
    "select td.PROVINCIA, td.MUNICIPIO, td.ESTACION, td.MAGNITUD\n",
    "    , concat(td.PROVINCIA, td.MUNICIPIO, td.ESTACION,  '_' ,td.MAGNITUD, '_98') PUNTO_MUESTREO, td.ANO, td.MES, td.DIA, td.H, td.VALOR \n",
    "    , tv.VALIDEZ, e.ESTACION ESTACION_DESC, e.ALTITUD, m.PARAMETRO\n",
    "from td \n",
    "inner join tv on td.PROVINCIA=tv.PROVINCIA and \ttd.MUNICIPIO=tv.MUNICIPIO and td.ESTACION=tv.ESTACION and \ttd.MAGNITUD = tv.MAGNITUD\n",
    "    and  td.ANO= tv.ANO and td.MES = tv.MES and TD.DIA = tv.DIA and td.H=tv.H\n",
    "inner join estaciones e on td.estacion = e.CÓDIGO_CORTO\n",
    "inner join magnitudes m on m.CODIGO = tv.MAGNITUD "
   ]
  },
  {
   "cell_type": "code",
   "execution_count": null,
   "metadata": {
    "vscode": {
     "languageId": "sql"
    }
   },
   "outputs": [],
   "source": [
    "%%sql \n",
    "\n",
    "create or replace table meteo_madrid24 as(\n",
    "select td.PROVINCIA, td.MUNICIPIO, td.ESTACION, td.MAGNITUD\n",
    "    , concat(td.PROVINCIA, td.MUNICIPIO, td.ESTACION,  '_' ,td.MAGNITUD, '_98') PUNTO_MUESTREO, td.ANO, td.MES, td.DIA, td.H, td.VALOR \n",
    "    , tv.VALIDEZ, e.ESTACION ESTACION_DESC, e.ALTITUD, m.PARAMETRO\n",
    "from td \n",
    "inner join tv on td.PROVINCIA=tv.PROVINCIA and \ttd.MUNICIPIO=tv.MUNICIPIO and td.ESTACION=tv.ESTACION and \ttd.MAGNITUD = tv.MAGNITUD\n",
    "    and  td.ANO= tv.ANO and td.MES = tv.MES and TD.DIA = tv.DIA and td.H=tv.H\n",
    "inner join estaciones e on td.estacion = e.CÓDIGO_CORTO\n",
    "inner join magnitudes m on m.CODIGO = tv.MAGNITUD \n",
    ")"
   ]
  },
  {
   "cell_type": "code",
   "execution_count": null,
   "metadata": {
    "vscode": {
     "languageId": "sql"
    }
   },
   "outputs": [],
   "source": [
    "%%sql\n",
    "select punto_muestreo, count(1)\n",
    "from calair\n",
    "group by all\n",
    "order by all"
   ]
  },
  {
   "cell_type": "code",
   "execution_count": null,
   "metadata": {
    "vscode": {
     "languageId": "sql"
    }
   },
   "outputs": [],
   "source": [
    "%%sql\n",
    "/*MEGE de datos con la tabla principal*/\n",
    "INSERT OR REPLACE INTO CALAIR BY NAME \n",
    "SELECT PROVINCIA, MUNICIPIO, ESTACION, MAGNITUD, PUNTO_MUESTREO, ANO, MES, DIA, H, VALOR, VALIDEZ, ESTACION_DESC, ALTITUD, PARAMETRO\n",
    "FROM duck_test.main.meteo_madrid24;"
   ]
  },
  {
   "cell_type": "code",
   "execution_count": null,
   "metadata": {
    "vscode": {
     "languageId": "sql"
    }
   },
   "outputs": [],
   "source": [
    "%%sql\n",
    "\n",
    "SELECT  ANO, MES, DIA, COUNT(1) n\n",
    "FROM duck_test.main.calair\n",
    "GROUP BY ALL\n",
    "order by all;"
   ]
  },
  {
   "cell_type": "code",
   "execution_count": null,
   "metadata": {
    "vscode": {
     "languageId": "sql"
    }
   },
   "outputs": [],
   "source": [
    "%sql --close duckdb"
   ]
  }
 ],
 "metadata": {
  "kernelspec": {
   "display_name": ".venv",
   "language": "python",
   "name": "python3"
  },
  "language_info": {
   "codemirror_mode": {
    "name": "ipython",
    "version": 3
   },
   "file_extension": ".py",
   "mimetype": "text/x-python",
   "name": "python",
   "nbconvert_exporter": "python",
   "pygments_lexer": "ipython3",
   "version": "3.11.2"
  }
 },
 "nbformat": 4,
 "nbformat_minor": 2
}
